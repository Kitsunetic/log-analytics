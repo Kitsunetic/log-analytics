{
 "cells": [
  {
   "cell_type": "code",
   "execution_count": 1,
   "id": "provincial-preview",
   "metadata": {},
   "outputs": [
    {
     "name": "stdout",
     "output_type": "stream",
     "text": [
      "/home/shim/shim/dev/log-analytics\n"
     ]
    }
   ],
   "source": [
    "%load_ext lab_black\n",
    "%cd ../../.."
   ]
  },
  {
   "cell_type": "code",
   "execution_count": 2,
   "id": "nutritional-ethnic",
   "metadata": {},
   "outputs": [],
   "source": [
    "import torch\n",
    "import numpy as np\n",
    "import pandas as np\n",
    "import pickle\n",
    "from tqdm import tqdm\n",
    "import sys"
   ]
  },
  {
   "cell_type": "code",
   "execution_count": 3,
   "id": "bright-papua",
   "metadata": {},
   "outputs": [],
   "source": [
    "deck1 = torch.load(\"results/distilbert-base-uncased-ver6/distilbert-base-uncased-focal-AdamW-lr2e-05-ver6-os100_3-deck1.pth\")\n",
    "deck2 = torch.load(\"results/distilbert-base-uncased-ver6/distilbert-base-uncased-focal-AdamW-lr2e-05-ver6-os100_3-deck2.pth\")"
   ]
  },
  {
   "cell_type": "code",
   "execution_count": 4,
   "id": "realistic-hometown",
   "metadata": {},
   "outputs": [
    {
     "data": {
      "text/plain": [
       "(torch.Size([421079, 768]), torch.Size([1095951, 768]))"
      ]
     },
     "execution_count": 4,
     "metadata": {},
     "output_type": "execute_result"
    }
   ],
   "source": [
    "deck1[\"feat\"].shape, deck2[\"feat\"].shape"
   ]
  },
  {
   "cell_type": "code",
   "execution_count": 5,
   "id": "suffering-spokesman",
   "metadata": {},
   "outputs": [],
   "source": [
    "deck1[\"feat_\"] = deck1[\"feat\"].cuda()\n",
    "deck2[\"feat_\"] = deck2[\"feat\"].cuda()"
   ]
  },
  {
   "cell_type": "code",
   "execution_count": 6,
   "id": "fifty-injury",
   "metadata": {},
   "outputs": [
    {
     "data": {
      "text/plain": [
       "(dict_keys(['feat', 'otext', 'tlevel', 'fclevel', 'feat_']),\n",
       " dict_keys(['feat', 'otext', 'fclevel', 'ids', 'feat_']))"
      ]
     },
     "execution_count": 6,
     "metadata": {},
     "output_type": "execute_result"
    }
   ],
   "source": [
    "deck1.keys(), deck2.keys()"
   ]
  },
  {
   "cell_type": "code",
   "execution_count": 7,
   "id": "failing-boundary",
   "metadata": {},
   "outputs": [
    {
     "name": "stdout",
     "output_type": "stream",
     "text": [
      "100%|██████████████████████████████████████████████████| 1095951/1095951 [1:56:51<00:00, 156.30it/s]\n"
     ]
    }
   ],
   "source": [
    "N = deck2[\"feat\"].size(0)\n",
    "distdeck = {\"dist\": [], \"level\": [], \"ids\": []}\n",
    "with tqdm(total=N, ncols=100, file=sys.stdout) as t:\n",
    "    for i in range(N):\n",
    "        dist_ = torch.norm(deck1[\"feat_\"] - deck2[\"feat_\"][i, None], p=None, dim=1)\n",
    "        dist_, indices_ = dist_.topk(4, largest=False)\n",
    "        tlevels = deck1[\"tlevel\"][indices_]\n",
    "\n",
    "        distdeck[\"dist\"].append(dist_.cpu())\n",
    "        distdeck[\"level\"].append(tlevels)\n",
    "        distdeck[\"ids\"].append(deck2[\"ids\"][i])\n",
    "\n",
    "        t.update()"
   ]
  },
  {
   "cell_type": "code",
   "execution_count": 8,
   "id": "weird-seattle",
   "metadata": {},
   "outputs": [],
   "source": [
    "distdeck[\"dist\"] = torch.stack(distdeck[\"dist\"])\n",
    "distdeck[\"level\"] = torch.stack(distdeck[\"level\"])"
   ]
  },
  {
   "cell_type": "code",
   "execution_count": 10,
   "id": "generic-linux",
   "metadata": {},
   "outputs": [],
   "source": [
    "torch.save(\n",
    "    distdeck, \"results/distilbert-base-uncased-ver6/distilbert-base-uncased-focal-AdamW-lr2e-05-ver6-os100_3-distdeck.pth\"\n",
    ")"
   ]
  },
  {
   "cell_type": "code",
   "execution_count": null,
   "id": "lyric-russian",
   "metadata": {},
   "outputs": [],
   "source": []
  }
 ],
 "metadata": {
  "kernelspec": {
   "display_name": "Python 3",
   "language": "python",
   "name": "python3"
  },
  "language_info": {
   "codemirror_mode": {
    "name": "ipython",
    "version": 3
   },
   "file_extension": ".py",
   "mimetype": "text/x-python",
   "name": "python",
   "nbconvert_exporter": "python",
   "pygments_lexer": "ipython3",
   "version": "3.7.10"
  }
 },
 "nbformat": 4,
 "nbformat_minor": 5
}
