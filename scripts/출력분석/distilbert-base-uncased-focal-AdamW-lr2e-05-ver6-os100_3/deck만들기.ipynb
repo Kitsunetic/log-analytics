{
 "cells": [
  {
   "cell_type": "code",
   "execution_count": 1,
   "metadata": {},
   "outputs": [
    {
     "name": "stdout",
     "output_type": "stream",
     "text": [
      "/home/shim/shim/dev/log-analytics\n"
     ]
    }
   ],
   "source": [
    "%load_ext lab_black\n",
    "%cd ../../.."
   ]
  },
  {
   "cell_type": "code",
   "execution_count": 2,
   "metadata": {
    "tags": []
   },
   "outputs": [],
   "source": [
    "import argparse\n",
    "import math\n",
    "import multiprocessing\n",
    "import sys\n",
    "from datetime import datetime\n",
    "from pathlib import Path\n",
    "from pprint import pformat\n",
    "\n",
    "import numpy as np\n",
    "import pandas as pd\n",
    "import torch\n",
    "import torch.nn as nn\n",
    "import torch.nn.functional as F\n",
    "import torch_optimizer\n",
    "import yaml\n",
    "from easydict import EasyDict\n",
    "from pytorch_transformers import DistilBertForSequenceClassification, DistilBertTokenizer\n",
    "\n",
    "from datasets.dataset_ver6 import DatasetGeneratorVer6\n",
    "from utils import SAM, AverageMeter, CustomLogger, FocalLoss, seed_everything\n",
    "\n",
    "from main_ver6 import MyTrainer\n",
    "from collections import defaultdict\n",
    "import matplotlib.pyplot as plt\n",
    "import random\n",
    "from sklearn.metrics import f1_score, classification_report\n",
    "from tqdm import tqdm"
   ]
  },
  {
   "cell_type": "code",
   "execution_count": 3,
   "metadata": {},
   "outputs": [],
   "source": [
    "postfix = \"distilbert-base-uncased-focal-AdamW-lr2e-05-ver6-os100_3\"\n",
    "outdir = Path(\"results/distilbert-base-uncased-ver6\")\n",
    "fold = 3"
   ]
  },
  {
   "cell_type": "code",
   "execution_count": 4,
   "metadata": {},
   "outputs": [],
   "source": [
    "with open(\"config/distilbert-base-uncased-ver6.yaml\", \"r\") as f:\n",
    "    C = EasyDict(yaml.load(f, yaml.FullLoader))\n",
    "    C.result_dir = Path(C.result_dir)\n",
    "    C.dataset.dir = Path(C.dataset.dir)\n",
    "    seed_everything(C.seed, deterministic=False)"
   ]
  },
  {
   "cell_type": "code",
   "execution_count": 5,
   "metadata": {},
   "outputs": [
    {
     "data": {
      "text/plain": [
       "{'model': {'name': 'distilbert-base-uncased'},\n",
       " 'comment': None,\n",
       " 'result_dir': PosixPath('results/distilbert-base-uncased-ver6'),\n",
       " 'debug': False,\n",
       " 'seed': 20210425,\n",
       " 'ver': 6,\n",
       " 'train': {'SAM': False,\n",
       "  'folds': [1],\n",
       "  'checkpoints': [None],\n",
       "  'loss': {'name': 'focal',\n",
       "   'params': {'gamma': 2.0, 's': 45.0, 'm': 0.1, 'crit': 'focal'}},\n",
       "  'optimizer': {'name': 'AdamW'},\n",
       "  'finetune': {'do': True, 'step1_epochs': 2, 'step2_epochs': 3},\n",
       "  'max_epochs': 6,\n",
       "  'lr': 2e-05,\n",
       "  'scheduler': {'name': 'ReduceLROnPlateau',\n",
       "   'params': {'factor': 0.5, 'patience': 3, 'verbose': True}}},\n",
       " 'dataset': {'dir': PosixPath('data/ver6'),\n",
       "  'batch_size': 35,\n",
       "  'num_workers': 8,\n",
       "  'oversampling': True,\n",
       "  'oversampling_scale': 100}}"
      ]
     },
     "execution_count": 5,
     "metadata": {},
     "output_type": "execute_result"
    }
   ],
   "source": [
    "C"
   ]
  },
  {
   "cell_type": "code",
   "execution_count": 6,
   "metadata": {},
   "outputs": [
    {
     "name": "stdout",
     "output_type": "stream",
     "text": [
      "Load pretrained results/distilbert-base-uncased-ver6/distilbert-base-uncased-focal-AdamW-lr2e-05-ver6-os100_3.pth\n"
     ]
    }
   ],
   "source": [
    "trainer = MyTrainer(C, fold, f\"results/distilbert-base-uncased-ver6/{postfix}.pth\")"
   ]
  },
  {
   "cell_type": "code",
   "execution_count": 7,
   "metadata": {},
   "outputs": [
    {
     "data": {
      "text/plain": [
       "<torch.autograd.grad_mode.set_grad_enabled at 0x7fdd6ef01610>"
      ]
     },
     "execution_count": 7,
     "metadata": {},
     "output_type": "execute_result"
    }
   ],
   "source": [
    "model = trainer.model\n",
    "model.eval()\n",
    "torch.set_grad_enabled(False)"
   ]
  },
  {
   "cell_type": "code",
   "execution_count": 8,
   "metadata": {},
   "outputs": [],
   "source": [
    "activation = []\n",
    "\n",
    "\n",
    "def hook(model, input, output):\n",
    "    activation.append(output.detach().cpu())"
   ]
  },
  {
   "cell_type": "code",
   "execution_count": 9,
   "metadata": {},
   "outputs": [
    {
     "data": {
      "text/plain": [
       "<torch.utils.hooks.RemovableHandle at 0x7fdd6edb3290>"
      ]
     },
     "execution_count": 9,
     "metadata": {},
     "output_type": "execute_result"
    }
   ],
   "source": [
    "model.pre_classifier.register_forward_hook(hook)"
   ]
  },
  {
   "cell_type": "code",
   "execution_count": 10,
   "metadata": {},
   "outputs": [],
   "source": [
    "train_dl = trainer.dsgen.train_only()"
   ]
  },
  {
   "cell_type": "markdown",
   "metadata": {},
   "source": [
    "# 덱만들기 (Train)"
   ]
  },
  {
   "cell_type": "code",
   "execution_count": 12,
   "metadata": {},
   "outputs": [
    {
     "name": "stdout",
     "output_type": "stream",
     "text": [
      "100%|██████████████████████████████████████████████████████| 421079/421079 [20:54<00:00, 335.54it/s]\n"
     ]
    }
   ],
   "source": [
    "activation = []\n",
    "deck = {\"feat\": [], \"otext\": [], \"tlevel\": [], \"fclevel\": []}\n",
    "with tqdm(total=len(train_dl.dataset), ncols=100, file=sys.stdout) as t:\n",
    "    for text, tlevel, otext in train_dl:\n",
    "        fclevel = model(text.cuda(non_blocking=True))[0].argmax(dim=1).cpu()\n",
    "        deck[\"fclevel\"].append(fclevel)\n",
    "        deck[\"tlevel\"].append(tlevel)\n",
    "        deck[\"otext\"].extend(otext)\n",
    "        t.update(text.size(0))"
   ]
  },
  {
   "cell_type": "code",
   "execution_count": 13,
   "metadata": {},
   "outputs": [],
   "source": [
    "deck[\"feat\"] = torch.cat(activation)\n",
    "deck[\"tlevel\"] = torch.cat(deck[\"tlevel\"])\n",
    "deck[\"fclevel\"] = torch.cat(deck[\"fclevel\"])"
   ]
  },
  {
   "cell_type": "code",
   "execution_count": 14,
   "metadata": {},
   "outputs": [
    {
     "data": {
      "text/plain": [
       "(torch.Size([421079]), torch.Size([421079]))"
      ]
     },
     "execution_count": 14,
     "metadata": {},
     "output_type": "execute_result"
    }
   ],
   "source": [
    "deck[\"tlevel\"].shape, deck[\"fclevel\"].shape"
   ]
  },
  {
   "cell_type": "code",
   "execution_count": 15,
   "metadata": {},
   "outputs": [
    {
     "data": {
      "text/plain": [
       "torch.Size([421079, 768])"
      ]
     },
     "execution_count": 15,
     "metadata": {},
     "output_type": "execute_result"
    }
   ],
   "source": [
    "deck[\"feat\"].shape"
   ]
  },
  {
   "cell_type": "code",
   "execution_count": 19,
   "metadata": {},
   "outputs": [],
   "source": [
    "torch.save(deck, outdir / f\"{postfix}-deck1.pth\")"
   ]
  },
  {
   "cell_type": "markdown",
   "metadata": {},
   "source": [
    "# Valid Lv7에 대한 결과 분석"
   ]
  },
  {
   "cell_type": "code",
   "execution_count": 20,
   "metadata": {},
   "outputs": [],
   "source": [
    "ds_lv7 = trainer.dsgen.valid_lv7().dataset"
   ]
  },
  {
   "cell_type": "code",
   "execution_count": 25,
   "metadata": {},
   "outputs": [
    {
     "name": "stdout",
     "output_type": "stream",
     "text": [
      "tensor([[-6.0883,  5.0010, -3.5641, -3.7608, -7.7354, -4.5796, -7.5599]])\n"
     ]
    }
   ],
   "source": [
    "text, otext = ds_lv7[0]\n",
    "activation = []\n",
    "print(model(text[None].cuda())[0].cpu())"
   ]
  },
  {
   "cell_type": "code",
   "execution_count": 26,
   "metadata": {},
   "outputs": [
    {
     "data": {
      "text/plain": [
       "(tensor([[24.0634, 24.9287, 28.6150, 30.3823]]),\n",
       " tensor([[487,  19,  79, 606]]),\n",
       " tensor([[1, 0, 0, 1]]))"
      ]
     },
     "execution_count": 26,
     "metadata": {},
     "output_type": "execute_result"
    }
   ],
   "source": [
    "dists, indices = torch.norm(deck[\"feat\"] - activation[0][None], p=None, dim=1).topk(4, largest=False)\n",
    "dists, indices, deck[\"tlevel\"][indices]"
   ]
  },
  {
   "cell_type": "code",
   "execution_count": 27,
   "metadata": {},
   "outputs": [
    {
     "name": "stdout",
     "output_type": "stream",
     "text": [
      "tensor([[-2.1250, -3.0019, -6.5012,  1.4310, -6.4430, -1.8724, -6.9261]])\n"
     ]
    }
   ],
   "source": [
    "text, otext = ds_lv7[1]\n",
    "activation = []\n",
    "print(model(text[None].cuda())[0].cpu())"
   ]
  },
  {
   "cell_type": "code",
   "execution_count": 28,
   "metadata": {},
   "outputs": [
    {
     "data": {
      "text/plain": [
       "(tensor([[25.0888, 27.9535, 41.0431, 41.8491]]),\n",
       " tensor([[ 19, 719, 601, 170]]),\n",
       " tensor([[0, 0, 0, 0]]))"
      ]
     },
     "execution_count": 28,
     "metadata": {},
     "output_type": "execute_result"
    }
   ],
   "source": [
    "dists, indices = torch.norm(deck[\"feat\"] - activation[0][None], p=None, dim=1).topk(4, largest=False)\n",
    "dists, indices, deck[\"tlevel\"][indices]"
   ]
  },
  {
   "cell_type": "code",
   "execution_count": 29,
   "metadata": {},
   "outputs": [
    {
     "name": "stdout",
     "output_type": "stream",
     "text": [
      "tensor([[ 3.9369, -4.8182, -4.7900, -2.6410, -7.5933, -3.9964, -5.5910]])\n"
     ]
    }
   ],
   "source": [
    "text, otext = ds_lv7[2]\n",
    "activation = []\n",
    "print(model(text[None].cuda())[0].cpu())"
   ]
  },
  {
   "cell_type": "code",
   "execution_count": 30,
   "metadata": {},
   "outputs": [
    {
     "data": {
      "text/plain": [
       "(tensor([[24.9473, 28.7714, 33.3087, 37.8109]]),\n",
       " tensor([[ 19, 549, 474, 317]]),\n",
       " tensor([[0, 1, 1, 0]]))"
      ]
     },
     "execution_count": 30,
     "metadata": {},
     "output_type": "execute_result"
    }
   ],
   "source": [
    "dists, indices = torch.norm(deck[\"feat\"] - activation[0][None], p=None, dim=1).topk(4, largest=False)\n",
    "dists, indices, deck[\"tlevel\"][indices]"
   ]
  },
  {
   "cell_type": "markdown",
   "metadata": {},
   "source": [
    "# 덱만들기 (Submission)\n",
    "\n",
    "메모리가 적으면 여기서 reload 권장"
   ]
  },
  {
   "cell_type": "code",
   "execution_count": 11,
   "metadata": {},
   "outputs": [],
   "source": [
    "ds_test = trainer.dsgen.test()"
   ]
  },
  {
   "cell_type": "code",
   "execution_count": 12,
   "metadata": {},
   "outputs": [
    {
     "name": "stdout",
     "output_type": "stream",
     "text": [
      "100%|██████████████████████████████████████████████████| 1095951/1095951 [2:00:58<00:00, 150.98it/s]\n"
     ]
    }
   ],
   "source": [
    "activation = []\n",
    "deck = {\"feat\": [], \"otext\": [], \"fclevel\": [], \"ids\": []}\n",
    "with tqdm(total=len(ds_test), ncols=100, file=sys.stdout) as t:\n",
    "    for i in range(len(ds_test)):\n",
    "        text, otext, ids = ds_test[i]\n",
    "        fclevel = model(text[None].cuda(non_blocking=True))[0].argmax(dim=1).cpu()\n",
    "        deck[\"fclevel\"].append(fclevel)\n",
    "        deck[\"otext\"].append(otext)\n",
    "        deck[\"ids\"].append(ids)\n",
    "        t.update()"
   ]
  },
  {
   "cell_type": "code",
   "execution_count": 13,
   "metadata": {},
   "outputs": [],
   "source": [
    "deck[\"feat\"] = torch.stack(activation)\n",
    "deck[\"fclevel\"] = torch.stack(deck[\"fclevel\"])"
   ]
  },
  {
   "cell_type": "code",
   "execution_count": 14,
   "metadata": {},
   "outputs": [],
   "source": [
    "deck[\"feat\"] = deck[\"feat\"][:, 0, :]\n",
    "deck[\"fclevel\"] = deck[\"fclevel\"][:, 0]"
   ]
  },
  {
   "cell_type": "code",
   "execution_count": 15,
   "metadata": {},
   "outputs": [
    {
     "data": {
      "text/plain": [
       "(torch.Size([1095951, 768]), torch.Size([1095951]))"
      ]
     },
     "execution_count": 15,
     "metadata": {},
     "output_type": "execute_result"
    }
   ],
   "source": [
    "deck[\"feat\"].shape, deck[\"fclevel\"].shape"
   ]
  },
  {
   "cell_type": "code",
   "execution_count": 16,
   "metadata": {},
   "outputs": [],
   "source": [
    "torch.save(deck, outdir / f\"{postfix}-deck2.pth\")"
   ]
  },
  {
   "cell_type": "code",
   "execution_count": null,
   "metadata": {},
   "outputs": [],
   "source": []
  }
 ],
 "metadata": {
  "kernelspec": {
   "display_name": "Python 3",
   "language": "python",
   "name": "python3"
  },
  "language_info": {
   "codemirror_mode": {
    "name": "ipython",
    "version": 3
   },
   "file_extension": ".py",
   "mimetype": "text/x-python",
   "name": "python",
   "nbconvert_exporter": "python",
   "pygments_lexer": "ipython3",
   "version": "3.7.10"
  }
 },
 "nbformat": 4,
 "nbformat_minor": 4
}
