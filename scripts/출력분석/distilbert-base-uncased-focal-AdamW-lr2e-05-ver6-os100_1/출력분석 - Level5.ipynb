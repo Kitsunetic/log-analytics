{
 "cells": [
  {
   "cell_type": "code",
   "execution_count": null,
   "id": "6c03317f-77cf-41c9-a5ef-63606ae62f14",
   "metadata": {},
   "outputs": [],
   "source": []
  },
  {
   "cell_type": "code",
   "execution_count": 64,
   "id": "9a817508-609f-4eb0-98b5-dccfa641b9cb",
   "metadata": {},
   "outputs": [
    {
     "name": "stdout",
     "output_type": "stream",
     "text": [
      "*  Submit : level : 5, log : interface-name: Unable to obtain hostname for outgoing CHAP message: error-message\n",
      "----------------------------------------------------------------------------------------\n",
      "*   index : 5915\n",
      "*    dist : 0.2043 0.3164 0.3335 0.3336\n",
      "* fc-level: tensor(0)\n",
      "----------------------------------------------------------------------------------------\n",
      "* Level 0 : level : 5, log : Unable to obtain hostname for PAP message sent from interface interface-name: error-message\n",
      "----------------------------------------------------------------------------------------\n",
      "* Level 0 : level : 5, log : Unable to retrieve system hostname: error-message\n",
      "----------------------------------------------------------------------------------------\n",
      "* Level 0 : level : 3, log : Unable to shut down error-message module\n",
      "----------------------------------------------------------------------------------------\n",
      "* Level 0 : level : 5, log : Error for interface interface-name error-message\n",
      "----------------------------------------------------------------------------------------\n"
     ]
    }
   ],
   "source": [
    "print(\"*  Submit :\", df.full_log[deck2[\"ids\"][j - 1][0] - 1000000])\n",
    "print(\"----------------------------------------------------------------------------------------\")\n",
    "print(\"*   index :\", j - 1)\n",
    "print(\"*    dist :\", \" \".join(map(lambda x: f\"{x:.4f}\", values_.cpu().tolist())))\n",
    "print(\"* fc-level:\", deck2[\"fclevel\"][j - 1])\n",
    "print(\"----------------------------------------------------------------------------------------\")\n",
    "\n",
    "for idx in indices_:\n",
    "    print(\"* Level\", deck1[\"tlevel\"][idx].item(), \":\", deck1[\"otext\"][idx])\n",
    "    print(\"----------------------------------------------------------------------------------------\")\n",
    "\n",
    "shown = True"
   ]
  },
  {
   "cell_type": "code",
   "execution_count": 56,
   "id": "c4589f88-17ba-4b2a-8b9a-7b833de635ff",
   "metadata": {},
   "outputs": [
    {
     "name": "stdout",
     "output_type": "stream",
     "text": [
      "*  Submit : Jan 20 13:28:30 localhost yum[1013]: Installed: 1:java-11-openjdk-11.0.9.11-2.el7_9.x86_64\n",
      "----------------------------------------------------------------------------------------\n",
      "*   index : 4846\n",
      "*    dist : 0.5166 0.5233 0.5923 0.6171\n",
      "* fc-level: tensor(5)\n",
      "----------------------------------------------------------------------------------------\n",
      "* Level 5 : Jan 15 15:55:41 localhost yum[26878]: Installed: 1:openssl-devel-1.0.2k-21.el7_9.x86_64\n",
      "----------------------------------------------------------------------------------------\n",
      "* Level 5 : Jan 15 15:55:38 localhost yum[26878]: Installed: libcom_err-devel-1.42.9-19.el7.x86_64\n",
      "----------------------------------------------------------------------------------------\n",
      "* Level 5 : Jan 15 15:55:43 localhost yum[26878]: Installed: bzip2-devel-1.0.6-13.el7.x86_64\n",
      "----------------------------------------------------------------------------------------\n",
      "* Level 5 : Jan 15 15:55:43 localhost yum[26878]: Installed: libffi-devel-3.0.13-19.el7.x86_64\n",
      "----------------------------------------------------------------------------------------\n"
     ]
    }
   ],
   "source": [
    "print(\"*  Submit :\", df.full_log[deck2[\"ids\"][j - 1][0] - 1000000])\n",
    "print(\"----------------------------------------------------------------------------------------\")\n",
    "print(\"*   index :\", j - 1)\n",
    "print(\"*    dist :\", \" \".join(map(lambda x: f\"{x:.4f}\", values_.cpu().tolist())))\n",
    "print(\"* fc-level:\", deck2[\"fclevel\"][j - 1])\n",
    "print(\"----------------------------------------------------------------------------------------\")\n",
    "\n",
    "for idx in indices_:\n",
    "    print(\"* Level\", deck1[\"tlevel\"][idx].item(), \":\", deck1[\"otext\"][idx])\n",
    "    print(\"----------------------------------------------------------------------------------------\")\n",
    "\n",
    "shown = True"
   ]
  },
  {
   "cell_type": "code",
   "execution_count": 54,
   "id": "47cbcdcc-7fac-459e-8640-bea606e612fa",
   "metadata": {},
   "outputs": [
    {
     "name": "stdout",
     "output_type": "stream",
     "text": [
      "*  Submit : File '/etc/objrepos/FRUs_src' checksum changed.\n",
      "Old modification time was: 'Thu Nov 19 05:00:48 2020', now it is 'Fri Nov 20 05:00:48 2020'\n",
      "\n",
      "----------------------------------------------------------------------------------------\n",
      "*   index : 4762\n",
      "*    dist : 0.4827 0.5241 0.6236 0.7070\n",
      "* fc-level: tensor(5)\n",
      "----------------------------------------------------------------------------------------\n",
      "* Level 5 : File '/etc/modprobe.d/tuned.conf' checksum changed.\n",
      "Old modification time was: 'Mon Nov 16 08:47:37 2020', now it is 'Fri Dec 4 11:18:32 2020'\n",
      "----------------------------------------------------------------------------------------\n",
      "* Level 5 : File '/etc/modprobe.d/tuned.conf' checksum changed.\n",
      "Old modification time was: 'Thu Oct 15 10:06:44 2020', now it is 'Fri Oct 16 14:39:12 2020'\n",
      "----------------------------------------------------------------------------------------\n",
      "* Level 5 : File '/etc/objrepos/FRUs' checksum changed.\n",
      "Old modification time was: 'Thu Nov 19 05:00:48 2020', now it is 'Fri Nov 20 05:00:48 2020'\n",
      "----------------------------------------------------------------------------------------\n",
      "* Level 5 : File '/etc/objrepos/SRCsubsys' checksum changed.\n",
      "Old modification time was: 'Sat Jun 27 15:16:58 2020', now it is 'Wed Nov 18 10:42:30 2020'\n",
      "----------------------------------------------------------------------------------------\n"
     ]
    }
   ],
   "source": [
    "print(\"*  Submit :\", df.full_log[deck2[\"ids\"][j - 1][0] - 1000000])\n",
    "print(\"----------------------------------------------------------------------------------------\")\n",
    "print(\"*   index :\", j - 1)\n",
    "print(\"*    dist :\", \" \".join(map(lambda x: f\"{x:.4f}\", values_.cpu().tolist())))\n",
    "print(\"* fc-level:\", deck2[\"fclevel\"][j - 1])\n",
    "print(\"----------------------------------------------------------------------------------------\")\n",
    "\n",
    "for idx in indices_:\n",
    "    print(\"* Level\", deck1[\"tlevel\"][idx].item(), \":\", deck1[\"otext\"][idx])\n",
    "    print(\"----------------------------------------------------------------------------------------\")\n",
    "\n",
    "shown = True"
   ]
  },
  {
   "cell_type": "code",
   "execution_count": 36,
   "id": "97db7541-b087-414c-ab92-e2f712477e01",
   "metadata": {},
   "outputs": [
    {
     "name": "stdout",
     "output_type": "stream",
     "text": [
      "*  Submit : Jan 15 15:55:38 localhost yum[26878]: Updated: libgfortran-4.8.5-44.el7.x86_64\n",
      "----------------------------------------------------------------------------------------\n",
      "*   index : 2871\n",
      "*    dist : 0.3279 0.4035 0.5263 0.5780\n",
      "* fc-level: tensor(5)\n",
      "----------------------------------------------------------------------------------------\n",
      "* Level 5 : Jan 15 15:55:37 localhost yum[26878]: Updated: libgcc-4.8.5-44.el7.x86_64\n",
      "----------------------------------------------------------------------------------------\n",
      "* Level 5 : Jan 15 15:55:38 localhost yum[26878]: Updated: libss-1.42.9-19.el7.x86_64\n",
      "----------------------------------------------------------------------------------------\n",
      "* Level 5 : Jan 15 15:55:37 localhost yum[26878]: Updated: libstdc++-4.8.5-44.el7.x86_64\n",
      "----------------------------------------------------------------------------------------\n",
      "* Level 5 : Jan 15 15:55:38 localhost yum[26878]: Updated: e2fsprogs-libs-1.42.9-19.el7.x86_64\n",
      "----------------------------------------------------------------------------------------\n"
     ]
    }
   ],
   "source": [
    "print(\"*  Submit :\", df.full_log[deck2[\"ids\"][j - 1][0] - 1000000])\n",
    "print(\"----------------------------------------------------------------------------------------\")\n",
    "print(\"*   index :\", j - 1)\n",
    "print(\"*    dist :\", \" \".join(map(lambda x: f\"{x:.4f}\", values_.cpu().tolist())))\n",
    "print(\"* fc-level:\", deck2[\"fclevel\"][j - 1])\n",
    "print(\"----------------------------------------------------------------------------------------\")\n",
    "\n",
    "for idx in indices_:\n",
    "    print(\"* Level\", deck1[\"tlevel\"][idx].item(), \":\", deck1[\"otext\"][idx])\n",
    "    print(\"----------------------------------------------------------------------------------------\")\n",
    "\n",
    "shown = True"
   ]
  },
  {
   "cell_type": "code",
   "execution_count": 143,
   "id": "395a5750-0b2d-4c69-8a16-ab1567ed20fe",
   "metadata": {},
   "outputs": [
    {
     "name": "stdout",
     "output_type": "stream",
     "text": [
      "*  Submit : File 'HKEY_LOCAL_MACHINE\\System\\CurrentControlSet\\Services\\iphlpsvc\\Teredo\\PreviousState\\70-5d-cc-be-f1-d7' checksum changed.\n",
      "Old md5sum was: '9029df561581312b3cf4b756ec28f274'\n",
      "New md5sum is : '3315fbddeb96fdd66513fbc2219d6ae2'\n",
      "Old sha1sum was: '472878bae2933d252ab0fbb1e4ed84d7a3902ae9'\n",
      "New sha1sum is : 'f4822816f9a889bea9b7be61a6d7e98bf0f6d594'\n",
      "----------------------------------------------------------------------------------------\n",
      "*   index : 40053\n",
      "*    dist : 0.2567 0.3600 0.3722 0.4118\n",
      "* fc-level: tensor(5)\n",
      "----------------------------------------------------------------------------------------\n",
      "* Level 5 : File 'HKEY_LOCAL_MACHINE\\System\\CurrentControlSet\\Services\\iphlpsvc\\Teredo\\PreviousState\\70-5d-cc-be-f1-d7' checksum changed.\n",
      "Old md5sum was: 'cdd48d377b5eee53a1ee5df940ae7dd7'\n",
      "New md5sum is : '59b81288fc6db620a91635df5e04afd7'\n",
      "Old sha1sum was: 'd1f2e1b8d48588195da3b5c131be251f01415eb5'\n",
      "New sha1sum is : '8b046a4e2cb95bb599d55eb2ea6a2c7b9e9f6223'\n",
      "----------------------------------------------------------------------------------------\n",
      "* Level 5 : File 'HKEY_LOCAL_MACHINE\\System\\CurrentControlSet\\Services\\iphlpsvc\\Teredo\\PreviousState\\70-5d-cc-be-f1-d7' checksum changed.\n",
      "Old md5sum was: '21936477c75fb299f78b3832bea95f7a'\n",
      "New md5sum is : '9cd05cbf701048ce263c2c7460147edb'\n",
      "Old sha1sum was: 'ecfb6310f7c17f1dd6575affb22c272732f5bb85'\n",
      "New sha1sum is : 'c1a7dc368507e750db4bc157f2af2af18e7860fe'\n",
      "----------------------------------------------------------------------------------------\n",
      "* Level 5 : File 'HKEY_LOCAL_MACHINE\\System\\CurrentControlSet\\Services\\iphlpsvc\\Teredo\\PreviousState\\70-5d-cc-be-f1-d7' checksum changed.\n",
      "Old md5sum was: 'ea2a750a2c0be7d4bc638cb090ea245f'\n",
      "New md5sum is : '65966ff89fca047ca8a2d4fa40a23775'\n",
      "Old sha1sum was: '820b76124cb537d973af9eb48255793bf2d9a671'\n",
      "New sha1sum is : 'fe305a13299e4f9414c51e2f614b135be6d79515'\n",
      "----------------------------------------------------------------------------------------\n",
      "* Level 5 : File '/etc/snmpd.boots' checksum changed.\n",
      "Old md5sum was: '1a1acaf1e6dea416699d67a7ede618f7'\n",
      "New md5sum is : '71c9629f1d7bcfc2d9258ee72d9ec219'\n",
      "Old sha1sum was: '38328bc20e6ec9a77c4e68e8482d027696bcda61'\n",
      "New sha1sum is : '51cb421ddb1809abbd22d62ebe9419e77b08058d'\n",
      "Old sha256sum was: '75c3eb6fee37c105ed820b39287af866ef4bbe150c815951d62aa8caad173d91'\n",
      "New sha256sum is : 'efe9b02 month 718b4ff1f65c1951b8efdad473dddf9b68b0fbfe0562ba7a6897f8'\n",
      "Old modification time was: 'Sat month day time 2020', now it is 'Wed month day time 2020'\n",
      "----------------------------------------------------------------------------------------\n"
     ]
    }
   ],
   "source": [
    "print(\"*  Submit :\", deck2[\"otext\"][j - 1])\n",
    "print(\"----------------------------------------------------------------------------------------\")\n",
    "print(\"*   index :\", j - 1)\n",
    "print(\"*    dist :\", \" \".join(map(lambda x: f\"{x:.4f}\", values_.cpu().tolist())))\n",
    "print(\"* fc-level:\", deck2[\"fcfeat\"][j - 1].argmax())\n",
    "print(\"----------------------------------------------------------------------------------------\")\n",
    "\n",
    "for idx in indices_:\n",
    "    print(\"* Level\", deck1[\"tlevel\"][idx].item(), \":\", deck1[\"otext\"][idx])\n",
    "    print(\"----------------------------------------------------------------------------------------\")\n",
    "\n",
    "shown = True"
   ]
  },
  {
   "cell_type": "code",
   "execution_count": 109,
   "id": "ac778c6f-4a2f-4a91-89a2-2bd4b0ef21cb",
   "metadata": {},
   "outputs": [
    {
     "name": "stdout",
     "output_type": "stream",
     "text": [
      "*  Submit : File '[x64] HKEY_LOCAL_MACHINE\\Software\\Microsoft\\Windows NT\\CurrentVersion\\Winlogon' checksum changed.\n",
      "Old md5sum was: '92b444c7bcfb5136766984b9704d9eb8'\n",
      "New md5sum is : '7b211622196978b2e6c5faeab2521105'\n",
      "Old sha1sum was: '2f1a44f028fcd86f368467cc97629de3bb1bc4bc'\n",
      "New sha1sum is : '1ac423eb98ab3c337c38a181d11cf40647f738db'\n",
      "----------------------------------------------------------------------------------------\n",
      "*   index : 36582\n",
      "*    dist : 0.2161 0.2223 0.3040 0.3415\n",
      "* fc-level: tensor(5)\n",
      "----------------------------------------------------------------------------------------\n",
      "* Level 5 : File 'HKEY_LOCAL_MACHINE\\System\\CurrentControlSet\\Services\\SharedAccess\\Epoch2' checksum changed.\n",
      "Old md5sum was: '57567ec40f514a1f0ee6ed0863682247'\n",
      "New md5sum is : 'd4c7f7b683058100f046b9e37c9f02e1'\n",
      "Old sha1sum was: '4542c677a5eab9127f1d79745c1f6131277c13d6'\n",
      "New sha1sum is : 'f496ae03d2d14bb85315b4871223cea85db3a3ad'\n",
      "----------------------------------------------------------------------------------------\n",
      "* Level 5 : File '[x64] HKEY_LOCAL_MACHINE\\Software\\Microsoft\\Windows NT\\CurrentVersion\\Winlogon' checksum changed.\n",
      "Old md5sum was: '76b0458531b74f079a55bdc1c798b292'\n",
      "New md5sum is : '92b444c7bcfb5136766984b9704d9eb8'\n",
      "Old sha1sum was: 'babf2fc7054b502dfa2f658175c1816571dac03e'\n",
      "New sha1sum is : '2f1a44f028fcd86f368467cc97629de3bb1bc4bc'\n",
      "----------------------------------------------------------------------------------------\n",
      "* Level 5 : File 'HKEY_LOCAL_MACHINE\\System\\CurrentControlSet\\Services\\ClipSVC\\TriggerInfo\\4' checksum changed.\n",
      "Old md5sum was: '378a2283ed3e22341b52db576e18e2fb'\n",
      "New md5sum is : 'b0471ccb82d1742d269626e8fe722ef2'\n",
      "Old sha1sum was: 'b8bf94ded860faec7e2b01e2d03dbebb6ddd0782'\n",
      "New sha1sum is : '0ab4355129acf544b688424a5a8325455e0ba090'\n",
      "----------------------------------------------------------------------------------------\n",
      "* Level 5 : File 'HKEY_LOCAL_MACHINE\\System\\CurrentControlSet\\Services\\W32Time\\SecureTimeLimits' checksum changed.\n",
      "Old md5sum was: '2d9751f854026e348ec2fb7bfff15bfa'\n",
      "New md5sum is : '2461b7279d7059673dcb0107265a7871'\n",
      "Old sha1sum was: '369f2d2090d61ad004f463fe75a8d05457fd10ed'\n",
      "New sha1sum is : '1bdd823328bedd64bb886a222fcba47a8ae3bada'\n",
      "----------------------------------------------------------------------------------------\n"
     ]
    }
   ],
   "source": [
    "print(\"*  Submit :\", deck2[\"otext\"][j - 1])\n",
    "print(\"----------------------------------------------------------------------------------------\")\n",
    "print(\"*   index :\", j - 1)\n",
    "print(\"*    dist :\", \" \".join(map(lambda x: f\"{x:.4f}\", values_.cpu().tolist())))\n",
    "print(\"* fc-level:\", deck2[\"fcfeat\"][j - 1].argmax())\n",
    "print(\"----------------------------------------------------------------------------------------\")\n",
    "\n",
    "for idx in indices_:\n",
    "    print(\"* Level\", deck1[\"tlevel\"][idx].item(), \":\", deck1[\"otext\"][idx])\n",
    "    print(\"----------------------------------------------------------------------------------------\")\n",
    "\n",
    "shown = True"
   ]
  },
  {
   "cell_type": "code",
   "execution_count": 101,
   "id": "e25d4811-2930-4984-b17a-66e458aa5605",
   "metadata": {},
   "outputs": [
    {
     "name": "stdout",
     "output_type": "stream",
     "text": [
      "*  Submit : File 'HKEY_LOCAL_MACHINE\\System\\CurrentControlSet\\Services\\iphlpsvc\\Teredo\\PreviousState\\70-5d-cc-be-f1-d7' checksum changed.\n",
      "Old md5sum was: '9cd05cbf701048ce263c2c7460147edb'\n",
      "New md5sum is : '2c07970a2ef4e4fbf37113a2f83cc256'\n",
      "Old sha1sum was: 'c1a7dc368507e750db4bc157f2af2af18e7860fe'\n",
      "New sha1sum is : '89824a0c7252f5fe25cc8575f703ae05df22b18f'\n",
      "----------------------------------------------------------------------------------------\n",
      "*   index : 35251\n",
      "*    dist : 0.2334 0.2390 0.2677 0.2798\n",
      "* fc-level: tensor(5)\n",
      "----------------------------------------------------------------------------------------\n",
      "* Level 5 : File 'HKEY_LOCAL_MACHINE\\System\\CurrentControlSet\\Services\\iphlpsvc\\Teredo\\PreviousState\\70-5d-cc-be-f1-d7' checksum changed.\n",
      "Old md5sum was: 'cdd48d377b5eee53a1ee5df940ae7dd7'\n",
      "New md5sum is : '59b81288fc6db620a91635df5e04afd7'\n",
      "Old sha1sum was: 'd1f2e1b8d48588195da3b5c131be251f01415eb5'\n",
      "New sha1sum is : '8b046a4e2cb95bb599d55eb2ea6a2c7b9e9f6223'\n",
      "----------------------------------------------------------------------------------------\n",
      "* Level 5 : File 'HKEY_LOCAL_MACHINE\\System\\CurrentControlSet\\Services\\iphlpsvc\\Teredo\\PreviousState\\70-5d-cc-be-f1-d7' checksum changed.\n",
      "Old md5sum was: 'a191a8fff34fd3c3b87cdbb000db9013'\n",
      "New md5sum is : 'd61646e6bc1c6ee8c1e9f570af5177b9'\n",
      "Old sha1sum was: '72ed7c7b0eeda4c2e06277b60adb2fd4e03e1b04'\n",
      "New sha1sum is : 'ae37bcf786ba7fa07858cfd97aec43117c6339e6'\n",
      "----------------------------------------------------------------------------------------\n",
      "* Level 5 : File 'HKEY_LOCAL_MACHINE\\System\\CurrentControlSet\\Services\\iphlpsvc\\Teredo\\PreviousState\\70-5d-cc-be-f1-d7' checksum changed.\n",
      "Old md5sum was: '9bc4ad0911afb13de84e2dfaa4fa7abb'\n",
      "New md5sum is : 'b81abd5b7dadf92cbacab913bc0697f4'\n",
      "Old sha1sum was: 'd005c6d8559886db6178af36e0c24d2 month 9aadb6'\n",
      "New sha1sum is : '2b3fe6c5bb7c29b0911790b903af92297387c587'\n",
      "----------------------------------------------------------------------------------------\n",
      "* Level 5 : File 'HKEY_LOCAL_MACHINE\\System\\CurrentControlSet\\Services\\iphlpsvc\\Teredo\\PreviousState\\70-5d-cc-be-f1-d7' checksum changed.\n",
      "Old md5sum was: 'ea2a750a2c0be7d4bc638cb090ea245f'\n",
      "New md5sum is : '65966ff89fca047ca8a2d4fa40a23775'\n",
      "Old sha1sum was: '820b76124cb537d973af9eb48255793bf2d9a671'\n",
      "New sha1sum is : 'fe305a13299e4f9414c51e2f614b135be6d79515'\n",
      "----------------------------------------------------------------------------------------\n"
     ]
    }
   ],
   "source": [
    "print(\"*  Submit :\", deck2[\"otext\"][j - 1])\n",
    "print(\"----------------------------------------------------------------------------------------\")\n",
    "print(\"*   index :\", j - 1)\n",
    "print(\"*    dist :\", \" \".join(map(lambda x: f\"{x:.4f}\", values_.cpu().tolist())))\n",
    "print(\"* fc-level:\", deck2[\"fcfeat\"][j - 1].argmax())\n",
    "print(\"----------------------------------------------------------------------------------------\")\n",
    "\n",
    "for idx in indices_:\n",
    "    print(\"* Level\", deck1[\"tlevel\"][idx].item(), \":\", deck1[\"otext\"][idx])\n",
    "    print(\"----------------------------------------------------------------------------------------\")\n",
    "\n",
    "shown = True"
   ]
  },
  {
   "cell_type": "code",
   "execution_count": 91,
   "id": "f1ddd382-72e2-4c9c-9415-5ab50a9be28e",
   "metadata": {},
   "outputs": [
    {
     "name": "stdout",
     "output_type": "stream",
     "text": [
      "*  Submit : level : 5, log : SNMP trap generated: trap (argument1 value1)\n",
      "----------------------------------------------------------------------------------------\n",
      "*   index : 31539\n",
      "*    dist : 0.5126 0.6408 0.6408 0.6844 0.6844 0.9504 1.0733 1.1236\n",
      "* fc-level: tensor(0)\n",
      "----------------------------------------------------------------------------------------\n",
      "* Level 5 : level : 5, log : Connection exists for type username at client-name client-id\n",
      "----------------------------------------------------------------------------------------\n",
      "* Level 5 : level : 5, log : SNMP trap generated: trap (argument1 value1, argument2 value2, argument3 value3, argument4 value4, argument5 value5, argument6 value6)\n",
      "----------------------------------------------------------------------------------------\n",
      "* Level 1 : level : 5, log : SNMP trap generated: trap (argument1 value1, argument2 value2, argument3 value3, argument4 value4, argument5 value5, argument6 value6)\n",
      "----------------------------------------------------------------------------------------\n",
      "* Level 0 : level : 5, log : SNMP trap generated: trap (argument1 value1, argument2 value2, argument3 value3, argument4 value4, argument5 value5, argument6 value6, argument7 value7)\n",
      "----------------------------------------------------------------------------------------\n",
      "* Level 0 : level : 5, log : SNMP trap generated: trap (argument1 value1, argument2 value2, argument3 value3, argument4 value4, argument5 value5, argument6 value6, argument7 value7)\n",
      "----------------------------------------------------------------------------------------\n",
      "* Level 5 : level : 5, log : fru-name fru-slot temperature is temperature degrees C, which is outside operating range\n",
      "----------------------------------------------------------------------------------------\n",
      "* Level 5 : level : 3, log : interface-name: storm control enabled port\n",
      "----------------------------------------------------------------------------------------\n",
      "* Level 5 : level : 5, log : IS-IS Lisis-level LSP checksum error, interface interface-name, LSP id lspl, sequence sequence-number, checksum checksum, lifetime duration\n",
      "----------------------------------------------------------------------------------------\n"
     ]
    }
   ],
   "source": [
    "print(\"*  Submit :\", deck2[\"otext\"][j - 1])\n",
    "print(\"----------------------------------------------------------------------------------------\")\n",
    "print(\"*   index :\", j - 1)\n",
    "print(\"*    dist :\", \" \".join(map(lambda x: f\"{x:.4f}\", values_.cpu().tolist())))\n",
    "print(\"* fc-level:\", deck2[\"fcfeat\"][j - 1].argmax())\n",
    "print(\"----------------------------------------------------------------------------------------\")\n",
    "\n",
    "for idx in indices_:\n",
    "    print(\"* Level\", deck1[\"tlevel\"][idx].item(), \":\", deck1[\"otext\"][idx])\n",
    "    print(\"----------------------------------------------------------------------------------------\")\n",
    "\n",
    "shown = True"
   ]
  },
  {
   "cell_type": "code",
   "execution_count": 84,
   "id": "d9ec3293-7150-4ec7-af4b-41fdbad3a24c",
   "metadata": {},
   "outputs": [
    {
     "name": "stdout",
     "output_type": "stream",
     "text": [
      "*  Submit : File 'HKEY_LOCAL_MACHINE\\System\\CurrentControlSet\\Services\\Appinfo\\TriggerInfo\\0' checksum changed.\n",
      "Old md5sum was: '144fde656cc51b43865babee87e3ba66'\n",
      "New md5sum is : '320750edfea8121d3dd0c11e400e14d5'\n",
      "Old sha1sum was: '5e651f3d302ef011e8acac8f459a40200e11f3bb'\n",
      "New sha1sum is : 'a5ab2b99a5776c37efb5b257797029e77836210e'\n",
      "----------------------------------------------------------------------------------------\n",
      "*   index : 29141\n",
      "*    dist : 0.2969 0.3256 0.3342 0.3502\n",
      "* fc-level: tensor(5)\n",
      "----------------------------------------------------------------------------------------\n",
      "* Level 5 : File 'HKEY_LOCAL_MACHINE\\System\\CurrentControlSet\\Services\\TimeBrokerSvc\\TriggerInfo\\2' checksum changed.\n",
      "Old md5sum was: '29f966f85adbd0acbc12afa7fb5452a9'\n",
      "New md5sum is : '0ea4550dd2debf0c12e271cbef949f45'\n",
      "Old sha1sum was: 'a7c8eb31ac96d7889d0c99ae1249c6d014e29367'\n",
      "New sha1sum is : '26014de5c23f5ed5cd04d5c0ec5dd8689bbf9268'\n",
      "----------------------------------------------------------------------------------------\n",
      "* Level 5 : File 'HKEY_LOCAL_MACHINE\\System\\CurrentControlSet\\Services\\SensorService\\TriggerInfo\\2' checksum changed.\n",
      "Old md5sum was: '55168dacb130f92996764eb6d3ee27f4'\n",
      "New md5sum is : 'a04bc94755ab19f8556366d1edd9b14b'\n",
      "Old sha1sum was: '18fe21c3a95bde8d0e16143c15cc85766306ce62'\n",
      "New sha1sum is : '4c1d93de29a21ccd83a347104ffc0e4e91816af1'\n",
      "----------------------------------------------------------------------------------------\n",
      "* Level 5 : File 'HKEY_LOCAL_MACHINE\\System\\CurrentControlSet\\Services\\NgcSvc\\TriggerInfo\\0' checksum changed.\n",
      "Old md5sum was: 'd122df35bdf24a33d5bc4bbbd5126cad'\n",
      "New md5sum is : '7e09398d823a9a1b974ce7ddc658ace7'\n",
      "Old sha1sum was: '5f6d4a7a5e99b8e7797bf524afe3c57c078b7fad'\n",
      "New sha1sum is : '49fe4465d9dad7ecbfdd31f07a7f5ad3b75cdace'\n",
      "----------------------------------------------------------------------------------------\n",
      "* Level 5 : File 'HKEY_LOCAL_MACHINE\\System\\CurrentControlSet\\Services\\DeviceInstall\\TriggerInfo\\0' checksum changed.\n",
      "Old md5sum was: 'b98d05e8b54e4c78c591c4849cec4ea0'\n",
      "New md5sum is : '39a8ee5722d096c48d2cc1277380efd3'\n",
      "Old sha1sum was: 'c9b928cc403fe9931074cf003ae2b2ce0cca9088'\n",
      "New sha1sum is : 'f4e2f0ca2c89cd2e6869a14ec63274983cc08170'\n",
      "----------------------------------------------------------------------------------------\n"
     ]
    }
   ],
   "source": [
    "print(\"*  Submit :\", deck2[\"otext\"][j - 1])\n",
    "print(\"----------------------------------------------------------------------------------------\")\n",
    "print(\"*   index :\", j - 1)\n",
    "print(\"*    dist :\", \" \".join(map(lambda x: f\"{x:.4f}\", values_.cpu().tolist())))\n",
    "print(\"* fc-level:\", deck2[\"fcfeat\"][j - 1].argmax())\n",
    "print(\"----------------------------------------------------------------------------------------\")\n",
    "\n",
    "for idx in indices_:\n",
    "    print(\"* Level\", deck1[\"tlevel\"][idx].item(), \":\", deck1[\"otext\"][idx])\n",
    "    print(\"----------------------------------------------------------------------------------------\")\n",
    "\n",
    "shown = True"
   ]
  },
  {
   "cell_type": "code",
   "execution_count": 76,
   "id": "76f2de96-e9bb-4136-8e09-0878e0682c40",
   "metadata": {},
   "outputs": [
    {
     "name": "stdout",
     "output_type": "stream",
     "text": [
      "*  Submit : File 'HKEY_LOCAL_MACHINE\\System\\CurrentControlSet\\Services\\TabletInputService\\TriggerInfo\\0' checksum changed.\n",
      "Old md5sum was: '794ea9f0f486a390ea39a64363bb1f2f'\n",
      "New md5sum is : 'f498d7fc9f1a7a733108b4d329c9e1ea'\n",
      "Old sha1sum was: '1d43d7b945d3094671686c6158151733aba40428'\n",
      "New sha1sum is : '2b0d7783f5099d7c0ccd8ade1779ceb913238b74'\n",
      "----------------------------------------------------------------------------------------\n",
      "*   index : 27021\n",
      "*    dist : 0.4447 0.4918 0.4931 0.5021\n",
      "* fc-level: tensor(5)\n",
      "----------------------------------------------------------------------------------------\n",
      "* Level 5 : File 'HKEY_LOCAL_MACHINE\\System\\CurrentControlSet\\Services\\BTHPORT\\Parameters\\UnsupportedServices' checksum changed.\n",
      "Old md5sum was: '3cdd2d3802ea689d9d6ccfb332d81a9d'\n",
      "New md5sum is : 'bf1c1297ec9c27f1060a6c724e5bcd67'\n",
      "Old sha1sum was: '897201c543ab132c41d84721fb1b690cefae2b55'\n",
      "New sha1sum is : '868b310b5b001452b9a540b4155a6303107b0f8a'\n",
      "----------------------------------------------------------------------------------------\n",
      "* Level 5 : File 'HKEY_LOCAL_MACHINE\\System\\CurrentControlSet\\Services\\SharedAccess\\Parameters\\FirewallPolicy\\RestrictedServices\\AppIso\\FirewallRules' checksum changed.\n",
      "Old md5sum was: 'bbfdddf29f87f871548a951bdcd2f12f'\n",
      "New md5sum is : '7116e321de48a31c868818f31841887d'\n",
      "Old sha1sum was: '145a7ff80526e2b274bf419f49975740f81301cc'\n",
      "New sha1sum is : '9c56ae45cf10b5bb2fde74484381b55894e8733d'\n",
      "----------------------------------------------------------------------------------------\n",
      "* Level 5 : File 'HKEY_LOCAL_MACHINE\\System\\CurrentControlSet\\Services\\DeviceAssociationService\\TriggerInfo\\1' checksum changed.\n",
      "Old md5sum was: '5924c67d872f98832be6afa48c092a68'\n",
      "New md5sum is : '9b1eab121e63c14ce9f27f87e7ee7752'\n",
      "Old sha1sum was: '6543d80c08609b3fdddbc6f854390dc64cbf58da'\n",
      "New sha1sum is : 'de32536117e4b28d40c2263810abd14d29d07d23'\n",
      "----------------------------------------------------------------------------------------\n",
      "* Level 5 : File 'HKEY_LOCAL_MACHINE\\System\\CurrentControlSet\\Services\\DeviceAssociationService\\TriggerInfo\\0' checksum changed.\n",
      "Old md5sum was: 'a1cebaf52df8023817e311628ad3477b'\n",
      "New md5sum is : '1ec345cdd1ce26d2d6fc2609a6f2856e'\n",
      "Old sha1sum was: '467b194f5b3acd9fe1f46e64f0c0a71b8096d5d4'\n",
      "New sha1sum is : 'd14e3aebee4a161a1b3d01456cced8d16f9ad27b'\n",
      "----------------------------------------------------------------------------------------\n"
     ]
    }
   ],
   "source": [
    "print(\"*  Submit :\", deck2[\"otext\"][j - 1])\n",
    "print(\"----------------------------------------------------------------------------------------\")\n",
    "print(\"*   index :\", j - 1)\n",
    "print(\"*    dist :\", \" \".join(map(lambda x: f\"{x:.4f}\", values_.cpu().tolist())))\n",
    "print(\"* fc-level:\", deck2[\"fcfeat\"][j - 1].argmax())\n",
    "print(\"----------------------------------------------------------------------------------------\")\n",
    "\n",
    "for idx in indices_:\n",
    "    print(\"* Level\", deck1[\"tlevel\"][idx].item(), \":\", deck1[\"otext\"][idx])\n",
    "    print(\"----------------------------------------------------------------------------------------\")\n",
    "\n",
    "shown = True"
   ]
  },
  {
   "cell_type": "code",
   "execution_count": 62,
   "id": "26fb2e4c-3312-4535-9475-4799bdc06da4",
   "metadata": {},
   "outputs": [
    {
     "name": "stdout",
     "output_type": "stream",
     "text": [
      "*  Submit : File '/etc/logstash/pipelines.yml' checksum changed.\n",
      "Old modification time was: 'Wed month day time 2020', now it is 'Thu month day time 2020'\n",
      "Old inode was: '269358225', now it is '269358259'\n",
      "----------------------------------------------------------------------------------------\n",
      "*   index : 21125\n",
      "*    dist : 0.3199 0.3317 0.4289 0.5243\n",
      "* fc-level: tensor(5)\n",
      "----------------------------------------------------------------------------------------\n",
      "* Level 5 : File '/etc/dev/.devlink_db' checksum changed.\n",
      "Old modification time was: 'Mon month day time 2020', now it is 'Thu month day time 2020'\n",
      "Old inode was: '143466', now it is '163931'\n",
      "----------------------------------------------------------------------------------------\n",
      "* Level 5 : File '/etc/resolv.conf' checksum changed.\n",
      "Old modification time was: 'Mon month day time 2020', now it is 'Fri month 4 time 2020'\n",
      "Old inode was: '271931298', now it is '269003749'\n",
      "----------------------------------------------------------------------------------------\n",
      "* Level 5 : File '/etc/resolv.conf' checksum changed.\n",
      "Old modification time was: 'Tue month 3 time 2020', now it is 'Tue month 3 time 2020'\n",
      "Old inode was: '269014866', now it is '268948003'\n",
      "----------------------------------------------------------------------------------------\n",
      "* Level 5 : File '/etc/tuned/profile_mode' checksum changed.\n",
      "Old modification time was: 'Thu month day time 2020', now it is 'Fri month day time 2020'\n",
      "----------------------------------------------------------------------------------------\n"
     ]
    }
   ],
   "source": [
    "print(\"*  Submit :\", deck2[\"otext\"][j - 1])\n",
    "print(\"----------------------------------------------------------------------------------------\")\n",
    "print(\"*   index :\", j - 1)\n",
    "print(\"*    dist :\", \" \".join(map(lambda x: f\"{x:.4f}\", values_.cpu().tolist())))\n",
    "print(\"* fc-level:\", deck2[\"fcfeat\"][j - 1].argmax())\n",
    "print(\"----------------------------------------------------------------------------------------\")\n",
    "\n",
    "for idx in indices_:\n",
    "    print(\"* Level\", deck1[\"tlevel\"][idx].item(), \":\", deck1[\"otext\"][idx])\n",
    "    print(\"----------------------------------------------------------------------------------------\")\n",
    "\n",
    "shown = True"
   ]
  },
  {
   "cell_type": "code",
   "execution_count": 44,
   "id": "0685a76f-6d97-486d-980e-7aa718cddffc",
   "metadata": {},
   "outputs": [
    {
     "name": "stdout",
     "output_type": "stream",
     "text": [
      "*  Submit : File '[x64] HKEY_LOCAL_MACHINE\\Software\\Microsoft\\Active Setup\\Installed Components\\{3af36230-a269-11d1-b5bf-0000f8051515}' checksum changed.\n",
      "Old md5sum was: 'ac25f4b5f184a699b422a8acdb0e2c00'\n",
      "New md5sum is : '0112e856f6e8687a2a76a3836678325b'\n",
      "Old sha1sum was: 'bc8028f57f1ef3f29559627d7fcd084f47e0e25f'\n",
      "New sha1sum is : 'bf28802cdd1548dfbaf6a6e0c884cb15a63ca8a6'\n",
      "----------------------------------------------------------------------------------------\n",
      "*   index : 6621\n",
      "*    dist : 0.5049 0.5624 0.5663 0.5699\n",
      "* fc-level: tensor(5)\n",
      "----------------------------------------------------------------------------------------\n",
      "* Level 5 : File 'HKEY_LOCAL_MACHINE\\Software\\Microsoft\\Active Setup\\Installed Components\\{9381D8F2-0288-11D0-9501-00AA00B911A5}' checksum changed.\n",
      "Old md5sum was: '61fabb70b46c3f848bfb33409edc9d88'\n",
      "New md5sum is : '99c8e4d89b7d116286101885e783f806'\n",
      "Old sha1sum was: 'a82c0ac16a33e1035f36a249c173208484d53ba1'\n",
      "New sha1sum is : '32a3f98f991e952a64d724c93efd9dd98c9f6d29'\n",
      "----------------------------------------------------------------------------------------\n",
      "* Level 5 : File 'HKEY_LOCAL_MACHINE\\System\\CurrentControlSet\\Services\\DeviceAssociationService\\TriggerInfo\\1' checksum changed.\n",
      "Old md5sum was: '5924c67d872f98832be6afa48c092a68'\n",
      "New md5sum is : '9b1eab121e63c14ce9f27f87e7ee7752'\n",
      "Old sha1sum was: '6543d80c08609b3fdddbc6f854390dc64cbf58da'\n",
      "New sha1sum is : 'de32536117e4b28d40c2263810abd14d29d07d23'\n",
      "----------------------------------------------------------------------------------------\n",
      "* Level 5 : File 'HKEY_LOCAL_MACHINE\\System\\CurrentControlSet\\Services\\SharedAccess\\Parameters\\FirewallPolicy\\FirewallRules' checksum changed.\n",
      "Old md5sum was: '9ee29b54980bbd5e2e5c952217f91a79'\n",
      "New md5sum is : '3d0dda318c9943b532d9b01705b51c53'\n",
      "Old sha1sum was: '41f8bea77ea36fffe5d8ec5cba99beceef648893'\n",
      "New sha1sum is : 'bec46e950f9f9aa87d73101473e0e3ea0f46c0e8'\n",
      "----------------------------------------------------------------------------------------\n",
      "* Level 5 : File 'HKEY_LOCAL_MACHINE\\System\\CurrentControlSet\\Services\\W32Time\\TimeProviders\\NtpClient' checksum changed.\n",
      "Old md5sum was: '0a72335759ff61966366ea4a6b676c89'\n",
      "New md5sum is : '962efd5f4aa55760d1a5d8c6ec40dd95'\n",
      "Old sha1sum was: 'f0063804450bd2b7f91b1b90979a60ed6c5c0789'\n",
      "New sha1sum is : 'acdd8a0d79c7792c1b9ecf694f259fdb0fa77b9c'\n",
      "----------------------------------------------------------------------------------------\n"
     ]
    }
   ],
   "source": [
    "print(\"*  Submit :\", deck2[\"otext\"][j - 1])\n",
    "print(\"----------------------------------------------------------------------------------------\")\n",
    "print(\"*   index :\", j - 1)\n",
    "print(\"*    dist :\", \" \".join(map(lambda x: f\"{x:.4f}\", values_.cpu().tolist())))\n",
    "print(\"* fc-level:\", deck2[\"fcfeat\"][j - 1].argmax())\n",
    "print(\"----------------------------------------------------------------------------------------\")\n",
    "\n",
    "for idx in indices_:\n",
    "    print(\"* Level\", deck1[\"tlevel\"][idx].item(), \":\", deck1[\"otext\"][idx])\n",
    "    print(\"----------------------------------------------------------------------------------------\")\n",
    "\n",
    "shown = True"
   ]
  },
  {
   "cell_type": "code",
   "execution_count": 41,
   "id": "7c349c1f-d110-46e1-9561-3d56c4cd19ff",
   "metadata": {},
   "outputs": [
    {
     "name": "stdout",
     "output_type": "stream",
     "text": [
      "*  Submit : month day time localhost yum pid : Installed: 1:java-11-openjdk- ip -2.el7_9.x86_64\n",
      "----------------------------------------------------------------------------------------\n",
      "*   index : 4859\n",
      "*    dist : 0.6474 0.8346 0.9480 1.0035\n",
      "* fc-level: tensor(5)\n",
      "----------------------------------------------------------------------------------------\n",
      "* Level 5 : month day time localhost yum pid : Installed: 1:openssl-devel-1.0.2k-21.el7_9.x86_64\n",
      "----------------------------------------------------------------------------------------\n",
      "* Level 5 : month day time localhost yum pid : Installed: bzip2-devel-1.0.6-13.el7.x86_64\n",
      "----------------------------------------------------------------------------------------\n",
      "* Level 5 : month day time localhost yum pid : Installed: libcom_err-devel-1.42.9-19.el7.x86_64\n",
      "----------------------------------------------------------------------------------------\n",
      "* Level 5 : month 1 time localhost yum pid : Installed: kernel-devel-3.10.0-1160.11.1.el7.x86_64\n",
      "----------------------------------------------------------------------------------------\n"
     ]
    }
   ],
   "source": [
    "print(\"*  Submit :\", deck2[\"otext\"][j - 1])\n",
    "print(\"----------------------------------------------------------------------------------------\")\n",
    "print(\"*   index :\", j - 1)\n",
    "print(\"*    dist :\", \" \".join(map(lambda x: f\"{x:.4f}\", values_.cpu().tolist())))\n",
    "print(\"* fc-level:\", deck2[\"fcfeat\"][j - 1].argmax())\n",
    "print(\"----------------------------------------------------------------------------------------\")\n",
    "\n",
    "for idx in indices_:\n",
    "    print(\"* Level\", deck1[\"tlevel\"][idx].item(), \":\", deck1[\"otext\"][idx])\n",
    "    print(\"----------------------------------------------------------------------------------------\")\n",
    "\n",
    "shown = True"
   ]
  },
  {
   "cell_type": "code",
   "execution_count": 35,
   "id": "a0d3e2b2-6119-4f1b-9cf1-fc19c7689c71",
   "metadata": {},
   "outputs": [
    {
     "name": "stdout",
     "output_type": "stream",
     "text": [
      "*  Submit : month day time localhost yum pid : Updated: 1:openssl-libs-1.0.2k-21.el7_9.x86_64\n",
      "----------------------------------------------------------------------------------------\n",
      "*   index : 675\n",
      "*    dist : 0.7271 0.9812 1.1065 1.1516\n",
      "* fc-level: tensor(5)\n",
      "----------------------------------------------------------------------------------------\n",
      "* Level 5 : month day time localhost yum pid : Updated: e2fsprogs-libs-1.42.9-19.el7.x86_64\n",
      "----------------------------------------------------------------------------------------\n",
      "* Level 5 : month day time localhost yum pid : Updated: libstdc++-4.8.5-44.el7.x86_64\n",
      "----------------------------------------------------------------------------------------\n",
      "* Level 5 : month day time localhost yum pid : Updated: openscap-scanner-1.2.17-11.el7.x86_64\n",
      "----------------------------------------------------------------------------------------\n",
      "* Level 5 : month day time localhost yum pid : Updated: libgcc-4.8.5-44.el7.x86_64\n",
      "----------------------------------------------------------------------------------------\n"
     ]
    }
   ],
   "source": [
    "print(\"*  Submit :\", deck2[\"otext\"][j - 1])\n",
    "print(\"----------------------------------------------------------------------------------------\")\n",
    "print(\"*   index :\", j - 1)\n",
    "print(\"*    dist :\", \" \".join(map(lambda x: f\"{x:.4f}\", values_.cpu().tolist())))\n",
    "print(\"* fc-level:\", deck2[\"fcfeat\"][j - 1].argmax())\n",
    "print(\"----------------------------------------------------------------------------------------\")\n",
    "\n",
    "for idx in indices_:\n",
    "    print(\"* Level\", deck1[\"tlevel\"][idx].item(), \":\", deck1[\"otext\"][idx])\n",
    "    print(\"----------------------------------------------------------------------------------------\")\n",
    "\n",
    "shown = True"
   ]
  }
 ],
 "metadata": {
  "kernelspec": {
   "display_name": "torch",
   "language": "python",
   "name": "torch"
  },
  "language_info": {
   "codemirror_mode": {
    "name": "ipython",
    "version": 3
   },
   "file_extension": ".py",
   "mimetype": "text/x-python",
   "name": "python",
   "nbconvert_exporter": "python",
   "pygments_lexer": "ipython3",
   "version": "3.7.10"
  }
 },
 "nbformat": 4,
 "nbformat_minor": 5
}
