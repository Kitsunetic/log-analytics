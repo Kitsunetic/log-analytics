{
 "cells": [
  {
   "cell_type": "code",
   "execution_count": null,
   "id": "c31390ba-6ae6-4e8f-b67d-ad8875d73738",
   "metadata": {},
   "outputs": [],
   "source": []
  },
  {
   "cell_type": "code",
   "execution_count": 78,
   "id": "59c91b8b-4ea5-4a63-ada2-980939e40359",
   "metadata": {},
   "outputs": [
    {
     "name": "stdout",
     "output_type": "stream",
     "text": [
      "*  Submit : oscap: msg: \"xccdf-result\", scan-id: \"0001605230036\", content: \"ssg-centos-7-ds.xml\", title: \"Verify and Correct File Permissions with RPM\", id: \"xccdf_org.ssgproject.content_rule_rpm_verify_permissions\", result: \"fail\", severity: \"high\", description: \"Discretionary access control is weakened if a user or group has access permissions to system files and directories greater than the default. The RPM package management system can check file access permissions of installed software packages, including many that are important to system security. Verify that the file permissions, ownership, and gruop membership of system files and commands match vendor values. Check the file permissions, ownership, and group membership with the following command: $ sudo rpm -Va | grep '^.M' Output indicates files that do not match vendor defaults. After locating a file with incorrect permissions, run the following command to determine which package owns it: $ rpm -qf FILENAME Next, run the following command to reset its permissions to the correct values: $ sudo rpm --setperms PACKAGENAME\", rationale: \"Permissions on system binaries and configuration files that are too generous could allow an unauthorized user to gain privileges that they should not have. The permissions set by the vendor should be maintained. Any deviations from this baseline should be investigated.\" references: \"AC-6 (http://nvlpubs.nist.gov/nistpubs/SpecialPublications/NIST.SP.800-53r4.pdf), AU-9(1) (http://nvlpubs.nist.gov/nistpubs/SpecialPublications/NIST.SP.800-53r4.pdf), AU-9(3) (http://nvlpubs.nist.gov/nistpubs/SpecialPublications/NIST.SP.800-53r4.pdf), CM-6(d) (http://nvlpubs.nist.gov/nistpubs/SpecialPublications/NIST.SP.800-53r4.pdf), CM-6(3) (http://nvlpubs.nist.gov/nistpubs/SpecialPublications/NIST.SP.800-53r4.pdf), 1494 (http://iase.disa.mil/stigs/cci/Pages/index.aspx), 1496 (http://iase.disa.mil/stigs/cci/Pages/index.aspx), Req-11.5 (https://www.pcisecuritystandards.org/documents/PCI_DSS_v3-1.pdf), 1.2.6 (https://benchmarks.cisecurity.org/tools2/linux/CIS_Red_Hat_Enterprise_Linux_7_Benchmark_v1.1.0.pdf), 6.1.3 (https://benchmarks.cisecurity.org/tools2/linux/CIS_Red_Hat_Enterprise_Linux_7_Benchmark_v1.1.0.pdf), 6.1.4 (https://benchmarks.cisecurity.org/tools2/linux/CIS_Red_Hat_Enterprise_Linux_7_Benchmark_v1.1.0.pdf), 6.1.5 (https://benchmarks.cisecurity.org/tools2/linux/CIS_Red_Hat_Enterprise_Linux_7_Benchmark_v1.1.0.pdf), 6.1.6 (https://benchmarks.cisecurity.org/tools2/linux/CIS_Red_Hat_Enterprise_Linux_7_Benchmark_v1.1.0.pdf), 6.1.7 (https://benchmarks.cisecurity.org/tools2/linux/CIS_Red_Hat_Enterprise_Linux_7_Benchmark_v1.1.0.pdf), 6.1.8 (https://benchmarks.cisecurity.org/tools2/linux/CIS_Red_Hat_Enterprise_Linux_7_Benchmark_v1.1.0.pdf), 6.1.9 (https://benchmarks.cisecurity.org/tools2/linux/CIS_Red_Hat_Enterprise_Linux_7_Benchmark_v1.1.0.pdf), 6.2.3 (https://benchmarks.cisecurity.org/tools2/linux/CIS_Red_Hat_Enterprise_Linux_7_Benchmark_v1.1.0.pdf), SRG-OS-000257-GPOS-00098 (http://iase.disa.mil/stigs/srgs/Pages/index.aspx), SRG-OS-000278-GPOS-00108 (http://iase.disa.mil/stigs/srgs/Pages/index.aspx), 5.10.4.1 (https://www.fbi.gov/file-repository/cjis-security-policy-v5_5_20160601-2-1.pdf), 3.3.8 (http://nvlpubs.nist.gov/nistpubs/SpecialPublications/NIST.SP.800-171.pdf), 3.4.1 (http://nvlpubs.nist.gov/nistpubs/SpecialPublications/NIST.SP.800-171.pdf)\", identifiers: \"\", oval-id: \"oval:ssg-rpm_verify_permissions:def:1\", benchmark-id: \"xccdf_org.ssgproject.content_benchmark_RHEL-7\", profile-id: \"xccdf_org.ssgproject.content_profile_pci-dss\", profile-title: \"PCI-DSS v3 Control Baseline for Red Hat Enterprise Linux 7\".\n",
      "----------------------------------------------------------------------------------------\n",
      "*   index : 12162\n",
      "*    dist : 1.8624 1.8671 1.8701 1.8708\n",
      "* fc-level: tensor(3)\n",
      "----------------------------------------------------------------------------------------\n",
      "* Level 3 : oscap: msg: \"xccdf-result\", scan-id: \"0001608007153\", content: \"ssg-centos-7-ds.xml\", title: \"Disable Automatic Bug Reporting Tool (abrtd)\", id: \"xccdf_org.ssgproject.content_rule_service_abrtd_disabled\", result: \"fail\", severity: \"low\", description: \"The Automatic Bug Reporting Tool (abrtd) daemon collects and reports crash data when an application crash is detected. Using a variety of plugins, abrtd can email crash reports to system administrators, log crash reports to files, or forward crash reports to a centralized issue tracking system such as RHTSupport. The abrtd service can be disabled with the following command: $ sudo systemctl disable abrtd.service\", rationale: \"Mishandling crash data could expose sensitive information about vulnerabilities in software executing on the system, as well as sensitive information from within a process's address space or registers.\" references: \"AC-17(8) (http://nvlpubs.nist.gov/nistpubs/SpecialPublications/NIST.SP.800-53r4.pdf), CM-7 (http://nvlpubs.nist.gov/nistpubs/SpecialPublications/NIST.SP.800-53r4.pdf), (http://iase.disa.mil/stigs/cci/Pages/index.aspx)\", identifiers: \"\", oval-id: \"oval:ssg-service_abrtd_disabled:def:1\", benchmark-id: \"xccdf_org.ssgproject.content_benchmark_RHEL-7\", profile-id: \"xccdf_org.ssgproject.content_profile_common\", profile-title: \"Common Profile for General-Purpose Systems\".\n",
      "----------------------------------------------------------------------------------------\n",
      "* Level 3 : oscap: msg: \"xccdf-result\", scan-id: \"0001608093406\", content: \"ssg-centos-7-ds.xml\", title: \"Disable Automatic Bug Reporting Tool (abrtd)\", id: \"xccdf_org.ssgproject.content_rule_service_abrtd_disabled\", result: \"fail\", severity: \"low\", description: \"The Automatic Bug Reporting Tool (abrtd) daemon collects and reports crash data when an application crash is detected. Using a variety of plugins, abrtd can email crash reports to system administrators, log crash reports to files, or forward crash reports to a centralized issue tracking system such as RHTSupport. The abrtd service can be disabled with the following command: $ sudo systemctl disable abrtd.service\", rationale: \"Mishandling crash data could expose sensitive information about vulnerabilities in software executing on the system, as well as sensitive information from within a process's address space or registers.\" references: \"AC-17(8) (http://nvlpubs.nist.gov/nistpubs/SpecialPublications/NIST.SP.800-53r4.pdf), CM-7 (http://nvlpubs.nist.gov/nistpubs/SpecialPublications/NIST.SP.800-53r4.pdf), (http://iase.disa.mil/stigs/cci/Pages/index.aspx)\", identifiers: \"\", oval-id: \"oval:ssg-service_abrtd_disabled:def:1\", benchmark-id: \"xccdf_org.ssgproject.content_benchmark_RHEL-7\", profile-id: \"xccdf_org.ssgproject.content_profile_common\", profile-title: \"Common Profile for General-Purpose Systems\".\n",
      "----------------------------------------------------------------------------------------\n",
      "* Level 3 : oscap: msg: \"xccdf-result\", scan-id: \"0001602317054\", content: \"ssg-centos-7-ds.xml\", title: \"Disable Automatic Bug Reporting Tool (abrtd)\", id: \"xccdf_org.ssgproject.content_rule_service_abrtd_disabled\", result: \"fail\", severity: \"low\", description: \"The Automatic Bug Reporting Tool (abrtd) daemon collects and reports crash data when an application crash is detected. Using a variety of plugins, abrtd can email crash reports to system administrators, log crash reports to files, or forward crash reports to a centralized issue tracking system such as RHTSupport. The abrtd service can be disabled with the following command: $ sudo systemctl disable abrtd.service\", rationale: \"Mishandling crash data could expose sensitive information about vulnerabilities in software executing on the system, as well as sensitive information from within a process's address space or registers.\" references: \"AC-17(8) (http://nvlpubs.nist.gov/nistpubs/SpecialPublications/NIST.SP.800-53r4.pdf), CM-7 (http://nvlpubs.nist.gov/nistpubs/SpecialPublications/NIST.SP.800-53r4.pdf), (http://iase.disa.mil/stigs/cci/Pages/index.aspx)\", identifiers: \"\", oval-id: \"oval:ssg-service_abrtd_disabled:def:1\", benchmark-id: \"xccdf_org.ssgproject.content_benchmark_RHEL-7\", profile-id: \"xccdf_org.ssgproject.content_profile_common\", profile-title: \"Common Profile for General-Purpose Systems\".\n",
      "----------------------------------------------------------------------------------------\n",
      "* Level 3 : oscap: msg: \"xccdf-result\", scan-id: \"0001605570931\", content: \"ssg-centos-7-ds.xml\", title: \"Disable Automatic Bug Reporting Tool (abrtd)\", id: \"xccdf_org.ssgproject.content_rule_service_abrtd_disabled\", result: \"fail\", severity: \"low\", description: \"The Automatic Bug Reporting Tool (abrtd) daemon collects and reports crash data when an application crash is detected. Using a variety of plugins, abrtd can email crash reports to system administrators, log crash reports to files, or forward crash reports to a centralized issue tracking system such as RHTSupport. The abrtd service can be disabled with the following command: $ sudo systemctl disable abrtd.service\", rationale: \"Mishandling crash data could expose sensitive information about vulnerabilities in software executing on the system, as well as sensitive information from within a process's address space or registers.\" references: \"AC-17(8) (http://nvlpubs.nist.gov/nistpubs/SpecialPublications/NIST.SP.800-53r4.pdf), CM-7 (http://nvlpubs.nist.gov/nistpubs/SpecialPublications/NIST.SP.800-53r4.pdf), (http://iase.disa.mil/stigs/cci/Pages/index.aspx)\", identifiers: \"\", oval-id: \"oval:ssg-service_abrtd_disabled:def:1\", benchmark-id: \"xccdf_org.ssgproject.content_benchmark_RHEL-7\", profile-id: \"xccdf_org.ssgproject.content_profile_common\", profile-title: \"Common Profile for General-Purpose Systems\".\n",
      "----------------------------------------------------------------------------------------\n"
     ]
    }
   ],
   "source": [
    "print(\"*  Submit :\", df.full_log[deck2[\"ids\"][j - 1][0] - 1000000])\n",
    "print(\"----------------------------------------------------------------------------------------\")\n",
    "print(\"*   index :\", j - 1)\n",
    "print(\"*    dist :\", \" \".join(map(lambda x: f\"{x:.4f}\", values_.cpu().tolist())))\n",
    "print(\"* fc-level:\", deck2[\"fclevel\"][j - 1])\n",
    "print(\"----------------------------------------------------------------------------------------\")\n",
    "\n",
    "for idx in indices_:\n",
    "    print(\"* Level\", deck1[\"tlevel\"][idx].item(), \":\", deck1[\"otext\"][idx])\n",
    "    print(\"----------------------------------------------------------------------------------------\")\n",
    "\n",
    "shown = True"
   ]
  },
  {
   "cell_type": "code",
   "execution_count": 70,
   "id": "07571f24-8c34-482c-8bd3-67f67369ad16",
   "metadata": {},
   "outputs": [
    {
     "name": "stdout",
     "output_type": "stream",
     "text": [
      "*  Submit : Jan 28 22:46:40 localhost sshd[28150]: Invalid user jboss from 95.111.236.177 port 53922\n",
      "----------------------------------------------------------------------------------------\n",
      "*   index : 6603\n",
      "*    dist : 0.5393 0.5468 0.5698 0.5973\n",
      "* fc-level: tensor(3)\n",
      "----------------------------------------------------------------------------------------\n",
      "* Level 3 : Jan 28 22:58:16 localhost sshd[29028]: Invalid user asadal from 95.111.236.177 port 53506\n",
      "----------------------------------------------------------------------------------------\n",
      "* Level 3 : Jan 27 20:29:10 localhost sshd[6359]: Invalid user bdos from 35.184.222.44 port 49022\n",
      "----------------------------------------------------------------------------------------\n",
      "* Level 3 : Jan 28 22:54:34 localhost sshd[28747]: Invalid user shenyy from 95.111.236.177 port 36802\n",
      "----------------------------------------------------------------------------------------\n",
      "* Level 3 : Jan 27 20:37:05 localhost sshd[7572]: Invalid user huawei from 35.184.222.44 port 44876\n",
      "----------------------------------------------------------------------------------------\n"
     ]
    }
   ],
   "source": [
    "print(\"*  Submit :\", df.full_log[deck2[\"ids\"][j - 1][0] - 1000000])\n",
    "print(\"----------------------------------------------------------------------------------------\")\n",
    "print(\"*   index :\", j - 1)\n",
    "print(\"*    dist :\", \" \".join(map(lambda x: f\"{x:.4f}\", values_.cpu().tolist())))\n",
    "print(\"* fc-level:\", deck2[\"fclevel\"][j - 1])\n",
    "print(\"----------------------------------------------------------------------------------------\")\n",
    "\n",
    "for idx in indices_:\n",
    "    print(\"* Level\", deck1[\"tlevel\"][idx].item(), \":\", deck1[\"otext\"][idx])\n",
    "    print(\"----------------------------------------------------------------------------------------\")\n",
    "\n",
    "shown = True"
   ]
  },
  {
   "cell_type": "code",
   "execution_count": 42,
   "id": "eb0470db-a0d4-4c91-becb-672b7cb3e50f",
   "metadata": {},
   "outputs": [
    {
     "name": "stdout",
     "output_type": "stream",
     "text": [
      "*  Submit : File 'HKEY_LOCAL_MACHINE\\System\\CurrentControlSet\\Services\\CredentialEnrollmentManagerUserSvc_3cd2fea\\Security' was added.\n",
      "\n",
      "----------------------------------------------------------------------------------------\n",
      "*   index : 3209\n",
      "*    dist : 0.2039 0.2121 0.2121 0.2124\n",
      "* fc-level: tensor(3)\n",
      "----------------------------------------------------------------------------------------\n",
      "* Level 3 : File 'HKEY_LOCAL_MACHINESystemCurrentControlSetServicesBluetoothUserService_4ceeb83TriggerInfo0' was added.\n",
      "----------------------------------------------------------------------------------------\n",
      "* Level 3 : File 'HKEY_LOCAL_MACHINESystemCurrentControlSetServicesBluetoothUserService_4ceeb83TriggerInfo3' was added.\n",
      "----------------------------------------------------------------------------------------\n",
      "* Level 3 : File 'HKEY_LOCAL_MACHINESystemCurrentControlSetServicesBluetoothUserService_4ceeb83TriggerInfo3' was added.\n",
      "----------------------------------------------------------------------------------------\n",
      "* Level 3 : File 'HKEY_LOCAL_MACHINESystemCurrentControlSetServicesBluetoothUserService_4ceeb83TriggerInfo4' was added.\n",
      "----------------------------------------------------------------------------------------\n"
     ]
    }
   ],
   "source": [
    "print(\"*  Submit :\", df.full_log[deck2[\"ids\"][j - 1][0] - 1000000])\n",
    "print(\"----------------------------------------------------------------------------------------\")\n",
    "print(\"*   index :\", j - 1)\n",
    "print(\"*    dist :\", \" \".join(map(lambda x: f\"{x:.4f}\", values_.cpu().tolist())))\n",
    "print(\"* fc-level:\", deck2[\"fclevel\"][j - 1])\n",
    "print(\"----------------------------------------------------------------------------------------\")\n",
    "\n",
    "for idx in indices_:\n",
    "    print(\"* Level\", deck1[\"tlevel\"][idx].item(), \":\", deck1[\"otext\"][idx])\n",
    "    print(\"----------------------------------------------------------------------------------------\")\n",
    "\n",
    "shown = True"
   ]
  },
  {
   "cell_type": "code",
   "execution_count": 28,
   "id": "5ff5dace-87e6-4a92-9d8d-7fd637dbc078",
   "metadata": {},
   "outputs": [
    {
     "name": "stdout",
     "output_type": "stream",
     "text": [
      "*  Submit : Jan 28 22:39:00 localhost sshd[27582]: Invalid user zao from 95.111.236.177 port 35056\n",
      "----------------------------------------------------------------------------------------\n",
      "*   index : 2023\n",
      "*    dist : 0.3369 0.3397 0.3400 0.3424\n",
      "* fc-level: tensor(3)\n",
      "----------------------------------------------------------------------------------------\n",
      "* Level 3 : Jan 27 20:34:36 localhost sshd[7183]: Invalid user zhangzhao from 35.184.222.44 port 38566\n",
      "----------------------------------------------------------------------------------------\n",
      "* Level 3 : Jan 27 20:34:35 localhost sshd[7181]: Invalid user zhangzhao from 35.184.222.44 port 33656\n",
      "----------------------------------------------------------------------------------------\n",
      "* Level 3 : Jan 28 22:41:40 localhost sshd[27777]: Invalid user dmdba from 95.111.236.177 port 33948\n",
      "----------------------------------------------------------------------------------------\n",
      "* Level 3 : Jan 24 03:01:39 localhost sshd[32079]: Invalid user user1 from 35.213.176.172 port 50342\n",
      "----------------------------------------------------------------------------------------\n"
     ]
    }
   ],
   "source": [
    "print(\"*  Submit :\", df.full_log[deck2[\"ids\"][j - 1][0] - 1000000])\n",
    "print(\"----------------------------------------------------------------------------------------\")\n",
    "print(\"*   index :\", j - 1)\n",
    "print(\"*    dist :\", \" \".join(map(lambda x: f\"{x:.4f}\", values_.cpu().tolist())))\n",
    "print(\"* fc-level:\", deck2[\"fclevel\"][j - 1])\n",
    "print(\"----------------------------------------------------------------------------------------\")\n",
    "\n",
    "for idx in indices_:\n",
    "    print(\"* Level\", deck1[\"tlevel\"][idx].item(), \":\", deck1[\"otext\"][idx])\n",
    "    print(\"----------------------------------------------------------------------------------------\")\n",
    "\n",
    "shown = True"
   ]
  },
  {
   "cell_type": "code",
   "execution_count": 22,
   "id": "9301dbc9-bfc5-46a6-aa33-cfc964c1bc75",
   "metadata": {},
   "outputs": [
    {
     "name": "stdout",
     "output_type": "stream",
     "text": [
      "*  Submit : level : 3, log : Connected to license-check\n",
      "----------------------------------------------------------------------------------------\n",
      "*   index : 820\n",
      "*    dist : 0.5127 0.5165 0.5340 0.5519\n",
      "* fc-level: tensor(0)\n",
      "----------------------------------------------------------------------------------------\n",
      "* Level 0 : level : 3, log : Dynamic VPN license denied, no available license\n",
      "----------------------------------------------------------------------------------------\n",
      "* Level 0 : level : 5, log : Dynamic VPN license check failed for user username\n",
      "----------------------------------------------------------------------------------------\n",
      "* Level 3 : level : 3, log : Reason: reason\n",
      "----------------------------------------------------------------------------------------\n",
      "* Level 0 : level : 3, log : Cond-Groups: reason\n",
      "----------------------------------------------------------------------------------------\n"
     ]
    }
   ],
   "source": [
    "print(\"*  Submit :\", df.full_log[deck2[\"ids\"][j - 1][0] - 1000000])\n",
    "print(\"----------------------------------------------------------------------------------------\")\n",
    "print(\"*   index :\", j - 1)\n",
    "print(\"*    dist :\", \" \".join(map(lambda x: f\"{x:.4f}\", values_.cpu().tolist())))\n",
    "print(\"* fc-level:\", deck2[\"fclevel\"][j - 1])\n",
    "print(\"----------------------------------------------------------------------------------------\")\n",
    "\n",
    "for idx in indices_:\n",
    "    print(\"* Level\", deck1[\"tlevel\"][idx].item(), \":\", deck1[\"otext\"][idx])\n",
    "    print(\"----------------------------------------------------------------------------------------\")\n",
    "\n",
    "shown = True"
   ]
  }
 ],
 "metadata": {
  "kernelspec": {
   "display_name": "torch",
   "language": "python",
   "name": "torch"
  },
  "language_info": {
   "codemirror_mode": {
    "name": "ipython",
    "version": 3
   },
   "file_extension": ".py",
   "mimetype": "text/x-python",
   "name": "python",
   "nbconvert_exporter": "python",
   "pygments_lexer": "ipython3",
   "version": "3.7.10"
  }
 },
 "nbformat": 4,
 "nbformat_minor": 5
}
