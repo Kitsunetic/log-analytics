{
 "cells": [
  {
   "cell_type": "code",
   "execution_count": null,
   "id": "a1086680-552d-4320-87c1-8f552bec92d0",
   "metadata": {
    "tags": []
   },
   "outputs": [],
   "source": []
  },
  {
   "cell_type": "code",
   "execution_count": 74,
   "id": "7d43728a-2207-47a0-8a16-cd683ea396f6",
   "metadata": {},
   "outputs": [
    {
     "name": "stdout",
     "output_type": "stream",
     "text": [
      "*  Submit : Dec  2 15:26:59 localhost kibana: GET http://localhost:9200/_xpack/ml/anomaly_detectors/_stats => connect ECONNREFUSED 127.0.0.1:9200\n",
      "----------------------------------------------------------------------------------------\n",
      "*   index : 9771\n",
      "*    dist : 0.5569 0.5742 2.5895 2.6282\n",
      "* fc-level: tensor(0)\n",
      "----------------------------------------------------------------------------------------\n",
      "* Level 0 : Jan 29 15:38:52 localhost kibana: GET http://localhost:9200/_xpack/ml/datafeeds/_stats => connect ECONNREFUSED 127.0.0.1:9200\n",
      "----------------------------------------------------------------------------------------\n",
      "* Level 0 : Dec 2 15:26:59 localhost kibana: GET http://localhost:9200/_xpack/ml/anomaly_detectors/ => connect ECONNREFUSED 127.0.0.1:9200\n",
      "----------------------------------------------------------------------------------------\n",
      "* Level 0 : Dec 28 10:26:05 localhost kibana: at checkRespForFailure (/usr/share/kibana/node_modules/elasticsearch/src/lib/transport.js:259:18)\n",
      "----------------------------------------------------------------------------------------\n",
      "* Level 0 : Jan 29 15:38:52 localhost kibana: at checkRespForFailure (/usr/share/kibana/node_modules/elasticsearch/src/lib/transport.js:259:18)\n",
      "----------------------------------------------------------------------------------------\n"
     ]
    }
   ],
   "source": [
    "print(\"*  Submit :\", df.full_log[deck2[\"ids\"][j - 1][0] - 1000000])\n",
    "print(\"----------------------------------------------------------------------------------------\")\n",
    "print(\"*   index :\", j - 1)\n",
    "print(\"*    dist :\", \" \".join(map(lambda x: f\"{x:.4f}\", values_.cpu().tolist())))\n",
    "print(\"* fc-level:\", deck2[\"fclevel\"][j - 1])\n",
    "print(\"----------------------------------------------------------------------------------------\")\n",
    "\n",
    "for idx in indices_:\n",
    "    print(\"* Level\", deck1[\"tlevel\"][idx].item(), \":\", deck1[\"otext\"][idx])\n",
    "    print(\"----------------------------------------------------------------------------------------\")\n",
    "\n",
    "shown = True"
   ]
  },
  {
   "cell_type": "code",
   "execution_count": 72,
   "id": "58d9e733-df02-45d9-8728-6c18f240d418",
   "metadata": {},
   "outputs": [
    {
     "name": "stdout",
     "output_type": "stream",
     "text": [
      "*  Submit : Sep 18 10:17:03 localhost node: { Error: ENOENT: no such file or directory, open '/var/ossec/logs/api.log'\n",
      "----------------------------------------------------------------------------------------\n",
      "*   index : 7856\n",
      "*    dist : 2.6935 2.7523 2.8342 2.9680\n",
      "* fc-level: tensor(0)\n",
      "----------------------------------------------------------------------------------------\n",
      "* Level 0 : Jan 21 18:02:25 localhost polkitd[854]: /etc/polkit-1/rules.d/49-polkit-pkla-compat.rules:21: Error: Error spawning helper: Timed out after 10 seconds (g-io-error-quark, 24)\n",
      "----------------------------------------------------------------------------------------\n",
      "* Level 0 : Jan 22 14:35:53 localhost elasticsearch: # Native memory allocation (mmap) failed to map 3946053632 bytes for committing reserved memory.\n",
      "----------------------------------------------------------------------------------------\n",
      "* Level 0 : E: probe_rpminfo: RPM: db5 error(-30973) from dbenv->failchk: BDB0087 DB_RUNRECOVERY: Fatal error, run database recovery\n",
      "----------------------------------------------------------------------------------------\n",
      "* Level 0 : Oct 20 20:24:56 localhost mcelog: Hardware event. This is not a software error.\n",
      "----------------------------------------------------------------------------------------\n"
     ]
    }
   ],
   "source": [
    "print(\"*  Submit :\", df.full_log[deck2[\"ids\"][j - 1][0] - 1000000])\n",
    "print(\"----------------------------------------------------------------------------------------\")\n",
    "print(\"*   index :\", j - 1)\n",
    "print(\"*    dist :\", \" \".join(map(lambda x: f\"{x:.4f}\", values_.cpu().tolist())))\n",
    "print(\"* fc-level:\", deck2[\"fclevel\"][j - 1])\n",
    "print(\"----------------------------------------------------------------------------------------\")\n",
    "\n",
    "for idx in indices_:\n",
    "    print(\"* Level\", deck1[\"tlevel\"][idx].item(), \":\", deck1[\"otext\"][idx])\n",
    "    print(\"----------------------------------------------------------------------------------------\")\n",
    "\n",
    "shown = True"
   ]
  },
  {
   "cell_type": "code",
   "execution_count": 46,
   "id": "101f1ed0-a7bd-4bb1-ab61-3af02a33bf4b",
   "metadata": {},
   "outputs": [
    {
     "name": "stdout",
     "output_type": "stream",
     "text": [
      "*  Submit : level : 3, log : Prefix length prefix-length is too short for prefix route-prefix\n",
      "----------------------------------------------------------------------------------------\n",
      "*   index : 3846\n",
      "*    dist : 0.4907 0.4929 0.5050 0.7447\n",
      "* fc-level: tensor(0)\n",
      "----------------------------------------------------------------------------------------\n",
      "* Level 0 : level : 5, log : prefix length prefix-length is too short for prefix route-prefix under policy-statement policy-name, ignoring excess host bits\n",
      "----------------------------------------------------------------------------------------\n",
      "* Level 0 : level : 5, log : Multicast argument: prefix length prefix-length is too short for prefix route-prefix, ignoring excess host bits\n",
      "----------------------------------------------------------------------------------------\n",
      "* Level 0 : level : 5, log : MVPN argument: prefix length prefix-length is too short for prefix route-prefix, ignoring excess host bits\n",
      "----------------------------------------------------------------------------------------\n",
      "* Level 0 : level : 5, log : Number of prefixes (prefix-count) in table table-name reached warning threshold (threshold percent of configured maximum limit)\n",
      "----------------------------------------------------------------------------------------\n"
     ]
    }
   ],
   "source": [
    "print(\"*  Submit :\", df.full_log[deck2[\"ids\"][j - 1][0] - 1000000])\n",
    "print(\"----------------------------------------------------------------------------------------\")\n",
    "print(\"*   index :\", j - 1)\n",
    "print(\"*    dist :\", \" \".join(map(lambda x: f\"{x:.4f}\", values_.cpu().tolist())))\n",
    "print(\"* fc-level:\", deck2[\"fclevel\"][j - 1])\n",
    "print(\"----------------------------------------------------------------------------------------\")\n",
    "\n",
    "for idx in indices_:\n",
    "    print(\"* Level\", deck1[\"tlevel\"][idx].item(), \":\", deck1[\"otext\"][idx])\n",
    "    print(\"----------------------------------------------------------------------------------------\")\n",
    "\n",
    "shown = True"
   ]
  },
  {
   "cell_type": "code",
   "execution_count": 38,
   "id": "bc0cfe9e-31f5-4f98-8c4d-bef2263047d1",
   "metadata": {},
   "outputs": [
    {
     "name": "stdout",
     "output_type": "stream",
     "text": [
      "*  Submit : Nov 18 17:45:36 localhost kernel: [drm:atom_execute_table_locked [radeon]] *ERROR* atombios stuck executing 6376 (len 276, WS 4, PS 0) @ 0x6381\n",
      "----------------------------------------------------------------------------------------\n",
      "*   index : 2873\n",
      "*    dist : 0.2364 0.2725 0.3121 0.3337\n",
      "* fc-level: tensor(0)\n",
      "----------------------------------------------------------------------------------------\n",
      "* Level 0 : Oct 20 20:24:55 localhost kernel: [drm:atom_execute_table_locked [radeon]] *ERROR* atombios stuck executing 6328 (len 78, WS 12, PS 8) @ 0x6330\n",
      "----------------------------------------------------------------------------------------\n",
      "* Level 0 : Oct 20 20:25:13 localhost kernel: [drm:atom_execute_table_locked [radeon]] *ERROR* atombios stuck executing 6328 (len 78, WS 12, PS 8) @ 0x6330\n",
      "----------------------------------------------------------------------------------------\n",
      "* Level 0 : Nov 18 17:43:08 localhost kernel: [drm:atom_execute_table_locked [radeon]] *ERROR* atombios stuck executing 6B9C (len 367, WS 0, PS 0) @ 0x6BDA\n",
      "----------------------------------------------------------------------------------------\n",
      "* Level 0 : Oct 20 20:25:13 localhost kernel: [drm:atom_execute_table_locked [radeon]] *ERROR* atombios stuck executing 6B9C (len 367, WS 0, PS 0) @ 0x6BDA\n",
      "----------------------------------------------------------------------------------------\n"
     ]
    }
   ],
   "source": [
    "print(\"*  Submit :\", df.full_log[deck2[\"ids\"][j - 1][0] - 1000000])\n",
    "print(\"----------------------------------------------------------------------------------------\")\n",
    "print(\"*   index :\", j - 1)\n",
    "print(\"*    dist :\", \" \".join(map(lambda x: f\"{x:.4f}\", values_.cpu().tolist())))\n",
    "print(\"* fc-level:\", deck2[\"fclevel\"][j - 1])\n",
    "print(\"----------------------------------------------------------------------------------------\")\n",
    "\n",
    "for idx in indices_:\n",
    "    print(\"* Level\", deck1[\"tlevel\"][idx].item(), \":\", deck1[\"otext\"][idx])\n",
    "    print(\"----------------------------------------------------------------------------------------\")\n",
    "\n",
    "shown = True"
   ]
  }
 ],
 "metadata": {
  "kernelspec": {
   "display_name": "torch",
   "language": "python",
   "name": "torch"
  },
  "language_info": {
   "codemirror_mode": {
    "name": "ipython",
    "version": 3
   },
   "file_extension": ".py",
   "mimetype": "text/x-python",
   "name": "python",
   "nbconvert_exporter": "python",
   "pygments_lexer": "ipython3",
   "version": "3.7.10"
  }
 },
 "nbformat": 4,
 "nbformat_minor": 5
}
