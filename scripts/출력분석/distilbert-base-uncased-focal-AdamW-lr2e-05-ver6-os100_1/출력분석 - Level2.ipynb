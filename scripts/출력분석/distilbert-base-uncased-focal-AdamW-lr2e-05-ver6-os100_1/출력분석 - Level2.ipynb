{
 "cells": [
  {
   "cell_type": "code",
   "execution_count": null,
   "id": "ad89467b-d32e-44e9-8722-f41b1b4d0df1",
   "metadata": {},
   "outputs": [],
   "source": []
  },
  {
   "cell_type": "code",
   "execution_count": 33,
   "id": "0e6dd244-9538-4496-bbc3-e45c2d393c4c",
   "metadata": {},
   "outputs": [
    {
     "name": "stdout",
     "output_type": "stream",
     "text": [
      "*  Submit : The average number of logs between 18:00 and 19:00 is 5572. We reached 94025.\n",
      "----------------------------------------------------------------------------------------\n",
      "*   index : 18839\n",
      "*    dist : 0.1787 0.2182 0.3318 0.3352\n",
      "* fc-level: tensor(2)\n",
      "----------------------------------------------------------------------------------------\n",
      "* Level 2 : The average number of logs between 5:00 and 6:00 is 8362. We reached 93476.\n",
      "----------------------------------------------------------------------------------------\n",
      "* Level 2 : The average number of logs between 10:00 and 11:00 is 5399. We reached 37090.\n",
      "----------------------------------------------------------------------------------------\n",
      "* Level 2 : The average number of logs between 2:00 and 3:00 is 9428. We reached 75572.\n",
      "----------------------------------------------------------------------------------------\n",
      "* Level 2 : The average number of logs between 6:00 and 7:00 is 6420. We reached 28494.\n",
      "----------------------------------------------------------------------------------------\n"
     ]
    }
   ],
   "source": [
    "print(\"*  Submit :\", str(df.full_log[deck2[\"ids\"][j - 1][0] - 1000000]))\n",
    "print(\"----------------------------------------------------------------------------------------\")\n",
    "print(\"*   index :\", j - 1)\n",
    "print(\"*    dist :\", \" \".join(map(lambda x: f\"{x:.4f}\", values_.cpu().tolist())))\n",
    "print(\"* fc-level:\", deck2[\"fclevel\"][j - 1])\n",
    "print(\"----------------------------------------------------------------------------------------\")\n",
    "\n",
    "for idx in indices_:\n",
    "    print(\"* Level\", deck1[\"tlevel\"][idx].item(), \":\", deck1[\"otext\"][idx])\n",
    "    print(\"----------------------------------------------------------------------------------------\")\n",
    "\n",
    "shown = True"
   ]
  },
  {
   "cell_type": "code",
   "execution_count": 31,
   "id": "241660ef-8759-41d7-99d2-fe158a7bb5a7",
   "metadata": {},
   "outputs": [
    {
     "name": "stdout",
     "output_type": "stream",
     "text": [
      "*  Submit : The average number of logs between 6:00 and 7:00 is 6708. We reached 48588.\n",
      "----------------------------------------------------------------------------------------\n",
      "*   index : 12957\n",
      "*    dist : 0.1789 0.1914 0.2290 0.2559\n",
      "* fc-level: tensor(2)\n",
      "----------------------------------------------------------------------------------------\n",
      "* Level 2 : The average number of logs between 15:00 and 16:00 is 4411. We reached 9487.\n",
      "----------------------------------------------------------------------------------------\n",
      "* Level 2 : The average number of logs between 5:00 and 6:00 is 8362. We reached 93476.\n",
      "----------------------------------------------------------------------------------------\n",
      "* Level 2 : The average number of logs between 4:00 and 5:00 is 2806. We reached 11476.\n",
      "----------------------------------------------------------------------------------------\n",
      "* Level 2 : The average number of logs between 6:00 and 7:00 is 6420. We reached 28494.\n",
      "----------------------------------------------------------------------------------------\n"
     ]
    }
   ],
   "source": [
    "print(\"*  Submit :\", str(df.full_log[deck2[\"ids\"][j - 1][0] - 1000000]))\n",
    "print(\"----------------------------------------------------------------------------------------\")\n",
    "print(\"*   index :\", j - 1)\n",
    "print(\"*    dist :\", \" \".join(map(lambda x: f\"{x:.4f}\", values_.cpu().tolist())))\n",
    "print(\"* fc-level:\", deck2[\"fclevel\"][j - 1])\n",
    "print(\"----------------------------------------------------------------------------------------\")\n",
    "\n",
    "for idx in indices_:\n",
    "    print(\"* Level\", deck1[\"tlevel\"][idx].item(), \":\", deck1[\"otext\"][idx])\n",
    "    print(\"----------------------------------------------------------------------------------------\")\n",
    "\n",
    "shown = True"
   ]
  }
 ],
 "metadata": {
  "kernelspec": {
   "display_name": "torch",
   "language": "python",
   "name": "torch"
  },
  "language_info": {
   "codemirror_mode": {
    "name": "ipython",
    "version": 3
   },
   "file_extension": ".py",
   "mimetype": "text/x-python",
   "name": "python",
   "nbconvert_exporter": "python",
   "pygments_lexer": "ipython3",
   "version": "3.7.10"
  }
 },
 "nbformat": 4,
 "nbformat_minor": 5
}
