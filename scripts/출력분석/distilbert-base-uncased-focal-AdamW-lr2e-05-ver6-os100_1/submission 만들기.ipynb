{
 "cells": [
  {
   "cell_type": "code",
   "execution_count": 1,
   "id": "b76281d5-a092-435f-8224-66df9333801e",
   "metadata": {},
   "outputs": [
    {
     "name": "stdout",
     "output_type": "stream",
     "text": [
      "/home/shim/cev/dl/log-analytics\n"
     ]
    }
   ],
   "source": [
    "%load_ext lab_black\n",
    "%cd ../../.."
   ]
  },
  {
   "cell_type": "code",
   "execution_count": 2,
   "id": "c10787ce-838f-4046-adff-7ee042124097",
   "metadata": {},
   "outputs": [],
   "source": [
    "import torch\n",
    "import numpy as np\n",
    "import pandas as pd\n",
    "import pickle\n",
    "from tqdm import tqdm\n",
    "from collections import defaultdict\n",
    "import sys"
   ]
  },
  {
   "cell_type": "code",
   "execution_count": 3,
   "id": "f5569694-10f2-4446-b8d0-c4dabba7887c",
   "metadata": {},
   "outputs": [],
   "source": [
    "distdeck = torch.load(\n",
    "    \"results/distilbert-base-uncased-ver6/distilbert-base-uncased-focal-AdamW-lr2e-05-ver6-os100_1-distdeck.pth\"\n",
    ")"
   ]
  },
  {
   "cell_type": "code",
   "execution_count": 4,
   "id": "132376a8-a8f9-455a-a696-de392a3a496e",
   "metadata": {},
   "outputs": [
    {
     "data": {
      "text/plain": [
       "(torch.Size([1095951, 4]), torch.Size([1095951, 4]))"
      ]
     },
     "execution_count": 4,
     "metadata": {},
     "output_type": "execute_result"
    }
   ],
   "source": [
    "distdeck[\"dist\"].shape, distdeck[\"level\"].shape"
   ]
  },
  {
   "cell_type": "code",
   "execution_count": 40,
   "id": "e02f75bd-c10f-4bcd-b1a3-85fd2387891e",
   "metadata": {},
   "outputs": [],
   "source": [
    "def policy(values_, tlevels):\n",
    "    is_same = (tlevels == tlevels[0]).all()\n",
    "    is_same2 = (tlevels[:2] == tlevels[0]).all()\n",
    "\n",
    "    if is_same and tlevels[0] == 6:\n",
    "        return 6 if values_[0] < 0.5 else 7  # TODO\n",
    "    if is_same and tlevels[0] == 5:\n",
    "        return 5 if values_[0] < 0.5 else 7\n",
    "    if is_same and tlevels[0] == 4:\n",
    "        return 4 if values_[0] < 0.5 else 7\n",
    "    if is_same and tlevels[0] == 3:\n",
    "        return 3 if values_[0] < 0.5 else 7\n",
    "    if is_same and tlevels[0] == 2:\n",
    "        return 2 if values_[0] < 0.5 else 7  # TODO\n",
    "    if is_same and tlevels[0] == 1:\n",
    "        return 1 if values_[0] < 0.3 else 7\n",
    "    if is_same and tlevels[0] == 0:\n",
    "        return 0 if values_[0] < 0.3 else 7\n",
    "\n",
    "    # 섞인경우\n",
    "    return tlevels[0].item() if values_[0] < 0.1 else 7"
   ]
  },
  {
   "cell_type": "code",
   "execution_count": 41,
   "id": "71e0f451-ead0-4fb0-9a8c-cb6c2c32dfb0",
   "metadata": {},
   "outputs": [
    {
     "name": "stdout",
     "output_type": "stream",
     "text": [
      "100%|███████████████████████████████████████████████████| 1095951/1095951 [02:00<00:00, 9067.85it/s]\n"
     ]
    }
   ],
   "source": [
    "N = distdeck[\"dist\"].size(0)\n",
    "out_levels = []\n",
    "with tqdm(total=N, ncols=100, file=sys.stdout) as t:\n",
    "    for i in range(N):\n",
    "        dists = distdeck[\"dist\"][i]\n",
    "        levels = distdeck[\"level\"][i]\n",
    "\n",
    "        out_level = policy(dists, levels)\n",
    "        out_levels.append(out_level)\n",
    "\n",
    "        t.update()"
   ]
  },
  {
   "cell_type": "code",
   "execution_count": 42,
   "id": "7c2bf237-df83-4500-afe3-2296e66c3fbd",
   "metadata": {},
   "outputs": [],
   "source": [
    "out_levels = np.array(out_levels)"
   ]
  },
  {
   "cell_type": "code",
   "execution_count": 43,
   "id": "f6463805-4354-4cad-bb66-0c92f44de3d9",
   "metadata": {},
   "outputs": [
    {
     "name": "stdout",
     "output_type": "stream",
     "text": [
      "0 : 705998 64.42%\n",
      "1 : 370747 33.83%\n",
      "2 : 35 0.00%\n",
      "3 : 12691 1.16%\n",
      "4 : 34 0.00%\n",
      "5 : 4725 0.43%\n",
      "6 : 25 0.00%\n",
      "7 : 1696 0.15%\n"
     ]
    }
   ],
   "source": [
    "# 각 레벨별 개수 threshold 0.3\n",
    "for i in range(8):\n",
    "    cnt = sum(out_levels == i)\n",
    "    print(i, \":\", cnt, f\"{cnt / len(out_levels)*100:.2f}%\")"
   ]
  },
  {
   "cell_type": "code",
   "execution_count": 12,
   "id": "dddd5775-3a45-42a0-96ce-f41b19d22fd6",
   "metadata": {},
   "outputs": [
    {
     "name": "stdout",
     "output_type": "stream",
     "text": [
      "0 : 706193 64.44%\n",
      "1 : 371040 33.86%\n",
      "2 : 35 0.00%\n",
      "3 : 12840 1.17%\n",
      "4 : 34 0.00%\n",
      "5 : 4756 0.43%\n",
      "6 : 25 0.00%\n",
      "7 : 1028 0.09%\n"
     ]
    }
   ],
   "source": [
    "# 각 레벨별 개수 ver1\n",
    "for i in range(8):\n",
    "    cnt = sum(out_levels == i)\n",
    "    print(i, \":\", cnt, f\"{cnt / len(out_levels)*100:.2f}%\")"
   ]
  },
  {
   "cell_type": "code",
   "execution_count": 34,
   "id": "136107ea-e48c-494e-b6ac-f59c4a5a036e",
   "metadata": {},
   "outputs": [
    {
     "name": "stdout",
     "output_type": "stream",
     "text": [
      "0 : 334065 70.63%\n",
      "1 : 132517 28.02%\n",
      "2 : 12 0.00%\n",
      "3 : 4141 0.88%\n",
      "4 : 10 0.00%\n",
      "5 : 2219 0.47%\n",
      "6 : 8 0.00%\n",
      "7 : 0 0.00%\n"
     ]
    }
   ],
   "source": [
    "df = pd.read_csv(\"data/ori/train.csv\")\n",
    "train_levels = df.level.to_numpy()\n",
    "\n",
    "# 각 레벨별 개수 (train 데이터)\n",
    "for i in range(8):\n",
    "    cnt = sum(train_levels == i)\n",
    "    print(i, \":\", cnt, f\"{cnt / len(train_levels)*100:.2f}%\")"
   ]
  },
  {
   "cell_type": "code",
   "execution_count": 44,
   "id": "142e2065-dced-43bc-add9-f720d23a07dd",
   "metadata": {},
   "outputs": [],
   "source": [
    "out_dic = {}\n",
    "for i in range(len(out_levels)):\n",
    "    level = out_levels[i]\n",
    "    ids = distdeck[\"ids\"][i]\n",
    "    for id in ids:\n",
    "        out_dic[id] = level"
   ]
  },
  {
   "cell_type": "code",
   "execution_count": 45,
   "id": "b61606fe-cbef-4022-9ad7-52eae59a8d80",
   "metadata": {},
   "outputs": [],
   "source": [
    "out_ids = list(range(1000000, 1000000 + len(out_levels)))"
   ]
  },
  {
   "cell_type": "code",
   "execution_count": 46,
   "id": "db256919-5af3-4a53-94e9-6fba304f5b0f",
   "metadata": {},
   "outputs": [
    {
     "data": {
      "text/plain": [
       "0"
      ]
     },
     "execution_count": 46,
     "metadata": {},
     "output_type": "execute_result"
    }
   ],
   "source": [
    "out_dic[1000001]"
   ]
  },
  {
   "cell_type": "code",
   "execution_count": 47,
   "id": "0dba87be-1213-480c-922e-0a6c324b71b8",
   "metadata": {},
   "outputs": [],
   "source": [
    "out_df = {\"id\": [], \"level\": []}\n",
    "for i in range(1000000, 1000000 + len(out_dic)):\n",
    "    out_df[\"id\"].append(i)\n",
    "    out_df[\"level\"].append(out_dic[i])"
   ]
  },
  {
   "cell_type": "code",
   "execution_count": 48,
   "id": "b86ad272-aa0c-4fed-b461-8af1ed9e69aa",
   "metadata": {},
   "outputs": [],
   "source": [
    "out_df = pd.DataFrame(out_df)"
   ]
  },
  {
   "cell_type": "code",
   "execution_count": 49,
   "id": "b1d3b24f-0677-4b1a-bc4b-2ecd80cb1620",
   "metadata": {},
   "outputs": [
    {
     "data": {
      "text/html": [
       "<div>\n",
       "<style scoped>\n",
       "    .dataframe tbody tr th:only-of-type {\n",
       "        vertical-align: middle;\n",
       "    }\n",
       "\n",
       "    .dataframe tbody tr th {\n",
       "        vertical-align: top;\n",
       "    }\n",
       "\n",
       "    .dataframe thead th {\n",
       "        text-align: right;\n",
       "    }\n",
       "</style>\n",
       "<table border=\"1\" class=\"dataframe\">\n",
       "  <thead>\n",
       "    <tr style=\"text-align: right;\">\n",
       "      <th></th>\n",
       "      <th>id</th>\n",
       "      <th>level</th>\n",
       "    </tr>\n",
       "  </thead>\n",
       "  <tbody>\n",
       "    <tr>\n",
       "      <th>0</th>\n",
       "      <td>1000000</td>\n",
       "      <td>0</td>\n",
       "    </tr>\n",
       "    <tr>\n",
       "      <th>1</th>\n",
       "      <td>1000001</td>\n",
       "      <td>0</td>\n",
       "    </tr>\n",
       "    <tr>\n",
       "      <th>2</th>\n",
       "      <td>1000002</td>\n",
       "      <td>1</td>\n",
       "    </tr>\n",
       "    <tr>\n",
       "      <th>3</th>\n",
       "      <td>1000003</td>\n",
       "      <td>0</td>\n",
       "    </tr>\n",
       "    <tr>\n",
       "      <th>4</th>\n",
       "      <td>1000004</td>\n",
       "      <td>1</td>\n",
       "    </tr>\n",
       "    <tr>\n",
       "      <th>...</th>\n",
       "      <td>...</td>\n",
       "      <td>...</td>\n",
       "    </tr>\n",
       "    <tr>\n",
       "      <th>1418911</th>\n",
       "      <td>2418911</td>\n",
       "      <td>0</td>\n",
       "    </tr>\n",
       "    <tr>\n",
       "      <th>1418912</th>\n",
       "      <td>2418912</td>\n",
       "      <td>0</td>\n",
       "    </tr>\n",
       "    <tr>\n",
       "      <th>1418913</th>\n",
       "      <td>2418913</td>\n",
       "      <td>1</td>\n",
       "    </tr>\n",
       "    <tr>\n",
       "      <th>1418914</th>\n",
       "      <td>2418914</td>\n",
       "      <td>0</td>\n",
       "    </tr>\n",
       "    <tr>\n",
       "      <th>1418915</th>\n",
       "      <td>2418915</td>\n",
       "      <td>0</td>\n",
       "    </tr>\n",
       "  </tbody>\n",
       "</table>\n",
       "<p>1418916 rows × 2 columns</p>\n",
       "</div>"
      ],
      "text/plain": [
       "              id  level\n",
       "0        1000000      0\n",
       "1        1000001      0\n",
       "2        1000002      1\n",
       "3        1000003      0\n",
       "4        1000004      1\n",
       "...          ...    ...\n",
       "1418911  2418911      0\n",
       "1418912  2418912      0\n",
       "1418913  2418913      1\n",
       "1418914  2418914      0\n",
       "1418915  2418915      0\n",
       "\n",
       "[1418916 rows x 2 columns]"
      ]
     },
     "execution_count": 49,
     "metadata": {},
     "output_type": "execute_result"
    }
   ],
   "source": [
    "out_df"
   ]
  },
  {
   "cell_type": "code",
   "execution_count": 50,
   "id": "ce24eec0-691e-4773-ae5b-b36abe405e3a",
   "metadata": {},
   "outputs": [],
   "source": [
    "out_df.to_csv(\n",
    "    \"results/distilbert-base-uncased-ver6/distilbert-base-uncased-focal-AdamW-lr2e-05-ver6-os100_1-out_th0.3.csv\", index=False\n",
    ")"
   ]
  },
  {
   "cell_type": "code",
   "execution_count": null,
   "id": "4583f7f5-56c9-4759-bbda-4bde9c48d337",
   "metadata": {},
   "outputs": [],
   "source": []
  }
 ],
 "metadata": {
  "kernelspec": {
   "display_name": "torch",
   "language": "python",
   "name": "torch"
  },
  "language_info": {
   "codemirror_mode": {
    "name": "ipython",
    "version": 3
   },
   "file_extension": ".py",
   "mimetype": "text/x-python",
   "name": "python",
   "nbconvert_exporter": "python",
   "pygments_lexer": "ipython3",
   "version": "3.7.10"
  }
 },
 "nbformat": 4,
 "nbformat_minor": 5
}
