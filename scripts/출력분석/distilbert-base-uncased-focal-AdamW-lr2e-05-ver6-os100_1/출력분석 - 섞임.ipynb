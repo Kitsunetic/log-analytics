{
 "cells": [
  {
   "cell_type": "code",
   "execution_count": null,
   "id": "ed7c7af1-1792-41d6-9455-12079cbc3c3e",
   "metadata": {},
   "outputs": [],
   "source": []
  },
  {
   "cell_type": "code",
   "execution_count": 40,
   "id": "6c1b30a7-33be-4cb7-a44b-845fdc0f8047",
   "metadata": {},
   "outputs": [
    {
     "name": "stdout",
     "output_type": "stream",
     "text": [
      "*  Submit : level : 5, log : operation operation failed: peer peer-name (index peer-id) reason\n",
      "----------------------------------------------------------------------------------------\n",
      "*   index : 2957\n",
      "*    dist : 0.4750 0.5266 0.5630 0.5937\n",
      "* fc-level: tensor(0)\n",
      "----------------------------------------------------------------------------------------\n",
      "* Level 1 : level : 5, log : Peer peer-id not found for TE link link-name (index link-id)\n",
      "----------------------------------------------------------------------------------------\n",
      "* Level 1 : level : 5, log : Unable to send IPC message to peer-name identifier\n",
      "----------------------------------------------------------------------------------------\n",
      "* Level 0 : level : 3, log : Peer blade slot BBD error-message mismatch (expected-value != received-value)\n",
      "----------------------------------------------------------------------------------------\n",
      "* Level 1 : level : 5, log : Connection to management peer process-name timed out waiting for input\n",
      "----------------------------------------------------------------------------------------\n"
     ]
    }
   ],
   "source": [
    "print(\"*  Submit :\", df.full_log[deck2[\"ids\"][j - 1][0] - 1000000])\n",
    "print(\"----------------------------------------------------------------------------------------\")\n",
    "print(\"*   index :\", j - 1)\n",
    "print(\"*    dist :\", \" \".join(map(lambda x: f\"{x:.4f}\", values_.cpu().tolist())))\n",
    "print(\"* fc-level:\", deck2[\"fclevel\"][j - 1])\n",
    "print(\"----------------------------------------------------------------------------------------\")\n",
    "\n",
    "for idx in indices_:\n",
    "    print(\"* Level\", deck1[\"tlevel\"][idx].item(), \":\", deck1[\"otext\"][idx])\n",
    "    print(\"----------------------------------------------------------------------------------------\")\n",
    "\n",
    "shown = True"
   ]
  }
 ],
 "metadata": {
  "kernelspec": {
   "display_name": "torch",
   "language": "python",
   "name": "torch"
  },
  "language_info": {
   "codemirror_mode": {
    "name": "ipython",
    "version": 3
   },
   "file_extension": ".py",
   "mimetype": "text/x-python",
   "name": "python",
   "nbconvert_exporter": "python",
   "pygments_lexer": "ipython3",
   "version": "3.7.10"
  }
 },
 "nbformat": 4,
 "nbformat_minor": 5
}
