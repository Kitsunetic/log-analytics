{
 "cells": [
  {
   "cell_type": "code",
   "execution_count": 1,
   "id": "1e9b4cfc-6b77-4165-8d99-d30b9a707df8",
   "metadata": {},
   "outputs": [
    {
     "name": "stdout",
     "output_type": "stream",
     "text": [
      "/home/shim/cev/dl/log-analytics\n"
     ]
    }
   ],
   "source": [
    "%load_ext lab_black\n",
    "%cd ../../.."
   ]
  },
  {
   "cell_type": "code",
   "execution_count": 13,
   "id": "7a6a78d6-4b26-4db2-a212-b006bbf5a4f5",
   "metadata": {},
   "outputs": [],
   "source": [
    "import torch\n",
    "import numpy as np\n",
    "import pandas as pd\n",
    "import pickle"
   ]
  },
  {
   "cell_type": "code",
   "execution_count": 14,
   "id": "eea805ce-a12c-4f00-93a3-478a32a2ee02",
   "metadata": {},
   "outputs": [],
   "source": [
    "df = pd.read_csv(\"data/ori/test.csv\")"
   ]
  },
  {
   "cell_type": "code",
   "execution_count": 3,
   "id": "e368344f-3eff-46fc-9a43-41b77ce9136b",
   "metadata": {},
   "outputs": [],
   "source": [
    "deck1 = torch.load(\"results/distilbert-base-uncased-ver6/distilbert-base-uncased-focal-AdamW-lr2e-05-ver6-os100_1-deck1.pth\")\n",
    "deck2 = torch.load(\"results/distilbert-base-uncased-ver6/distilbert-base-uncased-focal-AdamW-lr2e-05-ver6-os100_1-deck2.pth\")"
   ]
  },
  {
   "cell_type": "code",
   "execution_count": 4,
   "id": "5b2bbde3-a1c9-4bd8-9a07-bcf26c8ce0de",
   "metadata": {},
   "outputs": [
    {
     "data": {
      "text/plain": [
       "(torch.Size([421079, 768]), torch.Size([1095951, 768]))"
      ]
     },
     "execution_count": 4,
     "metadata": {},
     "output_type": "execute_result"
    }
   ],
   "source": [
    "deck1[\"feat\"].shape, deck2[\"feat\"].shape"
   ]
  },
  {
   "cell_type": "code",
   "execution_count": 5,
   "id": "38e5fafd-ebda-4ab2-a06b-6e6a17caa59a",
   "metadata": {},
   "outputs": [],
   "source": [
    "deck1[\"feat_\"] = deck1[\"feat\"].cuda()\n",
    "deck2[\"feat_\"] = deck2[\"feat\"].cuda()"
   ]
  },
  {
   "cell_type": "code",
   "execution_count": 6,
   "id": "36d0f380-cb67-4d00-ae9d-186d2de14603",
   "metadata": {},
   "outputs": [],
   "source": [
    "j = 0\n",
    "shown = False"
   ]
  },
  {
   "cell_type": "code",
   "execution_count": 7,
   "id": "6f2930a5-16b2-41a4-ba8b-ef7108939f5e",
   "metadata": {},
   "outputs": [
    {
     "name": "stdout",
     "output_type": "stream",
     "text": [
      "values: tensor([0.0167, 0.0204, 0.0215, 0.0222], device='cuda:0')\n",
      "indices: tensor([362455, 364340, 217566, 258468], device='cuda:0')\n",
      "id: tensor([0, 0, 0, 0])\n"
     ]
    }
   ],
   "source": [
    "dist_ = torch.norm(deck1[\"feat_\"] - deck2[\"feat_\"][j, None], p=None, dim=1)\n",
    "values_, indices_ = dist_.topk(4, largest=False)\n",
    "tlevels = deck1[\"tlevel\"][indices_]\n",
    "print(\"values:\", values_)\n",
    "print(\"indices:\", indices_)\n",
    "print(\"id:\", deck1[\"tlevel\"][indices_])\n",
    "j += 1"
   ]
  },
  {
   "cell_type": "code",
   "execution_count": 77,
   "id": "d0eb83d3-88b0-4942-8e32-3a61d8264cf4",
   "metadata": {},
   "outputs": [],
   "source": [
    "while shown or (deck1[\"tlevel\"][indices_[0]] in [0, 1, 3, 5] and values_[0] < 0.5):\n",
    "    # while shown or (deck1[\"tlevel\"][indices_[0]] in [0, 1, 3, 5]):\n",
    "    shown = False\n",
    "\n",
    "    dist_ = torch.norm(deck1[\"feat_\"] - deck2[\"feat_\"][j, None], p=None, dim=1)\n",
    "    values_, indices_ = dist_.topk(4, largest=False)\n",
    "    tlevels = deck1[\"tlevel\"][indices_]\n",
    "    # print(\"values:\", values)\n",
    "    # print(\"indices:\", indices)\n",
    "    # print(\"id:\", deck1[\"tlevel\"][indices])\n",
    "    j += 1"
   ]
  },
  {
   "cell_type": "code",
   "execution_count": 78,
   "id": "797f4478-58c0-46d4-ac91-4cee48a1396e",
   "metadata": {},
   "outputs": [
    {
     "name": "stdout",
     "output_type": "stream",
     "text": [
      "*  Submit : oscap: msg: \"xccdf-result\", scan-id: \"0001605230036\", content: \"ssg-centos-7-ds.xml\", title: \"Verify and Correct File Permissions with RPM\", id: \"xccdf_org.ssgproject.content_rule_rpm_verify_permissions\", result: \"fail\", severity: \"high\", description: \"Discretionary access control is weakened if a user or group has access permissions to system files and directories greater than the default. The RPM package management system can check file access permissions of installed software packages, including many that are important to system security. Verify that the file permissions, ownership, and gruop membership of system files and commands match vendor values. Check the file permissions, ownership, and group membership with the following command: $ sudo rpm -Va | grep '^.M' Output indicates files that do not match vendor defaults. After locating a file with incorrect permissions, run the following command to determine which package owns it: $ rpm -qf FILENAME Next, run the following command to reset its permissions to the correct values: $ sudo rpm --setperms PACKAGENAME\", rationale: \"Permissions on system binaries and configuration files that are too generous could allow an unauthorized user to gain privileges that they should not have. The permissions set by the vendor should be maintained. Any deviations from this baseline should be investigated.\" references: \"AC-6 (http://nvlpubs.nist.gov/nistpubs/SpecialPublications/NIST.SP.800-53r4.pdf), AU-9(1) (http://nvlpubs.nist.gov/nistpubs/SpecialPublications/NIST.SP.800-53r4.pdf), AU-9(3) (http://nvlpubs.nist.gov/nistpubs/SpecialPublications/NIST.SP.800-53r4.pdf), CM-6(d) (http://nvlpubs.nist.gov/nistpubs/SpecialPublications/NIST.SP.800-53r4.pdf), CM-6(3) (http://nvlpubs.nist.gov/nistpubs/SpecialPublications/NIST.SP.800-53r4.pdf), 1494 (http://iase.disa.mil/stigs/cci/Pages/index.aspx), 1496 (http://iase.disa.mil/stigs/cci/Pages/index.aspx), Req-11.5 (https://www.pcisecuritystandards.org/documents/PCI_DSS_v3-1.pdf), 1.2.6 (https://benchmarks.cisecurity.org/tools2/linux/CIS_Red_Hat_Enterprise_Linux_7_Benchmark_v1.1.0.pdf), 6.1.3 (https://benchmarks.cisecurity.org/tools2/linux/CIS_Red_Hat_Enterprise_Linux_7_Benchmark_v1.1.0.pdf), 6.1.4 (https://benchmarks.cisecurity.org/tools2/linux/CIS_Red_Hat_Enterprise_Linux_7_Benchmark_v1.1.0.pdf), 6.1.5 (https://benchmarks.cisecurity.org/tools2/linux/CIS_Red_Hat_Enterprise_Linux_7_Benchmark_v1.1.0.pdf), 6.1.6 (https://benchmarks.cisecurity.org/tools2/linux/CIS_Red_Hat_Enterprise_Linux_7_Benchmark_v1.1.0.pdf), 6.1.7 (https://benchmarks.cisecurity.org/tools2/linux/CIS_Red_Hat_Enterprise_Linux_7_Benchmark_v1.1.0.pdf), 6.1.8 (https://benchmarks.cisecurity.org/tools2/linux/CIS_Red_Hat_Enterprise_Linux_7_Benchmark_v1.1.0.pdf), 6.1.9 (https://benchmarks.cisecurity.org/tools2/linux/CIS_Red_Hat_Enterprise_Linux_7_Benchmark_v1.1.0.pdf), 6.2.3 (https://benchmarks.cisecurity.org/tools2/linux/CIS_Red_Hat_Enterprise_Linux_7_Benchmark_v1.1.0.pdf), SRG-OS-000257-GPOS-00098 (http://iase.disa.mil/stigs/srgs/Pages/index.aspx), SRG-OS-000278-GPOS-00108 (http://iase.disa.mil/stigs/srgs/Pages/index.aspx), 5.10.4.1 (https://www.fbi.gov/file-repository/cjis-security-policy-v5_5_20160601-2-1.pdf), 3.3.8 (http://nvlpubs.nist.gov/nistpubs/SpecialPublications/NIST.SP.800-171.pdf), 3.4.1 (http://nvlpubs.nist.gov/nistpubs/SpecialPublications/NIST.SP.800-171.pdf)\", identifiers: \"\", oval-id: \"oval:ssg-rpm_verify_permissions:def:1\", benchmark-id: \"xccdf_org.ssgproject.content_benchmark_RHEL-7\", profile-id: \"xccdf_org.ssgproject.content_profile_pci-dss\", profile-title: \"PCI-DSS v3 Control Baseline for Red Hat Enterprise Linux 7\".\n",
      "----------------------------------------------------------------------------------------\n",
      "*   index : 12162\n",
      "*    dist : 1.8624 1.8671 1.8701 1.8708\n",
      "* fc-level: tensor(3)\n",
      "----------------------------------------------------------------------------------------\n",
      "* Level 3 : oscap: msg: \"xccdf-result\", scan-id: \"0001608007153\", content: \"ssg-centos-7-ds.xml\", title: \"Disable Automatic Bug Reporting Tool (abrtd)\", id: \"xccdf_org.ssgproject.content_rule_service_abrtd_disabled\", result: \"fail\", severity: \"low\", description: \"The Automatic Bug Reporting Tool (abrtd) daemon collects and reports crash data when an application crash is detected. Using a variety of plugins, abrtd can email crash reports to system administrators, log crash reports to files, or forward crash reports to a centralized issue tracking system such as RHTSupport. The abrtd service can be disabled with the following command: $ sudo systemctl disable abrtd.service\", rationale: \"Mishandling crash data could expose sensitive information about vulnerabilities in software executing on the system, as well as sensitive information from within a process's address space or registers.\" references: \"AC-17(8) (http://nvlpubs.nist.gov/nistpubs/SpecialPublications/NIST.SP.800-53r4.pdf), CM-7 (http://nvlpubs.nist.gov/nistpubs/SpecialPublications/NIST.SP.800-53r4.pdf), (http://iase.disa.mil/stigs/cci/Pages/index.aspx)\", identifiers: \"\", oval-id: \"oval:ssg-service_abrtd_disabled:def:1\", benchmark-id: \"xccdf_org.ssgproject.content_benchmark_RHEL-7\", profile-id: \"xccdf_org.ssgproject.content_profile_common\", profile-title: \"Common Profile for General-Purpose Systems\".\n",
      "----------------------------------------------------------------------------------------\n",
      "* Level 3 : oscap: msg: \"xccdf-result\", scan-id: \"0001608093406\", content: \"ssg-centos-7-ds.xml\", title: \"Disable Automatic Bug Reporting Tool (abrtd)\", id: \"xccdf_org.ssgproject.content_rule_service_abrtd_disabled\", result: \"fail\", severity: \"low\", description: \"The Automatic Bug Reporting Tool (abrtd) daemon collects and reports crash data when an application crash is detected. Using a variety of plugins, abrtd can email crash reports to system administrators, log crash reports to files, or forward crash reports to a centralized issue tracking system such as RHTSupport. The abrtd service can be disabled with the following command: $ sudo systemctl disable abrtd.service\", rationale: \"Mishandling crash data could expose sensitive information about vulnerabilities in software executing on the system, as well as sensitive information from within a process's address space or registers.\" references: \"AC-17(8) (http://nvlpubs.nist.gov/nistpubs/SpecialPublications/NIST.SP.800-53r4.pdf), CM-7 (http://nvlpubs.nist.gov/nistpubs/SpecialPublications/NIST.SP.800-53r4.pdf), (http://iase.disa.mil/stigs/cci/Pages/index.aspx)\", identifiers: \"\", oval-id: \"oval:ssg-service_abrtd_disabled:def:1\", benchmark-id: \"xccdf_org.ssgproject.content_benchmark_RHEL-7\", profile-id: \"xccdf_org.ssgproject.content_profile_common\", profile-title: \"Common Profile for General-Purpose Systems\".\n",
      "----------------------------------------------------------------------------------------\n",
      "* Level 3 : oscap: msg: \"xccdf-result\", scan-id: \"0001602317054\", content: \"ssg-centos-7-ds.xml\", title: \"Disable Automatic Bug Reporting Tool (abrtd)\", id: \"xccdf_org.ssgproject.content_rule_service_abrtd_disabled\", result: \"fail\", severity: \"low\", description: \"The Automatic Bug Reporting Tool (abrtd) daemon collects and reports crash data when an application crash is detected. Using a variety of plugins, abrtd can email crash reports to system administrators, log crash reports to files, or forward crash reports to a centralized issue tracking system such as RHTSupport. The abrtd service can be disabled with the following command: $ sudo systemctl disable abrtd.service\", rationale: \"Mishandling crash data could expose sensitive information about vulnerabilities in software executing on the system, as well as sensitive information from within a process's address space or registers.\" references: \"AC-17(8) (http://nvlpubs.nist.gov/nistpubs/SpecialPublications/NIST.SP.800-53r4.pdf), CM-7 (http://nvlpubs.nist.gov/nistpubs/SpecialPublications/NIST.SP.800-53r4.pdf), (http://iase.disa.mil/stigs/cci/Pages/index.aspx)\", identifiers: \"\", oval-id: \"oval:ssg-service_abrtd_disabled:def:1\", benchmark-id: \"xccdf_org.ssgproject.content_benchmark_RHEL-7\", profile-id: \"xccdf_org.ssgproject.content_profile_common\", profile-title: \"Common Profile for General-Purpose Systems\".\n",
      "----------------------------------------------------------------------------------------\n",
      "* Level 3 : oscap: msg: \"xccdf-result\", scan-id: \"0001605570931\", content: \"ssg-centos-7-ds.xml\", title: \"Disable Automatic Bug Reporting Tool (abrtd)\", id: \"xccdf_org.ssgproject.content_rule_service_abrtd_disabled\", result: \"fail\", severity: \"low\", description: \"The Automatic Bug Reporting Tool (abrtd) daemon collects and reports crash data when an application crash is detected. Using a variety of plugins, abrtd can email crash reports to system administrators, log crash reports to files, or forward crash reports to a centralized issue tracking system such as RHTSupport. The abrtd service can be disabled with the following command: $ sudo systemctl disable abrtd.service\", rationale: \"Mishandling crash data could expose sensitive information about vulnerabilities in software executing on the system, as well as sensitive information from within a process's address space or registers.\" references: \"AC-17(8) (http://nvlpubs.nist.gov/nistpubs/SpecialPublications/NIST.SP.800-53r4.pdf), CM-7 (http://nvlpubs.nist.gov/nistpubs/SpecialPublications/NIST.SP.800-53r4.pdf), (http://iase.disa.mil/stigs/cci/Pages/index.aspx)\", identifiers: \"\", oval-id: \"oval:ssg-service_abrtd_disabled:def:1\", benchmark-id: \"xccdf_org.ssgproject.content_benchmark_RHEL-7\", profile-id: \"xccdf_org.ssgproject.content_profile_common\", profile-title: \"Common Profile for General-Purpose Systems\".\n",
      "----------------------------------------------------------------------------------------\n"
     ]
    }
   ],
   "source": [
    "print(\"*  Submit :\", df.full_log[deck2[\"ids\"][j - 1][0] - 1000000])\n",
    "print(\"----------------------------------------------------------------------------------------\")\n",
    "print(\"*   index :\", j - 1)\n",
    "print(\"*    dist :\", \" \".join(map(lambda x: f\"{x:.4f}\", values_.cpu().tolist())))\n",
    "print(\"* fc-level:\", deck2[\"fclevel\"][j - 1])\n",
    "print(\"----------------------------------------------------------------------------------------\")\n",
    "\n",
    "for idx in indices_:\n",
    "    print(\"* Level\", deck1[\"tlevel\"][idx].item(), \":\", deck1[\"otext\"][idx])\n",
    "    print(\"----------------------------------------------------------------------------------------\")\n",
    "\n",
    "shown = True"
   ]
  },
  {
   "cell_type": "markdown",
   "id": "07166d10-e8db-4f6f-b45c-523915530cca",
   "metadata": {},
   "source": [
    "---\n",
    "\n",
    "4개가 다 일치할 때는 level별로 threshold를 따로 두는 방식으로 하고\n",
    "* level0 - 좀 낮게 (비교군이 많기 때문에) - 0.8?\n",
    "* level1 - 전처리를 없애니까 dist가 증가했음. 0.8?\n",
    "* level2 - \n",
    "* level3 - 꽤 높게 (변화무쌍하니까) - 1.0?\n",
    "* level4 - \n",
    "* level5 - 꽤 높게 (변화무쌍하니까) - 1.0\n",
    "* level6 - 나름 변화가 큼 - 0.8\n",
    "* 섞인 경우 - 비슷한 케이스가 별로 없었다는 뜻이니까 낮게 - 0.2\n",
    "\n",
    "2, 4, 6에 대해서는 아직 데이터가 더 모여야 하겠다\n",
    "\n",
    "level0 길이가 긴거는 맞아도 dist가 높게(0.3이상) 나오고, 길이가 짧은건 틀려도 dist가 탖게 나오는 것 같은데...  \n",
    "길이도 입력 인수로 해야할까?\n",
    "\n",
    "※ TODO: 전체에 대해 dist 구한 다음에 각 level/군집별로 top dist 분포가 어떻게 나타나는지 그래프를 그려보자"
   ]
  },
  {
   "cell_type": "code",
   "execution_count": null,
   "id": "22c438c4-814d-4d17-87de-7bbee351f7bf",
   "metadata": {},
   "outputs": [],
   "source": []
  }
 ],
 "metadata": {
  "kernelspec": {
   "display_name": "torch",
   "language": "python",
   "name": "torch"
  },
  "language_info": {
   "codemirror_mode": {
    "name": "ipython",
    "version": 3
   },
   "file_extension": ".py",
   "mimetype": "text/x-python",
   "name": "python",
   "nbconvert_exporter": "python",
   "pygments_lexer": "ipython3",
   "version": "3.7.10"
  }
 },
 "nbformat": 4,
 "nbformat_minor": 5
}
