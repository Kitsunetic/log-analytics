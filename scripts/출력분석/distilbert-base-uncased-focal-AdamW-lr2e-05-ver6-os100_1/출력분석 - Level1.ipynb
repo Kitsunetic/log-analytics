{
 "cells": [
  {
   "cell_type": "code",
   "execution_count": null,
   "id": "b8671ac9-88f7-4177-ad0b-285dc5ff471c",
   "metadata": {},
   "outputs": [],
   "source": []
  },
  {
   "cell_type": "code",
   "execution_count": 76,
   "id": "9d403da1-82f0-4f0c-abf0-506f133df517",
   "metadata": {},
   "outputs": [
    {
     "name": "stdout",
     "output_type": "stream",
     "text": [
      "*  Submit : type=ANOM_ABEND msg=audit(1600394668.751:3360): auid=4294967295 uid=48 gid=48 ses=4294967295 subj=system_u:system_r:httpd_t:s0 pid=6914 comm=\"httpd\" reason=\"memory violation\" sig=11\n",
      "----------------------------------------------------------------------------------------\n",
      "*   index : 11440\n",
      "*    dist : 2.2534 2.2597 2.3158 2.4094\n",
      "* fc-level: tensor(1)\n",
      "----------------------------------------------------------------------------------------\n",
      "* Level 1 : type=SYSCALL msg=audit(1603116096.931:82304): arch=c000003e syscall=2 success=yes exit=10 a0=94eb50 a1=0 a2=1b6 a3=24 items=1 ppid=1 pid=30216 auid=0 uid=0 gid=985 euid=0 suid=0 fsuid=0 egid=985 sgid=985 fsgid=985 tty=(none) ses=1 comm=\"ossec-syscheckd\" exe=\"/var/esild/bin/ossec-syscheckd\" subj=unconfined_u:unconfined_r:unconfined_t:s0-s0:c0.c1023 key=\"audit-wazuh-r\" type=CWD msg=audit(1603116096.931:82304): cwd=\"/\" type=PATH msg=audit(1603116096.931:82304): item=0 name=\"/etc/mcelog/triggers/page-error-trigger\" inode=35755319 dev=fd:00 mode=0100755 ouid=0 ogid=0 rdev=00:00 obj=system_u:object_r:bin_t:s0 objtype=NORMAL type=PROCTITLE msg=audit(1603116096.931:82304): proctitle=\"/var/esild/bin/ossec-syscheckd\"\n",
      "----------------------------------------------------------------------------------------\n",
      "* Level 1 : type=SYSCALL msg=audit(1605748947.406:107096): arch=c000003e syscall=2 success=yes exit=10 a0=1708590 a1=0 a2=1b6 a3=24 items=1 ppid=1 pid=15417 auid=0 uid=0 gid=985 euid=0 suid=0 fsuid=0 egid=985 sgid=985 fsgid=985 tty=(none) ses=115 comm=\"ossec-syscheckd\" exe=\"/var/esild/bin/ossec-syscheckd\" subj=unconfined_u:unconfined_r:unconfined_t:s0-s0:c0.c1023 key=\"audit-wazuh-r\" type=CWD msg=audit(1605748947.406:107096): cwd=\"/\" type=PATH msg=audit(1605748947.406:107096): item=0 name=\"/etc/mcelog/triggers/dimm-error-trigger\" inode=35755318 dev=fd:00 mode=0100755 ouid=0 ogid=0 rdev=00:00 obj=system_u:object_r:bin_t:s0 objtype=NORMAL type=PROCTITLE msg=audit(1605748947.406:107096): proctitle=\"/var/esild/bin/ossec-syscheckd\"\n",
      "----------------------------------------------------------------------------------------\n",
      "* Level 1 : type=SYSCALL msg=audit(1603193106.837:183088): arch=c000003e syscall=89 success=no exit=-22 a0=7ffc5ef06e4c a1=7ffc5ef02ae0 a2=1000 a3=7f0c20bd9610 items=1 ppid=29234 pid=29236 auid=4294967295 uid=0 gid=0 euid=0 suid=0 fsuid=0 egid=0 sgid=0 fsgid=0 tty=(none) ses=4294967295 comm=\"abrt-action-che\" exe=\"/usr/bin/python2.7\" subj=system_u:system_r:abrt_t:s0-s0:c0.c1023 key=\"audit-wazuh-r\" type=CWD msg=audit(1603193106.837:183088): cwd=\"/var/spool/abrt/oops-2020-10-20-20:25:02-29133-0\" type=PATH msg=audit(1603193106.837:183088): item=0 name=\"/usr/bin/abrt-action-check-oops-for-hw-error\" inode=607808 dev=fd:00 mode=0100755 ouid=0 ogid=0 rdev=00:00 obj=system_u:object_r:bin_t:s0 objtype=NORMAL type=PROCTITLE msg=audit(1603193106.837:183088): proctitle=2F7573722F62696E2F707974686F6E002D75002F7573722F62696E2F616272742D616374696F6E2D636865636B2D6F6F70732D666F722D68772D6572726F72\n",
      "----------------------------------------------------------------------------------------\n",
      "* Level 1 : type=SYSCALL msg=audit(1605748947.406:107106): arch=c000003e syscall=2 success=yes exit=10 a0=1708590 a1=0 a2=1b6 a3=24 items=1 ppid=1 pid=15417 auid=0 uid=0 gid=985 euid=0 suid=0 fsuid=0 egid=985 sgid=985 fsgid=985 tty=(none) ses=115 comm=\"ossec-syscheckd\" exe=\"/var/esild/bin/ossec-syscheckd\" subj=unconfined_u:unconfined_r:unconfined_t:s0-s0:c0.c1023 key=\"audit-wazuh-r\" type=CWD msg=audit(1605748947.406:107106): cwd=\"/\" type=PATH msg=audit(1605748947.406:107106): item=0 name=\"/etc/mcelog/triggers/socket-memory-error-trigger\" inode=35755320 dev=fd:00 mode=0100755 ouid=0 ogid=0 rdev=00:00 obj=system_u:object_r:bin_t:s0 objtype=NORMAL type=PROCTITLE msg=audit(1605748947.406:107106): proctitle=\"/var/esild/bin/ossec-syscheckd\"\n",
      "----------------------------------------------------------------------------------------\n"
     ]
    }
   ],
   "source": [
    "print(\"*  Submit :\", df.full_log[deck2[\"ids\"][j - 1][0] - 1000000])\n",
    "print(\"----------------------------------------------------------------------------------------\")\n",
    "print(\"*   index :\", j - 1)\n",
    "print(\"*    dist :\", \" \".join(map(lambda x: f\"{x:.4f}\", values_.cpu().tolist())))\n",
    "print(\"* fc-level:\", deck2[\"fclevel\"][j - 1])\n",
    "print(\"----------------------------------------------------------------------------------------\")\n",
    "\n",
    "for idx in indices_:\n",
    "    print(\"* Level\", deck1[\"tlevel\"][idx].item(), \":\", deck1[\"otext\"][idx])\n",
    "    print(\"----------------------------------------------------------------------------------------\")\n",
    "\n",
    "shown = True"
   ]
  },
  {
   "cell_type": "code",
   "execution_count": 66,
   "id": "a3f4d5b2-e394-4f31-9e97-14f5b7495439",
   "metadata": {},
   "outputs": [
    {
     "name": "stdout",
     "output_type": "stream",
     "text": [
      "*  Submit : type=ANOM_ABEND msg=audit(1610092026.125:54221): auid=4294967295 uid=48 gid=48 ses=4294967295 subj=system_u:system_r:httpd_t:s0 pid=25480 comm=\"httpd\" reason=\"memory violation\" sig=11\n",
      "----------------------------------------------------------------------------------------\n",
      "*   index : 5984\n",
      "*    dist : 2.1871 2.2028 2.2492 2.3137\n",
      "* fc-level: tensor(1)\n",
      "----------------------------------------------------------------------------------------\n",
      "* Level 1 : type=SYSCALL msg=audit(1603116096.931:82304): arch=c000003e syscall=2 success=yes exit=10 a0=94eb50 a1=0 a2=1b6 a3=24 items=1 ppid=1 pid=30216 auid=0 uid=0 gid=985 euid=0 suid=0 fsuid=0 egid=985 sgid=985 fsgid=985 tty=(none) ses=1 comm=\"ossec-syscheckd\" exe=\"/var/esild/bin/ossec-syscheckd\" subj=unconfined_u:unconfined_r:unconfined_t:s0-s0:c0.c1023 key=\"audit-wazuh-r\" type=CWD msg=audit(1603116096.931:82304): cwd=\"/\" type=PATH msg=audit(1603116096.931:82304): item=0 name=\"/etc/mcelog/triggers/page-error-trigger\" inode=35755319 dev=fd:00 mode=0100755 ouid=0 ogid=0 rdev=00:00 obj=system_u:object_r:bin_t:s0 objtype=NORMAL type=PROCTITLE msg=audit(1603116096.931:82304): proctitle=\"/var/esild/bin/ossec-syscheckd\"\n",
      "----------------------------------------------------------------------------------------\n",
      "* Level 1 : type=SYSCALL msg=audit(1605748947.406:107096): arch=c000003e syscall=2 success=yes exit=10 a0=1708590 a1=0 a2=1b6 a3=24 items=1 ppid=1 pid=15417 auid=0 uid=0 gid=985 euid=0 suid=0 fsuid=0 egid=985 sgid=985 fsgid=985 tty=(none) ses=115 comm=\"ossec-syscheckd\" exe=\"/var/esild/bin/ossec-syscheckd\" subj=unconfined_u:unconfined_r:unconfined_t:s0-s0:c0.c1023 key=\"audit-wazuh-r\" type=CWD msg=audit(1605748947.406:107096): cwd=\"/\" type=PATH msg=audit(1605748947.406:107096): item=0 name=\"/etc/mcelog/triggers/dimm-error-trigger\" inode=35755318 dev=fd:00 mode=0100755 ouid=0 ogid=0 rdev=00:00 obj=system_u:object_r:bin_t:s0 objtype=NORMAL type=PROCTITLE msg=audit(1605748947.406:107096): proctitle=\"/var/esild/bin/ossec-syscheckd\"\n",
      "----------------------------------------------------------------------------------------\n",
      "* Level 1 : type=SYSCALL msg=audit(1603193106.837:183088): arch=c000003e syscall=89 success=no exit=-22 a0=7ffc5ef06e4c a1=7ffc5ef02ae0 a2=1000 a3=7f0c20bd9610 items=1 ppid=29234 pid=29236 auid=4294967295 uid=0 gid=0 euid=0 suid=0 fsuid=0 egid=0 sgid=0 fsgid=0 tty=(none) ses=4294967295 comm=\"abrt-action-che\" exe=\"/usr/bin/python2.7\" subj=system_u:system_r:abrt_t:s0-s0:c0.c1023 key=\"audit-wazuh-r\" type=CWD msg=audit(1603193106.837:183088): cwd=\"/var/spool/abrt/oops-2020-10-20-20:25:02-29133-0\" type=PATH msg=audit(1603193106.837:183088): item=0 name=\"/usr/bin/abrt-action-check-oops-for-hw-error\" inode=607808 dev=fd:00 mode=0100755 ouid=0 ogid=0 rdev=00:00 obj=system_u:object_r:bin_t:s0 objtype=NORMAL type=PROCTITLE msg=audit(1603193106.837:183088): proctitle=2F7573722F62696E2F707974686F6E002D75002F7573722F62696E2F616272742D616374696F6E2D636865636B2D6F6F70732D666F722D68772D6572726F72\n",
      "----------------------------------------------------------------------------------------\n",
      "* Level 1 : type=SYSCALL msg=audit(1605748947.406:107106): arch=c000003e syscall=2 success=yes exit=10 a0=1708590 a1=0 a2=1b6 a3=24 items=1 ppid=1 pid=15417 auid=0 uid=0 gid=985 euid=0 suid=0 fsuid=0 egid=985 sgid=985 fsgid=985 tty=(none) ses=115 comm=\"ossec-syscheckd\" exe=\"/var/esild/bin/ossec-syscheckd\" subj=unconfined_u:unconfined_r:unconfined_t:s0-s0:c0.c1023 key=\"audit-wazuh-r\" type=CWD msg=audit(1605748947.406:107106): cwd=\"/\" type=PATH msg=audit(1605748947.406:107106): item=0 name=\"/etc/mcelog/triggers/socket-memory-error-trigger\" inode=35755320 dev=fd:00 mode=0100755 ouid=0 ogid=0 rdev=00:00 obj=system_u:object_r:bin_t:s0 objtype=NORMAL type=PROCTITLE msg=audit(1605748947.406:107106): proctitle=\"/var/esild/bin/ossec-syscheckd\"\n",
      "----------------------------------------------------------------------------------------\n"
     ]
    }
   ],
   "source": [
    "print(\"*  Submit :\", df.full_log[deck2[\"ids\"][j - 1][0] - 1000000])\n",
    "print(\"----------------------------------------------------------------------------------------\")\n",
    "print(\"*   index :\", j - 1)\n",
    "print(\"*    dist :\", \" \".join(map(lambda x: f\"{x:.4f}\", values_.cpu().tolist())))\n",
    "print(\"* fc-level:\", deck2[\"fclevel\"][j - 1])\n",
    "print(\"----------------------------------------------------------------------------------------\")\n",
    "\n",
    "for idx in indices_:\n",
    "    print(\"* Level\", deck1[\"tlevel\"][idx].item(), \":\", deck1[\"otext\"][idx])\n",
    "    print(\"----------------------------------------------------------------------------------------\")\n",
    "\n",
    "shown = True"
   ]
  },
  {
   "cell_type": "code",
   "execution_count": 62,
   "id": "b41e09f1-69f7-4cbc-bfb1-634eb1a228be",
   "metadata": {},
   "outputs": [
    {
     "name": "stdout",
     "output_type": "stream",
     "text": [
      "*  Submit : type=SYSCALL msg=audit(1603074214.191:43032): arch=c000003e syscall=2 success=yes exit=13 a0=5653daf8574e a1=50000 a2=7fff9858e0d0 a3=7f58041037a0 items=1 ppid=2175 pid=2181 auid=0 uid=0 gid=0 euid=0 suid=0 fsuid=0 egid=0 sgid=0 fsgid=0 tty=(none) ses=4 comm=\"updatedb\" exe=\"/usr/bin/updatedb\" subj=system_u:system_r:locate_t:s0-s0:c0.c1023 key=\"audit-wazuh-r\" type=CWD msg=audit(1603074214.191:43032):  cwd=\"/etc/selinux/targeted/active/modules/100/ccs\" type=PATH msg=audit(1603074214.191:43032): item=0 name=\".\" inode=1195997 dev=fd:00 mode=040700 ouid=0 ogid=0 rdev=00:00 obj=system_u:object_r:semanage_store_t:s0 objtype=NORMAL type=PROCTITLE msg=audit(1603074214.191:43032): proctitle=2F7573722F62696E2F7570646174656462002D660073797366730A72616D66730A626465760A70726F630A6367726F75700A6370757365740A746D7066730A646576746D7066730A646562756766730A736563757269747966730A736F636B66730A7069706566730A616E6F6E5F696E6F646566730A636F6E66696766730A64\n",
      "----------------------------------------------------------------------------------------\n",
      "*   index : 5754\n",
      "*    dist : 0.2070 0.2124 0.2140 0.2160\n",
      "* fc-level: tensor(1)\n",
      "----------------------------------------------------------------------------------------\n",
      "* Level 1 : type=SYSCALL msg=audit(1603131843.875:106836): arch=c000003e syscall=2 success=yes exit=12 a0=561404e9674e a1=0 a2=7ffd787eefd0 a3=646f6d2f65766974 items=1 ppid=14630 pid=14636 auid=0 uid=0 gid=0 euid=0 suid=0 fsuid=0 egid=0 sgid=0 fsgid=0 tty=(none) ses=117 comm=\"updatedb\" exe=\"/usr/bin/updatedb\" subj=system_u:system_r:locate_t:s0-s0:c0.c1023 key=\"audit-wazuh-r\" type=CWD msg=audit(1603131843.875:106836): cwd=\"/etc/selinux/targeted/active/modules\" type=PATH msg=audit(1603131843.875:106836): item=0 name=\".\" inode=34737029 dev=fd:00 mode=040700 ouid=0 ogid=0 rdev=00:00 obj=system_u:object_r:semanage_store_t:s0 objtype=NORMAL type=PROCTITLE msg=audit(1603131843.875:106836): proctitle=2F7573722F62696E2F7570646174656462002D660073797366730A72616D66730A626465760A70726F630A6367726F75700A6370757365740A746D7066730A646576746D7066730A646562756766730A736563757269747966730A736F636B66730A7069706566730A616E6F6E5F696E6F646566730A636F6E66696766730A64\n",
      "----------------------------------------------------------------------------------------\n",
      "* Level 1 : type=SYSCALL msg=audit(1603179001.464:176516): arch=c000003e syscall=2 success=yes exit=3 a0=7f2661f9742f a1=0 a2=1b6 a3=24 items=1 ppid=17920 pid=26661 auid=4294967295 uid=0 gid=0 euid=0 suid=0 fsuid=0 egid=0 sgid=0 fsgid=0 tty=(none) ses=4294967295 comm=\"crond\" exe=\"/usr/sbin/crond\" subj=system_u:system_r:crond_t:s0-s0:c0.c1023 key=\"audit-wazuh-r\" type=CWD msg=audit(1603179001.464:176516): cwd=\"/\" type=PATH msg=audit(1603179001.464:176516): item=0 name=\"/etc/environment\" inode=67145908 dev=fd:00 mode=0100644 ouid=0 ogid=0 rdev=00:00 obj=system_u:object_r:etc_t:s0 objtype=NORMAL type=PROCTITLE msg=audit(1603179001.464:176516): proctitle=2F7573722F7362696E2F63726F6E64002D6E\n",
      "----------------------------------------------------------------------------------------\n",
      "* Level 1 : type=SYSCALL msg=audit(1603074214.181:42805): arch=c000003e syscall=2 success=yes exit=8 a0=5653daf8574e a1=0 a2=7fff9858e990 a3=7f58041037a0 items=1 ppid=2175 pid=2181 auid=0 uid=0 gid=0 euid=0 suid=0 fsuid=0 egid=0 sgid=0 fsgid=0 tty=(none) ses=4 comm=\"updatedb\" exe=\"/usr/bin/updatedb\" subj=system_u:system_r:locate_t:s0-s0:c0.c1023 key=\"audit-wazuh-r\" type=CWD msg=audit(1603074214.181:42805): cwd=\"/etc/gdm\" type=PATH msg=audit(1603074214.181:42805): item=0 name=\".\" inode=904151 dev=fd:00 mode=040755 ouid=0 ogid=0 rdev=00:00 obj=system_u:object_r:xdm_etc_t:s0 objtype=NORMAL type=PROCTITLE msg=audit(1603074214.181:42805): proctitle=2F7573722F62696E2F7570646174656462002D660073797366730A72616D66730A626465760A70726F630A6367726F75700A6370757365740A746D7066730A646576746D7066730A646562756766730A736563757269747966730A736F636B66730A7069706566730A616E6F6E5F696E6F646566730A636F6E66696766730A64\n",
      "----------------------------------------------------------------------------------------\n",
      "* Level 1 : type=SYSCALL msg=audit(1603074214.181:42823): arch=c000003e syscall=2 success=yes exit=8 a0=5653daf8574e a1=50000 a2=7fff9858ea30 a3=7f58041037a0 items=1 ppid=2175 pid=2181 auid=0 uid=0 gid=0 euid=0 suid=0 fsuid=0 egid=0 sgid=0 fsgid=0 tty=(none) ses=4 comm=\"updatedb\" exe=\"/usr/bin/updatedb\" subj=system_u:system_r:locate_t:s0-s0:c0.c1023 key=\"audit-wazuh-r\" type=CWD msg=audit(1603074214.181:42823): cwd=\"/etc/gssproxy\" type=PATH msg=audit(1603074214.181:42823): item=0 name=\".\" inode=67731553 dev=fd:00 mode=040755 ouid=0 ogid=0 rdev=00:00 obj=system_u:object_r:etc_t:s0 objtype=NORMAL type=PROCTITLE msg=audit(1603074214.181:42823): proctitle=2F7573722F62696E2F7570646174656462002D660073797366730A72616D66730A626465760A70726F630A6367726F75700A6370757365740A746D7066730A646576746D7066730A646562756766730A736563757269747966730A736F636B66730A7069706566730A616E6F6E5F696E6F646566730A636F6E66696766730A64\n",
      "----------------------------------------------------------------------------------------\n"
     ]
    }
   ],
   "source": [
    "print(\"*  Submit :\", df.full_log[deck2[\"ids\"][j - 1][0] - 1000000])\n",
    "print(\"----------------------------------------------------------------------------------------\")\n",
    "print(\"*   index :\", j - 1)\n",
    "print(\"*    dist :\", \" \".join(map(lambda x: f\"{x:.4f}\", values_.cpu().tolist())))\n",
    "print(\"* fc-level:\", deck2[\"fclevel\"][j - 1])\n",
    "print(\"----------------------------------------------------------------------------------------\")\n",
    "\n",
    "for idx in indices_:\n",
    "    print(\"* Level\", deck1[\"tlevel\"][idx].item(), \":\", deck1[\"otext\"][idx])\n",
    "    print(\"----------------------------------------------------------------------------------------\")\n",
    "\n",
    "shown = True"
   ]
  },
  {
   "cell_type": "code",
   "execution_count": 60,
   "id": "699be7cd-6b5f-4370-a67b-01e4c1ac0045",
   "metadata": {},
   "outputs": [
    {
     "name": "stdout",
     "output_type": "stream",
     "text": [
      "*  Submit : type=SYSCALL msg=audit(1611886952.047:126249): arch=c000003e syscall=2 success=yes exit=3 a0=7f063f7e75a4 a1=80000 a2=1 a3=7f063f9ed4f8 items=1 ppid=86248 pid=86258 auid=0 uid=0 gid=0 euid=0 suid=0 fsuid=0 egid=0 sgid=0 fsgid=0 tty=pts1 ses=8 comm=\"objtool\" exe=\"/usr/src/kernels/3.10.0-1062.el7.x86_64/tools/objtool/objtool\" subj=unconfined_u:unconfined_r:unconfined_t:s0-s0:c0.c1023 key=\"audit-wazuh-r\" type=CWD msg=audit(1611886952.047:126249):  cwd=\"/usr/src/kernels/3.10.0-1062.el7.x86_64\" type=PATH msg=audit(1611886952.047:126249): item=0 name=\"/etc/ld.so.cache\" inode=35395307 dev=fd:00 mode=0100644 ouid=0 ogid=0 rdev=00:00 obj=unconfined_u:object_r:ld_so_cache_t:s0 objtype=NORMAL cap_fp=0000000000000000 cap_fi=0000000000000000 cap_fe=0 cap_fver=0 type=PROCTITLE msg=audit(1611886952.047:126249): proctitle=2E2F746F6F6C732F6F626A746F6F6C2F6F626A746F6F6C00636865636B002F686F6D652F4469616D6F727068696E652F6469616D6F727068696E652E6F\n",
      "----------------------------------------------------------------------------------------\n",
      "*   index : 5388\n",
      "*    dist : 0.2616 0.2721 0.2853 0.2874\n",
      "* fc-level: tensor(1)\n",
      "----------------------------------------------------------------------------------------\n",
      "* Level 1 : type=SYSCALL msg=audit(1611886909.507:123324): arch=c000003e syscall=2 success=yes exit=3 a0=7f7a887695a4 a1=80000 a2=1 a3=7f7a8896f4f8 items=1 ppid=73281 pid=84761 auid=0 uid=0 gid=0 euid=0 suid=0 fsuid=0 egid=0 sgid=0 fsgid=0 tty=pts1 ses=8 comm=\"hardlink\" exe=\"/usr/sbin/hardlink\" subj=unconfined_u:unconfined_r:rpm_script_t:s0-s0:c0.c1023 key=\"audit-wazuh-r\" type=CWD msg=audit(1611886909.507:123324): cwd=\"/usr/src/kernels/3.10.0-1160.11.1.el7.x86_64\" type=PATH msg=audit(1611886909.507:123324): item=0 name=\"/etc/ld.so.cache\" inode=35395307 dev=fd:00 mode=0100644 ouid=0 ogid=0 rdev=00:00 obj=unconfined_u:object_r:ld_so_cache_t:s0 objtype=NORMAL cap_fp=0000000000000000 cap_fi=0000000000000000 cap_fe=0 cap_fver=0 type=PROCTITLE msg=audit(1611886909.507:123324): proctitle=686172646C696E6B002D63002F7573722F7372632F6B65726E656C732F332E31302E302D313036322E656C372E7838365F36342F2E2F696E636C7564652F756170692F6C696E75782F696E6F746966792E68002F7573722F7372632F6B65726E656C732F332E31302E302D313136302E31312E312E656C372E7838365F36342F\n",
      "----------------------------------------------------------------------------------------\n",
      "* Level 1 : type=SYSCALL msg=audit(1611884542.708:10031): arch=c000003e syscall=2 success=yes exit=16 a0=7fd5639aeb30 a1=0 a2=0 a3=7fd564506900 items=1 ppid=1 pid=16168 auid=1000 uid=0 gid=980 euid=0 suid=0 fsuid=0 egid=980 sgid=980 fsgid=980 tty=(none) ses=1 comm=\"ossec-syscheckd\" exe=\"/var/esild/bin/ossec-syscheckd\" subj=unconfined_u:unconfined_r:unconfined_t:s0-s0:c0.c1023 key=\"audit-wazuh-r\" type=CWD msg=audit(1611884542.708:10031): cwd=\"/\" type=PATH msg=audit(1611884542.708:10031): item=0 name=\"/etc/profile.d/colorgrep.csh\" inode=100750721 dev=fd:00 mode=0100644 ouid=0 ogid=0 rdev=00:00 obj=system_u:object_r:bin_t:s0 objtype=NORMAL cap_fp=0000000000000000 cap_fi=0000000000000000 cap_fe=0 cap_fver=0 type=PROCTITLE msg=audit(1611884542.708:10031): proctitle=\"/var/esild/bin/ossec-syscheckd\"\n",
      "----------------------------------------------------------------------------------------\n",
      "* Level 1 : type=SYSCALL msg=audit(1611884542.708:10047): arch=c000003e syscall=2 success=yes exit=16 a0=7fd5639aeb30 a1=0 a2=0 a3=7fd564506900 items=1 ppid=1 pid=16168 auid=1000 uid=0 gid=980 euid=0 suid=0 fsuid=0 egid=980 sgid=980 fsgid=980 tty=(none) ses=1 comm=\"ossec-syscheckd\" exe=\"/var/esild/bin/ossec-syscheckd\" subj=unconfined_u:unconfined_r:unconfined_t:s0-s0:c0.c1023 key=\"audit-wazuh-r\" type=CWD msg=audit(1611884542.708:10047): cwd=\"/\" type=PATH msg=audit(1611884542.708:10047): item=0 name=\"/etc/profile.d/PackageKit.sh\" inode=102151899 dev=fd:00 mode=0100644 ouid=0 ogid=0 rdev=00:00 obj=system_u:object_r:bin_t:s0 objtype=NORMAL cap_fp=0000000000000000 cap_fi=0000000000000000 cap_fe=0 cap_fver=0 type=PROCTITLE msg=audit(1611884542.708:10047): proctitle=\"/var/esild/bin/ossec-syscheckd\"\n",
      "----------------------------------------------------------------------------------------\n",
      "* Level 1 : type=SYSCALL msg=audit(1611884542.704:9975): arch=c000003e syscall=2 success=yes exit=16 a0=7fd5639aeb30 a1=0 a2=0 a3=7fd564506900 items=1 ppid=1 pid=16168 auid=1000 uid=0 gid=980 euid=0 suid=0 fsuid=0 egid=980 sgid=980 fsgid=980 tty=(none) ses=1 comm=\"ossec-syscheckd\" exe=\"/var/esild/bin/ossec-syscheckd\" subj=unconfined_u:unconfined_r:unconfined_t:s0-s0:c0.c1023 key=\"audit-wazuh-r\" type=CWD msg=audit(1611884542.704:9975): cwd=\"/\" type=PATH msg=audit(1611884542.704:9975): item=0 name=\"/etc/ssh/ssh_host_rsa_key.pub\" inode=35052511 dev=fd:00 mode=0100644 ouid=0 ogid=0 rdev=00:00 obj=system_u:object_r:sshd_key_t:s0 objtype=NORMAL cap_fp=0000000000000000 cap_fi=0000000000000000 cap_fe=0 cap_fver=0 type=PROCTITLE msg=audit(1611884542.704:9975): proctitle=\"/var/esild/bin/ossec-syscheckd\"\n",
      "----------------------------------------------------------------------------------------\n"
     ]
    }
   ],
   "source": [
    "print(\"*  Submit :\", df.full_log[deck2[\"ids\"][j - 1][0] - 1000000])\n",
    "print(\"----------------------------------------------------------------------------------------\")\n",
    "print(\"*   index :\", j - 1)\n",
    "print(\"*    dist :\", \" \".join(map(lambda x: f\"{x:.4f}\", values_.cpu().tolist())))\n",
    "print(\"* fc-level:\", deck2[\"fclevel\"][j - 1])\n",
    "print(\"----------------------------------------------------------------------------------------\")\n",
    "\n",
    "for idx in indices_:\n",
    "    print(\"* Level\", deck1[\"tlevel\"][idx].item(), \":\", deck1[\"otext\"][idx])\n",
    "    print(\"----------------------------------------------------------------------------------------\")\n",
    "\n",
    "shown = True"
   ]
  },
  {
   "cell_type": "code",
   "execution_count": 58,
   "id": "702d4e1a-b36f-4f58-a494-cef3e83b5bff",
   "metadata": {},
   "outputs": [
    {
     "name": "stdout",
     "output_type": "stream",
     "text": [
      "*  Submit : type=SYSCALL msg=audit(1611884541.674:8061): arch=c000003e syscall=2 success=yes exit=15 a0=7fd5639b0630 a1=0 a2=0 a3=7fd564506280 items=1 ppid=1 pid=16168 auid=1000 uid=0 gid=980 euid=0 suid=0 fsuid=0 egid=980 sgid=980 fsgid=980 tty=(none) ses=1 comm=\"ossec-syscheckd\" exe=\"/var/esild/bin/ossec-syscheckd\" subj=unconfined_u:unconfined_r:unconfined_t:s0-s0:c0.c1023 key=\"audit-wazuh-r\" type=CWD msg=audit(1611884541.674:8061):  cwd=\"/\" type=PATH msg=audit(1611884541.674:8061): item=0 name=\"/usr/bin/abrt-action-check-oops-for-hw-error\" inode=101554738 dev=fd:00 mode=0100755 ouid=0 ogid=0 rdev=00:00 obj=system_u:object_r:bin_t:s0 objtype=NORMAL cap_fp=0000000000000000 cap_fi=0000000000000000 cap_fe=0 cap_fver=0 type=PROCTITLE msg=audit(1611884541.674:8061): proctitle=\"/var/esild/bin/ossec-syscheckd\"\n",
      "----------------------------------------------------------------------------------------\n",
      "*   index : 5343\n",
      "*    dist : 1.1246 1.1333 1.1517 1.2029\n",
      "* fc-level: tensor(1)\n",
      "----------------------------------------------------------------------------------------\n",
      "* Level 1 : type=SYSCALL msg=audit(1611886056.053:49657): arch=c000003e syscall=2 success=yes exit=8 a0=5651febf474e a1=50000 a2=7fff31e3d9d0 a3=7f275055e830 items=1 ppid=71509 pid=71515 auid=0 uid=0 gid=0 euid=0 suid=0 fsuid=0 egid=0 sgid=0 fsgid=0 tty=(none) ses=6 comm=\"updatedb\" exe=\"/usr/bin/updatedb\" subj=system_u:system_r:locate_t:s0-s0:c0.c1023 key=\"audit-wazuh-r\" type=CWD msg=audit(1611886056.053:49657): cwd=\"/etc/request-key.d\" type=PATH msg=audit(1611886056.053:49657): item=0 name=\".\" inode=100751039 dev=fd:00 mode=040755 ouid=0 ogid=0 rdev=00:00 obj=system_u:object_r:etc_t:s0 objtype=NORMAL cap_fp=0000000000000000 cap_fi=0000000000000000 cap_fe=0 cap_fver=0 type=PROCTITLE msg=audit(1611886056.053:49657): proctitle=2F7573722F62696E2F7570646174656462002D660073797366730A72616D66730A626465760A70726F630A6367726F75700A6370757365740A746D7066730A646576746D7066730A646562756766730A736563757269747966730A736F636B66730A6461780A6270660A7069706566730A636F6E66696766730A646576707473\n",
      "----------------------------------------------------------------------------------------\n",
      "* Level 1 : type=SYSCALL msg=audit(1603193106.837:183088): arch=c000003e syscall=89 success=no exit=-22 a0=7ffc5ef06e4c a1=7ffc5ef02ae0 a2=1000 a3=7f0c20bd9610 items=1 ppid=29234 pid=29236 auid=4294967295 uid=0 gid=0 euid=0 suid=0 fsuid=0 egid=0 sgid=0 fsgid=0 tty=(none) ses=4294967295 comm=\"abrt-action-che\" exe=\"/usr/bin/python2.7\" subj=system_u:system_r:abrt_t:s0-s0:c0.c1023 key=\"audit-wazuh-r\" type=CWD msg=audit(1603193106.837:183088): cwd=\"/var/spool/abrt/oops-2020-10-20-20:25:02-29133-0\" type=PATH msg=audit(1603193106.837:183088): item=0 name=\"/usr/bin/abrt-action-check-oops-for-hw-error\" inode=607808 dev=fd:00 mode=0100755 ouid=0 ogid=0 rdev=00:00 obj=system_u:object_r:bin_t:s0 objtype=NORMAL type=PROCTITLE msg=audit(1603193106.837:183088): proctitle=2F7573722F62696E2F707974686F6E002D75002F7573722F62696E2F616272742D616374696F6E2D636865636B2D6F6F70732D666F722D68772D6572726F72\n",
      "----------------------------------------------------------------------------------------\n",
      "* Level 1 : type=SYSCALL msg=audit(1603072814.380:19905): arch=c000003e syscall=2 success=yes exit=12 a0=7fa584138030 a1=0 a2=0 a3=7fa584c91870 items=1 ppid=1 pid=30216 auid=0 uid=0 gid=985 euid=0 suid=0 fsuid=0 egid=985 sgid=985 fsgid=985 tty=(none) ses=1 comm=\"ossec-syscheckd\" exe=\"/var/esild/bin/ossec-syscheckd\" subj=unconfined_u:unconfined_r:unconfined_t:s0-s0:c0.c1023 key=\"audit-wazuh-r\" type=CWD msg=audit(1603072814.380:19905): cwd=\"/\" type=PATH msg=audit(1603072814.380:19905): item=0 name=\"/etc/suricata/rules/emerging-attack_response.rules\" inode=1833333 dev=fd:00 mode=0100644 ouid=0 ogid=0 rdev=00:00 obj=unconfined_u:object_r:admin_home_t:s0 objtype=NORMAL type=PROCTITLE msg=audit(1603072814.380:19905): proctitle=\"/var/esild/bin/ossec-syscheckd\"\n",
      "----------------------------------------------------------------------------------------\n",
      "* Level 1 : type=SYSCALL msg=audit(1603116067.006:65200): arch=c000003e syscall=2 success=yes exit=10 a0=94eb50 a1=0 a2=1b6 a3=24 items=1 ppid=1 pid=30216 auid=0 uid=0 gid=985 euid=0 suid=0 fsuid=0 egid=985 sgid=985 fsgid=985 tty=(none) ses=1 comm=\"ossec-syscheckd\" exe=\"/var/esild/bin/ossec-syscheckd\" subj=unconfined_u:unconfined_r:unconfined_t:s0-s0:c0.c1023 key=\"audit-wazuh-r\" type=CWD msg=audit(1603116067.006:65200): cwd=\"/\" type=PATH msg=audit(1603116067.006:65200): item=0 name=\"/etc/xdg/autostart/imsettings-start.desktop\" inode=67894475 dev=fd:00 mode=0100644 ouid=0 ogid=0 rdev=00:00 obj=system_u:object_r:etc_t:s0 objtype=NORMAL type=PROCTITLE msg=audit(1603116067.006:65200): proctitle=\"/var/esild/bin/ossec-syscheckd\"\n",
      "----------------------------------------------------------------------------------------\n"
     ]
    }
   ],
   "source": [
    "print(\"*  Submit :\", df.full_log[deck2[\"ids\"][j - 1][0] - 1000000])\n",
    "print(\"----------------------------------------------------------------------------------------\")\n",
    "print(\"*   index :\", j - 1)\n",
    "print(\"*    dist :\", \" \".join(map(lambda x: f\"{x:.4f}\", values_.cpu().tolist())))\n",
    "print(\"* fc-level:\", deck2[\"fclevel\"][j - 1])\n",
    "print(\"----------------------------------------------------------------------------------------\")\n",
    "\n",
    "for idx in indices_:\n",
    "    print(\"* Level\", deck1[\"tlevel\"][idx].item(), \":\", deck1[\"otext\"][idx])\n",
    "    print(\"----------------------------------------------------------------------------------------\")\n",
    "\n",
    "shown = True"
   ]
  },
  {
   "cell_type": "code",
   "execution_count": 52,
   "id": "36ba0061-5b44-42a2-8442-aabdcd8c52a1",
   "metadata": {},
   "outputs": [
    {
     "name": "stdout",
     "output_type": "stream",
     "text": [
      "*  Submit : type=SYSCALL msg=audit(1611884534.088:2161): arch=c000003e syscall=2 success=yes exit=3 a0=7f1ffaa515a4 a1=80000 a2=1 a3=7f1ffac574f8 items=1 ppid=16704 pid=16705 auid=1000 uid=0 gid=980 euid=0 suid=0 fsuid=0 egid=980 sgid=980 fsgid=980 tty=(none) ses=1 comm=\"ps\" exe=\"/usr/bin/ps\" subj=unconfined_u:unconfined_r:unconfined_t:s0-s0:c0.c1023 key=\"audit-wazuh-r\" type=CWD msg=audit(1611884534.088:2161):  cwd=\"/\"\n",
      "----------------------------------------------------------------------------------------\n",
      "*   index : 4623\n",
      "*    dist : 0.2462 0.2578 0.2674 0.2924\n",
      "* fc-level: tensor(1)\n",
      "----------------------------------------------------------------------------------------\n",
      "* Level 1 : type=SYSCALL msg=audit(1603149886.274:126835): arch=c000003e syscall=2 success=yes exit=4 a0=7f5ff43ae5a4 a1=80000 a2=1 a3=7f5ff45b44f8 items=1 ppid=19453 pid=19456 auid=0 uid=0 gid=985 euid=0 suid=0 fsuid=0 egid=985 sgid=985 fsgid=985 tty=(none) ses=1 comm=\"sort\" exe=\"/usr/bin/sort\" subj=unconfined_u:unconfined_r:unconfined_t:s0-s0:c0.c1023 key=\"audit-wazuh-r\" type=CWD msg=audit(1603149886.274:126835): cwd=\"/\"\n",
      "----------------------------------------------------------------------------------------\n",
      "* Level 1 : type=SYSCALL msg=audit(1603105159.893:57931): arch=c000003e syscall=2 success=yes exit=3 a0=7f6b660c75a4 a1=80000 a2=1 a3=7f6b662cd4f8 items=1 ppid=7821 pid=7822 auid=0 uid=0 gid=0 euid=0 suid=0 fsuid=0 egid=0 sgid=0 fsgid=0 tty=pts0 ses=1 comm=\"ps\" exe=\"/usr/bin/ps\" subj=unconfined_u:unconfined_r:unconfined_t:s0-s0:c0.c1023 key=\"audit-wazuh-r\" type=CWD msg=audit(1603105159.893:57931): cwd=\"/var/esild/bin\"\n",
      "----------------------------------------------------------------------------------------\n",
      "* Level 1 : type=SYSCALL msg=audit(1603181963.812:177949): arch=c000003e syscall=2 success=yes exit=4 a0=7ffae13275a4 a1=80000 a2=1 a3=7ffae152d4f8 items=1 ppid=30221 pid=27214 auid=0 uid=0 gid=985 euid=0 suid=0 fsuid=0 egid=985 sgid=985 fsgid=985 tty=(none) ses=1 comm=\"sh\" exe=\"/usr/bin/bash\" subj=unconfined_u:unconfined_r:unconfined_t:s0-s0:c0.c1023 key=\"audit-wazuh-r\" type=CWD msg=audit(1603181963.812:177949): cwd=\"/\"\n",
      "----------------------------------------------------------------------------------------\n",
      "* Level 1 : type=SYSCALL msg=audit(1603072814.421:19950): arch=c000003e syscall=2 success=yes exit=12 a0=7fa584139b30 a1=0 a2=0 a3=7fa584c911f0 items=1 ppid=1 pid=30216 auid=0 uid=0 gid=985 euid=0 suid=0 fsuid=0 egid=985 sgid=985 fsgid=985 tty=(none) ses=1 comm=\"ossec-syscheckd\" exe=\"/var/esild/bin/ossec-syscheckd\" subj=unconfined_u:unconfined_r:unconfined_t:s0-s0:c0.c1023 key=\"audit-wazuh-r\" type=CWD msg=audit(1603072814.421:19950): cwd=\"/\"\n",
      "----------------------------------------------------------------------------------------\n"
     ]
    }
   ],
   "source": [
    "print(\"*  Submit :\", df.full_log[deck2[\"ids\"][j - 1][0] - 1000000])\n",
    "print(\"----------------------------------------------------------------------------------------\")\n",
    "print(\"*   index :\", j - 1)\n",
    "print(\"*    dist :\", \" \".join(map(lambda x: f\"{x:.4f}\", values_.cpu().tolist())))\n",
    "print(\"* fc-level:\", deck2[\"fclevel\"][j - 1])\n",
    "print(\"----------------------------------------------------------------------------------------\")\n",
    "\n",
    "for idx in indices_:\n",
    "    print(\"* Level\", deck1[\"tlevel\"][idx].item(), \":\", deck1[\"otext\"][idx])\n",
    "    print(\"----------------------------------------------------------------------------------------\")\n",
    "\n",
    "shown = True"
   ]
  },
  {
   "cell_type": "code",
   "execution_count": 34,
   "id": "12990cdf-f0fd-4f76-9aff-34691f2adc51",
   "metadata": {},
   "outputs": [
    {
     "name": "stdout",
     "output_type": "stream",
     "text": [
      "*  Submit : ossec: Agent started: 'solaris46->192.168.0.46'.\n",
      "----------------------------------------------------------------------------------------\n",
      "*   index : 2851\n",
      "*    dist : 0.2525 0.3040 0.3739 0.4055\n",
      "* fc-level: tensor(1)\n",
      "----------------------------------------------------------------------------------------\n",
      "* Level 1 : ossec: Agent started: 'Windows10->192.168.0.190'.\n",
      "----------------------------------------------------------------------------------------\n",
      "* Level 1 : ossec: Agent started: 'Solaris-46->192.168.0.46'.\n",
      "----------------------------------------------------------------------------------------\n",
      "* Level 1 : ossec: Agent started: 'tukim->192.168.0.181'.\n",
      "----------------------------------------------------------------------------------------\n",
      "* Level 1 : ossec: Agent started: 'sjlee->192.168.0.189'.\n",
      "----------------------------------------------------------------------------------------\n"
     ]
    }
   ],
   "source": [
    "print(\"*  Submit :\", df.full_log[deck2[\"ids\"][j - 1][0] - 1000000])\n",
    "print(\"----------------------------------------------------------------------------------------\")\n",
    "print(\"*   index :\", j - 1)\n",
    "print(\"*    dist :\", \" \".join(map(lambda x: f\"{x:.4f}\", values_.cpu().tolist())))\n",
    "print(\"* fc-level:\", deck2[\"fclevel\"][j - 1])\n",
    "print(\"----------------------------------------------------------------------------------------\")\n",
    "\n",
    "for idx in indices_:\n",
    "    print(\"* Level\", deck1[\"tlevel\"][idx].item(), \":\", deck1[\"otext\"][idx])\n",
    "    print(\"----------------------------------------------------------------------------------------\")\n",
    "\n",
    "shown = True"
   ]
  },
  {
   "cell_type": "code",
   "execution_count": 32,
   "id": "29bc27e4-4b36-490a-b109-f007721c1f6a",
   "metadata": {},
   "outputs": [
    {
     "name": "stdout",
     "output_type": "stream",
     "text": [
      "*  Submit : type=AVC msg=audit(1605689130.470:118): avc:  denied  { create } for  pid=3164 comm=\"gdm-session-wor\" name=\"gdm\" scontext=system_u:system_r:xdm_t:s0-s0:c0.c1023 tcontext=system_u:object_r:admin_home_t:s0 tclass=dir type=SYSCALL msg=audit(1605689130.470:118): arch=c000003e syscall=83 success=no exit=-13 a0=55a31f7dc920 a1=1c0 a2=55a31f7dc930 a3=0 items=0 ppid=3146 pid=3164 auid=0 uid=0 gid=0 euid=0 suid=0 fsuid=0 egid=0 sgid=0 fsgid=0 tty=(none) ses=1 comm=\"gdm-session-wor\" exe=\"/usr/libexec/gdm-session-worker\" subj=system_u:system_r:xdm_t:s0-s0:c0.c1023 key=(null) type=PROCTITLE msg=audit(1605689130.470:118): proctitle=67646D2D73657373696F6E2D776F726B6572205B70616D2F67646D2D70617373776F72645D\n",
      "----------------------------------------------------------------------------------------\n",
      "*   index : 2600\n",
      "*    dist : 0.5601 0.5604 0.5617 0.5620\n",
      "* fc-level: tensor(1)\n",
      "----------------------------------------------------------------------------------------\n",
      "* Level 1 : type=SYSCALL msg=audit(1611886911.567:125310): arch=c000003e syscall=2 success=yes exit=3 a0=7f6d30fc15a4 a1=80000 a2=1 a3=7f6d311c74f8 items=1 ppid=73281 pid=85754 auid=0 uid=0 gid=0 euid=0 suid=0 fsuid=0 egid=0 sgid=0 fsgid=0 tty=pts1 ses=8 comm=\"hardlink\" exe=\"/usr/sbin/hardlink\" subj=unconfined_u:unconfined_r:rpm_script_t:s0-s0:c0.c1023 key=\"audit-wazuh-r\" type=CWD msg=audit(1611886911.567:125310): cwd=\"/usr/src/kernels/3.10.0-1160.11.1.el7.x86_64\" type=PATH msg=audit(1611886911.567:125310): item=0 name=\"/etc/ld.so.cache\" inode=35395307 dev=fd:00 mode=0100644 ouid=0 ogid=0 rdev=00:00 obj=unconfined_u:object_r:ld_so_cache_t:s0 objtype=NORMAL cap_fp=0000000000000000 cap_fi=0000000000000000 cap_fe=0 cap_fver=0 type=PROCTITLE msg=audit(1611886911.567:125310): proctitle=686172646C696E6B002D63002F7573722F7372632F6B65726E656C732F332E31302E302D313036322E656C372E7838365F36342F2E2F736372697074732F67656E6B73796D732F6B6579776F7264732E6770657266002F7573722F7372632F6B65726E656C732F332E31302E302D313136302E31312E312E656C372E7838365F\n",
      "----------------------------------------------------------------------------------------\n",
      "* Level 1 : type=SYSCALL msg=audit(1611886911.080:124850): arch=c000003e syscall=2 success=yes exit=3 a0=7f7e0bfa05a4 a1=80000 a2=1 a3=7f7e0c1a64f8 items=1 ppid=73281 pid=85524 auid=0 uid=0 gid=0 euid=0 suid=0 fsuid=0 egid=0 sgid=0 fsgid=0 tty=pts1 ses=8 comm=\"hardlink\" exe=\"/usr/sbin/hardlink\" subj=unconfined_u:unconfined_r:rpm_script_t:s0-s0:c0.c1023 key=\"audit-wazuh-r\" type=CWD msg=audit(1611886911.080:124850): cwd=\"/usr/src/kernels/3.10.0-1160.11.1.el7.x86_64\" type=PATH msg=audit(1611886911.080:124850): item=0 name=\"/etc/ld.so.cache\" inode=35395307 dev=fd:00 mode=0100644 ouid=0 ogid=0 rdev=00:00 obj=unconfined_u:object_r:ld_so_cache_t:s0 objtype=NORMAL cap_fp=0000000000000000 cap_fi=0000000000000000 cap_fe=0 cap_fver=0 type=PROCTITLE msg=audit(1611886911.080:124850): proctitle=686172646C696E6B002D63002F7573722F7372632F6B65726E656C732F332E31302E302D313036322E656C372E7838365F36342F2E2F736372697074732F4D616B6566696C652E6275696C64002F7573722F7372632F6B65726E656C732F332E31302E302D313136302E31312E312E656C372E7838365F36342F2E2F73637269\n",
      "----------------------------------------------------------------------------------------\n",
      "* Level 1 : type=SYSCALL msg=audit(1611886909.651:123458): arch=c000003e syscall=2 success=yes exit=3 a0=7f7a058555a4 a1=80000 a2=1 a3=7f7a05a5b4f8 items=1 ppid=73281 pid=84828 auid=0 uid=0 gid=0 euid=0 suid=0 fsuid=0 egid=0 sgid=0 fsgid=0 tty=pts1 ses=8 comm=\"hardlink\" exe=\"/usr/sbin/hardlink\" subj=unconfined_u:unconfined_r:rpm_script_t:s0-s0:c0.c1023 key=\"audit-wazuh-r\" type=CWD msg=audit(1611886909.651:123458): cwd=\"/usr/src/kernels/3.10.0-1160.11.1.el7.x86_64\" type=PATH msg=audit(1611886909.651:123458): item=0 name=\"/etc/ld.so.cache\" inode=35395307 dev=fd:00 mode=0100644 ouid=0 ogid=0 rdev=00:00 obj=unconfined_u:object_r:ld_so_cache_t:s0 objtype=NORMAL cap_fp=0000000000000000 cap_fi=0000000000000000 cap_fe=0 cap_fver=0 type=PROCTITLE msg=audit(1611886909.651:123458): proctitle=686172646C696E6B002D63002F7573722F7372632F6B65726E656C732F332E31302E302D313036322E656C372E7838365F36342F2E2F696E636C7564652F756170692F6C696E75782F6E657466696C7465725F697076362F697036745F61682E68002F7573722F7372632F6B65726E656C732F332E31302E302D313136302E31\n",
      "----------------------------------------------------------------------------------------\n",
      "* Level 1 : type=SYSCALL msg=audit(1611886912.094:125824): arch=c000003e syscall=2 success=yes exit=3 a0=7f4daf4d75a4 a1=80000 a2=1 a3=7f4daf6dd4f8 items=1 ppid=73281 pid=86011 auid=0 uid=0 gid=0 euid=0 suid=0 fsuid=0 egid=0 sgid=0 fsgid=0 tty=pts1 ses=8 comm=\"hardlink\" exe=\"/usr/sbin/hardlink\" subj=unconfined_u:unconfined_r:rpm_script_t:s0-s0:c0.c1023 key=\"audit-wazuh-r\" type=CWD msg=audit(1611886912.094:125824): cwd=\"/usr/src/kernels/3.10.0-1160.11.1.el7.x86_64\" type=PATH msg=audit(1611886912.094:125824): item=0 name=\"/etc/ld.so.cache\" inode=35395307 dev=fd:00 mode=0100644 ouid=0 ogid=0 rdev=00:00 obj=unconfined_u:object_r:ld_so_cache_t:s0 objtype=NORMAL cap_fp=0000000000000000 cap_fi=0000000000000000 cap_fe=0 cap_fver=0 type=PROCTITLE msg=audit(1611886912.094:125824): proctitle=686172646C696E6B002D63002F7573722F7372632F6B65726E656C732F332E31302E302D313036322E656C372E7838365F36342F2E2F746F6F6C732F74657374696E672F76736F636B2F4D616B6566696C65002F7573722F7372632F6B65726E656C732F332E31302E302D313136302E31312E312E656C372E7838365F36342F\n",
      "----------------------------------------------------------------------------------------\n"
     ]
    }
   ],
   "source": [
    "print(\"*  Submit :\", df.full_log[deck2[\"ids\"][j - 1][0] - 1000000])\n",
    "print(\"----------------------------------------------------------------------------------------\")\n",
    "print(\"*   index :\", j - 1)\n",
    "print(\"*    dist :\", \" \".join(map(lambda x: f\"{x:.4f}\", values_.cpu().tolist())))\n",
    "print(\"* fc-level:\", deck2[\"fclevel\"][j - 1])\n",
    "print(\"----------------------------------------------------------------------------------------\")\n",
    "\n",
    "for idx in indices_:\n",
    "    print(\"* Level\", deck1[\"tlevel\"][idx].item(), \":\", deck1[\"otext\"][idx])\n",
    "    print(\"----------------------------------------------------------------------------------------\")\n",
    "\n",
    "shown = True"
   ]
  },
  {
   "cell_type": "code",
   "execution_count": 30,
   "id": "d1f74511-bfba-4bd0-a068-74170eb62443",
   "metadata": {},
   "outputs": [
    {
     "name": "stdout",
     "output_type": "stream",
     "text": [
      "*  Submit : type=SYSCALL msg=audit(1603072810.476:18000): arch=c000003e syscall=2 success=yes exit=17 a0=7fa584131430 a1=0 a2=0 a3=646f6d2f65766974 items=1 ppid=1 pid=30216 auid=0 uid=0 gid=985 euid=0 suid=0 fsuid=0 egid=985 sgid=985 fsgid=985 tty=(none) ses=1 comm=\"ossec-syscheckd\" exe=\"/var/esild/bin/ossec-syscheckd\" subj=unconfined_u:unconfined_r:unconfined_t:s0-s0:c0.c1023 key=\"audit-wazuh-r\" type=CWD msg=audit(1603072810.476:18000):  cwd=\"/\"\n",
      "----------------------------------------------------------------------------------------\n",
      "*   index : 2257\n",
      "*    dist : 0.2171 0.2183 0.2430 0.2462\n",
      "* fc-level: tensor(1)\n",
      "----------------------------------------------------------------------------------------\n",
      "* Level 1 : type=SYSCALL msg=audit(1605748920.226:92354): arch=c000003e syscall=2 success=yes exit=16 a0=7fce5df27430 a1=0 a2=0 a3=646f6d2f65766974 items=1 ppid=1 pid=15417 auid=0 uid=0 gid=985 euid=0 suid=0 fsuid=0 egid=985 sgid=985 fsgid=985 tty=(none) ses=115 comm=\"ossec-syscheckd\" exe=\"/var/esild/bin/ossec-syscheckd\" subj=unconfined_u:unconfined_r:unconfined_t:s0-s0:c0.c1023 key=\"audit-wazuh-r\" type=CWD msg=audit(1605748920.226:92354): cwd=\"/\"\n",
      "----------------------------------------------------------------------------------------\n",
      "* Level 1 : type=SYSCALL msg=audit(1605748920.136:92303): arch=c000003e syscall=2 success=yes exit=18 a0=7fce5df27430 a1=0 a2=0 a3=646f6d2f65766974 items=1 ppid=1 pid=15417 auid=0 uid=0 gid=985 euid=0 suid=0 fsuid=0 egid=985 sgid=985 fsgid=985 tty=(none) ses=115 comm=\"ossec-syscheckd\" exe=\"/var/esild/bin/ossec-syscheckd\" subj=unconfined_u:unconfined_r:unconfined_t:s0-s0:c0.c1023 key=\"audit-wazuh-r\" type=CWD msg=audit(1605748920.136:92303): cwd=\"/\"\n",
      "----------------------------------------------------------------------------------------\n",
      "* Level 1 : type=SYSCALL msg=audit(1603072810.719:18064): arch=c000003e syscall=2 success=yes exit=13 a0=7fa584136530 a1=0 a2=0 a3=7fa584c911f0 items=1 ppid=1 pid=30216 auid=0 uid=0 gid=985 euid=0 suid=0 fsuid=0 egid=985 sgid=985 fsgid=985 tty=(none) ses=1 comm=\"ossec-syscheckd\" exe=\"/var/esild/bin/ossec-syscheckd\" subj=unconfined_u:unconfined_r:unconfined_t:s0-s0:c0.c1023 key=\"audit-wazuh-r\" type=CWD msg=audit(1603072810.719:18064): cwd=\"/\"\n",
      "----------------------------------------------------------------------------------------\n",
      "* Level 1 : type=SYSCALL msg=audit(1603072810.364:17947): arch=c000003e syscall=257 success=yes exit=17 a0=ffffffffffffff9c a1=7fa584132f30 a2=90800 a3=0 items=1 ppid=1 pid=30216 auid=0 uid=0 gid=985 euid=0 suid=0 fsuid=0 egid=985 sgid=985 fsgid=985 tty=(none) ses=1 comm=\"ossec-syscheckd\" exe=\"/var/esild/bin/ossec-syscheckd\" subj=unconfined_u:unconfined_r:unconfined_t:s0-s0:c0.c1023 key=\"audit-wazuh-r\" type=CWD msg=audit(1603072810.364:17947): cwd=\"/\"\n",
      "----------------------------------------------------------------------------------------\n"
     ]
    }
   ],
   "source": [
    "print(\"*  Submit :\", df.full_log[deck2[\"ids\"][j - 1][0] - 1000000])\n",
    "print(\"----------------------------------------------------------------------------------------\")\n",
    "print(\"*   index :\", j - 1)\n",
    "print(\"*    dist :\", \" \".join(map(lambda x: f\"{x:.4f}\", values_.cpu().tolist())))\n",
    "print(\"* fc-level:\", deck2[\"fclevel\"][j - 1])\n",
    "print(\"----------------------------------------------------------------------------------------\")\n",
    "\n",
    "for idx in indices_:\n",
    "    print(\"* Level\", deck1[\"tlevel\"][idx].item(), \":\", deck1[\"otext\"][idx])\n",
    "    print(\"----------------------------------------------------------------------------------------\")\n",
    "\n",
    "shown = True"
   ]
  },
  {
   "cell_type": "code",
   "execution_count": 26,
   "id": "b223c2f4-cb47-407c-8ba4-f0937a8deb3f",
   "metadata": {},
   "outputs": [
    {
     "name": "stdout",
     "output_type": "stream",
     "text": [
      "*  Submit : type=USER_AVC msg=audit(1610504483.749:9959): pid=886 uid=81 auid=4294967295 ses=4294967295 subj=system_u:system_r:system_dbusd_t:s0-s0:c0.c1023 msg='avc:  denied  { send_msg } for msgtype=method_call interface=org.freedesktop.login1.Manager member=CreateSession dest=org.freedesktop.login1 spid=30756 tpid=818 scontext=system_u:system_r:httpd_t:s0 tcontext=system_u:system_r:systemd_logind_t:s0 tclass=dbus  exe=\"/usr/bin/dbus-daemon\" sauid=81 hostname=? addr=? terminal=?'\n",
      "----------------------------------------------------------------------------------------\n",
      "*   index : 1827\n",
      "*    dist : 0.3013 1.9929 2.0182 2.0209\n",
      "* fc-level: tensor(1)\n",
      "----------------------------------------------------------------------------------------\n",
      "* Level 1 : type=USER_AVC msg=audit(1613363937.137:2481): pid=813 uid=81 auid=4294967295 ses=4294967295 subj=system_u:system_r:system_dbusd_t:s0-s0:c0.c1023 msg='avc: denied { send_msg } for msgtype=method_call interface=org.freedesktop.login1.Manager member=CreateSession dest=org.freedesktop.login1 spid=30614 tpid=860 scontext=system_u:system_r:httpd_t:s0 tcontext=system_u:system_r:systemd_logind_t:s0 tclass=dbus exe=\"/usr/bin/dbus-daemon\" sauid=81 hostname=? addr=? terminal=?'\n",
      "----------------------------------------------------------------------------------------\n",
      "* Level 1 : type=SYSCALL msg=audit(1603193106.837:183088): arch=c000003e syscall=89 success=no exit=-22 a0=7ffc5ef06e4c a1=7ffc5ef02ae0 a2=1000 a3=7f0c20bd9610 items=1 ppid=29234 pid=29236 auid=4294967295 uid=0 gid=0 euid=0 suid=0 fsuid=0 egid=0 sgid=0 fsgid=0 tty=(none) ses=4294967295 comm=\"abrt-action-che\" exe=\"/usr/bin/python2.7\" subj=system_u:system_r:abrt_t:s0-s0:c0.c1023 key=\"audit-wazuh-r\" type=CWD msg=audit(1603193106.837:183088): cwd=\"/var/spool/abrt/oops-2020-10-20-20:25:02-29133-0\" type=PATH msg=audit(1603193106.837:183088): item=0 name=\"/usr/bin/abrt-action-check-oops-for-hw-error\" inode=607808 dev=fd:00 mode=0100755 ouid=0 ogid=0 rdev=00:00 obj=system_u:object_r:bin_t:s0 objtype=NORMAL type=PROCTITLE msg=audit(1603193106.837:183088): proctitle=2F7573722F62696E2F707974686F6E002D75002F7573722F62696E2F616272742D616374696F6E2D636865636B2D6F6F70732D666F722D68772D6572726F72\n",
      "----------------------------------------------------------------------------------------\n",
      "* Level 1 : month day time localhost sudo: apache : TTY=unknown ; PWD=/var/www/html/management ; USER=root ; COMMAND=/bin/cat /var/esild/ruleset/ month oders/0235-puppet_ month oders.xml\n",
      "----------------------------------------------------------------------------------------\n",
      "* Level 1 : month 8 time localhost sudo: apache : TTY=unknown ; PWD=/var/www/html/management ; USER=root ; COMMAND=/bin/cat /var/esild/ruleset/ month oders/0440-proxmox-ve_ month oders.xml\n",
      "----------------------------------------------------------------------------------------\n"
     ]
    }
   ],
   "source": [
    "print(\"*  Submit :\", df.full_log[deck2[\"ids\"][j - 1][0] - 1000000])\n",
    "print(\"----------------------------------------------------------------------------------------\")\n",
    "print(\"*   index :\", j - 1)\n",
    "print(\"*    dist :\", \" \".join(map(lambda x: f\"{x:.4f}\", values_.cpu().tolist())))\n",
    "print(\"* fc-level:\", deck2[\"fclevel\"][j - 1])\n",
    "print(\"----------------------------------------------------------------------------------------\")\n",
    "\n",
    "for idx in indices_:\n",
    "    print(\"* Level\", deck1[\"tlevel\"][idx].item(), \":\", deck1[\"otext\"][idx])\n",
    "    print(\"----------------------------------------------------------------------------------------\")\n",
    "\n",
    "shown = True"
   ]
  },
  {
   "cell_type": "code",
   "execution_count": 24,
   "id": "d55fb9d8-87ed-4847-b10e-a8729557a27a",
   "metadata": {},
   "outputs": [
    {
     "name": "stdout",
     "output_type": "stream",
     "text": [
      "*  Submit : type=SYSCALL msg=audit(1611891001.276:323797): arch=c000003e syscall=2 success=yes exit=3 a0=7fe8ac908552 a1=80000 a2=1b6 a3=24 items=1 ppid=4216 pid=111450 auid=0 uid=0 gid=0 euid=0 suid=0 fsuid=0 egid=0 sgid=0 fsgid=0 tty=(none) ses=17 comm=\"crond\" exe=\"/usr/sbin/crond\" subj=system_u:system_r:crond_t:s0-s0:c0.c1023 key=\"audit-wazuh-r\" type=CWD msg=audit(1611891001.276:323797):  cwd=\"/\"\n",
      "----------------------------------------------------------------------------------------\n",
      "*   index : 1035\n",
      "*    dist : 0.3354 0.3365 0.3384 0.3400\n",
      "* fc-level: tensor(1)\n",
      "----------------------------------------------------------------------------------------\n",
      "* Level 1 : type=SYSCALL msg=audit(1605748917.030:90646): arch=c000003e syscall=2 success=yes exit=11 a0=7fce5df2fb30 a1=0 a2=0 a3=7fce5ea87900 items=1 ppid=1 pid=15417 auid=0 uid=0 gid=985 euid=0 suid=0 fsuid=0 egid=985 sgid=985 fsgid=985 tty=(none) ses=115 comm=\"ossec-syscheckd\" exe=\"/var/esild/bin/ossec-syscheckd\" subj=unconfined_u:unconfined_r:unconfined_t:s0-s0:c0.c1023 key=\"audit-wazuh-r\"\n",
      "----------------------------------------------------------------------------------------\n",
      "* Level 1 : type=SYSCALL msg=audit(1605748916.429:90297): arch=c000003e syscall=2 success=yes exit=10 a0=7fce5df31630 a1=0 a2=0 a3=7fce5ea87280 items=1 ppid=1 pid=15417 auid=0 uid=0 gid=985 euid=0 suid=0 fsuid=0 egid=985 sgid=985 fsgid=985 tty=(none) ses=115 comm=\"ossec-syscheckd\" exe=\"/var/esild/bin/ossec-syscheckd\" subj=unconfined_u:unconfined_r:unconfined_t:s0-s0:c0.c1023 key=\"audit-wazuh-r\"\n",
      "----------------------------------------------------------------------------------------\n",
      "* Level 1 : type=SYSCALL msg=audit(1605748915.534:88476): arch=c000003e syscall=2 success=yes exit=10 a0=7fce5df31630 a1=0 a2=0 a3=7fce5ea87900 items=1 ppid=1 pid=15417 auid=0 uid=0 gid=985 euid=0 suid=0 fsuid=0 egid=985 sgid=985 fsgid=985 tty=(none) ses=115 comm=\"ossec-syscheckd\" exe=\"/var/esild/bin/ossec-syscheckd\" subj=unconfined_u:unconfined_r:unconfined_t:s0-s0:c0.c1023 key=\"audit-wazuh-r\"\n",
      "----------------------------------------------------------------------------------------\n",
      "* Level 1 : type=SYSCALL msg=audit(1605748918.495:91470): arch=c000003e syscall=257 success=yes exit=16 a0=ffffffffffffff9c a1=7fce5df28f30 a2=90800 a3=0 items=1 ppid=1 pid=15417 auid=0 uid=0 gid=985 euid=0 suid=0 fsuid=0 egid=985 sgid=985 fsgid=985 tty=(none) ses=115 comm=\"ossec-syscheckd\" exe=\"/var/esild/bin/ossec-syscheckd\" subj=unconfined_u:unconfined_r:unconfined_t:s0-s0:c0.c1023 key=\"audit-wazuh-r\"\n",
      "----------------------------------------------------------------------------------------\n"
     ]
    }
   ],
   "source": [
    "print(\"*  Submit :\", df.full_log[deck2[\"ids\"][j - 1][0] - 1000000])\n",
    "print(\"----------------------------------------------------------------------------------------\")\n",
    "print(\"*   index :\", j - 1)\n",
    "print(\"*    dist :\", \" \".join(map(lambda x: f\"{x:.4f}\", values_.cpu().tolist())))\n",
    "print(\"* fc-level:\", deck2[\"fclevel\"][j - 1])\n",
    "print(\"----------------------------------------------------------------------------------------\")\n",
    "\n",
    "for idx in indices_:\n",
    "    print(\"* Level\", deck1[\"tlevel\"][idx].item(), \":\", deck1[\"otext\"][idx])\n",
    "    print(\"----------------------------------------------------------------------------------------\")\n",
    "\n",
    "shown = True"
   ]
  },
  {
   "cell_type": "code",
   "execution_count": 37,
   "id": "e67d7b50-381a-44de-81f5-4a9714dd8395",
   "metadata": {},
   "outputs": [
    {
     "name": "stdout",
     "output_type": "stream",
     "text": [
      "*  Submit : type=ANOM_ABEND msg=audit(1611108374.643:96332): auid=4294967295 uid=0 gid=0 ses=4294967295 subj=system_u:system_r:unconfined_service_t:s0 pid=21750 comm=\"python3.8\" reason=\"memory violation\" sig=4\n",
      "----------------------------------------------------------------------------------------\n",
      "*   index : 19329\n",
      "*    dist : 1.9089 1.9158 1.9743 1.9874\n",
      "* fc-level: tensor(1)\n",
      "----------------------------------------------------------------------------------------\n",
      "* Level 1 : type=SYSCALL msg=audit(1605748916.729:90406): arch=c000003e syscall=2 success=yes exit=16 a0=15f8500 a1=0 a2=1b6 a3=24 items=1 ppid=1 pid=15417 auid=0 uid=0 gid=985 euid=0 suid=0 fsuid=0 egid=985 sgid=985 fsgid=985 tty=(none) ses=115 comm=\"ossec-syscheckd\" exe=\"/var/esild/bin/ossec-syscheckd\" subj=unconfined_u:unconfined_r:unconfined_t:s0-s0:c0.c1023 key=\"audit-wazuh-r\" type=CWD msg=audit(1605748916.729:90406): cwd=\"/\" type=PATH msg=audit(1605748916.729:90406): item=0 name=\"/etc/X11/xinit/xinitrc.d/00-start-message-bus.sh\" inode=101155241 dev=fd:00 mode=0100755 ouid=0 ogid=0 rdev=00:00 obj=system_u:object_r:bin_t:s0 objtype=NORMAL\n",
      "----------------------------------------------------------------------------------------\n",
      "* Level 1 : type=SYSCALL msg=audit(1603116127.893:96126): arch=c000003e syscall=2 success=yes exit=9 a0=6cbc60 a1=0 a2=1b6 a3=24 items=1 ppid=1 pid=30216 auid=0 uid=0 gid=985 euid=0 suid=0 fsuid=0 egid=985 sgid=985 fsgid=985 tty=(none) ses=1 comm=\"ossec-syscheckd\" exe=\"/var/esild/bin/ossec-syscheckd\" subj=unconfined_u:unconfined_r:unconfined_t:s0-s0:c0.c1023 key=\"audit-wazuh-r\" type=CWD msg=audit(1603116127.893:96126): cwd=\"/\" type=PATH msg=audit(1603116127.893:96126): item=0 name=\"/bin/unicode_start\" inode=951043 dev=fd:00 mode=0100755 ouid=0 ogid=0 rdev=00:00 obj=system_u:object_r:bin_t:s0 objtype=NORMAL type=PROCTITLE msg=audit(1603116127.893:96126): proctitle=\"/var/esild/bin/ossec-syscheckd\"\n",
      "----------------------------------------------------------------------------------------\n",
      "* Level 1 : type=SYSCALL msg=audit(1603193106.837:183088): arch=c000003e syscall=89 success=no exit=-22 a0=7ffc5ef06e4c a1=7ffc5ef02ae0 a2=1000 a3=7f0c20bd9610 items=1 ppid=29234 pid=29236 auid=4294967295 uid=0 gid=0 euid=0 suid=0 fsuid=0 egid=0 sgid=0 fsgid=0 tty=(none) ses=4294967295 comm=\"abrt-action-che\" exe=\"/usr/bin/python2.7\" subj=system_u:system_r:abrt_t:s0-s0:c0.c1023 key=\"audit-wazuh-r\" type=CWD msg=audit(1603193106.837:183088): cwd=\"/var/spool/abrt/oops-2020-10-20-20:25:02-29133-0\" type=PATH msg=audit(1603193106.837:183088): item=0 name=\"/usr/bin/abrt-action-check-oops-for-hw-error\" inode=607808 dev=fd:00 mode=0100755 ouid=0 ogid=0 rdev=00:00 obj=system_u:object_r:bin_t:s0 objtype=NORMAL type=PROCTITLE msg=audit(1603193106.837:183088): proctitle=2F7573722F62696E2F707974686F6E002D75002F7573722F62696E2F616272742D616374696F6E2D636865636B2D6F6F70732D666F722D68772D6572726F72\n",
      "----------------------------------------------------------------------------------------\n",
      "* Level 1 : type=SYSCALL msg=audit(1603116096.931:82304): arch=c000003e syscall=2 success=yes exit=10 a0=94eb50 a1=0 a2=1b6 a3=24 items=1 ppid=1 pid=30216 auid=0 uid=0 gid=985 euid=0 suid=0 fsuid=0 egid=985 sgid=985 fsgid=985 tty=(none) ses=1 comm=\"ossec-syscheckd\" exe=\"/var/esild/bin/ossec-syscheckd\" subj=unconfined_u:unconfined_r:unconfined_t:s0-s0:c0.c1023 key=\"audit-wazuh-r\" type=CWD msg=audit(1603116096.931:82304): cwd=\"/\" type=PATH msg=audit(1603116096.931:82304): item=0 name=\"/etc/mcelog/triggers/page-error-trigger\" inode=35755319 dev=fd:00 mode=0100755 ouid=0 ogid=0 rdev=00:00 obj=system_u:object_r:bin_t:s0 objtype=NORMAL type=PROCTITLE msg=audit(1603116096.931:82304): proctitle=\"/var/esild/bin/ossec-syscheckd\"\n",
      "----------------------------------------------------------------------------------------\n"
     ]
    }
   ],
   "source": [
    "print(\"*  Submit :\", str(df.full_log[deck2[\"ids\"][j - 1][0] - 1000000]))\n",
    "print(\"----------------------------------------------------------------------------------------\")\n",
    "print(\"*   index :\", j - 1)\n",
    "print(\"*    dist :\", \" \".join(map(lambda x: f\"{x:.4f}\", values_.cpu().tolist())))\n",
    "print(\"* fc-level:\", deck2[\"fclevel\"][j - 1])\n",
    "print(\"----------------------------------------------------------------------------------------\")\n",
    "\n",
    "for idx in indices_:\n",
    "    print(\"* Level\", deck1[\"tlevel\"][idx].item(), \":\", deck1[\"otext\"][idx])\n",
    "    print(\"----------------------------------------------------------------------------------------\")\n",
    "\n",
    "shown = True"
   ]
  }
 ],
 "metadata": {
  "kernelspec": {
   "display_name": "torch",
   "language": "python",
   "name": "torch"
  },
  "language_info": {
   "codemirror_mode": {
    "name": "ipython",
    "version": 3
   },
   "file_extension": ".py",
   "mimetype": "text/x-python",
   "name": "python",
   "nbconvert_exporter": "python",
   "pygments_lexer": "ipython3",
   "version": "3.7.10"
  }
 },
 "nbformat": 4,
 "nbformat_minor": 5
}
