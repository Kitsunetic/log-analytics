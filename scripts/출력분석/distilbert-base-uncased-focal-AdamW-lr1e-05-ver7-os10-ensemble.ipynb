{
 "cells": [
  {
   "cell_type": "code",
   "execution_count": 1,
   "id": "packed-theme",
   "metadata": {},
   "outputs": [
    {
     "name": "stdout",
     "output_type": "stream",
     "text": [
      "/home/shim/shim/dev/log-analytics\n"
     ]
    }
   ],
   "source": [
    "%load_ext lab_black\n",
    "%cd ../.."
   ]
  },
  {
   "cell_type": "code",
   "execution_count": 2,
   "id": "postal-channel",
   "metadata": {},
   "outputs": [],
   "source": [
    "import numpy as np\n",
    "import pandas as pd"
   ]
  },
  {
   "cell_type": "code",
   "execution_count": 3,
   "id": "confused-assumption",
   "metadata": {},
   "outputs": [],
   "source": [
    "df3 = pd.read_csv(\"results/distilbert-base-uncased-ver7/distilbert-base-uncased-focal-AdamW-lr1e-05-ver7-os10_3-out_ver1.csv\")\n",
    "df4 = pd.read_csv(\"results/distilbert-base-uncased-ver7/distilbert-base-uncased-focal-AdamW-lr1e-05_4-ver4.csv\")"
   ]
  },
  {
   "cell_type": "code",
   "execution_count": 5,
   "id": "legendary-liverpool",
   "metadata": {},
   "outputs": [],
   "source": [
    "levels3 = df3.level.to_numpy()\n",
    "levels4 = df4.level.to_numpy()"
   ]
  },
  {
   "cell_type": "code",
   "execution_count": 18,
   "id": "exceptional-uniform",
   "metadata": {},
   "outputs": [],
   "source": [
    "df = pd.read_csv(\"data/ori/test.csv\")\n",
    "df_train = pd.read_csv(\"data/ori/train.csv\")"
   ]
  },
  {
   "cell_type": "code",
   "execution_count": 20,
   "id": "automotive-center",
   "metadata": {},
   "outputs": [],
   "source": [
    "def find(text):\n",
    "    for i, full_log in enumerate(df_train.full_log):\n",
    "        if full_log.find(text) != -1:\n",
    "            return i\n",
    "    return -1\n",
    "\n",
    "\n",
    "def find_all(text):\n",
    "    l = []\n",
    "    for i, full_log in enumerate(df_train.full_log):\n",
    "        if full_log.find(text) != -1:\n",
    "            l.append(i)\n",
    "    return l"
   ]
  },
  {
   "cell_type": "code",
   "execution_count": 10,
   "id": "sapphire-georgia",
   "metadata": {},
   "outputs": [
    {
     "data": {
      "text/plain": [
       "2622"
      ]
     },
     "execution_count": 10,
     "metadata": {},
     "output_type": "execute_result"
    }
   ],
   "source": [
    "len(levels3) - (levels3 == levels4).sum()"
   ]
  },
  {
   "cell_type": "code",
   "execution_count": 11,
   "id": "alternative-michigan",
   "metadata": {},
   "outputs": [],
   "source": [
    "N = len(levels3)"
   ]
  },
  {
   "cell_type": "code",
   "execution_count": 14,
   "id": "starting-bunch",
   "metadata": {},
   "outputs": [],
   "source": [
    "diff_list = []\n",
    "for i in range(N):\n",
    "    if levels3[i] != levels4[i]:\n",
    "        # print(f\"{i:7} : {levels3[i]}, {levels4[i]}\")\n",
    "        diff_list.append((i, levels3[i], levels4[i]))"
   ]
  },
  {
   "cell_type": "code",
   "execution_count": 42,
   "id": "spanish-affect",
   "metadata": {},
   "outputs": [
    {
     "data": {
      "text/plain": [
       "(1766, 0, 7)"
      ]
     },
     "execution_count": 42,
     "metadata": {},
     "output_type": "execute_result"
    }
   ],
   "source": [
    "diff_list[4]"
   ]
  },
  {
   "cell_type": "code",
   "execution_count": 43,
   "id": "yellow-cowboy",
   "metadata": {},
   "outputs": [
    {
     "data": {
      "text/plain": [
       "'Nov  3 09:39:06 localhost logstash: at [Source: (String)\"{\\\\\"timestamp\\\\\":\\\\\"2020-11-03T09:39:05.484+0900\\\\\",\\\\\"rule\\\\\":{\\\\\"level\\\\\":10,\\\\\"description\\\\\":\\\\\"Multiple Windows error events.\\\\\",\\\\\"id\\\\\":\\\\\"18154\\\\\",\\\\\"frequency\\\\\":6,\\\\\"firedtimes\\\\\":3,\\\\\"mail\\\\\":false,\\\\\"groups\\\\\":[\\\\\"windows\\\\\"]},\\\\\"agent\\\\\":{\\\\\"id\\\\\":\\\\\"002\\\\\",\\\\\"name\\\\\":\\\\\"sjlee\\\\\",\\\\\"ip\\\\\":\\\\\"192.168.0.189\\\\\"},\\\\\"manager\\\\\":{\\\\\"name\\\\\":\\\\\"localhost.localdomain\\\\\"},\\\\\"id\\\\\":\\\\\"1604363945.3939902\\\\\",\\\\\"previous_output\\\\\":\\\\\"2020 Oct 30 10:17:33 WinEvtLog: Application: ERROR(455): ESENT: (no user): no domain: DESKTOP-UDJIJER: svchost (786\"[truncated 3643 chars]; line: 1, column: 3]>, :data=>\"{\\\\\\\\\\\\\"timestamp\\\\\\\\\\\\\":\\\\\\\\\\\\\"2020-11-03T09:39:05.484+0900\\\\\\\\\\\\\",\\\\\\\\\\\\\"rule\\\\\\\\\\\\\":{\\\\\\\\\\\\\"level\\\\\\\\\\\\\":10,\\\\\\\\\\\\\"description\\\\\\\\\\\\\":\\\\\\\\\\\\\"Multiple Windows error events.\\\\\\\\\\\\\",\\\\\\\\\\\\\"id\\\\\\\\\\\\\":\\\\\\\\\\\\\"18154\\\\\\\\\\\\\",\\\\\\\\\\\\\"frequency\\\\\\\\\\\\\":6,\\\\\\\\\\\\\"firedtimes\\\\\\\\\\\\\":3,\\\\\\\\\\\\\"mail\\\\\\\\\\\\\":false,\\\\\\\\\\\\\"groups\\\\\\\\\\\\\":[\\\\\\\\\\\\\"windows\\\\\\\\\\\\\"]},\\\\\\\\\\\\\"agent\\\\\\\\\\\\\":{\\\\\\\\\\\\\"id\\\\\\\\\\\\\":\\\\\\\\\\\\\"002\\\\\\\\\\\\\",\\\\\\\\\\\\\"name\\\\\\\\\\\\\":\\\\\\\\\\\\\"sjlee\\\\\\\\\\\\\",\\\\\\\\\\\\\"ip\\\\\\\\\\\\\":\\\\\\\\\\\\\"192.168.0.189\\\\\\\\\\\\\"},\\\\\\\\\\\\\"manager\\\\\\\\\\\\\":{\\\\\\\\\\\\\"name\\\\\\\\\\\\\":\\\\\\\\\\\\\"localhost.localdomain\\\\\\\\\\\\\"},\\\\\\\\\\\\\"id\\\\\\\\\\\\\":\\\\\\\\\\\\\"1604363945.3939902\\\\\\\\\\\\\",\\\\\\\\\\\\\"previous_output\\\\\\\\\\\\\":\\\\\\\\\\\\\"2020 Oct 30 10:17:33 WinEvtLog: Application: ERROR(455): ESENT: (no user): no domain: DESKTOP-UDJIJER: svchost (7868,R,98) TILEREPOSITORYS-1-5-18: \\\\\\\\xB7α\\\\\\\\xD7 \\\\\\\\xC6\\\\\\\\xC4\\\\\\\\xC0\\\\\\\\xCF C:\\\\\\\\\\\\\\\\\\\\\\\\\\\\\\\\WINDOWS\\\\\\\\\\\\\\\\\\\\\\\\\\\\\\\\system32\\\\\\\\\\\\\\\\\\\\\\\\\\\\\\\\config\\\\\\\\\\\\\\\\\\\\\\\\\\\\\\\\systemprofile\\\\\\\\\\\\\\\\\\\\\\\\\\\\\\\\AppData\\\\\\\\\\\\\\\\\\\\\\\\\\\\\\\\Local\\\\\\\\\\\\\\\\\\\\\\\\\\\\\\\\TileDataLayer\\\\\\\\\\\\\\\\\\\\\\\\\\\\\\\\Database\\\\\\\\\\\\\\\\\\\\\\\\\\\\\\\\EDB.log\\\\\\\\xC0\\\\\\\\xBB(\\\\\\\\xB8\\\\\\\\xA6) \\\\\\\\xBF\\\\\\\\xA9\\\\\\\\xB4\\\\\\\\xC2 \\\\\\\\xB5\\\\\\\\xBF\\\\\\\\xBE\\\\\\\\xC8 -1023 (0xfffffc01) \\\\\\\\xBF\\\\\\\\xC0\\\\\\\\xB7\\\\\\\\xF9\\\\\\\\xB0\\\\\\\\xA1 \\\\\\\\xB9\\\\\\\\u07FB\\\\\\\\xFD\\\\\\\\xC7\\\\\\\\u07FD\\\\\\\\xC0\\\\\\\\xB4ϴ\\\\\\\\xD9.   \\\\\\\\\\\\\\\\n2020 Oct 30 10:07:14 WinEvtLog: Application: ERROR(455): ESENT: (no user): no domain: DESKTOP-UDJIJER: svchost (5076,R,98) TILEREPOSITORYS-1-5-18: \\\\\\\\xB7α\\\\\\\\xD7 \\\\\\\\xC6\\\\\\\\xC4\\\\\\\\xC0\\\\\\\\xCF C:\\\\\\\\\\\\\\\\\\\\\\\\\\\\\\\\WINDOWS\\\\\\\\\\\\\\\\\\\\\\\\\\\\\\\\system32\\\\\\\\\\\\\\\\\\\\\\\\\\\\\\\\config\\\\\\\\\\\\\\\\\\\\\\\\\\\\\\\\systemprofile\\\\\\\\\\\\\\\\\\\\\\\\\\\\\\\\AppData\\\\\\\\\\\\\\\\\\\\\\\\\\\\\\\\Local\\\\\\\\\\\\\\\\\\\\\\\\\\\\\\\\TileDataLayer\\\\\\\\\\\\\\\\\\\\\\\\\\\\\\\\Database\\\\\\\\\\\\\\\\\\\\\\\\\\\\\\\\EDB.log\\\\\\\\xC0\\\\\\\\xBB(\\\\\\\\xB8\\\\\\\\xA6) \\\\\\\\xBF\\\\\\\\xA9\\\\\\\\xB4\\\\\\\\xC2 \\\\\\\\xB5\\\\\\\\xBF\\\\\\\\xBE\\\\\\\\xC8 -1023 (0xfffffc01) \\\\\\\\xBF\\\\\\\\xC0\\\\\\\\xB7\\\\\\\\xF9\\\\\\\\xB0\\\\\\\\xA1 \\\\\\\\xB9\\\\\\\\u07FB\\\\\\\\xFD\\\\\\\\xC7\\\\\\\\u07FD\\\\\\\\xC0\\\\\\\\xB4ϴ\\\\\\\\xD9.   \\\\\\\\\\\\\\\\n2020 Oct 30 09:16:33 WinEvtLog: Application: ERROR(455): ESENT: (no user): no domain: DESKTOP-UDJIJER: svchost (9436,R,98) TILEREPOSITORYS-1-5-18: \\\\\\\\xB7α\\\\\\\\xD7 \\\\\\\\xC6\\\\\\\\xC4\\\\\\\\xC0\\\\\\\\xCF C:\\\\\\\\\\\\\\\\\\\\\\\\\\\\\\\\WINDOWS\\\\\\\\\\\\\\\\\\\\\\\\\\\\\\\\system32\\\\\\\\\\\\\\\\\\\\\\\\\\\\\\\\config\\\\\\\\\\\\\\\\\\\\\\\\\\\\\\\\systemprofile\\\\\\\\\\\\\\\\\\\\\\\\\\\\\\\\AppData\\\\\\\\\\\\\\\\\\\\\\\\\\\\\\\\Local\\\\\\\\\\\\\\\\\\\\\\\\\\\\\\\\TileDataLayer\\\\\\\\\\\\\\\\\\\\\\\\\\\\\\\\Database\\\\\\\\\\\\\\\\\\\\\\\\\\\\\\\\EDB.log\\\\\\\\xC0\\\\\\\\xBB(\\\\\\\\xB8\\\\\\\\xA6) \\\\\\\\xBF\\\\\\\\xA9\\\\\\\\xB4\\\\\\\\xC2 \\\\\\\\xB5\\\\\\\\xBF\\\\\\\\xBE\\\\\\\\xC8 -1023 (0xfffffc01) \\\\\\\\xBF\\\\\\\\xC0\\\\\\\\xB7\\\\\\\\xF9\\\\\\\\xB0\\\\\\\\xA1 \\\\\\\\xB9\\\\\\\\u07FB\\\\\\\\xFD\\\\\\\\xC7\\\\\\\\u07FD\\\\\\\\xC0\\\\\\\\xB4ϴ\\\\\\\\xD9.   \\\\\\\\\\\\\\\\n2020 Oct 30 08:51:30 WinEvtLog: Application: ERROR(455): ESENT: (no user): no domain: DESKTOP-UDJIJER: svchost (10764,R,98) TILEREPOSITORYS-1-5-18: \\\\\\\\xB7α\\\\\\\\xD7 \\\\\\\\xC6\\\\\\\\xC4\\\\\\\\xC0\\\\\\\\xCF C:\\\\\\\\\\\\\\\\\\\\\\\\\\\\\\\\WINDOWS\\\\\\\\\\\\\\\\\\\\\\\\\\\\\\\\system32\\\\\\\\\\\\\\\\\\\\\\\\\\\\\\\\config\\\\\\\\\\\\\\\\\\\\\\\\\\\\\\\\systemprofile\\\\\\\\\\\\\\\\\\\\\\\\\\\\\\\\AppData\\\\\\\\\\\\\\\\\\\\\\\\\\\\\\\\Local\\\\\\\\\\\\\\\\\\\\\\\\\\\\\\\\TileDataLayer\\\\\\\\\\\\\\\\\\\\\\\\\\\\\\\\Database\\\\\\\\\\\\\\\\\\\\\\\\\\\\\\\\EDB.log\\\\\\\\xC0\\\\\\\\xBB(\\\\\\\\xB8\\\\\\\\xA6) \\\\\\\\xBF\\\\\\\\xA9\\\\\\\\xB4\\\\\\\\xC2 \\\\\\\\xB5\\\\\\\\xBF\\\\\\\\xBE\\\\\\\\xC8 -1023 (0xfffffc01) \\\\\\\\xBF\\\\\\\\xC0\\\\\\\\xB7\\\\\\\\xF9\\\\\\\\xB0\\\\\\\\xA1 \\\\\\\\xB9\\\\\\\\u07FB\\\\\\\\xFD\\\\\\\\xC7\\\\\\\\u07FD\\\\\\\\xC0\\\\\\\\xB4ϴ\\\\\\\\xD9.   \\\\\\\\\\\\\\\\n2020 Oct 29 10:05:01 WinEvtLog: Application: ERROR(455): ESENT: (no user): no domain: DESKTOP-UDJIJER: svchost (8844,R,98) TILEREPOSITORYS-1-5-18: \\\\\\\\xB7α\\\\\\\\xD7 \\\\\\\\xC6\\\\\\\\xC4\\\\\\\\xC0\\\\\\\\xCF C:\\\\\\\\\\\\\\\\\\\\\\\\\\\\\\\\WINDOWS\\\\\\\\\\\\\\\\\\\\\\\\\\\\\\\\system32\\\\\\\\\\\\\\\\\\\\\\\\\\\\\\\\config\\\\\\\\\\\\\\\\\\\\\\\\\\\\\\\\systemprofile\\\\\\\\\\\\\\\\\\\\\\\\\\\\\\\\AppData\\\\\\\\\\\\\\\\\\\\\\\\\\\\\\\\Local\\\\\\\\\\\\\\\\\\\\\\\\\\\\\\\\TileDataLayer\\\\\\\\\\\\\\\\\\\\\\\\\\\\\\\\Database\\\\\\\\\\\\\\\\\\\\\\\\\\\\\\\\EDB.log\\\\\\\\xC0\\\\\\\\xBB(\\\\\\\\xB8\\\\\\\\xA6) \\\\\\\\xBF\\\\\\\\xA9\\\\\\\\xB4\\\\\\\\xC2 \\\\\\\\xB5\\\\\\\\xBF\\\\\\\\xBE\\\\\\\\xC8 -1023 (0xfffffc01) \\\\\\\\xBF\\\\\\\\xC0\\\\\\\\xB7\\\\\\\\xF9\\\\\\\\xB0\\\\\\\\xA1 \\\\\\\\xB9\\\\\\\\u07FB\\\\\\\\xFD\\\\\\\\xC7\\\\\\\\u07FD\\\\\\\\xC0\\\\\\\\xB4ϴ\\\\\\\\xD9.   \\\\\\\\\\\\\\\\n2020 Oct 29 09:20:36 WinEvtLog: Application: ERROR(455): ESENT: (no user): no domain: DESKTOP-UDJIJER: svchost (9156,R,98) TILEREPOSITORYS-1-5-18: \\\\\\\\xB7α\\\\\\\\xD7 \\\\\\\\xC6\\\\\\\\xC4\\\\\\\\xC0\\\\\\\\xCF C:\\\\\\\\\\\\\\\\\\\\\\\\\\\\\\\\WINDOWS\\\\\\\\\\\\\\\\\\\\\\\\\\\\\\\\system32\\\\\\\\\\\\\\\\\\\\\\\\\\\\\\\\config\\\\\\\\\\\\\\\\\\\\\\\\\\\\\\\\systemprofile\\\\\\\\\\\\\\\\\\\\\\\\\\\\\\\\AppData\\\\\\\\\\\\\\\\\\\\\\\\\\\\\\\\Local\\\\\\\\\\\\\\\\\\\\\\\\\\\\\\\\TileDataLayer\\\\\\\\\\\\\\\\\\\\\\\\\\\\\\\\Database\\\\\\\\\\\\\\\\\\\\\\\\\\\\\\\\EDB.log\\\\\\\\xC0\\\\\\\\xBB(\\\\\\\\xB8\\\\\\\\xA6) \\\\\\\\xBF\\\\\\\\xA9\\\\\\\\xB4\\\\\\\\xC2 \\\\\\\\xB5\\\\\\\\xBF\\\\\\\\xBE\\\\\\\\xC8 -1023 (0xfffffc01) \\\\\\\\xBF\\\\\\\\xC0\\\\\\\\xB7\\\\\\\\xF9\\\\\\\\xB0\\\\\\\\xA1 \\\\\\\\xB9\\\\\\\\u07FB\\\\\\\\xFD\\\\\\\\xC7\\\\\\\\u07FD\\\\\\\\xC0\\\\\\\\xB4ϴ\\\\\\\\xD9.   \\\\\\\\\\\\\\\\n2020 Oct 29 08:59:35 WinEvtLog: Application: ERROR(455): ESENT: (no user): no domain: DESKTOP-UDJIJER: svchost (10668,R,98) TILEREPOSITORYS-1-5-18: \\\\\\\\xB7α\\\\\\\\xD7 \\\\\\\\xC6\\\\\\\\xC4\\\\\\\\xC0\\\\\\\\xCF C:\\\\\\\\\\\\\\\\\\\\\\\\\\\\\\\\WINDOWS\\\\\\\\\\\\\\\\\\\\\\\\\\\\\\\\system32\\\\\\\\\\\\\\\\\\\\\\\\\\\\\\\\config\\\\\\\\\\\\\\\\\\\\\\\\\\\\\\\\systemprofile\\\\\\\\\\\\\\\\\\\\\\\\\\\\\\\\AppData\\\\\\\\\\\\\\\\\\\\\\\\\\\\\\\\Local\\\\\\\\\\\\\\\\\\\\\\\\\\\\\\\\TileDataLayer\\\\\\\\\\\\\\\\\\\\\\\\\\\\\\\\Database\\\\\\\\\\\\\\\\\\\\\\\\\\\\\\\\EDB.log\\\\\\\\xC0\\\\\\\\xBB(\\\\\\\\xB8\\\\\\\\xA6) \\\\\\\\xBF\\\\\\\\xA9\\\\\\\\xB4\\\\\\\\xC2 \\\\\\\\xB5\\\\\\\\xBF\\\\\\\\xBE\\\\\\\\xC8 -1023 (0xfffffc01) \\\\\\\\xBF\\\\\\\\xC0\\\\\\\\xB7\\\\\\\\xF9\\\\\\\\xB0\\\\\\\\xA1 \\\\\\\\xB9\\\\\\\\u07FB\\\\\\\\xFD\\\\\\\\xC7\\\\\\\\u07FD\\\\\\\\xC0\\\\\\\\xB4ϴ\\\\\\\\xD9.   \\\\\\\\\\\\\",\\\\\\\\\\\\\"full_log\\\\\\\\\\\\\":\\\\\\\\\\\\\"2020 Oct 30 11:07:15 WinEvtLog: Application: ERROR(455): ESENT: (no user): no domain: DESKTOP-UDJIJER: svchost (1260,R,98) TILEREPOSITORYS-1-5-18: \\\\\\\\xB7α\\\\\\\\xD7 \\\\\\\\xC6\\\\\\\\xC4\\\\\\\\xC0\\\\\\\\xCF C:\\\\\\\\\\\\\\\\\\\\\\\\\\\\\\\\WINDOWS\\\\\\\\\\\\\\\\\\\\\\\\\\\\\\\\system32\\\\\\\\\\\\\\\\\\\\\\\\\\\\\\\\config\\\\\\\\\\\\\\\\\\\\\\\\\\\\\\\\systemprofile\\\\\\\\\\\\\\\\\\\\\\\\\\\\\\\\AppData\\\\\\\\\\\\\\\\\\\\\\\\\\\\\\\\Local\\\\\\\\\\\\\\\\\\\\\\\\\\\\\\\\TileDataLayer\\\\\\\\\\\\\\\\\\\\\\\\\\\\\\\\Database\\\\\\\\\\\\\\\\\\\\\\\\\\\\\\\\EDB.log\\\\\\\\xC0\\\\\\\\xBB(\\\\\\\\xB8\\\\\\\\xA6) \\\\\\\\xBF\\\\\\\\xA9\\\\\\\\xB4\\\\\\\\xC2 \\\\\\\\xB5\\\\\\\\xBF\\\\\\\\xBE\\\\\\\\xC8 -1023 (0xfffffc01) \\\\\\\\xBF\\\\\\\\xC0\\\\\\\\xB7\\\\\\\\xF9\\\\\\\\xB0\\\\\\\\xA1 \\\\\\\\xB9\\\\\\\\u07FB\\\\\\\\xFD\\\\\\\\xC7\\\\\\\\u07FD\\\\\\\\xC0\\\\\\\\xB4ϴ\\\\\\\\xD9.   \\\\\\\\\\\\\",\\\\\\\\\\\\\"predecoder\\\\\\\\\\\\\":{\\\\\\\\\\\\\"program_name\\\\\\\\\\\\\":\\\\\\\\\\\\\"WinEvtLog\\\\\\\\\\\\\",\\\\\\\\\\\\\"timestamp\\\\\\\\\\\\\":\\\\\\\\\\\\\"2020 Oct 30 11:07:15\\\\\\\\\\\\\"},\\\\\\\\\\\\\"decoder\\\\\\\\\\\\\":{\\\\\\\\\\\\\"parent\\\\\\\\\\\\\":\\\\\\\\\\\\\"windows\\\\\\\\\\\\\",\\\\\\\\\\\\\"name\\\\\\\\\\\\\":\\\\\\\\\\\\\"windows\\\\\\\\\\\\\"},\\\\\\\\\\\\\"data\\\\\\\\\\\\\":{\\\\\\\\\\\\\"dstuser\\\\\\\\\\\\\":\\\\\\\\\\\\\"(no user)\\\\\\\\\\\\\",\\\\\\\\\\\\\"id\\\\\\\\\\\\\":\\\\\\\\\\\\\"455\\\\\\\\\\\\\",\\\\\\\\\\\\\"status\\\\\\\\\\\\\":\\\\\\\\\\\\\"ERROR\\\\\\\\\\\\\",\\\\\\\\\\\\\"data\\\\\\\\\\\\\":\\\\\\\\\\\\\"ESENT\\\\\\\\\\\\\",\\\\\\\\\\\\\"system_name\\\\\\\\\\\\\":\\\\\\\\\\\\\"DESKTOP-UDJIJER\\\\\\\\\\\\\",\\\\\\\\\\\\\"type\\\\\\\\\\\\\":\\\\\\\\\\\\\"Application\\\\\\\\\\\\\"},\\\\\\\\\\\\\"location\\\\\\\\\\\\\":\\\\\\\\\\\\\"WinEvtLog\\\\\\\\\\\\\"}\"}'"
      ]
     },
     "execution_count": 43,
     "metadata": {},
     "output_type": "execute_result"
    }
   ],
   "source": [
    "df.full_log[1766]"
   ]
  },
  {
   "cell_type": "code",
   "execution_count": 44,
   "id": "governing-porcelain",
   "metadata": {},
   "outputs": [
    {
     "data": {
      "text/plain": [
       "[59837, 62890, 76837, 77889, 84231, 89098, 91340, 93050, 107651, 128417]"
      ]
     },
     "execution_count": 44,
     "metadata": {},
     "output_type": "execute_result"
    }
   ],
   "source": [
    "find_all(\"ESENT\")[:10]"
   ]
  },
  {
   "cell_type": "code",
   "execution_count": 46,
   "id": "temporal-horizontal",
   "metadata": {},
   "outputs": [
    {
     "data": {
      "text/plain": [
       "(0,\n",
       " 'Oct 23 11:12:35 localhost logstash: at [Source: (String)\"{\\\\\"timestamp\\\\\":\\\\\"2020-10-23T11:12:33.697+0900\\\\\",\\\\\"rule\\\\\":{\\\\\"level\\\\\":5,\\\\\"description\\\\\":\\\\\"Windows error event.\\\\\",\\\\\"id\\\\\":\\\\\"18103\\\\\",\\\\\"firedtimes\\\\\":1,\\\\\"mail\\\\\":false,\\\\\"groups\\\\\":[\\\\\"windows\\\\\",\\\\\"system_error\\\\\"],\\\\\"gpg13\\\\\":[\\\\\"4.3\\\\\"],\\\\\"gdpr\\\\\":[\\\\\"IV_35.7.d\\\\\"]},\\\\\"agent\\\\\":{\\\\\"id\\\\\":\\\\\"002\\\\\",\\\\\"name\\\\\":\\\\\"sjlee\\\\\",\\\\\"ip\\\\\":\\\\\"192.168.0.189\\\\\"},\\\\\"manager\\\\\":{\\\\\"name\\\\\":\\\\\"localhost.localdomain\\\\\"},\\\\\"id\\\\\":\\\\\"1603419153.2526009\\\\\",\\\\\"full_log\\\\\":\\\\\"2020 Oct 23 11:12:28 WinEvtLog: Application: ERROR(455): ESENT: (no user): no domain: D\"[truncated 666 chars]; line: 1, column: 3]>, :data=>\"{\\\\\\\\\\\\\"timestamp\\\\\\\\\\\\\":\\\\\\\\\\\\\"2020-10-23T11:12:33.697+0900\\\\\\\\\\\\\",\\\\\\\\\\\\\"rule\\\\\\\\\\\\\":{\\\\\\\\\\\\\"level\\\\\\\\\\\\\":5,\\\\\\\\\\\\\"description\\\\\\\\\\\\\":\\\\\\\\\\\\\"Windows error event.\\\\\\\\\\\\\",\\\\\\\\\\\\\"id\\\\\\\\\\\\\":\\\\\\\\\\\\\"18103\\\\\\\\\\\\\",\\\\\\\\\\\\\"firedtimes\\\\\\\\\\\\\":1,\\\\\\\\\\\\\"mail\\\\\\\\\\\\\":false,\\\\\\\\\\\\\"groups\\\\\\\\\\\\\":[\\\\\\\\\\\\\"windows\\\\\\\\\\\\\",\\\\\\\\\\\\\"system_error\\\\\\\\\\\\\"],\\\\\\\\\\\\\"gpg13\\\\\\\\\\\\\":[\\\\\\\\\\\\\"4.3\\\\\\\\\\\\\"],\\\\\\\\\\\\\"gdpr\\\\\\\\\\\\\":[\\\\\\\\\\\\\"IV_35.7.d\\\\\\\\\\\\\"]},\\\\\\\\\\\\\"agent\\\\\\\\\\\\\":{\\\\\\\\\\\\\"id\\\\\\\\\\\\\":\\\\\\\\\\\\\"002\\\\\\\\\\\\\",\\\\\\\\\\\\\"name\\\\\\\\\\\\\":\\\\\\\\\\\\\"sjlee\\\\\\\\\\\\\",\\\\\\\\\\\\\"ip\\\\\\\\\\\\\":\\\\\\\\\\\\\"192.168.0.189\\\\\\\\\\\\\"},\\\\\\\\\\\\\"manager\\\\\\\\\\\\\":{\\\\\\\\\\\\\"name\\\\\\\\\\\\\":\\\\\\\\\\\\\"localhost.localdomain\\\\\\\\\\\\\"},\\\\\\\\\\\\\"id\\\\\\\\\\\\\":\\\\\\\\\\\\\"1603419153.2526009\\\\\\\\\\\\\",\\\\\\\\\\\\\"full_log\\\\\\\\\\\\\":\\\\\\\\\\\\\"2020 Oct 23 11:12:28 WinEvtLog: Application: ERROR(455): ESENT: (no user): no domain: DESKTOP-UDJIJER: svchost (11716,R,98) TILEREPOSITORYS-1-5-18: \\\\\\\\xB7α\\\\\\\\xD7 \\\\\\\\xC6\\\\\\\\xC4\\\\\\\\xC0\\\\\\\\xCF C:\\\\\\\\\\\\\\\\\\\\\\\\\\\\\\\\WINDOWS\\\\\\\\\\\\\\\\\\\\\\\\\\\\\\\\system32\\\\\\\\\\\\\\\\\\\\\\\\\\\\\\\\config\\\\\\\\\\\\\\\\\\\\\\\\\\\\\\\\systemprofile\\\\\\\\\\\\\\\\\\\\\\\\\\\\\\\\AppData\\\\\\\\\\\\\\\\\\\\\\\\\\\\\\\\Local\\\\\\\\\\\\\\\\\\\\\\\\\\\\\\\\TileDataLayer\\\\\\\\\\\\\\\\\\\\\\\\\\\\\\\\Database\\\\\\\\\\\\\\\\\\\\\\\\\\\\\\\\EDB.log\\\\\\\\xC0\\\\\\\\xBB(\\\\\\\\xB8\\\\\\\\xA6) \\\\\\\\xBF\\\\\\\\xA9\\\\\\\\xB4\\\\\\\\xC2 \\\\\\\\xB5\\\\\\\\xBF\\\\\\\\xBE\\\\\\\\xC8 -1023 (0xfffffc01) \\\\\\\\xBF\\\\\\\\xC0\\\\\\\\xB7\\\\\\\\xF9\\\\\\\\xB0\\\\\\\\xA1 \\\\\\\\xB9\\\\\\\\u07FB\\\\\\\\xFD\\\\\\\\xC7\\\\\\\\u07FD\\\\\\\\xC0\\\\\\\\xB4ϴ\\\\\\\\xD9.   \\\\\\\\\\\\\",\\\\\\\\\\\\\"predecoder\\\\\\\\\\\\\":{\\\\\\\\\\\\\"program_name\\\\\\\\\\\\\":\\\\\\\\\\\\\"WinEvtLog\\\\\\\\\\\\\",\\\\\\\\\\\\\"timestamp\\\\\\\\\\\\\":\\\\\\\\\\\\\"2020 Oct 23 11:12:28\\\\\\\\\\\\\"},\\\\\\\\\\\\\"decoder\\\\\\\\\\\\\":{\\\\\\\\\\\\\"parent\\\\\\\\\\\\\":\\\\\\\\\\\\\"windows\\\\\\\\\\\\\",\\\\\\\\\\\\\"name\\\\\\\\\\\\\":\\\\\\\\\\\\\"windows\\\\\\\\\\\\\"},\\\\\\\\\\\\\"data\\\\\\\\\\\\\":{\\\\\\\\\\\\\"dstuser\\\\\\\\\\\\\":\\\\\\\\\\\\\"(no user)\\\\\\\\\\\\\",\\\\\\\\\\\\\"id\\\\\\\\\\\\\":\\\\\\\\\\\\\"455\\\\\\\\\\\\\",\\\\\\\\\\\\\"status\\\\\\\\\\\\\":\\\\\\\\\\\\\"ERROR\\\\\\\\\\\\\",\\\\\\\\\\\\\"data\\\\\\\\\\\\\":\\\\\\\\\\\\\"ESENT\\\\\\\\\\\\\",\\\\\\\\\\\\\"system_name\\\\\\\\\\\\\":\\\\\\\\\\\\\"DESKTOP-UDJIJER\\\\\\\\\\\\\",\\\\\\\\\\\\\"type\\\\\\\\\\\\\":\\\\\\\\\\\\\"Application\\\\\\\\\\\\\"},\\\\\\\\\\\\\"location\\\\\\\\\\\\\":\\\\\\\\\\\\\"WinEvtLog\\\\\\\\\\\\\"}\"}')"
      ]
     },
     "execution_count": 46,
     "metadata": {},
     "output_type": "execute_result"
    }
   ],
   "source": [
    "i = 62890\n",
    "df_train.level[i], df_train.full_log[i]"
   ]
  },
  {
   "cell_type": "code",
   "execution_count": null,
   "id": "special-array",
   "metadata": {},
   "outputs": [],
   "source": []
  }
 ],
 "metadata": {
  "kernelspec": {
   "display_name": "Python 3",
   "language": "python",
   "name": "python3"
  },
  "language_info": {
   "codemirror_mode": {
    "name": "ipython",
    "version": 3
   },
   "file_extension": ".py",
   "mimetype": "text/x-python",
   "name": "python",
   "nbconvert_exporter": "python",
   "pygments_lexer": "ipython3",
   "version": "3.7.10"
  }
 },
 "nbformat": 4,
 "nbformat_minor": 5
}
