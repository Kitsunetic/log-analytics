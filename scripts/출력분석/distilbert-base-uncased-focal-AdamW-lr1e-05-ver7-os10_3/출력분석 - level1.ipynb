{
 "cells": [
  {
   "cell_type": "code",
   "execution_count": null,
   "id": "worth-butler",
   "metadata": {},
   "outputs": [],
   "source": []
  },
  {
   "cell_type": "code",
   "execution_count": 22,
   "id": "acceptable-witness",
   "metadata": {},
   "outputs": [
    {
     "name": "stdout",
     "output_type": "stream",
     "text": [
      "*  Submit : type=ANOM_ABEND msg=audit(1600394668.751:3360): auid=4294967295 uid=48 gid=48 ses=4294967295 subj=system_u:system_r:httpd_t:s0 pid=6914 comm=\"httpd\" reason=\"memory violation\" sig=11\n",
      "----------------------------------------------------------------------------------------\n",
      "*   index : 11440\n",
      "*    dist : 0.9715 1.1397 1.1826 1.3108\n",
      "* fc-level: tensor(1)\n",
      "----------------------------------------------------------------------------------------\n",
      "* Level 1 : type=USER_AVC msg=audit(1613363937.137:2481): pid=813 uid=81 auid=4294967295 ses=4294967295 subj=system_u:system_r:system_dbusd_t:s0-s0:c0.c1023 msg='avc: denied { send_msg } for msgtype=method_call interface=org.freedesktop.login1.Manager member=CreateSession dest=org.freedesktop.login1 spid=30614 tpid=860 scontext=system_u:system_r:httpd_t:s0 tcontext=system_u:system_r:systemd_logind_t:s0 tclass=dbus exe=\"/usr/bin/dbus-daemon\" sauid=81 hostname=? addr=? terminal=?'\n",
      "----------------------------------------------------------------------------------------\n",
      "* Level 1 : type=USER_AVC msg=audit(1605233330.597:600): pid=831 uid=81 auid=4294967295 ses=4294967295 subj=system_u:system_r:system_dbusd_t:s0-s0:c0.c1023 msg='avc: denied { send_msg } for msgtype=method_return dest=:1.187 spid=890 tpid=10423 scontext=system_u:system_r:systemd_logind_t:s0 tcontext=system_u:system_r:httpd_t:s0 tclass=dbus exe=\"/usr/bin/dbus-daemon\" sauid=81 hostname=? addr=? terminal=?'\n",
      "----------------------------------------------------------------------------------------\n",
      "* Level 1 : type=USER_AVC msg=audit(1603070359.442:167): pid=820 uid=81 auid=4294967295 ses=4294967295 subj=system_u:system_r:system_dbusd_t:s0-s0:c0.c1023 msg='avc: denied { send_msg } for msgtype=method_return dest=:1.69 spid=815 tpid=7464 scontext=system_u:system_r:systemd_logind_t:s0 tcontext=system_u:system_r:httpd_t:s0 tclass=dbus exe=\"/usr/bin/dbus-daemon\" sauid=81 hostname=? addr=? terminal=?'\n",
      "----------------------------------------------------------------------------------------\n",
      "* Level 1 : type=SYSCALL msg=audit(1603184461.345:179206): arch=c000003e syscall=2 success=yes exit=3 a0=7febc7c025a4 a1=80000 a2=1 a3=7febc7e084f8 items=1 ppid=27662 pid=27674 auid=0 uid=0 gid=0 euid=0 suid=0 fsuid=0 egid=0 sgid=0 fsgid=0 tty=(none) ses=222 comm=\"mcelog.cron\" exe=\"/usr/bin/bash\" subj=system_u:system_r:system_cronjob_t:s0-s0:c0.c1023 key=\"audit-wazuh-r\"\n",
      "----------------------------------------------------------------------------------------\n"
     ]
    }
   ],
   "source": [
    "print(\"*  Submit :\", df.full_log[deck2[\"ids\"][j - 1][0] - 1000000])\n",
    "print(\"----------------------------------------------------------------------------------------\")\n",
    "print(\"*   index :\", j - 1)\n",
    "print(\"*    dist :\", \" \".join(map(lambda x: f\"{x:.4f}\", values_.cpu().tolist())))\n",
    "print(\"* fc-level:\", deck2[\"fclevel\"][j - 1])\n",
    "print(\"----------------------------------------------------------------------------------------\")\n",
    "\n",
    "for idx in indices_:\n",
    "    print(\"* Level\", deck1[\"tlevel\"][idx].item(), \":\", deck1[\"otext\"][idx])\n",
    "    print(\"----------------------------------------------------------------------------------------\")\n",
    "\n",
    "shown = True"
   ]
  },
  {
   "cell_type": "code",
   "execution_count": 20,
   "id": "balanced-projector",
   "metadata": {},
   "outputs": [
    {
     "name": "stdout",
     "output_type": "stream",
     "text": [
      "*  Submit : type=AVC msg=audit(1602655833.629:116392): avc:  denied  { read } for  pid=15781 comm=\"cat\" name=\"0365-auditd_rules.xml\" dev=\"dm-0\" ino=3373367 scontext=system_u:system_r:httpd_t:s0 tcontext=system_u:object_r:var_t:s0 tclass=file permissive=1 type=AVC msg=audit(1602655833.629:116392): avc:  denied  { open } for  pid=15781 comm=\"cat\" path=\"/var/esild/ruleset/rules/0365-auditd_rules.xml\" dev=\"dm-0\" ino=3373367 scontext=system_u:system_r:httpd_t:s0 tcontext=system_u:object_r:var_t:s0 tclass=file permissive=1 type=SYSCALL msg=audit(1602655833.629:116392): arch=c000003e syscall=2 success=yes exit=3 a0=7ffd9e9d6e96 a1=0 a2=1fffffffffff0000 a3=7ffd9e9d6420 items=0 ppid=15777 pid=15781 auid=4294967295 uid=0 gid=0 euid=0 suid=0 fsuid=0 egid=0 sgid=0 fsgid=0 tty=(none) ses=4294967295 comm=\"cat\" exe=\"/usr/bin/cat\" subj=system_u:system_r:httpd_t:s0 key=(null) type=PROCTITLE msg=audit(1602655833.629:116392): proctitle=636174002F7661722F6573696C642F72756C657365742F72756C65732F303336352D6175646974645F72756C65732E786D6C\n",
      "----------------------------------------------------------------------------------------\n",
      "*   index : 11082\n",
      "*    dist : 0.9868 0.9880 0.9893 1.0681\n",
      "* fc-level: tensor(1)\n",
      "----------------------------------------------------------------------------------------\n",
      "* Level 1 : type=AVC msg=audit(1608006873.621:140078): avc: denied { read } for pid=9450 comm=\"unix_chkpwd\" name=\"shadow\" dev=\"dm-0\" ino=271194262 scontext=system_u:system_r:httpd_t:s0 tcontext=system_u:object_r:shadow_t:s0 tclass=file permissive=1 type=AVC msg=audit(1608006873.621:140078): avc: denied { open } for pid=9450 comm=\"unix_chkpwd\" path=\"/etc/shadow\" dev=\"dm-0\" ino=271194262 scontext=system_u:system_r:httpd_t:s0 tcontext=system_u:object_r:shadow_t:s0 tclass=file permissive=1 type=SYSCALL msg=audit(1608006873.621:140078): arch=c000003e syscall=2 success=yes exit=3 a0=7fc60547b573 a1=80000 a2=1b6 a3=24 items=0 ppid=9448 pid=9450 auid=4294967295 uid=0 gid=48 euid=0 suid=0 fsuid=0 egid=48 sgid=48 fsgid=48 tty=(none) ses=4294967295 comm=\"unix_chkpwd\" exe=\"/usr/sbin/unix_chkpwd\" subj=system_u:system_r:httpd_t:s0 key=(null) type=PROCTITLE msg=audit(1608006873.621:140078): proctitle=2F7573722F7362696E2F756E69785F63686B707764006170616368650063686B657870697279\n",
      "----------------------------------------------------------------------------------------\n",
      "* Level 1 : type=AVC msg=audit(1611549064.167:102303): avc: denied { read } for pid=8927 comm=\"cat\" name=\"0035-spamd_rules.xml\" dev=\"dm-0\" ino=2620525 scontext=system_u:system_r:httpd_t:s0 tcontext=system_u:object_r:var_t:s0 tclass=file permissive=1 type=AVC msg=audit(1611549064.167:102303): avc: denied { open } for pid=8927 comm=\"cat\" path=\"/var/esild/ruleset/rules/0035-spamd_rules.xml\" dev=\"dm-0\" ino=2620525 scontext=system_u:system_r:httpd_t:s0 tcontext=system_u:object_r:var_t:s0 tclass=file permissive=1 type=SYSCALL msg=audit(1611549064.167:102303): arch=c000003e syscall=2 success=yes exit=3 a0=7ffcd1ef9e99 a1=0 a2=1fffffffffff0000 a3=7ffcd1ef75e0 items=0 ppid=8916 pid=8927 auid=4294967295 uid=0 gid=0 euid=0 suid=0 fsuid=0 egid=0 sgid=0 fsgid=0 tty=(none) ses=4294967295 comm=\"cat\" exe=\"/usr/bin/cat\" subj=system_u:system_r:httpd_t:s0 key=(null) type=PROCTITLE msg=audit(1611549064.167:102303): proctitle=636174002F7661722F6573696C642F72756C657365742F72756C65732F303033352D7370616D645F72756C65732E786D6C\n",
      "----------------------------------------------------------------------------------------\n",
      "* Level 1 : type=AVC msg=audit(1608019039.551:146333): avc: denied { read } for pid=14542 comm=\"cat\" name=\"0020-syslog_rules.xml\" dev=\"dm-0\" ino=2620522 scontext=system_u:system_r:httpd_t:s0 tcontext=system_u:object_r:var_t:s0 tclass=file permissive=1 type=AVC msg=audit(1608019039.551:146333): avc: denied { open } for pid=14542 comm=\"cat\" path=\"/var/esild/ruleset/rules/0020-syslog_rules.xml\" dev=\"dm-0\" ino=2620522 scontext=system_u:system_r:httpd_t:s0 tcontext=system_u:object_r:var_t:s0 tclass=file permissive=1 type=SYSCALL msg=audit(1608019039.551:146333): arch=c000003e syscall=2 success=yes exit=3 a0=7ffc6e512e97 a1=0 a2=1fffffffffff0000 a3=7ffc6e5108a0 items=0 ppid=14533 pid=14542 auid=4294967295 uid=0 gid=0 euid=0 suid=0 fsuid=0 egid=0 sgid=0 fsgid=0 tty=(none) ses=4294967295 comm=\"cat\" exe=\"/usr/bin/cat\" subj=system_u:system_r:httpd_t:s0 key=(null) type=PROCTITLE msg=audit(1608019039.551:146333): proctitle=636174002F7661722F6573696C642F72756C657365742F72756C65732F303032302D7379736C6F675F72756C65732E786D6C\n",
      "----------------------------------------------------------------------------------------\n",
      "* Level 1 : type=AVC msg=audit(1605257797.899:4225): avc: denied { write } for pid=29180 comm=\"postdrop\" name=\"maildrop\" dev=\"dm-0\" ino=638675 scontext=system_u:system_r:httpd_t:s0 tcontext=system_u:object_r:postfix_spool_t:s0 tclass=dir permissive=1 type=AVC msg=audit(1605257797.899:4225): avc: denied { add_name } for pid=29180 comm=\"postdrop\" name=\"900496.29180\" scontext=system_u:system_r:httpd_t:s0 tcontext=system_u:object_r:postfix_spool_t:s0 tclass=dir permissive=1 type=AVC msg=audit(1605257797.899:4225): avc: denied { create } for pid=29180 comm=\"postdrop\" name=\"900496.29180\" scontext=system_u:system_r:httpd_t:s0 tcontext=system_u:object_r:postfix_spool_t:s0 tclass=file permissive=1 type=AVC msg=audit(1605257797.899:4225): avc: denied { read write open } for pid=29180 comm=\"postdrop\" path=\"/var/spool/postfix/maildrop/900496.29180\" dev=\"dm-0\" ino=676593 scontext=system_u:system_r:httpd_t:s0 tcontext=system_u:object_r:postfix_spool_t:s0 tclass=file permissive=1 type=SYSCALL msg=audit(1605257797.899:4225): arch=c000003e syscall=2 success=yes exit=4 a0=5580e4f71320 a1=c2 a2=1a4 a3=7fffcc0b7b60 items=0 ppid=29179 pid=29180 auid=4294967295 uid=48 gid=48 euid=48 suid=48 fsuid=48 egid=90 sgid=90 fsgid=90 tty=(none) ses=4294967295 comm=\"postdrop\" exe=\"/usr/sbin/postdrop\" subj=system_u:system_r:httpd_t:s0 key=(null) type=PROCTITLE msg=audit(1605257797.899:4225): proctitle=2F7573722F7362696E2F706F737464726F70002D72\n",
      "----------------------------------------------------------------------------------------\n"
     ]
    }
   ],
   "source": [
    "print(\"*  Submit :\", df.full_log[deck2[\"ids\"][j - 1][0] - 1000000])\n",
    "print(\"----------------------------------------------------------------------------------------\")\n",
    "print(\"*   index :\", j - 1)\n",
    "print(\"*    dist :\", \" \".join(map(lambda x: f\"{x:.4f}\", values_.cpu().tolist())))\n",
    "print(\"* fc-level:\", deck2[\"fclevel\"][j - 1])\n",
    "print(\"----------------------------------------------------------------------------------------\")\n",
    "\n",
    "for idx in indices_:\n",
    "    print(\"* Level\", deck1[\"tlevel\"][idx].item(), \":\", deck1[\"otext\"][idx])\n",
    "    print(\"----------------------------------------------------------------------------------------\")\n",
    "\n",
    "shown = True"
   ]
  },
  {
   "cell_type": "code",
   "execution_count": 18,
   "id": "right-newfoundland",
   "metadata": {},
   "outputs": [
    {
     "name": "stdout",
     "output_type": "stream",
     "text": [
      "*  Submit : type=AVC msg=audit(1610498191.461:8984): avc:  denied  { read } for  pid=24221 comm=\"sendmail\" name=\"main.cf\" dev=\"dm-0\" ino=403271638 scontext=system_u:system_r:httpd_t:s0 tcontext=system_u:object_r:postfix_etc_t:s0 tclass=file permissive=1 type=AVC msg=audit(1610498191.461:8984): avc:  denied  { open } for  pid=24221 comm=\"sendmail\" path=\"/etc/postfix/main.cf\" dev=\"dm-0\" ino=403271638 scontext=system_u:system_r:httpd_t:s0 tcontext=system_u:object_r:postfix_etc_t:s0 tclass=file permissive=1 type=SYSCALL msg=audit(1610498191.461:8984): arch=c000003e syscall=2 success=yes exit=4 a0=56043eeacc10 a1=0 a2=0 a3=7ffef3dfb0a0 items=0 ppid=1695 pid=24221 auid=4294967295 uid=48 gid=48 euid=48 suid=48 fsuid=48 egid=48 sgid=48 fsgid=48 tty=(none) ses=4294967295 comm=\"sendmail\" exe=\"/usr/sbin/sendmail.postfix\" subj=system_u:system_r:httpd_t:s0 key=(null) type=PROCTITLE msg=audit(1610498191.461:8984): proctitle=2F7573722F7362696E2F73656E646D61696C002D74002D690061646D696E406D326170706C2E6B72\n",
      "----------------------------------------------------------------------------------------\n",
      "*   index : 9878\n",
      "*    dist : 1.7045 1.7255 2.1542 2.1852\n",
      "* fc-level: tensor(1)\n",
      "----------------------------------------------------------------------------------------\n",
      "* Level 1 : type=AVC msg=audit(1608019039.551:146333): avc: denied { read } for pid=14542 comm=\"cat\" name=\"0020-syslog_rules.xml\" dev=\"dm-0\" ino=2620522 scontext=system_u:system_r:httpd_t:s0 tcontext=system_u:object_r:var_t:s0 tclass=file permissive=1 type=AVC msg=audit(1608019039.551:146333): avc: denied { open } for pid=14542 comm=\"cat\" path=\"/var/esild/ruleset/rules/0020-syslog_rules.xml\" dev=\"dm-0\" ino=2620522 scontext=system_u:system_r:httpd_t:s0 tcontext=system_u:object_r:var_t:s0 tclass=file permissive=1 type=SYSCALL msg=audit(1608019039.551:146333): arch=c000003e syscall=2 success=yes exit=3 a0=7ffc6e512e97 a1=0 a2=1fffffffffff0000 a3=7ffc6e5108a0 items=0 ppid=14533 pid=14542 auid=4294967295 uid=0 gid=0 euid=0 suid=0 fsuid=0 egid=0 sgid=0 fsgid=0 tty=(none) ses=4294967295 comm=\"cat\" exe=\"/usr/bin/cat\" subj=system_u:system_r:httpd_t:s0 key=(null) type=PROCTITLE msg=audit(1608019039.551:146333): proctitle=636174002F7661722F6573696C642F72756C657365742F72756C65732F303032302D7379736C6F675F72756C65732E786D6C\n",
      "----------------------------------------------------------------------------------------\n",
      "* Level 1 : type=AVC msg=audit(1608008948.724:140466): avc: denied { read } for pid=15999 comm=\"unix_chkpwd\" name=\"shadow\" dev=\"dm-0\" ino=271194262 scontext=system_u:system_r:httpd_t:s0 tcontext=system_u:object_r:shadow_t:s0 tclass=file permissive=1 type=AVC msg=audit(1608008948.724:140466): avc: denied { open } for pid=15999 comm=\"unix_chkpwd\" path=\"/etc/shadow\" dev=\"dm-0\" ino=271194262 scontext=system_u:system_r:httpd_t:s0 tcontext=system_u:object_r:shadow_t:s0 tclass=file permissive=1 type=SYSCALL msg=audit(1608008948.724:140466): arch=c000003e syscall=2 success=yes exit=3 a0=7f1cdeb3b573 a1=80000 a2=1b6 a3=24 items=0 ppid=15990 pid=15999 auid=4294967295 uid=0 gid=48 euid=0 suid=0 fsuid=0 egid=48 sgid=48 fsgid=48 tty=(none) ses=4294967295 comm=\"unix_chkpwd\" exe=\"/usr/sbin/unix_chkpwd\" subj=system_u:system_r:httpd_t:s0 key=(null) type=PROCTITLE msg=audit(1608008948.724:140466): proctitle=2F7573722F7362696E2F756E69785F63686B707764006170616368650063686B657870697279\n",
      "----------------------------------------------------------------------------------------\n",
      "* Level 1 : type=AVC msg=audit(1608006873.621:140078): avc: denied { read } for pid=9450 comm=\"unix_chkpwd\" name=\"shadow\" dev=\"dm-0\" ino=271194262 scontext=system_u:system_r:httpd_t:s0 tcontext=system_u:object_r:shadow_t:s0 tclass=file permissive=1 type=AVC msg=audit(1608006873.621:140078): avc: denied { open } for pid=9450 comm=\"unix_chkpwd\" path=\"/etc/shadow\" dev=\"dm-0\" ino=271194262 scontext=system_u:system_r:httpd_t:s0 tcontext=system_u:object_r:shadow_t:s0 tclass=file permissive=1 type=SYSCALL msg=audit(1608006873.621:140078): arch=c000003e syscall=2 success=yes exit=3 a0=7fc60547b573 a1=80000 a2=1b6 a3=24 items=0 ppid=9448 pid=9450 auid=4294967295 uid=0 gid=48 euid=0 suid=0 fsuid=0 egid=48 sgid=48 fsgid=48 tty=(none) ses=4294967295 comm=\"unix_chkpwd\" exe=\"/usr/sbin/unix_chkpwd\" subj=system_u:system_r:httpd_t:s0 key=(null) type=PROCTITLE msg=audit(1608006873.621:140078): proctitle=2F7573722F7362696E2F756E69785F63686B707764006170616368650063686B657870697279\n",
      "----------------------------------------------------------------------------------------\n",
      "* Level 1 : type=AVC msg=audit value : avc: denied { execute } for pid=5940 comm=\"sudo\" name=\"agent_control\" dev=\"dm-0\" ino=404839312 scontext=system_u:system_r:httpd_t:s0 tcontext=system_u:object_r:var_t:s0 tclass=file permissive=1 type=AVC msg=audit value : avc: denied { read open } for pid=5940 comm=\"sudo\" path=\"/var/esild/bin/agent_control\" dev=\"dm-0\" ino=404839312 scontext=system_u:system_r:httpd_t:s0 tcontext=system_u:object_r:var_t:s0 tclass=file permissive=1 type=AVC msg=audit value : avc: denied { execute_no_trans } for pid=5940 comm=\"sudo\" path=\"/var/esild/bin/agent_control\" dev=\"dm-0\" ino=404839312 scontext=system_u:system_r:httpd_t:s0 tcontext=system_u:object_r:var_t:s0 tclass=file permissive=1 type=SYSCALL msg=audit value : arch=c000003e syscall=59 success=yes exit=0 a0=563b4115a4e8 a1=563b411541d8 a2=563b411787a0 a3=5 items=0 ppid=5918 pid=5940 auid=4294967295 uid=0 gid=0 euid=0 suid=0 fsuid=0 egid=0 sgid=0 fsgid=0 tty=(none) ses=4294967295 comm=\"agent_control\" exe=\"/var/esild/bin/agent_control\" subj=system_u:system_r:httpd_t:s0 key=(null) type=PR month ITLE msg=audit value : pr month itle=7375646F002F7661722F6573696C642F62696E2F6167656E745F636F6E74726F6C002D6900303333\n",
      "----------------------------------------------------------------------------------------\n"
     ]
    }
   ],
   "source": [
    "print(\"*  Submit :\", df.full_log[deck2[\"ids\"][j - 1][0] - 1000000])\n",
    "print(\"----------------------------------------------------------------------------------------\")\n",
    "print(\"*   index :\", j - 1)\n",
    "print(\"*    dist :\", \" \".join(map(lambda x: f\"{x:.4f}\", values_.cpu().tolist())))\n",
    "print(\"* fc-level:\", deck2[\"fclevel\"][j - 1])\n",
    "print(\"----------------------------------------------------------------------------------------\")\n",
    "\n",
    "for idx in indices_:\n",
    "    print(\"* Level\", deck1[\"tlevel\"][idx].item(), \":\", deck1[\"otext\"][idx])\n",
    "    print(\"----------------------------------------------------------------------------------------\")\n",
    "\n",
    "shown = True"
   ]
  },
  {
   "cell_type": "code",
   "execution_count": 18,
   "id": "cross-statement",
   "metadata": {},
   "outputs": [
    {
     "name": "stdout",
     "output_type": "stream",
     "text": [
      "*  Submit : type=AVC msg=audit(1610498191.461:8984): avc:  denied  { read } for  pid=24221 comm=\"sendmail\" name=\"main.cf\" dev=\"dm-0\" ino=403271638 scontext=system_u:system_r:httpd_t:s0 tcontext=system_u:object_r:postfix_etc_t:s0 tclass=file permissive=1 type=AVC msg=audit(1610498191.461:8984): avc:  denied  { open } for  pid=24221 comm=\"sendmail\" path=\"/etc/postfix/main.cf\" dev=\"dm-0\" ino=403271638 scontext=system_u:system_r:httpd_t:s0 tcontext=system_u:object_r:postfix_etc_t:s0 tclass=file permissive=1 type=SYSCALL msg=audit(1610498191.461:8984): arch=c000003e syscall=2 success=yes exit=4 a0=56043eeacc10 a1=0 a2=0 a3=7ffef3dfb0a0 items=0 ppid=1695 pid=24221 auid=4294967295 uid=48 gid=48 euid=48 suid=48 fsuid=48 egid=48 sgid=48 fsgid=48 tty=(none) ses=4294967295 comm=\"sendmail\" exe=\"/usr/sbin/sendmail.postfix\" subj=system_u:system_r:httpd_t:s0 key=(null) type=PROCTITLE msg=audit(1610498191.461:8984): proctitle=2F7573722F7362696E2F73656E646D61696C002D74002D690061646D696E406D326170706C2E6B72\n",
      "----------------------------------------------------------------------------------------\n",
      "*   index : 9878\n",
      "*    dist : 1.7045 1.7255 2.1542 2.1852\n",
      "* fc-level: tensor(1)\n",
      "----------------------------------------------------------------------------------------\n",
      "* Level 1 : type=AVC msg=audit(1608019039.551:146333): avc: denied { read } for pid=14542 comm=\"cat\" name=\"0020-syslog_rules.xml\" dev=\"dm-0\" ino=2620522 scontext=system_u:system_r:httpd_t:s0 tcontext=system_u:object_r:var_t:s0 tclass=file permissive=1 type=AVC msg=audit(1608019039.551:146333): avc: denied { open } for pid=14542 comm=\"cat\" path=\"/var/esild/ruleset/rules/0020-syslog_rules.xml\" dev=\"dm-0\" ino=2620522 scontext=system_u:system_r:httpd_t:s0 tcontext=system_u:object_r:var_t:s0 tclass=file permissive=1 type=SYSCALL msg=audit(1608019039.551:146333): arch=c000003e syscall=2 success=yes exit=3 a0=7ffc6e512e97 a1=0 a2=1fffffffffff0000 a3=7ffc6e5108a0 items=0 ppid=14533 pid=14542 auid=4294967295 uid=0 gid=0 euid=0 suid=0 fsuid=0 egid=0 sgid=0 fsgid=0 tty=(none) ses=4294967295 comm=\"cat\" exe=\"/usr/bin/cat\" subj=system_u:system_r:httpd_t:s0 key=(null) type=PROCTITLE msg=audit(1608019039.551:146333): proctitle=636174002F7661722F6573696C642F72756C657365742F72756C65732F303032302D7379736C6F675F72756C65732E786D6C\n",
      "----------------------------------------------------------------------------------------\n",
      "* Level 1 : type=AVC msg=audit(1608008948.724:140466): avc: denied { read } for pid=15999 comm=\"unix_chkpwd\" name=\"shadow\" dev=\"dm-0\" ino=271194262 scontext=system_u:system_r:httpd_t:s0 tcontext=system_u:object_r:shadow_t:s0 tclass=file permissive=1 type=AVC msg=audit(1608008948.724:140466): avc: denied { open } for pid=15999 comm=\"unix_chkpwd\" path=\"/etc/shadow\" dev=\"dm-0\" ino=271194262 scontext=system_u:system_r:httpd_t:s0 tcontext=system_u:object_r:shadow_t:s0 tclass=file permissive=1 type=SYSCALL msg=audit(1608008948.724:140466): arch=c000003e syscall=2 success=yes exit=3 a0=7f1cdeb3b573 a1=80000 a2=1b6 a3=24 items=0 ppid=15990 pid=15999 auid=4294967295 uid=0 gid=48 euid=0 suid=0 fsuid=0 egid=48 sgid=48 fsgid=48 tty=(none) ses=4294967295 comm=\"unix_chkpwd\" exe=\"/usr/sbin/unix_chkpwd\" subj=system_u:system_r:httpd_t:s0 key=(null) type=PROCTITLE msg=audit(1608008948.724:140466): proctitle=2F7573722F7362696E2F756E69785F63686B707764006170616368650063686B657870697279\n",
      "----------------------------------------------------------------------------------------\n",
      "* Level 1 : type=AVC msg=audit(1608006873.621:140078): avc: denied { read } for pid=9450 comm=\"unix_chkpwd\" name=\"shadow\" dev=\"dm-0\" ino=271194262 scontext=system_u:system_r:httpd_t:s0 tcontext=system_u:object_r:shadow_t:s0 tclass=file permissive=1 type=AVC msg=audit(1608006873.621:140078): avc: denied { open } for pid=9450 comm=\"unix_chkpwd\" path=\"/etc/shadow\" dev=\"dm-0\" ino=271194262 scontext=system_u:system_r:httpd_t:s0 tcontext=system_u:object_r:shadow_t:s0 tclass=file permissive=1 type=SYSCALL msg=audit(1608006873.621:140078): arch=c000003e syscall=2 success=yes exit=3 a0=7fc60547b573 a1=80000 a2=1b6 a3=24 items=0 ppid=9448 pid=9450 auid=4294967295 uid=0 gid=48 euid=0 suid=0 fsuid=0 egid=48 sgid=48 fsgid=48 tty=(none) ses=4294967295 comm=\"unix_chkpwd\" exe=\"/usr/sbin/unix_chkpwd\" subj=system_u:system_r:httpd_t:s0 key=(null) type=PROCTITLE msg=audit(1608006873.621:140078): proctitle=2F7573722F7362696E2F756E69785F63686B707764006170616368650063686B657870697279\n",
      "----------------------------------------------------------------------------------------\n",
      "* Level 1 : type=AVC msg=audit value : avc: denied { execute } for pid=5940 comm=\"sudo\" name=\"agent_control\" dev=\"dm-0\" ino=404839312 scontext=system_u:system_r:httpd_t:s0 tcontext=system_u:object_r:var_t:s0 tclass=file permissive=1 type=AVC msg=audit value : avc: denied { read open } for pid=5940 comm=\"sudo\" path=\"/var/esild/bin/agent_control\" dev=\"dm-0\" ino=404839312 scontext=system_u:system_r:httpd_t:s0 tcontext=system_u:object_r:var_t:s0 tclass=file permissive=1 type=AVC msg=audit value : avc: denied { execute_no_trans } for pid=5940 comm=\"sudo\" path=\"/var/esild/bin/agent_control\" dev=\"dm-0\" ino=404839312 scontext=system_u:system_r:httpd_t:s0 tcontext=system_u:object_r:var_t:s0 tclass=file permissive=1 type=SYSCALL msg=audit value : arch=c000003e syscall=59 success=yes exit=0 a0=563b4115a4e8 a1=563b411541d8 a2=563b411787a0 a3=5 items=0 ppid=5918 pid=5940 auid=4294967295 uid=0 gid=0 euid=0 suid=0 fsuid=0 egid=0 sgid=0 fsgid=0 tty=(none) ses=4294967295 comm=\"agent_control\" exe=\"/var/esild/bin/agent_control\" subj=system_u:system_r:httpd_t:s0 key=(null) type=PR month ITLE msg=audit value : pr month itle=7375646F002F7661722F6573696C642F62696E2F6167656E745F636F6E74726F6C002D6900303333\n",
      "----------------------------------------------------------------------------------------\n"
     ]
    }
   ],
   "source": [
    "print(\"*  Submit :\", df.full_log[deck2[\"ids\"][j - 1][0] - 1000000])\n",
    "print(\"----------------------------------------------------------------------------------------\")\n",
    "print(\"*   index :\", j - 1)\n",
    "print(\"*    dist :\", \" \".join(map(lambda x: f\"{x:.4f}\", values_.cpu().tolist())))\n",
    "print(\"* fc-level:\", deck2[\"fclevel\"][j - 1])\n",
    "print(\"----------------------------------------------------------------------------------------\")\n",
    "\n",
    "for idx in indices_:\n",
    "    print(\"* Level\", deck1[\"tlevel\"][idx].item(), \":\", deck1[\"otext\"][idx])\n",
    "    print(\"----------------------------------------------------------------------------------------\")\n",
    "\n",
    "shown = True"
   ]
  },
  {
   "cell_type": "code",
   "execution_count": 14,
   "id": "crucial-commitment",
   "metadata": {},
   "outputs": [
    {
     "name": "stdout",
     "output_type": "stream",
     "text": [
      "*  Submit : type=ANOM_ABEND msg=audit(1610092026.125:54221): auid=4294967295 uid=48 gid=48 ses=4294967295 subj=system_u:system_r:httpd_t:s0 pid=25480 comm=\"httpd\" reason=\"memory violation\" sig=11\n",
      "----------------------------------------------------------------------------------------\n",
      "*   index : 5984\n",
      "*    dist : 1.0254 1.2209 1.2627 1.3555\n",
      "* fc-level: tensor(1)\n",
      "----------------------------------------------------------------------------------------\n",
      "* Level 1 : type=USER_AVC msg=audit(1613363937.137:2481): pid=813 uid=81 auid=4294967295 ses=4294967295 subj=system_u:system_r:system_dbusd_t:s0-s0:c0.c1023 msg='avc: denied { send_msg } for msgtype=method_call interface=org.freedesktop.login1.Manager member=CreateSession dest=org.freedesktop.login1 spid=30614 tpid=860 scontext=system_u:system_r:httpd_t:s0 tcontext=system_u:system_r:systemd_logind_t:s0 tclass=dbus exe=\"/usr/bin/dbus-daemon\" sauid=81 hostname=? addr=? terminal=?'\n",
      "----------------------------------------------------------------------------------------\n",
      "* Level 1 : type=USER_AVC msg=audit(1605233330.597:600): pid=831 uid=81 auid=4294967295 ses=4294967295 subj=system_u:system_r:system_dbusd_t:s0-s0:c0.c1023 msg='avc: denied { send_msg } for msgtype=method_return dest=:1.187 spid=890 tpid=10423 scontext=system_u:system_r:systemd_logind_t:s0 tcontext=system_u:system_r:httpd_t:s0 tclass=dbus exe=\"/usr/bin/dbus-daemon\" sauid=81 hostname=? addr=? terminal=?'\n",
      "----------------------------------------------------------------------------------------\n",
      "* Level 1 : type=USER_AVC msg=audit(1603070359.442:167): pid=820 uid=81 auid=4294967295 ses=4294967295 subj=system_u:system_r:system_dbusd_t:s0-s0:c0.c1023 msg='avc: denied { send_msg } for msgtype=method_return dest=:1.69 spid=815 tpid=7464 scontext=system_u:system_r:systemd_logind_t:s0 tcontext=system_u:system_r:httpd_t:s0 tclass=dbus exe=\"/usr/bin/dbus-daemon\" sauid=81 hostname=? addr=? terminal=?'\n",
      "----------------------------------------------------------------------------------------\n",
      "* Level 1 : type=SYSCALL msg=audit(1603134061.351:108009): arch=c000003e syscall=2 success=yes exit=3 a0=7f838efe15a4 a1=80000 a2=1 a3=7f838f1e74f8 items=1 ppid=15047 pid=15059 auid=0 uid=0 gid=0 euid=0 suid=0 fsuid=0 egid=0 sgid=0 fsgid=0 tty=(none) ses=124 comm=\"mcelog.cron\" exe=\"/usr/bin/bash\" subj=system_u:system_r:system_cronjob_t:s0-s0:c0.c1023 key=\"audit-wazuh-r\"\n",
      "----------------------------------------------------------------------------------------\n"
     ]
    }
   ],
   "source": [
    "print(\"*  Submit :\", df.full_log[deck2[\"ids\"][j - 1][0] - 1000000])\n",
    "print(\"----------------------------------------------------------------------------------------\")\n",
    "print(\"*   index :\", j - 1)\n",
    "print(\"*    dist :\", \" \".join(map(lambda x: f\"{x:.4f}\", values_.cpu().tolist())))\n",
    "print(\"* fc-level:\", deck2[\"fclevel\"][j - 1])\n",
    "print(\"----------------------------------------------------------------------------------------\")\n",
    "\n",
    "for idx in indices_:\n",
    "    print(\"* Level\", deck1[\"tlevel\"][idx].item(), \":\", deck1[\"otext\"][idx])\n",
    "    print(\"----------------------------------------------------------------------------------------\")\n",
    "\n",
    "shown = True"
   ]
  }
 ],
 "metadata": {
  "kernelspec": {
   "display_name": "Python 3",
   "language": "python",
   "name": "python3"
  },
  "language_info": {
   "codemirror_mode": {
    "name": "ipython",
    "version": 3
   },
   "file_extension": ".py",
   "mimetype": "text/x-python",
   "name": "python",
   "nbconvert_exporter": "python",
   "pygments_lexer": "ipython3",
   "version": "3.7.10"
  }
 },
 "nbformat": 4,
 "nbformat_minor": 5
}
