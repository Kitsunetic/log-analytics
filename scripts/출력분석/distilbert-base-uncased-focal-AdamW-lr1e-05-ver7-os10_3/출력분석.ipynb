{
 "cells": [
  {
   "cell_type": "code",
   "execution_count": 1,
   "id": "helpful-hacker",
   "metadata": {},
   "outputs": [
    {
     "name": "stdout",
     "output_type": "stream",
     "text": [
      "/home/shim/shim/dev/log-analytics\n"
     ]
    }
   ],
   "source": [
    "%load_ext lab_black\n",
    "%cd ../../.."
   ]
  },
  {
   "cell_type": "code",
   "execution_count": 2,
   "id": "satisfactory-consolidation",
   "metadata": {},
   "outputs": [],
   "source": [
    "import torch\n",
    "import numpy as np\n",
    "import pandas as pd\n",
    "import pickle"
   ]
  },
  {
   "cell_type": "code",
   "execution_count": 3,
   "id": "harmful-segment",
   "metadata": {},
   "outputs": [],
   "source": [
    "df = pd.read_csv(\"data/ori/test.csv\")"
   ]
  },
  {
   "cell_type": "code",
   "execution_count": 4,
   "id": "imported-syracuse",
   "metadata": {},
   "outputs": [],
   "source": [
    "deck1 = torch.load(\"results/distilbert-base-uncased-ver7/distilbert-base-uncased-focal-AdamW-lr1e-05-ver7-os10_3-deck1.pth\")\n",
    "deck2 = torch.load(\"results/distilbert-base-uncased-ver7/distilbert-base-uncased-focal-AdamW-lr1e-05-ver7-os10_3-deck2.pth\")"
   ]
  },
  {
   "cell_type": "code",
   "execution_count": 5,
   "id": "protecting-insert",
   "metadata": {},
   "outputs": [
    {
     "data": {
      "text/plain": [
       "(torch.Size([421079, 768]), torch.Size([1095951, 768]))"
      ]
     },
     "execution_count": 5,
     "metadata": {},
     "output_type": "execute_result"
    }
   ],
   "source": [
    "deck1[\"feat\"].shape, deck2[\"feat\"].shape"
   ]
  },
  {
   "cell_type": "code",
   "execution_count": 6,
   "id": "plastic-reggae",
   "metadata": {},
   "outputs": [],
   "source": [
    "deck1[\"feat_\"] = deck1[\"feat\"].cuda()\n",
    "deck2[\"feat_\"] = deck2[\"feat\"].cuda()"
   ]
  },
  {
   "cell_type": "code",
   "execution_count": 23,
   "id": "useful-filter",
   "metadata": {},
   "outputs": [
    {
     "data": {
      "text/plain": [
       "(dict_keys(['feat', 'otext', 'tlevel', 'fclevel', 'feat_']),\n",
       " dict_keys(['feat', 'otext', 'fclevel', 'ids', 'feat_']))"
      ]
     },
     "execution_count": 23,
     "metadata": {},
     "output_type": "execute_result"
    }
   ],
   "source": [
    "deck1.keys(), deck2.keys()"
   ]
  },
  {
   "cell_type": "code",
   "execution_count": 7,
   "id": "satisfied-aviation",
   "metadata": {},
   "outputs": [],
   "source": [
    "j = 0\n",
    "shown = False"
   ]
  },
  {
   "cell_type": "code",
   "execution_count": 8,
   "id": "classical-steam",
   "metadata": {},
   "outputs": [
    {
     "name": "stdout",
     "output_type": "stream",
     "text": [
      "values: tensor([0.0031, 0.0031, 0.0031, 0.0031], device='cuda:0')\n",
      "indices: tensor([17556, 17365, 17671, 19175], device='cuda:0')\n",
      "id: tensor([0, 0, 0, 0])\n"
     ]
    }
   ],
   "source": [
    "dist_ = torch.norm(deck1[\"feat_\"] - deck2[\"feat_\"][j, None], p=None, dim=1)\n",
    "values_, indices_ = dist_.topk(4, largest=False)\n",
    "tlevels = deck1[\"tlevel\"][indices_]\n",
    "print(\"values:\", values_)\n",
    "print(\"indices:\", indices_)\n",
    "print(\"id:\", deck1[\"tlevel\"][indices_])\n",
    "j += 1"
   ]
  },
  {
   "cell_type": "code",
   "execution_count": 21,
   "id": "exotic-spouse",
   "metadata": {},
   "outputs": [],
   "source": [
    "while shown or (deck1[\"tlevel\"][indices_[0]] in [0, 1, 3, 5] and values_[0] < 0.5):\n",
    "    # while shown or (deck1[\"tlevel\"][indices_[0]] in [0, 1, 3, 5]):\n",
    "    shown = False\n",
    "\n",
    "    dist_ = torch.norm(deck1[\"feat_\"] - deck2[\"feat_\"][j, None], p=None, dim=1)\n",
    "    values_, indices_ = dist_.topk(4, largest=False)\n",
    "    tlevels = deck1[\"tlevel\"][indices_]\n",
    "    # print(\"values:\", values)\n",
    "    # print(\"indices:\", indices)\n",
    "    # print(\"id:\", deck1[\"tlevel\"][indices])\n",
    "    j += 1"
   ]
  },
  {
   "cell_type": "code",
   "execution_count": 22,
   "id": "driving-merchant",
   "metadata": {},
   "outputs": [
    {
     "name": "stdout",
     "output_type": "stream",
     "text": [
      "*  Submit : type=ANOM_ABEND msg=audit(1600394668.751:3360): auid=4294967295 uid=48 gid=48 ses=4294967295 subj=system_u:system_r:httpd_t:s0 pid=6914 comm=\"httpd\" reason=\"memory violation\" sig=11\n",
      "----------------------------------------------------------------------------------------\n",
      "*   index : 11440\n",
      "*    dist : 0.9715 1.1397 1.1826 1.3108\n",
      "* fc-level: tensor(1)\n",
      "----------------------------------------------------------------------------------------\n",
      "* Level 1 : type=USER_AVC msg=audit(1613363937.137:2481): pid=813 uid=81 auid=4294967295 ses=4294967295 subj=system_u:system_r:system_dbusd_t:s0-s0:c0.c1023 msg='avc: denied { send_msg } for msgtype=method_call interface=org.freedesktop.login1.Manager member=CreateSession dest=org.freedesktop.login1 spid=30614 tpid=860 scontext=system_u:system_r:httpd_t:s0 tcontext=system_u:system_r:systemd_logind_t:s0 tclass=dbus exe=\"/usr/bin/dbus-daemon\" sauid=81 hostname=? addr=? terminal=?'\n",
      "----------------------------------------------------------------------------------------\n",
      "* Level 1 : type=USER_AVC msg=audit(1605233330.597:600): pid=831 uid=81 auid=4294967295 ses=4294967295 subj=system_u:system_r:system_dbusd_t:s0-s0:c0.c1023 msg='avc: denied { send_msg } for msgtype=method_return dest=:1.187 spid=890 tpid=10423 scontext=system_u:system_r:systemd_logind_t:s0 tcontext=system_u:system_r:httpd_t:s0 tclass=dbus exe=\"/usr/bin/dbus-daemon\" sauid=81 hostname=? addr=? terminal=?'\n",
      "----------------------------------------------------------------------------------------\n",
      "* Level 1 : type=USER_AVC msg=audit(1603070359.442:167): pid=820 uid=81 auid=4294967295 ses=4294967295 subj=system_u:system_r:system_dbusd_t:s0-s0:c0.c1023 msg='avc: denied { send_msg } for msgtype=method_return dest=:1.69 spid=815 tpid=7464 scontext=system_u:system_r:systemd_logind_t:s0 tcontext=system_u:system_r:httpd_t:s0 tclass=dbus exe=\"/usr/bin/dbus-daemon\" sauid=81 hostname=? addr=? terminal=?'\n",
      "----------------------------------------------------------------------------------------\n",
      "* Level 1 : type=SYSCALL msg=audit(1603184461.345:179206): arch=c000003e syscall=2 success=yes exit=3 a0=7febc7c025a4 a1=80000 a2=1 a3=7febc7e084f8 items=1 ppid=27662 pid=27674 auid=0 uid=0 gid=0 euid=0 suid=0 fsuid=0 egid=0 sgid=0 fsgid=0 tty=(none) ses=222 comm=\"mcelog.cron\" exe=\"/usr/bin/bash\" subj=system_u:system_r:system_cronjob_t:s0-s0:c0.c1023 key=\"audit-wazuh-r\"\n",
      "----------------------------------------------------------------------------------------\n"
     ]
    }
   ],
   "source": [
    "print(\"*  Submit :\", df.full_log[deck2[\"ids\"][j - 1][0] - 1000000])\n",
    "print(\"----------------------------------------------------------------------------------------\")\n",
    "print(\"*   index :\", j - 1)\n",
    "print(\"*    dist :\", \" \".join(map(lambda x: f\"{x:.4f}\", values_.cpu().tolist())))\n",
    "print(\"* fc-level:\", deck2[\"fclevel\"][j - 1])\n",
    "print(\"----------------------------------------------------------------------------------------\")\n",
    "\n",
    "for idx in indices_:\n",
    "    print(\"* Level\", deck1[\"tlevel\"][idx].item(), \":\", deck1[\"otext\"][idx])\n",
    "    print(\"----------------------------------------------------------------------------------------\")\n",
    "\n",
    "shown = True"
   ]
  },
  {
   "cell_type": "markdown",
   "id": "antique-student",
   "metadata": {},
   "source": [
    "---\n",
    "\n",
    "4개가 다 일치할 때는 level별로 threshold를 따로 두는 방식으로 하고\n",
    "* level0 - 좀 낮게 (비교군이 많기 때문에) - 0.8?\n",
    "* level1 - 전처리를 없애니까 dist가 증가했음. 0.8?\n",
    "* level2 - \n",
    "* level3 - 꽤 높게 (변화무쌍하니까) - 1.0?\n",
    "* level4 - \n",
    "* level5 - 꽤 높게 (변화무쌍하니까) - 1.0\n",
    "* level6 - 나름 변화가 큼 - 0.8\n",
    "* 섞인 경우 - 비슷한 케이스가 별로 없었다는 뜻이니까 낮게 - 0.2\n",
    "\n",
    "2, 4, 6에 대해서는 아직 데이터가 더 모여야 하겠다\n",
    "\n",
    "level0 길이가 긴거는 맞아도 dist가 높게(0.3이상) 나오고, 길이가 짧은건 틀려도 dist가 탖게 나오는 것 같은데...  \n",
    "길이도 입력 인수로 해야할까?\n",
    "\n",
    "※ TODO: 전체에 대해 dist 구한 다음에 각 level/군집별로 top dist 분포가 어떻게 나타나는지 그래프를 그려보자"
   ]
  },
  {
   "cell_type": "code",
   "execution_count": null,
   "id": "built-mexico",
   "metadata": {},
   "outputs": [],
   "source": []
  },
  {
   "cell_type": "code",
   "execution_count": null,
   "id": "temporal-champion",
   "metadata": {},
   "outputs": [],
   "source": []
  },
  {
   "cell_type": "code",
   "execution_count": null,
   "id": "natural-front",
   "metadata": {},
   "outputs": [],
   "source": []
  },
  {
   "cell_type": "code",
   "execution_count": 24,
   "id": "controlling-mistress",
   "metadata": {},
   "outputs": [
    {
     "data": {
      "text/plain": [
       "dict_keys(['feat', 'otext', 'tlevel', 'fclevel', 'feat_'])"
      ]
     },
     "execution_count": 24,
     "metadata": {},
     "output_type": "execute_result"
    }
   ],
   "source": [
    "deck1.keys()"
   ]
  },
  {
   "cell_type": "code",
   "execution_count": 31,
   "id": "harmful-frame",
   "metadata": {},
   "outputs": [
    {
     "data": {
      "text/plain": [
       "tensor([[101108],\n",
       "        [175083],\n",
       "        [212017],\n",
       "        [219277],\n",
       "        [220791],\n",
       "        [334090],\n",
       "        [369633],\n",
       "        [387381]])"
      ]
     },
     "execution_count": 31,
     "metadata": {},
     "output_type": "execute_result"
    }
   ],
   "source": [
    "(deck1[\"tlevel\"] == 6).nonzero()"
   ]
  },
  {
   "cell_type": "code",
   "execution_count": 35,
   "id": "manual-tobacco",
   "metadata": {},
   "outputs": [
    {
     "name": "stdout",
     "output_type": "stream",
     "text": [
      "sshd: Bad protocol version identification '\\003' from 78.128.113.18 port 1073\n",
      "kernel: device virbr0-nic entered promiscuous mode\n",
      "kernel: device enp2s0 entered promiscuous mode\n",
      "useradd: new group: name=test, GID=1001\n",
      "sshd: error: maximum authentication attempts exceeded for root from 192.168.0.197 port 61153 ssh2 [preauth]\n",
      "kernel: device virbr0-nic entered promiscuous mode\n",
      "kernel: device virbr0-nic entered promiscuous mode\n",
      "kernel: device enp2s0 entered promiscuous mode\n"
     ]
    }
   ],
   "source": [
    "for i in (deck1[\"tlevel\"] == 6).nonzero()[:, 0]:\n",
    "    print(deck1[\"otext\"][i])"
   ]
  },
  {
   "cell_type": "code",
   "execution_count": null,
   "id": "sophisticated-remainder",
   "metadata": {},
   "outputs": [],
   "source": []
  },
  {
   "cell_type": "code",
   "execution_count": null,
   "id": "heard-adapter",
   "metadata": {},
   "outputs": [],
   "source": []
  }
 ],
 "metadata": {
  "kernelspec": {
   "display_name": "Python 3",
   "language": "python",
   "name": "python3"
  },
  "language_info": {
   "codemirror_mode": {
    "name": "ipython",
    "version": 3
   },
   "file_extension": ".py",
   "mimetype": "text/x-python",
   "name": "python",
   "nbconvert_exporter": "python",
   "pygments_lexer": "ipython3",
   "version": "3.7.10"
  }
 },
 "nbformat": 4,
 "nbformat_minor": 5
}
