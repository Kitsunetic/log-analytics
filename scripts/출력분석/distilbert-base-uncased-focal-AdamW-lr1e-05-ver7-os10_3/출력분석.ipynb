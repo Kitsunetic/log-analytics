{
 "cells": [
  {
   "cell_type": "code",
   "execution_count": 1,
   "id": "helpful-hacker",
   "metadata": {},
   "outputs": [
    {
     "name": "stdout",
     "output_type": "stream",
     "text": [
      "/mnt/h/hev/log-analytics\n"
     ]
    }
   ],
   "source": [
    "%load_ext lab_black\n",
    "%cd ../../.."
   ]
  },
  {
   "cell_type": "code",
   "execution_count": 17,
   "id": "satisfactory-consolidation",
   "metadata": {},
   "outputs": [],
   "source": [
    "from tqdm import tqdm\n",
    "import torch, sys\n",
    "import numpy as np\n",
    "import pandas as pd\n",
    "import pickle"
   ]
  },
  {
   "cell_type": "code",
   "execution_count": 3,
   "id": "harmful-segment",
   "metadata": {},
   "outputs": [],
   "source": [
    "df = pd.read_csv(\"data/ori/test.csv\")"
   ]
  },
  {
   "cell_type": "code",
   "execution_count": 4,
   "id": "imported-syracuse",
   "metadata": {},
   "outputs": [],
   "source": [
    "deck1 = torch.load(\"results/distilbert-base-uncased-ver7/distilbert-base-uncased-focal-AdamW-lr1e-05-ver7-os10_3-deck1.pth\")\n",
    "deck2 = torch.load(\"results/distilbert-base-uncased-ver7/distilbert-base-uncased-focal-AdamW-lr1e-05-ver7-os10_3-deck2.pth\")"
   ]
  },
  {
   "cell_type": "code",
   "execution_count": 5,
   "id": "protecting-insert",
   "metadata": {},
   "outputs": [
    {
     "data": {
      "text/plain": [
       "(torch.Size([421079, 768]), torch.Size([1095951, 768]))"
      ]
     },
     "execution_count": 5,
     "metadata": {},
     "output_type": "execute_result"
    }
   ],
   "source": [
    "deck1[\"feat\"].shape, deck2[\"feat\"].shape"
   ]
  },
  {
   "cell_type": "code",
   "execution_count": 6,
   "id": "plastic-reggae",
   "metadata": {},
   "outputs": [],
   "source": [
    "deck1[\"feat_\"] = deck1[\"feat\"].cuda()\n",
    "deck2[\"feat_\"] = deck2[\"feat\"].cuda()"
   ]
  },
  {
   "cell_type": "code",
   "execution_count": 7,
   "id": "useful-filter",
   "metadata": {},
   "outputs": [
    {
     "data": {
      "text/plain": [
       "(dict_keys(['feat', 'otext', 'tlevel', 'fclevel', 'feat_']),\n",
       " dict_keys(['feat', 'otext', 'fclevel', 'ids', 'feat_']))"
      ]
     },
     "execution_count": 7,
     "metadata": {},
     "output_type": "execute_result"
    }
   ],
   "source": [
    "deck1.keys(), deck2.keys()"
   ]
  },
  {
   "cell_type": "code",
   "execution_count": 10,
   "id": "satisfied-aviation",
   "metadata": {},
   "outputs": [],
   "source": [
    "j = 100000\n",
    "shown = False"
   ]
  },
  {
   "cell_type": "code",
   "execution_count": 9,
   "id": "classical-steam",
   "metadata": {},
   "outputs": [
    {
     "name": "stdout",
     "output_type": "stream",
     "text": [
      "values: tensor([0.0031, 0.0031, 0.0031, 0.0031], device='cuda:0')\n",
      "indices: tensor([17556, 17365, 17671, 19175], device='cuda:0')\n",
      "id: tensor([0, 0, 0, 0])\n"
     ]
    }
   ],
   "source": [
    "dist_ = torch.norm(deck1[\"feat_\"] - deck2[\"feat_\"][j, None], p=None, dim=1)\n",
    "values_, indices_ = dist_.topk(4, largest=False)\n",
    "tlevels = deck1[\"tlevel\"][indices_]\n",
    "print(\"values:\", values_)\n",
    "print(\"indices:\", indices_)\n",
    "print(\"id:\", deck1[\"tlevel\"][indices_])\n",
    "j += 1"
   ]
  },
  {
   "cell_type": "code",
   "execution_count": 25,
   "id": "d282a598-59be-4d5e-a2db-1d2ab9836ea0",
   "metadata": {},
   "outputs": [],
   "source": [
    "fps = [\n",
    "    open(f\"results/distilbert-base-uncased-ver7/distilbert-base-uncased-focal-AdamW-lr1e-05-ver7-os10_3-test_lv{i}.txt\", \"a\")\n",
    "    for i in range(7)\n",
    "] + [open(f\"results/distilbert-base-uncased-ver7/distilbert-base-uncased-focal-AdamW-lr1e-05-ver7-os10_3-test_lvrd.txt\", \"a\")]"
   ]
  },
  {
   "cell_type": "code",
   "execution_count": 26,
   "id": "98fe9f2f-3915-4d7b-a958-344acd00617d",
   "metadata": {},
   "outputs": [
    {
     "name": "stdout",
     "output_type": "stream",
     "text": [
      "100%|██████████████████████████████████████████████████████| 100000/100000 [12:03<00:00, 138.29it/s]\n"
     ]
    }
   ],
   "source": [
    "with tqdm(total=100000, ncols=100, file=sys.stdout) as t:\n",
    "    for i in range(100000, 200000):\n",
    "        dist_ = torch.norm(deck1[\"feat_\"] - deck2[\"feat_\"][i, None], p=None, dim=1)\n",
    "        values_, indices_ = dist_.topk(4, largest=False)\n",
    "        tlevels = deck1[\"tlevel\"][indices_]\n",
    "\n",
    "        if not (deck1[\"tlevel\"][indices_[0]] in [0, 1, 3, 5] and values_[0] < 0.5):\n",
    "            lv = 0\n",
    "            while lv < 7:\n",
    "                if (tlevels == lv).all():\n",
    "                    break\n",
    "                lv += 1\n",
    "            fp = fps[lv]\n",
    "            fp.write(\"*  Submit : \" + df.full_log[deck2[\"ids\"][i - 1][0] - 1000000])\n",
    "            fp.write(\"----------------------------------------------------------------------------------------\\n\")\n",
    "            fp.write(\"*   index : \" + str(i - 1) + \"\\n\")\n",
    "            fp.write(\"*    dist : \" + \" \".join(map(lambda x: f\"{x:.4f}\", values_.cpu().tolist())) + \"\\n\")\n",
    "            fp.write(\"* fc-level: \" + str(deck2[\"fclevel\"][i - 1]) + \"\\n\")\n",
    "            fp.write(\"----------------------------------------------------------------------------------------\\n\")\n",
    "\n",
    "            for idx in indices_:\n",
    "                fp.write(\"* Level \" + str(deck1[\"tlevel\"][idx].item()) + \" : \" + deck1[\"otext\"][idx] + \"\\n\")\n",
    "                fp.write(\"----------------------------------------------------------------------------------------\\n\")\n",
    "\n",
    "            fp.write(\"\\n\\n\")\n",
    "            fp.flush()\n",
    "\n",
    "        t.update()"
   ]
  },
  {
   "cell_type": "code",
   "execution_count": null,
   "id": "906bb10b-2c17-400c-a4f7-ca3cb22f07f3",
   "metadata": {},
   "outputs": [],
   "source": []
  },
  {
   "cell_type": "code",
   "execution_count": null,
   "id": "a46f80d7-0baf-480c-8ed0-b01c835ac66a",
   "metadata": {},
   "outputs": [],
   "source": []
  },
  {
   "cell_type": "code",
   "execution_count": null,
   "id": "e4540bb8-a99c-47ff-b2c6-a63d56ea1cb1",
   "metadata": {},
   "outputs": [],
   "source": []
  },
  {
   "cell_type": "code",
   "execution_count": null,
   "id": "6ec12a32-cb60-435a-8a2f-5ce48190c4a2",
   "metadata": {},
   "outputs": [],
   "source": []
  },
  {
   "cell_type": "code",
   "execution_count": null,
   "id": "4f15d6db-6029-4c91-8bf5-69756e5a1695",
   "metadata": {},
   "outputs": [],
   "source": []
  },
  {
   "cell_type": "code",
   "execution_count": 11,
   "id": "exotic-spouse",
   "metadata": {},
   "outputs": [],
   "source": [
    "while shown or (deck1[\"tlevel\"][indices_[0]] in [0, 1, 3, 5] and values_[0] < 0.5):\n",
    "    shown = False\n",
    "\n",
    "    dist_ = torch.norm(deck1[\"feat_\"] - deck2[\"feat_\"][j, None], p=None, dim=1)\n",
    "    values_, indices_ = dist_.topk(4, largest=False)\n",
    "    tlevels = deck1[\"tlevel\"][indices_]\n",
    "    j += 1"
   ]
  },
  {
   "cell_type": "code",
   "execution_count": 12,
   "id": "driving-merchant",
   "metadata": {},
   "outputs": [
    {
     "name": "stdout",
     "output_type": "stream",
     "text": [
      "*  Submit : Jan 25 16:50:01 localhost kernel: Out of memory: Kill process 11235 (wazuh-modulesd) score 268 or sacrifice child\n",
      "----------------------------------------------------------------------------------------\n",
      "*   index : 107532\n",
      "*    dist : 6.3645 6.5072 7.9409 7.9421\n",
      "* fc-level: tensor(0)\n",
      "----------------------------------------------------------------------------------------\n",
      "* Level 3 : suricata: [1:2010494:4] ET SCAN Multiple MySQL Login Failures Possible Brute Force Attempt [Classification: Attempted Information Leak] [Priority: 2] {TCP} 192.168.0.42:3306 -> 192.168.0.160:35188\n",
      "----------------------------------------------------------------------------------------\n",
      "* Level 0 : suricata: [1:2008453:7] ET SCAN Tomcat Auth Brute Force attempt (admin) [Classification: Web Application Attack] [Priority: 1] {TCP} 192.168.0.11:58311 -> 192.168.0.160:55000\n",
      "----------------------------------------------------------------------------------------\n",
      "* Level 0 : juniper\n",
      "----------------------------------------------------------------------------------------\n",
      "* Level 1 : kernel: usb 1-1: USB disconnect, device number 6\n",
      "----------------------------------------------------------------------------------------\n"
     ]
    }
   ],
   "source": [
    "print(\"*  Submit :\", df.full_log[deck2[\"ids\"][j - 1][0] - 1000000])\n",
    "print(\"----------------------------------------------------------------------------------------\")\n",
    "print(\"*   index :\", j - 1)\n",
    "print(\"*    dist :\", \" \".join(map(lambda x: f\"{x:.4f}\", values_.cpu().tolist())))\n",
    "print(\"* fc-level:\", deck2[\"fclevel\"][j - 1])\n",
    "print(\"----------------------------------------------------------------------------------------\")\n",
    "\n",
    "for idx in indices_:\n",
    "    print(\"* Level\", deck1[\"tlevel\"][idx].item(), \":\", deck1[\"otext\"][idx])\n",
    "    print(\"----------------------------------------------------------------------------------------\")\n",
    "\n",
    "shown = True"
   ]
  },
  {
   "cell_type": "code",
   "execution_count": null,
   "id": "647e558e-ff32-4766-92a5-da01c0fdbc12",
   "metadata": {},
   "outputs": [],
   "source": []
  },
  {
   "cell_type": "code",
   "execution_count": null,
   "id": "698f0367-5422-4a0a-8657-d5103f98e771",
   "metadata": {},
   "outputs": [],
   "source": []
  },
  {
   "cell_type": "markdown",
   "id": "antique-student",
   "metadata": {},
   "source": [
    "---\n",
    "\n",
    "4개가 다 일치할 때는 level별로 threshold를 따로 두는 방식으로 하고\n",
    "* level0 - 좀 낮게 (비교군이 많기 때문에) - 0.8?\n",
    "* level1 - 전처리를 없애니까 dist가 증가했음. 0.8?\n",
    "* level2 - \n",
    "* level3 - 꽤 높게 (변화무쌍하니까) - 1.0?\n",
    "* level4 - \n",
    "* level5 - 꽤 높게 (변화무쌍하니까) - 1.0\n",
    "* level6 - 나름 변화가 큼 - 0.8\n",
    "* 섞인 경우 - 비슷한 케이스가 별로 없었다는 뜻이니까 낮게 - 0.2\n",
    "\n",
    "2, 4, 6에 대해서는 아직 데이터가 더 모여야 하겠다\n",
    "\n",
    "level0 길이가 긴거는 맞아도 dist가 높게(0.3이상) 나오고, 길이가 짧은건 틀려도 dist가 탖게 나오는 것 같은데...  \n",
    "길이도 입력 인수로 해야할까?\n",
    "\n",
    "※ TODO: 전체에 대해 dist 구한 다음에 각 level/군집별로 top dist 분포가 어떻게 나타나는지 그래프를 그려보자"
   ]
  }
 ],
 "metadata": {
  "kernelspec": {
   "display_name": "Python 3",
   "language": "python",
   "name": "python3"
  },
  "language_info": {
   "codemirror_mode": {
    "name": "ipython",
    "version": 3
   },
   "file_extension": ".py",
   "mimetype": "text/x-python",
   "name": "python",
   "nbconvert_exporter": "python",
   "pygments_lexer": "ipython3",
   "version": "3.7.9"
  }
 },
 "nbformat": 4,
 "nbformat_minor": 5
}
