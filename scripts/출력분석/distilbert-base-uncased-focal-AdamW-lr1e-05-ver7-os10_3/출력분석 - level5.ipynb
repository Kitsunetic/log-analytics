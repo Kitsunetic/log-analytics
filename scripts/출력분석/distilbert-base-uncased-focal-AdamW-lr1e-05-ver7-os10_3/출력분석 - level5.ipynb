{
 "cells": [
  {
   "cell_type": "code",
   "execution_count": null,
   "id": "western-surrey",
   "metadata": {},
   "outputs": [],
   "source": []
  },
  {
   "cell_type": "code",
   "execution_count": 10,
   "id": "minute-drive",
   "metadata": {},
   "outputs": [
    {
     "name": "stdout",
     "output_type": "stream",
     "text": [
      "*  Submit : Jan 15 15:55:37 localhost yum[26878]: Updated: 1:openssl-libs-1.0.2k-21.el7_9.x86_64\n",
      "----------------------------------------------------------------------------------------\n",
      "*   index : 675\n",
      "*    dist : 0.7357 0.8375 0.8443 0.9586\n",
      "* fc-level: tensor(5)\n",
      "----------------------------------------------------------------------------------------\n",
      "* Level 5 : yum: Updated: libss-1.42.9-19.el7.x86_64\n",
      "----------------------------------------------------------------------------------------\n",
      "* Level 5 : yum: Updated: libstdc++-4.8.5-44.el7.x86_64\n",
      "----------------------------------------------------------------------------------------\n",
      "* Level 5 : yum: Updated: openscap-scanner-1.2.17-11.el7.x86_64\n",
      "----------------------------------------------------------------------------------------\n",
      "* Level 5 : yum: Updated: e2fsprogs-libs-1.42.9-19.el7.x86_64\n",
      "----------------------------------------------------------------------------------------\n"
     ]
    }
   ],
   "source": [
    "print(\"*  Submit :\", df.full_log[deck2[\"ids\"][j - 1][0] - 1000000])\n",
    "print(\"----------------------------------------------------------------------------------------\")\n",
    "print(\"*   index :\", j - 1)\n",
    "print(\"*    dist :\", \" \".join(map(lambda x: f\"{x:.4f}\", values_.cpu().tolist())))\n",
    "print(\"* fc-level:\", deck2[\"fclevel\"][j - 1])\n",
    "print(\"----------------------------------------------------------------------------------------\")\n",
    "\n",
    "for idx in indices_:\n",
    "    print(\"* Level\", deck1[\"tlevel\"][idx].item(), \":\", deck1[\"otext\"][idx])\n",
    "    print(\"----------------------------------------------------------------------------------------\")\n",
    "\n",
    "shown = True"
   ]
  }
 ],
 "metadata": {
  "kernelspec": {
   "display_name": "Python 3",
   "language": "python",
   "name": "python3"
  },
  "language_info": {
   "codemirror_mode": {
    "name": "ipython",
    "version": 3
   },
   "file_extension": ".py",
   "mimetype": "text/x-python",
   "name": "python",
   "nbconvert_exporter": "python",
   "pygments_lexer": "ipython3",
   "version": "3.7.10"
  }
 },
 "nbformat": 4,
 "nbformat_minor": 5
}
