{
 "cells": [
  {
   "cell_type": "code",
   "execution_count": null,
   "id": "proof-adolescent",
   "metadata": {},
   "outputs": [],
   "source": []
  },
  {
   "cell_type": "code",
   "execution_count": 16,
   "id": "changed-equivalent",
   "metadata": {},
   "outputs": [
    {
     "name": "stdout",
     "output_type": "stream",
     "text": [
      "*  Submit : Sep 18 10:17:03 localhost node: { Error: ENOENT: no such file or directory, open '/var/ossec/logs/api.log'\n",
      "----------------------------------------------------------------------------------------\n",
      "*   index : 7856\n",
      "*    dist : 1.8586 1.8586 1.8586 2.1402\n",
      "* fc-level: tensor(0)\n",
      "----------------------------------------------------------------------------------------\n",
      "* Level 0 : elasticsearch: # An error report file with more information is saved as:\n",
      "----------------------------------------------------------------------------------------\n",
      "* Level 0 : elasticsearch: # An error report file with more information is saved as:\n",
      "----------------------------------------------------------------------------------------\n",
      "* Level 0 : elasticsearch: # An error report file with more information is saved as:\n",
      "----------------------------------------------------------------------------------------\n",
      "* Level 0 : sv260 sshd: error: setsockopt SO_KEEPALIVE: Invalid argument\n",
      "----------------------------------------------------------------------------------------\n"
     ]
    }
   ],
   "source": [
    "print(\"*  Submit :\", df.full_log[deck2[\"ids\"][j - 1][0] - 1000000])\n",
    "print(\"----------------------------------------------------------------------------------------\")\n",
    "print(\"*   index :\", j - 1)\n",
    "print(\"*    dist :\", \" \".join(map(lambda x: f\"{x:.4f}\", values_.cpu().tolist())))\n",
    "print(\"* fc-level:\", deck2[\"fclevel\"][j - 1])\n",
    "print(\"----------------------------------------------------------------------------------------\")\n",
    "\n",
    "for idx in indices_:\n",
    "    print(\"* Level\", deck1[\"tlevel\"][idx].item(), \":\", deck1[\"otext\"][idx])\n",
    "    print(\"----------------------------------------------------------------------------------------\")\n",
    "\n",
    "shown = True"
   ]
  },
  {
   "cell_type": "code",
   "execution_count": 12,
   "id": "circular-determination",
   "metadata": {},
   "outputs": [
    {
     "name": "stdout",
     "output_type": "stream",
     "text": [
      "*  Submit : Nov 18 17:43:20 localhost suricata: 18/11/2020 -- 17:43:20 - <Error> - [ERRCODE: SC_ERR_FATAL(171)] - thread W#01-eth0 failed\n",
      "----------------------------------------------------------------------------------------\n",
      "*   index : 3770\n",
      "*    dist : 0.6067 0.6704 0.8464 1.2136\n",
      "* fc-level: tensor(0)\n",
      "----------------------------------------------------------------------------------------\n",
      "* Level 0 : suricata: 18/11/2020 -- 17:43:03 - <Warning> - [ERRCODE: SC_ERR_CONF_YAML_ERROR(242)] - Please use 'tls-store' in YAML to configure TLS storage\n",
      "----------------------------------------------------------------------------------------\n",
      "* Level 0 : suricata: 18/9/2020 -- 13:18:50 - <Warning> - [ERRCODE: SC_ERR_CONF_YAML_ERROR(242)] - Please use 'tls-store' in YAML to configure TLS storage\n",
      "----------------------------------------------------------------------------------------\n",
      "* Level 0 : suricata: 8/2/2021 -- 16:16:46 - <Warning> - [ERRCODE: SC_ERR_CONF_YAML_ERROR(242)] - Please use 'tls-store' in YAML to configure TLS storage\n",
      "----------------------------------------------------------------------------------------\n",
      "* Level 0 : suricata: 2/2/2021 -- 17:06:25 - <Error> - [ERRCODE: SC_ERR_INVALID_VALUE(130)] - Problem with config file\n",
      "----------------------------------------------------------------------------------------\n"
     ]
    }
   ],
   "source": [
    "print(\"*  Submit :\", df.full_log[deck2[\"ids\"][j - 1][0] - 1000000])\n",
    "print(\"----------------------------------------------------------------------------------------\")\n",
    "print(\"*   index :\", j - 1)\n",
    "print(\"*    dist :\", \" \".join(map(lambda x: f\"{x:.4f}\", values_.cpu().tolist())))\n",
    "print(\"* fc-level:\", deck2[\"fclevel\"][j - 1])\n",
    "print(\"----------------------------------------------------------------------------------------\")\n",
    "\n",
    "for idx in indices_:\n",
    "    print(\"* Level\", deck1[\"tlevel\"][idx].item(), \":\", deck1[\"otext\"][idx])\n",
    "    print(\"----------------------------------------------------------------------------------------\")\n",
    "\n",
    "shown = True"
   ]
  }
 ],
 "metadata": {
  "kernelspec": {
   "display_name": "Python 3",
   "language": "python",
   "name": "python3"
  },
  "language_info": {
   "codemirror_mode": {
    "name": "ipython",
    "version": 3
   },
   "file_extension": ".py",
   "mimetype": "text/x-python",
   "name": "python",
   "nbconvert_exporter": "python",
   "pygments_lexer": "ipython3",
   "version": "3.7.10"
  }
 },
 "nbformat": 4,
 "nbformat_minor": 5
}
