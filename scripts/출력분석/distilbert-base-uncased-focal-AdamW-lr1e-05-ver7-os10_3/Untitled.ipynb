{
 "cells": [
  {
   "cell_type": "code",
   "execution_count": 1,
   "id": "pregnant-triumph",
   "metadata": {},
   "outputs": [
    {
     "name": "stdout",
     "output_type": "stream",
     "text": [
      "/home/shim/shim/dev/log-analytics\n"
     ]
    }
   ],
   "source": [
    "%load_ext lab_black\n",
    "%cd ../../.."
   ]
  },
  {
   "cell_type": "code",
   "execution_count": 4,
   "id": "neural-district",
   "metadata": {},
   "outputs": [],
   "source": [
    "import pandas as pd\n",
    "from collections import defaultdict"
   ]
  },
  {
   "cell_type": "code",
   "execution_count": 3,
   "id": "active-honey",
   "metadata": {},
   "outputs": [],
   "source": [
    "df = pd.read_csv(\"results/distilbert-base-uncased-ver7/distilbert-base-uncased-focal-AdamW-lr1e-05_4-ver4.csv\")"
   ]
  },
  {
   "cell_type": "code",
   "execution_count": 5,
   "id": "excess-memorabilia",
   "metadata": {},
   "outputs": [],
   "source": [
    "dic = defaultdict(int)\n",
    "for level in df.level:\n",
    "    dic[level] += 1"
   ]
  },
  {
   "cell_type": "code",
   "execution_count": 8,
   "id": "mature-swimming",
   "metadata": {},
   "outputs": [
    {
     "data": {
      "text/plain": [
       "1418916"
      ]
     },
     "execution_count": 8,
     "metadata": {},
     "output_type": "execute_result"
    }
   ],
   "source": [
    "N = sum([dic[i] for i in range(8)])\n",
    "N"
   ]
  },
  {
   "cell_type": "code",
   "execution_count": 14,
   "id": "determined-fairy",
   "metadata": {},
   "outputs": [
    {
     "name": "stdout",
     "output_type": "stream",
     "text": [
      "0:    1001573, 70.59%\n",
      "1:     396996, 27.98%\n",
      "2:         34, 0.00%\n",
      "3:      13068, 0.92%\n",
      "4:         34, 0.00%\n",
      "5:       6526, 0.46%\n",
      "6:         29, 0.00%\n",
      "7:        656, 0.05%\n"
     ]
    }
   ],
   "source": [
    "for level in range(8):\n",
    "    print(f\"{level}: {dic[level]:10},{dic[level]/N*100: .2f}%\")"
   ]
  },
  {
   "cell_type": "code",
   "execution_count": 16,
   "id": "governmental-horse",
   "metadata": {},
   "outputs": [],
   "source": [
    "out_levels = df.level.to_numpy()"
   ]
  },
  {
   "cell_type": "code",
   "execution_count": 46,
   "id": "extraordinary-transaction",
   "metadata": {},
   "outputs": [
    {
     "data": {
      "text/plain": [
       "(array([  13058,   19064,   50292,   77934,  136006,  236519,  247477,\n",
       "         274200,  286782,  304176,  333032,  371882,  377311,  395334,\n",
       "         414297,  462289,  515078,  668103,  738767,  748044,  780270,\n",
       "         839319,  863210,  881808,  886400,  908764, 1023406, 1037710,\n",
       "        1078436, 1078950, 1164470, 1167242, 1272121, 1370911]),)"
      ]
     },
     "execution_count": 46,
     "metadata": {},
     "output_type": "execute_result"
    }
   ],
   "source": [
    "(out_levels == 2).nonzero()"
   ]
  },
  {
   "cell_type": "code",
   "execution_count": null,
   "id": "varied-agent",
   "metadata": {},
   "outputs": [],
   "source": []
  },
  {
   "cell_type": "code",
   "execution_count": 19,
   "id": "absolute-enforcement",
   "metadata": {},
   "outputs": [],
   "source": [
    "df_train = pd.read_csv(\"data/ori/train.csv\")"
   ]
  },
  {
   "cell_type": "code",
   "execution_count": 20,
   "id": "rational-diesel",
   "metadata": {},
   "outputs": [],
   "source": [
    "train_levels = df_train.level.to_numpy()"
   ]
  },
  {
   "cell_type": "code",
   "execution_count": 47,
   "id": "assured-skill",
   "metadata": {},
   "outputs": [
    {
     "name": "stdout",
     "output_type": "stream",
     "text": [
      "The average number of logs between 10:00 and 11:00 is 5399. We reached 37090.\n",
      "The average number of logs between 5:00 and 6:00 is 222. We reached 77946.\n",
      "The average number of logs between 6:00 and 7:00 is 6420. We reached 28494.\n",
      "The average number of logs between 21:00 and 22:00 is 5325. We reached 95.\n",
      "The average number of logs between 5:00 and 6:00 is 8362. We reached 93476.\n",
      "The average number of logs between 4:00 and 5:00 is 2806. We reached 11476.\n",
      "The average number of logs between 14:00 and 15:00 is 9734. We reached 26958.\n",
      "The average number of logs between 15:00 and 16:00 is 4411. We reached 9487.\n",
      "Sep 18 11:02:59 localhost sudo:  apache : TTY=unknown ; PWD=/var/www/html/management ; USER=root ; COMMAND=/bin/curl -XGET localhost:9200/_cat/snapshots/esild_backup\n",
      "The average number of logs between 2:00 and 3:00 is 9428. We reached 75572.\n",
      "The average number of logs between 10:00 and 11:00 is 12612. We reached 31532.\n",
      "The average number of logs between 13:00 and 14:00 is 2697. We reached 93028.\n"
     ]
    }
   ],
   "source": [
    "for i in (train_levels == 2).nonzero()[0]:\n",
    "    print(str(df_train.full_log[i]))"
   ]
  },
  {
   "cell_type": "code",
   "execution_count": null,
   "id": "normal-jesus",
   "metadata": {},
   "outputs": [],
   "source": []
  }
 ],
 "metadata": {
  "kernelspec": {
   "display_name": "Python 3",
   "language": "python",
   "name": "python3"
  },
  "language_info": {
   "codemirror_mode": {
    "name": "ipython",
    "version": 3
   },
   "file_extension": ".py",
   "mimetype": "text/x-python",
   "name": "python",
   "nbconvert_exporter": "python",
   "pygments_lexer": "ipython3",
   "version": "3.7.10"
  }
 },
 "nbformat": 4,
 "nbformat_minor": 5
}
