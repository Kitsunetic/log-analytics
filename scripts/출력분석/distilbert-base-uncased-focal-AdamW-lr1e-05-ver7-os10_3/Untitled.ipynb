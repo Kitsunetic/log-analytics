{
 "cells": [
  {
   "cell_type": "markdown",
   "id": "d83eaded-0233-468b-8eb8-1cc0e24f8dbf",
   "metadata": {},
   "source": [
    "모든 2, 4, 6과 dist를 구해서 dist가 threshold 이하면 무조건 2, 4, 6으로 취급하기로 했을 때\n",
    "못찾은 6 2개를 찾을 수 있을지?\n"
   ]
  },
  {
   "cell_type": "code",
   "execution_count": 1,
   "id": "32e724f7-8b8a-4462-8e8b-7f4fe88064af",
   "metadata": {},
   "outputs": [
    {
     "name": "stdout",
     "output_type": "stream",
     "text": [
      "/home/shim/cev/dl/log-analytics\n"
     ]
    }
   ],
   "source": [
    "%load_ext lab_black\n",
    "%cd ../../.."
   ]
  },
  {
   "cell_type": "code",
   "execution_count": 2,
   "id": "beff8174-9d84-4f0b-a65a-67001a1d86b1",
   "metadata": {},
   "outputs": [],
   "source": [
    "import torch\n",
    "import numpy as np\n",
    "import pandas as pd"
   ]
  },
  {
   "cell_type": "code",
   "execution_count": 3,
   "id": "345cd944-edc9-4749-9cd5-f54a7d6c5a6e",
   "metadata": {},
   "outputs": [],
   "source": [
    "deck1 = torch.load(\"results/distilbert-base-uncased-ver7/distilbert-base-uncased-focal-AdamW-lr1e-05-ver7-os10_3-deck1.pth\")\n",
    "deck2 = torch.load(\"results/distilbert-base-uncased-ver7/distilbert-base-uncased-focal-AdamW-lr1e-05-ver7-os10_3-deck2.pth\")"
   ]
  },
  {
   "cell_type": "code",
   "execution_count": 62,
   "id": "37a146ce-020e-4a84-a53a-aa59a52410bb",
   "metadata": {},
   "outputs": [],
   "source": [
    "sdf = pd.read_csv(\"data/ori/test.csv\")"
   ]
  },
  {
   "cell_type": "code",
   "execution_count": 5,
   "id": "5bbf2ce0-3de6-4b50-a8e6-998371ee284e",
   "metadata": {},
   "outputs": [],
   "source": [
    "deck1[\"feat_\"] = deck1[\"feat\"].cuda()\n",
    "deck2[\"feat_\"] = deck2[\"feat\"].cuda()"
   ]
  },
  {
   "cell_type": "code",
   "execution_count": 6,
   "id": "bc1e24c6-d272-4bf2-a143-077228b42698",
   "metadata": {},
   "outputs": [
    {
     "data": {
      "text/plain": [
       "(dict_keys(['feat', 'otext', 'tlevel', 'fclevel', 'feat_']),\n",
       " dict_keys(['feat', 'otext', 'fclevel', 'ids', 'feat_']))"
      ]
     },
     "execution_count": 6,
     "metadata": {},
     "output_type": "execute_result"
    }
   ],
   "source": [
    "deck1.keys(), deck2.keys()"
   ]
  },
  {
   "cell_type": "code",
   "execution_count": 25,
   "id": "f764e019-24bb-4257-af57-d93d000fc442",
   "metadata": {},
   "outputs": [
    {
     "data": {
      "text/plain": [
       "tensor([336873])"
      ]
     },
     "execution_count": 25,
     "metadata": {},
     "output_type": "execute_result"
    }
   ],
   "source": [
    "(deck1[\"tlevel\"] == 2).nonzero()[8]"
   ]
  },
  {
   "cell_type": "code",
   "execution_count": 32,
   "id": "131f4494-5511-4ab9-8e98-dcc4696338da",
   "metadata": {},
   "outputs": [
    {
     "data": {
      "text/plain": [
       "tensor([12957])"
      ]
     },
     "execution_count": 32,
     "metadata": {},
     "output_type": "execute_result"
    }
   ],
   "source": [
    "(deck2[\"fclevel\"] == 2).nonzero()[0]"
   ]
  },
  {
   "cell_type": "code",
   "execution_count": 55,
   "id": "3fe7e8cc-7c6d-4a7b-802f-af5f159266c7",
   "metadata": {},
   "outputs": [
    {
     "data": {
      "text/plain": [
       "'useradd: new group: name=test, GID=1001'"
      ]
     },
     "execution_count": 55,
     "metadata": {},
     "output_type": "execute_result"
    }
   ],
   "source": [
    "deck1[\"otext\"][219277]"
   ]
  },
  {
   "cell_type": "code",
   "execution_count": 69,
   "id": "69c0e79e-1d60-4d33-9ffa-3c71f6ec71ad",
   "metadata": {},
   "outputs": [
    {
     "data": {
      "text/plain": [
       "\"sshd: Bad protocol version identification '\\\\003' from 185.176.220.106 port 65322\""
      ]
     },
     "execution_count": 69,
     "metadata": {},
     "output_type": "execute_result"
    }
   ],
   "source": [
    "deck2[\"otext\"][(deck2[\"fclevel\"] == 6).nonzero()[0]]"
   ]
  },
  {
   "cell_type": "code",
   "execution_count": 38,
   "id": "fb3047bf-4131-48e1-bd58-fefe3598c406",
   "metadata": {},
   "outputs": [],
   "source": [
    "feat_lv2_ = deck1[\"feat_\"][(deck1[\"tlevel\"] == 2).nonzero()][:, 0, :]\n",
    "feat_lv4_ = deck1[\"feat_\"][(deck1[\"tlevel\"] == 4).nonzero()][:, 0, :]\n",
    "feat_lv6_ = deck1[\"feat_\"][(deck1[\"tlevel\"] == 6).nonzero()][:, 0, :]"
   ]
  },
  {
   "cell_type": "code",
   "execution_count": 39,
   "id": "a12ca022-d5da-41c0-91f0-b0b119a27c7d",
   "metadata": {},
   "outputs": [],
   "source": [
    "feat2_lv2_ = deck2[\"feat_\"][(deck2[\"fclevel\"] == 2).nonzero()][:, 0, :]\n",
    "feat2_lv4_ = deck2[\"feat_\"][(deck2[\"fclevel\"] == 4).nonzero()][:, 0, :]\n",
    "feat2_lv6_ = deck2[\"feat_\"][(deck2[\"fclevel\"] == 6).nonzero()][:, 0, :]"
   ]
  },
  {
   "cell_type": "code",
   "execution_count": 56,
   "id": "5cd1c588-1605-4902-86b2-d0b43e218f5b",
   "metadata": {},
   "outputs": [
    {
     "data": {
      "text/plain": [
       "(tensor([2.1685], device='cuda:0'), tensor([3], device='cuda:0'))"
      ]
     },
     "execution_count": 56,
     "metadata": {},
     "output_type": "execute_result"
    }
   ],
   "source": [
    "dists, indices = torch.norm(feat_lv6_ - feat2_lv6_[1], p=None, dim=1).topk(1, largest=False)\n",
    "dists, indices"
   ]
  },
  {
   "cell_type": "code",
   "execution_count": 54,
   "id": "8bfd2403-0928-4fcb-9cda-f76be30f76b2",
   "metadata": {},
   "outputs": [
    {
     "data": {
      "text/plain": [
       "(tensor([2.1685], device='cuda:0'), tensor([219277], device='cuda:0'))"
      ]
     },
     "execution_count": 54,
     "metadata": {},
     "output_type": "execute_result"
    }
   ],
   "source": [
    "dists, indices = torch.norm(deck1[\"feat_\"] - feat2_lv6_[1], p=None, dim=1).topk(1, largest=False)\n",
    "dists, indices"
   ]
  },
  {
   "cell_type": "code",
   "execution_count": null,
   "id": "2ab4425e-5c8b-4bba-aeee-d001cfe55c35",
   "metadata": {},
   "outputs": [],
   "source": []
  },
  {
   "cell_type": "code",
   "execution_count": null,
   "id": "1945ba27-fe9c-42a2-907b-9b27f0dbd688",
   "metadata": {},
   "outputs": [],
   "source": []
  },
  {
   "cell_type": "code",
   "execution_count": null,
   "id": "d9cb4250-9b2d-4e3c-9871-1e6ddd47de01",
   "metadata": {},
   "outputs": [],
   "source": []
  },
  {
   "cell_type": "code",
   "execution_count": null,
   "id": "2c56ed8a-7c11-4864-8c41-761eaa096a77",
   "metadata": {},
   "outputs": [],
   "source": []
  },
  {
   "cell_type": "code",
   "execution_count": null,
   "id": "484ad561-2d77-4eb6-819e-54bf6f54be9c",
   "metadata": {},
   "outputs": [],
   "source": []
  },
  {
   "cell_type": "code",
   "execution_count": null,
   "id": "bad17cd6-9cf1-4d0b-a510-602b8c327b95",
   "metadata": {},
   "outputs": [],
   "source": []
  }
 ],
 "metadata": {
  "kernelspec": {
   "display_name": "torch",
   "language": "python",
   "name": "torch"
  },
  "language_info": {
   "codemirror_mode": {
    "name": "ipython",
    "version": 3
   },
   "file_extension": ".py",
   "mimetype": "text/x-python",
   "name": "python",
   "nbconvert_exporter": "python",
   "pygments_lexer": "ipython3",
   "version": "3.7.10"
  }
 },
 "nbformat": 4,
 "nbformat_minor": 5
}
