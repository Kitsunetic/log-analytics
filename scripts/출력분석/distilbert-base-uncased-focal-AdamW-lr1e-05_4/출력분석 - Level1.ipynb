{
 "cells": [
  {
   "cell_type": "code",
   "execution_count": null,
   "id": "ef5e0c69-20df-4d10-9121-43e41e01bdb8",
   "metadata": {
    "tags": []
   },
   "outputs": [],
   "source": []
  },
  {
   "cell_type": "code",
   "execution_count": 30,
   "id": "38bfde40-717b-4709-b5aa-b2065ccf3f21",
   "metadata": {},
   "outputs": [
    {
     "name": "stdout",
     "output_type": "stream",
     "text": [
      "*  Submit : type=ANOM_ABEND msg=audit(1610092026.125:54221): auid=4294967295 uid=48 gid=48 ses=4294967295 subj=system_u:system_r:httpd_t:s0 pid=25480 comm=\"httpd\" reason=\"memory violation\" sig=11\n",
      "----------------------------------------------------------------------------------------\n",
      "*   index : 6003\n",
      "*    dist : 0.9236 1.0530 1.0618 1.1321\n",
      "* fc-level: tensor(1)\n",
      "----------------------------------------------------------------------------------------\n",
      "* Level 1 : type=AVC msg=audit(1608018867.247:145801): avc:  denied  { nlmsg_relay } for  pid=12425 comm=\"sudo\" scontext=system_u:system_r:httpd_t:s0 tcontext=system_u:system_r:httpd_t:s0 tclass=netlink_audit_socket permissive=1\n",
      "----------------------------------------------------------------------------------------\n",
      "* Level 1 : type=USER_AVC msg=audit(1605233330.597:600): pid=831 uid=81 auid=4294967295 ses=4294967295 subj=system_u:system_r:system_dbusd_t:s0-s0:c0.c1023 msg='avc:  denied  { send_msg } for msgtype=method_return dest=:1.187 spid=890 tpid=10423 scontext=system_u:system_r:systemd_logind_t:s0 tcontext=system_u:system_r:httpd_t:s0 tclass=dbus  exe=\"/usr/bin/dbus-daemon\" sauid=81 hostname=? addr=? terminal=?'\n",
      "----------------------------------------------------------------------------------------\n",
      "* Level 1 : type=USER_AVC msg=audit(1603070359.442:167): pid=820 uid=81 auid=4294967295 ses=4294967295 subj=system_u:system_r:system_dbusd_t:s0-s0:c0.c1023 msg='avc:  denied  { send_msg } for msgtype=method_return dest=:1.69 spid=815 tpid=7464 scontext=system_u:system_r:systemd_logind_t:s0 tcontext=system_u:system_r:httpd_t:s0 tclass=dbus  exe=\"/usr/bin/dbus-daemon\" sauid=81 hostname=? addr=? terminal=?'\n",
      "----------------------------------------------------------------------------------------\n",
      "* Level 1 : type=SYSCALL msg=audit(1603089001.184:50436): arch=c000003e syscall=2 success=yes exit=3 a0=7f2661f9742f a1=0 a2=1b6 a3=24 items=1 ppid=17920 pid=4893 auid=0 uid=0 gid=0 euid=0 suid=0 fsuid=0 egid=0 sgid=0 fsgid=0 tty=(none) ses=35 comm=\"crond\" exe=\"/usr/sbin/crond\" subj=system_u:system_r:crond_t:s0-s0:c0.c1023 key=\"audit-wazuh-r\"\n",
      "----------------------------------------------------------------------------------------\n"
     ]
    }
   ],
   "source": [
    "print(\"*  Submit :\", df.full_log[j - 1])\n",
    "print(\"----------------------------------------------------------------------------------------\")\n",
    "print(\"*   index :\", j - 1)\n",
    "print(\"*    dist :\", \" \".join(map(lambda x: f\"{x:.4f}\", values_.cpu().tolist())))\n",
    "print(\"* fc-level:\", deck2[\"fclevel\"][j - 1])\n",
    "print(\"----------------------------------------------------------------------------------------\")\n",
    "\n",
    "for idx in indices_:\n",
    "    print(\"* Level\", deck1[\"tlevel\"][idx].item(), \":\", tdf.full_log[idx.item()])\n",
    "    print(\"----------------------------------------------------------------------------------------\")\n",
    "\n",
    "shown = True"
   ]
  },
  {
   "cell_type": "code",
   "execution_count": 18,
   "id": "a53c6f68-fa36-45d1-92cd-ed23ca81311e",
   "metadata": {},
   "outputs": [
    {
     "name": "stdout",
     "output_type": "stream",
     "text": [
      "*  Submit : type=AVC msg=audit(1605689130.470:118): avc:  denied  { create } for  pid=3164 comm=\"gdm-session-wor\" name=\"gdm\" scontext=system_u:system_r:xdm_t:s0-s0:c0.c1023 tcontext=system_u:object_r:admin_home_t:s0 tclass=dir type=SYSCALL msg=audit(1605689130.470:118): arch=c000003e syscall=83 success=no exit=-13 a0=55a31f7dc920 a1=1c0 a2=55a31f7dc930 a3=0 items=0 ppid=3146 pid=3164 auid=0 uid=0 gid=0 euid=0 suid=0 fsuid=0 egid=0 sgid=0 fsgid=0 tty=(none) ses=1 comm=\"gdm-session-wor\" exe=\"/usr/libexec/gdm-session-worker\" subj=system_u:system_r:xdm_t:s0-s0:c0.c1023 key=(null) type=PROCTITLE msg=audit(1605689130.470:118): proctitle=67646D2D73657373696F6E2D776F726B6572205B70616D2F67646D2D70617373776F72645D\n",
      "----------------------------------------------------------------------------------------\n",
      "*   index : 2607\n",
      "*    dist : 0.3420 0.3605 0.3648 0.3703\n",
      "* fc-level: tensor(1)\n",
      "----------------------------------------------------------------------------------------\n",
      "* Level 1 : type=AVC msg=audit(1610085696.233:53284): avc:  denied  { signull } for  pid=20380 comm=\"ossec-control\" scontext=system_u:system_r:httpd_t:s0 tcontext=system_u:system_r:system_cronjob_t:s0-s0:c0.c1023 tclass=process permissive=1 type=SYSCALL msg=audit(1610085696.233:53284): arch=c000003e syscall=62 success=yes exit=0 a0=6a18 a1=0 a2=0 a3=7fff2ae6abe0 items=0 ppid=20376 pid=20380 auid=4294967295 uid=0 gid=0 euid=0 suid=0 fsuid=0 egid=0 sgid=0 fsgid=0 tty=(none) ses=4294967295 comm=\"ossec-control\" exe=\"/usr/bin/bash\" subj=system_u:system_r:httpd_t:s0 key=(null) type=PROCTITLE msg=audit(1610085696.233:53284): proctitle=7375646F002F7661722F6573696C642F62696E2F6F737365632D636F6E74726F6C00737461747573\n",
      "----------------------------------------------------------------------------------------\n",
      "* Level 1 : type=AVC msg=audit(1608006853.612:140051): avc:  denied  { getattr } for  pid=8760 comm=\"unix_chkpwd\" path=\"/etc/shadow\" dev=\"dm-0\" ino=271194262 scontext=system_u:system_r:httpd_t:s0 tcontext=system_u:object_r:shadow_t:s0 tclass=file permissive=1 type=SYSCALL msg=audit(1608006853.612:140051): arch=c000003e syscall=5 success=yes exit=0 a0=3 a1=7ffe6b266730 a2=7ffe6b266730 a3=0 items=0 ppid=8757 pid=8760 auid=4294967295 uid=0 gid=48 euid=0 suid=0 fsuid=0 egid=48 sgid=48 fsgid=48 tty=(none) ses=4294967295 comm=\"unix_chkpwd\" exe=\"/usr/sbin/unix_chkpwd\" subj=system_u:system_r:httpd_t:s0 key=(null) type=PROCTITLE msg=audit(1608006853.612:140051): proctitle=2F7573722F7362696E2F756E69785F63686B707764006170616368650063686B657870697279\n",
      "----------------------------------------------------------------------------------------\n",
      "* Level 1 : type=AVC msg=audit(1608016209.062:143432): avc:  denied  { getattr } for  pid=1539 comm=\"unix_chkpwd\" path=\"/etc/shadow\" dev=\"dm-0\" ino=271194262 scontext=system_u:system_r:httpd_t:s0 tcontext=system_u:object_r:shadow_t:s0 tclass=file permissive=1 type=SYSCALL msg=audit(1608016209.062:143432): arch=c000003e syscall=5 success=yes exit=0 a0=3 a1=7ffec92e08d0 a2=7ffec92e08d0 a3=0 items=0 ppid=1529 pid=1539 auid=4294967295 uid=0 gid=48 euid=0 suid=0 fsuid=0 egid=48 sgid=48 fsgid=48 tty=(none) ses=4294967295 comm=\"unix_chkpwd\" exe=\"/usr/sbin/unix_chkpwd\" subj=system_u:system_r:httpd_t:s0 key=(null) type=PROCTITLE msg=audit(1608016209.062:143432): proctitle=2F7573722F7362696E2F756E69785F63686B707764006170616368650063686B657870697279\n",
      "----------------------------------------------------------------------------------------\n",
      "* Level 1 : type=AVC msg=audit(1608009469.278:141034): avc:  denied  { getattr } for  pid=18902 comm=\"unix_chkpwd\" path=\"/etc/shadow\" dev=\"dm-0\" ino=271194262 scontext=system_u:system_r:httpd_t:s0 tcontext=system_u:object_r:shadow_t:s0 tclass=file permissive=1 type=SYSCALL msg=audit(1608009469.278:141034): arch=c000003e syscall=5 success=yes exit=0 a0=3 a1=7ffcd564a390 a2=7ffcd564a390 a3=0 items=0 ppid=18886 pid=18902 auid=4294967295 uid=0 gid=48 euid=0 suid=0 fsuid=0 egid=48 sgid=48 fsgid=48 tty=(none) ses=4294967295 comm=\"unix_chkpwd\" exe=\"/usr/sbin/unix_chkpwd\" subj=system_u:system_r:httpd_t:s0 key=(null) type=PROCTITLE msg=audit(1608009469.278:141034): proctitle=2F7573722F7362696E2F756E69785F63686B707764006170616368650063686B657870697279\n",
      "----------------------------------------------------------------------------------------\n"
     ]
    }
   ],
   "source": [
    "print(\"*  Submit :\", df.full_log[j - 1])\n",
    "print(\"----------------------------------------------------------------------------------------\")\n",
    "print(\"*   index :\", j - 1)\n",
    "print(\"*    dist :\", \" \".join(map(lambda x: f\"{x:.4f}\", values_.cpu().tolist())))\n",
    "print(\"* fc-level:\", deck2[\"fclevel\"][j - 1])\n",
    "print(\"----------------------------------------------------------------------------------------\")\n",
    "\n",
    "for idx in indices_:\n",
    "    print(\"* Level\", deck1[\"tlevel\"][idx].item(), \":\", tdf.full_log[idx.item()])\n",
    "    print(\"----------------------------------------------------------------------------------------\")\n",
    "\n",
    "shown = True"
   ]
  }
 ],
 "metadata": {
  "kernelspec": {
   "display_name": "torch",
   "language": "python",
   "name": "torch"
  },
  "language_info": {
   "codemirror_mode": {
    "name": "ipython",
    "version": 3
   },
   "file_extension": ".py",
   "mimetype": "text/x-python",
   "name": "python",
   "nbconvert_exporter": "python",
   "pygments_lexer": "ipython3",
   "version": "3.7.10"
  }
 },
 "nbformat": 4,
 "nbformat_minor": 5
}
