{
 "cells": [
  {
   "cell_type": "code",
   "execution_count": null,
   "id": "dd6a1ad5-d6e1-47c5-8446-a6dfb98a58be",
   "metadata": {},
   "outputs": [],
   "source": []
  },
  {
   "cell_type": "code",
   "execution_count": 22,
   "id": "2a73c1e9-6c59-45b8-964d-f6cbbe929c27",
   "metadata": {},
   "outputs": [
    {
     "name": "stdout",
     "output_type": "stream",
     "text": [
      "*  Submit : File 'HKEY_LOCAL_MACHINE\\System\\CurrentControlSet\\Services\\CredentialEnrollmentManagerUserSvc_3cd2fea\\Security' was added.\n",
      "\n",
      "----------------------------------------------------------------------------------------\n",
      "*   index : 3217\n",
      "*    dist : 0.3058 0.3135 0.3142 0.3263\n",
      "* fc-level: tensor(3)\n",
      "----------------------------------------------------------------------------------------\n",
      "* Level 3 : File 'HKEY_LOCAL_MACHINE\\System\\CurrentControlSet\\Services\\BluetoothUserService_3cd2fea\\TriggerInfo\\2' was added.\n",
      "\n",
      "----------------------------------------------------------------------------------------\n",
      "* Level 3 : File 'HKEY_LOCAL_MACHINE\\System\\CurrentControlSet\\Services\\BluetoothUserService_3cd2fea\\TriggerInfo\\1' was added.\n",
      "\n",
      "----------------------------------------------------------------------------------------\n",
      "* Level 3 : File 'HKEY_LOCAL_MACHINE\\System\\CurrentControlSet\\Services\\BluetoothUserService_81f1a6\\TriggerInfo\\3' was added.\n",
      "\n",
      "----------------------------------------------------------------------------------------\n",
      "* Level 3 : File 'HKEY_LOCAL_MACHINE\\System\\CurrentControlSet\\Services\\BluetoothUserService_4ceeb83\\TriggerInfo\\4' was added.\n",
      "\n",
      "----------------------------------------------------------------------------------------\n"
     ]
    }
   ],
   "source": [
    "print(\"*  Submit :\", df.full_log[j - 1])\n",
    "print(\"----------------------------------------------------------------------------------------\")\n",
    "print(\"*   index :\", j - 1)\n",
    "print(\"*    dist :\", \" \".join(map(lambda x: f\"{x:.4f}\", values_.cpu().tolist())))\n",
    "print(\"* fc-level:\", deck2[\"fclevel\"][j - 1])\n",
    "print(\"----------------------------------------------------------------------------------------\")\n",
    "\n",
    "for idx in indices_:\n",
    "    print(\"* Level\", deck1[\"tlevel\"][idx].item(), \":\", tdf.full_log[idx.item()])\n",
    "    print(\"----------------------------------------------------------------------------------------\")\n",
    "\n",
    "shown = True"
   ]
  },
  {
   "cell_type": "code",
   "execution_count": 16,
   "id": "5b50e1dc-9c33-40ea-8c52-a2d5a7fa7ee5",
   "metadata": {},
   "outputs": [
    {
     "name": "stdout",
     "output_type": "stream",
     "text": [
      "*  Submit : Jan 28 22:39:00 localhost sshd[27582]: Invalid user zao from 95.111.236.177 port 35056\n",
      "----------------------------------------------------------------------------------------\n",
      "*   index : 2027\n",
      "*    dist : 0.3162 0.3183 0.3247 0.3259\n",
      "* fc-level: tensor(3)\n",
      "----------------------------------------------------------------------------------------\n",
      "* Level 3 : Jan 28 22:37:44 localhost sshd[27484]: Invalid user fuzhen from 95.111.236.177 port 53172\n",
      "----------------------------------------------------------------------------------------\n",
      "* Level 3 : Jan 28 22:53:51 localhost sshd[28692]: Invalid user postgresql from 95.111.236.177 port 53154\n",
      "----------------------------------------------------------------------------------------\n",
      "* Level 3 : Jan 28 22:54:34 localhost sshd[28747]: Invalid user shenyy from 95.111.236.177 port 36802\n",
      "----------------------------------------------------------------------------------------\n",
      "* Level 3 : Feb  1 15:03:32 localhost sshd[18698]: Invalid user tea45st1234 from 192.168.0.169 port 45564\n",
      "----------------------------------------------------------------------------------------\n"
     ]
    }
   ],
   "source": [
    "print(\"*  Submit :\", df.full_log[j - 1])\n",
    "print(\"----------------------------------------------------------------------------------------\")\n",
    "print(\"*   index :\", j - 1)\n",
    "print(\"*    dist :\", \" \".join(map(lambda x: f\"{x:.4f}\", values_.cpu().tolist())))\n",
    "print(\"* fc-level:\", deck2[\"fclevel\"][j - 1])\n",
    "print(\"----------------------------------------------------------------------------------------\")\n",
    "\n",
    "for idx in indices_:\n",
    "    print(\"* Level\", deck1[\"tlevel\"][idx].item(), \":\", tdf.full_log[idx.item()])\n",
    "    print(\"----------------------------------------------------------------------------------------\")\n",
    "\n",
    "shown = True"
   ]
  }
 ],
 "metadata": {
  "kernelspec": {
   "display_name": "torch",
   "language": "python",
   "name": "torch"
  },
  "language_info": {
   "codemirror_mode": {
    "name": "ipython",
    "version": 3
   },
   "file_extension": ".py",
   "mimetype": "text/x-python",
   "name": "python",
   "nbconvert_exporter": "python",
   "pygments_lexer": "ipython3",
   "version": "3.7.10"
  }
 },
 "nbformat": 4,
 "nbformat_minor": 5
}
