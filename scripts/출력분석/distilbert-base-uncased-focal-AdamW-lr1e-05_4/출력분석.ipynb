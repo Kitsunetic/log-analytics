{
 "cells": [
  {
   "cell_type": "code",
   "execution_count": 1,
   "id": "1e9b4cfc-6b77-4165-8d99-d30b9a707df8",
   "metadata": {},
   "outputs": [
    {
     "name": "stdout",
     "output_type": "stream",
     "text": [
      "/home/shim/cev/dl/log-analytics\n"
     ]
    }
   ],
   "source": [
    "%load_ext lab_black\n",
    "%cd ../../.."
   ]
  },
  {
   "cell_type": "code",
   "execution_count": 2,
   "id": "7a6a78d6-4b26-4db2-a212-b006bbf5a4f5",
   "metadata": {},
   "outputs": [],
   "source": [
    "import torch\n",
    "import numpy as np\n",
    "import pandas as pd\n",
    "import pickle"
   ]
  },
  {
   "cell_type": "code",
   "execution_count": 3,
   "id": "eea805ce-a12c-4f00-93a3-478a32a2ee02",
   "metadata": {},
   "outputs": [],
   "source": [
    "df = pd.read_csv(\"data/ori/test.csv\")"
   ]
  },
  {
   "cell_type": "code",
   "execution_count": 4,
   "id": "8d6feac0-2e2b-428b-92d9-2b4554903c0f",
   "metadata": {},
   "outputs": [],
   "source": [
    "tdf = pd.read_csv(\"data/ori/train.csv\")"
   ]
  },
  {
   "cell_type": "code",
   "execution_count": 5,
   "id": "e368344f-3eff-46fc-9a43-41b77ce9136b",
   "metadata": {},
   "outputs": [],
   "source": [
    "deck1 = torch.load(\"results/distilbert-base-uncased-ver7/distilbert-base-uncased-focal-AdamW-lr1e-05_4-deck1.pth\")\n",
    "deck2 = torch.load(\"results/distilbert-base-uncased-ver7/distilbert-base-uncased-focal-AdamW-lr1e-05_4-deck2.pth\")"
   ]
  },
  {
   "cell_type": "code",
   "execution_count": 6,
   "id": "5b2bbde3-a1c9-4bd8-9a07-bcf26c8ce0de",
   "metadata": {},
   "outputs": [
    {
     "data": {
      "text/plain": [
       "(torch.Size([472972, 768]), torch.Size([1418916, 768]))"
      ]
     },
     "execution_count": 6,
     "metadata": {},
     "output_type": "execute_result"
    }
   ],
   "source": [
    "deck1[\"feat\"].shape, deck2[\"feat\"].shape"
   ]
  },
  {
   "cell_type": "code",
   "execution_count": 7,
   "id": "d54b7897-c45e-43eb-a6a4-732bac098dea",
   "metadata": {},
   "outputs": [
    {
     "data": {
      "text/plain": [
       "(dict_keys(['fcfeat', 'tlevel', 'fclevel', 'feat']),\n",
       " dict_keys(['fcfeat', 'fclevel', 'feat']))"
      ]
     },
     "execution_count": 7,
     "metadata": {},
     "output_type": "execute_result"
    }
   ],
   "source": [
    "deck1.keys(), deck2.keys()"
   ]
  },
  {
   "cell_type": "code",
   "execution_count": 8,
   "id": "38e5fafd-ebda-4ab2-a06b-6e6a17caa59a",
   "metadata": {},
   "outputs": [],
   "source": [
    "deck1[\"feat_\"] = deck1[\"feat\"].cuda()\n",
    "deck2[\"feat_\"] = deck2[\"feat\"].cuda()"
   ]
  },
  {
   "cell_type": "code",
   "execution_count": 9,
   "id": "36d0f380-cb67-4d00-ae9d-186d2de14603",
   "metadata": {},
   "outputs": [],
   "source": [
    "j = 0\n",
    "shown = False"
   ]
  },
  {
   "cell_type": "code",
   "execution_count": 10,
   "id": "6f2930a5-16b2-41a4-ba8b-ef7108939f5e",
   "metadata": {},
   "outputs": [
    {
     "name": "stdout",
     "output_type": "stream",
     "text": [
      "values: tensor([0., 0., 0., 0.], device='cuda:0')\n",
      "indices: tensor([406, 215, 521, 748], device='cuda:0')\n",
      "id: tensor([0, 0, 0, 0])\n"
     ]
    }
   ],
   "source": [
    "dist_ = torch.norm(deck1[\"feat_\"] - deck2[\"feat_\"][j, None], p=None, dim=1)\n",
    "values_, indices_ = dist_.topk(4, largest=False)\n",
    "tlevels = deck1[\"tlevel\"][indices_]\n",
    "print(\"values:\", values_)\n",
    "print(\"indices:\", indices_)\n",
    "print(\"id:\", deck1[\"tlevel\"][indices_])\n",
    "j += 1"
   ]
  },
  {
   "cell_type": "code",
   "execution_count": null,
   "id": "d0eb83d3-88b0-4942-8e32-3a61d8264cf4",
   "metadata": {},
   "outputs": [],
   "source": [
    "while shown or (deck1[\"tlevel\"][indices_[0]] in [0, 1, 3, 5] and values_[0] < 0.3):\n",
    "    # while shown or (deck1[\"tlevel\"][indices_[0]] in [0, 1, 3, 5]):\n",
    "    shown = False\n",
    "\n",
    "    dist_ = torch.norm(deck1[\"feat_\"] - deck2[\"feat_\"][j, None], p=None, dim=1)\n",
    "    values_, indices_ = dist_.topk(4, largest=False)\n",
    "    tlevels = deck1[\"tlevel\"][indices_]\n",
    "    # print(\"values:\", values)\n",
    "    # print(\"indices:\", indices)\n",
    "    # print(\"id:\", deck1[\"tlevel\"][indices])\n",
    "    j += 1"
   ]
  },
  {
   "cell_type": "code",
   "execution_count": null,
   "id": "797f4478-58c0-46d4-ac91-4cee48a1396e",
   "metadata": {},
   "outputs": [],
   "source": [
    "print(\"*  Submit :\", df.full_log[j - 1])\n",
    "print(\"----------------------------------------------------------------------------------------\")\n",
    "print(\"*   index :\", j - 1)\n",
    "print(\"*    dist :\", \" \".join(map(lambda x: f\"{x:.4f}\", values_.cpu().tolist())))\n",
    "print(\"* fc-level:\", deck2[\"fclevel\"][j - 1])\n",
    "print(\"----------------------------------------------------------------------------------------\")\n",
    "\n",
    "for idx in indices_:\n",
    "    print(\"* Level\", deck1[\"tlevel\"][idx].item(), \":\", tdf.full_log[idx.item()])\n",
    "    print(\"----------------------------------------------------------------------------------------\")\n",
    "\n",
    "shown = True"
   ]
  },
  {
   "cell_type": "markdown",
   "id": "07166d10-e8db-4f6f-b45c-523915530cca",
   "metadata": {},
   "source": [
    "---\n",
    "\n",
    "0.91 나온 녀석도 어떤건 0.3보다 커도 level7이 아닌 것 같은게 있었지만, 그냥 0.3으로 통일해서 냈을 때가 가장 점수가 높았다.\n",
    "\n",
    "그래도 level5는 높게 잡아줘야 하지 않을까? 아니면 길이랑 상관관계가 있을 것 같기도?\n",
    "\n",
    "```\n",
    "threshold = 0.3 + 0.2 * (token_length / 256 - 1) ??\n",
    "```\n",
    "\n",
    "길이가 꽉차면 0.5, 짧을 수록 0.1 ??\n",
    "\n",
    "아니멸 fc_level 때문이었는지도 모르고"
   ]
  },
  {
   "cell_type": "code",
   "execution_count": null,
   "id": "22c438c4-814d-4d17-87de-7bbee351f7bf",
   "metadata": {},
   "outputs": [],
   "source": []
  }
 ],
 "metadata": {
  "kernelspec": {
   "display_name": "torch",
   "language": "python",
   "name": "torch"
  },
  "language_info": {
   "codemirror_mode": {
    "name": "ipython",
    "version": 3
   },
   "file_extension": ".py",
   "mimetype": "text/x-python",
   "name": "python",
   "nbconvert_exporter": "python",
   "pygments_lexer": "ipython3",
   "version": "3.7.10"
  }
 },
 "nbformat": 4,
 "nbformat_minor": 5
}
