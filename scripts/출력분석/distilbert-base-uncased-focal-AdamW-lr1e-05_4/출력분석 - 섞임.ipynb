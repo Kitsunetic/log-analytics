{
 "cells": [
  {
   "cell_type": "code",
   "execution_count": null,
   "id": "ed7c7af1-1792-41d6-9455-12079cbc3c3e",
   "metadata": {},
   "outputs": [],
   "source": []
  },
  {
   "cell_type": "code",
   "execution_count": 36,
   "id": "08102b8f-d8bf-4c5a-8c40-5d7e466798d3",
   "metadata": {},
   "outputs": [
    {
     "name": "stdout",
     "output_type": "stream",
     "text": [
      "*  Submit : level : 5, log : user-type User username cleared in MacAddress mac-addresse interface interface-name vlan vlan-name due to ether-table ageout\n",
      "----------------------------------------------------------------------------------------\n",
      "*   index : 10775\n",
      "*    dist : 0.3043 0.3060 0.3321 0.3321\n",
      "* fc-level: tensor(0)\n",
      "----------------------------------------------------------------------------------------\n",
      "* Level 1 : level : 5, log : user-type User username EAP Logoff received from MacAddress mac-addresse interface interface-name vlan vlan-name while authenticated\n",
      "----------------------------------------------------------------------------------------\n",
      "* Level 1 : level : 5, log : user-type User username EAP Logoff received from MacAddress mac-addresse interface interface-name vlan vlan-name while authenticating\n",
      "----------------------------------------------------------------------------------------\n",
      "* Level 1 : level : 5, log : OSPF neighbor neighbor-address (realm realm-name interface-name area area-idi) state changed from old-state to new-state due to event-name (event reason: reason)\n",
      "----------------------------------------------------------------------------------------\n",
      "* Level 0 : level : 5, log : OSPF neighbor neighbor-address (realm realm-name interface-name area area-idi) state changed from old-state to new-state due to event-name (event reason: reason)\n",
      "----------------------------------------------------------------------------------------\n"
     ]
    }
   ],
   "source": [
    "print(\"*  Submit :\", df.full_log[j - 1])\n",
    "print(\"----------------------------------------------------------------------------------------\")\n",
    "print(\"*   index :\", j - 1)\n",
    "print(\"*    dist :\", \" \".join(map(lambda x: f\"{x:.4f}\", values_.cpu().tolist())))\n",
    "print(\"* fc-level:\", deck2[\"fclevel\"][j - 1])\n",
    "print(\"----------------------------------------------------------------------------------------\")\n",
    "\n",
    "for idx in indices_:\n",
    "    print(\"* Level\", deck1[\"tlevel\"][idx].item(), \":\", tdf.full_log[idx.item()])\n",
    "    print(\"----------------------------------------------------------------------------------------\")\n",
    "\n",
    "shown = True"
   ]
  },
  {
   "cell_type": "code",
   "execution_count": 20,
   "id": "ab24ef74-571a-4668-aff3-b13fbd861565",
   "metadata": {},
   "outputs": [
    {
     "name": "stdout",
     "output_type": "stream",
     "text": [
      "*  Submit : level : 5, log : operation operation failed: peer peer-name (index peer-id) reason\n",
      "----------------------------------------------------------------------------------------\n",
      "*   index : 2964\n",
      "*    dist : 0.4628 0.4873 0.4873 0.4873\n",
      "* fc-level: tensor(0)\n",
      "----------------------------------------------------------------------------------------\n",
      "* Level 0 : level : 5, log : Fchip fchip-id: read error in function-name() for link#link-id, at address address in register register\n",
      "----------------------------------------------------------------------------------------\n",
      "* Level 1 : level : 3, log : In enclosing-function-name: function-name() returned: reason\n",
      "----------------------------------------------------------------------------------------\n",
      "* Level 1 : level : 5, log : Usage: jsrpd [-C] [-N] [-X] [-d debug-level] [-l] [-v]\n",
      "----------------------------------------------------------------------------------------\n",
      "* Level 0 : level : 5, log : Usage: jsrpd [-C] [-N] [-X] [-d debug-level] [-l] [-v]\n",
      "----------------------------------------------------------------------------------------\n"
     ]
    }
   ],
   "source": [
    "print(\"*  Submit :\", df.full_log[j - 1])\n",
    "print(\"----------------------------------------------------------------------------------------\")\n",
    "print(\"*   index :\", j - 1)\n",
    "print(\"*    dist :\", \" \".join(map(lambda x: f\"{x:.4f}\", values_.cpu().tolist())))\n",
    "print(\"* fc-level:\", deck2[\"fclevel\"][j - 1])\n",
    "print(\"----------------------------------------------------------------------------------------\")\n",
    "\n",
    "for idx in indices_:\n",
    "    print(\"* Level\", deck1[\"tlevel\"][idx].item(), \":\", tdf.full_log[idx.item()])\n",
    "    print(\"----------------------------------------------------------------------------------------\")\n",
    "\n",
    "shown = True"
   ]
  }
 ],
 "metadata": {
  "kernelspec": {
   "display_name": "torch",
   "language": "python",
   "name": "torch"
  },
  "language_info": {
   "codemirror_mode": {
    "name": "ipython",
    "version": 3
   },
   "file_extension": ".py",
   "mimetype": "text/x-python",
   "name": "python",
   "nbconvert_exporter": "python",
   "pygments_lexer": "ipython3",
   "version": "3.7.10"
  }
 },
 "nbformat": 4,
 "nbformat_minor": 5
}
