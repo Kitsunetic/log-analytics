{
 "cells": [
  {
   "cell_type": "code",
   "execution_count": null,
   "id": "ad89467b-d32e-44e9-8722-f41b1b4d0df1",
   "metadata": {},
   "outputs": [],
   "source": []
  },
  {
   "cell_type": "code",
   "execution_count": 44,
   "id": "533e6b9f-a0d6-41f3-9240-7d32374861f5",
   "metadata": {},
   "outputs": [
    {
     "name": "stdout",
     "output_type": "stream",
     "text": [
      "*  Submit : The average number of logs between 6:00 and 7:00 is 6708. We reached 48588.\n",
      "----------------------------------------------------------------------------------------\n",
      "*   index : 13058\n",
      "*    dist : 0.0974 0.1246 0.1337 0.1379\n",
      "* fc-level: tensor(2)\n",
      "----------------------------------------------------------------------------------------\n",
      "* Level 2 : The average number of logs between 6:00 and 7:00 is 6420. We reached 28494.\n",
      "----------------------------------------------------------------------------------------\n",
      "* Level 2 : The average number of logs between 10:00 and 11:00 is 12612. We reached 31532.\n",
      "----------------------------------------------------------------------------------------\n",
      "* Level 2 : The average number of logs between 13:00 and 14:00 is 2697. We reached 93028.\n",
      "----------------------------------------------------------------------------------------\n",
      "* Level 2 : The average number of logs between 5:00 and 6:00 is 222. We reached 77946.\n",
      "----------------------------------------------------------------------------------------\n"
     ]
    }
   ],
   "source": [
    "print(\"*  Submit :\", df.full_log[j - 1])\n",
    "print(\"----------------------------------------------------------------------------------------\")\n",
    "print(\"*   index :\", j - 1)\n",
    "print(\"*    dist :\", \" \".join(map(lambda x: f\"{x:.4f}\", values_.cpu().tolist())))\n",
    "print(\"* fc-level:\", deck2[\"fclevel\"][j - 1])\n",
    "print(\"----------------------------------------------------------------------------------------\")\n",
    "\n",
    "for idx in indices_:\n",
    "    print(\"* Level\", deck1[\"tlevel\"][idx].item(), \":\", tdf.full_log[idx.item()])\n",
    "    print(\"----------------------------------------------------------------------------------------\")\n",
    "\n",
    "shown = True"
   ]
  }
 ],
 "metadata": {
  "kernelspec": {
   "display_name": "torch",
   "language": "python",
   "name": "torch"
  },
  "language_info": {
   "codemirror_mode": {
    "name": "ipython",
    "version": 3
   },
   "file_extension": ".py",
   "mimetype": "text/x-python",
   "name": "python",
   "nbconvert_exporter": "python",
   "pygments_lexer": "ipython3",
   "version": "3.7.10"
  }
 },
 "nbformat": 4,
 "nbformat_minor": 5
}
