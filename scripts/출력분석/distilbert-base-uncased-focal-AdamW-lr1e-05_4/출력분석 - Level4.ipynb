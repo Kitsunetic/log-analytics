{
 "cells": [
  {
   "cell_type": "code",
   "execution_count": null,
   "id": "c8de65a7-2c14-4a6e-bc7c-0e4c31c18c69",
   "metadata": {},
   "outputs": [],
   "source": []
  },
  {
   "cell_type": "code",
   "execution_count": 35,
   "id": "ec8a99fa-99f1-4e2b-a065-8dd7090c177d",
   "metadata": {},
   "outputs": [
    {
     "name": "stdout",
     "output_type": "stream",
     "text": [
      "*  Submit : month day time localhost sshd pid : Did not receive identification string from ip port\n",
      "----------------------------------------------------------------------------------------\n",
      "*   index : 64331\n",
      "*    dist : 0.0042 0.1157 0.2792 0.3666\n",
      "* fc-level: tensor(4)\n",
      "----------------------------------------------------------------------------------------\n",
      "* Level 4 : month day time localhost sshd pid : Did not receive identification string from ip port\n",
      "----------------------------------------------------------------------------------------\n",
      "* Level 4 : month 3 time localhost sshd pid : Did not receive identification string from ip port\n",
      "----------------------------------------------------------------------------------------\n",
      "* Level 4 : month day time sv260 sshd pid : Did not receive identification string from ip\n",
      "----------------------------------------------------------------------------------------\n",
      "* Level 4 : month 8 time sv260 sshd pid : Did not receive identification string from ip\n",
      "----------------------------------------------------------------------------------------\n"
     ]
    }
   ],
   "source": [
    "print(\"*  Submit :\", deck2[\"otext\"][j - 1])\n",
    "print(\"----------------------------------------------------------------------------------------\")\n",
    "print(\"*   index :\", j - 1)\n",
    "print(\"*    dist :\", \" \".join(map(lambda x: f\"{x:.4f}\", values_.cpu().tolist())))\n",
    "print(\"* fc-level:\", deck2[\"fcfeat\"][j - 1].argmax())\n",
    "print(\"----------------------------------------------------------------------------------------\")\n",
    "\n",
    "for idx in indices_:\n",
    "    print(\"* Level\", deck1[\"tlevel\"][idx].item(), \":\", deck1[\"otext\"][idx])\n",
    "    print(\"----------------------------------------------------------------------------------------\")\n",
    "\n",
    "shown = True"
   ]
  },
  {
   "cell_type": "code",
   "execution_count": 35,
   "id": "0ede6a5b-1e0e-4fea-ab6c-6b4d541ca1d7",
   "metadata": {},
   "outputs": [
    {
     "name": "stdout",
     "output_type": "stream",
     "text": [
      "*  Submit : month day time localhost sshd pid : Did not receive identification string from ip port\n",
      "----------------------------------------------------------------------------------------\n",
      "*   index : 64331\n",
      "*    dist : 0.0042 0.1157 0.2792 0.3666\n",
      "* fc-level: tensor(4)\n",
      "----------------------------------------------------------------------------------------\n",
      "* Level 4 : month day time localhost sshd pid : Did not receive identification string from ip port\n",
      "----------------------------------------------------------------------------------------\n",
      "* Level 4 : month 3 time localhost sshd pid : Did not receive identification string from ip port\n",
      "----------------------------------------------------------------------------------------\n",
      "* Level 4 : month day time sv260 sshd pid : Did not receive identification string from ip\n",
      "----------------------------------------------------------------------------------------\n",
      "* Level 4 : month 8 time sv260 sshd pid : Did not receive identification string from ip\n",
      "----------------------------------------------------------------------------------------\n"
     ]
    }
   ],
   "source": [
    "print(\"*  Submit :\", deck2[\"otext\"][j - 1])\n",
    "print(\"----------------------------------------------------------------------------------------\")\n",
    "print(\"*   index :\", j - 1)\n",
    "print(\"*    dist :\", \" \".join(map(lambda x: f\"{x:.4f}\", values_.cpu().tolist())))\n",
    "print(\"* fc-level:\", deck2[\"fcfeat\"][j - 1].argmax())\n",
    "print(\"----------------------------------------------------------------------------------------\")\n",
    "\n",
    "for idx in indices_:\n",
    "    print(\"* Level\", deck1[\"tlevel\"][idx].item(), \":\", deck1[\"otext\"][idx])\n",
    "    print(\"----------------------------------------------------------------------------------------\")\n",
    "\n",
    "shown = True"
   ]
  },
  {
   "cell_type": "code",
   "execution_count": 27,
   "id": "05411dfc-dab4-46bf-8ac4-a2bd34a4cacc",
   "metadata": {},
   "outputs": [
    {
     "name": "stdout",
     "output_type": "stream",
     "text": [
      "*  Submit : month 8 time localhost sshd pid : Did not receive identification string from ip port\n",
      "----------------------------------------------------------------------------------------\n",
      "*   index : 34161\n",
      "*    dist : 0.1306 0.1614 0.1746 0.2496\n",
      "* fc-level: tensor(4)\n",
      "----------------------------------------------------------------------------------------\n",
      "* Level 4 : month day time localhost sshd pid : Did not receive identification string from ip port\n",
      "----------------------------------------------------------------------------------------\n",
      "* Level 4 : month 3 time localhost sshd pid : Did not receive identification string from ip port\n",
      "----------------------------------------------------------------------------------------\n",
      "* Level 4 : month day time sv260 sshd pid : Did not receive identification string from ip\n",
      "----------------------------------------------------------------------------------------\n",
      "* Level 4 : month 8 time sv260 sshd pid : Did not receive identification string from ip\n",
      "----------------------------------------------------------------------------------------\n"
     ]
    }
   ],
   "source": [
    "print(\"*  Submit :\", deck2[\"otext\"][j - 1])\n",
    "print(\"----------------------------------------------------------------------------------------\")\n",
    "print(\"*   index :\", j - 1)\n",
    "print(\"*    dist :\", \" \".join(map(lambda x: f\"{x:.4f}\", values_.cpu().tolist())))\n",
    "print(\"* fc-level:\", deck2[\"fcfeat\"][j - 1].argmax())\n",
    "print(\"----------------------------------------------------------------------------------------\")\n",
    "\n",
    "for idx in indices_:\n",
    "    print(\"* Level\", deck1[\"tlevel\"][idx].item(), \":\", deck1[\"otext\"][idx])\n",
    "    print(\"----------------------------------------------------------------------------------------\")\n",
    "\n",
    "shown = True"
   ]
  },
  {
   "cell_type": "code",
   "execution_count": 95,
   "id": "a191dff0-5fdf-4a70-a7ed-318d597cb4a6",
   "metadata": {},
   "outputs": [
    {
     "name": "stdout",
     "output_type": "stream",
     "text": [
      "*  Submit : month 8 time localhost sshd pid : Did not receive identification string from ip port\n",
      "----------------------------------------------------------------------------------------\n",
      "*   index : 34161\n",
      "*    dist : 0.1306 0.1306 0.1306 0.1614\n",
      "* fc-level: tensor(4)\n",
      "----------------------------------------------------------------------------------------\n",
      "* Level 4 : month day time localhost sshd pid : Did not receive identification string from ip port\n",
      "----------------------------------------------------------------------------------------\n",
      "* Level 4 : month day time localhost sshd pid : Did not receive identification string from ip port\n",
      "----------------------------------------------------------------------------------------\n",
      "* Level 4 : month day time localhost sshd pid : Did not receive identification string from ip port\n",
      "----------------------------------------------------------------------------------------\n",
      "* Level 4 : month 3 time localhost sshd pid : Did not receive identification string from ip port\n",
      "----------------------------------------------------------------------------------------\n"
     ]
    }
   ],
   "source": [
    "print(\"*  Submit :\", deck2[\"otext\"][j - 1])\n",
    "print(\"----------------------------------------------------------------------------------------\")\n",
    "print(\"*   index :\", j - 1)\n",
    "print(\"*    dist :\", \" \".join(map(lambda x: f\"{x:.4f}\", values_.cpu().tolist())))\n",
    "print(\"* fc-level:\", deck2[\"fcfeat\"][j - 1].argmax())\n",
    "print(\"----------------------------------------------------------------------------------------\")\n",
    "\n",
    "for idx in indices_:\n",
    "    print(\"* Level\", deck1[\"tlevel\"][idx].item(), \":\", deck1[\"otext\"][idx])\n",
    "    print(\"----------------------------------------------------------------------------------------\")\n",
    "\n",
    "shown = True"
   ]
  }
 ],
 "metadata": {
  "kernelspec": {
   "display_name": "torch",
   "language": "python",
   "name": "torch"
  },
  "language_info": {
   "codemirror_mode": {
    "name": "ipython",
    "version": 3
   },
   "file_extension": ".py",
   "mimetype": "text/x-python",
   "name": "python",
   "nbconvert_exporter": "python",
   "pygments_lexer": "ipython3",
   "version": "3.7.10"
  }
 },
 "nbformat": 4,
 "nbformat_minor": 5
}
