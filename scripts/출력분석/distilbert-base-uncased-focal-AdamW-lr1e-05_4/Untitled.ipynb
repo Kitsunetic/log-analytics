{
 "cells": [
  {
   "cell_type": "code",
   "execution_count": 1,
   "id": "2866bcea-0f79-4eaf-a387-40015753e1ab",
   "metadata": {},
   "outputs": [
    {
     "name": "stdout",
     "output_type": "stream",
     "text": [
      "/home/shim/cev/dl/log-analytics\n"
     ]
    }
   ],
   "source": [
    "%load_ext lab_black\n",
    "%cd ../../.."
   ]
  },
  {
   "cell_type": "code",
   "execution_count": 2,
   "id": "9961bbba-b81f-4eb0-8462-8484c1b96949",
   "metadata": {},
   "outputs": [],
   "source": [
    "import torch\n",
    "import numpy as np"
   ]
  },
  {
   "cell_type": "code",
   "execution_count": 3,
   "id": "9c44a218-a8f0-4ad0-953f-31af93359edc",
   "metadata": {},
   "outputs": [],
   "source": [
    "deck3 = np.load(\"results/distilbert-base-uncased-ver7/distilbert-base-uncased-focal-AdamW-lr1e-05_4-deck3.npz\")"
   ]
  },
  {
   "cell_type": "code",
   "execution_count": 4,
   "id": "2cfd4266-28ea-46e4-8949-6e308f9c0638",
   "metadata": {},
   "outputs": [],
   "source": [
    "deck3_ = {k: torch.tensor(v) for k, v in deck3.items()}"
   ]
  },
  {
   "cell_type": "code",
   "execution_count": 5,
   "id": "f5531546-4410-4958-8080-3ed3ca09f1a3",
   "metadata": {},
   "outputs": [],
   "source": [
    "torch.save(\n",
    "    deck3_, \"results/distilbert-base-uncased-ver7/distilbert-base-uncased-focal-AdamW-lr1e-05_4-deck3.pth\", pickle_protocol=4\n",
    ")"
   ]
  },
  {
   "cell_type": "code",
   "execution_count": null,
   "id": "4edae4dc-86f5-471a-a5c7-fcf8c12a546b",
   "metadata": {},
   "outputs": [],
   "source": []
  }
 ],
 "metadata": {
  "kernelspec": {
   "display_name": "torch",
   "language": "python",
   "name": "torch"
  },
  "language_info": {
   "codemirror_mode": {
    "name": "ipython",
    "version": 3
   },
   "file_extension": ".py",
   "mimetype": "text/x-python",
   "name": "python",
   "nbconvert_exporter": "python",
   "pygments_lexer": "ipython3",
   "version": "3.7.10"
  }
 },
 "nbformat": 4,
 "nbformat_minor": 5
}
