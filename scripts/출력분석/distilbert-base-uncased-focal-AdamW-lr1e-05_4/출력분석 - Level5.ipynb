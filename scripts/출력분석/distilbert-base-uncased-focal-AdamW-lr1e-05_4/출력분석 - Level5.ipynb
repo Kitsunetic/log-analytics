{
 "cells": [
  {
   "cell_type": "code",
   "execution_count": null,
   "id": "6c03317f-77cf-41c9-a5ef-63606ae62f14",
   "metadata": {},
   "outputs": [],
   "source": []
  },
  {
   "cell_type": "code",
   "execution_count": 28,
   "id": "05d557c6-c14f-465b-8f9d-5d13cf8abd72",
   "metadata": {},
   "outputs": [
    {
     "name": "stdout",
     "output_type": "stream",
     "text": [
      "*  Submit : Jan 20 13:28:30 localhost yum[1013]: Installed: 1:java-11-openjdk-11.0.9.11-2.el7_9.x86_64\n",
      "----------------------------------------------------------------------------------------\n",
      "*   index : 4859\n",
      "*    dist : 0.3417 0.4351 0.4779 0.5311\n",
      "* fc-level: tensor(5)\n",
      "----------------------------------------------------------------------------------------\n",
      "* Level 5 : Jan 15 15:55:41 localhost yum[26878]: Installed: 1:openssl-devel-1.0.2k-21.el7_9.x86_64\n",
      "----------------------------------------------------------------------------------------\n",
      "* Level 5 : Jan 15 15:55:43 localhost yum[26878]: Installed: bzip2-devel-1.0.6-13.el7.x86_64\n",
      "----------------------------------------------------------------------------------------\n",
      "* Level 5 : Jan 15 15:55:40 localhost yum[26878]: Installed: libverto-devel-0.2.5-4.el7.x86_64\n",
      "----------------------------------------------------------------------------------------\n",
      "* Level 5 : Jan 15 15:55:43 localhost yum[26878]: Installed: libffi-devel-3.0.13-19.el7.x86_64\n",
      "----------------------------------------------------------------------------------------\n"
     ]
    }
   ],
   "source": [
    "print(\"*  Submit :\", df.full_log[j - 1])\n",
    "print(\"----------------------------------------------------------------------------------------\")\n",
    "print(\"*   index :\", j - 1)\n",
    "print(\"*    dist :\", \" \".join(map(lambda x: f\"{x:.4f}\", values_.cpu().tolist())))\n",
    "print(\"* fc-level:\", deck2[\"fclevel\"][j - 1])\n",
    "print(\"----------------------------------------------------------------------------------------\")\n",
    "\n",
    "for idx in indices_:\n",
    "    print(\"* Level\", deck1[\"tlevel\"][idx].item(), \":\", tdf.full_log[idx.item()])\n",
    "    print(\"----------------------------------------------------------------------------------------\")\n",
    "\n",
    "shown = True"
   ]
  },
  {
   "cell_type": "code",
   "execution_count": 26,
   "id": "76ec91e8-bd55-49ae-953d-b70a12696df1",
   "metadata": {},
   "outputs": [
    {
     "name": "stdout",
     "output_type": "stream",
     "text": [
      "*  Submit : File '/etc/objrepos/FRUs_src' checksum changed.\n",
      "Old modification time was: 'Thu Nov 19 05:00:48 2020', now it is 'Fri Nov 20 05:00:48 2020'\n",
      "\n",
      "----------------------------------------------------------------------------------------\n",
      "*   index : 4774\n",
      "*    dist : 0.3581 0.4680 0.5105 0.5580\n",
      "* fc-level: tensor(5)\n",
      "----------------------------------------------------------------------------------------\n",
      "* Level 5 : File '/etc/objrepos/FRUB_SRC' checksum changed.\n",
      "Old modification time was: 'Wed Nov 18 04:00:53 2020', now it is 'Wed Nov 18 10:42:41 2020'\n",
      "\n",
      "----------------------------------------------------------------------------------------\n",
      "* Level 5 : File '/boot/efi/EFI/BOOT/BOOTX64.EFI' checksum changed.\n",
      "Old inode was: '150', now it is '153'\n",
      "\n",
      "----------------------------------------------------------------------------------------\n",
      "* Level 5 : File '/boot/efi/EFI/BOOT/fallback.efi' checksum changed.\n",
      "Old inode was: '151', now it is '154'\n",
      "\n",
      "----------------------------------------------------------------------------------------\n",
      "* Level 5 : File '/boot/efi/EFI/centos/grubenv' checksum changed.\n",
      "Old inode was: '140', now it is '208'\n",
      "\n",
      "----------------------------------------------------------------------------------------\n"
     ]
    }
   ],
   "source": [
    "print(\"*  Submit :\", df.full_log[j - 1])\n",
    "print(\"----------------------------------------------------------------------------------------\")\n",
    "print(\"*   index :\", j - 1)\n",
    "print(\"*    dist :\", \" \".join(map(lambda x: f\"{x:.4f}\", values_.cpu().tolist())))\n",
    "print(\"* fc-level:\", deck2[\"fclevel\"][j - 1])\n",
    "print(\"----------------------------------------------------------------------------------------\")\n",
    "\n",
    "for idx in indices_:\n",
    "    print(\"* Level\", deck1[\"tlevel\"][idx].item(), \":\", tdf.full_log[idx.item()])\n",
    "    print(\"----------------------------------------------------------------------------------------\")\n",
    "\n",
    "shown = True"
   ]
  },
  {
   "cell_type": "code",
   "execution_count": 12,
   "id": "eed9aecf-d41c-4d97-8eb5-cea0a0d01500",
   "metadata": {},
   "outputs": [
    {
     "name": "stdout",
     "output_type": "stream",
     "text": [
      "*  Submit : Jan 15 15:55:37 localhost yum[26878]: Updated: 1:openssl-libs-1.0.2k-21.el7_9.x86_64\n",
      "----------------------------------------------------------------------------------------\n",
      "*   index : 675\n",
      "*    dist : 0.6023 0.6137 0.6984 0.7112\n",
      "* fc-level: tensor(5)\n",
      "----------------------------------------------------------------------------------------\n",
      "* Level 5 : Nov 16 17:20:40 localhost yum[32411]: Updated: openscap-scanner-1.2.17-11.el7.x86_64\n",
      "----------------------------------------------------------------------------------------\n",
      "* Level 5 : Jan 15 15:55:38 localhost yum[26878]: Updated: e2fsprogs-libs-1.42.9-19.el7.x86_64\n",
      "----------------------------------------------------------------------------------------\n",
      "* Level 5 : Jan 15 15:55:37 localhost yum[26878]: Updated: libgcc-4.8.5-44.el7.x86_64\n",
      "----------------------------------------------------------------------------------------\n",
      "* Level 5 : Jan 15 15:55:38 localhost yum[26878]: Updated: libss-1.42.9-19.el7.x86_64\n",
      "----------------------------------------------------------------------------------------\n"
     ]
    }
   ],
   "source": [
    "print(\"*  Submit :\", df.full_log[j - 1])\n",
    "print(\"----------------------------------------------------------------------------------------\")\n",
    "print(\"*   index :\", j - 1)\n",
    "print(\"*    dist :\", \" \".join(map(lambda x: f\"{x:.4f}\", values_.cpu().tolist())))\n",
    "print(\"* fc-level:\", deck2[\"fclevel\"][j - 1])\n",
    "print(\"----------------------------------------------------------------------------------------\")\n",
    "\n",
    "for idx in indices_:\n",
    "    print(\"* Level\", deck1[\"tlevel\"][idx].item(), \":\", tdf.full_log[idx.item()])\n",
    "    print(\"----------------------------------------------------------------------------------------\")\n",
    "\n",
    "shown = True"
   ]
  }
 ],
 "metadata": {
  "kernelspec": {
   "display_name": "torch",
   "language": "python",
   "name": "torch"
  },
  "language_info": {
   "codemirror_mode": {
    "name": "ipython",
    "version": 3
   },
   "file_extension": ".py",
   "mimetype": "text/x-python",
   "name": "python",
   "nbconvert_exporter": "python",
   "pygments_lexer": "ipython3",
   "version": "3.7.10"
  }
 },
 "nbformat": 4,
 "nbformat_minor": 5
}
