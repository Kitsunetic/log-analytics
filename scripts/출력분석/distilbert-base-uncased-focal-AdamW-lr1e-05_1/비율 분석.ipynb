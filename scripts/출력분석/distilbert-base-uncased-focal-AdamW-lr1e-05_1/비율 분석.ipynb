{
 "cells": [
  {
   "cell_type": "code",
   "execution_count": 1,
   "id": "94acec80-ce64-49a1-9935-d72657f38d42",
   "metadata": {},
   "outputs": [
    {
     "name": "stdout",
     "output_type": "stream",
     "text": [
      "/mnt/h/hev/log-analytics\n"
     ]
    }
   ],
   "source": [
    "%load_ext lab_black\n",
    "%cd ../../.."
   ]
  },
  {
   "cell_type": "code",
   "execution_count": 2,
   "id": "fc3fbf2b-dd0d-4961-9b8e-76edc4eca454",
   "metadata": {},
   "outputs": [],
   "source": [
    "import pandas as pd\n",
    "import numpy as np"
   ]
  },
  {
   "cell_type": "code",
   "execution_count": 24,
   "id": "5c16e636-daf1-4629-9f4b-906dfbe9a282",
   "metadata": {},
   "outputs": [],
   "source": [
    "df = pd.read_csv(\"results/distilbert-base-uncased-ver7/distilbert-base-uncased-focal-AdamW-lr1e-05-ver7-os10_3-out_ver1.csv\")"
   ]
  },
  {
   "cell_type": "code",
   "execution_count": 25,
   "id": "3d893209-0061-4661-ab88-21ab111c30ae",
   "metadata": {},
   "outputs": [],
   "source": [
    "levels = df.level.to_numpy()"
   ]
  },
  {
   "cell_type": "code",
   "execution_count": 26,
   "id": "3f84e6c3-95d9-4e8e-9144-c9a524abd873",
   "metadata": {},
   "outputs": [
    {
     "name": "stdout",
     "output_type": "stream",
     "text": [
      "0:    1003921, 70.75%\n",
      "1:     394971, 27.84%\n",
      "2:         42, 0.00%\n",
      "3:      12936, 0.91%\n",
      "4:         34, 0.00%\n",
      "5:       6333, 0.45%\n",
      "6:         31, 0.00%\n",
      "7:        648, 0.05%\n"
     ]
    }
   ],
   "source": [
    "# 각 레벨별 개수 threshold 20\n",
    "for i in range(8):\n",
    "    cnt = (levels == i).sum()\n",
    "    print(f\"{i}: {cnt:10}, {cnt / len(levels)*100:.2f}%\")"
   ]
  },
  {
   "cell_type": "markdown",
   "id": "54d31d8a-b86a-44ee-92ba-ca9051e231af",
   "metadata": {},
   "source": [
    "```\n",
    "0 : 1003921 70.75%\n",
    "1 : 394971 27.84%\n",
    "2 : 42 0.00%\n",
    "3 : 12936 0.91%\n",
    "4 : 34 0.00%\n",
    "5 : 6333 0.45%\n",
    "6 : 31 0.00%\n",
    "7 : 648 0.05%\n",
    "```"
   ]
  },
  {
   "cell_type": "code",
   "execution_count": null,
   "id": "9ea15aa5-fe1f-4b1b-8480-bcc980445507",
   "metadata": {},
   "outputs": [],
   "source": []
  }
 ],
 "metadata": {
  "kernelspec": {
   "display_name": "torch",
   "language": "python",
   "name": "torch"
  },
  "language_info": {
   "codemirror_mode": {
    "name": "ipython",
    "version": 3
   },
   "file_extension": ".py",
   "mimetype": "text/x-python",
   "name": "python",
   "nbconvert_exporter": "python",
   "pygments_lexer": "ipython3",
   "version": "3.7.9"
  }
 },
 "nbformat": 4,
 "nbformat_minor": 5
}
