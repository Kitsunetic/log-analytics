{
 "cells": [
  {
   "cell_type": "code",
   "execution_count": 1,
   "id": "empirical-hobby",
   "metadata": {},
   "outputs": [
    {
     "name": "stdout",
     "output_type": "stream",
     "text": [
      "/mnt/h/hev/log-analytics\n"
     ]
    }
   ],
   "source": [
    "%load_ext lab_black\n",
    "%cd ../../.."
   ]
  },
  {
   "cell_type": "code",
   "execution_count": 2,
   "id": "fabulous-bible",
   "metadata": {},
   "outputs": [],
   "source": [
    "import torch\n",
    "import numpy as np\n",
    "import pandas as np\n",
    "import pickle\n",
    "from tqdm import tqdm\n",
    "import sys"
   ]
  },
  {
   "cell_type": "code",
   "execution_count": 3,
   "id": "68c38c50-fcc3-4edd-918b-b89925d5a6ee",
   "metadata": {},
   "outputs": [],
   "source": [
    "import time\n",
    "\n",
    "time.sleep(10800)"
   ]
  },
  {
   "cell_type": "code",
   "execution_count": 4,
   "id": "revised-contrast",
   "metadata": {},
   "outputs": [],
   "source": [
    "deck1 = torch.load(\"results/distilbert-base-uncased-ver7/distilbert-base-uncased-focal-AdamW-lr1e-05-ver7-os40_2-deck1.pth\")\n",
    "deck2 = torch.load(\"results/distilbert-base-uncased-ver7/distilbert-base-uncased-focal-AdamW-lr1e-05-ver7-os40_2-deck2.pth\")"
   ]
  },
  {
   "cell_type": "code",
   "execution_count": 5,
   "id": "senior-adoption",
   "metadata": {},
   "outputs": [
    {
     "data": {
      "text/plain": [
       "(torch.Size([421079, 768]), torch.Size([1095951, 768]))"
      ]
     },
     "execution_count": 5,
     "metadata": {},
     "output_type": "execute_result"
    }
   ],
   "source": [
    "deck1[\"feat\"].shape, deck2[\"feat\"].shape"
   ]
  },
  {
   "cell_type": "code",
   "execution_count": 6,
   "id": "minute-intellectual",
   "metadata": {},
   "outputs": [],
   "source": [
    "deck1[\"feat_\"] = deck1[\"feat\"].cuda()\n",
    "deck2[\"feat_\"] = deck2[\"feat\"].cuda()"
   ]
  },
  {
   "cell_type": "code",
   "execution_count": 7,
   "id": "initial-adaptation",
   "metadata": {},
   "outputs": [
    {
     "name": "stdout",
     "output_type": "stream",
     "text": [
      "100%|██████████████████████████████████████████████████| 1095951/1095951 [2:04:44<00:00, 146.44it/s]\n"
     ]
    }
   ],
   "source": [
    "N = deck2[\"feat\"].size(0)\n",
    "distdeck = {\"dist\": [], \"level\": []}\n",
    "with tqdm(total=N, ncols=100, file=sys.stdout) as t:\n",
    "    for i in range(N):\n",
    "        dist_ = torch.norm(deck1[\"feat_\"] - deck2[\"feat_\"][i, None], p=None, dim=1)\n",
    "        dist_, indices_ = dist_.topk(4, largest=False)\n",
    "        tlevels = deck1[\"tlevel\"][indices_]\n",
    "\n",
    "        distdeck[\"dist\"].append(dist_.cpu())\n",
    "        distdeck[\"level\"].append(tlevels)\n",
    "\n",
    "        t.update()"
   ]
  },
  {
   "cell_type": "code",
   "execution_count": 8,
   "id": "hollow-fireplace",
   "metadata": {},
   "outputs": [],
   "source": [
    "distdeck[\"dist\"] = torch.stack(distdeck[\"dist\"])\n",
    "distdeck[\"level\"] = torch.stack(distdeck[\"level\"])"
   ]
  },
  {
   "cell_type": "code",
   "execution_count": 9,
   "id": "minimal-static",
   "metadata": {},
   "outputs": [],
   "source": [
    "torch.save(\n",
    "    distdeck, \"results/distilbert-base-uncased-ver7/distilbert-base-uncased-focal-AdamW-lr1e-05-ver7-os40_2-distdeck.pth\"\n",
    ")"
   ]
  },
  {
   "cell_type": "code",
   "execution_count": null,
   "id": "changed-hearts",
   "metadata": {},
   "outputs": [],
   "source": []
  }
 ],
 "metadata": {
  "kernelspec": {
   "display_name": "torch",
   "language": "python",
   "name": "torch"
  },
  "language_info": {
   "codemirror_mode": {
    "name": "ipython",
    "version": 3
   },
   "file_extension": ".py",
   "mimetype": "text/x-python",
   "name": "python",
   "nbconvert_exporter": "python",
   "pygments_lexer": "ipython3",
   "version": "3.7.9"
  }
 },
 "nbformat": 4,
 "nbformat_minor": 5
}
