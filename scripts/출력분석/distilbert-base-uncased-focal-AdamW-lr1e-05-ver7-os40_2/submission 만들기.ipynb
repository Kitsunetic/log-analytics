{
 "cells": [
  {
   "cell_type": "code",
   "execution_count": 1,
   "id": "scientific-problem",
   "metadata": {
    "tags": []
   },
   "outputs": [
    {
     "name": "stdout",
     "output_type": "stream",
     "text": [
      "/mnt/h/hev/log-analytics\n"
     ]
    }
   ],
   "source": [
    "%load_ext lab_black\n",
    "%cd ../../.."
   ]
  },
  {
   "cell_type": "code",
   "execution_count": 2,
   "id": "prospective-electricity",
   "metadata": {},
   "outputs": [],
   "source": [
    "import torch\n",
    "import numpy as np\n",
    "import pandas as pd\n",
    "import pickle\n",
    "from tqdm import tqdm\n",
    "from collections import defaultdict\n",
    "import sys"
   ]
  },
  {
   "cell_type": "code",
   "execution_count": 3,
   "id": "statewide-alarm",
   "metadata": {},
   "outputs": [],
   "source": [
    "distdeck = torch.load(\n",
    "    \"results/distilbert-base-uncased-ver7/distilbert-base-uncased-focal-AdamW-lr1e-05-ver7-os40_2-distdeck.pth\"\n",
    ")"
   ]
  },
  {
   "cell_type": "code",
   "execution_count": 4,
   "id": "pretty-export",
   "metadata": {},
   "outputs": [],
   "source": [
    "deck2 = torch.load(\"results/distilbert-base-uncased-ver7/distilbert-base-uncased-focal-AdamW-lr1e-05-ver7-os40_2-deck2.pth\")"
   ]
  },
  {
   "cell_type": "code",
   "execution_count": 5,
   "id": "forty-integer",
   "metadata": {},
   "outputs": [],
   "source": [
    "df = pd.read_csv(\"data/ori/test.csv\")"
   ]
  },
  {
   "cell_type": "code",
   "execution_count": 6,
   "id": "dental-pierre",
   "metadata": {},
   "outputs": [
    {
     "data": {
      "text/plain": [
       "(torch.Size([1095951, 4]), torch.Size([1095951, 4]))"
      ]
     },
     "execution_count": 6,
     "metadata": {},
     "output_type": "execute_result"
    }
   ],
   "source": [
    "distdeck[\"dist\"].shape, distdeck[\"level\"].shape"
   ]
  },
  {
   "cell_type": "code",
   "execution_count": 7,
   "id": "cooked-nancy",
   "metadata": {},
   "outputs": [
    {
     "data": {
      "text/plain": [
       "(dict_keys(['dist', 'level']), dict_keys(['feat', 'otext', 'fclevel', 'ids']))"
      ]
     },
     "execution_count": 7,
     "metadata": {},
     "output_type": "execute_result"
    }
   ],
   "source": [
    "distdeck.keys(), deck2.keys()"
   ]
  },
  {
   "cell_type": "code",
   "execution_count": 8,
   "id": "afraid-colombia",
   "metadata": {},
   "outputs": [],
   "source": [
    "total_len = 1418916"
   ]
  },
  {
   "cell_type": "code",
   "execution_count": 9,
   "id": "initial-energy",
   "metadata": {},
   "outputs": [],
   "source": [
    "def policy(dists, tlevels, fclevel):\n",
    "    if fclevel in [6, 4, 2]:\n",
    "        return fclevel.item()\n",
    "    if (tlevels == 5).all():\n",
    "        return 5 if dists[0] < 1.5 else 7\n",
    "    if (tlevels == 3).all():\n",
    "        return 3 if dists[0] < 1.5 else 7\n",
    "    if dists[0] < 0.7:\n",
    "        # return tlevels[0].item()\n",
    "        return fclevel.item()\n",
    "    return 7"
   ]
  },
  {
   "cell_type": "code",
   "execution_count": 10,
   "id": "mediterranean-vocabulary",
   "metadata": {},
   "outputs": [
    {
     "name": "stdout",
     "output_type": "stream",
     "text": [
      "100%|██████████████████████████████████████████████████| 1095951/1095951 [01:40<00:00, 10942.63it/s]\n"
     ]
    }
   ],
   "source": [
    "out_dists = [None for _ in range(total_len)]\n",
    "out_levels = [None for _ in range(total_len)]\n",
    "out_fclevels = [None for _ in range(total_len)]\n",
    "N = distdeck[\"dist\"].size(0)\n",
    "with tqdm(total=N, ncols=100, file=sys.stdout) as t:\n",
    "    for i in range(N):\n",
    "        dists = distdeck[\"dist\"][i]\n",
    "        levels = distdeck[\"level\"][i]\n",
    "        fclevel = deck2[\"fclevel\"][i]\n",
    "        out_level = policy(dists, levels, fclevel)\n",
    "        ids = deck2[\"ids\"][i]\n",
    "        for j in ids:\n",
    "            out_levels[j - 1000000] = out_level\n",
    "            out_dists[j - 1000000] = dists\n",
    "            out_fclevels[j - 1000000] = fclevel\n",
    "        t.update()"
   ]
  },
  {
   "cell_type": "code",
   "execution_count": 11,
   "id": "dietary-vampire",
   "metadata": {},
   "outputs": [],
   "source": [
    "out_levels = np.array(out_levels)"
   ]
  },
  {
   "cell_type": "code",
   "execution_count": 12,
   "id": "synthetic-printer",
   "metadata": {},
   "outputs": [
    {
     "name": "stdout",
     "output_type": "stream",
     "text": [
      "0 : 1002253 70.64%\n",
      "1 : 396259 27.93%\n",
      "2 : 42 0.00%\n",
      "3 : 12972 0.91%\n",
      "4 : 34 0.00%\n",
      "5 : 6342 0.45%\n",
      "6 : 29 0.00%\n",
      "7 : 985 0.07%\n"
     ]
    }
   ],
   "source": [
    "# 각 레벨별 개수 0.5이하일 때 fclevel을 쓰기로\n",
    "for i in range(8):\n",
    "    cnt = (out_levels == i).sum()\n",
    "    print(i, \":\", cnt, f\"{cnt / len(out_levels)*100:.2f}%\")"
   ]
  },
  {
   "cell_type": "markdown",
   "id": "7a4e2bad-fac4-4e96-96f6-f95127200ad5",
   "metadata": {},
   "source": [
    "```\n",
    "0 : 1003955 70.76%\n",
    "1 : 395007 27.84%\n",
    "2 : 42 0.00%\n",
    "3 : 12950 0.91%\n",
    "4 : 34 0.00%\n",
    "5 : 6334 0.45%\n",
    "6 : 31 0.00%\n",
    "7 : 563 0.04%\n",
    "```"
   ]
  },
  {
   "cell_type": "code",
   "execution_count": 13,
   "id": "coated-while",
   "metadata": {},
   "outputs": [
    {
     "data": {
      "text/plain": [
       "(array([  35574,   73308,   86431,   92457,  147553,  175492,  179014,\n",
       "         210545,  240872,  340297,  355854,  374455,  451522,  484782,\n",
       "         499683,  507877,  529914,  624698,  633202,  647782,  652696,\n",
       "         714497,  848132,  881660, 1113383, 1125342, 1169189, 1293703,\n",
       "        1394234]),)"
      ]
     },
     "execution_count": 13,
     "metadata": {},
     "output_type": "execute_result"
    }
   ],
   "source": [
    "(out_levels == 6).nonzero()"
   ]
  },
  {
   "cell_type": "code",
   "execution_count": null,
   "id": "0a2e850e-27ca-40c4-bf3e-81968789b05a",
   "metadata": {},
   "outputs": [],
   "source": []
  },
  {
   "cell_type": "code",
   "execution_count": 14,
   "id": "3608d971-dd48-476f-98fa-3e2e4f9df5bd",
   "metadata": {},
   "outputs": [],
   "source": [
    "xdf = pd.read_csv(\"results/distilbert-base-uncased-ver7/distilbert-base-uncased-focal-AdamW-lr1e-05-ver7-os10_3-out_ver2.csv\")"
   ]
  },
  {
   "cell_type": "code",
   "execution_count": 15,
   "id": "19e36b3b-8a4b-4195-8646-7da668460b13",
   "metadata": {},
   "outputs": [],
   "source": [
    "xlevels = xdf.level.to_numpy()"
   ]
  },
  {
   "cell_type": "code",
   "execution_count": 16,
   "id": "7608de02-8ef2-42aa-b52b-acf43fffd61d",
   "metadata": {},
   "outputs": [
    {
     "data": {
      "text/plain": [
       "(array([  35574,   64268,   73308,   86431,   92457,  147553,  175492,\n",
       "         179014,  210545,  240872,  340297,  355854,  374455,  451522,\n",
       "         484782,  499683,  507877,  529914,  563330,  624698,  633202,\n",
       "         647782,  652696,  714497,  848132,  881660, 1113383, 1125342,\n",
       "        1169189, 1293703, 1394234]),)"
      ]
     },
     "execution_count": 16,
     "metadata": {},
     "output_type": "execute_result"
    }
   ],
   "source": [
    "(xlevels == 6).nonzero()"
   ]
  },
  {
   "cell_type": "code",
   "execution_count": 17,
   "id": "ab8f85fe-1055-42e9-b665-7efc1ea1b4ca",
   "metadata": {},
   "outputs": [
    {
     "data": {
      "text/plain": [
       "'Sep 18 13:17:49 localhost useradd[12075]: new group: name=suricata, GID=1001'"
      ]
     },
     "execution_count": 17,
     "metadata": {},
     "output_type": "execute_result"
    }
   ],
   "source": [
    "df.full_log[64268]"
   ]
  },
  {
   "cell_type": "code",
   "execution_count": 18,
   "id": "c2a95c40-0ad8-412c-8cb6-78852bac6860",
   "metadata": {},
   "outputs": [],
   "source": [
    "tdf = pd.read_csv(\"data/ori/train.csv\")"
   ]
  },
  {
   "cell_type": "code",
   "execution_count": 19,
   "id": "1f5d1199-6fc8-47ff-8cb2-26f25c22fd5b",
   "metadata": {},
   "outputs": [],
   "source": [
    "otexts = tdf.full_log.to_numpy()"
   ]
  },
  {
   "cell_type": "code",
   "execution_count": 22,
   "id": "52aa414d-2f52-4a8a-9544-2a3ebf257ab3",
   "metadata": {},
   "outputs": [],
   "source": [
    "def find(text):\n",
    "    out_indices = []\n",
    "    for i, otext in enumerate(otexts):\n",
    "        if text in otext:\n",
    "            return i\n",
    "\n",
    "\n",
    "def find_all(text):\n",
    "    out_indices = []\n",
    "    for i, otext in enumerate(otexts):\n",
    "        if text in otext:\n",
    "            out_indices.append(i)\n",
    "    return out_indices"
   ]
  },
  {
   "cell_type": "code",
   "execution_count": 23,
   "id": "72381033-92ff-4ecf-84b1-8b729b416429",
   "metadata": {},
   "outputs": [
    {
     "data": {
      "text/plain": [
       "[221847]"
      ]
     },
     "execution_count": 23,
     "metadata": {},
     "output_type": "execute_result"
    }
   ],
   "source": [
    "find_all(\"new group\")"
   ]
  },
  {
   "cell_type": "code",
   "execution_count": 25,
   "id": "fbfa7331-bb4a-448f-a354-b29996e5f703",
   "metadata": {},
   "outputs": [
    {
     "data": {
      "text/plain": [
       "(6, 'Jan 29 11:28:59 localhost useradd[88679]: new group: name=test, GID=1001')"
      ]
     },
     "execution_count": 25,
     "metadata": {},
     "output_type": "execute_result"
    }
   ],
   "source": [
    "tdf.level[221847], tdf.full_log[221847]"
   ]
  },
  {
   "cell_type": "code",
   "execution_count": 36,
   "id": "b86cd091-88f0-4bb0-8549-87332131e2b7",
   "metadata": {},
   "outputs": [
    {
     "name": "stdout",
     "output_type": "stream",
     "text": [
      "   35574 | Jan 20 18:43:36 localhost sshd[2106]: Bad protocol version identification '\\003' from 185.176.220.106 port 65322\n",
      "   64268 | Sep 18 13:17:49 localhost useradd[12075]: new group: name=suricata, GID=1001\n",
      "   73308 | Feb  2 16:55:27 localhost kernel: device enp2s0 entered promiscuous mode\n",
      "   86431 | Mar  8 15:29:20 localhost kernel: device virbr0-nic entered promiscuous mode\n",
      "   92457 | Feb  2 17:06:35 localhost kernel: device enp2s0 entered promiscuous mode\n",
      "  147553 | Nov 18 14:13:50 localhost sshd[15801]: error: maximum authentication attempts exceeded for root from 192.168.0.195 port 33620 ssh2 [preauth]\n",
      "  175492 | Jan 30 19:28:40 localhost sshd[29475]: Bad protocol version identification '\\003' from 185.176.220.106 port 63400\n",
      "  179014 | Jan 29 11:28:59 localhost useradd[88679]: new user: name=test, UID=1001, GID=1001, home=/home/test, shell=/bin/bash\n",
      "  210545 | Jan 12 16:19:13 localhost kernel: device enp2s0 entered promiscuous mode\n",
      "  240872 | Jan 22 15:19:23 localhost sshd[19037]: error: maximum authentication attempts exceeded for root from 192.168.0.197 port 61155 ssh2 [preauth]\n",
      "  340297 | Dec 28 10:36:12 localhost sshd[13005]: error: maximum authentication attempts exceeded for invalid user m2appl300 from 192.168.0.224 port 12512 ssh2 [preauth]\n",
      "  355854 | Feb  2 17:45:58 localhost kernel: device enp2s0 entered promiscuous mode\n",
      "  374455 | Jan 28 15:37:34 localhost kernel: device enp2s0 entered promiscuous mode\n",
      "  451522 | Feb  9 13:21:26 localhost kernel: device virbr0-nic entered promiscuous mode\n",
      "  484782 | Feb  1 05:02:11 localhost sshd[29639]: Bad protocol version identification '\\003' from 185.176.220.106 port 63099\n",
      "  499683 | Feb  2 17:23:07 localhost kernel: device enp2s0 entered promiscuous mode\n",
      "  507877 | Feb  9 13:21:36 localhost kernel: device enp2s0 entered promiscuous mode\n",
      "  529914 | Sep 18 13:18:53 localhost kernel: device enp2s0 entered promiscuous mode\n",
      "  563330 | Sep 18 10:31:30 localhost useradd[5205]: new user: name=kibana, UID=981, GID=977, home=/home/kibana, shell=/sbin/nologin\n",
      "  624698 | Jan 21 17:57:06 localhost kernel: device virbr0-nic entered promiscuous mode\n",
      "  633202 | Feb  8 16:16:55 localhost kernel: device enp2s0 entered promiscuous mode\n",
      "  647782 | Feb  2 16:55:17 localhost kernel: device virbr0-nic entered promiscuous mode\n",
      "  652696 | Jan 24 17:23:15 localhost sshd[10835]: Bad protocol version identification '\\003' from 185.143.221.245 port 64381\n",
      "  714497 | Feb  2 17:06:25 localhost kernel: device virbr0-nic entered promiscuous mode\n",
      "  848132 | Sep 18 10:31:30 localhost groupadd[5200]: new group: name=kibana, GID=977\n",
      "  881660 | Oct 16 14:39:22 localhost kernel: device enp2s0 entered promiscuous mode\n",
      " 1113383 | Jan 21 17:57:15 localhost kernel: device enp2s0 entered promiscuous mode\n",
      " 1125342 | Feb  2 17:45:48 localhost kernel: device virbr0-nic entered promiscuous mode\n",
      " 1169189 | Jan 11 12:59:29 localhost kernel: device enp2s0 entered promiscuous mode\n",
      " 1293703 | Sep 18 13:17:49 localhost useradd[12075]: new user: name=suricata, UID=1001, GID=1001, home=/home/suricata, shell=/bin/bash\n",
      " 1394234 | Nov 18 17:43:21 localhost kernel: device virbr0-nic entered promiscuous mode\n"
     ]
    }
   ],
   "source": [
    "for i in (xlevels == 6).nonzero()[0]:\n",
    "    print(f\"{i:8} | {str(df.full_log[i])}\")"
   ]
  },
  {
   "cell_type": "code",
   "execution_count": 37,
   "id": "ffc8c220-c328-4c4c-95aa-394c9bde5a05",
   "metadata": {},
   "outputs": [
    {
     "name": "stdout",
     "output_type": "stream",
     "text": [
      "   35574 | Jan 20 18:43:36 localhost sshd[2106]: Bad protocol version identification '\\003' from 185.176.220.106 port 65322\n",
      "   73308 | Feb  2 16:55:27 localhost kernel: device enp2s0 entered promiscuous mode\n",
      "   86431 | Mar  8 15:29:20 localhost kernel: device virbr0-nic entered promiscuous mode\n",
      "   92457 | Feb  2 17:06:35 localhost kernel: device enp2s0 entered promiscuous mode\n",
      "  147553 | Nov 18 14:13:50 localhost sshd[15801]: error: maximum authentication attempts exceeded for root from 192.168.0.195 port 33620 ssh2 [preauth]\n",
      "  175492 | Jan 30 19:28:40 localhost sshd[29475]: Bad protocol version identification '\\003' from 185.176.220.106 port 63400\n",
      "  179014 | Jan 29 11:28:59 localhost useradd[88679]: new user: name=test, UID=1001, GID=1001, home=/home/test, shell=/bin/bash\n",
      "  210545 | Jan 12 16:19:13 localhost kernel: device enp2s0 entered promiscuous mode\n",
      "  240872 | Jan 22 15:19:23 localhost sshd[19037]: error: maximum authentication attempts exceeded for root from 192.168.0.197 port 61155 ssh2 [preauth]\n",
      "  340297 | Dec 28 10:36:12 localhost sshd[13005]: error: maximum authentication attempts exceeded for invalid user m2appl300 from 192.168.0.224 port 12512 ssh2 [preauth]\n",
      "  355854 | Feb  2 17:45:58 localhost kernel: device enp2s0 entered promiscuous mode\n",
      "  374455 | Jan 28 15:37:34 localhost kernel: device enp2s0 entered promiscuous mode\n",
      "  451522 | Feb  9 13:21:26 localhost kernel: device virbr0-nic entered promiscuous mode\n",
      "  484782 | Feb  1 05:02:11 localhost sshd[29639]: Bad protocol version identification '\\003' from 185.176.220.106 port 63099\n",
      "  499683 | Feb  2 17:23:07 localhost kernel: device enp2s0 entered promiscuous mode\n",
      "  507877 | Feb  9 13:21:36 localhost kernel: device enp2s0 entered promiscuous mode\n",
      "  529914 | Sep 18 13:18:53 localhost kernel: device enp2s0 entered promiscuous mode\n",
      "  624698 | Jan 21 17:57:06 localhost kernel: device virbr0-nic entered promiscuous mode\n",
      "  633202 | Feb  8 16:16:55 localhost kernel: device enp2s0 entered promiscuous mode\n",
      "  647782 | Feb  2 16:55:17 localhost kernel: device virbr0-nic entered promiscuous mode\n",
      "  652696 | Jan 24 17:23:15 localhost sshd[10835]: Bad protocol version identification '\\003' from 185.143.221.245 port 64381\n",
      "  714497 | Feb  2 17:06:25 localhost kernel: device virbr0-nic entered promiscuous mode\n",
      "  848132 | Sep 18 10:31:30 localhost groupadd[5200]: new group: name=kibana, GID=977\n",
      "  881660 | Oct 16 14:39:22 localhost kernel: device enp2s0 entered promiscuous mode\n",
      " 1113383 | Jan 21 17:57:15 localhost kernel: device enp2s0 entered promiscuous mode\n",
      " 1125342 | Feb  2 17:45:48 localhost kernel: device virbr0-nic entered promiscuous mode\n",
      " 1169189 | Jan 11 12:59:29 localhost kernel: device enp2s0 entered promiscuous mode\n",
      " 1293703 | Sep 18 13:17:49 localhost useradd[12075]: new user: name=suricata, UID=1001, GID=1001, home=/home/suricata, shell=/bin/bash\n",
      " 1394234 | Nov 18 17:43:21 localhost kernel: device virbr0-nic entered promiscuous mode\n"
     ]
    }
   ],
   "source": [
    "for i in (out_levels == 6).nonzero()[0]:\n",
    "    print(f\"{i:8} | {str(df.full_log[i])}\")"
   ]
  },
  {
   "cell_type": "code",
   "execution_count": 38,
   "id": "b2a7e523-9031-458c-9e9e-1a073cf3da57",
   "metadata": {},
   "outputs": [
    {
     "name": "stdout",
     "output_type": "stream",
     "text": [
      "   87783 | Jan 30 08:23:17 localhost sshd[18415]: Bad protocol version identification '\\003' from 78.128.113.18 port 1073\n",
      "  170386 | Feb  8 16:16:47 localhost kernel: device virbr0-nic entered promiscuous mode\n",
      "  213304 | Mar  8 15:29:30 localhost kernel: device enp2s0 entered promiscuous mode\n",
      "  221847 | Jan 29 11:28:59 localhost useradd[88679]: new group: name=test, GID=1001\n",
      "  223644 | Jan 22 15:18:49 localhost sshd[19015]: error: maximum authentication attempts exceeded for root from 192.168.0.197 port 61153 ssh2 [preauth]\n",
      "  361823 | Feb  2 17:22:58 localhost kernel: device virbr0-nic entered promiscuous mode\n",
      "  406796 | Feb  4 09:59:33 localhost kernel: device virbr0-nic entered promiscuous mode\n",
      "  429489 | Feb  4 09:59:43 localhost kernel: device enp2s0 entered promiscuous mode\n"
     ]
    }
   ],
   "source": [
    "for i, (level, otext) in enumerate(zip(tdf.level, tdf.full_log)):\n",
    "    if level == 6:\n",
    "        print(f\"{i:8} | {otext}\")"
   ]
  },
  {
   "cell_type": "markdown",
   "id": "ongoing-development",
   "metadata": {},
   "source": [
    "---"
   ]
  },
  {
   "cell_type": "code",
   "execution_count": 39,
   "id": "applicable-movement",
   "metadata": {},
   "outputs": [],
   "source": [
    "out_ids = list(range(1000000, 1000000 + len(out_levels)))"
   ]
  },
  {
   "cell_type": "code",
   "execution_count": 40,
   "id": "plain-johnston",
   "metadata": {},
   "outputs": [],
   "source": [
    "out_df = {\"id\": out_ids, \"level\": out_levels}"
   ]
  },
  {
   "cell_type": "code",
   "execution_count": 41,
   "id": "exceptional-singles",
   "metadata": {},
   "outputs": [],
   "source": [
    "out_df = pd.DataFrame(out_df)"
   ]
  },
  {
   "cell_type": "code",
   "execution_count": 42,
   "id": "quality-truck",
   "metadata": {},
   "outputs": [
    {
     "data": {
      "text/html": [
       "<div>\n",
       "<style scoped>\n",
       "    .dataframe tbody tr th:only-of-type {\n",
       "        vertical-align: middle;\n",
       "    }\n",
       "\n",
       "    .dataframe tbody tr th {\n",
       "        vertical-align: top;\n",
       "    }\n",
       "\n",
       "    .dataframe thead th {\n",
       "        text-align: right;\n",
       "    }\n",
       "</style>\n",
       "<table border=\"1\" class=\"dataframe\">\n",
       "  <thead>\n",
       "    <tr style=\"text-align: right;\">\n",
       "      <th></th>\n",
       "      <th>id</th>\n",
       "      <th>level</th>\n",
       "    </tr>\n",
       "  </thead>\n",
       "  <tbody>\n",
       "    <tr>\n",
       "      <th>0</th>\n",
       "      <td>1000000</td>\n",
       "      <td>0</td>\n",
       "    </tr>\n",
       "    <tr>\n",
       "      <th>1</th>\n",
       "      <td>1000001</td>\n",
       "      <td>0</td>\n",
       "    </tr>\n",
       "    <tr>\n",
       "      <th>2</th>\n",
       "      <td>1000002</td>\n",
       "      <td>1</td>\n",
       "    </tr>\n",
       "    <tr>\n",
       "      <th>3</th>\n",
       "      <td>1000003</td>\n",
       "      <td>0</td>\n",
       "    </tr>\n",
       "    <tr>\n",
       "      <th>4</th>\n",
       "      <td>1000004</td>\n",
       "      <td>1</td>\n",
       "    </tr>\n",
       "    <tr>\n",
       "      <th>...</th>\n",
       "      <td>...</td>\n",
       "      <td>...</td>\n",
       "    </tr>\n",
       "    <tr>\n",
       "      <th>1418911</th>\n",
       "      <td>2418911</td>\n",
       "      <td>0</td>\n",
       "    </tr>\n",
       "    <tr>\n",
       "      <th>1418912</th>\n",
       "      <td>2418912</td>\n",
       "      <td>0</td>\n",
       "    </tr>\n",
       "    <tr>\n",
       "      <th>1418913</th>\n",
       "      <td>2418913</td>\n",
       "      <td>1</td>\n",
       "    </tr>\n",
       "    <tr>\n",
       "      <th>1418914</th>\n",
       "      <td>2418914</td>\n",
       "      <td>0</td>\n",
       "    </tr>\n",
       "    <tr>\n",
       "      <th>1418915</th>\n",
       "      <td>2418915</td>\n",
       "      <td>0</td>\n",
       "    </tr>\n",
       "  </tbody>\n",
       "</table>\n",
       "<p>1418916 rows × 2 columns</p>\n",
       "</div>"
      ],
      "text/plain": [
       "              id  level\n",
       "0        1000000      0\n",
       "1        1000001      0\n",
       "2        1000002      1\n",
       "3        1000003      0\n",
       "4        1000004      1\n",
       "...          ...    ...\n",
       "1418911  2418911      0\n",
       "1418912  2418912      0\n",
       "1418913  2418913      1\n",
       "1418914  2418914      0\n",
       "1418915  2418915      0\n",
       "\n",
       "[1418916 rows x 2 columns]"
      ]
     },
     "execution_count": 42,
     "metadata": {},
     "output_type": "execute_result"
    }
   ],
   "source": [
    "out_df"
   ]
  },
  {
   "cell_type": "code",
   "execution_count": 47,
   "id": "juvenile-measurement",
   "metadata": {},
   "outputs": [],
   "source": [
    "# 0.9198\n",
    "out_df.to_csv(\n",
    "    \"results/distilbert-base-uncased-ver7/distilbert-base-uncased-focal-AdamW-lr1e-05-ver7-os40_2-out_ver1.csv\", index=False\n",
    ")"
   ]
  },
  {
   "cell_type": "code",
   "execution_count": 43,
   "id": "spoken-guarantee",
   "metadata": {},
   "outputs": [],
   "source": [
    "# ver1보다 threshold를 좀 더 만만하게 준 버전 - 0.9207\n",
    "out_df.to_csv(\n",
    "    \"results/distilbert-base-uncased-ver7/distilbert-base-uncased-focal-AdamW-lr1e-05-ver7-os40_2-out_ver2.csv\", index=False\n",
    ")"
   ]
  },
  {
   "cell_type": "code",
   "execution_count": 22,
   "id": "anticipated-safety",
   "metadata": {},
   "outputs": [],
   "source": [
    "# level 3, 5를 꼭 모두 3, 5이지 않아도 되게 설정 - 0.9189\n",
    "out_df.to_csv(\n",
    "    \"results/distilbert-base-uncased-ver7/distilbert-base-uncased-focal-AdamW-lr1e-05-ver7-os40_2-out_ver3.csv\", index=False\n",
    ")"
   ]
  },
  {
   "cell_type": "code",
   "execution_count": null,
   "id": "handy-virus",
   "metadata": {},
   "outputs": [],
   "source": []
  }
 ],
 "metadata": {
  "kernelspec": {
   "display_name": "Python 3",
   "language": "python",
   "name": "python3"
  },
  "language_info": {
   "codemirror_mode": {
    "name": "ipython",
    "version": 3
   },
   "file_extension": ".py",
   "mimetype": "text/x-python",
   "name": "python",
   "nbconvert_exporter": "python",
   "pygments_lexer": "ipython3",
   "version": "3.7.10"
  }
 },
 "nbformat": 4,
 "nbformat_minor": 5
}
