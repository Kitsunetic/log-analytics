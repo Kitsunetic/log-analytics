{
 "cells": [
  {
   "cell_type": "code",
   "execution_count": 1,
   "id": "c9c75acd-81e9-4e10-ac56-add4c07d2b18",
   "metadata": {},
   "outputs": [
    {
     "name": "stdout",
     "output_type": "stream",
     "text": [
      "/home/shim/cev/dl/log-analytics\n"
     ]
    }
   ],
   "source": [
    "%load_ext lab_black\n",
    "%cd ../../.."
   ]
  },
  {
   "cell_type": "code",
   "execution_count": 24,
   "id": "1f47f99c-9b2b-4afc-a70e-8d65af4a636c",
   "metadata": {},
   "outputs": [],
   "source": [
    "import torch\n",
    "import numpy as np\n",
    "import pandas as np\n",
    "import pickle\n",
    "from tqdm import tqdm\n",
    "from collections import defaultdict\n",
    "import sys"
   ]
  },
  {
   "cell_type": "code",
   "execution_count": 6,
   "id": "880aed4b-3086-47b6-bc8d-ca2513c65c8b",
   "metadata": {},
   "outputs": [],
   "source": [
    "deck1 = torch.load(\"results/distilbert-base-uncased/distilbert-base-uncased-focal-AdamW-lr2e-05-dsver5-os40_2-deck1.pth\")\n",
    "deck2 = torch.load(\"results/distilbert-base-uncased/distilbert-base-uncased-focal-AdamW-lr2e-05-dsver5-os40_2-deck2.pth\")"
   ]
  },
  {
   "cell_type": "code",
   "execution_count": 7,
   "id": "3d2cdd11-615b-4fb4-8c52-622786ed9e70",
   "metadata": {},
   "outputs": [
    {
     "data": {
      "text/plain": [
       "(torch.Size([472972, 768]), torch.Size([1418916, 768]))"
      ]
     },
     "execution_count": 7,
     "metadata": {},
     "output_type": "execute_result"
    }
   ],
   "source": [
    "deck1[\"feat\"].shape, deck2[\"feat\"].shape"
   ]
  },
  {
   "cell_type": "code",
   "execution_count": 41,
   "id": "6090a390-07c6-48c9-8a95-80ebf8472c1b",
   "metadata": {},
   "outputs": [
    {
     "data": {
      "text/plain": [
       "dict_keys(['fcfeat', 'tlevel', 'fclevel', 'feat', 'otext'])"
      ]
     },
     "execution_count": 41,
     "metadata": {},
     "output_type": "execute_result"
    }
   ],
   "source": [
    "deck1.keys()"
   ]
  },
  {
   "cell_type": "code",
   "execution_count": 54,
   "id": "cceb4fb2-a742-4701-a481-6a478c1e9a06",
   "metadata": {},
   "outputs": [
    {
     "name": "stdout",
     "output_type": "stream",
     "text": [
      "100%|███████████████████████████████████████████████████| 472972/472972 [00:01<00:00, 237462.45it/s]\n"
     ]
    }
   ],
   "source": [
    "db1 = {}\n",
    "with tqdm(total=deck1[\"feat\"].size(0), ncols=100, file=sys.stdout) as t:\n",
    "    for i in range(deck1[\"feat\"].size(0)):\n",
    "        text = deck1[\"otext\"][i]\n",
    "        if text not in db1:\n",
    "            db1[text] = {\"indices\": defaultdict(list)}\n",
    "\n",
    "        db1[text][\"indices\"][deck1[\"tlevel\"][i].item()].append(i)\n",
    "        t.update()"
   ]
  },
  {
   "cell_type": "code",
   "execution_count": 61,
   "id": "9e285af3-8192-4d1a-be5b-d3b80d64ff2d",
   "metadata": {},
   "outputs": [],
   "source": [
    "for text in db1.keys():\n",
    "    db1[text][\"best_level\"] = max(db1[text][\"indices\"], key=lambda x: len(db1[text][\"indices\"]))"
   ]
  },
  {
   "cell_type": "code",
   "execution_count": 62,
   "id": "9fc94eb6-64d8-4cf3-8057-e2ca37ff2a31",
   "metadata": {},
   "outputs": [
    {
     "data": {
      "text/plain": [
       "{'indices': defaultdict(list, {0: [472966]}), 'best_level': 0}"
      ]
     },
     "execution_count": 62,
     "metadata": {},
     "output_type": "execute_result"
    }
   ],
   "source": [
    "db1[text]"
   ]
  },
  {
   "cell_type": "code",
   "execution_count": 44,
   "id": "f6949e4a-40d7-4067-89ca-aaa09ce6ec72",
   "metadata": {},
   "outputs": [
    {
     "data": {
      "text/plain": [
       "'month day time localhost kibana: {\"type\":\"error\",\"@timestamp\":\" date T time Z\",\"tags\":[\"warning\",\"stats-collection\"],\"pid\":821,\"level\":\"error\",\"error\":{\"message\":\"No Living connections\",\"name\":\"Error\",\"stack\":\"Error: No Living connections at sendReqWithConnection (/usr/share/kibana/node_modules/elasticsearch/src/lib/transport.js:226:15) at next (/usr/share/kibana/node_modules/elasticsearch/src/lib/connection_pool.js:214:7) at process._tickCallback (internal/process/next_tick.js:61:11)\"},\"message\":\"No Living connections\"}'"
      ]
     },
     "execution_count": 44,
     "metadata": {},
     "output_type": "execute_result"
    }
   ],
   "source": [
    "text"
   ]
  },
  {
   "cell_type": "code",
   "execution_count": 63,
   "id": "f72ad9a8-31f6-4f1e-92cb-9b38f6ef0bac",
   "metadata": {},
   "outputs": [],
   "source": [
    "deck11 = {k: [] for k in deck1.keys()}\n",
    "for text in db1.keys():\n",
    "    level = db1[text][\"best_level\"]\n",
    "    idx = db1[text][\"indices\"][level][0]\n",
    "    for key in deck1.keys():\n",
    "        deck11[key].append(deck1[key][idx])"
   ]
  },
  {
   "cell_type": "code",
   "execution_count": 67,
   "id": "986865a0-aafb-4d1c-9610-b3d9feca793f",
   "metadata": {},
   "outputs": [],
   "source": [
    "deck11[\"feat\"] = torch.stack(deck11[\"feat\"])\n",
    "deck11[\"fcfeat\"] = torch.stack(deck11[\"fcfeat\"])\n",
    "deck11[\"tlevel\"] = torch.stack(deck11[\"tlevel\"])\n",
    "deck11[\"fclevel\"] = torch.stack(deck11[\"fclevel\"])"
   ]
  },
  {
   "cell_type": "code",
   "execution_count": 72,
   "id": "b01fc8a8-0797-46bb-8e85-3048c367ff02",
   "metadata": {},
   "outputs": [],
   "source": [
    "torch.save(deck11, \"results/distilbert-base-uncased/distilbert-base-uncased-focal-AdamW-lr2e-05-dsver5-os40_2-deck11.pth\")"
   ]
  },
  {
   "cell_type": "code",
   "execution_count": null,
   "id": "48ba18ff-c5db-48d6-93ff-40b200013d01",
   "metadata": {},
   "outputs": [],
   "source": []
  }
 ],
 "metadata": {
  "kernelspec": {
   "display_name": "torch",
   "language": "python",
   "name": "torch"
  },
  "language_info": {
   "codemirror_mode": {
    "name": "ipython",
    "version": 3
   },
   "file_extension": ".py",
   "mimetype": "text/x-python",
   "name": "python",
   "nbconvert_exporter": "python",
   "pygments_lexer": "ipython3",
   "version": "3.7.10"
  }
 },
 "nbformat": 4,
 "nbformat_minor": 5
}
