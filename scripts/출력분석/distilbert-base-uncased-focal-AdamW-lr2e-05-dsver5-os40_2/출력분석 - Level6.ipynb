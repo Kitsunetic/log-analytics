{
 "cells": [
  {
   "cell_type": "code",
   "execution_count": null,
   "id": "954c0f95-c93c-42fa-8ea7-a18778d972ec",
   "metadata": {},
   "outputs": [],
   "source": []
  },
  {
   "cell_type": "code",
   "execution_count": 33,
   "id": "cd0b7ca3-d78e-40cf-8c30-ac1ce68f9bc7",
   "metadata": {},
   "outputs": [
    {
     "name": "stdout",
     "output_type": "stream",
     "text": [
      "*  Submit : month day time localhost useradd pid : new group: name=suricata, GID=1001\n",
      "----------------------------------------------------------------------------------------\n",
      "*   index : 64268\n",
      "*    dist : 0.4685 1.3977 1.4449 1.7743\n",
      "* fc-level: tensor(6)\n",
      "----------------------------------------------------------------------------------------\n",
      "* Level 6 : month day time localhost useradd pid : new group: name=test, GID=1001\n",
      "----------------------------------------------------------------------------------------\n",
      "* Level 6 : month day time localhost sshd pid : error: maximum authentication attempts exceeded for root from ip port ssh2 [preauth]\n",
      "----------------------------------------------------------------------------------------\n",
      "* Level 6 : month day time localhost sshd pid : Bad protocol version identification '\\003' from ip port\n",
      "----------------------------------------------------------------------------------------\n",
      "* Level 6 : month 8 time localhost kernel: device virbr0-nic entered promiscuous mode\n",
      "----------------------------------------------------------------------------------------\n"
     ]
    }
   ],
   "source": [
    "print(\"*  Submit :\", deck2[\"otext\"][j - 1])\n",
    "print(\"----------------------------------------------------------------------------------------\")\n",
    "print(\"*   index :\", j - 1)\n",
    "print(\"*    dist :\", \" \".join(map(lambda x: f\"{x:.4f}\", values_.cpu().tolist())))\n",
    "print(\"* fc-level:\", deck2[\"fcfeat\"][j - 1].argmax())\n",
    "print(\"----------------------------------------------------------------------------------------\")\n",
    "\n",
    "for idx in indices_:\n",
    "    print(\"* Level\", deck1[\"tlevel\"][idx].item(), \":\", deck1[\"otext\"][idx])\n",
    "    print(\"----------------------------------------------------------------------------------------\")\n",
    "\n",
    "shown = True"
   ]
  },
  {
   "cell_type": "code",
   "execution_count": 29,
   "id": "4e1f5ad2-810e-4250-9b0d-fc2d907e3551",
   "metadata": {},
   "outputs": [
    {
     "name": "stdout",
     "output_type": "stream",
     "text": [
      "*  Submit : month day time localhost sshd pid : Bad protocol version identification '\\003' from ip port\n",
      "----------------------------------------------------------------------------------------\n",
      "*   index : 35574\n",
      "*    dist : 0.0029 1.7284 2.3186 2.3390\n",
      "* fc-level: tensor(6)\n",
      "----------------------------------------------------------------------------------------\n",
      "* Level 6 : month day time localhost sshd pid : Bad protocol version identification '\\003' from ip port\n",
      "----------------------------------------------------------------------------------------\n",
      "* Level 6 : month day time localhost useradd pid : new group: name=test, GID=1001\n",
      "----------------------------------------------------------------------------------------\n",
      "* Level 6 : month 8 time localhost kernel: device virbr0-nic entered promiscuous mode\n",
      "----------------------------------------------------------------------------------------\n",
      "* Level 6 : month 4 time localhost kernel: device virbr0-nic entered promiscuous mode\n",
      "----------------------------------------------------------------------------------------\n"
     ]
    }
   ],
   "source": [
    "print(\"*  Submit :\", deck2[\"otext\"][j - 1])\n",
    "print(\"----------------------------------------------------------------------------------------\")\n",
    "print(\"*   index :\", j - 1)\n",
    "print(\"*    dist :\", \" \".join(map(lambda x: f\"{x:.4f}\", values_.cpu().tolist())))\n",
    "print(\"* fc-level:\", deck2[\"fcfeat\"][j - 1].argmax())\n",
    "print(\"----------------------------------------------------------------------------------------\")\n",
    "\n",
    "for idx in indices_:\n",
    "    print(\"* Level\", deck1[\"tlevel\"][idx].item(), \":\", deck1[\"otext\"][idx])\n",
    "    print(\"----------------------------------------------------------------------------------------\")\n",
    "\n",
    "shown = True"
   ]
  },
  {
   "cell_type": "code",
   "execution_count": 105,
   "id": "41ca0eeb-dc7f-471d-bbc8-04dcad57bee8",
   "metadata": {},
   "outputs": [
    {
     "name": "stdout",
     "output_type": "stream",
     "text": [
      "*  Submit : month day time localhost sshd pid : Bad protocol version identification '\\003' from ip port\n",
      "----------------------------------------------------------------------------------------\n",
      "*   index : 35574\n",
      "*    dist : 0.0029 1.7284 2.3186 2.3390\n",
      "* fc-level: tensor(6)\n",
      "----------------------------------------------------------------------------------------\n",
      "* Level 6 : month day time localhost sshd pid : Bad protocol version identification '\\003' from ip port\n",
      "----------------------------------------------------------------------------------------\n",
      "* Level 6 : month day time localhost useradd pid : new group: name=test, GID=1001\n",
      "----------------------------------------------------------------------------------------\n",
      "* Level 6 : month 8 time localhost kernel: device virbr0-nic entered promiscuous mode\n",
      "----------------------------------------------------------------------------------------\n",
      "* Level 6 : month 4 time localhost kernel: device virbr0-nic entered promiscuous mode\n",
      "----------------------------------------------------------------------------------------\n"
     ]
    }
   ],
   "source": [
    "print(\"*  Submit :\", deck2[\"otext\"][j - 1])\n",
    "print(\"----------------------------------------------------------------------------------------\")\n",
    "print(\"*   index :\", j - 1)\n",
    "print(\"*    dist :\", \" \".join(map(lambda x: f\"{x:.4f}\", values_.cpu().tolist())))\n",
    "print(\"* fc-level:\", deck2[\"fcfeat\"][j - 1].argmax())\n",
    "print(\"----------------------------------------------------------------------------------------\")\n",
    "\n",
    "for idx in indices_:\n",
    "    print(\"* Level\", deck1[\"tlevel\"][idx].item(), \":\", deck1[\"otext\"][idx])\n",
    "    print(\"----------------------------------------------------------------------------------------\")\n",
    "\n",
    "shown = True"
   ]
  }
 ],
 "metadata": {
  "kernelspec": {
   "display_name": "torch",
   "language": "python",
   "name": "torch"
  },
  "language_info": {
   "codemirror_mode": {
    "name": "ipython",
    "version": 3
   },
   "file_extension": ".py",
   "mimetype": "text/x-python",
   "name": "python",
   "nbconvert_exporter": "python",
   "pygments_lexer": "ipython3",
   "version": "3.7.10"
  }
 },
 "nbformat": 4,
 "nbformat_minor": 5
}
