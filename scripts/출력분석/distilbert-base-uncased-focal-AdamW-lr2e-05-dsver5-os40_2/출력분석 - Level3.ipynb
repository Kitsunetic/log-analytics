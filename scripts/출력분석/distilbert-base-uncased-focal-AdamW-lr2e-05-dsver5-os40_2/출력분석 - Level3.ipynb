{
 "cells": [
  {
   "cell_type": "code",
   "execution_count": null,
   "id": "eabd33af-b085-4f6e-84ae-28c6da3c8854",
   "metadata": {},
   "outputs": [],
   "source": []
  },
  {
   "cell_type": "code",
   "execution_count": 145,
   "id": "761ebede-7127-4dc0-b0a0-23dfd94edce7",
   "metadata": {},
   "outputs": [
    {
     "name": "stdout",
     "output_type": "stream",
     "text": [
      "*  Submit : oscap: msg: \"xccdf-result\", scan-id: \"0001603069960\", content: \"ssg-centos-7-ds.xml\", title: \"Prevent Log In to Accounts With Empty Password\", id: \"xccdf_org.ssgproject.content_rule_no_empty_passwords\", result: \"fail\", severity: \"high\", description: \"If an account is configured for password authentication but does not have an assigned password, it month be possible to log into the account without authentication. Remove any instances of the nullok option in /etc/pam.d/system-auth to prevent logins with empty passwords.\", rationale: \"If an account has an empty password, anyone could log in and run commands with the privileges of that account. Accounts with empty passwords should never be used in operational environments.\" references: \"AC-6 (http://nvlpubs.nist.gov/nistpubs/SpecialPublications/NIST.SP.800-53r4.pdf), IA-5(b) (http://nvlpubs.nist.gov/nistpubs/SpecialPublications/NIST.SP.800-53r4.pdf), IA-5(c) (http://nvlpubs.nist.gov/nistpubs/SpecialPublications/NIST.SP.800-53r4.pdf), IA-5(1)(a) (http://nvlpubs.nist.gov/nistpubs/SpecialPublications/NIST.SP.800-53r4.pdf), 366 (http://iase.disa.mil/stigs/cci/Pages/index.aspx), SRG-OS-000480-GPOS-00227 (http://iase.disa.mil/stigs/srgs/Pages/index.aspx), Req-8.2.3 (https://www.pcisecuritystandards.org/documents/PCI_DSS_v3-1.pdf), 5.5.2 (https://www.fbi.gov/file-repository/cjis-security-policy-v5_5_2016 date .pdf), 3.1.1 (http://nvlpubs.nist.gov/nistpubs/SpecialPublications/NIST.SP.800-171.pdf), 3.1.5 (http://nvlpubs.nist.gov/nistpubs/SpecialPublications/NIST.SP.800-171.pdf)\", identifiers: \"\", oval-id: \"oval:ssg-no_empty_passwords:def:1\", bench month k-id: \"xccdf_org.ssgproject.content_bench month k_RHEL-7\", profile-id: \"xccdf_org.ssgproject.content_profile_pci-dss\", profile-title: \"PCI-DSS v3 Control Baseline for Red Hat Enterprise Linux 7\".\n",
      "----------------------------------------------------------------------------------------\n",
      "*   index : 41200\n",
      "*    dist : 0.2698 0.2703 0.2708 0.2710\n",
      "* fc-level: tensor(3)\n",
      "----------------------------------------------------------------------------------------\n",
      "* Level 3 : oscap: msg: \"xccdf-result\", scan-id: \"0001602054006\", content: \"ssg-centos-7-ds.xml\", title: \"Set SSH Idle Timeout Interval\", id: \"xccdf_org.ssgproject.content_rule_sshd_set_idle_timeout\", result: \"fail\", severity: \"low\", description: \"SSH allows administrators to set an idle timeout interval. After this interval has passed, the idle user will be automatically logged out. To set an idle timeout interval, edit the following line in /etc/ssh/sshd_config as follows: ClientAliveInterval interval The timeout interval is given in seconds. To have a timeout of 10 minutes, set interval to 600. If a shorter timeout has already been set for the login shell, that value will preempt any SSH setting made here. Keep in mind that some processes month stop SSH from correctly detecting that the user is idle.\", rationale: \"Terminating an idle ssh session within a short time period reduces the window of opportunity for unauthorized personnel to take control of a management session enabled on the console or console port that has been let unattended.\" references: \"AC-2(5) (http://nvlpubs.nist.gov/nistpubs/SpecialPublications/NIST.SP.800-53r4.pdf), SA-8(i) (http://nvlpubs.nist.gov/nistpubs/SpecialPublications/NIST.SP.800-53r4.pdf), AC-12 (http://nvlpubs.nist.gov/nistpubs/SpecialPublications/NIST.SP.800-53r4.pdf), 1133 (http://iase.disa.mil/stigs/cci/Pages/index.aspx), 2361 (http://iase.disa.mil/stigs/cci/Pages/index.aspx), SRG-OS-000163-GPOS-00072 (http://iase.disa.mil/stigs/srgs/Pages/index.aspx), SRG-OS-000279-GPOS-00109 (http://iase.disa.mil/stigs/srgs/Pages/index.aspx), Req-8.1.8 (https://www.pcisecuritystandards.org/documents/PCI_DSS_v3-1.pdf), 6.2.12 (https://bench month ks.cisecurity.org/tools2/linux/CIS_Red_Hat_Enterprise_Linux_7_Bench month k_v1.1.0.pdf), 5.5.6 (https://www.fbi.gov/file-repository/cjis-security-policy-v5_5_2016 date .pdf), 3.1.11 (http://nvlpubs.nist.gov/nistpubs/SpecialPublications/NIST.SP.800-171.pdf)\", identifiers: \"\", oval-id: \"oval:ssg-sshd_set_idle_timeout:def:1\", bench month k-id: \"xccdf_org.ssgproject.content_bench month k_RHEL-7\", profile-id: \"xccdf_org.ssgproject.content_profile_pci-dss\", profile-title: \"PCI-DSS v3 Control Baseline for Red Hat Enterprise Linux 7\".\n",
      "----------------------------------------------------------------------------------------\n",
      "* Level 3 : oscap: msg: \"xccdf-result\", scan-id: \"0001603265663\", content: \"ssg-centos-7-ds.xml\", title: \"Set SSH Idle Timeout Interval\", id: \"xccdf_org.ssgproject.content_rule_sshd_set_idle_timeout\", result: \"fail\", severity: \"low\", description: \"SSH allows administrators to set an idle timeout interval. After this interval has passed, the idle user will be automatically logged out. To set an idle timeout interval, edit the following line in /etc/ssh/sshd_config as follows: ClientAliveInterval interval The timeout interval is given in seconds. To have a timeout of 10 minutes, set interval to 600. If a shorter timeout has already been set for the login shell, that value will preempt any SSH setting made here. Keep in mind that some processes month stop SSH from correctly detecting that the user is idle.\", rationale: \"Terminating an idle ssh session within a short time period reduces the window of opportunity for unauthorized personnel to take control of a management session enabled on the console or console port that has been let unattended.\" references: \"AC-2(5) (http://nvlpubs.nist.gov/nistpubs/SpecialPublications/NIST.SP.800-53r4.pdf), SA-8(i) (http://nvlpubs.nist.gov/nistpubs/SpecialPublications/NIST.SP.800-53r4.pdf), AC-12 (http://nvlpubs.nist.gov/nistpubs/SpecialPublications/NIST.SP.800-53r4.pdf), 1133 (http://iase.disa.mil/stigs/cci/Pages/index.aspx), 2361 (http://iase.disa.mil/stigs/cci/Pages/index.aspx), SRG-OS-000163-GPOS-00072 (http://iase.disa.mil/stigs/srgs/Pages/index.aspx), SRG-OS-000279-GPOS-00109 (http://iase.disa.mil/stigs/srgs/Pages/index.aspx), Req-8.1.8 (https://www.pcisecuritystandards.org/documents/PCI_DSS_v3-1.pdf), 6.2.12 (https://bench month ks.cisecurity.org/tools2/linux/CIS_Red_Hat_Enterprise_Linux_7_Bench month k_v1.1.0.pdf), 5.5.6 (https://www.fbi.gov/file-repository/cjis-security-policy-v5_5_2016 date .pdf), 3.1.11 (http://nvlpubs.nist.gov/nistpubs/SpecialPublications/NIST.SP.800-171.pdf)\", identifiers: \"\", oval-id: \"oval:ssg-sshd_set_idle_timeout:def:1\", bench month k-id: \"xccdf_org.ssgproject.content_bench month k_RHEL-7\", profile-id: \"xccdf_org.ssgproject.content_profile_pci-dss\", profile-title: \"PCI-DSS v3 Control Baseline for Red Hat Enterprise Linux 7\".\n",
      "----------------------------------------------------------------------------------------\n",
      "* Level 3 : oscap: msg: \"xccdf-result\", scan-id: \"0001602140405\", content: \"ssg-centos-7-ds.xml\", title: \"Set SSH Idle Timeout Interval\", id: \"xccdf_org.ssgproject.content_rule_sshd_set_idle_timeout\", result: \"fail\", severity: \"low\", description: \"SSH allows administrators to set an idle timeout interval. After this interval has passed, the idle user will be automatically logged out. To set an idle timeout interval, edit the following line in /etc/ssh/sshd_config as follows: ClientAliveInterval interval The timeout interval is given in seconds. To have a timeout of 10 minutes, set interval to 600. If a shorter timeout has already been set for the login shell, that value will preempt any SSH setting made here. Keep in mind that some processes month stop SSH from correctly detecting that the user is idle.\", rationale: \"Terminating an idle ssh session within a short time period reduces the window of opportunity for unauthorized personnel to take control of a management session enabled on the console or console port that has been let unattended.\" references: \"AC-2(5) (http://nvlpubs.nist.gov/nistpubs/SpecialPublications/NIST.SP.800-53r4.pdf), SA-8(i) (http://nvlpubs.nist.gov/nistpubs/SpecialPublications/NIST.SP.800-53r4.pdf), AC-12 (http://nvlpubs.nist.gov/nistpubs/SpecialPublications/NIST.SP.800-53r4.pdf), 1133 (http://iase.disa.mil/stigs/cci/Pages/index.aspx), 2361 (http://iase.disa.mil/stigs/cci/Pages/index.aspx), SRG-OS-000163-GPOS-00072 (http://iase.disa.mil/stigs/srgs/Pages/index.aspx), SRG-OS-000279-GPOS-00109 (http://iase.disa.mil/stigs/srgs/Pages/index.aspx), Req-8.1.8 (https://www.pcisecuritystandards.org/documents/PCI_DSS_v3-1.pdf), 6.2.12 (https://bench month ks.cisecurity.org/tools2/linux/CIS_Red_Hat_Enterprise_Linux_7_Bench month k_v1.1.0.pdf), 5.5.6 (https://www.fbi.gov/file-repository/cjis-security-policy-v5_5_2016 date .pdf), 3.1.11 (http://nvlpubs.nist.gov/nistpubs/SpecialPublications/NIST.SP.800-171.pdf)\", identifiers: \"\", oval-id: \"oval:ssg-sshd_set_idle_timeout:def:1\", bench month k-id: \"xccdf_org.ssgproject.content_bench month k_RHEL-7\", profile-id: \"xccdf_org.ssgproject.content_profile_pci-dss\", profile-title: \"PCI-DSS v3 Control Baseline for Red Hat Enterprise Linux 7\".\n",
      "----------------------------------------------------------------------------------------\n",
      "* Level 3 : oscap: msg: \"xccdf-result\", scan-id: \"0001602590405\", content: \"ssg-centos-7-ds.xml\", title: \"Set SSH Idle Timeout Interval\", id: \"xccdf_org.ssgproject.content_rule_sshd_set_idle_timeout\", result: \"fail\", severity: \"low\", description: \"SSH allows administrators to set an idle timeout interval. After this interval has passed, the idle user will be automatically logged out. To set an idle timeout interval, edit the following line in /etc/ssh/sshd_config as follows: ClientAliveInterval interval The timeout interval is given in seconds. To have a timeout of 10 minutes, set interval to 600. If a shorter timeout has already been set for the login shell, that value will preempt any SSH setting made here. Keep in mind that some processes month stop SSH from correctly detecting that the user is idle.\", rationale: \"Terminating an idle ssh session within a short time period reduces the window of opportunity for unauthorized personnel to take control of a management session enabled on the console or console port that has been let unattended.\" references: \"AC-2(5) (http://nvlpubs.nist.gov/nistpubs/SpecialPublications/NIST.SP.800-53r4.pdf), SA-8(i) (http://nvlpubs.nist.gov/nistpubs/SpecialPublications/NIST.SP.800-53r4.pdf), AC-12 (http://nvlpubs.nist.gov/nistpubs/SpecialPublications/NIST.SP.800-53r4.pdf), 1133 (http://iase.disa.mil/stigs/cci/Pages/index.aspx), 2361 (http://iase.disa.mil/stigs/cci/Pages/index.aspx), SRG-OS-000163-GPOS-00072 (http://iase.disa.mil/stigs/srgs/Pages/index.aspx), SRG-OS-000279-GPOS-00109 (http://iase.disa.mil/stigs/srgs/Pages/index.aspx), Req-8.1.8 (https://www.pcisecuritystandards.org/documents/PCI_DSS_v3-1.pdf), 6.2.12 (https://bench month ks.cisecurity.org/tools2/linux/CIS_Red_Hat_Enterprise_Linux_7_Bench month k_v1.1.0.pdf), 5.5.6 (https://www.fbi.gov/file-repository/cjis-security-policy-v5_5_2016 date .pdf), 3.1.11 (http://nvlpubs.nist.gov/nistpubs/SpecialPublications/NIST.SP.800-171.pdf)\", identifiers: \"\", oval-id: \"oval:ssg-sshd_set_idle_timeout:def:1\", bench month k-id: \"xccdf_org.ssgproject.content_bench month k_RHEL-7\", profile-id: \"xccdf_org.ssgproject.content_profile_pci-dss\", profile-title: \"PCI-DSS v3 Control Baseline for Red Hat Enterprise Linux 7\".\n",
      "----------------------------------------------------------------------------------------\n"
     ]
    }
   ],
   "source": [
    "print(\"*  Submit :\", deck2[\"otext\"][j - 1])\n",
    "print(\"----------------------------------------------------------------------------------------\")\n",
    "print(\"*   index :\", j - 1)\n",
    "print(\"*    dist :\", \" \".join(map(lambda x: f\"{x:.4f}\", values_.cpu().tolist())))\n",
    "print(\"* fc-level:\", deck2[\"fcfeat\"][j - 1].argmax())\n",
    "print(\"----------------------------------------------------------------------------------------\")\n",
    "\n",
    "for idx in indices_:\n",
    "    print(\"* Level\", deck1[\"tlevel\"][idx].item(), \":\", deck1[\"otext\"][idx])\n",
    "    print(\"----------------------------------------------------------------------------------------\")\n",
    "\n",
    "shown = True"
   ]
  },
  {
   "cell_type": "code",
   "execution_count": 103,
   "id": "6e2d6bf7-d361-48a3-9ee8-efa4bb33c6c9",
   "metadata": {},
   "outputs": [
    {
     "name": "stdout",
     "output_type": "stream",
     "text": [
      "*  Submit : File 'HKEY_LOCAL_MACHINE\\System\\CurrentControlSet\\Services\\ConsentUxUserSvc' was added.\n",
      "----------------------------------------------------------------------------------------\n",
      "*   index : 35265\n",
      "*    dist : 0.2025 0.2165 0.2181 0.2383\n",
      "* fc-level: tensor(3)\n",
      "----------------------------------------------------------------------------------------\n",
      "* Level 3 : File 'HKEY_LOCAL_MACHINE\\System\\CurrentControlSet\\Services\\DusmSvc\\Parameters' was added.\n",
      "----------------------------------------------------------------------------------------\n",
      "* Level 3 : File 'HKEY_LOCAL_MACHINE\\System\\CurrentControlSet\\Services\\BTAGService' was added.\n",
      "----------------------------------------------------------------------------------------\n",
      "* Level 3 : File 'HKEY_LOCAL_MACHINE\\System\\CurrentControlSet\\Services\\diagsvc\\Parameters' was added.\n",
      "----------------------------------------------------------------------------------------\n",
      "* Level 3 : File 'HKEY_LOCAL_MACHINE\\System\\CurrentControlSet\\Services\\UsoSvc\\Security' was added.\n",
      "----------------------------------------------------------------------------------------\n"
     ]
    }
   ],
   "source": [
    "print(\"*  Submit :\", deck2[\"otext\"][j - 1])\n",
    "print(\"----------------------------------------------------------------------------------------\")\n",
    "print(\"*   index :\", j - 1)\n",
    "print(\"*    dist :\", \" \".join(map(lambda x: f\"{x:.4f}\", values_.cpu().tolist())))\n",
    "print(\"* fc-level:\", deck2[\"fcfeat\"][j - 1].argmax())\n",
    "print(\"----------------------------------------------------------------------------------------\")\n",
    "\n",
    "for idx in indices_:\n",
    "    print(\"* Level\", deck1[\"tlevel\"][idx].item(), \":\", deck1[\"otext\"][idx])\n",
    "    print(\"----------------------------------------------------------------------------------------\")\n",
    "\n",
    "shown = True"
   ]
  },
  {
   "cell_type": "code",
   "execution_count": 82,
   "id": "5992242e-c626-4e4d-bc93-e7282fad2b4b",
   "metadata": {},
   "outputs": [
    {
     "name": "stdout",
     "output_type": "stream",
     "text": [
      "*  Submit : 2020 month day time WinEvtLog: Application: INFORMATION(11707): MsiInstaller: Laptop: DESKTOP-UDJIJER: DESKTOP-UDJIJER: Product: AWS Command Line Interface -- Installation completed successfully. (NULL) (NULL) (NULL) (NULL) (NULL) ?\n",
      "----------------------------------------------------------------------------------------\n",
      "*   index : 28909\n",
      "*    dist : 0.5196 0.6508 0.7234 0.7662\n",
      "* fc-level: tensor(3)\n",
      "----------------------------------------------------------------------------------------\n",
      "* Level 3 : 2021 month day time WinEvtLog: Application: INFORMATION(11707): MsiInstaller: DATATEK: DESKTOP-QQU2HFQ: DESKTOP-QQU2HFQ: Product: WiX Toolset v3.11 Native 2010 SDK -- Installation completed successfully. (NULL) (NULL) (NULL) (NULL) (NULL) ?\n",
      "----------------------------------------------------------------------------------------\n",
      "* Level 3 : 2021 month day time WinEvtLog: Application: INFORMATION(11707): MsiInstaller: DATATEK: DESKTOP-QQU2HFQ: DESKTOP-QQU2HFQ: Product: Microsoft Visual C++ 2010 x64 Redistributable - 10.0.30319 -- Installation completed successfully. (NULL) (NULL) (NULL) (NULL) (NULL) ?\n",
      "----------------------------------------------------------------------------------------\n",
      "* Level 3 : 2021 month day time WinEvtLog: Application: INFORMATION(11707): MsiInstaller: admin: DESKTOP-8SVLRVI: DESKTOP-8SVLRVI: Product: Microsoft Visual C++ 2012 x86 Minimum Runtime - 11.0.61030 -- Installation completed successfully. (NULL) (NULL) (NULL) (NULL) (NULL) ?\n",
      "----------------------------------------------------------------------------------------\n",
      "* Level 3 : 2020 month day time WinEvtLog: System: ERROR(10010): DCOM: SYSTEM: NT AUTHORITY: DESKTOP-M1KNS65: {B91D5831-B1BD-4608-8198-D72E155020F7}\n",
      "----------------------------------------------------------------------------------------\n"
     ]
    }
   ],
   "source": [
    "print(\"*  Submit :\", deck2[\"otext\"][j - 1])\n",
    "print(\"----------------------------------------------------------------------------------------\")\n",
    "print(\"*   index :\", j - 1)\n",
    "print(\"*    dist :\", \" \".join(map(lambda x: f\"{x:.4f}\", values_.cpu().tolist())))\n",
    "print(\"* fc-level:\", deck2[\"fcfeat\"][j - 1].argmax())\n",
    "print(\"----------------------------------------------------------------------------------------\")\n",
    "\n",
    "for idx in indices_:\n",
    "    print(\"* Level\", deck1[\"tlevel\"][idx].item(), \":\", deck1[\"otext\"][idx])\n",
    "    print(\"----------------------------------------------------------------------------------------\")\n",
    "\n",
    "shown = True"
   ]
  },
  {
   "cell_type": "code",
   "execution_count": 74,
   "id": "f635b373-5b71-419f-ac8c-a09f3d5479f0",
   "metadata": {},
   "outputs": [
    {
     "name": "stdout",
     "output_type": "stream",
     "text": [
      "*  Submit : month day time localhost sshd pid : PAM 2 more authentication failures; logname= uid=0 euid=0 tty=ssh ruser= rhost= ip user=root\n",
      "----------------------------------------------------------------------------------------\n",
      "*   index : 26611\n",
      "*    dist : 1.1733 1.5924 1.8640 1.8640\n",
      "* fc-level: tensor(3)\n",
      "----------------------------------------------------------------------------------------\n",
      "* Level 3 : month day time localhost sshd pid : Disconnecting: Too many authentication failures [preauth]\n",
      "----------------------------------------------------------------------------------------\n",
      "* Level 3 : month day time localhost su: pam_unix(su:auth): authentication failure; logname=m2appl uid=1000 euid=0 tty=pts/1 ruser=m2appl rhost= user=root\n",
      "----------------------------------------------------------------------------------------\n",
      "* Level 3 : 2020 month day time WinEvtLog: System: ERROR(10010): DCOM: Laptop: DESKTOP-UDJIJER: DESKTOP-UDJIJER: Microsoft.SkypeApp_ ip _x86__kzf8qxf38zg5c!App.AppXtwmqn4em5r5dpafgj4t4yyxgjfe0hr50.mca\n",
      "----------------------------------------------------------------------------------------\n",
      "* Level 3 : 2020 month day time WinEvtLog: System: ERROR(10010): DCOM: Laptop: DESKTOP-UDJIJER: DESKTOP-UDJIJER: Microsoft.SkypeApp_ ip _x86__kzf8qxf38zg5c!App.AppXtwmqn4em5r5dpafgj4t4yyxgjfe0hr50.mca\n",
      "----------------------------------------------------------------------------------------\n"
     ]
    }
   ],
   "source": [
    "print(\"*  Submit :\", deck2[\"otext\"][j - 1])\n",
    "print(\"----------------------------------------------------------------------------------------\")\n",
    "print(\"*   index :\", j - 1)\n",
    "print(\"*    dist :\", \" \".join(map(lambda x: f\"{x:.4f}\", values_.cpu().tolist())))\n",
    "print(\"* fc-level:\", deck2[\"fcfeat\"][j - 1].argmax())\n",
    "print(\"----------------------------------------------------------------------------------------\")\n",
    "\n",
    "for idx in indices_:\n",
    "    print(\"* Level\", deck1[\"tlevel\"][idx].item(), \":\", deck1[\"otext\"][idx])\n",
    "    print(\"----------------------------------------------------------------------------------------\")\n",
    "\n",
    "shown = True"
   ]
  },
  {
   "cell_type": "code",
   "execution_count": 64,
   "id": "25a930ff-f289-4eaa-ad17-b0f632d96cf2",
   "metadata": {},
   "outputs": [
    {
     "name": "stdout",
     "output_type": "stream",
     "text": [
      "*  Submit : oscap: msg: \"xccdf-result\", scan-id: \"0001602504006\", content: \"ssg-centos-7-ds.xml\", title: \"Ensure gpgcheck Enabled For All Yum Package Repositories\", id: \"xccdf_org.ssgproject.content_rule_ensure_gpgcheck_never_disabled\", result: \"fail\", severity: \"high\", description: \"To ensure signature checking is not disabled for any repos, remove any lines from files in /etc/yum.repos.d of the form: gpgcheck=0\", rationale: \"Verifying the authenticity of the software prior to installation validates the integrity of the patch or upgrade received from a vendor. This ensures the software has not been tampered with and that it has been provided by a trusted vendor. Self-signed certificates are disallowed by this requirement. Certificates used to verify the software must be from an approved Certificate Authority (CA).\" references: \"CM-5(3) (http://nvlpubs.nist.gov/nistpubs/SpecialPublications/NIST.SP.800-53r4.pdf), SI-7 (http://nvlpubs.nist.gov/nistpubs/SpecialPublications/NIST.SP.800-53r4.pdf), MA-1(b) (http://nvlpubs.nist.gov/nistpubs/SpecialPublications/NIST.SP.800-53r4.pdf), 1749 (http://iase.disa.mil/stigs/cci/Pages/index.aspx), 366 (http://iase.disa.mil/stigs/srgs/Pages/index.aspx), Req-6.2 (https://www.pcisecuritystandards.org/documents/PCI_DSS_v3-1.pdf), ip (https://www.fbi.gov/file-repository/cjis-security-policy-v5_5_2016 date .pdf), 3.4.8 (http://nvlpubs.nist.gov/nistpubs/SpecialPublications/NIST.SP.800-171.pdf)\", identifiers: \"\", oval-id: \"oval:ssg-ensure_gpgcheck_never_disabled:def:1\", bench month k-id: \"xccdf_org.ssgproject.content_bench month k_RHEL-7\", profile-id: \"xccdf_org.ssgproject.content_profile_pci-dss\", profile-title: \"PCI-DSS v3 Control Baseline for Red Hat Enterprise Linux 7\".\n",
      "----------------------------------------------------------------------------------------\n",
      "*   index : 22246\n",
      "*    dist : 0.3305 0.3312 0.3492 0.3498\n",
      "* fc-level: tensor(3)\n",
      "----------------------------------------------------------------------------------------\n",
      "* Level 3 : oscap: msg: \"xccdf-result\", scan-id: \"0001602230710\", content: \"ssg-centos-7-ds.xml\", title: \"Ensure /var/log/audit Located On month arate Partition\", id: \"xccdf_org.ssgproject.content_rule_partition_for_var_log_audit\", result: \"fail\", severity: \"low\", description: \"Audit logs are stored in the /var/log/audit directory. Ensure that it has its own partition or logical volume at installation time, or migrate it later using LVM. Make absolutely certain that it is large enough to store all audit logs that will be created by the auditing daemon.\", rationale: \"Placing /var/log/audit in its own partition enables better month aration between audit files and other files, and helps ensure that auditing cannot be halted due to the partition running out of space.\" references: \"AU-4 (http://nvlpubs.nist.gov/nistpubs/SpecialPublications/NIST.SP.800-53r4.pdf), AU-9 (http://nvlpubs.nist.gov/nistpubs/SpecialPublications/NIST.SP.800-53r4.pdf), SC-32(1) (http://nvlpubs.nist.gov/nistpubs/SpecialPublications/NIST.SP.800-53r4.pdf), 366 (http://iase.disa.mil/stigs/cci/Pages/index.aspx), 1.1.12 (https://bench month ks.cisecurity.org/tools2/linux/CIS_Red_Hat_Enterprise_Linux_7_Bench month k_v1.1.0.pdf), SRG-OS-000480-GPOS-00227 (http://iase.disa.mil/stigs/srgs/Pages/index.aspx)\", identifiers: \"\", oval-id: \"oval:ssg-partition_for_var_log_audit:def:1\", bench month k-id: \"xccdf_org.ssgproject.content_bench month k_RHEL-7\", profile-id: \"xccdf_org.ssgproject.content_profile_common\", profile-title: \"Common Profile for General-Purpose Systems\".\n",
      "----------------------------------------------------------------------------------------\n",
      "* Level 3 : oscap: msg: \"xccdf-result\", scan-id: \"0001602054310\", content: \"ssg-centos-7-ds.xml\", title: \"Ensure /var/log/audit Located On month arate Partition\", id: \"xccdf_org.ssgproject.content_rule_partition_for_var_log_audit\", result: \"fail\", severity: \"low\", description: \"Audit logs are stored in the /var/log/audit directory. Ensure that it has its own partition or logical volume at installation time, or migrate it later using LVM. Make absolutely certain that it is large enough to store all audit logs that will be created by the auditing daemon.\", rationale: \"Placing /var/log/audit in its own partition enables better month aration between audit files and other files, and helps ensure that auditing cannot be halted due to the partition running out of space.\" references: \"AU-4 (http://nvlpubs.nist.gov/nistpubs/SpecialPublications/NIST.SP.800-53r4.pdf), AU-9 (http://nvlpubs.nist.gov/nistpubs/SpecialPublications/NIST.SP.800-53r4.pdf), SC-32(1) (http://nvlpubs.nist.gov/nistpubs/SpecialPublications/NIST.SP.800-53r4.pdf), 366 (http://iase.disa.mil/stigs/cci/Pages/index.aspx), 1.1.12 (https://bench month ks.cisecurity.org/tools2/linux/CIS_Red_Hat_Enterprise_Linux_7_Bench month k_v1.1.0.pdf), SRG-OS-000480-GPOS-00227 (http://iase.disa.mil/stigs/srgs/Pages/index.aspx)\", identifiers: \"\", oval-id: \"oval:ssg-partition_for_var_log_audit:def:1\", bench month k-id: \"xccdf_org.ssgproject.content_bench month k_RHEL-7\", profile-id: \"xccdf_org.ssgproject.content_profile_common\", profile-title: \"Common Profile for General-Purpose Systems\".\n",
      "----------------------------------------------------------------------------------------\n",
      "* Level 3 : oscap: msg: \"xccdf-result\", scan-id: \"0001600739632\", content: \"ssg-centos-7-ds.xml\", title: \"Record Events that Modify the System's Network Environment\", id: \"xccdf_org.ssgproject.content_rule_audit_rules_networkconfig_modification\", result: \"fail\", severity: \"low\", description: \"If the auditd daemon is configured to use the month enrules program to read audit rules during daemon startup (the default), add the following lines to a file with suffix .rules in the directory /etc/audit/rules.d, setting ARCH to either b32 or b64 as appropriate for your system: -a always,exit -F arch=ARCH -S sethostname,setdomainname -F key=audit_rules_networkconfig_modification -w /etc/issue -p wa -k audit_rules_networkconfig_modification -w /etc/issue.net -p wa -k audit_rules_networkconfig_modification -w /etc/hosts -p wa -k audit_rules_networkconfig_modification -w /etc/sysconfig/network -p wa -k audit_rules_networkconfig_modification If the auditd daemon is configured to use the auditctl utility to read audit rules during daemon startup, add the following lines to /etc/audit/audit.rules file, setting ARCH to either b32 or b64 as appropriate for your system: -a always,exit -F arch=ARCH -S sethostname,setdomainname -F key=audit_rules_networkconfig_modification -w /etc/issue -p wa -k audit_rules_networkconfig_modification -w /etc/issue.net -p wa -k audit_rules_networkconfig_modification -w /etc/hosts -p wa -k audit_rules_networkconfig_modification -w /etc/sysconfig/network -p wa -k audit_rules_networkconfig_modification\", rationale: \"The network environment should not be modified by anything other than administrator action. Any change to network parameters should be audited.\" references: \"AC-17(7) (http://nvlpubs.nist.gov/nistpubs/SpecialPublications/NIST.SP.800-53r4.pdf), AU-1(b) (http://nvlpubs.nist.gov/nistpubs/SpecialPublications/NIST.SP.800-53r4.pdf), AU-2(a) (http://nvlpubs.nist.gov/nistpubs/SpecialPublications/NIST.SP.800-53r4.pdf), AU-2(c) (http://nvlpubs.nist.gov/nistpubs/SpecialPublications/NIST.SP.800-53r4.pdf), AU-2(d) (http://nvlpubs.nist.gov/nistpubs/SpecialPublications/NIST.SP.800-53r4.pdf), AU-12(a) (http://nvlpubs.nist.gov/nistpubs/SpecialPublications/NIST.SP.800-53r4.pdf), AU-12(c) (http://nvlpubs.nist.gov/nistpubs/SpecialPublications/NIST.SP.800-53r4.pdf), IR-5 (http://nvlpubs.nist.gov/nistpubs/SpecialPublications/NIST.SP.800-53r4.pdf), Req-10.5.5 (https://www.pcisecuritystandards.org/documents/PCI_DSS_v3-1.pdf), ip (https://www.fbi.gov/file-repository/cjis-security-policy-v5_5_2016 date .pdf), 5.2.6 (https://bench month ks.cisecurity.org/tools2/linux/CIS_Red_Hat_Enterprise_Linux_7_Bench month k_v1.1.0.pdf), 3.1.7 (http://nvlpubs.nist.gov/nistpubs/SpecialPublications/NIST.SP.800-171.pdf)\", identifiers: \"\", oval-id: \"oval:ssg-audit_rules_networkconfig_modification:def:1\", bench month k-id: \"xccdf_org.ssgproject.content_bench month k_RHEL-7\", profile-id: \"xccdf_org.ssgproject.content_profile_pci-dss\", profile-title: \"PCI-DSS v3 Control Baseline for Red Hat Enterprise Linux 7\".\n",
      "----------------------------------------------------------------------------------------\n",
      "* Level 3 : oscap: msg: \"xccdf-result\", scan-id: \"0001600739858\", content: \"ssg-centos-7-ds.xml\", title: \"Record Events that Modify the System's Network Environment\", id: \"xccdf_org.ssgproject.content_rule_audit_rules_networkconfig_modification\", result: \"fail\", severity: \"low\", description: \"If the auditd daemon is configured to use the month enrules program to read audit rules during daemon startup (the default), add the following lines to a file with suffix .rules in the directory /etc/audit/rules.d, setting ARCH to either b32 or b64 as appropriate for your system: -a always,exit -F arch=ARCH -S sethostname,setdomainname -F key=audit_rules_networkconfig_modification -w /etc/issue -p wa -k audit_rules_networkconfig_modification -w /etc/issue.net -p wa -k audit_rules_networkconfig_modification -w /etc/hosts -p wa -k audit_rules_networkconfig_modification -w /etc/sysconfig/network -p wa -k audit_rules_networkconfig_modification If the auditd daemon is configured to use the auditctl utility to read audit rules during daemon startup, add the following lines to /etc/audit/audit.rules file, setting ARCH to either b32 or b64 as appropriate for your system: -a always,exit -F arch=ARCH -S sethostname,setdomainname -F key=audit_rules_networkconfig_modification -w /etc/issue -p wa -k audit_rules_networkconfig_modification -w /etc/issue.net -p wa -k audit_rules_networkconfig_modification -w /etc/hosts -p wa -k audit_rules_networkconfig_modification -w /etc/sysconfig/network -p wa -k audit_rules_networkconfig_modification\", rationale: \"The network environment should not be modified by anything other than administrator action. Any change to network parameters should be audited.\" references: \"AC-17(7) (http://nvlpubs.nist.gov/nistpubs/SpecialPublications/NIST.SP.800-53r4.pdf), AU-1(b) (http://nvlpubs.nist.gov/nistpubs/SpecialPublications/NIST.SP.800-53r4.pdf), AU-2(a) (http://nvlpubs.nist.gov/nistpubs/SpecialPublications/NIST.SP.800-53r4.pdf), AU-2(c) (http://nvlpubs.nist.gov/nistpubs/SpecialPublications/NIST.SP.800-53r4.pdf), AU-2(d) (http://nvlpubs.nist.gov/nistpubs/SpecialPublications/NIST.SP.800-53r4.pdf), AU-12(a) (http://nvlpubs.nist.gov/nistpubs/SpecialPublications/NIST.SP.800-53r4.pdf), AU-12(c) (http://nvlpubs.nist.gov/nistpubs/SpecialPublications/NIST.SP.800-53r4.pdf), IR-5 (http://nvlpubs.nist.gov/nistpubs/SpecialPublications/NIST.SP.800-53r4.pdf), Req-10.5.5 (https://www.pcisecuritystandards.org/documents/PCI_DSS_v3-1.pdf), ip (https://www.fbi.gov/file-repository/cjis-security-policy-v5_5_2016 date .pdf), 5.2.6 (https://bench month ks.cisecurity.org/tools2/linux/CIS_Red_Hat_Enterprise_Linux_7_Bench month k_v1.1.0.pdf), 3.1.7 (http://nvlpubs.nist.gov/nistpubs/SpecialPublications/NIST.SP.800-171.pdf)\", identifiers: \"\", oval-id: \"oval:ssg-audit_rules_networkconfig_modification:def:1\", bench month k-id: \"xccdf_org.ssgproject.content_bench month k_RHEL-7\", profile-id: \"xccdf_org.ssgproject.content_profile_common\", profile-title: \"Common Profile for General-Purpose Systems\".\n",
      "----------------------------------------------------------------------------------------\n"
     ]
    }
   ],
   "source": [
    "print(\"*  Submit :\", deck2[\"otext\"][j - 1])\n",
    "print(\"----------------------------------------------------------------------------------------\")\n",
    "print(\"*   index :\", j - 1)\n",
    "print(\"*    dist :\", \" \".join(map(lambda x: f\"{x:.4f}\", values_.cpu().tolist())))\n",
    "print(\"* fc-level:\", deck2[\"fcfeat\"][j - 1].argmax())\n",
    "print(\"----------------------------------------------------------------------------------------\")\n",
    "\n",
    "for idx in indices_:\n",
    "    print(\"* Level\", deck1[\"tlevel\"][idx].item(), \":\", deck1[\"otext\"][idx])\n",
    "    print(\"----------------------------------------------------------------------------------------\")\n",
    "\n",
    "shown = True"
   ]
  },
  {
   "cell_type": "code",
   "execution_count": 39,
   "id": "56ce02f0-f380-4868-b0b8-d2d07a7fd9c0",
   "metadata": {},
   "outputs": [
    {
     "name": "stdout",
     "output_type": "stream",
     "text": [
      "*  Submit : File 'HKEY_LOCAL_MACHINE\\System\\CurrentControlSet\\Services\\CredentialEnrollmentManagerUserSvc_3cd2fea\\Security' was added.\n",
      "----------------------------------------------------------------------------------------\n",
      "*   index : 3217\n",
      "*    dist : 0.3321 0.3561 0.4183 0.4325\n",
      "* fc-level: tensor(3)\n",
      "----------------------------------------------------------------------------------------\n",
      "* Level 3 : File 'HKEY_LOCAL_MACHINE\\System\\CurrentControlSet\\Services\\WinSock2\\Parameters\\AppId_Catalog\\2C69D9F1' was added.\n",
      "----------------------------------------------------------------------------------------\n",
      "* Level 3 : File 'HKEY_LOCAL_MACHINE\\System\\CurrentControlSet\\Services\\EventLog\\System\\Microsoft-Windows-Hyper-V-Hypervisor' was added.\n",
      "----------------------------------------------------------------------------------------\n",
      "* Level 3 : File 'HKEY_LOCAL_MACHINE\\System\\CurrentControlSet\\Services\\EventLog\\System\\Microsoft-Windows-FailoverClustering-Client' was added.\n",
      "----------------------------------------------------------------------------------------\n",
      "* Level 3 : File 'HKEY_LOCAL_MACHINE\\Security\\Policy\\Accounts\\S-1-5-32-583' was added.\n",
      "----------------------------------------------------------------------------------------\n"
     ]
    }
   ],
   "source": [
    "print(\"*  Submit :\", deck2[\"otext\"][j - 1])\n",
    "print(\"----------------------------------------------------------------------------------------\")\n",
    "print(\"*   index :\", j - 1)\n",
    "print(\"*    dist :\", \" \".join(map(lambda x: f\"{x:.4f}\", values_.cpu().tolist())))\n",
    "print(\"* fc-level:\", deck2[\"fcfeat\"][j - 1].argmax())\n",
    "print(\"----------------------------------------------------------------------------------------\")\n",
    "\n",
    "for idx in indices_:\n",
    "    print(\"* Level\", deck1[\"tlevel\"][idx].item(), \":\", deck1[\"otext\"][idx])\n",
    "    print(\"----------------------------------------------------------------------------------------\")\n",
    "\n",
    "shown = True"
   ]
  }
 ],
 "metadata": {
  "kernelspec": {
   "display_name": "torch",
   "language": "python",
   "name": "torch"
  },
  "language_info": {
   "codemirror_mode": {
    "name": "ipython",
    "version": 3
   },
   "file_extension": ".py",
   "mimetype": "text/x-python",
   "name": "python",
   "nbconvert_exporter": "python",
   "pygments_lexer": "ipython3",
   "version": "3.7.10"
  }
 },
 "nbformat": 4,
 "nbformat_minor": 5
}
