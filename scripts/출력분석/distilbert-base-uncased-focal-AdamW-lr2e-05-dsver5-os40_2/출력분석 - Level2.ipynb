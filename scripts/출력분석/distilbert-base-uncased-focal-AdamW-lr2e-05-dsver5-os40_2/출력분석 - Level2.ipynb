{
 "cells": [
  {
   "cell_type": "code",
   "execution_count": null,
   "id": "ad89467b-d32e-44e9-8722-f41b1b4d0df1",
   "metadata": {},
   "outputs": [],
   "source": []
  },
  {
   "cell_type": "code",
   "execution_count": 31,
   "id": "a041ee83-2e94-4adf-a35b-c3f0e2461d23",
   "metadata": {},
   "outputs": [
    {
     "name": "stdout",
     "output_type": "stream",
     "text": [
      "*  Submit : The average number of logs between 20:00 and 21:00 is 4584. We reached 65427.\n",
      "----------------------------------------------------------------------------------------\n",
      "*   index : 50292\n",
      "*    dist : 0.1847 0.2227 0.2315 0.2317\n",
      "* fc-level: tensor(2)\n",
      "----------------------------------------------------------------------------------------\n",
      "* Level 2 : The average number of logs between 5:00 and 6:00 is 8362. We reached 93476.\n",
      "----------------------------------------------------------------------------------------\n",
      "* Level 2 : The average number of logs between 2:00 and 3:00 is 9428. We reached 75572.\n",
      "----------------------------------------------------------------------------------------\n",
      "* Level 2 : The average number of logs between 6:00 and 7:00 is 6420. We reached 28494.\n",
      "----------------------------------------------------------------------------------------\n",
      "* Level 2 : The average number of logs between 21:00 and 22:00 is 5325. We reached 95.\n",
      "----------------------------------------------------------------------------------------\n"
     ]
    }
   ],
   "source": [
    "print(\"*  Submit :\", deck2[\"otext\"][j - 1])\n",
    "print(\"----------------------------------------------------------------------------------------\")\n",
    "print(\"*   index :\", j - 1)\n",
    "print(\"*    dist :\", \" \".join(map(lambda x: f\"{x:.4f}\", values_.cpu().tolist())))\n",
    "print(\"* fc-level:\", deck2[\"fcfeat\"][j - 1].argmax())\n",
    "print(\"----------------------------------------------------------------------------------------\")\n",
    "\n",
    "for idx in indices_:\n",
    "    print(\"* Level\", deck1[\"tlevel\"][idx].item(), \":\", deck1[\"otext\"][idx])\n",
    "    print(\"----------------------------------------------------------------------------------------\")\n",
    "\n",
    "shown = True"
   ]
  },
  {
   "cell_type": "code",
   "execution_count": 60,
   "id": "b3dd81d6-1406-4b26-9037-05454d53387b",
   "metadata": {},
   "outputs": [
    {
     "name": "stdout",
     "output_type": "stream",
     "text": [
      "*  Submit : The average number of logs between 18:00 and 19:00 is 5572. We reached 94025.\n",
      "----------------------------------------------------------------------------------------\n",
      "*   index : 19064\n",
      "*    dist : 0.1540 0.2711 0.2800 0.2927\n",
      "* fc-level: tensor(2)\n",
      "----------------------------------------------------------------------------------------\n",
      "* Level 2 : The average number of logs between 5:00 and 6:00 is 8362. We reached 93476.\n",
      "----------------------------------------------------------------------------------------\n",
      "* Level 2 : The average number of logs between 10:00 and 11:00 is 5399. We reached 37090.\n",
      "----------------------------------------------------------------------------------------\n",
      "* Level 2 : The average number of logs between 21:00 and 22:00 is 5325. We reached 95.\n",
      "----------------------------------------------------------------------------------------\n",
      "* Level 2 : The average number of logs between 15:00 and 16:00 is 4411. We reached 9487.\n",
      "----------------------------------------------------------------------------------------\n"
     ]
    }
   ],
   "source": [
    "print(\"*  Submit :\", deck2[\"otext\"][j - 1])\n",
    "print(\"----------------------------------------------------------------------------------------\")\n",
    "print(\"*   index :\", j - 1)\n",
    "print(\"*    dist :\", \" \".join(map(lambda x: f\"{x:.4f}\", values_.cpu().tolist())))\n",
    "print(\"* fc-level:\", deck2[\"fcfeat\"][j - 1].argmax())\n",
    "print(\"----------------------------------------------------------------------------------------\")\n",
    "\n",
    "for idx in indices_:\n",
    "    print(\"* Level\", deck1[\"tlevel\"][idx].item(), \":\", deck1[\"otext\"][idx])\n",
    "    print(\"----------------------------------------------------------------------------------------\")\n",
    "\n",
    "shown = True"
   ]
  },
  {
   "cell_type": "code",
   "execution_count": 52,
   "id": "fd4e34c4-7afd-4821-8155-8ea44037678e",
   "metadata": {},
   "outputs": [
    {
     "name": "stdout",
     "output_type": "stream",
     "text": [
      "*  Submit : The average number of logs between 6:00 and 7:00 is 6708. We reached 48588.\n",
      "----------------------------------------------------------------------------------------\n",
      "*   index : 13058\n",
      "*    dist : 0.1538 0.1565 0.1991 0.2044\n",
      "* fc-level: tensor(2)\n",
      "----------------------------------------------------------------------------------------\n",
      "* Level 2 : The average number of logs between 2:00 and 3:00 is 9428. We reached 75572.\n",
      "----------------------------------------------------------------------------------------\n",
      "* Level 2 : The average number of logs between 6:00 and 7:00 is 6420. We reached 28494.\n",
      "----------------------------------------------------------------------------------------\n",
      "* Level 2 : The average number of logs between 15:00 and 16:00 is 4411. We reached 9487.\n",
      "----------------------------------------------------------------------------------------\n",
      "* Level 2 : The average number of logs between 4:00 and 5:00 is 2806. We reached 11476.\n",
      "----------------------------------------------------------------------------------------\n"
     ]
    }
   ],
   "source": [
    "print(\"*  Submit :\", deck2[\"otext\"][j - 1])\n",
    "print(\"----------------------------------------------------------------------------------------\")\n",
    "print(\"*   index :\", j - 1)\n",
    "print(\"*    dist :\", \" \".join(map(lambda x: f\"{x:.4f}\", values_.cpu().tolist())))\n",
    "print(\"* fc-level:\", deck2[\"fcfeat\"][j - 1].argmax())\n",
    "print(\"----------------------------------------------------------------------------------------\")\n",
    "\n",
    "for idx in indices_:\n",
    "    print(\"* Level\", deck1[\"tlevel\"][idx].item(), \":\", deck1[\"otext\"][idx])\n",
    "    print(\"----------------------------------------------------------------------------------------\")\n",
    "\n",
    "shown = True"
   ]
  }
 ],
 "metadata": {
  "kernelspec": {
   "display_name": "torch",
   "language": "python",
   "name": "torch"
  },
  "language_info": {
   "codemirror_mode": {
    "name": "ipython",
    "version": 3
   },
   "file_extension": ".py",
   "mimetype": "text/x-python",
   "name": "python",
   "nbconvert_exporter": "python",
   "pygments_lexer": "ipython3",
   "version": "3.7.10"
  }
 },
 "nbformat": 4,
 "nbformat_minor": 5
}
