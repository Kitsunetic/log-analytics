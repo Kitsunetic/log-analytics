{
 "cells": [
  {
   "cell_type": "code",
   "execution_count": 2,
   "id": "b76281d5-a092-435f-8224-66df9333801e",
   "metadata": {},
   "outputs": [
    {
     "name": "stdout",
     "output_type": "stream",
     "text": [
      "/home/shim/cev/dl/log-analytics\n"
     ]
    }
   ],
   "source": [
    "%load_ext lab_black\n",
    "%cd ../../.."
   ]
  },
  {
   "cell_type": "code",
   "execution_count": 26,
   "id": "c10787ce-838f-4046-adff-7ee042124097",
   "metadata": {},
   "outputs": [],
   "source": [
    "import torch\n",
    "import numpy as np\n",
    "import pandas as pd\n",
    "import pickle\n",
    "from tqdm import tqdm\n",
    "from collections import defaultdict\n",
    "import sys"
   ]
  },
  {
   "cell_type": "code",
   "execution_count": 4,
   "id": "f5569694-10f2-4446-b8d0-c4dabba7887c",
   "metadata": {},
   "outputs": [],
   "source": [
    "distdeck = torch.load(\"results/distilbert-base-uncased/distilbert-base-uncased-focal-AdamW-lr2e-05-dsver5-os40_2-distdeck.pth\")"
   ]
  },
  {
   "cell_type": "code",
   "execution_count": 5,
   "id": "132376a8-a8f9-455a-a696-de392a3a496e",
   "metadata": {},
   "outputs": [
    {
     "data": {
      "text/plain": [
       "(torch.Size([1418916, 4]), torch.Size([1418916, 4]))"
      ]
     },
     "execution_count": 5,
     "metadata": {},
     "output_type": "execute_result"
    }
   ],
   "source": [
    "distdeck[\"dist\"].shape, distdeck[\"level\"].shape"
   ]
  },
  {
   "cell_type": "code",
   "execution_count": 20,
   "id": "e02f75bd-c10f-4bcd-b1a3-85fd2387891e",
   "metadata": {},
   "outputs": [],
   "source": [
    "def policy(values_, tlevels):\n",
    "    is_same = (tlevels == tlevels[0]).all()\n",
    "    is_same2 = (tlevels[:2] == tlevels[0]).all()\n",
    "\n",
    "    if is_same and tlevels[0] == 6:\n",
    "        return 6 if values_[0] < 0.3 else 7  # TODO\n",
    "    if is_same and tlevels[0] == 5:\n",
    "        return 5 if values_[0] < 1.0 else 7\n",
    "    if is_same and tlevels[0] == 4:\n",
    "        return 4 if values_[0] < 0.3 else 7\n",
    "    if is_same and tlevels[0] == 3:\n",
    "        return 3 if values_[0] < 1.0 else 7\n",
    "    if is_same and tlevels[0] == 2:\n",
    "        return 2 if values_[0] < 0.3 else 7  # TODO\n",
    "    if is_same and tlevels[0] == 1:\n",
    "        return 1 if values_[0] < 0.18 else 7\n",
    "    if is_same and tlevels[0] == 0:\n",
    "        return 0 if values_[0] < 0.8 else 7\n",
    "\n",
    "    # 섞인경우\n",
    "    return tlevels[0].item() if values_[0] < 0.2 else 7"
   ]
  },
  {
   "cell_type": "code",
   "execution_count": 30,
   "id": "71e0f451-ead0-4fb0-9a8c-cb6c2c32dfb0",
   "metadata": {},
   "outputs": [
    {
     "name": "stdout",
     "output_type": "stream",
     "text": [
      "100%|███████████████████████████████████████████████████| 1418916/1418916 [02:31<00:00, 9336.10it/s]\n"
     ]
    }
   ],
   "source": [
    "N = distdeck[\"dist\"].size(0)\n",
    "out_levels = []\n",
    "with tqdm(total=N, ncols=100, file=sys.stdout) as t:\n",
    "    for i in range(N):\n",
    "        dists = distdeck[\"dist\"][i]\n",
    "        levels = distdeck[\"level\"][i]\n",
    "\n",
    "        out_level = policy(dists, levels)\n",
    "        out_levels.append(out_level)\n",
    "\n",
    "        t.update()"
   ]
  },
  {
   "cell_type": "code",
   "execution_count": 31,
   "id": "7c2bf237-df83-4500-afe3-2296e66c3fbd",
   "metadata": {},
   "outputs": [],
   "source": [
    "out_levels = np.array(out_levels)"
   ]
  },
  {
   "cell_type": "code",
   "execution_count": 32,
   "id": "f6463805-4354-4cad-bb66-0c92f44de3d9",
   "metadata": {},
   "outputs": [
    {
     "name": "stdout",
     "output_type": "stream",
     "text": [
      "0 : 1001419 70.58%\n",
      "1 : 396782 27.96%\n",
      "2 : 33 0.00%\n",
      "3 : 13018 0.92%\n",
      "4 : 34 0.00%\n",
      "5 : 6492 0.46%\n",
      "6 : 25 0.00%\n",
      "7 : 1113 0.08%\n"
     ]
    }
   ],
   "source": [
    "# 각 레벨별 개수\n",
    "for i in range(8):\n",
    "    cnt = sum(out_levels == i)\n",
    "    print(i, \":\", cnt, f\"{cnt / len(out_levels)*100:.2f}%\")"
   ]
  },
  {
   "cell_type": "code",
   "execution_count": 34,
   "id": "136107ea-e48c-494e-b6ac-f59c4a5a036e",
   "metadata": {},
   "outputs": [
    {
     "name": "stdout",
     "output_type": "stream",
     "text": [
      "0 : 334065 70.63%\n",
      "1 : 132517 28.02%\n",
      "2 : 12 0.00%\n",
      "3 : 4141 0.88%\n",
      "4 : 10 0.00%\n",
      "5 : 2219 0.47%\n",
      "6 : 8 0.00%\n",
      "7 : 0 0.00%\n"
     ]
    }
   ],
   "source": [
    "df = pd.read_csv(\"data/ori/train.csv\")\n",
    "train_levels = df.level.to_numpy()\n",
    "\n",
    "# 각 레벨별 개수 (train 데이터)\n",
    "for i in range(8):\n",
    "    cnt = sum(train_levels == i)\n",
    "    print(i, \":\", cnt, f\"{cnt / len(train_levels)*100:.2f}%\")"
   ]
  },
  {
   "cell_type": "code",
   "execution_count": 38,
   "id": "b61606fe-cbef-4022-9ad7-52eae59a8d80",
   "metadata": {},
   "outputs": [],
   "source": [
    "out_ids = list(range(1000000, 1000000 + len(out_levels)))"
   ]
  },
  {
   "cell_type": "code",
   "execution_count": 40,
   "id": "b86ad272-aa0c-4fed-b461-8af1ed9e69aa",
   "metadata": {},
   "outputs": [],
   "source": [
    "out_df = pd.DataFrame({\"id\": out_ids, \"level\": out_levels})"
   ]
  },
  {
   "cell_type": "code",
   "execution_count": 41,
   "id": "b1d3b24f-0677-4b1a-bc4b-2ecd80cb1620",
   "metadata": {},
   "outputs": [
    {
     "data": {
      "text/html": [
       "<div>\n",
       "<style scoped>\n",
       "    .dataframe tbody tr th:only-of-type {\n",
       "        vertical-align: middle;\n",
       "    }\n",
       "\n",
       "    .dataframe tbody tr th {\n",
       "        vertical-align: top;\n",
       "    }\n",
       "\n",
       "    .dataframe thead th {\n",
       "        text-align: right;\n",
       "    }\n",
       "</style>\n",
       "<table border=\"1\" class=\"dataframe\">\n",
       "  <thead>\n",
       "    <tr style=\"text-align: right;\">\n",
       "      <th></th>\n",
       "      <th>id</th>\n",
       "      <th>level</th>\n",
       "    </tr>\n",
       "  </thead>\n",
       "  <tbody>\n",
       "    <tr>\n",
       "      <th>0</th>\n",
       "      <td>1000000</td>\n",
       "      <td>0</td>\n",
       "    </tr>\n",
       "    <tr>\n",
       "      <th>1</th>\n",
       "      <td>1000001</td>\n",
       "      <td>0</td>\n",
       "    </tr>\n",
       "    <tr>\n",
       "      <th>2</th>\n",
       "      <td>1000002</td>\n",
       "      <td>1</td>\n",
       "    </tr>\n",
       "    <tr>\n",
       "      <th>3</th>\n",
       "      <td>1000003</td>\n",
       "      <td>0</td>\n",
       "    </tr>\n",
       "    <tr>\n",
       "      <th>4</th>\n",
       "      <td>1000004</td>\n",
       "      <td>1</td>\n",
       "    </tr>\n",
       "    <tr>\n",
       "      <th>...</th>\n",
       "      <td>...</td>\n",
       "      <td>...</td>\n",
       "    </tr>\n",
       "    <tr>\n",
       "      <th>1418911</th>\n",
       "      <td>2418911</td>\n",
       "      <td>0</td>\n",
       "    </tr>\n",
       "    <tr>\n",
       "      <th>1418912</th>\n",
       "      <td>2418912</td>\n",
       "      <td>0</td>\n",
       "    </tr>\n",
       "    <tr>\n",
       "      <th>1418913</th>\n",
       "      <td>2418913</td>\n",
       "      <td>1</td>\n",
       "    </tr>\n",
       "    <tr>\n",
       "      <th>1418914</th>\n",
       "      <td>2418914</td>\n",
       "      <td>0</td>\n",
       "    </tr>\n",
       "    <tr>\n",
       "      <th>1418915</th>\n",
       "      <td>2418915</td>\n",
       "      <td>0</td>\n",
       "    </tr>\n",
       "  </tbody>\n",
       "</table>\n",
       "<p>1418916 rows × 2 columns</p>\n",
       "</div>"
      ],
      "text/plain": [
       "              id  level\n",
       "0        1000000      0\n",
       "1        1000001      0\n",
       "2        1000002      1\n",
       "3        1000003      0\n",
       "4        1000004      1\n",
       "...          ...    ...\n",
       "1418911  2418911      0\n",
       "1418912  2418912      0\n",
       "1418913  2418913      1\n",
       "1418914  2418914      0\n",
       "1418915  2418915      0\n",
       "\n",
       "[1418916 rows x 2 columns]"
      ]
     },
     "execution_count": 41,
     "metadata": {},
     "output_type": "execute_result"
    }
   ],
   "source": [
    "out_df"
   ]
  },
  {
   "cell_type": "code",
   "execution_count": 42,
   "id": "ce24eec0-691e-4773-ae5b-b36abe405e3a",
   "metadata": {},
   "outputs": [],
   "source": [
    "out_df.to_csv(\n",
    "    \"results/distilbert-base-uncased/distilbert-base-uncased-focal-AdamW-lr2e-05-dsver5-os40_2-out_ver1.csv\", index=False\n",
    ")"
   ]
  },
  {
   "cell_type": "code",
   "execution_count": null,
   "id": "e37d01d0-7582-4500-b68e-95ba8f7f0795",
   "metadata": {},
   "outputs": [],
   "source": []
  }
 ],
 "metadata": {
  "kernelspec": {
   "display_name": "torch",
   "language": "python",
   "name": "torch"
  },
  "language_info": {
   "codemirror_mode": {
    "name": "ipython",
    "version": 3
   },
   "file_extension": ".py",
   "mimetype": "text/x-python",
   "name": "python",
   "nbconvert_exporter": "python",
   "pygments_lexer": "ipython3",
   "version": "3.7.9"
  }
 },
 "nbformat": 4,
 "nbformat_minor": 5
}
