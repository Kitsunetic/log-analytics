{
 "cells": [
  {
   "cell_type": "code",
   "execution_count": 1,
   "id": "scientific-problem",
   "metadata": {
    "tags": []
   },
   "outputs": [
    {
     "name": "stdout",
     "output_type": "stream",
     "text": [
      "/mnt/h/hev/log-analytics\n"
     ]
    }
   ],
   "source": [
    "%load_ext lab_black\n",
    "%cd ../../.."
   ]
  },
  {
   "cell_type": "code",
   "execution_count": 2,
   "id": "prospective-electricity",
   "metadata": {},
   "outputs": [],
   "source": [
    "import torch\n",
    "import numpy as np\n",
    "import pandas as pd\n",
    "import pickle\n",
    "from tqdm import tqdm\n",
    "from collections import defaultdict\n",
    "import sys"
   ]
  },
  {
   "cell_type": "code",
   "execution_count": 3,
   "id": "statewide-alarm",
   "metadata": {},
   "outputs": [],
   "source": [
    "distdeck = torch.load(\n",
    "    \"results/distilbert-base-uncased-ver8/distilbert-base-uncased-focal-AdamW-lr1e-05-ver8-os10_1-distdeck.pth\"\n",
    ")"
   ]
  },
  {
   "cell_type": "code",
   "execution_count": 4,
   "id": "pretty-export",
   "metadata": {},
   "outputs": [],
   "source": [
    "deck2 = torch.load(\"results/distilbert-base-uncased-ver8/distilbert-base-uncased-focal-AdamW-lr1e-05-ver8-os10_1-deck2.pth\")"
   ]
  },
  {
   "cell_type": "code",
   "execution_count": 5,
   "id": "forty-integer",
   "metadata": {},
   "outputs": [],
   "source": [
    "df = pd.read_csv(\"data/ori/test.csv\")"
   ]
  },
  {
   "cell_type": "code",
   "execution_count": 7,
   "id": "dental-pierre",
   "metadata": {},
   "outputs": [
    {
     "data": {
      "text/plain": [
       "(torch.Size([1095951, 4]), torch.Size([1095951, 4]))"
      ]
     },
     "execution_count": 7,
     "metadata": {},
     "output_type": "execute_result"
    }
   ],
   "source": [
    "distdeck[\"dist\"].shape, distdeck[\"tlevel\"].shape"
   ]
  },
  {
   "cell_type": "code",
   "execution_count": 8,
   "id": "cooked-nancy",
   "metadata": {},
   "outputs": [
    {
     "data": {
      "text/plain": [
       "(dict_keys(['dist', 'tlevel', 'fclevel', 'index', 'ids']),\n",
       " dict_keys(['feat', 'otext', 'fclevel', 'ids']))"
      ]
     },
     "execution_count": 8,
     "metadata": {},
     "output_type": "execute_result"
    }
   ],
   "source": [
    "distdeck.keys(), deck2.keys()"
   ]
  },
  {
   "cell_type": "code",
   "execution_count": 9,
   "id": "afraid-colombia",
   "metadata": {},
   "outputs": [],
   "source": [
    "total_len = 1418916"
   ]
  },
  {
   "cell_type": "code",
   "execution_count": 65,
   "id": "initial-energy",
   "metadata": {},
   "outputs": [],
   "source": [
    "def policy(dists, tlevels, fclevel):\n",
    "    if (tlevels[:3] == 5).all():\n",
    "        return 5 if dists[0] < 1.2 else 7\n",
    "    if (tlevels[:3] == 3).all():\n",
    "        return 3 if dists[0] < 1.2 else 7\n",
    "    if fclevel in [6, 4, 2]:\n",
    "        return fclevel.item()\n",
    "    if dists[0] < 0.7:\n",
    "        # return tlevels[0].item()\n",
    "        return fclevel.item()\n",
    "    return 7"
   ]
  },
  {
   "cell_type": "code",
   "execution_count": 66,
   "id": "mediterranean-vocabulary",
   "metadata": {},
   "outputs": [
    {
     "name": "stdout",
     "output_type": "stream",
     "text": [
      "100%|██████████████████████████████████████████████████| 1095951/1095951 [01:43<00:00, 10624.89it/s]\n"
     ]
    }
   ],
   "source": [
    "out_dists = [None for _ in range(total_len)]\n",
    "out_levels = [None for _ in range(total_len)]\n",
    "out_fclevels = [None for _ in range(total_len)]\n",
    "N = distdeck[\"dist\"].size(0)\n",
    "with tqdm(total=N, ncols=100, file=sys.stdout) as t:\n",
    "    for i in range(N):\n",
    "        dists = distdeck[\"dist\"][i]\n",
    "        levels = distdeck[\"tlevel\"][i]\n",
    "        fclevel = deck2[\"fclevel\"][i]\n",
    "        out_level = policy(dists, levels, fclevel)\n",
    "        ids = deck2[\"ids\"][i]\n",
    "        for j in ids:\n",
    "            out_levels[j - 1000000] = out_level\n",
    "            out_dists[j - 1000000] = dists\n",
    "            out_fclevels[j - 1000000] = fclevel\n",
    "        t.update()"
   ]
  },
  {
   "cell_type": "code",
   "execution_count": 67,
   "id": "dietary-vampire",
   "metadata": {},
   "outputs": [],
   "source": [
    "out_levels = np.array(out_levels)"
   ]
  },
  {
   "cell_type": "code",
   "execution_count": 68,
   "id": "synthetic-printer",
   "metadata": {},
   "outputs": [
    {
     "name": "stdout",
     "output_type": "stream",
     "text": [
      "0 : 1001305 70.57%\n",
      "1 : 394492 27.80%\n",
      "2 : 48 0.00%\n",
      "3 : 12831 0.90%\n",
      "4 : 34 0.00%\n",
      "5 : 6376 0.45%\n",
      "6 : 31 0.00%\n",
      "7 : 3799 0.27%\n"
     ]
    }
   ],
   "source": [
    "# 각 레벨별 개수 0.5이하일 때 fclevel을 쓰기로\n",
    "for i in range(8):\n",
    "    cnt = (out_levels == i).sum()\n",
    "    print(i, \":\", cnt, f\"{cnt / len(out_levels)*100:.2f}%\")"
   ]
  },
  {
   "cell_type": "markdown",
   "id": "7a4e2bad-fac4-4e96-96f6-f95127200ad5",
   "metadata": {},
   "source": [
    "```\n",
    "0 : 1003955 70.76%\n",
    "1 : 395007 27.84%\n",
    "2 : 42 0.00%\n",
    "3 : 12950 0.91%\n",
    "4 : 34 0.00%\n",
    "5 : 6334 0.45%\n",
    "6 : 31 0.00%\n",
    "7 : 563 0.04%\n",
    "```"
   ]
  },
  {
   "cell_type": "code",
   "execution_count": 39,
   "id": "coated-while",
   "metadata": {},
   "outputs": [
    {
     "data": {
      "text/plain": [
       "(array([  35574,   64268,   73308,   86431,   92457,  147553,  175492,\n",
       "         179014,  210545,  240872,  340297,  355854,  374455,  451522,\n",
       "         484782,  499683,  507877,  529914,  563330,  624698,  633202,\n",
       "         647782,  652696,  657244,  667019,  714497,  848132,  881660,\n",
       "        1113383, 1125342, 1169189, 1293703, 1394234]),)"
      ]
     },
     "execution_count": 39,
     "metadata": {},
     "output_type": "execute_result"
    }
   ],
   "source": [
    "(out_levels == 6).nonzero()"
   ]
  },
  {
   "cell_type": "code",
   "execution_count": null,
   "id": "0a2e850e-27ca-40c4-bf3e-81968789b05a",
   "metadata": {},
   "outputs": [],
   "source": []
  },
  {
   "cell_type": "code",
   "execution_count": 15,
   "id": "3608d971-dd48-476f-98fa-3e2e4f9df5bd",
   "metadata": {},
   "outputs": [],
   "source": [
    "xdf = pd.read_csv(\"results/distilbert-base-uncased-ver7/distilbert-base-uncased-focal-AdamW-lr1e-05-ver7-os10_3-out_ver2.csv\")"
   ]
  },
  {
   "cell_type": "code",
   "execution_count": 16,
   "id": "19e36b3b-8a4b-4195-8646-7da668460b13",
   "metadata": {},
   "outputs": [],
   "source": [
    "xlevels = xdf.level.to_numpy()"
   ]
  },
  {
   "cell_type": "code",
   "execution_count": 17,
   "id": "7608de02-8ef2-42aa-b52b-acf43fffd61d",
   "metadata": {},
   "outputs": [
    {
     "data": {
      "text/plain": [
       "(array([  35574,   64268,   73308,   86431,   92457,  147553,  175492,\n",
       "         179014,  210545,  240872,  340297,  355854,  374455,  451522,\n",
       "         484782,  499683,  507877,  529914,  563330,  624698,  633202,\n",
       "         647782,  652696,  714497,  848132,  881660, 1113383, 1125342,\n",
       "        1169189, 1293703, 1394234]),)"
      ]
     },
     "execution_count": 17,
     "metadata": {},
     "output_type": "execute_result"
    }
   ],
   "source": [
    "(xlevels == 6).nonzero()"
   ]
  },
  {
   "cell_type": "code",
   "execution_count": 18,
   "id": "c2a95c40-0ad8-412c-8cb6-78852bac6860",
   "metadata": {},
   "outputs": [],
   "source": [
    "tdf = pd.read_csv(\"data/ori/train.csv\")"
   ]
  },
  {
   "cell_type": "code",
   "execution_count": 19,
   "id": "1f5d1199-6fc8-47ff-8cb2-26f25c22fd5b",
   "metadata": {},
   "outputs": [],
   "source": [
    "otexts = tdf.full_log.to_numpy()"
   ]
  },
  {
   "cell_type": "code",
   "execution_count": 20,
   "id": "52aa414d-2f52-4a8a-9544-2a3ebf257ab3",
   "metadata": {},
   "outputs": [],
   "source": [
    "def find(text):\n",
    "    out_indices = []\n",
    "    for i, otext in enumerate(otexts):\n",
    "        if text in otext:\n",
    "            return i\n",
    "\n",
    "\n",
    "def find_all(text):\n",
    "    out_indices = []\n",
    "    for i, otext in enumerate(otexts):\n",
    "        if text in otext:\n",
    "            out_indices.append(i)\n",
    "    return out_indices"
   ]
  },
  {
   "cell_type": "code",
   "execution_count": 63,
   "id": "72381033-92ff-4ecf-84b1-8b729b416429",
   "metadata": {},
   "outputs": [
    {
     "data": {
      "text/plain": [
       "[262, 362, 581, 1863, 2454, 3043, 4013, 4862, 5252, 6793]"
      ]
     },
     "execution_count": 63,
     "metadata": {},
     "output_type": "execute_result"
    }
   ],
   "source": [
    "find_all(\"ossec-control status\")[:10]"
   ]
  },
  {
   "cell_type": "code",
   "execution_count": 64,
   "id": "fbfa7331-bb4a-448f-a354-b29996e5f703",
   "metadata": {},
   "outputs": [
    {
     "data": {
      "text/plain": [
       "(1,\n",
       " 'Mar  2 22:00:01 localhost sudo:    root : TTY=unknown ; PWD=/root ; USER=root ; COMMAND=/var/esild/bin/ossec-control status')"
      ]
     },
     "execution_count": 64,
     "metadata": {},
     "output_type": "execute_result"
    }
   ],
   "source": [
    "tdf.level[262], tdf.full_log[262]"
   ]
  },
  {
   "cell_type": "code",
   "execution_count": 69,
   "id": "b86cd091-88f0-4bb0-8549-87332131e2b7",
   "metadata": {},
   "outputs": [
    {
     "name": "stdout",
     "output_type": "stream",
     "text": [
      "   13058 | The average number of logs between 6:00 and 7:00 is 6708. We reached 48588.\n",
      "   19064 | The average number of logs between 18:00 and 19:00 is 5572. We reached 94025.\n",
      "   50292 | The average number of logs between 20:00 and 21:00 is 4584. We reached 65427.\n",
      "   77934 | The average number of logs between 7:00 and 8:00 is 2359. We reached 67869.\n",
      "  136006 | The average number of logs between 3:00 and 4:00 is 2163. We reached 80857.\n",
      "  236519 | The average number of logs between 11:00 and 12:00 is 9137. We reached 41070.\n",
      "  247477 | The average number of logs between 8:00 and 9:00 is 8389. We reached 23698.\n",
      "  274200 | The average number of logs between 1:00 and 2:00 is 4017. We reached 41065.\n",
      "  286782 | The average number of logs between 0:00 and 1:00 is 12403. We reached 31009.\n",
      "  304176 | The average number of logs between 0:00 and 1:00 is 6204. We reached 15512.\n",
      "  333032 | The average number of logs between 0:00 and 1:00 is 2949. We reached 71943.\n",
      "  344080 | Dec 15 14:23:41 localhost sudo:  apache : TTY=unknown ; PWD=/var/www/html/management ; USER=root ; COMMAND=/bin/curl -XGET localhost:9200/_cat/snapshots/esild_backup\n",
      "  371882 | The average number of logs between 12:00 and 13:00 is 2737. We reached 54401.\n",
      "  377311 | The average number of logs between 17:00 and 18:00 is 8746. We reached 14630.\n",
      "  395334 | The average number of logs between 4:00 and 5:00 is 9785. We reached 69312.\n",
      "  414297 | The average number of logs between 19:00 and 20:00 is 5536. We reached 58058.\n",
      "  462289 | The average number of logs between 1:00 and 2:00 is 6412. We reached 16032.\n",
      "  507326 | Oct 14 15:15:51 localhost sudo:  apache : TTY=unknown ; PWD=/var/www/html/management ; USER=root ; COMMAND=/bin/curl -XGET localhost:9200/_cat/snapshots/esild_backup\n",
      "  515078 | The average number of logs between 23:00 and 24:00 is 544. We reached 62432.\n",
      "  551365 | Nov 13 11:09:00 localhost sudo:  apache : TTY=unknown ; PWD=/var/www/html/management ; USER=root ; COMMAND=/bin/curl -XGET localhost:9200/_cat/snapshots/esild_backup\n",
      "  577752 | Dec 15 16:12:28 localhost sudo:  apache : TTY=unknown ; PWD=/var/www/html/management ; USER=root ; COMMAND=/bin/curl -XGET localhost:9200/_cat/snapshots/esild_backup\n",
      "  668103 | The average number of logs between 9:00 and 10:00 is 4628. We reached 52755.\n",
      "  738767 | The average number of logs between 11:00 and 12:00 is 18641. We reached 46604.\n",
      "  740825 | Jan  8 15:02:03 localhost sudo:  apache : TTY=unknown ; PWD=/var/www/html/management ; USER=root ; COMMAND=/bin/curl -XGET localhost:9200/_cat/snapshots/esild_backup\n",
      "  748044 | The average number of logs between 13:00 and 14:00 is 8031. We reached 20079.\n",
      "  780270 | The average number of logs between 13:00 and 14:00 is 17442. We reached 43607.\n",
      "  839319 | The average number of logs between 12:00 and 13:00 is 17750. We reached 44377.\n",
      "  863210 | The average number of logs between 2:00 and 3:00 is 6202. We reached 15507.\n",
      "  881808 | The average number of logs between 23:00 and 24:00 is 15951. We reached 39879.\n",
      "  886400 | The average number of logs between 2:00 and 3:00 is 6859. We reached 3185.\n",
      "  908764 | The average number of logs between 16:00 and 17:00 is 4812. We reached 64995.\n",
      "  964364 | Sep 18 14:06:59 localhost sudo:  apache : TTY=unknown ; PWD=/var/www/html/management ; USER=root ; COMMAND=/bin/curl -XGET localhost:9200/_cat/snapshots/esild_backup\n",
      " 1023406 | The average number of logs between 22:00 and 23:00 is 7171. We reached 64739.\n",
      " 1037710 | The average number of logs between 14:00 and 15:00 is 7772. We reached 19432.\n",
      " 1077887 | Sep 24 16:52:44 localhost sudo:  apache : TTY=unknown ; PWD=/var/www/html/management ; USER=root ; COMMAND=/bin/curl -XGET localhost:9200/_cat/snapshots/esild_backup\n",
      " 1078436 | The average number of logs between 11:00 and 12:00 is 14752. We reached 36882.\n",
      " 1078950 | The average number of logs between 1:00 and 2:00 is 3114. We reached 30134.\n",
      " 1164470 | The average number of logs between 0:00 and 1:00 is 5013. We reached 33497.\n",
      " 1167242 | The average number of logs between 3:00 and 4:00 is 7020. We reached 11545.\n",
      " 1272121 | The average number of logs between 0:00 and 1:00 is 9619. We reached 24049.\n",
      " 1370911 | The average number of logs between 13:00 and 14:00 is 8541. We reached 21354.\n",
      " 1387310 | Dec 15 16:59:04 localhost sudo:  apache : TTY=unknown ; PWD=/var/www/html/management ; USER=root ; COMMAND=/bin/curl -XGET localhost:9200/_cat/snapshots/esild_backup\n"
     ]
    }
   ],
   "source": [
    "for i in (xlevels == 2).nonzero()[0]:\n",
    "    print(f\"{i:8} | {str(df.full_log[i])}\")"
   ]
  },
  {
   "cell_type": "code",
   "execution_count": 70,
   "id": "ffc8c220-c328-4c4c-95aa-394c9bde5a05",
   "metadata": {},
   "outputs": [
    {
     "name": "stdout",
     "output_type": "stream",
     "text": [
      "   13058 | The average number of logs between 6:00 and 7:00 is 6708. We reached 48588.\n",
      "   19064 | The average number of logs between 18:00 and 19:00 is 5572. We reached 94025.\n",
      "   31449 | Oct 14 15:10:00 localhost sudo:  apache : TTY=unknown ; PWD=/var/www/html/management ; USER=root ; COMMAND=/bin/ls /var/esild/ruleset/rules/\n",
      "   50292 | The average number of logs between 20:00 and 21:00 is 4584. We reached 65427.\n",
      "   77934 | The average number of logs between 7:00 and 8:00 is 2359. We reached 67869.\n",
      "  136006 | The average number of logs between 3:00 and 4:00 is 2163. We reached 80857.\n",
      "  236519 | The average number of logs between 11:00 and 12:00 is 9137. We reached 41070.\n",
      "  247477 | The average number of logs between 8:00 and 9:00 is 8389. We reached 23698.\n",
      "  253931 | Oct 15 10:16:26 localhost sudo:  apache : TTY=unknown ; PWD=/var/www/html/management ; USER=root ; COMMAND=/bin/cat /var/esild/ruleset/decoders/0120-horde_decoders.xml\n",
      "  274200 | The average number of logs between 1:00 and 2:00 is 4017. We reached 41065.\n",
      "  286782 | The average number of logs between 0:00 and 1:00 is 12403. We reached 31009.\n",
      "  304176 | The average number of logs between 0:00 and 1:00 is 6204. We reached 15512.\n",
      "  333032 | The average number of logs between 0:00 and 1:00 is 2949. We reached 71943.\n",
      "  344080 | Dec 15 14:23:41 localhost sudo:  apache : TTY=unknown ; PWD=/var/www/html/management ; USER=root ; COMMAND=/bin/curl -XGET localhost:9200/_cat/snapshots/esild_backup\n",
      "  371882 | The average number of logs between 12:00 and 13:00 is 2737. We reached 54401.\n",
      "  377311 | The average number of logs between 17:00 and 18:00 is 8746. We reached 14630.\n",
      "  395334 | The average number of logs between 4:00 and 5:00 is 9785. We reached 69312.\n",
      "  410412 | Nov 13 11:08:58 localhost sudo:  apache : TTY=unknown ; PWD=/var/www/html/management ; USER=root ; COMMAND=/var/esild/bin/ossec-control status\n",
      "  414297 | The average number of logs between 19:00 and 20:00 is 5536. We reached 58058.\n",
      "  462289 | The average number of logs between 1:00 and 2:00 is 6412. We reached 16032.\n",
      "  507326 | Oct 14 15:15:51 localhost sudo:  apache : TTY=unknown ; PWD=/var/www/html/management ; USER=root ; COMMAND=/bin/curl -XGET localhost:9200/_cat/snapshots/esild_backup\n",
      "  515078 | The average number of logs between 23:00 and 24:00 is 544. We reached 62432.\n",
      "  551365 | Nov 13 11:09:00 localhost sudo:  apache : TTY=unknown ; PWD=/var/www/html/management ; USER=root ; COMMAND=/bin/curl -XGET localhost:9200/_cat/snapshots/esild_backup\n",
      "  577752 | Dec 15 16:12:28 localhost sudo:  apache : TTY=unknown ; PWD=/var/www/html/management ; USER=root ; COMMAND=/bin/curl -XGET localhost:9200/_cat/snapshots/esild_backup\n",
      "  668103 | The average number of logs between 9:00 and 10:00 is 4628. We reached 52755.\n",
      "  738767 | The average number of logs between 11:00 and 12:00 is 18641. We reached 46604.\n",
      "  740825 | Jan  8 15:02:03 localhost sudo:  apache : TTY=unknown ; PWD=/var/www/html/management ; USER=root ; COMMAND=/bin/curl -XGET localhost:9200/_cat/snapshots/esild_backup\n",
      "  748044 | The average number of logs between 13:00 and 14:00 is 8031. We reached 20079.\n",
      "  780270 | The average number of logs between 13:00 and 14:00 is 17442. We reached 43607.\n",
      "  839319 | The average number of logs between 12:00 and 13:00 is 17750. We reached 44377.\n",
      "  863210 | The average number of logs between 2:00 and 3:00 is 6202. We reached 15507.\n",
      "  881808 | The average number of logs between 23:00 and 24:00 is 15951. We reached 39879.\n",
      "  886400 | The average number of logs between 2:00 and 3:00 is 6859. We reached 3185.\n",
      "  889417 | Oct 14 15:10:07 localhost sudo:  apache : TTY=unknown ; PWD=/var/www/html/management ; USER=root ; COMMAND=/bin/cat /var/esild/ruleset/decoders/0385-wordpress_decoders.xml\n",
      "  908764 | The average number of logs between 16:00 and 17:00 is 4812. We reached 64995.\n",
      "  964364 | Sep 18 14:06:59 localhost sudo:  apache : TTY=unknown ; PWD=/var/www/html/management ; USER=root ; COMMAND=/bin/curl -XGET localhost:9200/_cat/snapshots/esild_backup\n",
      "  967180 | Oct 14 15:10:10 localhost sudo:  apache : TTY=unknown ; PWD=/var/www/html/management ; USER=root ; COMMAND=/bin/cat /var/esild/ruleset/rules/0295-mysql_rules.xml\n",
      " 1023406 | The average number of logs between 22:00 and 23:00 is 7171. We reached 64739.\n",
      " 1037710 | The average number of logs between 14:00 and 15:00 is 7772. We reached 19432.\n",
      " 1077887 | Sep 24 16:52:44 localhost sudo:  apache : TTY=unknown ; PWD=/var/www/html/management ; USER=root ; COMMAND=/bin/curl -XGET localhost:9200/_cat/snapshots/esild_backup\n",
      " 1078436 | The average number of logs between 11:00 and 12:00 is 14752. We reached 36882.\n",
      " 1078950 | The average number of logs between 1:00 and 2:00 is 3114. We reached 30134.\n",
      " 1085737 | Oct 14 15:09:04 localhost sudo:  apache : TTY=unknown ; PWD=/var/www/html/management ; USER=root ; COMMAND=/bin/cat /var/esild/ruleset/decoders/0090-dragon-nids_decoders.xml\n",
      " 1164470 | The average number of logs between 0:00 and 1:00 is 5013. We reached 33497.\n",
      " 1167242 | The average number of logs between 3:00 and 4:00 is 7020. We reached 11545.\n",
      " 1272121 | The average number of logs between 0:00 and 1:00 is 9619. We reached 24049.\n",
      " 1370911 | The average number of logs between 13:00 and 14:00 is 8541. We reached 21354.\n",
      " 1387310 | Dec 15 16:59:04 localhost sudo:  apache : TTY=unknown ; PWD=/var/www/html/management ; USER=root ; COMMAND=/bin/curl -XGET localhost:9200/_cat/snapshots/esild_backup\n"
     ]
    }
   ],
   "source": [
    "for i in (out_levels == 2).nonzero()[0]:\n",
    "    print(f\"{i:8} | {str(df.full_log[i])}\")"
   ]
  },
  {
   "cell_type": "code",
   "execution_count": 58,
   "id": "b2a7e523-9031-458c-9e9e-1a073cf3da57",
   "metadata": {},
   "outputs": [
    {
     "name": "stdout",
     "output_type": "stream",
     "text": [
      "   39057 | The average number of logs between 10:00 and 11:00 is 5399. We reached 37090.\n",
      "   87600 | The average number of logs between 5:00 and 6:00 is 222. We reached 77946.\n",
      "  109510 | The average number of logs between 6:00 and 7:00 is 6420. We reached 28494.\n",
      "  262892 | The average number of logs between 21:00 and 22:00 is 5325. We reached 95.\n",
      "  294072 | The average number of logs between 5:00 and 6:00 is 8362. We reached 93476.\n",
      "  294127 | The average number of logs between 4:00 and 5:00 is 2806. We reached 11476.\n",
      "  343011 | The average number of logs between 14:00 and 15:00 is 9734. We reached 26958.\n",
      "  345903 | The average number of logs between 15:00 and 16:00 is 4411. We reached 9487.\n",
      "  365348 | Sep 18 11:02:59 localhost sudo:  apache : TTY=unknown ; PWD=/var/www/html/management ; USER=root ; COMMAND=/bin/curl -XGET localhost:9200/_cat/snapshots/esild_backup\n",
      "  376681 | The average number of logs between 2:00 and 3:00 is 9428. We reached 75572.\n",
      "  380583 | The average number of logs between 10:00 and 11:00 is 12612. We reached 31532.\n",
      "  400735 | The average number of logs between 13:00 and 14:00 is 2697. We reached 93028.\n"
     ]
    }
   ],
   "source": [
    "for i, (level, otext) in enumerate(zip(tdf.level, tdf.full_log)):\n",
    "    if level == 2:\n",
    "        print(f\"{i:8} | {otext}\")"
   ]
  },
  {
   "cell_type": "markdown",
   "id": "ongoing-development",
   "metadata": {},
   "source": [
    "---"
   ]
  },
  {
   "cell_type": "code",
   "execution_count": 43,
   "id": "applicable-movement",
   "metadata": {},
   "outputs": [],
   "source": [
    "out_ids = list(range(1000000, 1000000 + len(out_levels)))"
   ]
  },
  {
   "cell_type": "code",
   "execution_count": 44,
   "id": "plain-johnston",
   "metadata": {},
   "outputs": [],
   "source": [
    "out_df = {\"id\": out_ids, \"level\": out_levels}"
   ]
  },
  {
   "cell_type": "code",
   "execution_count": 45,
   "id": "exceptional-singles",
   "metadata": {},
   "outputs": [],
   "source": [
    "out_df = pd.DataFrame(out_df)"
   ]
  },
  {
   "cell_type": "code",
   "execution_count": 46,
   "id": "quality-truck",
   "metadata": {},
   "outputs": [
    {
     "data": {
      "text/html": [
       "<div>\n",
       "<style scoped>\n",
       "    .dataframe tbody tr th:only-of-type {\n",
       "        vertical-align: middle;\n",
       "    }\n",
       "\n",
       "    .dataframe tbody tr th {\n",
       "        vertical-align: top;\n",
       "    }\n",
       "\n",
       "    .dataframe thead th {\n",
       "        text-align: right;\n",
       "    }\n",
       "</style>\n",
       "<table border=\"1\" class=\"dataframe\">\n",
       "  <thead>\n",
       "    <tr style=\"text-align: right;\">\n",
       "      <th></th>\n",
       "      <th>id</th>\n",
       "      <th>level</th>\n",
       "    </tr>\n",
       "  </thead>\n",
       "  <tbody>\n",
       "    <tr>\n",
       "      <th>0</th>\n",
       "      <td>1000000</td>\n",
       "      <td>0</td>\n",
       "    </tr>\n",
       "    <tr>\n",
       "      <th>1</th>\n",
       "      <td>1000001</td>\n",
       "      <td>0</td>\n",
       "    </tr>\n",
       "    <tr>\n",
       "      <th>2</th>\n",
       "      <td>1000002</td>\n",
       "      <td>1</td>\n",
       "    </tr>\n",
       "    <tr>\n",
       "      <th>3</th>\n",
       "      <td>1000003</td>\n",
       "      <td>0</td>\n",
       "    </tr>\n",
       "    <tr>\n",
       "      <th>4</th>\n",
       "      <td>1000004</td>\n",
       "      <td>1</td>\n",
       "    </tr>\n",
       "    <tr>\n",
       "      <th>...</th>\n",
       "      <td>...</td>\n",
       "      <td>...</td>\n",
       "    </tr>\n",
       "    <tr>\n",
       "      <th>1418911</th>\n",
       "      <td>2418911</td>\n",
       "      <td>0</td>\n",
       "    </tr>\n",
       "    <tr>\n",
       "      <th>1418912</th>\n",
       "      <td>2418912</td>\n",
       "      <td>0</td>\n",
       "    </tr>\n",
       "    <tr>\n",
       "      <th>1418913</th>\n",
       "      <td>2418913</td>\n",
       "      <td>1</td>\n",
       "    </tr>\n",
       "    <tr>\n",
       "      <th>1418914</th>\n",
       "      <td>2418914</td>\n",
       "      <td>0</td>\n",
       "    </tr>\n",
       "    <tr>\n",
       "      <th>1418915</th>\n",
       "      <td>2418915</td>\n",
       "      <td>0</td>\n",
       "    </tr>\n",
       "  </tbody>\n",
       "</table>\n",
       "<p>1418916 rows × 2 columns</p>\n",
       "</div>"
      ],
      "text/plain": [
       "              id  level\n",
       "0        1000000      0\n",
       "1        1000001      0\n",
       "2        1000002      1\n",
       "3        1000003      0\n",
       "4        1000004      1\n",
       "...          ...    ...\n",
       "1418911  2418911      0\n",
       "1418912  2418912      0\n",
       "1418913  2418913      1\n",
       "1418914  2418914      0\n",
       "1418915  2418915      0\n",
       "\n",
       "[1418916 rows x 2 columns]"
      ]
     },
     "execution_count": 46,
     "metadata": {},
     "output_type": "execute_result"
    }
   ],
   "source": [
    "out_df"
   ]
  },
  {
   "cell_type": "code",
   "execution_count": 48,
   "id": "spoken-guarantee",
   "metadata": {},
   "outputs": [],
   "source": [
    "out_df.to_csv(\n",
    "    \"results/distilbert-base-uncased-ver8/distilbert-base-uncased-focal-AdamW-lr1e-05-ver8-os10_1-out_ver2.csv\", index=False\n",
    ")"
   ]
  },
  {
   "cell_type": "code",
   "execution_count": null,
   "id": "handy-virus",
   "metadata": {},
   "outputs": [],
   "source": []
  }
 ],
 "metadata": {
  "kernelspec": {
   "display_name": "Python 3",
   "language": "python",
   "name": "python3"
  },
  "language_info": {
   "codemirror_mode": {
    "name": "ipython",
    "version": 3
   },
   "file_extension": ".py",
   "mimetype": "text/x-python",
   "name": "python",
   "nbconvert_exporter": "python",
   "pygments_lexer": "ipython3",
   "version": "3.7.9"
  }
 },
 "nbformat": 4,
 "nbformat_minor": 5
}
