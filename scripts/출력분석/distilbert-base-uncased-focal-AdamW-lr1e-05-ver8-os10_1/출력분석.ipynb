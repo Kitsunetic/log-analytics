{
 "cells": [
  {
   "cell_type": "code",
   "execution_count": 1,
   "id": "1e9b4cfc-6b77-4165-8d99-d30b9a707df8",
   "metadata": {},
   "outputs": [
    {
     "name": "stdout",
     "output_type": "stream",
     "text": [
      "/mnt/h/hev/log-analytics\n"
     ]
    }
   ],
   "source": [
    "%load_ext lab_black\n",
    "%cd ../../.."
   ]
  },
  {
   "cell_type": "code",
   "execution_count": 14,
   "id": "7a6a78d6-4b26-4db2-a212-b006bbf5a4f5",
   "metadata": {},
   "outputs": [],
   "source": [
    "import torch\n",
    "import numpy as np\n",
    "import pandas as pd\n",
    "import pickle"
   ]
  },
  {
   "cell_type": "code",
   "execution_count": 15,
   "id": "7a32c61a-9a3a-4548-b855-8bee9f83a06d",
   "metadata": {},
   "outputs": [],
   "source": [
    "df = pd.read_csv(\"data/ori/test.csv\")"
   ]
  },
  {
   "cell_type": "code",
   "execution_count": 3,
   "id": "e368344f-3eff-46fc-9a43-41b77ce9136b",
   "metadata": {},
   "outputs": [],
   "source": [
    "deck1 = torch.load(\"results/distilbert-base-uncased-ver8/distilbert-base-uncased-focal-AdamW-lr1e-05-ver8-os10_4-deck1.pth\")\n",
    "deck2 = torch.load(\"results/distilbert-base-uncased-ver8/distilbert-base-uncased-focal-AdamW-lr1e-05-ver8-os10_4-deck2.pth\")"
   ]
  },
  {
   "cell_type": "code",
   "execution_count": 4,
   "id": "5b2bbde3-a1c9-4bd8-9a07-bcf26c8ce0de",
   "metadata": {},
   "outputs": [
    {
     "data": {
      "text/plain": [
       "(torch.Size([421079, 768]), torch.Size([1095951, 768]))"
      ]
     },
     "execution_count": 4,
     "metadata": {},
     "output_type": "execute_result"
    }
   ],
   "source": [
    "deck1[\"feat\"].shape, deck2[\"feat\"].shape"
   ]
  },
  {
   "cell_type": "code",
   "execution_count": 5,
   "id": "38e5fafd-ebda-4ab2-a06b-6e6a17caa59a",
   "metadata": {},
   "outputs": [],
   "source": [
    "deck1[\"feat_\"] = deck1[\"feat\"].cuda()\n",
    "deck2[\"feat_\"] = deck2[\"feat\"].cuda()"
   ]
  },
  {
   "cell_type": "code",
   "execution_count": 6,
   "id": "36d0f380-cb67-4d00-ae9d-186d2de14603",
   "metadata": {},
   "outputs": [],
   "source": [
    "j = 0\n",
    "shown = False"
   ]
  },
  {
   "cell_type": "code",
   "execution_count": 7,
   "id": "6f2930a5-16b2-41a4-ba8b-ef7108939f5e",
   "metadata": {},
   "outputs": [
    {
     "name": "stdout",
     "output_type": "stream",
     "text": [
      "values: tensor([0.0600, 0.0960, 0.0980, 0.1035], device='cuda:0')\n",
      "indices: tensor([250795,  39129, 173781, 345343], device='cuda:0')\n",
      "id: tensor([0, 0, 0, 0])\n"
     ]
    }
   ],
   "source": [
    "dist_ = torch.norm(deck1[\"feat_\"] - deck2[\"feat_\"][j, None], p=None, dim=1)\n",
    "values_, indices_ = dist_.topk(4, largest=False)\n",
    "tlevels = deck1[\"tlevel\"][indices_]\n",
    "print(\"values:\", values_)\n",
    "print(\"indices:\", indices_)\n",
    "print(\"id:\", deck1[\"tlevel\"][indices_])\n",
    "j += 1"
   ]
  },
  {
   "cell_type": "code",
   "execution_count": 21,
   "id": "d0eb83d3-88b0-4942-8e32-3a61d8264cf4",
   "metadata": {},
   "outputs": [],
   "source": [
    "while shown or (deck1[\"tlevel\"][indices_[0]] in [0, 1, 3, 5] and values_[0] < 0.5):\n",
    "    # while shown or (deck1[\"tlevel\"][indices_[0]] in [0, 1, 3, 5]):\n",
    "    shown = False\n",
    "\n",
    "    dist_ = torch.norm(deck1[\"feat_\"] - deck2[\"feat_\"][j, None], p=None, dim=1)\n",
    "    values_, indices_ = dist_.topk(4, largest=False)\n",
    "    tlevels = deck1[\"tlevel\"][indices_]\n",
    "    # print(\"values:\", values)\n",
    "    # print(\"indices:\", indices)\n",
    "    # print(\"id:\", deck1[\"tlevel\"][indices])\n",
    "    j += 1"
   ]
  },
  {
   "cell_type": "code",
   "execution_count": 22,
   "id": "797f4478-58c0-46d4-ac91-4cee48a1396e",
   "metadata": {},
   "outputs": [
    {
     "name": "stdout",
     "output_type": "stream",
     "text": [
      "*  Submit : System Audit: CIS - RHEL7 - 4.1.2 - Network parameters - IP send redirects enabled {CIS: 4.1.2 RHEL7} {PCI_DSS: 2.2.4}. File: /proc/sys/net/ipv4/conf/all/send_redirects. Reference: https://benchmarks.cisecurity.org/tools2/linux/CIS_Red_Hat_Enterprise_Linux_7_Benchmark_v1.1.0.pdf .\n",
      "----------------------------------------------------------------------------------------\n",
      "*   index : 13638\n",
      "*    dist : 0.5428 0.6414 0.8143 0.8165\n",
      "* fc-level: tensor(1)\n",
      "----------------------------------------------------------------------------------------\n",
      "* Level 1 : System Audit: CIS - RHEL7 - 4.1.2 - Network parameters - IP send redirects enabled {CIS: 4.1.2 RHEL7} {PCI_DSS: 2.2.4}. File: /proc/sys/net/ipv4/conf/all/send_redirects. Reference: https://bench month ks.cisecurity.org/tools2/linux/CIS_Red_Hat_Enterprise_Linux_7_Bench month k_v1.1.0.pdf\n",
      "----------------------------------------------------------------------------------------\n",
      "* Level 1 : System Audit: CIS - RHEL7 - 4.1. - Network parameters - IP Forwarding enabled {CIS: 4.1.1 } {PCI_DSS: 2.2.4}. File: /proc/sys/net/ipv4/ip_forward. Reference: https://benchmarks.cisecurity.org/tools2/linux/CIS_Red_Hat_Enterprise_Linux_7_Benchmark_v1.1.0.pdf\n",
      "----------------------------------------------------------------------------------------\n",
      "* Level 1 : System Audit: CIS - RHEL7 4.1.1 - Network parameters - IP Forwarding enabled {CIS: 4.1.1 RHEL7} {PCI_DSS: 2.2.4}. File: /proc/sys/net/ipv4/ip_forward. Reference: https://bench month ks.cisecurity.org/tools2/linux/CIS_Red_Hat_Enterprise_Linux_7_Bench month k_v1.1.0.pdf\n",
      "----------------------------------------------------------------------------------------\n",
      "* Level 1 : System Audit: CIS - RHEL7 - 6.2.8 - SSH Configuration - Root login allowed {: 6.2.8 RHEL7} {PCI_DSS: 4.1}. File: /etc/ssh/sshd_config. Reference: https://benchmarks.cisecurity.org/tools2/linux/CIS_Red_Hat_Enterprise_Linux_7_Benchmark_v1.1.0.pdf\n",
      "----------------------------------------------------------------------------------------\n"
     ]
    }
   ],
   "source": [
    "print(\"*  Submit :\", df.full_log[deck2[\"ids\"][j - 1][0] - 1000000])\n",
    "print(\"----------------------------------------------------------------------------------------\")\n",
    "print(\"*   index :\", j - 1)\n",
    "print(\"*    dist :\", \" \".join(map(lambda x: f\"{x:.4f}\", values_.cpu().tolist())))\n",
    "print(\"* fc-level:\", deck2[\"fclevel\"][j - 1])\n",
    "print(\"----------------------------------------------------------------------------------------\")\n",
    "\n",
    "for idx in indices_:\n",
    "    print(\"* Level\", deck1[\"tlevel\"][idx].item(), \":\", deck1[\"otext\"][idx])\n",
    "    print(\"----------------------------------------------------------------------------------------\")\n",
    "\n",
    "shown = True"
   ]
  },
  {
   "cell_type": "markdown",
   "id": "07166d10-e8db-4f6f-b45c-523915530cca",
   "metadata": {},
   "source": [
    "---\n",
    "\n",
    "4개가 다 일치할 때는 level별로 threshold를 따로 두는 방식으로 하고\n",
    "* level0 - 좀 낮게 (비교군이 많기 때문에) - 0.3 ? 평균 dist가 0.3?\n",
    "* level1 - 길이는 길지만 거의 비슷한 값들인듯? 대부분 0.01을 넘지 않음 - 0.2 or 0.1?\n",
    "* level2 - \n",
    "* level3 - 꽤 높게 (변화무쌍하니까) - 1.0?\n",
    "* level4 - \n",
    "* level5 - 꽤 높게 (변화무쌍하니까) - 1.0\n",
    "* level6 - 나름 변화가 큼 - 0.8\n",
    "* 섞인 경우 - 비슷한 케이스가 별로 없었다는 뜻이니까 낮게 - 0.2\n",
    "\n",
    "2, 4, 6에 대해서는 아직 데이터가 더 모여야 하겠다\n",
    "\n",
    "level0 길이가 긴거는 맞아도 dist가 높게(0.3이상) 나오고, 길이가 짧은건 틀려도 dist가 탖게 나오는 것 같은데...  \n",
    "길이도 입력 인수로 해야할까?\n",
    "\n",
    "※ TODO: 전체에 대해 dist 구한 다음에 각 level/군집별로 top dist 분포가 어떻게 나타나는지 그래프를 그려보자"
   ]
  },
  {
   "cell_type": "code",
   "execution_count": null,
   "id": "22c438c4-814d-4d17-87de-7bbee351f7bf",
   "metadata": {},
   "outputs": [],
   "source": []
  }
 ],
 "metadata": {
  "kernelspec": {
   "display_name": "torch",
   "language": "python",
   "name": "torch"
  },
  "language_info": {
   "codemirror_mode": {
    "name": "ipython",
    "version": 3
   },
   "file_extension": ".py",
   "mimetype": "text/x-python",
   "name": "python",
   "nbconvert_exporter": "python",
   "pygments_lexer": "ipython3",
   "version": "3.7.9"
  }
 },
 "nbformat": 4,
 "nbformat_minor": 5
}
