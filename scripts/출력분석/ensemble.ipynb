{
 "cells": [
  {
   "cell_type": "code",
   "execution_count": 1,
   "id": "packed-theme",
   "metadata": {},
   "outputs": [
    {
     "name": "stdout",
     "output_type": "stream",
     "text": [
      "/home/shim/cev/dl/log-analytics\n"
     ]
    }
   ],
   "source": [
    "%load_ext lab_black\n",
    "%cd ../.."
   ]
  },
  {
   "cell_type": "code",
   "execution_count": 2,
   "id": "postal-channel",
   "metadata": {},
   "outputs": [],
   "source": [
    "import numpy as np\n",
    "import pandas as pd"
   ]
  },
  {
   "cell_type": "code",
   "execution_count": 53,
   "id": "confused-assumption",
   "metadata": {},
   "outputs": [],
   "source": [
    "csvs = [\n",
    "    pd.read_csv(\"results/distilbert-base-uncased-ver7/distilbert-base-uncased-focal-AdamW-lr1e-05_1-ver4.csv\"),\n",
    "    pd.read_csv(\"results/distilbert-base-uncased-ver7/distilbert-base-uncased-focal-AdamW-lr1e-05-ver7-os10_3-out_ver2.csv\"),\n",
    "    pd.read_csv(\"results/distilbert-base-uncased-ver7/distilbert-base-uncased-focal-AdamW-lr1e-05_4-ver4.csv\"),\n",
    "    pd.read_csv(\"results/distilbert-base-uncased-ver7/distilbert-base-uncased-focal-AdamW-lr1e-05-ver7-os10_5-out_ver1.csv\"),\n",
    "    \n",
    "    pd.read_csv(\"results/distilbert-base-uncased-ver8/distilbert-base-uncased-focal-AdamW-lr1e-05-ver8-os10_4-out_ver1.csv\"),\n",
    "    \n",
    "]"
   ]
  },
  {
   "cell_type": "code",
   "execution_count": 46,
   "id": "legendary-liverpool",
   "metadata": {},
   "outputs": [],
   "source": [
    "levels = np.stack([csv.level.to_numpy() for csv in csvs])"
   ]
  },
  {
   "cell_type": "code",
   "execution_count": 48,
   "id": "c4f7aad7-2c7d-44af-b121-edc537a19e8f",
   "metadata": {},
   "outputs": [],
   "source": [
    "N = len(main_csv)"
   ]
  },
  {
   "cell_type": "code",
   "execution_count": 57,
   "id": "e9e1aca2-d085-4599-ba4b-d0a3b2e5d5c9",
   "metadata": {},
   "outputs": [
    {
     "data": {
      "text/plain": [
       "False"
      ]
     },
     "execution_count": 57,
     "metadata": {},
     "output_type": "execute_result"
    }
   ],
   "source": [
    "(np.array([1, 2, 1]) == 1).all()"
   ]
  },
  {
   "cell_type": "code",
   "execution_count": 49,
   "id": "0f544d01-ae59-4907-8cd1-6169e4d57b09",
   "metadata": {},
   "outputs": [],
   "source": [
    "out_levels = []\n",
    "for i in range(N):\n",
    "    if levels[0, i] in [2, 4, 6]:\n",
    "        out_levels.append(levels[0, i])\n",
    "    elif (levels[:, i] == levels[0, i]).all():\n",
    "        out_levels.append(levels[0, i])\n",
    "    else:\n",
    "        ll = [0 for _ in range(8)]\n",
    "        for j in range(len(csvs)):\n",
    "            ll[levels[j, i]] += 1\n",
    "        if max(ll) == 1:\n",
    "            out_levels.append(levels[0, i])\n",
    "        else:\n",
    "            out_levels.append(max(range(8), key=lambda i: ll[i]))"
   ]
  },
  {
   "cell_type": "code",
   "execution_count": 50,
   "id": "39308f77-2a2b-4012-884c-73eab3cf47f5",
   "metadata": {},
   "outputs": [],
   "source": [
    "df = pd.DataFrame({\"id\": csv0.id.to_list(), \"level\": out_levels})"
   ]
  },
  {
   "cell_type": "code",
   "execution_count": 51,
   "id": "aa23901a-4005-4bb9-8714-a815e7f80954",
   "metadata": {},
   "outputs": [
    {
     "data": {
      "text/html": [
       "<div>\n",
       "<style scoped>\n",
       "    .dataframe tbody tr th:only-of-type {\n",
       "        vertical-align: middle;\n",
       "    }\n",
       "\n",
       "    .dataframe tbody tr th {\n",
       "        vertical-align: top;\n",
       "    }\n",
       "\n",
       "    .dataframe thead th {\n",
       "        text-align: right;\n",
       "    }\n",
       "</style>\n",
       "<table border=\"1\" class=\"dataframe\">\n",
       "  <thead>\n",
       "    <tr style=\"text-align: right;\">\n",
       "      <th></th>\n",
       "      <th>id</th>\n",
       "      <th>level</th>\n",
       "    </tr>\n",
       "  </thead>\n",
       "  <tbody>\n",
       "    <tr>\n",
       "      <th>0</th>\n",
       "      <td>1000000</td>\n",
       "      <td>0</td>\n",
       "    </tr>\n",
       "    <tr>\n",
       "      <th>1</th>\n",
       "      <td>1000001</td>\n",
       "      <td>0</td>\n",
       "    </tr>\n",
       "    <tr>\n",
       "      <th>2</th>\n",
       "      <td>1000002</td>\n",
       "      <td>1</td>\n",
       "    </tr>\n",
       "    <tr>\n",
       "      <th>3</th>\n",
       "      <td>1000003</td>\n",
       "      <td>0</td>\n",
       "    </tr>\n",
       "    <tr>\n",
       "      <th>4</th>\n",
       "      <td>1000004</td>\n",
       "      <td>1</td>\n",
       "    </tr>\n",
       "    <tr>\n",
       "      <th>...</th>\n",
       "      <td>...</td>\n",
       "      <td>...</td>\n",
       "    </tr>\n",
       "    <tr>\n",
       "      <th>1418911</th>\n",
       "      <td>2418911</td>\n",
       "      <td>0</td>\n",
       "    </tr>\n",
       "    <tr>\n",
       "      <th>1418912</th>\n",
       "      <td>2418912</td>\n",
       "      <td>0</td>\n",
       "    </tr>\n",
       "    <tr>\n",
       "      <th>1418913</th>\n",
       "      <td>2418913</td>\n",
       "      <td>1</td>\n",
       "    </tr>\n",
       "    <tr>\n",
       "      <th>1418914</th>\n",
       "      <td>2418914</td>\n",
       "      <td>0</td>\n",
       "    </tr>\n",
       "    <tr>\n",
       "      <th>1418915</th>\n",
       "      <td>2418915</td>\n",
       "      <td>0</td>\n",
       "    </tr>\n",
       "  </tbody>\n",
       "</table>\n",
       "<p>1418916 rows × 2 columns</p>\n",
       "</div>"
      ],
      "text/plain": [
       "              id  level\n",
       "0        1000000      0\n",
       "1        1000001      0\n",
       "2        1000002      1\n",
       "3        1000003      0\n",
       "4        1000004      1\n",
       "...          ...    ...\n",
       "1418911  2418911      0\n",
       "1418912  2418912      0\n",
       "1418913  2418913      1\n",
       "1418914  2418914      0\n",
       "1418915  2418915      0\n",
       "\n",
       "[1418916 rows x 2 columns]"
      ]
     },
     "execution_count": 51,
     "metadata": {},
     "output_type": "execute_result"
    }
   ],
   "source": [
    "df"
   ]
  },
  {
   "cell_type": "code",
   "execution_count": 52,
   "id": "edcea72f-6583-467a-9c12-be4d57e38ba1",
   "metadata": {},
   "outputs": [],
   "source": [
    "df.to_csv(\"results/ens-ver2.csv\", index=False)"
   ]
  },
  {
   "cell_type": "markdown",
   "id": "458273aa-d19e-47c5-87aa-2f63c6ee0fe9",
   "metadata": {},
   "source": [
    "|version|note|score|\n",
    "|---|---|---|\n",
    "|1|7.3.3 + 7.4.4 + 8.4.1|0.9199602809|\n",
    "|2|7.3.2 + 7.4.4 + 8.4.1|0.9208938205|\n",
    "|3|7.3.2 + 7.4.4 + 8.4.1 + 7.1. + 7.5. |0.9208938205|"
   ]
  },
  {
   "cell_type": "code",
   "execution_count": null,
   "id": "cb97ec8e-c059-4c5d-bee9-dbf393add078",
   "metadata": {},
   "outputs": [],
   "source": []
  },
  {
   "cell_type": "code",
   "execution_count": null,
   "id": "f6d1f1d9-c6a0-4fed-8298-87584cdf5343",
   "metadata": {},
   "outputs": [],
   "source": []
  }
 ],
 "metadata": {
  "kernelspec": {
   "display_name": "Python 3",
   "language": "python",
   "name": "python3"
  },
  "language_info": {
   "codemirror_mode": {
    "name": "ipython",
    "version": 3
   },
   "file_extension": ".py",
   "mimetype": "text/x-python",
   "name": "python",
   "nbconvert_exporter": "python",
   "pygments_lexer": "ipython3",
   "version": "3.7.10"
  }
 },
 "nbformat": 4,
 "nbformat_minor": 5
}
