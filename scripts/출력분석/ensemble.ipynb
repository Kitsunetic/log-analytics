{
 "cells": [
  {
   "cell_type": "code",
   "execution_count": 1,
   "id": "packed-theme",
   "metadata": {},
   "outputs": [
    {
     "name": "stdout",
     "output_type": "stream",
     "text": [
      "/mnt/h/hev/log-analytics\n"
     ]
    }
   ],
   "source": [
    "%load_ext lab_black\n",
    "%cd ../.."
   ]
  },
  {
   "cell_type": "code",
   "execution_count": 2,
   "id": "postal-channel",
   "metadata": {},
   "outputs": [],
   "source": [
    "import numpy as np\n",
    "import pandas as pd"
   ]
  },
  {
   "cell_type": "code",
   "execution_count": 3,
   "id": "confused-assumption",
   "metadata": {},
   "outputs": [],
   "source": [
    "csvs = [\n",
    "    pd.read_csv(\"results/distilbert-base-uncased-ver7/distilbert-base-uncased-focal-AdamW-lr1e-05_1-ver4.csv\"),\n",
    "    pd.read_csv(\"results/distilbert-base-uncased-ver7/distilbert-base-uncased-focal-AdamW-lr1e-05-ver7-os40_2-out_ver2.csv\"),\n",
    "    pd.read_csv(\"results/distilbert-base-uncased-ver7/distilbert-base-uncased-focal-AdamW-lr1e-05-ver7-os10_3-out_ver2.csv\"),\n",
    "    pd.read_csv(\"results/distilbert-base-uncased-ver7/distilbert-base-uncased-focal-AdamW-lr1e-05_4-ver4.csv\"),\n",
    "    # pd.read_csv(\"results/distilbert-base-uncased-ver7/distilbert-base-uncased-focal-AdamW-lr1e-05-ver7-os10_5-out_ver1.csv\"),\n",
    "    # pd.read_csv(\"results/distilbert-base-uncased-ver8/distilbert-base-uncased-focal-AdamW-lr1e-05-ver8-os10_4-out_ver1.csv\"),\n",
    "]"
   ]
  },
  {
   "cell_type": "code",
   "execution_count": 4,
   "id": "legendary-liverpool",
   "metadata": {},
   "outputs": [],
   "source": [
    "levels = np.stack([csv.level.to_numpy() for csv in csvs])"
   ]
  },
  {
   "cell_type": "code",
   "execution_count": 5,
   "id": "c4f7aad7-2c7d-44af-b121-edc537a19e8f",
   "metadata": {},
   "outputs": [],
   "source": [
    "N = len(csvs[0])"
   ]
  },
  {
   "cell_type": "code",
   "execution_count": 6,
   "id": "0f544d01-ae59-4907-8cd1-6169e4d57b09",
   "metadata": {},
   "outputs": [],
   "source": [
    "out_levels = []\n",
    "for i in range(N):\n",
    "    kt = False\n",
    "    ll = [0 for _ in range(8)]\n",
    "    for j in range(len(csvs)):\n",
    "        if levels[j, i] in [2, 4, 6]:\n",
    "            out_levels.append(levels[j, i])\n",
    "            kt = True\n",
    "            break\n",
    "        else:\n",
    "            ll[levels[j, i]] += 1\n",
    "\n",
    "    if not kt:\n",
    "        if max(ll) == 1:\n",
    "            out_levels.append(levels[0, i])\n",
    "        elif ll[7] >= 2:\n",
    "            out_levels.append(7)\n",
    "        else:\n",
    "            out_levels.append(max(range(8), key=lambda i: ll[i]))"
   ]
  },
  {
   "cell_type": "code",
   "execution_count": 7,
   "id": "39308f77-2a2b-4012-884c-73eab3cf47f5",
   "metadata": {},
   "outputs": [],
   "source": [
    "df = pd.DataFrame({\"id\": csvs[0].id.to_list(), \"level\": out_levels})"
   ]
  },
  {
   "cell_type": "code",
   "execution_count": 8,
   "id": "aa23901a-4005-4bb9-8714-a815e7f80954",
   "metadata": {},
   "outputs": [
    {
     "data": {
      "text/html": [
       "<div>\n",
       "<style scoped>\n",
       "    .dataframe tbody tr th:only-of-type {\n",
       "        vertical-align: middle;\n",
       "    }\n",
       "\n",
       "    .dataframe tbody tr th {\n",
       "        vertical-align: top;\n",
       "    }\n",
       "\n",
       "    .dataframe thead th {\n",
       "        text-align: right;\n",
       "    }\n",
       "</style>\n",
       "<table border=\"1\" class=\"dataframe\">\n",
       "  <thead>\n",
       "    <tr style=\"text-align: right;\">\n",
       "      <th></th>\n",
       "      <th>id</th>\n",
       "      <th>level</th>\n",
       "    </tr>\n",
       "  </thead>\n",
       "  <tbody>\n",
       "    <tr>\n",
       "      <th>0</th>\n",
       "      <td>1000000</td>\n",
       "      <td>0</td>\n",
       "    </tr>\n",
       "    <tr>\n",
       "      <th>1</th>\n",
       "      <td>1000001</td>\n",
       "      <td>0</td>\n",
       "    </tr>\n",
       "    <tr>\n",
       "      <th>2</th>\n",
       "      <td>1000002</td>\n",
       "      <td>1</td>\n",
       "    </tr>\n",
       "    <tr>\n",
       "      <th>3</th>\n",
       "      <td>1000003</td>\n",
       "      <td>0</td>\n",
       "    </tr>\n",
       "    <tr>\n",
       "      <th>4</th>\n",
       "      <td>1000004</td>\n",
       "      <td>1</td>\n",
       "    </tr>\n",
       "    <tr>\n",
       "      <th>...</th>\n",
       "      <td>...</td>\n",
       "      <td>...</td>\n",
       "    </tr>\n",
       "    <tr>\n",
       "      <th>1418911</th>\n",
       "      <td>2418911</td>\n",
       "      <td>0</td>\n",
       "    </tr>\n",
       "    <tr>\n",
       "      <th>1418912</th>\n",
       "      <td>2418912</td>\n",
       "      <td>0</td>\n",
       "    </tr>\n",
       "    <tr>\n",
       "      <th>1418913</th>\n",
       "      <td>2418913</td>\n",
       "      <td>1</td>\n",
       "    </tr>\n",
       "    <tr>\n",
       "      <th>1418914</th>\n",
       "      <td>2418914</td>\n",
       "      <td>0</td>\n",
       "    </tr>\n",
       "    <tr>\n",
       "      <th>1418915</th>\n",
       "      <td>2418915</td>\n",
       "      <td>0</td>\n",
       "    </tr>\n",
       "  </tbody>\n",
       "</table>\n",
       "<p>1418916 rows × 2 columns</p>\n",
       "</div>"
      ],
      "text/plain": [
       "              id  level\n",
       "0        1000000      0\n",
       "1        1000001      0\n",
       "2        1000002      1\n",
       "3        1000003      0\n",
       "4        1000004      1\n",
       "...          ...    ...\n",
       "1418911  2418911      0\n",
       "1418912  2418912      0\n",
       "1418913  2418913      1\n",
       "1418914  2418914      0\n",
       "1418915  2418915      0\n",
       "\n",
       "[1418916 rows x 2 columns]"
      ]
     },
     "execution_count": 8,
     "metadata": {},
     "output_type": "execute_result"
    }
   ],
   "source": [
    "df"
   ]
  },
  {
   "cell_type": "code",
   "execution_count": 25,
   "id": "edcea72f-6583-467a-9c12-be4d57e38ba1",
   "metadata": {},
   "outputs": [],
   "source": [
    "df.to_csv(\"results/ens-ver5.csv\", index=False)"
   ]
  },
  {
   "cell_type": "markdown",
   "id": "458273aa-d19e-47c5-87aa-2f63c6ee0fe9",
   "metadata": {},
   "source": [
    "|version|note|score|\n",
    "|---|---|---|\n",
    "|1|7.3.3 + 7.4.4 + 8.4.1|0.9199602809|\n",
    "|2|7.3.2 + 7.4.4 + 8.4.1|0.9208938205|\n",
    "|3|7.1~7.5 + 8.4.1|0.9178614787|"
   ]
  },
  {
   "cell_type": "code",
   "execution_count": null,
   "id": "0946d8ac-75f8-4e1b-b057-02d086e5a528",
   "metadata": {},
   "outputs": [],
   "source": []
  },
  {
   "cell_type": "code",
   "execution_count": null,
   "id": "3f905282-b320-4817-b1d2-6f42527506b4",
   "metadata": {},
   "outputs": [],
   "source": []
  },
  {
   "cell_type": "code",
   "execution_count": 9,
   "id": "91bb08ec-30df-4c5a-babb-94fdf600e554",
   "metadata": {},
   "outputs": [],
   "source": [
    "tdf = pd.read_csv(\"results/distilbert-base-uncased-ver7/distilbert-base-uncased-focal-AdamW-lr1e-05-ver7-os10_3-out_ver2.csv\")"
   ]
  },
  {
   "cell_type": "code",
   "execution_count": 10,
   "id": "adf950e5-c866-49b6-bf13-473fc9112f84",
   "metadata": {},
   "outputs": [],
   "source": [
    "tlevels = tdf.level.to_numpy()"
   ]
  },
  {
   "cell_type": "code",
   "execution_count": 11,
   "id": "8c0124ed-0f4f-4e90-aee8-b08448912c08",
   "metadata": {},
   "outputs": [],
   "source": [
    "olevels = df.level.to_numpy()"
   ]
  },
  {
   "cell_type": "code",
   "execution_count": 12,
   "id": "cb97ec8e-c059-4c5d-bee9-dbf393add078",
   "metadata": {},
   "outputs": [
    {
     "data": {
      "text/plain": [
       "array([  1766,   3780,   6003,   7890,  11515,  12639,  15160,  16932,\n",
       "        19574,  22246,  26611,  27854,  30852,  37174,  38180,  38592,\n",
       "        41200,  45028,  45581,  50471,  50899,  51856,  51887,  51953,\n",
       "        53736,  54247,  56488,  58126,  58797,  61121,  63975,  64630,\n",
       "        65387,  65980,  66248,  66649,  68203,  68300,  68433,  69985,\n",
       "        70089,  70526,  74637,  76838,  78292,  79586,  79909,  81139,\n",
       "        82047,  82287,  84329,  85474,  89806,  93830,  93934,  97456,\n",
       "        98325,  99553, 100227, 100362, 100875, 101715, 102363, 103617,\n",
       "       104784, 109667, 110436, 110962, 112975, 113459, 117120, 117166,\n",
       "       117614, 119211, 119436, 119759, 122720, 124131, 127593, 132314,\n",
       "       133353, 133911, 134165, 137872, 138723, 142588, 143352, 144966,\n",
       "       146134, 146998, 147281, 148482, 148979, 152604, 153382, 153891,\n",
       "       156521, 156913, 158447, 159643])"
      ]
     },
     "execution_count": 12,
     "metadata": {},
     "output_type": "execute_result"
    }
   ],
   "source": [
    "(olevels == 7).nonzero()[0][:100]"
   ]
  },
  {
   "cell_type": "code",
   "execution_count": 13,
   "id": "d2dffb6d-0832-4c6a-b04a-9346751a0a04",
   "metadata": {},
   "outputs": [
    {
     "data": {
      "text/plain": [
       "array([  6003,   7890,   9928,  11151,  11515,  15160,  16932,  19574,\n",
       "        22246,  26611,  27854,  30852,  37174,  38180,  38592,  41200,\n",
       "        50471,  50899,  51887,  51953,  53736,  54247,  56488,  58126,\n",
       "        58797,  61121,  64630,  65387,  66248,  66649,  68203,  68300,\n",
       "        69985,  70089,  74637,  76838,  79586,  79909,  81139,  82047,\n",
       "        82287,  84329,  85474,  88037,  89806,  93830,  93934,  97456,\n",
       "        98325, 100362, 100875, 101297, 102363, 103617, 113459, 117120,\n",
       "       117614, 119211, 119436, 119759, 122720, 124131, 133353, 133911,\n",
       "       134165, 137872, 138723, 143352, 144966, 146134, 146998, 147281,\n",
       "       148482, 148979, 152604, 153382, 153891, 158447, 159643, 160810,\n",
       "       165543, 169905, 170457, 175138, 182070, 182445, 184448, 190307,\n",
       "       193314, 194715, 198598, 201568, 202879, 203311, 203669, 208260,\n",
       "       209443, 210211, 210933, 213041])"
      ]
     },
     "execution_count": 13,
     "metadata": {},
     "output_type": "execute_result"
    }
   ],
   "source": [
    "(tlevels == 7).nonzero()[0][:100]"
   ]
  },
  {
   "cell_type": "code",
   "execution_count": 14,
   "id": "9506cca5-bb91-4f90-a553-30f811495c45",
   "metadata": {},
   "outputs": [],
   "source": [
    "sdf = pd.read_csv(\"data/ori/test.csv\")"
   ]
  },
  {
   "cell_type": "code",
   "execution_count": 24,
   "id": "f6d1f1d9-c6a0-4fed-8298-87584cdf5343",
   "metadata": {},
   "outputs": [
    {
     "data": {
      "text/plain": [
       "'level : 3, log : received received-value bytes, expected expected-value bytes'"
      ]
     },
     "execution_count": 24,
     "metadata": {},
     "output_type": "execute_result"
    }
   ],
   "source": [
    "sdf.full_log[45581]"
   ]
  },
  {
   "cell_type": "code",
   "execution_count": 16,
   "id": "c2f47ac9-2cfd-4517-97e7-8f46eceff141",
   "metadata": {},
   "outputs": [],
   "source": [
    "trdf = pd.read_csv(\"data/ori/train.csv\")"
   ]
  },
  {
   "cell_type": "code",
   "execution_count": 17,
   "id": "102cc8ff-c47a-4a1b-93b7-7db78e29aebc",
   "metadata": {},
   "outputs": [],
   "source": [
    "def find_all(text):\n",
    "    cnt = 0\n",
    "    for i in range(len(trdf)):\n",
    "        if text in trdf.full_log[i]:\n",
    "            print(f\"{i:8} | {trdf.level[i]} | {trdf.full_log[i]}\")\n",
    "            print()\n",
    "            cnt += 1\n",
    "        if cnt > 5:\n",
    "            break"
   ]
  },
  {
   "cell_type": "code",
   "execution_count": 18,
   "id": "4c6feab3-dcc2-467a-80c4-bd30ed95a7d5",
   "metadata": {},
   "outputs": [],
   "source": [
    "find_all(\"ANOM_ABEND\")"
   ]
  },
  {
   "cell_type": "code",
   "execution_count": null,
   "id": "e9b68a45-b7b8-496c-884f-43aea07e0e62",
   "metadata": {},
   "outputs": [],
   "source": []
  }
 ],
 "metadata": {
  "kernelspec": {
   "display_name": "Python 3",
   "language": "python",
   "name": "python3"
  },
  "language_info": {
   "codemirror_mode": {
    "name": "ipython",
    "version": 3
   },
   "file_extension": ".py",
   "mimetype": "text/x-python",
   "name": "python",
   "nbconvert_exporter": "python",
   "pygments_lexer": "ipython3",
   "version": "3.7.9"
  }
 },
 "nbformat": 4,
 "nbformat_minor": 5
}
