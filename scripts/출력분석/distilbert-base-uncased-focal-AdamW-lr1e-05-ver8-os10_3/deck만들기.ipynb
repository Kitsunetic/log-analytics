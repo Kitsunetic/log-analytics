{
 "cells": [
  {
   "cell_type": "code",
   "execution_count": 1,
   "metadata": {},
   "outputs": [
    {
     "name": "stdout",
     "output_type": "stream",
     "text": [
      "/data3/SIG/log-analytics\n"
     ]
    }
   ],
   "source": [
    "%load_ext lab_black\n",
    "%cd ../../.."
   ]
  },
  {
   "cell_type": "code",
   "execution_count": 2,
   "metadata": {
    "tags": []
   },
   "outputs": [],
   "source": [
    "import argparse\n",
    "import math\n",
    "import multiprocessing\n",
    "import sys\n",
    "from datetime import datetime\n",
    "from pathlib import Path\n",
    "from pprint import pformat\n",
    "\n",
    "import numpy as np\n",
    "import pandas as pd\n",
    "import torch\n",
    "import torch.nn as nn\n",
    "import torch.nn.functional as F\n",
    "import torch_optimizer\n",
    "import yaml\n",
    "from easydict import EasyDict\n",
    "from pytorch_transformers import DistilBertForSequenceClassification, DistilBertTokenizer\n",
    "\n",
    "from datasets.dataset_ver8 import DatasetGeneratorVer8\n",
    "from utils import SAM, AverageMeter, CustomLogger, FocalLoss, seed_everything\n",
    "\n",
    "from main_ver8 import MyTrainer\n",
    "from collections import defaultdict\n",
    "import matplotlib.pyplot as plt\n",
    "import random\n",
    "from sklearn.metrics import f1_score, classification_report\n",
    "from tqdm import tqdm"
   ]
  },
  {
   "cell_type": "code",
   "execution_count": 3,
   "metadata": {},
   "outputs": [],
   "source": [
    "import os\n",
    "\n",
    "os.environ[\"CUDA_VISIBLE_DEVICES\"] = \"1\""
   ]
  },
  {
   "cell_type": "code",
   "execution_count": 4,
   "metadata": {},
   "outputs": [],
   "source": [
    "postfix = \"distilbert-base-uncased-focal-AdamW-lr1e-05-ver8-os10_3\"\n",
    "outdir = Path(\"results/distilbert-base-uncased-ver8\")\n",
    "fold = 3"
   ]
  },
  {
   "cell_type": "code",
   "execution_count": 5,
   "metadata": {},
   "outputs": [],
   "source": [
    "with open(\"config/distilbert-base-uncased-ver8.yaml\", \"r\") as f:\n",
    "    C = EasyDict(yaml.load(f, yaml.FullLoader))\n",
    "    C.result_dir = Path(C.result_dir)\n",
    "    C.dataset.dir = Path(C.dataset.dir)\n",
    "    seed_everything(C.seed, deterministic=False)"
   ]
  },
  {
   "cell_type": "code",
   "execution_count": 6,
   "metadata": {},
   "outputs": [
    {
     "data": {
      "text/plain": [
       "{'model': {'name': 'distilbert-base-uncased'},\n",
       " 'comment': None,\n",
       " 'result_dir': PosixPath('results/distilbert-base-uncased-ver8'),\n",
       " 'debug': False,\n",
       " 'seed': 20210425,\n",
       " 'ver': 8,\n",
       " 'train': {'SAM': False,\n",
       "  'folds': [1],\n",
       "  'checkpoints': [None],\n",
       "  'loss': {'name': 'focal',\n",
       "   'params': {'gamma': 2.0, 's': 45.0, 'm': 0.1, 'crit': 'focal'}},\n",
       "  'optimizer': {'name': 'AdamW'},\n",
       "  'finetune': {'do': True, 'step1_epochs': 2, 'step2_epochs': 4},\n",
       "  'max_epochs': 12,\n",
       "  'lr': 1e-05,\n",
       "  'scheduler': {'name': 'ReduceLROnPlateau',\n",
       "   'params': {'factor': 0.5, 'patience': 3, 'verbose': True}}},\n",
       " 'dataset': {'dir': PosixPath('data/ver6'),\n",
       "  'batch_size': 30,\n",
       "  'num_workers': 8,\n",
       "  'oversampling': True,\n",
       "  'oversampling_scale': 10}}"
      ]
     },
     "execution_count": 6,
     "metadata": {},
     "output_type": "execute_result"
    }
   ],
   "source": [
    "C"
   ]
  },
  {
   "cell_type": "code",
   "execution_count": 7,
   "metadata": {},
   "outputs": [
    {
     "name": "stdout",
     "output_type": "stream",
     "text": [
      "Load pretrained results/distilbert-base-uncased-ver8/distilbert-base-uncased-focal-AdamW-lr1e-05-ver8-os10_3.pth\n"
     ]
    }
   ],
   "source": [
    "trainer = MyTrainer(C, fold, outdir / f\"{postfix}.pth\")"
   ]
  },
  {
   "cell_type": "code",
   "execution_count": 8,
   "metadata": {},
   "outputs": [
    {
     "data": {
      "text/plain": [
       "<torch.autograd.grad_mode.set_grad_enabled at 0x7f9c9f127470>"
      ]
     },
     "execution_count": 8,
     "metadata": {},
     "output_type": "execute_result"
    }
   ],
   "source": [
    "model = trainer.model\n",
    "model.eval()\n",
    "torch.set_grad_enabled(False)"
   ]
  },
  {
   "cell_type": "code",
   "execution_count": 9,
   "metadata": {},
   "outputs": [],
   "source": [
    "activation = []\n",
    "\n",
    "\n",
    "def hook(model, input, output):\n",
    "    activation.append(output.detach().cpu())"
   ]
  },
  {
   "cell_type": "code",
   "execution_count": 11,
   "metadata": {},
   "outputs": [
    {
     "data": {
      "text/plain": [
       "<torch.utils.hooks.RemovableHandle at 0x7f9c9f127a20>"
      ]
     },
     "execution_count": 11,
     "metadata": {},
     "output_type": "execute_result"
    }
   ],
   "source": [
    "model.module.pre_classifier.register_forward_hook(hook)"
   ]
  },
  {
   "cell_type": "code",
   "execution_count": 12,
   "metadata": {},
   "outputs": [],
   "source": [
    "train_dl = trainer.dsgen.train_only()"
   ]
  },
  {
   "cell_type": "markdown",
   "metadata": {},
   "source": [
    "# 덱만들기 (Train)"
   ]
  },
  {
   "cell_type": "code",
   "execution_count": 13,
   "metadata": {},
   "outputs": [
    {
     "name": "stdout",
     "output_type": "stream",
     "text": [
      "100%|██████████████████████████████████████████████████████| 421079/421079 [46:25<00:00, 151.19it/s]\n"
     ]
    }
   ],
   "source": [
    "activation = []\n",
    "deck = {\"feat\": [], \"otext\": [], \"tlevel\": [], \"fclevel\": []}\n",
    "with tqdm(total=len(train_dl.dataset), ncols=100, file=sys.stdout) as t:\n",
    "    for text, tlevel, otext in train_dl:\n",
    "        fclevel = model(text.cuda(non_blocking=True))[0].argmax(dim=1).cpu()\n",
    "        deck[\"fclevel\"].append(fclevel)\n",
    "        deck[\"tlevel\"].append(tlevel)\n",
    "        deck[\"otext\"].extend(otext)\n",
    "        t.update(text.size(0))"
   ]
  },
  {
   "cell_type": "code",
   "execution_count": 14,
   "metadata": {},
   "outputs": [],
   "source": [
    "deck[\"feat\"] = torch.cat(activation)\n",
    "deck[\"tlevel\"] = torch.cat(deck[\"tlevel\"])\n",
    "deck[\"fclevel\"] = torch.cat(deck[\"fclevel\"])"
   ]
  },
  {
   "cell_type": "code",
   "execution_count": 15,
   "metadata": {},
   "outputs": [
    {
     "data": {
      "text/plain": [
       "(torch.Size([421079]), torch.Size([421079]))"
      ]
     },
     "execution_count": 15,
     "metadata": {},
     "output_type": "execute_result"
    }
   ],
   "source": [
    "deck[\"tlevel\"].shape, deck[\"fclevel\"].shape"
   ]
  },
  {
   "cell_type": "code",
   "execution_count": 16,
   "metadata": {},
   "outputs": [
    {
     "data": {
      "text/plain": [
       "torch.Size([421079, 768])"
      ]
     },
     "execution_count": 16,
     "metadata": {},
     "output_type": "execute_result"
    }
   ],
   "source": [
    "deck[\"feat\"].shape"
   ]
  },
  {
   "cell_type": "code",
   "execution_count": 17,
   "metadata": {},
   "outputs": [],
   "source": [
    "torch.save(deck, outdir / f\"{postfix}-deck1.pth\")"
   ]
  },
  {
   "cell_type": "markdown",
   "metadata": {},
   "source": [
    "# Valid Lv7에 대한 결과 분석"
   ]
  },
  {
   "cell_type": "code",
   "execution_count": null,
   "metadata": {},
   "outputs": [],
   "source": [
    "deck = torch.load(outdir / f\"{postfix}-deck1.pth\")"
   ]
  },
  {
   "cell_type": "code",
   "execution_count": 18,
   "metadata": {},
   "outputs": [],
   "source": [
    "ds_lv7 = trainer.dsgen.valid_lv7().dataset"
   ]
  },
  {
   "cell_type": "code",
   "execution_count": 19,
   "metadata": {},
   "outputs": [
    {
     "name": "stdout",
     "output_type": "stream",
     "text": [
      "tensor([[ -2.4621,   5.3335,  -9.9651,  -6.1716, -13.1533,  -5.5409, -12.0086]])\n"
     ]
    }
   ],
   "source": [
    "text, otext = ds_lv7[0]\n",
    "activation = []\n",
    "print(model(text[None].cuda())[0].cpu())"
   ]
  },
  {
   "cell_type": "code",
   "execution_count": 20,
   "metadata": {},
   "outputs": [
    {
     "data": {
      "text/plain": [
       "(tensor([[36.3845, 40.0326, 44.9746, 45.2894]]),\n",
       " tensor([[287, 437, 708, 579]]),\n",
       " tensor([[0, 3, 1, 0]]))"
      ]
     },
     "execution_count": 20,
     "metadata": {},
     "output_type": "execute_result"
    }
   ],
   "source": [
    "dists, indices = torch.norm(deck[\"feat\"] - activation[0][None], p=None, dim=1).topk(4, largest=False)\n",
    "dists, indices, deck[\"tlevel\"][indices]"
   ]
  },
  {
   "cell_type": "code",
   "execution_count": 21,
   "metadata": {},
   "outputs": [
    {
     "name": "stdout",
     "output_type": "stream",
     "text": [
      "tensor([[-2.0527, -3.7650, -9.2502,  1.6917, -9.3212, -2.0611, -8.0563]])\n"
     ]
    }
   ],
   "source": [
    "text, otext = ds_lv7[1]\n",
    "activation = []\n",
    "print(model(text[None].cuda())[0].cpu())"
   ]
  },
  {
   "cell_type": "code",
   "execution_count": 22,
   "metadata": {},
   "outputs": [
    {
     "data": {
      "text/plain": [
       "(tensor([[46.1895, 49.0480, 50.7854, 54.4772]]),\n",
       " tensor([[268, 708, 372, 296]]),\n",
       " tensor([[0, 1, 1, 1]]))"
      ]
     },
     "execution_count": 22,
     "metadata": {},
     "output_type": "execute_result"
    }
   ],
   "source": [
    "dists, indices = torch.norm(deck[\"feat\"] - activation[0][None], p=None, dim=1).topk(4, largest=False)\n",
    "dists, indices, deck[\"tlevel\"][indices]"
   ]
  },
  {
   "cell_type": "code",
   "execution_count": 23,
   "metadata": {},
   "outputs": [
    {
     "name": "stdout",
     "output_type": "stream",
     "text": [
      "tensor([[  3.4239,  -0.4558, -11.1326,  -4.1132, -12.7674,  -4.5876, -11.5279]])\n"
     ]
    }
   ],
   "source": [
    "text, otext = ds_lv7[2]\n",
    "activation = []\n",
    "print(model(text[None].cuda())[0].cpu())"
   ]
  },
  {
   "cell_type": "code",
   "execution_count": 24,
   "metadata": {},
   "outputs": [
    {
     "data": {
      "text/plain": [
       "(tensor([[34.8809, 40.5718, 41.7815, 45.6098]]),\n",
       " tensor([[632, 579, 437, 396]]),\n",
       " tensor([[0, 0, 3, 1]]))"
      ]
     },
     "execution_count": 24,
     "metadata": {},
     "output_type": "execute_result"
    }
   ],
   "source": [
    "dists, indices = torch.norm(deck[\"feat\"] - activation[0][None], p=None, dim=1).topk(4, largest=False)\n",
    "dists, indices, deck[\"tlevel\"][indices]"
   ]
  },
  {
   "cell_type": "markdown",
   "metadata": {},
   "source": [
    "# 덱만들기 (Submission)"
   ]
  },
  {
   "cell_type": "code",
   "execution_count": 25,
   "metadata": {},
   "outputs": [],
   "source": [
    "ds_test = trainer.dsgen.test()"
   ]
  },
  {
   "cell_type": "code",
   "execution_count": 26,
   "metadata": {},
   "outputs": [
    {
     "name": "stdout",
     "output_type": "stream",
     "text": [
      "100%|███████████████████████████████████████████████████| 1095951/1095951 [3:06:35<00:00, 97.89it/s]\n"
     ]
    }
   ],
   "source": [
    "activation = []\n",
    "deck = {\"feat\": [], \"otext\": [], \"fclevel\": [], \"ids\": []}\n",
    "with tqdm(total=len(ds_test), ncols=100, file=sys.stdout) as t:\n",
    "    for i in range(len(ds_test)):\n",
    "        text, otext, ids = ds_test[i]\n",
    "        fclevel = model(text[None].cuda(non_blocking=True))[0].argmax(dim=1).cpu()\n",
    "        deck[\"fclevel\"].append(fclevel)\n",
    "        deck[\"otext\"].append(otext)\n",
    "        deck[\"ids\"].append(ids)\n",
    "        t.update()"
   ]
  },
  {
   "cell_type": "code",
   "execution_count": 27,
   "metadata": {},
   "outputs": [],
   "source": [
    "deck[\"feat\"] = torch.stack(activation)\n",
    "deck[\"fclevel\"] = torch.stack(deck[\"fclevel\"])"
   ]
  },
  {
   "cell_type": "code",
   "execution_count": 28,
   "metadata": {},
   "outputs": [
    {
     "data": {
      "text/plain": [
       "(torch.Size([1095951, 1, 768]), torch.Size([1095951, 1]))"
      ]
     },
     "execution_count": 28,
     "metadata": {},
     "output_type": "execute_result"
    }
   ],
   "source": [
    "deck[\"feat\"].shape, deck[\"fclevel\"].shape"
   ]
  },
  {
   "cell_type": "code",
   "execution_count": 29,
   "metadata": {},
   "outputs": [],
   "source": [
    "deck[\"feat\"] = deck[\"feat\"][:, 0, :]\n",
    "# deck[\"fclevel\"] = deck[\"fclevel\"][:, 0]"
   ]
  },
  {
   "cell_type": "code",
   "execution_count": 30,
   "metadata": {},
   "outputs": [
    {
     "data": {
      "text/plain": [
       "(torch.Size([1095951, 768]), torch.Size([1095951, 1]))"
      ]
     },
     "execution_count": 30,
     "metadata": {},
     "output_type": "execute_result"
    }
   ],
   "source": [
    "deck[\"feat\"].shape, deck[\"fclevel\"].shape"
   ]
  },
  {
   "cell_type": "code",
   "execution_count": 31,
   "metadata": {},
   "outputs": [],
   "source": [
    "torch.save(deck, outdir / f\"{postfix}-deck2.pth\")"
   ]
  },
  {
   "cell_type": "code",
   "execution_count": null,
   "metadata": {},
   "outputs": [],
   "source": []
  }
 ],
 "metadata": {
  "kernelspec": {
   "display_name": "shim",
   "language": "python",
   "name": "shim"
  },
  "language_info": {
   "codemirror_mode": {
    "name": "ipython",
    "version": 3
   },
   "file_extension": ".py",
   "mimetype": "text/x-python",
   "name": "python",
   "nbconvert_exporter": "python",
   "pygments_lexer": "ipython3",
   "version": "3.6.10"
  }
 },
 "nbformat": 4,
 "nbformat_minor": 4
}
