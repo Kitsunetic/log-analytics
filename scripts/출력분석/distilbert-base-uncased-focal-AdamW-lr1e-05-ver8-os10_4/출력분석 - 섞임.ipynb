{
 "cells": [
  {
   "cell_type": "code",
   "execution_count": null,
   "id": "ed7c7af1-1792-41d6-9455-12079cbc3c3e",
   "metadata": {},
   "outputs": [],
   "source": []
  },
  {
   "cell_type": "code",
   "execution_count": 166,
   "id": "614ed390-f4c1-4878-9dc1-4faa4a942ae7",
   "metadata": {},
   "outputs": [
    {
     "name": "stdout",
     "output_type": "stream",
     "text": [
      "*  Submit : level : 3, log : received received-value bytes, expected expected-value bytes\n",
      "----------------------------------------------------------------------------------------\n",
      "*   index : 45581\n",
      "*    dist : 0.3589 0.3776 0.3776 0.3852\n",
      "* fc-level: tensor(0)\n",
      "----------------------------------------------------------------------------------------\n",
      "* Level 0 : level : 5, log : Local gateway: local-address, Remote gateway: remote-address, Local ID: local-initiator, Remote ID: remote-responder, Direction: argument1, SPI: index1, AUX-SPI: index2, Mode: mode, Type: type\n",
      "----------------------------------------------------------------------------------------\n",
      "* Level 0 : level : 5, log : Fchip fchip-id: Ftoken overflow/underflow set (data) at address\n",
      "----------------------------------------------------------------------------------------\n",
      "* Level 0 : level : 5, log : Fchip fchip-id: Ftoken overflow/underflow set (data) at address\n",
      "----------------------------------------------------------------------------------------\n",
      "* Level 1 : level : 5, log : Lsys logical-system-name: User username at client-address is rejected.\n",
      "----------------------------------------------------------------------------------------\n"
     ]
    }
   ],
   "source": [
    "print(\"*  Submit :\", deck2[\"otext\"][j - 1])\n",
    "print(\"----------------------------------------------------------------------------------------\")\n",
    "print(\"*   index :\", j - 1)\n",
    "print(\"*    dist :\", \" \".join(map(lambda x: f\"{x:.4f}\", values_.cpu().tolist())))\n",
    "print(\"* fc-level:\", deck2[\"fcfeat\"][j - 1].argmax())\n",
    "print(\"----------------------------------------------------------------------------------------\")\n",
    "\n",
    "for idx in indices_:\n",
    "    print(\"* Level\", deck1[\"tlevel\"][idx].item(), \":\", deck1[\"otext\"][idx])\n",
    "    print(\"----------------------------------------------------------------------------------------\")\n",
    "\n",
    "shown = True"
   ]
  },
  {
   "cell_type": "code",
   "execution_count": 161,
   "id": "21950cd3-0e86-4280-b554-6d3535713956",
   "metadata": {},
   "outputs": [
    {
     "name": "stdout",
     "output_type": "stream",
     "text": [
      "*  Submit : level : 5, log : Error error-code in invoking command command to transfer file filename\n",
      "----------------------------------------------------------------------------------------\n",
      "*   index : 45352\n",
      "*    dist : 0.0899 0.0899 0.1698 0.2000\n",
      "* fc-level: tensor(0)\n",
      "----------------------------------------------------------------------------------------\n",
      "* Level 0 : level : 5, log : Error error-code in invoking command 'command'\n",
      "----------------------------------------------------------------------------------------\n",
      "* Level 0 : level : 5, log : Error error-code in invoking command 'command'\n",
      "----------------------------------------------------------------------------------------\n",
      "* Level 0 : level : 5, log : Fchip fchip-id: link-type link-id poll returned error error-code\n",
      "----------------------------------------------------------------------------------------\n",
      "* Level 1 : level : 5, log : Routing Engine routing-engine-slot temperature (temperature C) over threshold degrees C, component will shutdown in duration seconds if condition persists\n",
      "----------------------------------------------------------------------------------------\n"
     ]
    }
   ],
   "source": [
    "print(\"*  Submit :\", deck2[\"otext\"][j - 1])\n",
    "print(\"----------------------------------------------------------------------------------------\")\n",
    "print(\"*   index :\", j - 1)\n",
    "print(\"*    dist :\", \" \".join(map(lambda x: f\"{x:.4f}\", values_.cpu().tolist())))\n",
    "print(\"* fc-level:\", deck2[\"fcfeat\"][j - 1].argmax())\n",
    "print(\"----------------------------------------------------------------------------------------\")\n",
    "\n",
    "for idx in indices_:\n",
    "    print(\"* Level\", deck1[\"tlevel\"][idx].item(), \":\", deck1[\"otext\"][idx])\n",
    "    print(\"----------------------------------------------------------------------------------------\")\n",
    "\n",
    "shown = True"
   ]
  },
  {
   "cell_type": "code",
   "execution_count": 159,
   "id": "250543d8-26b1-4668-80cb-936c5acf3c31",
   "metadata": {},
   "outputs": [
    {
     "name": "stdout",
     "output_type": "stream",
     "text": [
      "*  Submit : level : 5, log : function-name: write error on pipe to bfdd (error-message)\n",
      "----------------------------------------------------------------------------------------\n",
      "*   index : 45191\n",
      "*    dist : 0.0453 0.0453 0.0453 0.0453\n",
      "* fc-level: tensor(0)\n",
      "----------------------------------------------------------------------------------------\n",
      "* Level 1 : level : 5, log : function-name: write error on pipe to ppmd (error-message)\n",
      "----------------------------------------------------------------------------------------\n",
      "* Level 0 : level : 5, log : function-name: write error on pipe to ppmd (error-message)\n",
      "----------------------------------------------------------------------------------------\n",
      "* Level 0 : level : 5, log : function-name: write error on pipe to ppmd (error-message)\n",
      "----------------------------------------------------------------------------------------\n",
      "* Level 0 : level : 5, log : function-name: write error on pipe to ppmd (error-message)\n",
      "----------------------------------------------------------------------------------------\n"
     ]
    }
   ],
   "source": [
    "print(\"*  Submit :\", deck2[\"otext\"][j - 1])\n",
    "print(\"----------------------------------------------------------------------------------------\")\n",
    "print(\"*   index :\", j - 1)\n",
    "print(\"*    dist :\", \" \".join(map(lambda x: f\"{x:.4f}\", values_.cpu().tolist())))\n",
    "print(\"* fc-level:\", deck2[\"fcfeat\"][j - 1].argmax())\n",
    "print(\"----------------------------------------------------------------------------------------\")\n",
    "\n",
    "for idx in indices_:\n",
    "    print(\"* Level\", deck1[\"tlevel\"][idx].item(), \":\", deck1[\"otext\"][idx])\n",
    "    print(\"----------------------------------------------------------------------------------------\")\n",
    "\n",
    "shown = True"
   ]
  },
  {
   "cell_type": "code",
   "execution_count": 157,
   "id": "a5ef4568-a14a-45f1-8a2b-1567a26dc249",
   "metadata": {},
   "outputs": [
    {
     "name": "stdout",
     "output_type": "stream",
     "text": [
      "*  Submit : level : 3, log : function-name: failed to rename temporary file filename to new-filename: reason\n",
      "----------------------------------------------------------------------------------------\n",
      "*   index : 45161\n",
      "*    dist : 0.0028 0.0028 0.5033 0.5033\n",
      "* fc-level: tensor(0)\n",
      "----------------------------------------------------------------------------------------\n",
      "* Level 0 : level : 3, log : function-name: failed to rename temporary file filename to new-filename: reason\n",
      "----------------------------------------------------------------------------------------\n",
      "* Level 0 : level : 3, log : function-name: failed to rename temporary file filename to new-filename: reason\n",
      "----------------------------------------------------------------------------------------\n",
      "* Level 0 : level : 3, log : Failed to unload IDP policy. reason: reason.\n",
      "----------------------------------------------------------------------------------------\n",
      "* Level 1 : level : 3, log : Failed to unload IDP policy. reason: reason.\n",
      "----------------------------------------------------------------------------------------\n"
     ]
    }
   ],
   "source": [
    "print(\"*  Submit :\", deck2[\"otext\"][j - 1])\n",
    "print(\"----------------------------------------------------------------------------------------\")\n",
    "print(\"*   index :\", j - 1)\n",
    "print(\"*    dist :\", \" \".join(map(lambda x: f\"{x:.4f}\", values_.cpu().tolist())))\n",
    "print(\"* fc-level:\", deck2[\"fcfeat\"][j - 1].argmax())\n",
    "print(\"----------------------------------------------------------------------------------------\")\n",
    "\n",
    "for idx in indices_:\n",
    "    print(\"* Level\", deck1[\"tlevel\"][idx].item(), \":\", deck1[\"otext\"][idx])\n",
    "    print(\"----------------------------------------------------------------------------------------\")\n",
    "\n",
    "shown = True"
   ]
  },
  {
   "cell_type": "code",
   "execution_count": 153,
   "id": "83c0fae5-4af5-4661-a4a0-c518d7cfb825",
   "metadata": {},
   "outputs": [
    {
     "name": "stdout",
     "output_type": "stream",
     "text": [
      "*  Submit : level : 5, log : error-message errors on LCClcc_FPCfpc-slot_pfe link via ST_SIB_Lfrom-lcc-sib_FBfiber-bundle to F13SIBto-sfc-sib\n",
      "----------------------------------------------------------------------------------------\n",
      "*   index : 45158\n",
      "*    dist : 0.4567 0.4689 0.4689 0.4689\n",
      "* fc-level: tensor(0)\n",
      "----------------------------------------------------------------------------------------\n",
      "* Level 0 : level : 10, log : alarmd_send_msg: ipc_msg_write failed: error-message.\n",
      "----------------------------------------------------------------------------------------\n",
      "* Level 0 : level : 5, log : Read error on pipe-type pipe: reason (error-message)\n",
      "----------------------------------------------------------------------------------------\n",
      "* Level 0 : level : 5, log : Read error on pipe-type pipe: reason (error-message)\n",
      "----------------------------------------------------------------------------------------\n",
      "* Level 1 : level : 5, log : Read error on pipe-type pipe: reason (error-message)\n",
      "----------------------------------------------------------------------------------------\n"
     ]
    }
   ],
   "source": [
    "print(\"*  Submit :\", deck2[\"otext\"][j - 1])\n",
    "print(\"----------------------------------------------------------------------------------------\")\n",
    "print(\"*   index :\", j - 1)\n",
    "print(\"*    dist :\", \" \".join(map(lambda x: f\"{x:.4f}\", values_.cpu().tolist())))\n",
    "print(\"* fc-level:\", deck2[\"fcfeat\"][j - 1].argmax())\n",
    "print(\"----------------------------------------------------------------------------------------\")\n",
    "\n",
    "for idx in indices_:\n",
    "    print(\"* Level\", deck1[\"tlevel\"][idx].item(), \":\", deck1[\"otext\"][idx])\n",
    "    print(\"----------------------------------------------------------------------------------------\")\n",
    "\n",
    "shown = True"
   ]
  },
  {
   "cell_type": "code",
   "execution_count": 149,
   "id": "628fbd90-24aa-4369-a793-b00f9313614a",
   "metadata": {},
   "outputs": [
    {
     "name": "stdout",
     "output_type": "stream",
     "text": [
      "*  Submit : level : 5, log : sendmsg() to destination-address port port rt_inst routing-instance failed: error-message\n",
      "----------------------------------------------------------------------------------------\n",
      "*   index : 45028\n",
      "*    dist : 0.3358 0.3358 0.3358 0.4844\n",
      "* fc-level: tensor(0)\n",
      "----------------------------------------------------------------------------------------\n",
      "* Level 0 : level : 5, log : sendmsg() to destination-address port port on interface interface-name rt_inst routing-instance failed: error-message\n",
      "----------------------------------------------------------------------------------------\n",
      "* Level 5 : level : 5, log : sendmsg() to destination-address port port on interface interface-name rt_inst routing-instance failed: error-message\n",
      "----------------------------------------------------------------------------------------\n",
      "* Level 0 : level : 5, log : sendmsg() to destination-address port port on interface interface-name rt_inst routing-instance failed: error-message\n",
      "----------------------------------------------------------------------------------------\n",
      "* Level 0 : level : 5, log : Fchip fchip-id: hst_reset error in fchip_init() on link link-id\n",
      "----------------------------------------------------------------------------------------\n"
     ]
    }
   ],
   "source": [
    "print(\"*  Submit :\", deck2[\"otext\"][j - 1])\n",
    "print(\"----------------------------------------------------------------------------------------\")\n",
    "print(\"*   index :\", j - 1)\n",
    "print(\"*    dist :\", \" \".join(map(lambda x: f\"{x:.4f}\", values_.cpu().tolist())))\n",
    "print(\"* fc-level:\", deck2[\"fcfeat\"][j - 1].argmax())\n",
    "print(\"----------------------------------------------------------------------------------------\")\n",
    "\n",
    "for idx in indices_:\n",
    "    print(\"* Level\", deck1[\"tlevel\"][idx].item(), \":\", deck1[\"otext\"][idx])\n",
    "    print(\"----------------------------------------------------------------------------------------\")\n",
    "\n",
    "shown = True"
   ]
  },
  {
   "cell_type": "code",
   "execution_count": 147,
   "id": "e43e810a-8735-4ece-9ff5-d0305d23970b",
   "metadata": {},
   "outputs": [
    {
     "name": "stdout",
     "output_type": "stream",
     "text": [
      "*  Submit : level : 5, log : Fchip (CB control-board-slot, ID fchip-id): part number part-number and version version were invalid\n",
      "----------------------------------------------------------------------------------------\n",
      "*   index : 44077\n",
      "*    dist : 0.2070 0.2168 0.2179 0.2341\n",
      "* fc-level: tensor(0)\n",
      "----------------------------------------------------------------------------------------\n",
      "* Level 1 : level : 3, log : error-message: reason\n",
      "----------------------------------------------------------------------------------------\n",
      "* Level 0 : level : 5, log : Fchip fchip-id: link-type link-id poll returned error error-code\n",
      "----------------------------------------------------------------------------------------\n",
      "* Level 0 : level : 5, log : error-message on LCC lcc SIB_Lfrom-lcc-sib_FBfiber-bundle VCSEL vcsel Channel vcsel-channel connected to F13SIBto-sfc-sib\n",
      "----------------------------------------------------------------------------------------\n",
      "* Level 0 : level : 5, log : Lsys logical-system-name: Flow IP action detected attack attempt:source-address/source-port --> destination-address/destination-port from interface interface-name, from zone source-zone-name, action action.\n",
      "----------------------------------------------------------------------------------------\n"
     ]
    }
   ],
   "source": [
    "print(\"*  Submit :\", deck2[\"otext\"][j - 1])\n",
    "print(\"----------------------------------------------------------------------------------------\")\n",
    "print(\"*   index :\", j - 1)\n",
    "print(\"*    dist :\", \" \".join(map(lambda x: f\"{x:.4f}\", values_.cpu().tolist())))\n",
    "print(\"* fc-level:\", deck2[\"fcfeat\"][j - 1].argmax())\n",
    "print(\"----------------------------------------------------------------------------------------\")\n",
    "\n",
    "for idx in indices_:\n",
    "    print(\"* Level\", deck1[\"tlevel\"][idx].item(), \":\", deck1[\"otext\"][idx])\n",
    "    print(\"----------------------------------------------------------------------------------------\")\n",
    "\n",
    "shown = True"
   ]
  },
  {
   "cell_type": "code",
   "execution_count": 113,
   "id": "77921253-2880-4f7b-900d-ea3ace548a2a",
   "metadata": {},
   "outputs": [
    {
     "name": "stdout",
     "output_type": "stream",
     "text": [
      "*  Submit : level : 3, log : read failed for peer peer-name: error-message\n",
      "----------------------------------------------------------------------------------------\n",
      "*   index : 37500\n",
      "*    dist : 0.4881 0.4881 0.4881 0.4881\n",
      "* fc-level: tensor(0)\n",
      "----------------------------------------------------------------------------------------\n",
      "* Level 1 : level : 5, log : Read error on pipe-type pipe: reason (error-message)\n",
      "----------------------------------------------------------------------------------------\n",
      "* Level 0 : level : 5, log : Read error on pipe-type pipe: reason (error-message)\n",
      "----------------------------------------------------------------------------------------\n",
      "* Level 0 : level : 5, log : Read error on pipe-type pipe: reason (error-message)\n",
      "----------------------------------------------------------------------------------------\n",
      "* Level 0 : level : 5, log : Read error on pipe-type pipe: reason (error-message)\n",
      "----------------------------------------------------------------------------------------\n"
     ]
    }
   ],
   "source": [
    "print(\"*  Submit :\", deck2[\"otext\"][j - 1])\n",
    "print(\"----------------------------------------------------------------------------------------\")\n",
    "print(\"*   index :\", j - 1)\n",
    "print(\"*    dist :\", \" \".join(map(lambda x: f\"{x:.4f}\", values_.cpu().tolist())))\n",
    "print(\"* fc-level:\", deck2[\"fcfeat\"][j - 1].argmax())\n",
    "print(\"----------------------------------------------------------------------------------------\")\n",
    "\n",
    "for idx in indices_:\n",
    "    print(\"* Level\", deck1[\"tlevel\"][idx].item(), \":\", deck1[\"otext\"][idx])\n",
    "    print(\"----------------------------------------------------------------------------------------\")\n",
    "\n",
    "shown = True"
   ]
  },
  {
   "cell_type": "code",
   "execution_count": 99,
   "id": "eaad5560-e0f8-48ee-9059-114c3fed4fd3",
   "metadata": {},
   "outputs": [
    {
     "name": "stdout",
     "output_type": "stream",
     "text": [
      "*  Submit : level : 3, log : Can't initialize kcom for msprpc client: error-message\n",
      "----------------------------------------------------------------------------------------\n",
      "*   index : 35170\n",
      "*    dist : 0.3551 0.3551 0.4014 0.4196\n",
      "* fc-level: tensor(0)\n",
      "----------------------------------------------------------------------------------------\n",
      "* Level 1 : level : 3, log : SIB with assembly ID assembly-id is not supported\n",
      "----------------------------------------------------------------------------------------\n",
      "* Level 0 : level : 3, log : SIB with assembly ID assembly-id is not supported\n",
      "----------------------------------------------------------------------------------------\n",
      "* Level 1 : level : 3, log : function-name: attempt to bring fru-name fru-slot online timed out\n",
      "----------------------------------------------------------------------------------------\n",
      "* Level 0 : level : 5, log : Cannot support classifier type classifier-type on lsi interface interface-name\n",
      "----------------------------------------------------------------------------------------\n"
     ]
    }
   ],
   "source": [
    "print(\"*  Submit :\", deck2[\"otext\"][j - 1])\n",
    "print(\"----------------------------------------------------------------------------------------\")\n",
    "print(\"*   index :\", j - 1)\n",
    "print(\"*    dist :\", \" \".join(map(lambda x: f\"{x:.4f}\", values_.cpu().tolist())))\n",
    "print(\"* fc-level:\", deck2[\"fcfeat\"][j - 1].argmax())\n",
    "print(\"----------------------------------------------------------------------------------------\")\n",
    "\n",
    "for idx in indices_:\n",
    "    print(\"* Level\", deck1[\"tlevel\"][idx].item(), \":\", deck1[\"otext\"][idx])\n",
    "    print(\"----------------------------------------------------------------------------------------\")\n",
    "\n",
    "shown = True"
   ]
  },
  {
   "cell_type": "code",
   "execution_count": 80,
   "id": "9a6d9ff9-3cf9-4d53-9d65-f2ca0dfa26c2",
   "metadata": {},
   "outputs": [
    {
     "name": "stdout",
     "output_type": "stream",
     "text": [
      "*  Submit : level : 5, log : function-name: unexpected response received from interface-name (error-message)\n",
      "----------------------------------------------------------------------------------------\n",
      "*   index : 28657\n",
      "*    dist : 0.3921 0.3971 0.4066 0.4118\n",
      "* fc-level: tensor(0)\n",
      "----------------------------------------------------------------------------------------\n",
      "* Level 0 : level : 5, log : MAC limit (limit) exceeded at interface-name: dropping the packet\n",
      "----------------------------------------------------------------------------------------\n",
      "* Level 0 : level : 10, log : CRIT: argument\n",
      "----------------------------------------------------------------------------------------\n",
      "* Level 0 : level : 5, log : FPC fpc-slot PIC pic-slot CPU utilization exceeds threshold, current value=current-value Description PFE cpu threshold exceeded\n",
      "----------------------------------------------------------------------------------------\n",
      "* Level 1 : level : 5, log : Received flowc IPC message with incorrect type: message type message-type, subtype message-subtype, opcode operation-code, length length\n",
      "----------------------------------------------------------------------------------------\n"
     ]
    }
   ],
   "source": [
    "print(\"*  Submit :\", deck2[\"otext\"][j - 1])\n",
    "print(\"----------------------------------------------------------------------------------------\")\n",
    "print(\"*   index :\", j - 1)\n",
    "print(\"*    dist :\", \" \".join(map(lambda x: f\"{x:.4f}\", values_.cpu().tolist())))\n",
    "print(\"* fc-level:\", deck2[\"fcfeat\"][j - 1].argmax())\n",
    "print(\"----------------------------------------------------------------------------------------\")\n",
    "\n",
    "for idx in indices_:\n",
    "    print(\"* Level\", deck1[\"tlevel\"][idx].item(), \":\", deck1[\"otext\"][idx])\n",
    "    print(\"----------------------------------------------------------------------------------------\")\n",
    "\n",
    "shown = True"
   ]
  },
  {
   "cell_type": "code",
   "execution_count": 97,
   "id": "8e952e16-a2a4-4773-afef-6cf73be23d17",
   "metadata": {},
   "outputs": [
    {
     "name": "stdout",
     "output_type": "stream",
     "text": [
      "*  Submit : level : 5, log : pipe_write failure for connection-id; connection error: error-message (errno error-code)\n",
      "----------------------------------------------------------------------------------------\n",
      "*   index : 34382\n",
      "*    dist : 0.2707 0.2978 0.3185 0.3185\n",
      "* fc-level: tensor(0)\n",
      "----------------------------------------------------------------------------------------\n",
      "* Level 1 : level : 5, log : Fchip (CB control-board-slot, ID fchip-id): HSL configuration failed (error error-message)\n",
      "----------------------------------------------------------------------------------------\n",
      "* Level 0 : level : 5, log : function-name: system function 'system-function-name' failed: error-message\n",
      "----------------------------------------------------------------------------------------\n",
      "* Level 0 : level : 5, log : function-name: malloc() failed (error-message, errno error-code)\n",
      "----------------------------------------------------------------------------------------\n",
      "* Level 1 : level : 5, log : function-name: malloc() failed (error-message, errno error-code)\n",
      "----------------------------------------------------------------------------------------\n"
     ]
    }
   ],
   "source": [
    "print(\"*  Submit :\", deck2[\"otext\"][j - 1])\n",
    "print(\"----------------------------------------------------------------------------------------\")\n",
    "print(\"*   index :\", j - 1)\n",
    "print(\"*    dist :\", \" \".join(map(lambda x: f\"{x:.4f}\", values_.cpu().tolist())))\n",
    "print(\"* fc-level:\", deck2[\"fcfeat\"][j - 1].argmax())\n",
    "print(\"----------------------------------------------------------------------------------------\")\n",
    "\n",
    "for idx in indices_:\n",
    "    print(\"* Level\", deck1[\"tlevel\"][idx].item(), \":\", deck1[\"otext\"][idx])\n",
    "    print(\"----------------------------------------------------------------------------------------\")\n",
    "\n",
    "shown = True"
   ]
  },
  {
   "cell_type": "code",
   "execution_count": 93,
   "id": "8cd06b45-2cc4-4708-8871-81be5de00acb",
   "metadata": {},
   "outputs": [
    {
     "name": "stdout",
     "output_type": "stream",
     "text": [
      "*  Submit : level : 5, log : message-type message had unexpected operation code operation-code\n",
      "----------------------------------------------------------------------------------------\n",
      "*   index : 33713\n",
      "*    dist : 0.3798 0.4012 0.4060 0.4060 0.5223 0.5223 0.5223 0.6424\n",
      "* fc-level: tensor(0)\n",
      "----------------------------------------------------------------------------------------\n",
      "* Level 0 : level : 7, log : rtsock rewrite type type is invalid\n",
      "----------------------------------------------------------------------------------------\n",
      "* Level 0 : level : 5, log : Received IPC message with incorrect subtype: message type message-type, subtype message-subtype, opcode operation-code, length length\n",
      "----------------------------------------------------------------------------------------\n",
      "* Level 0 : level : 3, log : argument: sock:port (type:port-type)\n",
      "----------------------------------------------------------------------------------------\n",
      "* Level 1 : level : 3, log : argument: sock:port (type:port-type)\n",
      "----------------------------------------------------------------------------------------\n",
      "* Level 0 : level : 3, log : MPLS LSP lsp-name change on path-type(pathname) Route lsp-rro lsp bandwidth bandwidth bps\n",
      "----------------------------------------------------------------------------------------\n",
      "* Level 0 : level : 3, log : MPLS LSP lsp-name change on path-type(pathname) Route lsp-rro lsp bandwidth bandwidth bps\n",
      "----------------------------------------------------------------------------------------\n",
      "* Level 0 : level : 3, log : MPLS LSP lsp-name change on path-type(pathname) Route lsp-rro lsp bandwidth bandwidth bps\n",
      "----------------------------------------------------------------------------------------\n",
      "* Level 0 : level : 5, log : System type by username at time: message\n",
      "----------------------------------------------------------------------------------------\n"
     ]
    }
   ],
   "source": [
    "print(\"*  Submit :\", deck2[\"otext\"][j - 1])\n",
    "print(\"----------------------------------------------------------------------------------------\")\n",
    "print(\"*   index :\", j - 1)\n",
    "print(\"*    dist :\", \" \".join(map(lambda x: f\"{x:.4f}\", values_.cpu().tolist())))\n",
    "print(\"* fc-level:\", deck2[\"fcfeat\"][j - 1].argmax())\n",
    "print(\"----------------------------------------------------------------------------------------\")\n",
    "\n",
    "for idx in indices_:\n",
    "    print(\"* Level\", deck1[\"tlevel\"][idx].item(), \":\", deck1[\"otext\"][idx])\n",
    "    print(\"----------------------------------------------------------------------------------------\")\n",
    "\n",
    "shown = True"
   ]
  },
  {
   "cell_type": "code",
   "execution_count": 70,
   "id": "3da03c8d-a7d8-4aa9-9d84-3a87aa916d28",
   "metadata": {},
   "outputs": [
    {
     "name": "stdout",
     "output_type": "stream",
     "text": [
      "*  Submit : level : 3, log : XML syntax of output filename was invalid\n",
      "----------------------------------------------------------------------------------------\n",
      "*   index : 25073\n",
      "*    dist : 0.3574 0.3618 0.3618 0.3751\n",
      "* fc-level: tensor(0)\n",
      "----------------------------------------------------------------------------------------\n",
      "* Level 0 : level : 5, log : Local gateway: local-address, Remote gateway: remote-address, Local ID: local-initiator, Remote ID: remote-responder, Direction: argument1, SPI: index1, AUX-SPI: index2, Mode: mode, Type: type\n",
      "----------------------------------------------------------------------------------------\n",
      "* Level 1 : level : 5, log : Lsys logical-system-name: User username at client-address is rejected.\n",
      "----------------------------------------------------------------------------------------\n",
      "* Level 1 : level : 5, log : Lsys logical-system-name: User username at client-address is rejected.\n",
      "----------------------------------------------------------------------------------------\n",
      "* Level 0 : level : 5, log : Fabric fc-fabric-name interface interface-name fcf-mac mac-address FIP protocol stopped Description FIP protocol is stopped on an interface.\n",
      "----------------------------------------------------------------------------------------\n"
     ]
    }
   ],
   "source": [
    "print(\"*  Submit :\", deck2[\"otext\"][j - 1])\n",
    "print(\"----------------------------------------------------------------------------------------\")\n",
    "print(\"*   index :\", j - 1)\n",
    "print(\"*    dist :\", \" \".join(map(lambda x: f\"{x:.4f}\", values_.cpu().tolist())))\n",
    "print(\"* fc-level:\", deck2[\"fcfeat\"][j - 1].argmax())\n",
    "print(\"----------------------------------------------------------------------------------------\")\n",
    "\n",
    "for idx in indices_:\n",
    "    print(\"* Level\", deck1[\"tlevel\"][idx].item(), \":\", deck1[\"otext\"][idx])\n",
    "    print(\"----------------------------------------------------------------------------------------\")\n",
    "\n",
    "shown = True"
   ]
  },
  {
   "cell_type": "code",
   "execution_count": 68,
   "id": "14aa5f08-76bf-4744-a82a-d12b9f8894f8",
   "metadata": {},
   "outputs": [
    {
     "name": "stdout",
     "output_type": "stream",
     "text": [
      "*  Submit : level : 5, log : All MLD subscribers on interface interface-name deleted at time because the interface is down\n",
      "----------------------------------------------------------------------------------------\n",
      "*   index : 24427\n",
      "*    dist : 0.4135 0.4135 0.4357 0.4567\n",
      "* fc-level: tensor(0)\n",
      "----------------------------------------------------------------------------------------\n",
      "* Level 0 : level : 5, log : Listener source-address sent a leave to destination-address for group group-address source sender-address on interface interface-name at time\n",
      "----------------------------------------------------------------------------------------\n",
      "* Level 1 : level : 5, log : Listener source-address sent a leave to destination-address for group group-address source sender-address on interface interface-name at time\n",
      "----------------------------------------------------------------------------------------\n",
      "* Level 1 : level : 5, log : Listener source-address sent a join to destination-address for group group-address source sender-address on interface interface-name at time\n",
      "----------------------------------------------------------------------------------------\n",
      "* Level 0 : level : 5, log : Fchip fchip-id: Ftoken overflow/underflow set (data) at address\n",
      "----------------------------------------------------------------------------------------\n"
     ]
    }
   ],
   "source": [
    "print(\"*  Submit :\", deck2[\"otext\"][j - 1])\n",
    "print(\"----------------------------------------------------------------------------------------\")\n",
    "print(\"*   index :\", j - 1)\n",
    "print(\"*    dist :\", \" \".join(map(lambda x: f\"{x:.4f}\", values_.cpu().tolist())))\n",
    "print(\"* fc-level:\", deck2[\"fcfeat\"][j - 1].argmax())\n",
    "print(\"----------------------------------------------------------------------------------------\")\n",
    "\n",
    "for idx in indices_:\n",
    "    print(\"* Level\", deck1[\"tlevel\"][idx].item(), \":\", deck1[\"otext\"][idx])\n",
    "    print(\"----------------------------------------------------------------------------------------\")\n",
    "\n",
    "shown = True"
   ]
  },
  {
   "cell_type": "code",
   "execution_count": 58,
   "id": "e74c4246-d6ca-4195-96b2-0c043474abc7",
   "metadata": {},
   "outputs": [
    {
     "name": "stdout",
     "output_type": "stream",
     "text": [
      "*  Submit : level : 5, log : DFW: output type (firewall-name) on ifl logical-interface-index rejected, invalid interface\n",
      "----------------------------------------------------------------------------------------\n",
      "*   index : 18340\n",
      "*    dist : 0.5656 0.6254 0.6883 0.7205\n",
      "* fc-level: tensor(0)\n",
      "----------------------------------------------------------------------------------------\n",
      "* Level 1 : level : 5, log : sendmsg() from source-address to port destination-port at destination-address via routing instance routing-instance failed: error-message\n",
      "----------------------------------------------------------------------------------------\n",
      "* Level 0 : level : 3, log : Child output: message\n",
      "----------------------------------------------------------------------------------------\n",
      "* Level 1 : level : 5, log : interface-name: configured storm control speed level is greater than interface speed bandwidth. Storm control will be set to the latter\n",
      "----------------------------------------------------------------------------------------\n",
      "* Level 0 : level : 5, log : APPID signature update license(ID=feature-id) has expired\n",
      "----------------------------------------------------------------------------------------\n"
     ]
    }
   ],
   "source": [
    "print(\"*  Submit :\", deck2[\"otext\"][j - 1])\n",
    "print(\"----------------------------------------------------------------------------------------\")\n",
    "print(\"*   index :\", j - 1)\n",
    "print(\"*    dist :\", \" \".join(map(lambda x: f\"{x:.4f}\", values_.cpu().tolist())))\n",
    "print(\"* fc-level:\", deck2[\"fcfeat\"][j - 1].argmax())\n",
    "print(\"----------------------------------------------------------------------------------------\")\n",
    "\n",
    "for idx in indices_:\n",
    "    print(\"* Level\", deck1[\"tlevel\"][idx].item(), \":\", deck1[\"otext\"][idx])\n",
    "    print(\"----------------------------------------------------------------------------------------\")\n",
    "\n",
    "shown = True"
   ]
  },
  {
   "cell_type": "code",
   "execution_count": 50,
   "id": "130fa6e2-8720-4e0e-891c-59e948b78aff",
   "metadata": {},
   "outputs": [
    {
     "name": "stdout",
     "output_type": "stream",
     "text": [
      "*  Submit : level : 5, log : Number of failover attempts exceeded limit count for tunnel tunnel-name\n",
      "----------------------------------------------------------------------------------------\n",
      "*   index : 12639\n",
      "*    dist : 1.2294 1.2458 1.3040 1.3303\n",
      "* fc-level: tensor(0)\n",
      "----------------------------------------------------------------------------------------\n",
      "* Level 1 : level : 5, log : fru-name temperature of temperature degrees C is above limit (threshold degrees)\n",
      "----------------------------------------------------------------------------------------\n",
      "* Level 1 : level : 5, log : Dynamic VPN license returned, license limit free, count overdrafted, current-value used Description The Access Manager client has disconnected and returned its license.\n",
      "----------------------------------------------------------------------------------------\n",
      "* Level 0 : level : 3, log : OSPF instance instance topology topology is going into overload state: number of export prefixes (count) exceeded maximum allowed (maximum-value)\n",
      "----------------------------------------------------------------------------------------\n",
      "* Level 0 : level : 5, log : Invalid life type units-type found in the Quick Mode notification from remote-address:remote-port\n",
      "----------------------------------------------------------------------------------------\n"
     ]
    }
   ],
   "source": [
    "print(\"*  Submit :\", deck2[\"otext\"][j - 1])\n",
    "print(\"----------------------------------------------------------------------------------------\")\n",
    "print(\"*   index :\", j - 1)\n",
    "print(\"*    dist :\", \" \".join(map(lambda x: f\"{x:.4f}\", values_.cpu().tolist())))\n",
    "print(\"* fc-level:\", deck2[\"fcfeat\"][j - 1].argmax())\n",
    "print(\"----------------------------------------------------------------------------------------\")\n",
    "\n",
    "for idx in indices_:\n",
    "    print(\"* Level\", deck1[\"tlevel\"][idx].item(), \":\", deck1[\"otext\"][idx])\n",
    "    print(\"----------------------------------------------------------------------------------------\")\n",
    "\n",
    "shown = True"
   ]
  },
  {
   "cell_type": "code",
   "execution_count": 48,
   "id": "2dd3ca1a-2a7f-4c03-99aa-5fd9e863a64e",
   "metadata": {},
   "outputs": [
    {
     "name": "stdout",
     "output_type": "stream",
     "text": [
      "*  Submit : level : 5, log : DFW: output type (firewall-name) on ifl logical-interface-index rejected, invalid interface\n",
      "----------------------------------------------------------------------------------------\n",
      "*   index : 8358\n",
      "*    dist : 0.5656 0.6254 0.6883 0.7205\n",
      "* fc-level: tensor(0)\n",
      "----------------------------------------------------------------------------------------\n",
      "* Level 1 : level : 5, log : sendmsg() from source-address to port destination-port at destination-address via routing instance routing-instance failed: error-message\n",
      "----------------------------------------------------------------------------------------\n",
      "* Level 0 : level : 3, log : Child output: message\n",
      "----------------------------------------------------------------------------------------\n",
      "* Level 1 : level : 5, log : interface-name: configured storm control speed level is greater than interface speed bandwidth. Storm control will be set to the latter\n",
      "----------------------------------------------------------------------------------------\n",
      "* Level 0 : level : 5, log : APPID signature update license(ID=feature-id) has expired\n",
      "----------------------------------------------------------------------------------------\n"
     ]
    }
   ],
   "source": [
    "print(\"*  Submit :\", deck2[\"otext\"][j - 1])\n",
    "print(\"----------------------------------------------------------------------------------------\")\n",
    "print(\"*   index :\", j - 1)\n",
    "print(\"*    dist :\", \" \".join(map(lambda x: f\"{x:.4f}\", values_.cpu().tolist())))\n",
    "print(\"* fc-level:\", deck2[\"fcfeat\"][j - 1].argmax())\n",
    "print(\"----------------------------------------------------------------------------------------\")\n",
    "\n",
    "for idx in indices_:\n",
    "    print(\"* Level\", deck1[\"tlevel\"][idx].item(), \":\", deck1[\"otext\"][idx])\n",
    "    print(\"----------------------------------------------------------------------------------------\")\n",
    "\n",
    "shown = True"
   ]
  },
  {
   "cell_type": "code",
   "execution_count": 37,
   "id": "ddb2325b-535e-4a1b-8964-451d677ce2cc",
   "metadata": {},
   "outputs": [
    {
     "name": "stdout",
     "output_type": "stream",
     "text": [
      "*  Submit : level : 5, log : operation operation failed: peer peer-name (index peer-id) reason\n",
      "----------------------------------------------------------------------------------------\n",
      "*   index : 2964\n",
      "*    dist : 0.3459 0.3879 0.3879 0.4032\n",
      "* fc-level: tensor(0)\n",
      "----------------------------------------------------------------------------------------\n",
      "* Level 0 : level : 5, log : function-name: rtslib get operation failed for interface device interface-name (error-message)\n",
      "----------------------------------------------------------------------------------------\n",
      "* Level 5 : level : 5, log : function-name: failed in operation object-name: index (error-message)\n",
      "----------------------------------------------------------------------------------------\n",
      "* Level 0 : level : 5, log : function-name: failed in operation object-name: index (error-message)\n",
      "----------------------------------------------------------------------------------------\n",
      "* Level 1 : level : 5, log : Failed to unregister SCCP client from Resource Manager when the ALG was unregistered\n",
      "----------------------------------------------------------------------------------------\n"
     ]
    }
   ],
   "source": [
    "print(\"*  Submit :\", deck2[\"otext\"][j - 1])\n",
    "print(\"----------------------------------------------------------------------------------------\")\n",
    "print(\"*   index :\", j - 1)\n",
    "print(\"*    dist :\", \" \".join(map(lambda x: f\"{x:.4f}\", values_.cpu().tolist())))\n",
    "print(\"* fc-level:\", deck2[\"fcfeat\"][j - 1].argmax())\n",
    "print(\"----------------------------------------------------------------------------------------\")\n",
    "\n",
    "for idx in indices_:\n",
    "    print(\"* Level\", deck1[\"tlevel\"][idx].item(), \":\", deck1[\"otext\"][idx])\n",
    "    print(\"----------------------------------------------------------------------------------------\")\n",
    "\n",
    "shown = True"
   ]
  }
 ],
 "metadata": {
  "kernelspec": {
   "display_name": "torch",
   "language": "python",
   "name": "torch"
  },
  "language_info": {
   "codemirror_mode": {
    "name": "ipython",
    "version": 3
   },
   "file_extension": ".py",
   "mimetype": "text/x-python",
   "name": "python",
   "nbconvert_exporter": "python",
   "pygments_lexer": "ipython3",
   "version": "3.7.10"
  }
 },
 "nbformat": 4,
 "nbformat_minor": 5
}
