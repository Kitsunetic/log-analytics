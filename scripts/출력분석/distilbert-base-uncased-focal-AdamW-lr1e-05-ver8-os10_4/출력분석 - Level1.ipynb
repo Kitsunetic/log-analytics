{
 "cells": [
  {
   "cell_type": "code",
   "execution_count": null,
   "id": "47b348e6-97ec-4362-b6a1-06933140cf65",
   "metadata": {},
   "outputs": [],
   "source": []
  },
  {
   "cell_type": "code",
   "execution_count": 117,
   "id": "c3b1dcbf-c6c7-4d19-86d7-45142ee070ca",
   "metadata": {},
   "outputs": [
    {
     "name": "stdout",
     "output_type": "stream",
     "text": [
      "*  Submit : type=ANOM_ABEND msg=audit value : auid=4294967295 uid=0 gid=0 ses=4294967295 subj=system_u:system_r:unconfined_service_t:s0 pid=1220 comm=\"agentchk\" reason=\"memory violation\" sig=6\n",
      "----------------------------------------------------------------------------------------\n",
      "*   index : 38180\n",
      "*    dist : 0.2602 0.2650 0.2693 0.2716\n",
      "* fc-level: tensor(1)\n",
      "----------------------------------------------------------------------------------------\n",
      "* Level 1 : type=SYSCALL msg=audit value : arch=c000003e syscall=59 success=yes exit=0 a0=1c92810 a1=1c92af0 a2=1c90020 a3=7ffd3f236ba0 items=2 ppid=14017 pid=14018 auid=0 uid=0 gid=985 euid=0 suid=0 fsuid=0 egid=985 sgid=985 fsgid=985 tty=(none) ses=1 comm=\"netstat\" exe=\"/usr/bin/netstat\" subj=unconfined_u:unconfined_r:unconfined_t:s0-s0:c0.c1023 key=\"audit-wazuh-x\"\n",
      "----------------------------------------------------------------------------------------\n",
      "* Level 1 : type=SYSCALL msg=audit value : arch=c000003e syscall=59 success=yes exit=0 a0=1f10810 a1=1f10af0 a2=1f0e020 a3=7fff985d22e0 items=2 ppid=2420 pid=2422 auid=0 uid=0 gid=985 euid=0 suid=0 fsuid=0 egid=985 sgid=985 fsgid=985 tty=(none) ses=1 comm=\"netstat\" exe=\"/usr/bin/netstat\" subj=unconfined_u:unconfined_r:unconfined_t:s0-s0:c0.c1023 key=\"audit-wazuh-x\"\n",
      "----------------------------------------------------------------------------------------\n",
      "* Level 1 : type=SYSCALL msg=audit value : arch=c000003e syscall=59 success=yes exit=0 a0=244c680 a1=244c960 a2=244b170 a3=7ffc51a1e860 items=2 ppid=107730 pid=107731 auid=4294967295 uid=0 gid=980 euid=0 suid=0 fsuid=0 egid=980 sgid=980 fsgid=980 tty=(none) ses=4294967295 comm=\"netstat\" exe=\"/usr/bin/netstat\" subj=system_u:system_r:unconfined_service_t:s0 key=\"audit-wazuh-x\"\n",
      "----------------------------------------------------------------------------------------\n",
      "* Level 1 : type=SYSCALL msg=audit value : arch=c000003e syscall=59 success=yes exit=0 a0=a67180 a1=a66eb0 a2=a66910 a3=7fffc7ef25e0 items=2 ppid=16176 pid=16178 auid=0 uid=0 gid=985 euid=0 suid=0 fsuid=0 egid=985 sgid=985 fsgid=985 tty=(none) ses=1 comm=\"sed\" exe=\"/usr/bin/sed\" subj=unconfined_u:unconfined_r:unconfined_t:s0-s0:c0.c1023 key=\"audit-wazuh-x\" type=EXECVE msg=audit value : argc=2 a0=\"sed\" a1=732F5C285B5B3A616C6E756D3A5D5D5C2B5C295C205C2B5B5B3A64696769743A5D5D5C2B5C205C2B5B5B3A64696769743A5D5D5C2B5C205C2B5C282E2A5C293A5C285B5B3A64696769743A5D5D2A5C295C205C2B5C285B302D395C2E5C3A5C2A5D5C2B5C292E5C2B5C205C285B5B3A64696769743A5D5D2A5C2F5B5B3A616C6E756D3A5D5C2D5D2A5C292E2A2F5C31205C32203D3D205C33203D3D205C34205C352F\n",
      "----------------------------------------------------------------------------------------\n"
     ]
    }
   ],
   "source": [
    "print(\"*  Submit :\", deck2[\"otext\"][j - 1])\n",
    "print(\"----------------------------------------------------------------------------------------\")\n",
    "print(\"*   index :\", j - 1)\n",
    "print(\"*    dist :\", \" \".join(map(lambda x: f\"{x:.4f}\", values_.cpu().tolist())))\n",
    "print(\"* fc-level:\", deck2[\"fcfeat\"][j - 1].argmax())\n",
    "print(\"----------------------------------------------------------------------------------------\")\n",
    "\n",
    "for idx in indices_:\n",
    "    print(\"* Level\", deck1[\"tlevel\"][idx].item(), \":\", deck1[\"otext\"][idx])\n",
    "    print(\"----------------------------------------------------------------------------------------\")\n",
    "\n",
    "shown = True"
   ]
  },
  {
   "cell_type": "code",
   "execution_count": 86,
   "id": "6d0fbebd-226a-4357-b130-da5d17e6b24d",
   "metadata": {},
   "outputs": [
    {
     "name": "stdout",
     "output_type": "stream",
     "text": [
      "*  Submit : type=ANOM_ABEND msg=audit value : auid=4294967295 uid=48 gid=48 ses=4294967295 subj=system_u:system_r:httpd_t:s0 pid=9857 comm=\"httpd\" reason=\"memory violation\" sig=11\n",
      "----------------------------------------------------------------------------------------\n",
      "*   index : 30852\n",
      "*    dist : 0.2584 0.2592 0.2606 0.2611\n",
      "* fc-level: tensor(1)\n",
      "----------------------------------------------------------------------------------------\n",
      "* Level 1 : type=SYSCALL msg=audit value : arch=c000003e syscall=59 success=yes exit=0 a0=244c680 a1=244c960 a2=244b170 a3=7ffc51a1e860 items=2 ppid=107730 pid=107731 auid=4294967295 uid=0 gid=980 euid=0 suid=0 fsuid=0 egid=980 sgid=980 fsgid=980 tty=(none) ses=4294967295 comm=\"netstat\" exe=\"/usr/bin/netstat\" subj=system_u:system_r:unconfined_service_t:s0 key=\"audit-wazuh-x\"\n",
      "----------------------------------------------------------------------------------------\n",
      "* Level 1 : type=SYSCALL msg=audit value : arch=c000003e syscall=59 success=yes exit=0 a0=21cb810 a1=21cbaf0 a2=21c9020 a3=7ffc95717960 items=2 ppid=13683 pid=13684 auid=0 uid=0 gid=985 euid=0 suid=0 fsuid=0 egid=985 sgid=985 fsgid=985 tty=(none) ses=1 comm=\"netstat\" exe=\"/usr/bin/netstat\" subj=unconfined_u:unconfined_r:unconfined_t:s0-s0:c0.c1023 key=\"audit-wazuh-x\"\n",
      "----------------------------------------------------------------------------------------\n",
      "* Level 1 : type=SYSCALL msg=audit value : arch=c000003e syscall=59 success=yes exit=0 a0=24e5730 a1=24e4160 a2=24e3910 a3=7ffea2819e20 items=2 ppid=26214 pid=26217 auid=0 uid=0 gid=985 euid=0 suid=0 fsuid=0 egid=985 sgid=985 fsgid=985 tty=(none) ses=1 comm=\"sort\" exe=\"/usr/bin/sort\" subj=unconfined_u:unconfined_r:unconfined_t:s0-s0:c0.c1023 key=\"audit-wazuh-x\"\n",
      "----------------------------------------------------------------------------------------\n",
      "* Level 1 : type=SYSCALL msg=audit value : arch=c000003e syscall=59 success=yes exit=0 a0=21b1730 a1=21b0160 a2=21af910 a3=7fff163d9a60 items=2 ppid=26933 pid=26937 auid=0 uid=0 gid=985 euid=0 suid=0 fsuid=0 egid=985 sgid=985 fsgid=985 tty=(none) ses=1 comm=\"sort\" exe=\"/usr/bin/sort\" subj=unconfined_u:unconfined_r:unconfined_t:s0-s0:c0.c1023 key=\"audit-wazuh-x\"\n",
      "----------------------------------------------------------------------------------------\n"
     ]
    }
   ],
   "source": [
    "print(\"*  Submit :\", deck2[\"otext\"][j - 1])\n",
    "print(\"----------------------------------------------------------------------------------------\")\n",
    "print(\"*   index :\", j - 1)\n",
    "print(\"*    dist :\", \" \".join(map(lambda x: f\"{x:.4f}\", values_.cpu().tolist())))\n",
    "print(\"* fc-level:\", deck2[\"fcfeat\"][j - 1].argmax())\n",
    "print(\"----------------------------------------------------------------------------------------\")\n",
    "\n",
    "for idx in indices_:\n",
    "    print(\"* Level\", deck1[\"tlevel\"][idx].item(), \":\", deck1[\"otext\"][idx])\n",
    "    print(\"----------------------------------------------------------------------------------------\")\n",
    "\n",
    "shown = True"
   ]
  }
 ],
 "metadata": {
  "kernelspec": {
   "display_name": "torch",
   "language": "python",
   "name": "torch"
  },
  "language_info": {
   "codemirror_mode": {
    "name": "ipython",
    "version": 3
   },
   "file_extension": ".py",
   "mimetype": "text/x-python",
   "name": "python",
   "nbconvert_exporter": "python",
   "pygments_lexer": "ipython3",
   "version": "3.7.10"
  }
 },
 "nbformat": 4,
 "nbformat_minor": 5
}
