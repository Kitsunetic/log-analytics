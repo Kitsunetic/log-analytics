{
 "cells": [
  {
   "cell_type": "code",
   "execution_count": 1,
   "id": "b76281d5-a092-435f-8224-66df9333801e",
   "metadata": {},
   "outputs": [
    {
     "name": "stdout",
     "output_type": "stream",
     "text": [
      "/mnt/h/hev/log-analytics\n"
     ]
    }
   ],
   "source": [
    "%load_ext lab_black\n",
    "%cd ../../.."
   ]
  },
  {
   "cell_type": "code",
   "execution_count": 2,
   "id": "c10787ce-838f-4046-adff-7ee042124097",
   "metadata": {},
   "outputs": [],
   "source": [
    "import torch\n",
    "import numpy as np\n",
    "import pandas as pd\n",
    "import pickle\n",
    "from tqdm import tqdm\n",
    "from collections import defaultdict\n",
    "import sys"
   ]
  },
  {
   "cell_type": "code",
   "execution_count": 29,
   "id": "b90ca403-a693-4c53-bdd1-4bd8c1f78ee8",
   "metadata": {},
   "outputs": [],
   "source": [
    "df = pd.read_csv(\"data/ori/test.csv\")"
   ]
  },
  {
   "cell_type": "code",
   "execution_count": 3,
   "id": "f5569694-10f2-4446-b8d0-c4dabba7887c",
   "metadata": {},
   "outputs": [],
   "source": [
    "distdeck = torch.load(\n",
    "    \"results/distilbert-base-uncased-ver8/distilbert-base-uncased-focal-AdamW-lr1e-05-ver8-os10_4-distdeck.pth\"\n",
    ")"
   ]
  },
  {
   "cell_type": "code",
   "execution_count": 4,
   "id": "7046844b-4121-40d9-bc3e-cdc12464f9e5",
   "metadata": {},
   "outputs": [],
   "source": [
    "deck2 = torch.load(\"results/distilbert-base-uncased-ver7/distilbert-base-uncased-focal-AdamW-lr1e-05-ver7-os10_3-deck2.pth\")"
   ]
  },
  {
   "cell_type": "code",
   "execution_count": 5,
   "id": "132376a8-a8f9-455a-a696-de392a3a496e",
   "metadata": {},
   "outputs": [
    {
     "data": {
      "text/plain": [
       "(torch.Size([1095951, 4]), torch.Size([1095951, 4]))"
      ]
     },
     "execution_count": 5,
     "metadata": {},
     "output_type": "execute_result"
    }
   ],
   "source": [
    "distdeck[\"dist\"].shape, distdeck[\"level\"].shape"
   ]
  },
  {
   "cell_type": "code",
   "execution_count": 6,
   "id": "32c01f06-17f0-43d1-ac94-b3e647b76ec1",
   "metadata": {},
   "outputs": [
    {
     "data": {
      "text/plain": [
       "(dict_keys(['dist', 'level', 'ids']),\n",
       " dict_keys(['feat', 'otext', 'fclevel', 'ids']))"
      ]
     },
     "execution_count": 6,
     "metadata": {},
     "output_type": "execute_result"
    }
   ],
   "source": [
    "distdeck.keys(), deck2.keys()"
   ]
  },
  {
   "cell_type": "code",
   "execution_count": 7,
   "id": "31c5fad8-ef26-4c69-9e59-5bcf9d688a0a",
   "metadata": {},
   "outputs": [],
   "source": [
    "total_len = 1418916"
   ]
  },
  {
   "cell_type": "code",
   "execution_count": 20,
   "id": "a2163a2b-452f-45ae-8eb6-d0469b8f9745",
   "metadata": {},
   "outputs": [],
   "source": [
    "def policy(dists, tlevels, fclevel):\n",
    "    if fclevel in [6, 4, 2]:\n",
    "        return fclevel.item()\n",
    "    if (tlevels == 5).all():\n",
    "        return 5 if dists[0] < 2.0 else 7\n",
    "    if (tlevels == 3).all():\n",
    "        return 3 if dists[0] < 2.0 else 7\n",
    "    if dists[0] < 1.0:\n",
    "        # return tlevels[0].item()\n",
    "        return fclevel.item()\n",
    "    return 7"
   ]
  },
  {
   "cell_type": "code",
   "execution_count": 21,
   "id": "71e0f451-ead0-4fb0-9a8c-cb6c2c32dfb0",
   "metadata": {},
   "outputs": [
    {
     "name": "stdout",
     "output_type": "stream",
     "text": [
      "100%|██████████████████████████████████████████████████| 1095951/1095951 [01:35<00:00, 11480.98it/s]\n"
     ]
    }
   ],
   "source": [
    "out_dists = [None for _ in range(total_len)]\n",
    "out_levels = [None for _ in range(total_len)]\n",
    "out_fclevels = [None for _ in range(total_len)]\n",
    "N = distdeck[\"dist\"].size(0)\n",
    "with tqdm(total=N, ncols=100, file=sys.stdout) as t:\n",
    "    for i in range(N):\n",
    "        dists = distdeck[\"dist\"][i]\n",
    "        levels = distdeck[\"level\"][i]\n",
    "        fclevel = deck2[\"fclevel\"][i]\n",
    "        out_level = policy(dists, levels, fclevel)\n",
    "        ids = deck2[\"ids\"][i]\n",
    "        for j in ids:\n",
    "            out_levels[j - 1000000] = out_level\n",
    "            out_dists[j - 1000000] = dists\n",
    "            out_fclevels[j - 1000000] = fclevel\n",
    "        t.update()"
   ]
  },
  {
   "cell_type": "code",
   "execution_count": 22,
   "id": "7c2bf237-df83-4500-afe3-2296e66c3fbd",
   "metadata": {},
   "outputs": [],
   "source": [
    "out_levels = np.array(out_levels)"
   ]
  },
  {
   "cell_type": "code",
   "execution_count": 23,
   "id": "f6463805-4354-4cad-bb66-0c92f44de3d9",
   "metadata": {},
   "outputs": [
    {
     "name": "stdout",
     "output_type": "stream",
     "text": [
      "0 : 1002507 70.65%\n",
      "1 : 394339 27.79%\n",
      "2 : 42 0.00%\n",
      "3 : 12861 0.91%\n",
      "4 : 34 0.00%\n",
      "5 : 6117 0.43%\n",
      "6 : 31 0.00%\n",
      "7 : 2985 0.21%\n"
     ]
    }
   ],
   "source": [
    "# 각 레벨별 개수 threshold 20\n",
    "for i in range(8):\n",
    "    cnt = (out_levels == i).sum()\n",
    "    print(i, \":\", cnt, f\"{cnt / len(out_levels)*100:.2f}%\")"
   ]
  },
  {
   "cell_type": "code",
   "execution_count": 24,
   "id": "c499980a-b393-4ef8-875f-6b01a7b98af0",
   "metadata": {},
   "outputs": [
    {
     "data": {
      "text/plain": [
       "(array([     12,     104,     470, ..., 1415900, 1416792, 1417424]),)"
      ]
     },
     "execution_count": 24,
     "metadata": {},
     "output_type": "execute_result"
    }
   ],
   "source": [
    "(out_levels == 7).nonzero()"
   ]
  },
  {
   "cell_type": "code",
   "execution_count": 30,
   "id": "5c81e36c-82de-445d-8ac1-a3d9abc7b174",
   "metadata": {},
   "outputs": [
    {
     "data": {
      "text/plain": [
       "'E: probe_rpminfo: RPM: db5 error(-30973) from dbenv->failchk: BDB0087 DB_RUNRECOVERY: Fatal error, run database recovery'"
      ]
     },
     "execution_count": 30,
     "metadata": {},
     "output_type": "execute_result"
    }
   ],
   "source": [
    "df.full_log[104]"
   ]
  },
  {
   "cell_type": "code",
   "execution_count": 27,
   "id": "64eca06f-c92f-4014-a2b8-d74123848355",
   "metadata": {},
   "outputs": [
    {
     "data": {
      "text/plain": [
       "tensor([1.5610, 2.2574, 3.5356, 3.5924])"
      ]
     },
     "execution_count": 27,
     "metadata": {},
     "output_type": "execute_result"
    }
   ],
   "source": [
    "out_dists[12]"
   ]
  },
  {
   "cell_type": "code",
   "execution_count": null,
   "id": "3efdd37c-2280-445b-99b3-2dc584f9d70b",
   "metadata": {},
   "outputs": [],
   "source": []
  },
  {
   "cell_type": "code",
   "execution_count": null,
   "id": "fe110483-e981-4a18-8dcd-51af2965c6ef",
   "metadata": {},
   "outputs": [],
   "source": []
  },
  {
   "cell_type": "code",
   "execution_count": 19,
   "id": "95569408-d2fc-4e8b-ad8c-18a6cb1a64e5",
   "metadata": {},
   "outputs": [
    {
     "data": {
      "text/plain": [
       "tensor(0.1104)"
      ]
     },
     "execution_count": 19,
     "metadata": {},
     "output_type": "execute_result"
    }
   ],
   "source": [
    "distdeck[\"dist\"].mean()"
   ]
  },
  {
   "cell_type": "code",
   "execution_count": 38,
   "id": "b61606fe-cbef-4022-9ad7-52eae59a8d80",
   "metadata": {},
   "outputs": [],
   "source": [
    "out_ids = list(range(1000000, 1000000 + len(out_levels)))"
   ]
  },
  {
   "cell_type": "code",
   "execution_count": 40,
   "id": "b86ad272-aa0c-4fed-b461-8af1ed9e69aa",
   "metadata": {},
   "outputs": [],
   "source": [
    "out_df = pd.DataFrame({\"id\": out_ids, \"level\": out_levels})"
   ]
  },
  {
   "cell_type": "code",
   "execution_count": 41,
   "id": "b1d3b24f-0677-4b1a-bc4b-2ecd80cb1620",
   "metadata": {},
   "outputs": [
    {
     "data": {
      "text/html": [
       "<div>\n",
       "<style scoped>\n",
       "    .dataframe tbody tr th:only-of-type {\n",
       "        vertical-align: middle;\n",
       "    }\n",
       "\n",
       "    .dataframe tbody tr th {\n",
       "        vertical-align: top;\n",
       "    }\n",
       "\n",
       "    .dataframe thead th {\n",
       "        text-align: right;\n",
       "    }\n",
       "</style>\n",
       "<table border=\"1\" class=\"dataframe\">\n",
       "  <thead>\n",
       "    <tr style=\"text-align: right;\">\n",
       "      <th></th>\n",
       "      <th>id</th>\n",
       "      <th>level</th>\n",
       "    </tr>\n",
       "  </thead>\n",
       "  <tbody>\n",
       "    <tr>\n",
       "      <th>0</th>\n",
       "      <td>1000000</td>\n",
       "      <td>0</td>\n",
       "    </tr>\n",
       "    <tr>\n",
       "      <th>1</th>\n",
       "      <td>1000001</td>\n",
       "      <td>0</td>\n",
       "    </tr>\n",
       "    <tr>\n",
       "      <th>2</th>\n",
       "      <td>1000002</td>\n",
       "      <td>1</td>\n",
       "    </tr>\n",
       "    <tr>\n",
       "      <th>3</th>\n",
       "      <td>1000003</td>\n",
       "      <td>0</td>\n",
       "    </tr>\n",
       "    <tr>\n",
       "      <th>4</th>\n",
       "      <td>1000004</td>\n",
       "      <td>1</td>\n",
       "    </tr>\n",
       "    <tr>\n",
       "      <th>...</th>\n",
       "      <td>...</td>\n",
       "      <td>...</td>\n",
       "    </tr>\n",
       "    <tr>\n",
       "      <th>1418911</th>\n",
       "      <td>2418911</td>\n",
       "      <td>0</td>\n",
       "    </tr>\n",
       "    <tr>\n",
       "      <th>1418912</th>\n",
       "      <td>2418912</td>\n",
       "      <td>0</td>\n",
       "    </tr>\n",
       "    <tr>\n",
       "      <th>1418913</th>\n",
       "      <td>2418913</td>\n",
       "      <td>1</td>\n",
       "    </tr>\n",
       "    <tr>\n",
       "      <th>1418914</th>\n",
       "      <td>2418914</td>\n",
       "      <td>0</td>\n",
       "    </tr>\n",
       "    <tr>\n",
       "      <th>1418915</th>\n",
       "      <td>2418915</td>\n",
       "      <td>0</td>\n",
       "    </tr>\n",
       "  </tbody>\n",
       "</table>\n",
       "<p>1418916 rows × 2 columns</p>\n",
       "</div>"
      ],
      "text/plain": [
       "              id  level\n",
       "0        1000000      0\n",
       "1        1000001      0\n",
       "2        1000002      1\n",
       "3        1000003      0\n",
       "4        1000004      1\n",
       "...          ...    ...\n",
       "1418911  2418911      0\n",
       "1418912  2418912      0\n",
       "1418913  2418913      1\n",
       "1418914  2418914      0\n",
       "1418915  2418915      0\n",
       "\n",
       "[1418916 rows x 2 columns]"
      ]
     },
     "execution_count": 41,
     "metadata": {},
     "output_type": "execute_result"
    }
   ],
   "source": [
    "out_df"
   ]
  },
  {
   "cell_type": "code",
   "execution_count": 42,
   "id": "ce24eec0-691e-4773-ae5b-b36abe405e3a",
   "metadata": {},
   "outputs": [],
   "source": [
    "out_df.to_csv(\n",
    "    \"results/distilbert-base-uncased/distilbert-base-uncased-focal-AdamW-lr2e-05-dsver5-os40_2-out_ver1.csv\", index=False\n",
    ")"
   ]
  },
  {
   "cell_type": "code",
   "execution_count": null,
   "id": "e37d01d0-7582-4500-b68e-95ba8f7f0795",
   "metadata": {},
   "outputs": [],
   "source": []
  }
 ],
 "metadata": {
  "kernelspec": {
   "display_name": "torch",
   "language": "python",
   "name": "torch"
  },
  "language_info": {
   "codemirror_mode": {
    "name": "ipython",
    "version": 3
   },
   "file_extension": ".py",
   "mimetype": "text/x-python",
   "name": "python",
   "nbconvert_exporter": "python",
   "pygments_lexer": "ipython3",
   "version": "3.7.10"
  }
 },
 "nbformat": 4,
 "nbformat_minor": 5
}
