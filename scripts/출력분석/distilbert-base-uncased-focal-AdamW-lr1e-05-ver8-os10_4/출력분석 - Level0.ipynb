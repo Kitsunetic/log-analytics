{
 "cells": [
  {
   "cell_type": "code",
   "execution_count": null,
   "id": "a1086680-552d-4320-87c1-8f552bec92d0",
   "metadata": {},
   "outputs": [],
   "source": []
  },
  {
   "cell_type": "code",
   "execution_count": 141,
   "id": "5c22c81d-4a7e-404d-bd65-b5327d8c18bb",
   "metadata": {},
   "outputs": [
    {
     "name": "stdout",
     "output_type": "stream",
     "text": [
      "*  Submit : month 8 time localhost kernel: Out of memory: Kill process 13850 (autodetect) score 667 or sacrifice child\n",
      "----------------------------------------------------------------------------------------\n",
      "*   index : 38592\n",
      "*    dist : 1.5484 1.9890 2.0121 2.0188\n",
      "* fc-level: tensor(0)\n",
      "----------------------------------------------------------------------------------------\n",
      "* Level 0 : month day time localhost kernel: mce: [Hardware Error]: Machine check events logged\n",
      "----------------------------------------------------------------------------------------\n",
      "* Level 0 : month day time localhost gnome-session: gnome-session-binary pid : GnomeDesktop-WARNING: Failed to acquire idle monitor proxy: 시간 제한을 넘었습니다\n",
      "----------------------------------------------------------------------------------------\n",
      "* Level 0 : month day time localhost mcelog: Generic CACHE Level-2 Generic Error\n",
      "----------------------------------------------------------------------------------------\n",
      "* Level 0 : month day time localhost bluetoothd pid : RFCOMM server failed for Headset Voice gateway: rfcomm_bind: Address already in use (98)\n",
      "----------------------------------------------------------------------------------------\n"
     ]
    }
   ],
   "source": [
    "print(\"*  Submit :\", deck2[\"otext\"][j - 1])\n",
    "print(\"----------------------------------------------------------------------------------------\")\n",
    "print(\"*   index :\", j - 1)\n",
    "print(\"*    dist :\", \" \".join(map(lambda x: f\"{x:.4f}\", values_.cpu().tolist())))\n",
    "print(\"* fc-level:\", deck2[\"fcfeat\"][j - 1].argmax())\n",
    "print(\"----------------------------------------------------------------------------------------\")\n",
    "\n",
    "for idx in indices_:\n",
    "    print(\"* Level\", deck1[\"tlevel\"][idx].item(), \":\", deck1[\"otext\"][idx])\n",
    "    print(\"----------------------------------------------------------------------------------------\")\n",
    "\n",
    "shown = True"
   ]
  },
  {
   "cell_type": "code",
   "execution_count": 111,
   "id": "0e27eddc-8e82-4c96-b02e-d5704905e3f2",
   "metadata": {},
   "outputs": [
    {
     "name": "stdout",
     "output_type": "stream",
     "text": [
      "*  Submit : month day time localhost journal: JS ERROR: TypeError: super._onDestroy is not a function#012_onDestroy@/usr/share/gnome-shell/extensions/apps-menu@gnome-shell-extensions.gcampax.github.com/extension.js:457:9#012destroy@resource:///org/gnome/shell/ui/panelMenu.js:192:9#012wrapper@resource:///org/gnome/gjs/modules/_legacy.js:82:22#012destroy@/usr/share/gnome-shell/extensions/apps-menu@gnome-shell-extensions.gcampax.github.com/extension.js:708:9#012disable@/usr/share/gnome-shell/extensions/apps-menu@gnome-shell-extensions.gcampax.github.com/extension.js:722:5#012disableExtension@resource:///org/gnome/shell/ui/extensionSystem.js:83:9#012unloadExtension@resource:///org/gnome/shell/ui/extensionSystem.js:185:5#012reloadExtension@resource:///org/gnome/shell/ui/extensionSystem.js:200:5#012_onVersionValidationChanged@resource:///org/gnome/shell/ui/extensionSystem.js:300:9\n",
      "----------------------------------------------------------------------------------------\n",
      "*   index : 37174\n",
      "*    dist : 0.7411 0.7455 0.8191 0.8518\n",
      "* fc-level: tensor(0)\n",
      "----------------------------------------------------------------------------------------\n",
      "* Level 0 : month day time m2datateksolaris SC Alert: [ID 217180 daemon.error] SC unretrieved msg: [Chassis | major: Host is running]\n",
      "----------------------------------------------------------------------------------------\n",
      "* Level 0 : month day time m2datateksolaris SC Alert: [ID 887218 daemon.error] Chassis | major: System shutdown has been requested via power button.\n",
      "----------------------------------------------------------------------------------------\n",
      "* Level 0 : month day time m2datateksolaris SC Alert: [ID 556868 daemon.error] SC unretrieved msg: [Chassis | major: Hot removal of HDD2]\n",
      "----------------------------------------------------------------------------------------\n",
      "* Level 0 : month day time m2datateksolaris SC Alert: [ID 677427 daemon.error] SC unretrieved msg: [Chassis | major: Hot removal of HDD3]\n",
      "----------------------------------------------------------------------------------------\n"
     ]
    }
   ],
   "source": [
    "print(\"*  Submit :\", deck2[\"otext\"][j - 1])\n",
    "print(\"----------------------------------------------------------------------------------------\")\n",
    "print(\"*   index :\", j - 1)\n",
    "print(\"*    dist :\", \" \".join(map(lambda x: f\"{x:.4f}\", values_.cpu().tolist())))\n",
    "print(\"* fc-level:\", deck2[\"fcfeat\"][j - 1].argmax())\n",
    "print(\"----------------------------------------------------------------------------------------\")\n",
    "\n",
    "for idx in indices_:\n",
    "    print(\"* Level\", deck1[\"tlevel\"][idx].item(), \":\", deck1[\"otext\"][idx])\n",
    "    print(\"----------------------------------------------------------------------------------------\")\n",
    "\n",
    "shown = True"
   ]
  },
  {
   "cell_type": "code",
   "execution_count": 107,
   "id": "c09191c6-834a-4be6-91a0-da45e0a49bcc",
   "metadata": {},
   "outputs": [
    {
     "name": "stdout",
     "output_type": "stream",
     "text": [
      "*  Submit : month 4 time localhost kibana: {\"type\":\"log\",\"@timestamp\":\" date T time Z\",\"tags\":[\"status\",\"plugin:spaces@6.7.1\",\"error\"],\"pid\":840,\"state\":\"red\",\"message\":\"Status changed from red to red - all shards failed: [search_phase_execution_exception] all shards failed\",\"prevState\":\"red\",\"prevMsg\":\"[data] Elasticsearch cluster did not respond with license information.\"}\n",
      "----------------------------------------------------------------------------------------\n",
      "*   index : 36520\n",
      "*    dist : 0.2666 0.2718 0.2773 0.2783\n",
      "* fc-level: tensor(0)\n",
      "----------------------------------------------------------------------------------------\n",
      "* Level 0 : month day time localhost kibana: {\"type\":\"log\",\"@timestamp\":\" date T time Z\",\"tags\":[\"status\",\"plugin:xpack_main@6.7.1\",\"error\"],\"pid\":828,\"state\":\"red\",\"message\":\"Status changed from yellow to red - Unable to connect to Elasticsearch.\",\"prevState\":\"yellow\",\"prevMsg\":\"Waiting for Elasticsearch\"}\n",
      "----------------------------------------------------------------------------------------\n",
      "* Level 0 : month day time localhost kibana: {\"type\":\"log\",\"@timestamp\":\" date T time Z\",\"tags\":[\"status\",\"plugin:remote_clusters@6.7.1\",\"error\"],\"pid\":7668,\"state\":\"red\",\"message\":\"Status changed from yellow to red - Unable to connect to Elasticsearch.\",\"prevState\":\"yellow\",\"prevMsg\":\"Waiting for Elasticsearch\"}\n",
      "----------------------------------------------------------------------------------------\n",
      "* Level 0 : month 4 time localhost kibana: {\"type\":\"log\",\"@timestamp\":\" date T time Z\",\"tags\":[\"status\",\"plugin:security@6.7.1\",\"error\"],\"pid\":840,\"state\":\"red\",\"message\":\"Status changed from yellow to red - Unable to connect to Elasticsearch.\",\"prevState\":\"yellow\",\"prevMsg\":\"Waiting for Elasticsearch\"}\n",
      "----------------------------------------------------------------------------------------\n",
      "* Level 0 : month day time localhost kibana: {\"type\":\"log\",\"@timestamp\":\" date T time Z\",\"tags\":[\"status\",\"plugin:graph@6.7.1\",\"error\"],\"pid\":870,\"state\":\"red\",\"message\":\"Status changed from green to red - Unable to connect to Elasticsearch.\",\"prevState\":\"green\",\"prevMsg\":\"Ready\"}\n",
      "----------------------------------------------------------------------------------------\n"
     ]
    }
   ],
   "source": [
    "print(\"*  Submit :\", deck2[\"otext\"][j - 1])\n",
    "print(\"----------------------------------------------------------------------------------------\")\n",
    "print(\"*   index :\", j - 1)\n",
    "print(\"*    dist :\", \" \".join(map(lambda x: f\"{x:.4f}\", values_.cpu().tolist())))\n",
    "print(\"* fc-level:\", deck2[\"fcfeat\"][j - 1].argmax())\n",
    "print(\"----------------------------------------------------------------------------------------\")\n",
    "\n",
    "for idx in indices_:\n",
    "    print(\"* Level\", deck1[\"tlevel\"][idx].item(), \":\", deck1[\"otext\"][idx])\n",
    "    print(\"----------------------------------------------------------------------------------------\")\n",
    "\n",
    "shown = True"
   ]
  },
  {
   "cell_type": "code",
   "execution_count": 72,
   "id": "5febf423-7c97-432a-b0e1-ea2b853c7232",
   "metadata": {},
   "outputs": [
    {
     "name": "stdout",
     "output_type": "stream",
     "text": [
      "*  Submit : level : 5, log : IDP policy[idp-policy] and detector[idp-detector] loaded successfully(message).\n",
      "----------------------------------------------------------------------------------------\n",
      "*   index : 25868\n",
      "*    dist : 0.3195 0.3512 0.3797 0.3797\n",
      "* fc-level: tensor(0)\n",
      "----------------------------------------------------------------------------------------\n",
      "* Level 0 : level : 5, log : Fchip (CB control-board-slot, ID fchip-id): dropped drop-rate cells per second destined for Packet Forwarding Engine pfe on FPC fpc-slot\n",
      "----------------------------------------------------------------------------------------\n",
      "* Level 0 : level : 5, log : Error reading midplane ID EEPROM, errno error-code\n",
      "----------------------------------------------------------------------------------------\n",
      "* Level 0 : level : 3, log : send: error-message\n",
      "----------------------------------------------------------------------------------------\n",
      "* Level 0 : level : 3, log : send: error-message\n",
      "----------------------------------------------------------------------------------------\n"
     ]
    }
   ],
   "source": [
    "print(\"*  Submit :\", deck2[\"otext\"][j - 1])\n",
    "print(\"----------------------------------------------------------------------------------------\")\n",
    "print(\"*   index :\", j - 1)\n",
    "print(\"*    dist :\", \" \".join(map(lambda x: f\"{x:.4f}\", values_.cpu().tolist())))\n",
    "print(\"* fc-level:\", deck2[\"fcfeat\"][j - 1].argmax())\n",
    "print(\"----------------------------------------------------------------------------------------\")\n",
    "\n",
    "for idx in indices_:\n",
    "    print(\"* Level\", deck1[\"tlevel\"][idx].item(), \":\", deck1[\"otext\"][idx])\n",
    "    print(\"----------------------------------------------------------------------------------------\")\n",
    "\n",
    "shown = True"
   ]
  },
  {
   "cell_type": "code",
   "execution_count": 66,
   "id": "da0bb719-e7cc-4312-a4a1-1d139510ba28",
   "metadata": {},
   "outputs": [
    {
     "name": "stdout",
     "output_type": "stream",
     "text": [
      "*  Submit : level : 5, log : Chassis temperature above temperature degrees C description (> duration seconds); powering down all FRUs\n",
      "----------------------------------------------------------------------------------------\n",
      "*   index : 22765\n",
      "*    dist : 0.3088 0.3268 0.3268 0.3429\n",
      "* fc-level: tensor(0)\n",
      "----------------------------------------------------------------------------------------\n",
      "* Level 0 : level : 5, log : Get profile name for session client-session-id failed: error-code\n",
      "----------------------------------------------------------------------------------------\n",
      "* Level 0 : level : 5, log : Same site ID identifier configured on remote PE (RD route-discriminator) and local PE in VPN vpn-name (non-multihomed site name)\n",
      "----------------------------------------------------------------------------------------\n",
      "* Level 0 : level : 5, log : Same site ID identifier configured on remote PE (RD route-discriminator) and local PE in VPN vpn-name (non-multihomed site name)\n",
      "----------------------------------------------------------------------------------------\n",
      "* Level 0 : level : 5, log : vlan vlan-name mac mac-addresse (tag vlan-id), vlan limit exceeded\n",
      "----------------------------------------------------------------------------------------\n"
     ]
    }
   ],
   "source": [
    "print(\"*  Submit :\", deck2[\"otext\"][j - 1])\n",
    "print(\"----------------------------------------------------------------------------------------\")\n",
    "print(\"*   index :\", j - 1)\n",
    "print(\"*    dist :\", \" \".join(map(lambda x: f\"{x:.4f}\", values_.cpu().tolist())))\n",
    "print(\"* fc-level:\", deck2[\"fcfeat\"][j - 1].argmax())\n",
    "print(\"----------------------------------------------------------------------------------------\")\n",
    "\n",
    "for idx in indices_:\n",
    "    print(\"* Level\", deck1[\"tlevel\"][idx].item(), \":\", deck1[\"otext\"][idx])\n",
    "    print(\"----------------------------------------------------------------------------------------\")\n",
    "\n",
    "shown = True"
   ]
  },
  {
   "cell_type": "code",
   "execution_count": 56,
   "id": "b860e602-c6e0-44f8-be07-fbf8c743c82a",
   "metadata": {},
   "outputs": [
    {
     "name": "stdout",
     "output_type": "stream",
     "text": [
      "*  Submit : month day time localhost kernel: Out of memory: Kill process 5809 (java) score 398 or sacrifice child\n",
      "----------------------------------------------------------------------------------------\n",
      "*   index : 16932\n",
      "*    dist : 1.3847 1.9461 1.9548 1.9611\n",
      "* fc-level: tensor(0)\n",
      "----------------------------------------------------------------------------------------\n",
      "* Level 0 : month day time localhost kernel: mce: [Hardware Error]: Machine check events logged\n",
      "----------------------------------------------------------------------------------------\n",
      "* Level 0 : month day time localhost gnome-session: gnome-session-binary pid : GnomeDesktop-WARNING: Failed to acquire idle monitor proxy: 시간 제한을 넘었습니다\n",
      "----------------------------------------------------------------------------------------\n",
      "* Level 0 : month day time localhost journal: failed to set screen _ICC_PROFILE: 파일 “/var/lib/gdm/.local/share/icc/edid-ce8e43f2db967b9a8fd3e14110146a62.icc” 열기 실패: 허가 거부\n",
      "----------------------------------------------------------------------------------------\n",
      "* Level 0 : month day time localhost journal: Failed to load background 'file:///usr/share/backgrounds/gnome/adwaita-lock.jpg': /usr/share/backgrounds/gnome/adwaita-lock.jpg 파일을 여는 중 오류: 그런 파일이나 디렉터리가 없습니다\n",
      "----------------------------------------------------------------------------------------\n"
     ]
    }
   ],
   "source": [
    "print(\"*  Submit :\", deck2[\"otext\"][j - 1])\n",
    "print(\"----------------------------------------------------------------------------------------\")\n",
    "print(\"*   index :\", j - 1)\n",
    "print(\"*    dist :\", \" \".join(map(lambda x: f\"{x:.4f}\", values_.cpu().tolist())))\n",
    "print(\"* fc-level:\", deck2[\"fcfeat\"][j - 1].argmax())\n",
    "print(\"----------------------------------------------------------------------------------------\")\n",
    "\n",
    "for idx in indices_:\n",
    "    print(\"* Level\", deck1[\"tlevel\"][idx].item(), \":\", deck1[\"otext\"][idx])\n",
    "    print(\"----------------------------------------------------------------------------------------\")\n",
    "\n",
    "shown = True"
   ]
  },
  {
   "cell_type": "code",
   "execution_count": 54,
   "id": "95ab6562-6a64-4091-aeb7-a7bcfbf80e4b",
   "metadata": {},
   "outputs": [
    {
     "name": "stdout",
     "output_type": "stream",
     "text": [
      "*  Submit : month day time localhost kernel: Out of memory: Kill process 2219 (java) score 415 or sacrifice child\n",
      "----------------------------------------------------------------------------------------\n",
      "*   index : 15160\n",
      "*    dist : 1.4565 1.4565 1.4691 1.4738\n",
      "* fc-level: tensor(0)\n",
      "----------------------------------------------------------------------------------------\n",
      "* Level 0 : month 2 time localhost kernel: thermal thermal_zone0: failed to read out thermal zone 0\n",
      "----------------------------------------------------------------------------------------\n",
      "* Level 0 : month 2 time localhost kernel: thermal thermal_zone0: failed to read out thermal zone 0\n",
      "----------------------------------------------------------------------------------------\n",
      "* Level 0 : month 8 time localhost kernel: thermal thermal_zone0: failed to read out thermal zone 0\n",
      "----------------------------------------------------------------------------------------\n",
      "* Level 0 : month 4 time localhost kernel: thermal thermal_zone0: failed to read out thermal zone 0\n",
      "----------------------------------------------------------------------------------------\n"
     ]
    }
   ],
   "source": [
    "print(\"*  Submit :\", deck2[\"otext\"][j - 1])\n",
    "print(\"----------------------------------------------------------------------------------------\")\n",
    "print(\"*   index :\", j - 1)\n",
    "print(\"*    dist :\", \" \".join(map(lambda x: f\"{x:.4f}\", values_.cpu().tolist())))\n",
    "print(\"* fc-level:\", deck2[\"fcfeat\"][j - 1].argmax())\n",
    "print(\"----------------------------------------------------------------------------------------\")\n",
    "\n",
    "for idx in indices_:\n",
    "    print(\"* Level\", deck1[\"tlevel\"][idx].item(), \":\", deck1[\"otext\"][idx])\n",
    "    print(\"----------------------------------------------------------------------------------------\")\n",
    "\n",
    "shown = True"
   ]
  },
  {
   "cell_type": "code",
   "execution_count": 46,
   "id": "0a3999eb-2d53-460b-b536-510583a399aa",
   "metadata": {},
   "outputs": [
    {
     "name": "stdout",
     "output_type": "stream",
     "text": [
      "*  Submit : month day time localhost node: { Error: ENOENT: no such file or directory, open '/var/ossec/logs/api.log'\n",
      "----------------------------------------------------------------------------------------\n",
      "*   index : 7890\n",
      "*    dist : 0.5887 0.5895 0.5896 0.6074\n",
      "* fc-level: tensor(0)\n",
      "----------------------------------------------------------------------------------------\n",
      "* Level 0 : month day time localhost kernel: ACPI Error: No object attached to node ffff947d7ce77210 (20130517/exresnte-127)\n",
      "----------------------------------------------------------------------------------------\n",
      "* Level 0 : month day time localhost kernel: ACPI Error: No object attached to node ffff947d7ce77360 (20130517/exresnte-127)\n",
      "----------------------------------------------------------------------------------------\n",
      "* Level 0 : month day time localhost kernel: ACPI Error: No object attached to node ffff947d7ce79ae0 (20130517/exresnte-127)\n",
      "----------------------------------------------------------------------------------------\n",
      "* Level 0 : month day time localhost kernel: ACPI Error: No object attached to node ffff947d7ce79e10 (20130517/exresnte-127)\n",
      "----------------------------------------------------------------------------------------\n"
     ]
    }
   ],
   "source": [
    "print(\"*  Submit :\", deck2[\"otext\"][j - 1])\n",
    "print(\"----------------------------------------------------------------------------------------\")\n",
    "print(\"*   index :\", j - 1)\n",
    "print(\"*    dist :\", \" \".join(map(lambda x: f\"{x:.4f}\", values_.cpu().tolist())))\n",
    "print(\"* fc-level:\", deck2[\"fcfeat\"][j - 1].argmax())\n",
    "print(\"----------------------------------------------------------------------------------------\")\n",
    "\n",
    "for idx in indices_:\n",
    "    print(\"* Level\", deck1[\"tlevel\"][idx].item(), \":\", deck1[\"otext\"][idx])\n",
    "    print(\"----------------------------------------------------------------------------------------\")\n",
    "\n",
    "shown = True"
   ]
  }
 ],
 "metadata": {
  "kernelspec": {
   "display_name": "torch",
   "language": "python",
   "name": "torch"
  },
  "language_info": {
   "codemirror_mode": {
    "name": "ipython",
    "version": 3
   },
   "file_extension": ".py",
   "mimetype": "text/x-python",
   "name": "python",
   "nbconvert_exporter": "python",
   "pygments_lexer": "ipython3",
   "version": "3.7.10"
  }
 },
 "nbformat": 4,
 "nbformat_minor": 5
}
