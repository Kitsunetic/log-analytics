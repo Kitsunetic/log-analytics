{
 "cells": [
  {
   "cell_type": "markdown",
   "id": "223c1000-0cf2-4a9b-81f5-9708f5003093",
   "metadata": {},
   "source": [
    "CPU/GPU 문제가 아니라, 버전에 따라서 연산 방법 자체가 달라진 듯 하다.\n",
    "\n",
    "1.7.1 cuda 11.0 버전에서 테스트 해야함(설치된 cuda toolkit은 11.2)"
   ]
  },
  {
   "cell_type": "code",
   "execution_count": 1,
   "id": "5e4d6f8f-ec44-4719-8fbd-7520699ebd5c",
   "metadata": {},
   "outputs": [
    {
     "name": "stdout",
     "output_type": "stream",
     "text": [
      "/home/shim/cev/dl/log-analytics\n"
     ]
    }
   ],
   "source": [
    "%load_ext lab_black\n",
    "%cd .."
   ]
  },
  {
   "cell_type": "code",
   "execution_count": 53,
   "id": "e93edade-002c-4a33-82f2-330e032742bf",
   "metadata": {},
   "outputs": [],
   "source": [
    "import argparse\n",
    "import math\n",
    "import multiprocessing\n",
    "import sys\n",
    "from datetime import datetime\n",
    "from pathlib import Path\n",
    "from pprint import pformat\n",
    "\n",
    "import numpy as np\n",
    "import pandas as pd\n",
    "import torch\n",
    "import torch.nn as nn\n",
    "import torch.nn.functional as F\n",
    "import torch_optimizer\n",
    "import yaml\n",
    "from easydict import EasyDict\n",
    "from pytorch_transformers import (\n",
    "    BertForSequenceClassification,\n",
    "    BertTokenizer,\n",
    "    DistilBertForSequenceClassification,\n",
    "    DistilBertTokenizer,\n",
    "    RobertaForSequenceClassification,\n",
    "    RobertaTokenizer,\n",
    ")\n",
    "from sklearn.model_selection import StratifiedKFold\n",
    "from torch.optim import Adam, AdamW\n",
    "from torch.optim.lr_scheduler import ReduceLROnPlateau\n",
    "from torch.utils.data import DataLoader, Dataset\n",
    "from tqdm import tqdm\n",
    "from transformers import (\n",
    "    AlbertForSequenceClassification,\n",
    "    AlbertTokenizer,\n",
    "    DebertaForSequenceClassification,\n",
    "    DebertaTokenizer,\n",
    "    SqueezeBertTokenizer,\n",
    "    SqueezeBertForSequenceClassification,\n",
    "    XLNetTokenizer,\n",
    "    XLNetForSequenceClassification,\n",
    ")\n",
    "\n",
    "from datasets import load_test_data, load_train_data, MyDataset\n",
    "from utils import SAM, AverageMeter, CustomLogger, FocalLoss, seed_everything\n",
    "\n",
    "from main import MyTrainer\n",
    "from collections import defaultdict\n",
    "import matplotlib.pyplot as plt"
   ]
  },
  {
   "cell_type": "code",
   "execution_count": 3,
   "id": "6e2cc6d4-bfea-42cc-83e3-390ad7c36680",
   "metadata": {},
   "outputs": [],
   "source": [
    "with open(\"config/distilbert-base-uncased.yaml\", \"r\") as f:\n",
    "    C = EasyDict(yaml.load(f, yaml.FullLoader))\n",
    "    C.result_dir = Path(C.result_dir)\n",
    "    C.dataset.dir = Path(C.dataset.dir)\n",
    "    seed_everything(C.seed, deterministic=False)"
   ]
  },
  {
   "cell_type": "code",
   "execution_count": 4,
   "id": "1bff2e3a-d289-416f-ab82-d0148145961b",
   "metadata": {},
   "outputs": [
    {
     "data": {
      "text/plain": [
       "{'model': {'name': 'distilbert-base-uncased'},\n",
       " 'comment': None,\n",
       " 'result_dir': PosixPath('results/distilbert-base-uncased'),\n",
       " 'debug': False,\n",
       " 'seed': 20210425,\n",
       " 'train': {'SAM': False,\n",
       "  'folds': [4, 5],\n",
       "  'checkpoints': ['results/distilbert-base-uncased/distilbert-base-uncased-focal-AdamW-lr1e-05_4.pth',\n",
       "   None],\n",
       "  'loss': {'name': 'focal', 'gamma': 2},\n",
       "  'optimizer': {'name': 'AdamW'},\n",
       "  'finetune': {'do': True, 'step1_epochs': 2, 'step2_epochs': 4},\n",
       "  'max_epochs': 10,\n",
       "  'lr': 1e-05,\n",
       "  'scheduler': {'name': 'ReduceLROnPlateau',\n",
       "   'params': {'factor': 0.5, 'patience': 3, 'verbose': True}}},\n",
       " 'dataset': {'dir': PosixPath('data/ori'), 'batch_size': 30, 'num_workers': 8}}"
      ]
     },
     "execution_count": 4,
     "metadata": {},
     "output_type": "execute_result"
    }
   ],
   "source": [
    "C"
   ]
  },
  {
   "cell_type": "code",
   "execution_count": 5,
   "id": "21e41c95-1792-4a0a-be85-6f5b2f7b090c",
   "metadata": {},
   "outputs": [
    {
     "name": "stdout",
     "output_type": "stream",
     "text": [
      "Load pretrained results/distilbert-base-uncased/distilbert-base-uncased-focal-AdamW-lr1e-05_1.pth\n"
     ]
    }
   ],
   "source": [
    "trainer = MyTrainer(C, 1, \"results/distilbert-base-uncased/distilbert-base-uncased-focal-AdamW-lr1e-05_1.pth\")"
   ]
  },
  {
   "cell_type": "code",
   "execution_count": 6,
   "id": "b09343fc-efcc-43b3-8b26-7e1b68a05022",
   "metadata": {},
   "outputs": [
    {
     "data": {
      "text/plain": [
       "<torch.autograd.grad_mode.set_grad_enabled at 0x7f9fda333150>"
      ]
     },
     "execution_count": 6,
     "metadata": {},
     "output_type": "execute_result"
    }
   ],
   "source": [
    "model = trainer.model\n",
    "model.eval()\n",
    "torch.set_grad_enabled(False)"
   ]
  },
  {
   "cell_type": "code",
   "execution_count": 7,
   "id": "f9fb9b33-ab26-453c-ad1d-b3ab6bbdb08e",
   "metadata": {},
   "outputs": [],
   "source": [
    "ds = trainer.dl_test.dataset\n",
    "ds2 = trainer.dl_test2.dataset\n",
    "tds = trainer.tdl.dataset\n",
    "vds = trainer.vdl.dataset"
   ]
  },
  {
   "cell_type": "code",
   "execution_count": 8,
   "id": "bb2b8f8e-c78d-4552-af9b-e8cbd82e5b4e",
   "metadata": {},
   "outputs": [
    {
     "name": "stdout",
     "output_type": "stream",
     "text": [
      "10474 tensor(0)\n",
      "logstash: [2020-12-28T10:53:35,263][ERROR][logstash.outputs.elasticsearch] Attempted to send a bulk request to elasticsearch, but no there are no living connections in the connection pool. Perhaps Elasticsearch is unreachable or down? {:error_message=>\"No Available connections\", :class=>\"LogStash::Outputs::ElasticSearch::HttpClient::Pool::NoConnectionAvailableError\", :will_retry_in_seconds=>64}\n",
      "tensor([9.9926e-01, 1.5985e-04, 1.6344e-06, 4.6215e-04, 1.2925e-06, 1.1334e-04,\n",
      "        1.5901e-06]) tensor(0)\n"
     ]
    }
   ],
   "source": [
    "# id, text, otext = ds2[2]\n",
    "# print(id)\n",
    "id, text, level, otext = vds[2111]\n",
    "print(id, level)\n",
    "print(otext)\n",
    "\n",
    "r = model(text[None].cuda())[0].softmax(1)[0].cpu()\n",
    "print(r, r.argmax())"
   ]
  },
  {
   "cell_type": "markdown",
   "id": "602a39e1-516c-43e9-a458-22cd0d453224",
   "metadata": {},
   "source": [
    "### 각각의 level마다 confidence를 측정"
   ]
  },
  {
   "cell_type": "code",
   "execution_count": 9,
   "id": "c44a906a-b3b8-4442-ba90-f3ae4af7f585",
   "metadata": {},
   "outputs": [
    {
     "name": "stdout",
     "output_type": "stream",
     "text": [
      "100%|████████████████████████████████████████████████████████| 94595/94595 [08:28<00:00, 186.10it/s]\n"
     ]
    }
   ],
   "source": [
    "leveldic = defaultdict(list)\n",
    "confidencedic = defaultdict(list)\n",
    "allconfdic = defaultdict(list)\n",
    "wrongdic = defaultdict(list)\n",
    "with tqdm(total=len(vds), ncols=100, file=sys.stdout) as t:\n",
    "    for i, (id, text, tlevel, otext) in enumerate(vds):\n",
    "        pred = model(text[None].cuda())[0].softmax(1)[0].cpu()\n",
    "        confidence, plevel = pred.max(0)\n",
    "        if plevel == tlevel:\n",
    "            confidencedic[tlevel.item()].append(confidence.item())\n",
    "        else:\n",
    "            # wrong.append((i, tlevel.item()))\n",
    "            wrongdic[tlevel.item()].append(\n",
    "                {\n",
    "                    \"id\": i,\n",
    "                    \"otext\": otext,\n",
    "                    \"pconf\": confidence.item(),\n",
    "                    \"plevel\": plevel.item(),\n",
    "                    \"tconf\": pred[tlevel.item()].item(),\n",
    "                    \"tlevel\": tlevel.item(),\n",
    "                }\n",
    "            )\n",
    "\n",
    "        allconfdic[tlevel.item()].append(i)\n",
    "        leveldic[tlevel.item()].append(i)\n",
    "\n",
    "        t.update()"
   ]
  },
  {
   "cell_type": "code",
   "execution_count": 10,
   "id": "e4315514-bfcc-452a-a519-effa955f3cbc",
   "metadata": {},
   "outputs": [
    {
     "data": {
      "text/plain": [
       "[0, 1, 2, 3, 4, 5, 6]"
      ]
     },
     "execution_count": 10,
     "metadata": {},
     "output_type": "execute_result"
    }
   ],
   "source": [
    "sorted(confidencedic.keys())"
   ]
  },
  {
   "cell_type": "code",
   "execution_count": 13,
   "id": "5934ec4c-5e9e-4719-8b2a-78e2270a35a3",
   "metadata": {},
   "outputs": [
    {
     "data": {
      "image/png": "[encoded data removed]",
      "text/plain": [
       "<Figure size 2304x576 with 7 Axes>"
      ]
     },
     "metadata": {
      "needs_background": "light"
     },
     "output_type": "display_data"
    }
   ],
   "source": [
    "plt.figure(figsize=(32, 8))\n",
    "for level in range(7):\n",
    "    plt.subplot(2, 4, level + 1)\n",
    "    plt.plot(confidencedic[level], \".\")\n",
    "    plt.title(\n",
    "        f\"level{level}, len{len(confidencedic[level])}, min{min(confidencedic[level]):.2f}, mean{sum(confidencedic[level]) / len(confidencedic[level]):.2f}\"\n",
    "    )\n",
    "plt.tight_layout()\n",
    "plt.show()"
   ]
  },
  {
   "cell_type": "code",
   "execution_count": 15,
   "id": "1c5784ec-cf28-4f5b-ba6e-ee7cfeb45316",
   "metadata": {},
   "outputs": [],
   "source": [
    "np.savez_compressed(\n",
    "    \"results/distilbert-base-uncased/distilbert-base-uncased-focal-AdamW-lr1e-05_1-valid.npz\",\n",
    "    leveldic=leveldic,\n",
    "    confidencedic=confidencedic,\n",
    "    allconfdic=allconfdic,\n",
    "    wrongdic=wrongdic,\n",
    ")"
   ]
  },
  {
   "cell_type": "markdown",
   "id": "df50d737-5c29-4ed3-a40d-6f04d5e26d61",
   "metadata": {},
   "source": [
    "## Confidence Threshold 분석\n",
    "\n",
    "1. Level1이라고 예측했는데 confidence가 0.9 미만이면 level0으로 취급한다.\n",
    "2. Level 2, 4, 6은 level 7이되지 않는다?\n",
    "3. level2는 2에 0.5이상일 때\n",
    "4. level4는 4에 0.4이상, 2에 0.1~0.2, 6에 0.1~0.2 인 경우일 때\n",
    "5. level6은 6에 0.25이상, 2에 0.2 이상, 4에 0.15 이상\n",
    "6. level 3 또는 5가 가장 큰데 confidence가 0.9 미만이면 level 7로 한다.\n",
    "4. ??: 그 외 나머지는 level 7로 한다."
   ]
  },
  {
   "cell_type": "code",
   "execution_count": 75,
   "id": "80ef75bc-16ab-46aa-8c9d-576794a04e7d",
   "metadata": {},
   "outputs": [
    {
     "data": {
      "text/plain": [
       "[]"
      ]
     },
     "execution_count": 75,
     "metadata": {},
     "output_type": "execute_result"
    }
   ],
   "source": [
    "wrongdic[2]"
   ]
  },
  {
   "cell_type": "markdown",
   "id": "a473bcca-86b1-4bc5-b7d3-aa75ffde59d1",
   "metadata": {},
   "source": [
    "### Level 2"
   ]
  },
  {
   "cell_type": "code",
   "execution_count": 44,
   "id": "a83692f4-3f6d-4c75-a950-db1915a61c20",
   "metadata": {},
   "outputs": [
    {
     "data": {
      "text/plain": [
       "[68298, 75845]"
      ]
     },
     "execution_count": 44,
     "metadata": {},
     "output_type": "execute_result"
    }
   ],
   "source": [
    "leveldic[2]"
   ]
  },
  {
   "cell_type": "code",
   "execution_count": 45,
   "id": "518a7749-f91f-4b77-a0cf-0c749e685c3b",
   "metadata": {},
   "outputs": [],
   "source": [
    "id, text, tlevel, otext = vds[68298]"
   ]
  },
  {
   "cell_type": "code",
   "execution_count": 46,
   "id": "7c0d58ca-9574-4450-a96b-409ac8a5ad64",
   "metadata": {},
   "outputs": [
    {
     "data": {
      "text/plain": [
       "'The average number of logs between 14:00 and 15:00 is 9734. We reached 26958.'"
      ]
     },
     "execution_count": 46,
     "metadata": {},
     "output_type": "execute_result"
    }
   ],
   "source": [
    "otext"
   ]
  },
  {
   "cell_type": "code",
   "execution_count": 47,
   "id": "cd38fdb9-fb74-4668-880c-d98f35aca731",
   "metadata": {},
   "outputs": [
    {
     "data": {
      "text/plain": [
       "tensor([0.0791, 0.0416, 0.6509, 0.0194, 0.0603, 0.0536, 0.0952])"
      ]
     },
     "execution_count": 47,
     "metadata": {},
     "output_type": "execute_result"
    }
   ],
   "source": [
    "model(text[None].cuda())[0].cpu().softmax(1)[0]"
   ]
  },
  {
   "cell_type": "code",
   "execution_count": 48,
   "id": "c55c3372-5770-4540-a87d-d5b6f84b2dea",
   "metadata": {},
   "outputs": [],
   "source": [
    "id, text, tlevel, otext = vds[75845]"
   ]
  },
  {
   "cell_type": "code",
   "execution_count": 49,
   "id": "69938104-b005-4f16-b994-dc9a08f84134",
   "metadata": {},
   "outputs": [
    {
     "data": {
      "text/plain": [
       "'The average number of logs between 10:00 and 11:00 is 12612. We reached 31532.'"
      ]
     },
     "execution_count": 49,
     "metadata": {},
     "output_type": "execute_result"
    }
   ],
   "source": [
    "otext"
   ]
  },
  {
   "cell_type": "code",
   "execution_count": 50,
   "id": "15a4112f-e719-4a65-99ea-a41bba8be594",
   "metadata": {},
   "outputs": [
    {
     "data": {
      "text/plain": [
       "tensor([0.0789, 0.0417, 0.6511, 0.0195, 0.0600, 0.0540, 0.0949])"
      ]
     },
     "execution_count": 50,
     "metadata": {},
     "output_type": "execute_result"
    }
   ],
   "source": [
    "model(text[None].cuda())[0].cpu().softmax(1)[0]"
   ]
  },
  {
   "cell_type": "markdown",
   "id": "61397493-33ec-44eb-aae8-196c99dc59b1",
   "metadata": {},
   "source": [
    "---\n",
    "\n",
    "### Level 4"
   ]
  },
  {
   "cell_type": "code",
   "execution_count": 21,
   "id": "fcfe09f9-8fa4-4803-8c3b-fc255e5b6002",
   "metadata": {},
   "outputs": [
    {
     "data": {
      "text/plain": [
       "[46002, 73775]"
      ]
     },
     "execution_count": 21,
     "metadata": {},
     "output_type": "execute_result"
    }
   ],
   "source": [
    "leveldic[4]"
   ]
  },
  {
   "cell_type": "code",
   "execution_count": 38,
   "id": "ec0c1bd1-4f77-4327-925b-445d8055bcab",
   "metadata": {},
   "outputs": [],
   "source": [
    "id, text, tlevel, otext = vds[46002]"
   ]
  },
  {
   "cell_type": "code",
   "execution_count": 39,
   "id": "e6f8ca7c-85c6-46b6-b62c-88f4ddc91676",
   "metadata": {},
   "outputs": [
    {
     "data": {
      "text/plain": [
       "'sv260 sshd: Did not receive identification string from 192.168.0.195'"
      ]
     },
     "execution_count": 39,
     "metadata": {},
     "output_type": "execute_result"
    }
   ],
   "source": [
    "otext"
   ]
  },
  {
   "cell_type": "code",
   "execution_count": 40,
   "id": "e1e0767c-e8e5-4908-aaa5-8ec30310ecc2",
   "metadata": {},
   "outputs": [
    {
     "data": {
      "text/plain": [
       "tensor([0.0573, 0.0766, 0.1473, 0.0569, 0.4328, 0.0497, 0.1795])"
      ]
     },
     "execution_count": 40,
     "metadata": {},
     "output_type": "execute_result"
    }
   ],
   "source": [
    "model(text[None].cuda())[0].cpu().softmax(1)[0]"
   ]
  },
  {
   "cell_type": "code",
   "execution_count": 41,
   "id": "612f39db-db03-40f9-82eb-8c7146e1db9b",
   "metadata": {},
   "outputs": [],
   "source": [
    "id, text, tlevel, otext = vds[73775]"
   ]
  },
  {
   "cell_type": "code",
   "execution_count": 42,
   "id": "d2f1ea87-2755-460e-bcad-3d06d63ab241",
   "metadata": {},
   "outputs": [
    {
     "data": {
      "text/plain": [
       "'sv260 sshd: Did not receive identification string from 192.168.0.181'"
      ]
     },
     "execution_count": 42,
     "metadata": {},
     "output_type": "execute_result"
    }
   ],
   "source": [
    "otext"
   ]
  },
  {
   "cell_type": "code",
   "execution_count": 43,
   "id": "43ac0431-efbe-4a01-835b-79f84eea2095",
   "metadata": {},
   "outputs": [
    {
     "data": {
      "text/plain": [
       "tensor([0.0573, 0.0766, 0.1472, 0.0571, 0.4326, 0.0497, 0.1794])"
      ]
     },
     "execution_count": 43,
     "metadata": {},
     "output_type": "execute_result"
    }
   ],
   "source": [
    "model(text[None].cuda())[0].cpu().softmax(1)[0]"
   ]
  },
  {
   "cell_type": "markdown",
   "id": "86041ac5-b4f9-415a-b4e2-4fed8aec1eaf",
   "metadata": {},
   "source": [
    "---\n",
    "\n",
    "### Level 6"
   ]
  },
  {
   "cell_type": "code",
   "execution_count": 27,
   "id": "26fe17a3-f142-4c85-8977-db36deab1a65",
   "metadata": {},
   "outputs": [
    {
     "data": {
      "text/plain": [
       "[34203, 85801]"
      ]
     },
     "execution_count": 27,
     "metadata": {},
     "output_type": "execute_result"
    }
   ],
   "source": [
    "leveldic[6]"
   ]
  },
  {
   "cell_type": "code",
   "execution_count": 35,
   "id": "6ef41900-2cd6-4900-9590-5512b4f0bcc2",
   "metadata": {},
   "outputs": [],
   "source": [
    "id, text, tlevel, otext = vds[34203] # 6"
   ]
  },
  {
   "cell_type": "code",
   "execution_count": 36,
   "id": "df97312a-26a1-4936-a24c-5da58718a10f",
   "metadata": {},
   "outputs": [
    {
     "data": {
      "text/plain": [
       "'kernel: device virbr0-nic entered promiscuous mode'"
      ]
     },
     "execution_count": 36,
     "metadata": {},
     "output_type": "execute_result"
    }
   ],
   "source": [
    "otext"
   ]
  },
  {
   "cell_type": "code",
   "execution_count": 37,
   "id": "01029704-e7c7-4c26-a1e6-83ce6c17d99c",
   "metadata": {},
   "outputs": [
    {
     "data": {
      "text/plain": [
       "tensor([0.0822, 0.1151, 0.2314, 0.0462, 0.1819, 0.0431, 0.3002])"
      ]
     },
     "execution_count": 37,
     "metadata": {},
     "output_type": "execute_result"
    }
   ],
   "source": [
    "model(text[None].cuda())[0].cpu().softmax(1)[0]"
   ]
  },
  {
   "cell_type": "code",
   "execution_count": 30,
   "id": "9de136d6-c7f1-4673-8890-0543d8a179d5",
   "metadata": {},
   "outputs": [],
   "source": [
    "id, text, tlevel, otext = vds[85801] # 6"
   ]
  },
  {
   "cell_type": "code",
   "execution_count": 31,
   "id": "1c4974dd-05d8-4839-ace9-1f13c841dbeb",
   "metadata": {},
   "outputs": [
    {
     "data": {
      "text/plain": [
       "'kernel: device enp2s0 entered promiscuous mode'"
      ]
     },
     "execution_count": 31,
     "metadata": {},
     "output_type": "execute_result"
    }
   ],
   "source": [
    "otext"
   ]
  },
  {
   "cell_type": "code",
   "execution_count": 34,
   "id": "f608ddbf-a589-4d3e-a46a-fed09a3f3ebd",
   "metadata": {},
   "outputs": [
    {
     "data": {
      "text/plain": [
       "tensor([0.0775, 0.0860, 0.2301, 0.0488, 0.2026, 0.0412, 0.3138])"
      ]
     },
     "execution_count": 34,
     "metadata": {},
     "output_type": "execute_result"
    }
   ],
   "source": [
    "model(text[None].cuda())[0].cpu().softmax(1)[0]"
   ]
  },
  {
   "cell_type": "markdown",
   "id": "96427127-7753-4577-8f53-eed348367ec9",
   "metadata": {},
   "source": [
    "## Level 7 Validation"
   ]
  },
  {
   "cell_type": "code",
   "execution_count": 51,
   "id": "c9f442f3-2f98-4249-bb5f-17f8cd097ccb",
   "metadata": {},
   "outputs": [],
   "source": [
    "df = pd.read_csv(\"data/ori/validation_sample.csv\")"
   ]
  },
  {
   "cell_type": "code",
   "execution_count": 52,
   "id": "9a88b26a-3b23-4dfa-af88-cdda26d97721",
   "metadata": {},
   "outputs": [
    {
     "data": {
      "text/html": [
       "<div>\n",
       "<style scoped>\n",
       "    .dataframe tbody tr th:only-of-type {\n",
       "        vertical-align: middle;\n",
       "    }\n",
       "\n",
       "    .dataframe tbody tr th {\n",
       "        vertical-align: top;\n",
       "    }\n",
       "\n",
       "    .dataframe thead th {\n",
       "        text-align: right;\n",
       "    }\n",
       "</style>\n",
       "<table border=\"1\" class=\"dataframe\">\n",
       "  <thead>\n",
       "    <tr style=\"text-align: right;\">\n",
       "      <th></th>\n",
       "      <th>full_log</th>\n",
       "    </tr>\n",
       "  </thead>\n",
       "  <tbody>\n",
       "    <tr>\n",
       "      <th>0</th>\n",
       "      <td>type=ANOM_PROMISCUOUS msg=audit(1600402733.466...</td>\n",
       "    </tr>\n",
       "    <tr>\n",
       "      <th>1</th>\n",
       "      <td>oscap: msg: \"xccdf-result\", scan-id: \"00016007...</td>\n",
       "    </tr>\n",
       "    <tr>\n",
       "      <th>2</th>\n",
       "      <td>Sep 22 10:56:19 localhost kernel: Out of memor...</td>\n",
       "    </tr>\n",
       "  </tbody>\n",
       "</table>\n",
       "</div>"
      ],
      "text/plain": [
       "                                            full_log\n",
       "0  type=ANOM_PROMISCUOUS msg=audit(1600402733.466...\n",
       "1  oscap: msg: \"xccdf-result\", scan-id: \"00016007...\n",
       "2  Sep 22 10:56:19 localhost kernel: Out of memor..."
      ]
     },
     "execution_count": 52,
     "metadata": {},
     "output_type": "execute_result"
    }
   ],
   "source": [
    "df"
   ]
  },
  {
   "cell_type": "code",
   "execution_count": 57,
   "id": "cd78a167-eb6d-43a0-8720-c55ac70eadef",
   "metadata": {},
   "outputs": [],
   "source": [
    "ds_test2 = MyDataset(trainer.tokenizer, np.arange(3), df.full_log)"
   ]
  },
  {
   "cell_type": "code",
   "execution_count": 71,
   "id": "a9e0a51b-670e-4c09-84c6-fc9db2883583",
   "metadata": {},
   "outputs": [
    {
     "name": "stdout",
     "output_type": "stream",
     "text": [
      "type=ANOM_PROMISCUOUS msg=audit(1600402733.466:4503): dev=enp2s0 prom=256 old_prom=0 auid=4294967295 uid=0 gid=0 ses=4294967295 type=SYSCALL msg=audit(1600402733.466:4503): arch=c000003e syscall=54 success=yes exit=0 a0=c a1=107 a2=1 a3=7f856aed1140 items=0 ppid=1 pid=12152 auid=4294967295 uid=0 gid=0 euid=0 suid=0 fsuid=0 egid=0 sgid=0 fsgid=0 tty=(none) ses=4294967295 comm=\"W#01-enp2s0\" exe=\"/usr/sbin/suricata\" subj=system_u:system_r:unconfined_service_t:s0 key=(null) type=PROCTITLE msg=audit(1600402733.4\n",
      "\n",
      "tensor([5.1793e-04, 9.9919e-01, 1.9581e-05, 7.2380e-05, 6.2770e-06, 1.8629e-04,\n",
      "        6.9159e-06])\n"
     ]
    }
   ],
   "source": [
    "id, text, otext = ds_test2[0]\n",
    "print(otext)\n",
    "print()\n",
    "print(model(text[None].cuda())[0].cpu().softmax(1)[0])"
   ]
  },
  {
   "cell_type": "code",
   "execution_count": 73,
   "id": "23ded719-4431-4970-b0e9-386cc75f9244",
   "metadata": {},
   "outputs": [
    {
     "name": "stdout",
     "output_type": "stream",
     "text": [
      "oscap: msg: \"xccdf-result\", scan-id: \"0001600739632\", content: \"ssg-centos-7-ds.xml\", title: \"Prevent Log In to Accounts With Empty Password\", id: \"xccdf_org.ssgproject.content_rule_no_empty_passwords\", result: \"fail\", severity: \"high\", description: \"If an account is configured for password authentication but does not have an assigned password, it may be possible to log into the account without authentication. Remove any instances of the nullok option in /etc/pam.d/system-auth to prevent logins with empty p\n",
      "\n",
      "tensor([1.1233e-02, 6.1638e-03, 7.1812e-05, 9.8047e-01, 9.9402e-05, 1.8695e-03,\n",
      "        9.3332e-05])\n"
     ]
    }
   ],
   "source": [
    "id, text, otext = ds_test2[1]\n",
    "print(otext)\n",
    "print()\n",
    "print(model(text[None].cuda())[0].cpu().softmax(1)[0])"
   ]
  },
  {
   "cell_type": "code",
   "execution_count": 69,
   "id": "240dccd4-85e9-4319-b07a-7e09345ccbfc",
   "metadata": {},
   "outputs": [
    {
     "name": "stdout",
     "output_type": "stream",
     "text": [
      "kernel: Out of memory: Kill process 1736 (probe_rpmverify) score 243 or sacrifice child\n",
      "\n",
      "tensor([9.6792e-01, 9.7140e-03, 7.9589e-04, 1.4775e-02, 6.3854e-04, 5.3858e-03,\n",
      "        7.7351e-04])\n"
     ]
    }
   ],
   "source": [
    "id, text, otext = ds_test2[2]\n",
    "print(otext)\n",
    "print()\n",
    "print(model(text[None].cuda())[0].cpu().softmax(1)[0])"
   ]
  },
  {
   "cell_type": "markdown",
   "id": "4d433bce-457a-439a-b58f-5f530b41efab",
   "metadata": {},
   "source": [
    "## softmax 없이"
   ]
  },
  {
   "cell_type": "code",
   "execution_count": 79,
   "id": "ff01dc4a-e971-45fb-8ea0-ef157899faf1",
   "metadata": {},
   "outputs": [
    {
     "name": "stdout",
     "output_type": "stream",
     "text": [
      "100%|████████████████████████████████████████████████████████| 94595/94595 [08:31<00:00, 185.10it/s]\n"
     ]
    }
   ],
   "source": [
    "tlevell = []\n",
    "plevell = []\n",
    "with tqdm(total=len(vds), ncols=100, file=sys.stdout) as t:\n",
    "    for ids, texts, tlevels, otexts in trainer.vdl:\n",
    "        plevels = model(texts.cuda())[0].cpu()\n",
    "        plevell.append(plevels)\n",
    "        tlevell.append(tlevels)\n",
    "        t.update(len(ids))"
   ]
  },
  {
   "cell_type": "code",
   "execution_count": 88,
   "id": "dde2f240-314f-406f-a2b7-529ddc6718c9",
   "metadata": {},
   "outputs": [
    {
     "data": {
      "text/plain": [
       "(torch.Size([94595]), torch.Size([94595, 7]))"
      ]
     },
     "execution_count": 88,
     "metadata": {},
     "output_type": "execute_result"
    }
   ],
   "source": [
    "tlevels = torch.cat(tlevell)\n",
    "plevels = torch.cat(plevell)\n",
    "tlevels.shape, plevels.shape"
   ]
  },
  {
   "cell_type": "code",
   "execution_count": 102,
   "id": "df21c3f3-2dc7-4a03-a17b-5af99dca7af3",
   "metadata": {},
   "outputs": [
    {
     "data": {
      "text/plain": [
       "[<matplotlib.lines.Line2D at 0x7f9fa96b69d0>]"
      ]
     },
     "execution_count": 102,
     "metadata": {},
     "output_type": "execute_result"
    },
    {
     "data": {
      "image/png": "[encoded data removed]",
      "text/plain": [
       "<Figure size 432x288 with 1 Axes>"
      ]
     },
     "metadata": {
      "needs_background": "light"
     },
     "output_type": "display_data"
    }
   ],
   "source": [
    "plt.plot(plevels[tlevels == 0][:, 0])"
   ]
  },
  {
   "cell_type": "code",
   "execution_count": 103,
   "id": "59e911c2-d7e6-4e72-bce0-d6007e2a181c",
   "metadata": {},
   "outputs": [
    {
     "data": {
      "text/plain": [
       "[<matplotlib.lines.Line2D at 0x7f9fa90e0cd0>]"
      ]
     },
     "execution_count": 103,
     "metadata": {},
     "output_type": "execute_result"
    },
    {
     "data": {
      "image/png": "[encoded data removed]",
      "text/plain": [
       "<Figure size 432x288 with 1 Axes>"
      ]
     },
     "metadata": {
      "needs_background": "light"
     },
     "output_type": "display_data"
    }
   ],
   "source": [
    "plt.plot(plevels[tlevels == 1][:, 1])"
   ]
  },
  {
   "cell_type": "code",
   "execution_count": 104,
   "id": "bb8cde85-6b26-434a-97e0-73f131b82e6a",
   "metadata": {},
   "outputs": [
    {
     "data": {
      "text/plain": [
       "[<matplotlib.lines.Line2D at 0x7f9fa8e1e390>]"
      ]
     },
     "execution_count": 104,
     "metadata": {},
     "output_type": "execute_result"
    },
    {
     "data": {
      "image/png": "[encoded data removed]",
      "text/plain": [
       "<Figure size 432x288 with 1 Axes>"
      ]
     },
     "metadata": {
      "needs_background": "light"
     },
     "output_type": "display_data"
    }
   ],
   "source": [
    "plt.plot(plevels[tlevels == 2][:, 2])"
   ]
  },
  {
   "cell_type": "code",
   "execution_count": 105,
   "id": "1cb03c0b-bfa3-4e28-9043-77703ecf1ca1",
   "metadata": {},
   "outputs": [
    {
     "data": {
      "text/plain": [
       "tensor([[-1.3127, -1.9549,  0.7956, -2.7154, -1.5842, -1.7009, -1.1272],\n",
       "        [-1.3164, -1.9554,  0.7938, -2.7148, -1.5907, -1.6961, -1.1326]])"
      ]
     },
     "execution_count": 105,
     "metadata": {},
     "output_type": "execute_result"
    }
   ],
   "source": [
    "plevels[tlevels == 2]"
   ]
  },
  {
   "cell_type": "code",
   "execution_count": 106,
   "id": "d9ec993a-05e2-44ec-ae6a-955e9cc87784",
   "metadata": {},
   "outputs": [
    {
     "data": {
      "text/plain": [
       "[<matplotlib.lines.Line2D at 0x7f9fa8c50e90>]"
      ]
     },
     "execution_count": 106,
     "metadata": {},
     "output_type": "execute_result"
    },
    {
     "data": {
      "image/png": "[encoded data removed]",
      "text/plain": [
       "<Figure size 432x288 with 1 Axes>"
      ]
     },
     "metadata": {
      "needs_background": "light"
     },
     "output_type": "display_data"
    }
   ],
   "source": [
    "plt.plot(plevels[tlevels == 3][:, 3])"
   ]
  },
  {
   "cell_type": "code",
   "execution_count": 109,
   "id": "5898a447-de1c-4038-8a24-8b0d5ce92236",
   "metadata": {},
   "outputs": [
    {
     "data": {
      "text/plain": [
       "tensor([[ 1.4565, -2.0135, -4.4232, -1.8826, -4.7498, -3.4014, -4.3885],\n",
       "        [ 1.4047,  1.1766, -7.5787, -3.0441, -7.9432, -1.1667, -7.8078],\n",
       "        [ 1.4629,  1.2245, -7.8150, -3.1048, -8.2012, -1.2295, -8.0719]])"
      ]
     },
     "execution_count": 109,
     "metadata": {},
     "output_type": "execute_result"
    }
   ],
   "source": [
    "plevels[tlevels == 3][plevels[tlevels == 3][:, 3] < 0]"
   ]
  },
  {
   "cell_type": "code",
   "execution_count": 110,
   "id": "13260564-f4f7-432e-aa5f-476ae3537601",
   "metadata": {},
   "outputs": [
    {
     "data": {
      "text/plain": [
       "[<matplotlib.lines.Line2D at 0x7f9fac173f90>]"
      ]
     },
     "execution_count": 110,
     "metadata": {},
     "output_type": "execute_result"
    },
    {
     "data": {
      "image/png": "[encoded data removed]",
      "text/plain": [
       "<Figure size 432x288 with 1 Axes>"
      ]
     },
     "metadata": {
      "needs_background": "light"
     },
     "output_type": "display_data"
    }
   ],
   "source": [
    "plt.plot(plevels[tlevels == 4][:, 4])"
   ]
  },
  {
   "cell_type": "code",
   "execution_count": 111,
   "id": "81223c26-b8a0-4b5b-9276-02aef23593fd",
   "metadata": {},
   "outputs": [
    {
     "data": {
      "text/plain": [
       "tensor([[-1.6737, -1.3841, -0.7297, -1.6819,  0.3478, -1.8172, -0.5322],\n",
       "        [-1.6758, -1.3860, -0.7329, -1.6791,  0.3453, -1.8191, -0.5353]])"
      ]
     },
     "execution_count": 111,
     "metadata": {},
     "output_type": "execute_result"
    }
   ],
   "source": [
    "plevels[tlevels == 4]"
   ]
  },
  {
   "cell_type": "code",
   "execution_count": 112,
   "id": "44e95db8-2055-4f89-b131-8ed48cb70a11",
   "metadata": {},
   "outputs": [
    {
     "data": {
      "text/plain": [
       "[<matplotlib.lines.Line2D at 0x7f9fac0de550>]"
      ]
     },
     "execution_count": 112,
     "metadata": {},
     "output_type": "execute_result"
    },
    {
     "data": {
      "image/png": "[encoded data removed]",
      "text/plain": [
       "<Figure size 432x288 with 1 Axes>"
      ]
     },
     "metadata": {
      "needs_background": "light"
     },
     "output_type": "display_data"
    }
   ],
   "source": [
    "plt.plot(plevels[tlevels == 5][:, 5])"
   ]
  },
  {
   "cell_type": "code",
   "execution_count": 115,
   "id": "d89dfb3b-e367-40b9-8a2c-db0ef0c39b80",
   "metadata": {},
   "outputs": [
    {
     "data": {
      "text/plain": [
       "tensor([[ 1.3124,  1.1073, -7.2920, -2.9590, -7.6342, -1.0644, -7.5031],\n",
       "        [ 1.8367, -2.6057, -4.5536, -2.0836, -4.7156, -3.0276, -4.5266],\n",
       "        [ 1.5196,  1.2278, -7.9593, -3.1470, -8.3555, -1.2610, -8.2169],\n",
       "        [-2.1902, -1.6925, -3.9634,  0.1019, -3.6263, -2.8208, -3.6047],\n",
       "        [ 1.5678,  1.2902, -8.1998, -3.2480, -8.6114, -1.3041, -8.4803],\n",
       "        [-2.1907, -1.6900, -3.9668,  0.1019, -3.6288, -2.8228, -3.6072],\n",
       "        [ 1.3707,  1.1084, -7.3612, -2.9855, -7.7199, -1.1050, -7.5773],\n",
       "        [ 1.3724,  1.1985, -7.5151, -3.0250, -7.8929, -1.1719, -7.7563],\n",
       "        [ 1.5035,  1.2382, -7.9050, -3.1550, -8.3072, -1.2457, -8.1643],\n",
       "        [ 1.3629,  1.1514, -7.4160, -3.0085, -7.7782, -1.1266, -7.6487],\n",
       "        [ 1.4211,  1.1784, -7.6620, -3.0843, -8.0351, -1.1670, -7.8941],\n",
       "        [ 1.5525,  1.2309, -8.0383, -3.2053, -8.4424, -1.2595, -8.3014],\n",
       "        [ 1.4267,  1.1437, -7.6350, -3.0419, -7.9943, -1.1613, -7.8679],\n",
       "        [ 1.4020,  1.2234, -7.6624, -3.0962, -8.0420, -1.1769, -7.9124],\n",
       "        [ 1.4493,  1.1565, -7.6105, -3.0630, -7.9943, -1.1693, -7.8550]])"
      ]
     },
     "execution_count": 115,
     "metadata": {},
     "output_type": "execute_result"
    }
   ],
   "source": [
    "plevels[tlevels == 5][plevels[tlevels == 5][:, 5] < 0]"
   ]
  },
  {
   "cell_type": "code",
   "execution_count": 113,
   "id": "bfd00bbc-c0af-4203-9c8c-7ed60d1c6eee",
   "metadata": {},
   "outputs": [
    {
     "data": {
      "text/plain": [
       "[<matplotlib.lines.Line2D at 0x7fa188878750>]"
      ]
     },
     "execution_count": 113,
     "metadata": {},
     "output_type": "execute_result"
    },
    {
     "data": {
      "image/png": "[encoded data removed]",
      "text/plain": [
       "<Figure size 432x288 with 1 Axes>"
      ]
     },
     "metadata": {
      "needs_background": "light"
     },
     "output_type": "display_data"
    }
   ],
   "source": [
    "plt.plot(plevels[tlevels == 6][:, 6])"
   ]
  },
  {
   "cell_type": "code",
   "execution_count": null,
   "id": "723df8a5-30ca-42ee-a569-dbf36ec109db",
   "metadata": {},
   "outputs": [],
   "source": []
  },
  {
   "cell_type": "code",
   "execution_count": null,
   "id": "22cd1caa-0e16-4941-b217-a9f9354419de",
   "metadata": {},
   "outputs": [],
   "source": []
  },
  {
   "cell_type": "code",
   "execution_count": null,
   "id": "82fa42f2-c678-4661-b6f3-ad313079c895",
   "metadata": {},
   "outputs": [],
   "source": []
  },
  {
   "cell_type": "code",
   "execution_count": null,
   "id": "7c001204-4957-4958-8fb1-61da6b444e02",
   "metadata": {},
   "outputs": [],
   "source": []
  },
  {
   "cell_type": "code",
   "execution_count": null,
   "id": "a86953dd-3d82-458c-9011-c4627c5fae34",
   "metadata": {},
   "outputs": [],
   "source": []
  },
  {
   "cell_type": "code",
   "execution_count": null,
   "id": "fe7952c4-a37f-4c5d-b0bc-d19af36332fa",
   "metadata": {},
   "outputs": [],
   "source": []
  },
  {
   "cell_type": "code",
   "execution_count": null,
   "id": "e517fb3d-bfc8-4306-b998-d901efa5f1a1",
   "metadata": {},
   "outputs": [],
   "source": []
  },
  {
   "cell_type": "markdown",
   "id": "e866a8cb-dfdf-4bd6-9ba0-4f6db47a2943",
   "metadata": {},
   "source": [
    "## Submission softmax 없이"
   ]
  },
  {
   "cell_type": "code",
   "execution_count": 80,
   "id": "d6c47eae-e057-4dcb-807d-5af7f116f192",
   "metadata": {},
   "outputs": [
    {
     "name": "stdout",
     "output_type": "stream",
     "text": [
      "100%|██████████████████████████████████████████████████| 1418916/1418916 [2:34:23<00:00, 153.18it/s]\n"
     ]
    }
   ],
   "source": [
    "preds = []\n",
    "with tqdm(total=len(trainer.dl_test.dataset), ncols=100, file=sys.stdout) as t:\n",
    "    for id, text, otext in trainer.dl_test:\n",
    "        pred = model(text.cuda())[0].cpu()\n",
    "        preds.append(pred)\n",
    "        t.update(len(id))"
   ]
  },
  {
   "cell_type": "code",
   "execution_count": null,
   "id": "74ece5ee-0797-474f-a3a3-f4200d104297",
   "metadata": {},
   "outputs": [],
   "source": []
  },
  {
   "cell_type": "code",
   "execution_count": null,
   "id": "688cad08-9ad2-4157-9964-f89513cefcbd",
   "metadata": {},
   "outputs": [],
   "source": []
  },
  {
   "cell_type": "markdown",
   "id": "758fa196-4938-4f6d-a246-80f8ed4f0dd6",
   "metadata": {},
   "source": [
    "## Submission\n",
    "\n",
    "그냥 fold1 distil bert로 submission(level 7은 무시)을 만들면 어느정도 정확도가 나올까?"
   ]
  },
  {
   "cell_type": "code",
   "execution_count": 9,
   "id": "84cc3b2b-db8e-4b9e-8697-49dc32446035",
   "metadata": {},
   "outputs": [
    {
     "name": "stdout",
     "output_type": "stream",
     "text": [
      "100%|██████████████████████████████████████████████████| 1418916/1418916 [1:12:59<00:00, 324.00it/s]\n"
     ]
    }
   ],
   "source": [
    "preds = []\n",
    "with tqdm(total=len(trainer.dl_test.dataset), ncols=100, file=sys.stdout) as t:\n",
    "    for id, text, otext in trainer.dl_test:\n",
    "        pred = model(text.cuda())[0].softmax(1).cpu()\n",
    "        preds.append(pred)\n",
    "        # break\n",
    "        t.update(len(id))"
   ]
  },
  {
   "cell_type": "code",
   "execution_count": 10,
   "id": "431fe7fa-0fd1-4799-93af-e94c55290d31",
   "metadata": {},
   "outputs": [
    {
     "data": {
      "text/plain": [
       "torch.Size([30, 7])"
      ]
     },
     "execution_count": 10,
     "metadata": {},
     "output_type": "execute_result"
    }
   ],
   "source": [
    "preds[0].shape"
   ]
  },
  {
   "cell_type": "code",
   "execution_count": 11,
   "id": "f389f0ac-6a5f-486d-9182-293e6e8720d1",
   "metadata": {},
   "outputs": [],
   "source": [
    "ps = torch.cat(preds, dim=0)"
   ]
  },
  {
   "cell_type": "code",
   "execution_count": 12,
   "id": "195b0d70-5ca5-4572-a768-d0c234a2d322",
   "metadata": {},
   "outputs": [
    {
     "data": {
      "text/plain": [
       "torch.Size([1418916, 7])"
      ]
     },
     "execution_count": 12,
     "metadata": {},
     "output_type": "execute_result"
    }
   ],
   "source": [
    "ps.shape"
   ]
  },
  {
   "cell_type": "code",
   "execution_count": 15,
   "id": "8a55d43b-e757-4ac3-be84-3f3cabe7c98e",
   "metadata": {},
   "outputs": [],
   "source": [
    "plevel = ps.argmax(dim=1)"
   ]
  },
  {
   "cell_type": "code",
   "execution_count": 16,
   "id": "b9d5add8-ac3c-41c9-a499-5571d057b55b",
   "metadata": {},
   "outputs": [
    {
     "data": {
      "text/plain": [
       "torch.Size([1418916])"
      ]
     },
     "execution_count": 16,
     "metadata": {},
     "output_type": "execute_result"
    }
   ],
   "source": [
    "plevel.shape"
   ]
  },
  {
   "cell_type": "code",
   "execution_count": 17,
   "id": "bd811fb0-dc26-48c5-88cb-86ae468a1e1e",
   "metadata": {},
   "outputs": [
    {
     "data": {
      "text/plain": [
       "tensor([0, 0, 0, 1, 0, 3, 0, 0, 0, 1, 0, 0, 0, 0, 1, 1, 0, 0, 1, 0, 1, 0, 1, 0,\n",
       "        0, 0, 0, 0, 1, 0, 0, 0, 1, 1, 0, 0, 0, 1, 0, 0, 0, 1, 0, 0, 0, 1, 0, 0,\n",
       "        0, 0, 0, 0, 0, 0, 1, 0, 0, 0, 1, 0, 0, 1, 0, 0, 0, 1, 0, 0, 0, 0, 0, 0,\n",
       "        0, 1, 0, 0, 1, 0, 1, 1, 0, 0, 0, 0, 0, 1, 1, 0, 0, 0, 1, 0, 0, 1, 0, 0,\n",
       "        0, 1, 0, 0])"
      ]
     },
     "execution_count": 17,
     "metadata": {},
     "output_type": "execute_result"
    }
   ],
   "source": [
    "j = 1000\n",
    "plevel[j : j + 100]"
   ]
  },
  {
   "cell_type": "code",
   "execution_count": 18,
   "id": "e0716ced-045a-4a0c-bf9f-1cdf8b838f91",
   "metadata": {},
   "outputs": [],
   "source": [
    "data = {\"id\": list(range(1000000, 2418915 + 1)), \"level\": plevel.tolist()}"
   ]
  },
  {
   "cell_type": "code",
   "execution_count": 19,
   "id": "4af8e961-eb30-4eea-b7d2-d08b2a9a7b7b",
   "metadata": {},
   "outputs": [],
   "source": [
    "df = pd.DataFrame(data)"
   ]
  },
  {
   "cell_type": "code",
   "execution_count": 20,
   "id": "74ab6091-3940-47dd-81a3-b9a6e1f9ca64",
   "metadata": {},
   "outputs": [
    {
     "data": {
      "text/html": [
       "<div>\n",
       "<style scoped>\n",
       "    .dataframe tbody tr th:only-of-type {\n",
       "        vertical-align: middle;\n",
       "    }\n",
       "\n",
       "    .dataframe tbody tr th {\n",
       "        vertical-align: top;\n",
       "    }\n",
       "\n",
       "    .dataframe thead th {\n",
       "        text-align: right;\n",
       "    }\n",
       "</style>\n",
       "<table border=\"1\" class=\"dataframe\">\n",
       "  <thead>\n",
       "    <tr style=\"text-align: right;\">\n",
       "      <th></th>\n",
       "      <th>id</th>\n",
       "      <th>level</th>\n",
       "    </tr>\n",
       "  </thead>\n",
       "  <tbody>\n",
       "    <tr>\n",
       "      <th>0</th>\n",
       "      <td>1000000</td>\n",
       "      <td>0</td>\n",
       "    </tr>\n",
       "    <tr>\n",
       "      <th>1</th>\n",
       "      <td>1000001</td>\n",
       "      <td>0</td>\n",
       "    </tr>\n",
       "    <tr>\n",
       "      <th>2</th>\n",
       "      <td>1000002</td>\n",
       "      <td>1</td>\n",
       "    </tr>\n",
       "    <tr>\n",
       "      <th>3</th>\n",
       "      <td>1000003</td>\n",
       "      <td>0</td>\n",
       "    </tr>\n",
       "    <tr>\n",
       "      <th>4</th>\n",
       "      <td>1000004</td>\n",
       "      <td>1</td>\n",
       "    </tr>\n",
       "    <tr>\n",
       "      <th>...</th>\n",
       "      <td>...</td>\n",
       "      <td>...</td>\n",
       "    </tr>\n",
       "    <tr>\n",
       "      <th>1418911</th>\n",
       "      <td>2418911</td>\n",
       "      <td>0</td>\n",
       "    </tr>\n",
       "    <tr>\n",
       "      <th>1418912</th>\n",
       "      <td>2418912</td>\n",
       "      <td>0</td>\n",
       "    </tr>\n",
       "    <tr>\n",
       "      <th>1418913</th>\n",
       "      <td>2418913</td>\n",
       "      <td>1</td>\n",
       "    </tr>\n",
       "    <tr>\n",
       "      <th>1418914</th>\n",
       "      <td>2418914</td>\n",
       "      <td>0</td>\n",
       "    </tr>\n",
       "    <tr>\n",
       "      <th>1418915</th>\n",
       "      <td>2418915</td>\n",
       "      <td>0</td>\n",
       "    </tr>\n",
       "  </tbody>\n",
       "</table>\n",
       "<p>1418916 rows × 2 columns</p>\n",
       "</div>"
      ],
      "text/plain": [
       "              id  level\n",
       "0        1000000      0\n",
       "1        1000001      0\n",
       "2        1000002      1\n",
       "3        1000003      0\n",
       "4        1000004      1\n",
       "...          ...    ...\n",
       "1418911  2418911      0\n",
       "1418912  2418912      0\n",
       "1418913  2418913      1\n",
       "1418914  2418914      0\n",
       "1418915  2418915      0\n",
       "\n",
       "[1418916 rows x 2 columns]"
      ]
     },
     "execution_count": 20,
     "metadata": {},
     "output_type": "execute_result"
    }
   ],
   "source": [
    "df"
   ]
  },
  {
   "cell_type": "code",
   "execution_count": 21,
   "id": "106e830c-c77e-4ead-901e-7ed45d4960b7",
   "metadata": {},
   "outputs": [
    {
     "name": "stdout",
     "output_type": "stream",
     "text": [
      "1003860\n",
      "395602\n",
      "34\n",
      "13063\n",
      "34\n",
      "6293\n",
      "30\n"
     ]
    }
   ],
   "source": [
    "for i in range(7):\n",
    "    print((plevel == i).sum().item())"
   ]
  },
  {
   "cell_type": "code",
   "execution_count": 23,
   "id": "bf3ae336-e745-438a-80f0-c9dfc5ff3f94",
   "metadata": {},
   "outputs": [],
   "source": [
    "df.to_csv(\"results/distilbert-base-uncased/distilbert-base-uncased-focal-AdamW-lr1e-05_1.csv\", index=False)"
   ]
  },
  {
   "cell_type": "code",
   "execution_count": 25,
   "id": "eb59a456-aa9e-4c49-ac5d-12348afd3cfa",
   "metadata": {},
   "outputs": [],
   "source": [
    "ps_np = ps.numpy()"
   ]
  },
  {
   "cell_type": "code",
   "execution_count": 26,
   "id": "32a7a719-808a-4989-a009-dabdaa5c0d47",
   "metadata": {},
   "outputs": [],
   "source": [
    "np.savez_compressed(\"results/distilbert-base-uncased/distilbert-base-uncased-focal-AdamW-lr1e-05_1.npz\", ps=ps_np)"
   ]
  },
  {
   "cell_type": "code",
   "execution_count": null,
   "id": "56bcd46c-f0c2-40ff-8e33-d3236b47d7b4",
   "metadata": {},
   "outputs": [],
   "source": []
  },
  {
   "cell_type": "code",
   "execution_count": null,
   "id": "c1961ff0-0b91-4076-864d-454fa1fda204",
   "metadata": {},
   "outputs": [],
   "source": []
  },
  {
   "cell_type": "code",
   "execution_count": null,
   "id": "b78cbf73-fc92-43d6-9cae-845fca57480f",
   "metadata": {},
   "outputs": [],
   "source": []
  },
  {
   "cell_type": "markdown",
   "id": "7339fbd2-d92a-4403-8249-42d18a330722",
   "metadata": {},
   "source": [
    "## 정확도"
   ]
  },
  {
   "cell_type": "markdown",
   "id": "afdb0bbe-6b57-47ad-9980-13593d92bd5b",
   "metadata": {},
   "source": [
    "### 그냥 정확도"
   ]
  },
  {
   "cell_type": "code",
   "execution_count": 58,
   "id": "f1cbf992-2ee1-4a45-9796-3d60c88529a5",
   "metadata": {},
   "outputs": [],
   "source": [
    "cnt = 0\n",
    "for i in range(7):\n",
    "    cnt += len(wrongdic[i])"
   ]
  },
  {
   "cell_type": "code",
   "execution_count": 63,
   "id": "f2102389-e1a8-4766-aef5-d19e3c08c1f5",
   "metadata": {},
   "outputs": [],
   "source": [
    "vacc = 1 - cnt / len(vds)"
   ]
  },
  {
   "cell_type": "code",
   "execution_count": 64,
   "id": "24a70fdc-e4c0-42a4-bad5-9b2d30195a61",
   "metadata": {},
   "outputs": [
    {
     "data": {
      "text/plain": [
       "0.998202864844865"
      ]
     },
     "execution_count": 64,
     "metadata": {},
     "output_type": "execute_result"
    }
   ],
   "source": [
    "vacc"
   ]
  },
  {
   "cell_type": "markdown",
   "id": "e4179f8a-3b94-496d-bbbe-415e11364cfa",
   "metadata": {},
   "source": [
    "### 1인데 1의 confidence랑 0의 confidence의 차가 0.5 이하면 0이라고 했을 때 정확도는?"
   ]
  },
  {
   "cell_type": "code",
   "execution_count": 71,
   "id": "334a6199-bb60-4a3c-9b05-305eeeed265d",
   "metadata": {},
   "outputs": [
    {
     "data": {
      "text/plain": [
       "0.10417789220809937"
      ]
     },
     "execution_count": 71,
     "metadata": {},
     "output_type": "execute_result"
    }
   ],
   "source": [
    "d = wrongdic[1][4]\n",
    "abs(d[\"pconf\"] - d[\"tconf\"])"
   ]
  },
  {
   "cell_type": "code",
   "execution_count": null,
   "id": "c0ca6e92-e077-48e5-a8e4-f8c5c92bbb48",
   "metadata": {},
   "outputs": [],
   "source": []
  },
  {
   "cell_type": "code",
   "execution_count": null,
   "id": "692ba654-9e1c-4ff8-8f34-fcd399824abf",
   "metadata": {},
   "outputs": [],
   "source": []
  },
  {
   "cell_type": "code",
   "execution_count": null,
   "id": "93d60537-2010-436b-8325-adb2c504e2a5",
   "metadata": {},
   "outputs": [],
   "source": []
  },
  {
   "cell_type": "code",
   "execution_count": null,
   "id": "09761ad1-2901-4092-aaef-504f4856c8d2",
   "metadata": {},
   "outputs": [],
   "source": []
  },
  {
   "cell_type": "code",
   "execution_count": null,
   "id": "de70f91c-ea71-4866-9562-9388cde2936c",
   "metadata": {},
   "outputs": [],
   "source": []
  },
  {
   "cell_type": "code",
   "execution_count": null,
   "id": "bc96374b-4ede-4fc4-84dc-3b576a486f01",
   "metadata": {},
   "outputs": [],
   "source": []
  },
  {
   "cell_type": "code",
   "execution_count": null,
   "id": "754dbd81-d342-466c-abdf-089765eb3e12",
   "metadata": {},
   "outputs": [],
   "source": []
  },
  {
   "cell_type": "markdown",
   "id": "197c139d-8b66-4d71-b9f5-4b6142a3eb88",
   "metadata": {},
   "source": [
    "### MEMO\n",
    "\n",
    "level 0, 1은 99% 정도의 높은 confidence를 보이는 반면, level 2는 validation에도 2개의 데이터밖에 없기 때문에 65%의 confidence가 나온다.\n",
    "\n",
    "valid idx 68298, 75845\n",
    "\n",
    "- level별로 confidence threshold가 천차만별일 듯 하다.  \n",
    "- level별로 validation을 진행하고 confidence의 목록을 만들어서 확인해보자!!\n",
    "\n",
    "### 결과 만들기\n",
    "\n",
    "- 0이랑 1 사이에서 고문하는 경우도 --> |conf[0] - conf[1]| < 0.1 일 경우  \n",
    "1을 0으로 착각한건 20개, 0을 1로 착간한건 132개. 그러므로 위의 경우에는 0으로 결정하는게 좋겠다.\n",
    "\n",
    "- fold1에서 2~6까지는 틀린게 하나도 없었음. (물론 데이터 수도 적었지만)\n",
    "\n",
    "### 정책\n",
    "\n",
    "- "
   ]
  },
  {
   "cell_type": "code",
   "execution_count": null,
   "id": "ebba5679-41f5-48ff-8773-dd5a9cb15c8c",
   "metadata": {},
   "outputs": [],
   "source": []
  }
 ],
 "metadata": {
  "kernelspec": {
   "display_name": "Python 3",
   "language": "python",
   "name": "python3"
  },
  "language_info": {
   "codemirror_mode": {
    "name": "ipython",
    "version": 3
   },
   "file_extension": ".py",
   "mimetype": "text/x-python",
   "name": "python",
   "nbconvert_exporter": "python",
   "pygments_lexer": "ipython3",
   "version": "3.7.9"
  }
 },
 "nbformat": 4,
 "nbformat_minor": 5
}
