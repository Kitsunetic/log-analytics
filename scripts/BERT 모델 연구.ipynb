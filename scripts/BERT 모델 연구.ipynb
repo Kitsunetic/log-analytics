{
 "cells": [
  {
   "cell_type": "code",
   "execution_count": 1,
   "metadata": {},
   "outputs": [
    {
     "name": "stdout",
     "output_type": "stream",
     "text": [
      "/home/shim/cev/dl/log-analytics\n"
     ]
    }
   ],
   "source": [
    "%load_ext lab_black\n",
    "%cd .."
   ]
  },
  {
   "cell_type": "code",
   "execution_count": 2,
   "metadata": {},
   "outputs": [],
   "source": [
    "import argparse\n",
    "import math\n",
    "import multiprocessing\n",
    "import sys\n",
    "from datetime import datetime\n",
    "from pathlib import Path\n",
    "from pprint import pformat\n",
    "\n",
    "import numpy as np\n",
    "import pandas as pd\n",
    "import torch\n",
    "import torch.nn as nn\n",
    "import torch.nn.functional as F\n",
    "import torch_optimizer\n",
    "import yaml\n",
    "from easydict import EasyDict\n",
    "from pytorch_transformers import (\n",
    "    BertForSequenceClassification,\n",
    "    BertTokenizer,\n",
    "    DistilBertForSequenceClassification,\n",
    "    DistilBertTokenizer,\n",
    "    RobertaForSequenceClassification,\n",
    "    RobertaTokenizer,\n",
    ")\n",
    "from sklearn.model_selection import StratifiedKFold\n",
    "from torch.optim import Adam, AdamW\n",
    "from torch.optim.lr_scheduler import ReduceLROnPlateau\n",
    "from torch.utils.data import DataLoader, Dataset\n",
    "from tqdm import tqdm\n",
    "from transformers import (\n",
    "    AlbertForSequenceClassification,\n",
    "    AlbertTokenizer,\n",
    "    DebertaForSequenceClassification,\n",
    "    DebertaTokenizer,\n",
    "    SqueezeBertTokenizer,\n",
    "    SqueezeBertForSequenceClassification,\n",
    "    XLNetTokenizer,\n",
    "    XLNetForSequenceClassification,\n",
    ")\n",
    "\n",
    "from datasets import load_test_data, load_train_data, MyDataset\n",
    "from utils import SAM, AverageMeter, CustomLogger, FocalLoss, seed_everything\n",
    "\n",
    "from main import MyTrainer\n",
    "from collections import defaultdict\n",
    "import matplotlib.pyplot as plt"
   ]
  },
  {
   "cell_type": "code",
   "execution_count": 3,
   "metadata": {},
   "outputs": [],
   "source": [
    "with open(\"config/squeezebert-uncased.yaml\", \"r\") as f:\n",
    "    C = EasyDict(yaml.load(f, yaml.FullLoader))\n",
    "    C.result_dir = Path(C.result_dir)\n",
    "    C.dataset.dir = Path(C.dataset.dir)\n",
    "    seed_everything(C.seed, deterministic=False)"
   ]
  },
  {
   "cell_type": "code",
   "execution_count": 4,
   "metadata": {},
   "outputs": [
    {
     "data": {
      "text/plain": [
       "{'model': {'name': 'squeezebert/squeezebert-uncased'},\n",
       " 'comment': None,\n",
       " 'result_dir': PosixPath('results/squeezebert-uncased'),\n",
       " 'debug': False,\n",
       " 'seed': 20210425,\n",
       " 'train': {'SAM': False,\n",
       "  'folds': [2],\n",
       "  'checkpoints': [None],\n",
       "  'loss': {'name': 'focal', 'gamma': 2},\n",
       "  'optimizer': {'name': 'AdamW'},\n",
       "  'finetune': {'do': True, 'step1_epochs': 3, 'step2_epochs': 5},\n",
       "  'max_epochs': 10,\n",
       "  'lr': 1e-05,\n",
       "  'scheduler': {'name': 'ReduceLROnPlateau',\n",
       "   'params': {'factor': 0.5, 'patience': 3, 'verbose': True}}},\n",
       " 'dataset': {'dir': PosixPath('data/ori'), 'batch_size': 20, 'num_workers': 8}}"
      ]
     },
     "execution_count": 4,
     "metadata": {},
     "output_type": "execute_result"
    }
   ],
   "source": [
    "C"
   ]
  },
  {
   "cell_type": "code",
   "execution_count": 5,
   "metadata": {},
   "outputs": [
    {
     "name": "stderr",
     "output_type": "stream",
     "text": [
      "Some weights of the model checkpoint at squeezebert/squeezebert-uncased were not used when initializing SqueezeBertForSequenceClassification: ['cls.predictions.bias', 'cls.predictions.transform.dense.weight', 'cls.predictions.transform.dense.bias', 'cls.predictions.transform.LayerNorm.weight', 'cls.predictions.transform.LayerNorm.bias', 'cls.predictions.decoder.weight', 'cls.seq_relationship.weight', 'cls.seq_relationship.bias']\n",
      "- This IS expected if you are initializing SqueezeBertForSequenceClassification from the checkpoint of a model trained on another task or with another architecture (e.g. initializing a BertForSequenceClassification model from a BertForPreTraining model).\n",
      "- This IS NOT expected if you are initializing SqueezeBertForSequenceClassification from the checkpoint of a model that you expect to be exactly identical (initializing a BertForSequenceClassification model from a BertForSequenceClassification model).\n",
      "Some weights of SqueezeBertForSequenceClassification were not initialized from the model checkpoint at squeezebert/squeezebert-uncased and are newly initialized: ['classifier.weight', 'classifier.bias']\n",
      "You should probably TRAIN this model on a down-stream task to be able to use it for predictions and inference.\n"
     ]
    },
    {
     "name": "stdout",
     "output_type": "stream",
     "text": [
      "Load pretrained results/squeezebert-uncased/squeezebert-uncased-focal-AdamW-lr1e-05_2.pth\n"
     ]
    }
   ],
   "source": [
    "trainer = MyTrainer(C, 1, \"results/squeezebert-uncased/squeezebert-uncased-focal-AdamW-lr1e-05_2.pth\")"
   ]
  },
  {
   "cell_type": "code",
   "execution_count": 6,
   "metadata": {},
   "outputs": [
    {
     "data": {
      "text/plain": [
       "<torch.autograd.grad_mode.set_grad_enabled at 0x7fe43c5b0890>"
      ]
     },
     "execution_count": 6,
     "metadata": {},
     "output_type": "execute_result"
    }
   ],
   "source": [
    "model = trainer.model\n",
    "model.eval()\n",
    "torch.set_grad_enabled(False)"
   ]
  },
  {
   "cell_type": "code",
   "execution_count": 7,
   "metadata": {},
   "outputs": [
    {
     "data": {
      "text/plain": [
       "SqueezeBertForSequenceClassification(\n",
       "  (transformer): SqueezeBertModel(\n",
       "    (embeddings): SqueezeBertEmbeddings(\n",
       "      (word_embeddings): Embedding(30528, 768, padding_idx=0)\n",
       "      (position_embeddings): Embedding(512, 768)\n",
       "      (token_type_embeddings): Embedding(2, 768)\n",
       "      (LayerNorm): LayerNorm((768,), eps=1e-12, elementwise_affine=True)\n",
       "      (dropout): Dropout(p=0.1, inplace=False)\n",
       "    )\n",
       "    (encoder): SqueezeBertEncoder(\n",
       "      (layers): ModuleList(\n",
       "        (0): SqueezeBertModule(\n",
       "          (attention): SqueezeBertSelfAttention(\n",
       "            (query): Conv1d(768, 768, kernel_size=(1,), stride=(1,), groups=4)\n",
       "            (key): Conv1d(768, 768, kernel_size=(1,), stride=(1,), groups=4)\n",
       "            (value): Conv1d(768, 768, kernel_size=(1,), stride=(1,), groups=4)\n",
       "            (dropout): Dropout(p=0.1, inplace=False)\n",
       "            (softmax): Softmax(dim=-1)\n",
       "            (matmul_qk): MatMulWrapper()\n",
       "            (matmul_qkv): MatMulWrapper()\n",
       "          )\n",
       "          (post_attention): ConvDropoutLayerNorm(\n",
       "            (conv1d): Conv1d(768, 768, kernel_size=(1,), stride=(1,))\n",
       "            (layernorm): SqueezeBertLayerNorm((768,), eps=1e-12, elementwise_affine=True)\n",
       "            (dropout): Dropout(p=0.1, inplace=False)\n",
       "          )\n",
       "          (intermediate): ConvActivation(\n",
       "            (conv1d): Conv1d(768, 3072, kernel_size=(1,), stride=(1,), groups=4)\n",
       "          )\n",
       "          (output): ConvDropoutLayerNorm(\n",
       "            (conv1d): Conv1d(3072, 768, kernel_size=(1,), stride=(1,), groups=4)\n",
       "            (layernorm): SqueezeBertLayerNorm((768,), eps=1e-12, elementwise_affine=True)\n",
       "            (dropout): Dropout(p=0.1, inplace=False)\n",
       "          )\n",
       "        )\n",
       "        (1): SqueezeBertModule(\n",
       "          (attention): SqueezeBertSelfAttention(\n",
       "            (query): Conv1d(768, 768, kernel_size=(1,), stride=(1,), groups=4)\n",
       "            (key): Conv1d(768, 768, kernel_size=(1,), stride=(1,), groups=4)\n",
       "            (value): Conv1d(768, 768, kernel_size=(1,), stride=(1,), groups=4)\n",
       "            (dropout): Dropout(p=0.1, inplace=False)\n",
       "            (softmax): Softmax(dim=-1)\n",
       "            (matmul_qk): MatMulWrapper()\n",
       "            (matmul_qkv): MatMulWrapper()\n",
       "          )\n",
       "          (post_attention): ConvDropoutLayerNorm(\n",
       "            (conv1d): Conv1d(768, 768, kernel_size=(1,), stride=(1,))\n",
       "            (layernorm): SqueezeBertLayerNorm((768,), eps=1e-12, elementwise_affine=True)\n",
       "            (dropout): Dropout(p=0.1, inplace=False)\n",
       "          )\n",
       "          (intermediate): ConvActivation(\n",
       "            (conv1d): Conv1d(768, 3072, kernel_size=(1,), stride=(1,), groups=4)\n",
       "          )\n",
       "          (output): ConvDropoutLayerNorm(\n",
       "            (conv1d): Conv1d(3072, 768, kernel_size=(1,), stride=(1,), groups=4)\n",
       "            (layernorm): SqueezeBertLayerNorm((768,), eps=1e-12, elementwise_affine=True)\n",
       "            (dropout): Dropout(p=0.1, inplace=False)\n",
       "          )\n",
       "        )\n",
       "        (2): SqueezeBertModule(\n",
       "          (attention): SqueezeBertSelfAttention(\n",
       "            (query): Conv1d(768, 768, kernel_size=(1,), stride=(1,), groups=4)\n",
       "            (key): Conv1d(768, 768, kernel_size=(1,), stride=(1,), groups=4)\n",
       "            (value): Conv1d(768, 768, kernel_size=(1,), stride=(1,), groups=4)\n",
       "            (dropout): Dropout(p=0.1, inplace=False)\n",
       "            (softmax): Softmax(dim=-1)\n",
       "            (matmul_qk): MatMulWrapper()\n",
       "            (matmul_qkv): MatMulWrapper()\n",
       "          )\n",
       "          (post_attention): ConvDropoutLayerNorm(\n",
       "            (conv1d): Conv1d(768, 768, kernel_size=(1,), stride=(1,))\n",
       "            (layernorm): SqueezeBertLayerNorm((768,), eps=1e-12, elementwise_affine=True)\n",
       "            (dropout): Dropout(p=0.1, inplace=False)\n",
       "          )\n",
       "          (intermediate): ConvActivation(\n",
       "            (conv1d): Conv1d(768, 3072, kernel_size=(1,), stride=(1,), groups=4)\n",
       "          )\n",
       "          (output): ConvDropoutLayerNorm(\n",
       "            (conv1d): Conv1d(3072, 768, kernel_size=(1,), stride=(1,), groups=4)\n",
       "            (layernorm): SqueezeBertLayerNorm((768,), eps=1e-12, elementwise_affine=True)\n",
       "            (dropout): Dropout(p=0.1, inplace=False)\n",
       "          )\n",
       "        )\n",
       "        (3): SqueezeBertModule(\n",
       "          (attention): SqueezeBertSelfAttention(\n",
       "            (query): Conv1d(768, 768, kernel_size=(1,), stride=(1,), groups=4)\n",
       "            (key): Conv1d(768, 768, kernel_size=(1,), stride=(1,), groups=4)\n",
       "            (value): Conv1d(768, 768, kernel_size=(1,), stride=(1,), groups=4)\n",
       "            (dropout): Dropout(p=0.1, inplace=False)\n",
       "            (softmax): Softmax(dim=-1)\n",
       "            (matmul_qk): MatMulWrapper()\n",
       "            (matmul_qkv): MatMulWrapper()\n",
       "          )\n",
       "          (post_attention): ConvDropoutLayerNorm(\n",
       "            (conv1d): Conv1d(768, 768, kernel_size=(1,), stride=(1,))\n",
       "            (layernorm): SqueezeBertLayerNorm((768,), eps=1e-12, elementwise_affine=True)\n",
       "            (dropout): Dropout(p=0.1, inplace=False)\n",
       "          )\n",
       "          (intermediate): ConvActivation(\n",
       "            (conv1d): Conv1d(768, 3072, kernel_size=(1,), stride=(1,), groups=4)\n",
       "          )\n",
       "          (output): ConvDropoutLayerNorm(\n",
       "            (conv1d): Conv1d(3072, 768, kernel_size=(1,), stride=(1,), groups=4)\n",
       "            (layernorm): SqueezeBertLayerNorm((768,), eps=1e-12, elementwise_affine=True)\n",
       "            (dropout): Dropout(p=0.1, inplace=False)\n",
       "          )\n",
       "        )\n",
       "        (4): SqueezeBertModule(\n",
       "          (attention): SqueezeBertSelfAttention(\n",
       "            (query): Conv1d(768, 768, kernel_size=(1,), stride=(1,), groups=4)\n",
       "            (key): Conv1d(768, 768, kernel_size=(1,), stride=(1,), groups=4)\n",
       "            (value): Conv1d(768, 768, kernel_size=(1,), stride=(1,), groups=4)\n",
       "            (dropout): Dropout(p=0.1, inplace=False)\n",
       "            (softmax): Softmax(dim=-1)\n",
       "            (matmul_qk): MatMulWrapper()\n",
       "            (matmul_qkv): MatMulWrapper()\n",
       "          )\n",
       "          (post_attention): ConvDropoutLayerNorm(\n",
       "            (conv1d): Conv1d(768, 768, kernel_size=(1,), stride=(1,))\n",
       "            (layernorm): SqueezeBertLayerNorm((768,), eps=1e-12, elementwise_affine=True)\n",
       "            (dropout): Dropout(p=0.1, inplace=False)\n",
       "          )\n",
       "          (intermediate): ConvActivation(\n",
       "            (conv1d): Conv1d(768, 3072, kernel_size=(1,), stride=(1,), groups=4)\n",
       "          )\n",
       "          (output): ConvDropoutLayerNorm(\n",
       "            (conv1d): Conv1d(3072, 768, kernel_size=(1,), stride=(1,), groups=4)\n",
       "            (layernorm): SqueezeBertLayerNorm((768,), eps=1e-12, elementwise_affine=True)\n",
       "            (dropout): Dropout(p=0.1, inplace=False)\n",
       "          )\n",
       "        )\n",
       "        (5): SqueezeBertModule(\n",
       "          (attention): SqueezeBertSelfAttention(\n",
       "            (query): Conv1d(768, 768, kernel_size=(1,), stride=(1,), groups=4)\n",
       "            (key): Conv1d(768, 768, kernel_size=(1,), stride=(1,), groups=4)\n",
       "            (value): Conv1d(768, 768, kernel_size=(1,), stride=(1,), groups=4)\n",
       "            (dropout): Dropout(p=0.1, inplace=False)\n",
       "            (softmax): Softmax(dim=-1)\n",
       "            (matmul_qk): MatMulWrapper()\n",
       "            (matmul_qkv): MatMulWrapper()\n",
       "          )\n",
       "          (post_attention): ConvDropoutLayerNorm(\n",
       "            (conv1d): Conv1d(768, 768, kernel_size=(1,), stride=(1,))\n",
       "            (layernorm): SqueezeBertLayerNorm((768,), eps=1e-12, elementwise_affine=True)\n",
       "            (dropout): Dropout(p=0.1, inplace=False)\n",
       "          )\n",
       "          (intermediate): ConvActivation(\n",
       "            (conv1d): Conv1d(768, 3072, kernel_size=(1,), stride=(1,), groups=4)\n",
       "          )\n",
       "          (output): ConvDropoutLayerNorm(\n",
       "            (conv1d): Conv1d(3072, 768, kernel_size=(1,), stride=(1,), groups=4)\n",
       "            (layernorm): SqueezeBertLayerNorm((768,), eps=1e-12, elementwise_affine=True)\n",
       "            (dropout): Dropout(p=0.1, inplace=False)\n",
       "          )\n",
       "        )\n",
       "        (6): SqueezeBertModule(\n",
       "          (attention): SqueezeBertSelfAttention(\n",
       "            (query): Conv1d(768, 768, kernel_size=(1,), stride=(1,), groups=4)\n",
       "            (key): Conv1d(768, 768, kernel_size=(1,), stride=(1,), groups=4)\n",
       "            (value): Conv1d(768, 768, kernel_size=(1,), stride=(1,), groups=4)\n",
       "            (dropout): Dropout(p=0.1, inplace=False)\n",
       "            (softmax): Softmax(dim=-1)\n",
       "            (matmul_qk): MatMulWrapper()\n",
       "            (matmul_qkv): MatMulWrapper()\n",
       "          )\n",
       "          (post_attention): ConvDropoutLayerNorm(\n",
       "            (conv1d): Conv1d(768, 768, kernel_size=(1,), stride=(1,))\n",
       "            (layernorm): SqueezeBertLayerNorm((768,), eps=1e-12, elementwise_affine=True)\n",
       "            (dropout): Dropout(p=0.1, inplace=False)\n",
       "          )\n",
       "          (intermediate): ConvActivation(\n",
       "            (conv1d): Conv1d(768, 3072, kernel_size=(1,), stride=(1,), groups=4)\n",
       "          )\n",
       "          (output): ConvDropoutLayerNorm(\n",
       "            (conv1d): Conv1d(3072, 768, kernel_size=(1,), stride=(1,), groups=4)\n",
       "            (layernorm): SqueezeBertLayerNorm((768,), eps=1e-12, elementwise_affine=True)\n",
       "            (dropout): Dropout(p=0.1, inplace=False)\n",
       "          )\n",
       "        )\n",
       "        (7): SqueezeBertModule(\n",
       "          (attention): SqueezeBertSelfAttention(\n",
       "            (query): Conv1d(768, 768, kernel_size=(1,), stride=(1,), groups=4)\n",
       "            (key): Conv1d(768, 768, kernel_size=(1,), stride=(1,), groups=4)\n",
       "            (value): Conv1d(768, 768, kernel_size=(1,), stride=(1,), groups=4)\n",
       "            (dropout): Dropout(p=0.1, inplace=False)\n",
       "            (softmax): Softmax(dim=-1)\n",
       "            (matmul_qk): MatMulWrapper()\n",
       "            (matmul_qkv): MatMulWrapper()\n",
       "          )\n",
       "          (post_attention): ConvDropoutLayerNorm(\n",
       "            (conv1d): Conv1d(768, 768, kernel_size=(1,), stride=(1,))\n",
       "            (layernorm): SqueezeBertLayerNorm((768,), eps=1e-12, elementwise_affine=True)\n",
       "            (dropout): Dropout(p=0.1, inplace=False)\n",
       "          )\n",
       "          (intermediate): ConvActivation(\n",
       "            (conv1d): Conv1d(768, 3072, kernel_size=(1,), stride=(1,), groups=4)\n",
       "          )\n",
       "          (output): ConvDropoutLayerNorm(\n",
       "            (conv1d): Conv1d(3072, 768, kernel_size=(1,), stride=(1,), groups=4)\n",
       "            (layernorm): SqueezeBertLayerNorm((768,), eps=1e-12, elementwise_affine=True)\n",
       "            (dropout): Dropout(p=0.1, inplace=False)\n",
       "          )\n",
       "        )\n",
       "        (8): SqueezeBertModule(\n",
       "          (attention): SqueezeBertSelfAttention(\n",
       "            (query): Conv1d(768, 768, kernel_size=(1,), stride=(1,), groups=4)\n",
       "            (key): Conv1d(768, 768, kernel_size=(1,), stride=(1,), groups=4)\n",
       "            (value): Conv1d(768, 768, kernel_size=(1,), stride=(1,), groups=4)\n",
       "            (dropout): Dropout(p=0.1, inplace=False)\n",
       "            (softmax): Softmax(dim=-1)\n",
       "            (matmul_qk): MatMulWrapper()\n",
       "            (matmul_qkv): MatMulWrapper()\n",
       "          )\n",
       "          (post_attention): ConvDropoutLayerNorm(\n",
       "            (conv1d): Conv1d(768, 768, kernel_size=(1,), stride=(1,))\n",
       "            (layernorm): SqueezeBertLayerNorm((768,), eps=1e-12, elementwise_affine=True)\n",
       "            (dropout): Dropout(p=0.1, inplace=False)\n",
       "          )\n",
       "          (intermediate): ConvActivation(\n",
       "            (conv1d): Conv1d(768, 3072, kernel_size=(1,), stride=(1,), groups=4)\n",
       "          )\n",
       "          (output): ConvDropoutLayerNorm(\n",
       "            (conv1d): Conv1d(3072, 768, kernel_size=(1,), stride=(1,), groups=4)\n",
       "            (layernorm): SqueezeBertLayerNorm((768,), eps=1e-12, elementwise_affine=True)\n",
       "            (dropout): Dropout(p=0.1, inplace=False)\n",
       "          )\n",
       "        )\n",
       "        (9): SqueezeBertModule(\n",
       "          (attention): SqueezeBertSelfAttention(\n",
       "            (query): Conv1d(768, 768, kernel_size=(1,), stride=(1,), groups=4)\n",
       "            (key): Conv1d(768, 768, kernel_size=(1,), stride=(1,), groups=4)\n",
       "            (value): Conv1d(768, 768, kernel_size=(1,), stride=(1,), groups=4)\n",
       "            (dropout): Dropout(p=0.1, inplace=False)\n",
       "            (softmax): Softmax(dim=-1)\n",
       "            (matmul_qk): MatMulWrapper()\n",
       "            (matmul_qkv): MatMulWrapper()\n",
       "          )\n",
       "          (post_attention): ConvDropoutLayerNorm(\n",
       "            (conv1d): Conv1d(768, 768, kernel_size=(1,), stride=(1,))\n",
       "            (layernorm): SqueezeBertLayerNorm((768,), eps=1e-12, elementwise_affine=True)\n",
       "            (dropout): Dropout(p=0.1, inplace=False)\n",
       "          )\n",
       "          (intermediate): ConvActivation(\n",
       "            (conv1d): Conv1d(768, 3072, kernel_size=(1,), stride=(1,), groups=4)\n",
       "          )\n",
       "          (output): ConvDropoutLayerNorm(\n",
       "            (conv1d): Conv1d(3072, 768, kernel_size=(1,), stride=(1,), groups=4)\n",
       "            (layernorm): SqueezeBertLayerNorm((768,), eps=1e-12, elementwise_affine=True)\n",
       "            (dropout): Dropout(p=0.1, inplace=False)\n",
       "          )\n",
       "        )\n",
       "        (10): SqueezeBertModule(\n",
       "          (attention): SqueezeBertSelfAttention(\n",
       "            (query): Conv1d(768, 768, kernel_size=(1,), stride=(1,), groups=4)\n",
       "            (key): Conv1d(768, 768, kernel_size=(1,), stride=(1,), groups=4)\n",
       "            (value): Conv1d(768, 768, kernel_size=(1,), stride=(1,), groups=4)\n",
       "            (dropout): Dropout(p=0.1, inplace=False)\n",
       "            (softmax): Softmax(dim=-1)\n",
       "            (matmul_qk): MatMulWrapper()\n",
       "            (matmul_qkv): MatMulWrapper()\n",
       "          )\n",
       "          (post_attention): ConvDropoutLayerNorm(\n",
       "            (conv1d): Conv1d(768, 768, kernel_size=(1,), stride=(1,))\n",
       "            (layernorm): SqueezeBertLayerNorm((768,), eps=1e-12, elementwise_affine=True)\n",
       "            (dropout): Dropout(p=0.1, inplace=False)\n",
       "          )\n",
       "          (intermediate): ConvActivation(\n",
       "            (conv1d): Conv1d(768, 3072, kernel_size=(1,), stride=(1,), groups=4)\n",
       "          )\n",
       "          (output): ConvDropoutLayerNorm(\n",
       "            (conv1d): Conv1d(3072, 768, kernel_size=(1,), stride=(1,), groups=4)\n",
       "            (layernorm): SqueezeBertLayerNorm((768,), eps=1e-12, elementwise_affine=True)\n",
       "            (dropout): Dropout(p=0.1, inplace=False)\n",
       "          )\n",
       "        )\n",
       "        (11): SqueezeBertModule(\n",
       "          (attention): SqueezeBertSelfAttention(\n",
       "            (query): Conv1d(768, 768, kernel_size=(1,), stride=(1,), groups=4)\n",
       "            (key): Conv1d(768, 768, kernel_size=(1,), stride=(1,), groups=4)\n",
       "            (value): Conv1d(768, 768, kernel_size=(1,), stride=(1,), groups=4)\n",
       "            (dropout): Dropout(p=0.1, inplace=False)\n",
       "            (softmax): Softmax(dim=-1)\n",
       "            (matmul_qk): MatMulWrapper()\n",
       "            (matmul_qkv): MatMulWrapper()\n",
       "          )\n",
       "          (post_attention): ConvDropoutLayerNorm(\n",
       "            (conv1d): Conv1d(768, 768, kernel_size=(1,), stride=(1,))\n",
       "            (layernorm): SqueezeBertLayerNorm((768,), eps=1e-12, elementwise_affine=True)\n",
       "            (dropout): Dropout(p=0.1, inplace=False)\n",
       "          )\n",
       "          (intermediate): ConvActivation(\n",
       "            (conv1d): Conv1d(768, 3072, kernel_size=(1,), stride=(1,), groups=4)\n",
       "          )\n",
       "          (output): ConvDropoutLayerNorm(\n",
       "            (conv1d): Conv1d(3072, 768, kernel_size=(1,), stride=(1,), groups=4)\n",
       "            (layernorm): SqueezeBertLayerNorm((768,), eps=1e-12, elementwise_affine=True)\n",
       "            (dropout): Dropout(p=0.1, inplace=False)\n",
       "          )\n",
       "        )\n",
       "      )\n",
       "    )\n",
       "    (pooler): SqueezeBertPooler(\n",
       "      (dense): Linear(in_features=768, out_features=768, bias=True)\n",
       "      (activation): Tanh()\n",
       "    )\n",
       "  )\n",
       "  (dropout): Dropout(p=0.1, inplace=False)\n",
       "  (classifier): Linear(in_features=768, out_features=7, bias=True)\n",
       ")"
      ]
     },
     "execution_count": 7,
     "metadata": {},
     "output_type": "execute_result"
    }
   ],
   "source": [
    "model"
   ]
  },
  {
   "cell_type": "code",
   "execution_count": 8,
   "metadata": {},
   "outputs": [],
   "source": [
    "activation = []\n",
    "\n",
    "\n",
    "def hook(model, input, output):\n",
    "    activation.append(output.detach().cpu())"
   ]
  },
  {
   "cell_type": "code",
   "execution_count": 9,
   "metadata": {},
   "outputs": [
    {
     "data": {
      "text/plain": [
       "<torch.utils.hooks.RemovableHandle at 0x7fe19ed4ba90>"
      ]
     },
     "execution_count": 9,
     "metadata": {},
     "output_type": "execute_result"
    }
   ],
   "source": [
    "# model.transformer.encoder.layers[11].output.conv1d.register_forward_hook(conv1_hook)\n",
    "model.transformer.pooler.dense.register_forward_hook(hook)"
   ]
  },
  {
   "cell_type": "code",
   "execution_count": 10,
   "metadata": {},
   "outputs": [],
   "source": [
    "vds = trainer.vdl.dataset"
   ]
  },
  {
   "cell_type": "code",
   "execution_count": 11,
   "metadata": {},
   "outputs": [],
   "source": [
    "id, text, tlevel, otext = vds[0]"
   ]
  },
  {
   "cell_type": "code",
   "execution_count": 12,
   "metadata": {},
   "outputs": [
    {
     "data": {
      "text/plain": [
       "'kibana: {\"type\":\"log\",\"tags\":[\"warning\",\"monitoring-ui\",\"kibana-monitoring\"],\"message\":\"Error: No Living connections\\\\n at sendReqWithConnection (/usr/share/kibana/node_modules/elasticsearch/src/lib/transport.js:226:15)\\\\n at next (/usr/share/kibana/node_modules/elasticsearch/src/lib/connection_pool.js:214:7)\\\\n at process._tickCallback (internal/process/next_tick.js:61:11)\"}'"
      ]
     },
     "execution_count": 12,
     "metadata": {},
     "output_type": "execute_result"
    }
   ],
   "source": [
    "otext"
   ]
  },
  {
   "cell_type": "code",
   "execution_count": 13,
   "metadata": {},
   "outputs": [
    {
     "data": {
      "text/plain": [
       "SequenceClassifierOutput(loss=None, logits=tensor([[ 5.0254, -1.9911, -5.8643, -0.6411, -6.6716, -1.8612, -7.7830]],\n",
       "       device='cuda:0'), hidden_states=None, attentions=None)"
      ]
     },
     "execution_count": 13,
     "metadata": {},
     "output_type": "execute_result"
    }
   ],
   "source": [
    "model(text[None].cuda())"
   ]
  },
  {
   "cell_type": "code",
   "execution_count": 14,
   "metadata": {},
   "outputs": [
    {
     "data": {
      "text/plain": [
       "torch.Size([1, 768])"
      ]
     },
     "execution_count": 14,
     "metadata": {},
     "output_type": "execute_result"
    }
   ],
   "source": [
    "activation[0].shape"
   ]
  },
  {
   "cell_type": "code",
   "execution_count": 17,
   "metadata": {},
   "outputs": [
    {
     "data": {
      "text/plain": [
       "[<matplotlib.lines.Line2D at 0x7fe19f1130d0>]"
      ]
     },
     "execution_count": 17,
     "metadata": {},
     "output_type": "execute_result"
    },
    {
     "data": {
      "image/png": "[encoded data removed]",
      "text/plain": [
       "<Figure size 432x288 with 1 Axes>"
      ]
     },
     "metadata": {
      "needs_background": "light"
     },
     "output_type": "display_data"
    }
   ],
   "source": [
    "plt.plot(activation[0][0])"
   ]
  },
  {
   "cell_type": "code",
   "execution_count": 19,
   "metadata": {},
   "outputs": [],
   "source": [
    "activation = []\n",
    "tlevels = []\n",
    "otexts = []\n",
    "\n",
    "for i in range(100):\n",
    "    id, text, tlevel, otext = vds[i]\n",
    "    tlevels.append(tlevel)\n",
    "    otexts.append(otext)\n",
    "    model(text[None].cuda())"
   ]
  },
  {
   "cell_type": "code",
   "execution_count": 23,
   "metadata": {},
   "outputs": [],
   "source": [
    "tlevels = torch.stack(tlevels)"
   ]
  },
  {
   "cell_type": "code",
   "execution_count": 26,
   "metadata": {},
   "outputs": [
    {
     "data": {
      "text/plain": [
       "tensor([0, 0, 0, 0, 0, 0, 0, 0, 0, 1, 0, 0, 0, 0, 0, 1, 0, 0, 0, 0, 0, 1, 1, 0,\n",
       "        1, 1, 1, 0, 0, 0, 1, 0, 0, 0, 0, 0, 0, 0, 0, 1, 0, 1, 0, 1, 1, 1, 0, 0,\n",
       "        0, 1, 0, 1, 1, 1, 1, 1, 0, 0, 0, 1, 0, 0, 0, 0, 0, 0, 1, 1, 0, 0, 0, 0,\n",
       "        0, 0, 0, 1, 0, 1, 1, 0, 1, 0, 1, 0, 1, 1, 0, 0, 3, 1, 0, 1, 1, 0, 0, 0,\n",
       "        0, 0, 1, 1])"
      ]
     },
     "execution_count": 26,
     "metadata": {},
     "output_type": "execute_result"
    }
   ],
   "source": [
    "tlevels"
   ]
  },
  {
   "cell_type": "code",
   "execution_count": 28,
   "metadata": {},
   "outputs": [],
   "source": [
    "activation = torch.cat(activation)"
   ]
  },
  {
   "cell_type": "code",
   "execution_count": 29,
   "metadata": {},
   "outputs": [
    {
     "data": {
      "text/plain": [
       "torch.Size([100, 768])"
      ]
     },
     "execution_count": 29,
     "metadata": {},
     "output_type": "execute_result"
    }
   ],
   "source": [
    "activation.shape"
   ]
  },
  {
   "cell_type": "code",
   "execution_count": 39,
   "metadata": {},
   "outputs": [],
   "source": [
    "feats = activation"
   ]
  },
  {
   "cell_type": "code",
   "execution_count": 30,
   "metadata": {},
   "outputs": [],
   "source": [
    "feat0 = activation[tlevels == 0]\n",
    "feat1 = activation[tlevels == 1]"
   ]
  },
  {
   "cell_type": "code",
   "execution_count": 32,
   "metadata": {},
   "outputs": [
    {
     "data": {
      "text/plain": [
       "torch.Size([65, 768])"
      ]
     },
     "execution_count": 32,
     "metadata": {},
     "output_type": "execute_result"
    }
   ],
   "source": [
    "feat0.shape"
   ]
  },
  {
   "cell_type": "markdown",
   "metadata": {},
   "source": [
    "## Level7을 넣었을 때"
   ]
  },
  {
   "cell_type": "code",
   "execution_count": 33,
   "metadata": {},
   "outputs": [],
   "source": [
    "df = pd.read_csv(\"data/ori/validation_sample.csv\")"
   ]
  },
  {
   "cell_type": "code",
   "execution_count": 34,
   "metadata": {},
   "outputs": [
    {
     "data": {
      "text/html": [
       "<div>\n",
       "<style scoped>\n",
       "    .dataframe tbody tr th:only-of-type {\n",
       "        vertical-align: middle;\n",
       "    }\n",
       "\n",
       "    .dataframe tbody tr th {\n",
       "        vertical-align: top;\n",
       "    }\n",
       "\n",
       "    .dataframe thead th {\n",
       "        text-align: right;\n",
       "    }\n",
       "</style>\n",
       "<table border=\"1\" class=\"dataframe\">\n",
       "  <thead>\n",
       "    <tr style=\"text-align: right;\">\n",
       "      <th></th>\n",
       "      <th>full_log</th>\n",
       "    </tr>\n",
       "  </thead>\n",
       "  <tbody>\n",
       "    <tr>\n",
       "      <th>0</th>\n",
       "      <td>type=ANOM_PROMISCUOUS msg=audit(1600402733.466...</td>\n",
       "    </tr>\n",
       "    <tr>\n",
       "      <th>1</th>\n",
       "      <td>oscap: msg: \"xccdf-result\", scan-id: \"00016007...</td>\n",
       "    </tr>\n",
       "    <tr>\n",
       "      <th>2</th>\n",
       "      <td>Sep 22 10:56:19 localhost kernel: Out of memor...</td>\n",
       "    </tr>\n",
       "  </tbody>\n",
       "</table>\n",
       "</div>"
      ],
      "text/plain": [
       "                                            full_log\n",
       "0  type=ANOM_PROMISCUOUS msg=audit(1600402733.466...\n",
       "1  oscap: msg: \"xccdf-result\", scan-id: \"00016007...\n",
       "2  Sep 22 10:56:19 localhost kernel: Out of memor..."
      ]
     },
     "execution_count": 34,
     "metadata": {},
     "output_type": "execute_result"
    }
   ],
   "source": [
    "df"
   ]
  },
  {
   "cell_type": "code",
   "execution_count": 36,
   "metadata": {},
   "outputs": [],
   "source": [
    "id, text, otext = trainer.dl_test2.dataset[0]"
   ]
  },
  {
   "cell_type": "code",
   "execution_count": 37,
   "metadata": {},
   "outputs": [
    {
     "data": {
      "text/plain": [
       "'type=ANOM_PROMISCUOUS msg=audit(1600402733.466:4503): dev=enp2s0 prom=256 old_prom=0 auid=4294967295 uid=0 gid=0 ses=4294967295 type=SYSCALL msg=audit(1600402733.466:4503): arch=c000003e syscall=54 success=yes exit=0 a0=c a1=107 a2=1 a3=7f856aed1140 items=0 ppid=1 pid=12152 auid=4294967295 uid=0 gid=0 euid=0 suid=0 fsuid=0 egid=0 sgid=0 fsgid=0 tty=(none) ses=4294967295 comm=\"W#01-enp2s0\" exe=\"/usr/sbin/suricata\" subj=system_u:system_r:unconfined_service_t:s0 key=(null) type=PROCTITLE msg=audit(1600402733.4'"
      ]
     },
     "execution_count": 37,
     "metadata": {},
     "output_type": "execute_result"
    }
   ],
   "source": [
    "otext"
   ]
  },
  {
   "cell_type": "code",
   "execution_count": 40,
   "metadata": {},
   "outputs": [],
   "source": [
    "activation = []"
   ]
  },
  {
   "cell_type": "code",
   "execution_count": 41,
   "metadata": {},
   "outputs": [
    {
     "data": {
      "text/plain": [
       "SequenceClassifierOutput(loss=None, logits=tensor([[-1.6924,  4.6911, -3.3423, -1.9573, -3.6974, -1.4233, -4.2919]],\n",
       "       device='cuda:0'), hidden_states=None, attentions=None)"
      ]
     },
     "execution_count": 41,
     "metadata": {},
     "output_type": "execute_result"
    }
   ],
   "source": [
    "model(text[None].cuda())"
   ]
  },
  {
   "cell_type": "code",
   "execution_count": 47,
   "metadata": {},
   "outputs": [],
   "source": [
    "feat = activation[0][0]"
   ]
  },
  {
   "cell_type": "code",
   "execution_count": 51,
   "metadata": {},
   "outputs": [
    {
     "data": {
      "text/plain": [
       "(torch.Size([100, 768]), torch.Size([768]))"
      ]
     },
     "execution_count": 51,
     "metadata": {},
     "output_type": "execute_result"
    }
   ],
   "source": [
    "feats.shape, feat.shape"
   ]
  },
  {
   "cell_type": "code",
   "execution_count": 54,
   "metadata": {},
   "outputs": [
    {
     "data": {
      "text/plain": [
       "tensor([25.8751, 27.5754, 25.6763, 25.6763, 27.3760, 25.6763, 25.8751, 25.8751,\n",
       "        27.5163,  1.2990, 26.6238, 25.6763, 26.3050, 25.6763, 27.5369,  1.5110,\n",
       "        25.6763, 26.8754, 27.5386, 27.6015, 25.6763,  2.2112,  2.0290, 27.5192,\n",
       "         5.7089,  1.7554,  1.2794, 25.9356, 25.6763, 25.7994,  1.3693, 25.6763,\n",
       "        25.6763, 25.6763, 26.9179, 25.6763, 26.6691, 26.8754, 26.6178,  1.9773,\n",
       "        26.0493,  1.2987, 25.6763,  2.0514,  2.0265,  1.5182, 26.9307, 26.6121,\n",
       "        25.6763,  1.4115, 27.4454,  2.1961,  1.4076,  1.7181,  1.3593,  1.4109,\n",
       "        25.6763, 26.8763, 25.6763,  1.5942, 27.3684, 27.4871, 26.8764, 26.6522,\n",
       "        27.5486, 26.8660,  2.1594,  1.2969, 25.6763, 25.6763, 25.6763, 25.6763,\n",
       "        25.6763, 25.6763, 26.1618,  1.8016, 26.8618,  1.9518,  1.6773, 25.8751,\n",
       "         1.6214, 25.6763,  1.7576, 26.0694,  1.6784,  1.1638, 27.5159, 27.4623,\n",
       "        26.5709,  1.3030, 25.6763,  1.6463,  1.3763, 25.6763, 25.6763, 27.4264,\n",
       "        25.6763, 25.6763,  4.6733,  1.4591])"
      ]
     },
     "execution_count": 54,
     "metadata": {},
     "output_type": "execute_result"
    }
   ],
   "source": [
    "dist = torch.norm(feats - feat[None], dim=1, p=None)\n",
    "dist"
   ]
  },
  {
   "cell_type": "code",
   "execution_count": 65,
   "metadata": {},
   "outputs": [],
   "source": [
    "knn = dist.topk(50, largest=False)"
   ]
  },
  {
   "cell_type": "code",
   "execution_count": 66,
   "metadata": {},
   "outputs": [],
   "source": [
    "values, indices = knn"
   ]
  },
  {
   "cell_type": "code",
   "execution_count": 67,
   "metadata": {},
   "outputs": [
    {
     "data": {
      "text/plain": [
       "tensor([ 1.1638,  1.2794,  1.2969,  1.2987,  1.2990,  1.3030,  1.3593,  1.3693,\n",
       "         1.3763,  1.4076,  1.4109,  1.4115,  1.4591,  1.5110,  1.5182,  1.5942,\n",
       "         1.6214,  1.6463,  1.6773,  1.6784,  1.7181,  1.7554,  1.7576,  1.8016,\n",
       "         1.9518,  1.9773,  2.0265,  2.0290,  2.0514,  2.1594,  2.1961,  2.2112,\n",
       "         4.6733,  5.7089, 25.6763, 25.6763, 25.6763, 25.6763, 25.6763, 25.6763,\n",
       "        25.6763, 25.6763, 25.6763, 25.6763, 25.6763, 25.6763, 25.6763, 25.6763,\n",
       "        25.6763, 25.6763])"
      ]
     },
     "execution_count": 67,
     "metadata": {},
     "output_type": "execute_result"
    }
   ],
   "source": [
    "values"
   ]
  },
  {
   "cell_type": "code",
   "execution_count": 68,
   "metadata": {},
   "outputs": [
    {
     "data": {
      "text/plain": [
       "tensor([1, 1, 1, 1, 1, 1, 1, 1, 1, 1, 1, 1, 1, 1, 1, 1, 1, 1, 1, 1, 1, 1, 1, 1,\n",
       "        1, 1, 1, 1, 1, 1, 1, 1, 1, 1, 0, 0, 0, 0, 0, 0, 0, 0, 0, 0, 0, 0, 0, 0,\n",
       "        0, 0])"
      ]
     },
     "execution_count": 68,
     "metadata": {},
     "output_type": "execute_result"
    }
   ],
   "source": [
    "tlevels[indices]"
   ]
  },
  {
   "cell_type": "markdown",
   "metadata": {},
   "source": [
    "1과 유사하다고 한다."
   ]
  },
  {
   "cell_type": "markdown",
   "metadata": {},
   "source": [
    "## Level7 - 2"
   ]
  },
  {
   "cell_type": "code",
   "execution_count": 82,
   "metadata": {},
   "outputs": [],
   "source": [
    "id, text, otext = trainer.dl_test2.dataset[1]"
   ]
  },
  {
   "cell_type": "code",
   "execution_count": 83,
   "metadata": {},
   "outputs": [
    {
     "data": {
      "text/plain": [
       "SequenceClassifierOutput(loss=None, logits=tensor([[ 0.2355, -1.4136, -1.8940,  3.5928, -1.8239, -0.6595, -2.1214]],\n",
       "       device='cuda:0'), hidden_states=None, attentions=None)"
      ]
     },
     "execution_count": 83,
     "metadata": {},
     "output_type": "execute_result"
    }
   ],
   "source": [
    "activation = []\n",
    "model(text[None].cuda())"
   ]
  },
  {
   "cell_type": "code",
   "execution_count": 84,
   "metadata": {},
   "outputs": [
    {
     "data": {
      "text/plain": [
       "(torch.Size([100, 768]), torch.Size([768]))"
      ]
     },
     "execution_count": 84,
     "metadata": {},
     "output_type": "execute_result"
    }
   ],
   "source": [
    "feat = activation[0][0]\n",
    "feats.shape, feat.shape"
   ]
  },
  {
   "cell_type": "code",
   "execution_count": 85,
   "metadata": {},
   "outputs": [
    {
     "data": {
      "text/plain": [
       "tensor([10.7915, 23.1768, 23.5835, 23.7057, 23.8905, 23.8905, 23.8905, 23.8905,\n",
       "        23.8905, 23.8905, 23.8905, 23.8905, 23.8905, 23.8905, 23.8905, 23.8905,\n",
       "        23.8905, 23.8905, 23.8905, 23.8905, 23.8905, 23.8905, 23.8905, 23.8905,\n",
       "        23.8905, 23.8905, 23.8905, 23.8905, 23.8905, 23.8905, 23.8905, 23.8905,\n",
       "        24.0862, 24.1018, 24.3701, 24.3833, 24.3833, 24.3833, 24.3833, 24.5180,\n",
       "        24.5637, 24.5952, 24.5952, 25.2794, 25.2806, 25.3417, 25.3424, 25.3521,\n",
       "        25.3568, 25.3607])"
      ]
     },
     "execution_count": 85,
     "metadata": {},
     "output_type": "execute_result"
    }
   ],
   "source": [
    "dist = torch.norm(feats - feat[None], dim=1, p=None)\n",
    "knn = dist.topk(50, largest=False)\n",
    "values, indices = knn\n",
    "values"
   ]
  },
  {
   "cell_type": "code",
   "execution_count": 86,
   "metadata": {},
   "outputs": [
    {
     "data": {
      "text/plain": [
       "tensor([3, 0, 0, 0, 0, 0, 0, 0, 0, 0, 0, 0, 0, 0, 0, 0, 0, 0, 0, 0, 0, 0, 0, 0,\n",
       "        0, 0, 0, 0, 0, 0, 0, 0, 0, 0, 0, 0, 0, 0, 0, 0, 0, 0, 0, 0, 0, 0, 0, 0,\n",
       "        0, 0])"
      ]
     },
     "execution_count": 86,
     "metadata": {},
     "output_type": "execute_result"
    }
   ],
   "source": [
    "tlevels[indices]"
   ]
  },
  {
   "cell_type": "markdown",
   "metadata": {},
   "source": [
    "## Level7 - 3"
   ]
  },
  {
   "cell_type": "code",
   "execution_count": 87,
   "metadata": {},
   "outputs": [],
   "source": [
    "id, text, otext = trainer.dl_test2.dataset[2]"
   ]
  },
  {
   "cell_type": "code",
   "execution_count": 88,
   "metadata": {},
   "outputs": [
    {
     "data": {
      "text/plain": [
       "SequenceClassifierOutput(loss=None, logits=tensor([[ 3.3105, -0.1176, -6.3091, -1.1940, -7.1354, -1.5113, -8.1841]],\n",
       "       device='cuda:0'), hidden_states=None, attentions=None)"
      ]
     },
     "execution_count": 88,
     "metadata": {},
     "output_type": "execute_result"
    }
   ],
   "source": [
    "activation = []\n",
    "model(text[None].cuda())"
   ]
  },
  {
   "cell_type": "code",
   "execution_count": 89,
   "metadata": {},
   "outputs": [
    {
     "data": {
      "text/plain": [
       "(torch.Size([100, 768]), torch.Size([768]))"
      ]
     },
     "execution_count": 89,
     "metadata": {},
     "output_type": "execute_result"
    }
   ],
   "source": [
    "feat = activation[0][0]\n",
    "feats.shape, feat.shape"
   ]
  },
  {
   "cell_type": "code",
   "execution_count": 90,
   "metadata": {},
   "outputs": [
    {
     "data": {
      "text/plain": [
       "tensor([7.6338, 7.8809, 7.9859, 8.0167, 8.0278, 8.0326, 8.0354, 8.0464, 8.0518,\n",
       "        8.0572, 8.0638, 8.1615, 8.3131, 8.3131, 8.5420, 8.5784, 8.9566, 8.9566,\n",
       "        8.9566, 8.9566, 9.0214, 9.0214, 9.0214, 9.0214, 9.0214, 9.0214, 9.0214,\n",
       "        9.0214, 9.0214, 9.0214, 9.0214, 9.0214, 9.0214, 9.0214, 9.0214, 9.0214,\n",
       "        9.0214, 9.0214, 9.0214, 9.0214, 9.0214, 9.0214, 9.0214, 9.0214, 9.0214,\n",
       "        9.0214, 9.0214, 9.0214, 9.1332, 9.1336])"
      ]
     },
     "execution_count": 90,
     "metadata": {},
     "output_type": "execute_result"
    }
   ],
   "source": [
    "dist = torch.norm(feats - feat[None], dim=1, p=None)\n",
    "knn = dist.topk(50, largest=False)\n",
    "values, indices = knn\n",
    "values"
   ]
  },
  {
   "cell_type": "code",
   "execution_count": 91,
   "metadata": {},
   "outputs": [
    {
     "data": {
      "text/plain": [
       "tensor([0, 0, 0, 0, 0, 0, 0, 0, 0, 0, 0, 0, 0, 0, 0, 0, 0, 0, 0, 0, 0, 0, 0, 0,\n",
       "        0, 0, 0, 0, 0, 0, 0, 0, 0, 0, 0, 0, 0, 0, 0, 0, 0, 0, 0, 0, 0, 0, 0, 0,\n",
       "        0, 0])"
      ]
     },
     "execution_count": 91,
     "metadata": {},
     "output_type": "execute_result"
    }
   ],
   "source": [
    "tlevels[indices]"
   ]
  },
  {
   "cell_type": "code",
   "execution_count": null,
   "metadata": {},
   "outputs": [],
   "source": []
  },
  {
   "cell_type": "markdown",
   "metadata": {},
   "source": [
    "## Level1을 넣었을 때"
   ]
  },
  {
   "cell_type": "code",
   "execution_count": 72,
   "metadata": {},
   "outputs": [],
   "source": [
    "id, text, tlevel, otext = vds[201]"
   ]
  },
  {
   "cell_type": "code",
   "execution_count": 73,
   "metadata": {},
   "outputs": [
    {
     "data": {
      "text/plain": [
       "'sudo: pam_unix(sudo:session): session opened for user root by (uid=0)'"
      ]
     },
     "execution_count": 73,
     "metadata": {},
     "output_type": "execute_result"
    }
   ],
   "source": [
    "otext"
   ]
  },
  {
   "cell_type": "code",
   "execution_count": 74,
   "metadata": {},
   "outputs": [
    {
     "data": {
      "text/plain": [
       "SequenceClassifierOutput(loss=None, logits=tensor([[-2.0477,  4.7689, -3.2803, -1.4810, -3.4924, -1.2048, -4.0213]],\n",
       "       device='cuda:0'), hidden_states=None, attentions=None)"
      ]
     },
     "execution_count": 74,
     "metadata": {},
     "output_type": "execute_result"
    }
   ],
   "source": [
    "activation = []\n",
    "model(text[None].cuda())"
   ]
  },
  {
   "cell_type": "code",
   "execution_count": 75,
   "metadata": {},
   "outputs": [],
   "source": [
    "feat = activation[0][0]"
   ]
  },
  {
   "cell_type": "code",
   "execution_count": 77,
   "metadata": {},
   "outputs": [
    {
     "data": {
      "text/plain": [
       "tensor([26.4535, 28.1218, 26.2340, 26.2340, 27.9592, 26.2340, 26.4535, 26.4535,\n",
       "        28.0624,  4.8755, 27.2916, 26.2340, 26.7065, 26.2340, 28.0698,  4.9054,\n",
       "        26.2340, 27.4782, 28.0605, 28.1424, 26.2340,  4.5989,  4.3468, 28.0799,\n",
       "         2.8076,  5.0091,  4.8156, 26.4084, 26.2340, 26.4078,  4.7500, 26.2340,\n",
       "        26.2340, 26.2340, 27.4833, 26.2340, 27.2904, 27.4782, 27.2829,  4.4628,\n",
       "        26.6671,  4.8775, 26.2340,  4.6481,  4.8592,  4.7229, 27.4916, 27.2732,\n",
       "        26.2340,  4.6519, 28.0334,  4.5210,  4.6802,  4.4863,  4.6994,  4.4391,\n",
       "        26.2340, 27.4487, 26.2340,  4.7494, 27.9735, 28.0175, 27.4495, 27.2616,\n",
       "        28.0867, 27.4380,  4.6664,  4.8254, 26.2340, 26.2340, 26.2340, 26.2340,\n",
       "        26.2340, 26.2340, 26.7560,  4.6748, 27.4366,  4.6317,  5.0064, 26.4535,\n",
       "         4.8921, 26.2340,  4.7555, 26.5884,  4.6077,  4.5663, 28.0412, 28.0269,\n",
       "        25.5936,  4.7897, 26.2340,  4.7246,  4.7942, 26.2340, 26.2340, 27.9863,\n",
       "        26.2340, 26.2340,  0.0000,  4.8282])"
      ]
     },
     "execution_count": 77,
     "metadata": {},
     "output_type": "execute_result"
    }
   ],
   "source": [
    "dist = torch.norm(feats - feat[None], dim=1, p=None)\n",
    "dist"
   ]
  },
  {
   "cell_type": "code",
   "execution_count": 78,
   "metadata": {},
   "outputs": [],
   "source": [
    "knn = dist.topk(50, largest=False)"
   ]
  },
  {
   "cell_type": "code",
   "execution_count": 79,
   "metadata": {},
   "outputs": [],
   "source": [
    "values, indices = knn"
   ]
  },
  {
   "cell_type": "code",
   "execution_count": 80,
   "metadata": {},
   "outputs": [
    {
     "data": {
      "text/plain": [
       "tensor([ 0.0000,  2.8076,  4.3468,  4.4391,  4.4628,  4.4863,  4.5210,  4.5663,\n",
       "         4.5989,  4.6077,  4.6317,  4.6481,  4.6519,  4.6664,  4.6748,  4.6802,\n",
       "         4.6994,  4.7229,  4.7246,  4.7494,  4.7500,  4.7555,  4.7897,  4.7942,\n",
       "         4.8156,  4.8254,  4.8282,  4.8592,  4.8755,  4.8775,  4.8921,  4.9054,\n",
       "         5.0064,  5.0091, 25.5936, 26.2340, 26.2340, 26.2340, 26.2340, 26.2340,\n",
       "        26.2340, 26.2340, 26.2340, 26.2340, 26.2340, 26.2340, 26.2340, 26.2340,\n",
       "        26.2340, 26.2340])"
      ]
     },
     "execution_count": 80,
     "metadata": {},
     "output_type": "execute_result"
    }
   ],
   "source": [
    "values"
   ]
  },
  {
   "cell_type": "code",
   "execution_count": 81,
   "metadata": {},
   "outputs": [
    {
     "data": {
      "text/plain": [
       "tensor([1, 1, 1, 1, 1, 1, 1, 1, 1, 1, 1, 1, 1, 1, 1, 1, 1, 1, 1, 1, 1, 1, 1, 1,\n",
       "        1, 1, 1, 1, 1, 1, 1, 1, 1, 1, 3, 0, 0, 0, 0, 0, 0, 0, 0, 0, 0, 0, 0, 0,\n",
       "        0, 0])"
      ]
     },
     "execution_count": 81,
     "metadata": {},
     "output_type": "execute_result"
    }
   ],
   "source": [
    "tlevels[indices]"
   ]
  },
  {
   "cell_type": "code",
   "execution_count": null,
   "metadata": {},
   "outputs": [],
   "source": []
  }
 ],
 "metadata": {
  "kernelspec": {
   "display_name": "torch",
   "language": "python",
   "name": "torch"
  },
  "language_info": {
   "codemirror_mode": {
    "name": "ipython",
    "version": 3
   },
   "file_extension": ".py",
   "mimetype": "text/x-python",
   "name": "python",
   "nbconvert_exporter": "python",
   "pygments_lexer": "ipython3",
   "version": "3.7.9"
  }
 },
 "nbformat": 4,
 "nbformat_minor": 4
}
