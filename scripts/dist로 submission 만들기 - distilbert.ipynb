{
 "cells": [
  {
   "cell_type": "code",
   "execution_count": 1,
   "id": "0e34cb68-d283-4c3d-93be-9e18bd4ceea6",
   "metadata": {},
   "outputs": [
    {
     "name": "stdout",
     "output_type": "stream",
     "text": [
      "/mnt/h/hev/log-analytics\n"
     ]
    }
   ],
   "source": [
    "%load_ext lab_black\n",
    "%cd .."
   ]
  },
  {
   "cell_type": "code",
   "execution_count": 2,
   "id": "1d0227e4-e543-431f-9b69-b9f61b73f6be",
   "metadata": {},
   "outputs": [],
   "source": [
    "import argparse\n",
    "import math\n",
    "import multiprocessing\n",
    "import sys\n",
    "from datetime import datetime\n",
    "from pathlib import Path\n",
    "from pprint import pformat\n",
    "\n",
    "import numpy as np\n",
    "import pandas as pd\n",
    "import torch\n",
    "import torch.nn as nn\n",
    "import torch.nn.functional as F\n",
    "import torch_optimizer\n",
    "import yaml\n",
    "from easydict import EasyDict\n",
    "from pytorch_transformers import (\n",
    "    BertForSequenceClassification,\n",
    "    BertTokenizer,\n",
    "    DistilBertForSequenceClassification,\n",
    "    DistilBertTokenizer,\n",
    "    RobertaForSequenceClassification,\n",
    "    RobertaTokenizer,\n",
    ")\n",
    "from sklearn.model_selection import StratifiedKFold\n",
    "from torch.optim import Adam, AdamW\n",
    "from torch.optim.lr_scheduler import ReduceLROnPlateau\n",
    "from torch.utils.data import DataLoader, Dataset\n",
    "from tqdm import tqdm\n",
    "from transformers import (\n",
    "    AlbertForSequenceClassification,\n",
    "    AlbertTokenizer,\n",
    "    DebertaForSequenceClassification,\n",
    "    DebertaTokenizer,\n",
    "    SqueezeBertTokenizer,\n",
    "    SqueezeBertForSequenceClassification,\n",
    "    XLNetTokenizer,\n",
    "    XLNetForSequenceClassification,\n",
    ")\n",
    "\n",
    "from datasets import load_test_data, load_train_data, MyDataset\n",
    "from utils import SAM, AverageMeter, CustomLogger, FocalLoss, seed_everything\n",
    "\n",
    "from main import MyTrainer\n",
    "from collections import defaultdict\n",
    "import matplotlib.pyplot as plt\n",
    "import random"
   ]
  },
  {
   "cell_type": "code",
   "execution_count": 5,
   "id": "07878dac-25f1-4dbe-a6e5-daac20b0196c",
   "metadata": {},
   "outputs": [],
   "source": [
    "data = np.load(\"results/distilbert-base-uncased/distilbert-base-uncased-focal-AdamW-lr1e-05_1-dist.npz\")\n",
    "sfeats = torch.from_numpy(data[\"sfeats\"])\n",
    "dists = torch.from_numpy(data[\"dists\"])\n",
    "tlevels = torch.from_numpy(data[\"tlevels\"])\n",
    "fclevels = torch.from_numpy(data[\"fclevels\"])"
   ]
  },
  {
   "cell_type": "code",
   "execution_count": 15,
   "id": "62e6eda6-4205-4bcc-aaec-249982dd3110",
   "metadata": {},
   "outputs": [
    {
     "data": {
      "text/plain": [
       "tensor([[ 0.2330,  0.1847,  1.0939,  ..., -0.3893, -0.4712, -0.3539],\n",
       "        [ 0.2157,  0.2010,  1.0847,  ..., -0.3552, -0.4799, -0.3493],\n",
       "        [ 1.5141, -0.1199,  1.4249,  ..., -0.4438,  0.0475, -0.0883],\n",
       "        ...,\n",
       "        [ 1.5236, -0.1345,  1.4231,  ..., -0.4462,  0.0464, -0.0912],\n",
       "        [ 0.4066,  0.2460,  0.9621,  ..., -0.4044, -0.5476, -0.1343],\n",
       "        [ 0.2157,  0.2009,  1.0846,  ..., -0.3553, -0.4799, -0.3495]])"
      ]
     },
     "execution_count": 15,
     "metadata": {},
     "output_type": "execute_result"
    }
   ],
   "source": [
    "sfeats  # middle layer feature 데이터 --> 아마 여기서는 안 쓰이겠지?"
   ]
  },
  {
   "cell_type": "code",
   "execution_count": 13,
   "id": "7e374c98-6f3f-4f9d-ab2a-d610a2f674cc",
   "metadata": {},
   "outputs": [
    {
     "data": {
      "text/plain": [
       "tensor([[0.0000, 0.0000, 0.0000,  ..., 0.0000, 0.0000, 0.0000],\n",
       "        [0.0000, 0.0000, 0.0000,  ..., 0.0000, 0.0000, 0.0000],\n",
       "        [0.0308, 0.0312, 0.0324,  ..., 0.0374, 0.0380, 0.0389],\n",
       "        ...,\n",
       "        [0.0142, 0.0167, 0.0245,  ..., 0.0288, 0.0303, 0.0305],\n",
       "        [0.0403, 0.0409, 0.0412,  ..., 0.0486, 0.0487, 0.0488],\n",
       "        [0.0000, 0.0027, 0.0027,  ..., 0.0027, 0.0027, 0.0027]])"
      ]
     },
     "execution_count": 13,
     "metadata": {},
     "output_type": "execute_result"
    }
   ],
   "source": [
    "dists  # sfeats이랑 deck(모든 train 데이터로 만든 feature 뭉치)와 비교해서 가장 가까운 8개 까지의 거리"
   ]
  },
  {
   "cell_type": "code",
   "execution_count": 21,
   "id": "92f7d961-1ef0-45c0-89e7-4df923d043e2",
   "metadata": {},
   "outputs": [
    {
     "data": {
      "text/plain": [
       "torch.Size([1418916, 8])"
      ]
     },
     "execution_count": 21,
     "metadata": {},
     "output_type": "execute_result"
    }
   ],
   "source": [
    "dists.shape"
   ]
  },
  {
   "cell_type": "code",
   "execution_count": 8,
   "id": "ca780c9d-7b7f-4b16-af9e-52eadb4a7753",
   "metadata": {},
   "outputs": [
    {
     "data": {
      "text/plain": [
       "tensor([0, 0, 1,  ..., 1, 0, 0])"
      ]
     },
     "execution_count": 8,
     "metadata": {},
     "output_type": "execute_result"
    }
   ],
   "source": [
    "tlevels  # 가장 거리가 가까운 것의 실제 level"
   ]
  },
  {
   "cell_type": "code",
   "execution_count": 9,
   "id": "07e95d2e-112a-4638-8d4a-3e4d949d983b",
   "metadata": {},
   "outputs": [
    {
     "data": {
      "text/plain": [
       "tensor([[ 4.6420, -3.8289, -8.8472,  ..., -9.0210, -4.3306, -8.9362],\n",
       "        [ 4.5163, -3.7682, -8.6209,  ..., -8.8145, -4.2965, -8.7409],\n",
       "        [-2.8406,  4.8419, -5.8681,  ..., -7.0440, -3.7289, -6.9653],\n",
       "        ...,\n",
       "        [-2.8393,  4.8370, -5.8676,  ..., -7.0415, -3.7251, -6.9628],\n",
       "        [ 4.7729, -3.9848, -8.6707,  ..., -8.9454, -4.3192, -8.7292],\n",
       "        [ 4.5166, -3.7683, -8.6212,  ..., -8.8145, -4.2965, -8.7409]])"
      ]
     },
     "execution_count": 9,
     "metadata": {},
     "output_type": "execute_result"
    }
   ],
   "source": [
    "fclevels  # FullyConnected 레이어를 통해 구한 level (tlevels와 차이가 있는 것도 있음. TDOO: 확인해봐야함)"
   ]
  },
  {
   "cell_type": "code",
   "execution_count": 36,
   "id": "fda47c6a-b517-4379-915a-0ef8b3d81bd5",
   "metadata": {},
   "outputs": [],
   "source": [
    "df = pd.read_csv(\"data/ori/test.csv\")"
   ]
  },
  {
   "cell_type": "code",
   "execution_count": 37,
   "id": "7471e00c-60f6-473d-a1ee-1fb9eda52ad1",
   "metadata": {},
   "outputs": [
    {
     "data": {
      "text/html": [
       "<div>\n",
       "<style scoped>\n",
       "    .dataframe tbody tr th:only-of-type {\n",
       "        vertical-align: middle;\n",
       "    }\n",
       "\n",
       "    .dataframe tbody tr th {\n",
       "        vertical-align: top;\n",
       "    }\n",
       "\n",
       "    .dataframe thead th {\n",
       "        text-align: right;\n",
       "    }\n",
       "</style>\n",
       "<table border=\"1\" class=\"dataframe\">\n",
       "  <thead>\n",
       "    <tr style=\"text-align: right;\">\n",
       "      <th></th>\n",
       "      <th>id</th>\n",
       "      <th>full_log</th>\n",
       "    </tr>\n",
       "  </thead>\n",
       "  <tbody>\n",
       "    <tr>\n",
       "      <th>0</th>\n",
       "      <td>1000000</td>\n",
       "      <td>Feb  8 15:47:26 localhost kibana: {\"type\":\"err...</td>\n",
       "    </tr>\n",
       "    <tr>\n",
       "      <th>1</th>\n",
       "      <td>1000001</td>\n",
       "      <td>Sep 24 03:46:39 localhost kibana: {\"type\":\"err...</td>\n",
       "    </tr>\n",
       "    <tr>\n",
       "      <th>2</th>\n",
       "      <td>1000002</td>\n",
       "      <td>type=SYSCALL msg=audit(1611888200.428:210563):...</td>\n",
       "    </tr>\n",
       "    <tr>\n",
       "      <th>3</th>\n",
       "      <td>1000003</td>\n",
       "      <td>Jan 18 11:24:06 localhost kibana: {\"type\":\"err...</td>\n",
       "    </tr>\n",
       "    <tr>\n",
       "      <th>4</th>\n",
       "      <td>1000004</td>\n",
       "      <td>type=SYSCALL msg=audit(1603081202.050:46851): ...</td>\n",
       "    </tr>\n",
       "    <tr>\n",
       "      <th>...</th>\n",
       "      <td>...</td>\n",
       "      <td>...</td>\n",
       "    </tr>\n",
       "    <tr>\n",
       "      <th>1418911</th>\n",
       "      <td>2418911</td>\n",
       "      <td>Jan 13 05:07:11 localhost kibana: {\"type\":\"err...</td>\n",
       "    </tr>\n",
       "    <tr>\n",
       "      <th>1418912</th>\n",
       "      <td>2418912</td>\n",
       "      <td>Jan  5 02:24:50 localhost kibana: {\"type\":\"log...</td>\n",
       "    </tr>\n",
       "    <tr>\n",
       "      <th>1418913</th>\n",
       "      <td>2418913</td>\n",
       "      <td>type=SYSCALL msg=audit(1611884593.462:38222): ...</td>\n",
       "    </tr>\n",
       "    <tr>\n",
       "      <th>1418914</th>\n",
       "      <td>2418914</td>\n",
       "      <td>Jan 22 01:38:19 localhost logstash: [2021-01-2...</td>\n",
       "    </tr>\n",
       "    <tr>\n",
       "      <th>1418915</th>\n",
       "      <td>2418915</td>\n",
       "      <td>Sep 24 09:48:22 localhost kibana: {\"type\":\"err...</td>\n",
       "    </tr>\n",
       "  </tbody>\n",
       "</table>\n",
       "<p>1418916 rows × 2 columns</p>\n",
       "</div>"
      ],
      "text/plain": [
       "              id                                           full_log\n",
       "0        1000000  Feb  8 15:47:26 localhost kibana: {\"type\":\"err...\n",
       "1        1000001  Sep 24 03:46:39 localhost kibana: {\"type\":\"err...\n",
       "2        1000002  type=SYSCALL msg=audit(1611888200.428:210563):...\n",
       "3        1000003  Jan 18 11:24:06 localhost kibana: {\"type\":\"err...\n",
       "4        1000004  type=SYSCALL msg=audit(1603081202.050:46851): ...\n",
       "...          ...                                                ...\n",
       "1418911  2418911  Jan 13 05:07:11 localhost kibana: {\"type\":\"err...\n",
       "1418912  2418912  Jan  5 02:24:50 localhost kibana: {\"type\":\"log...\n",
       "1418913  2418913  type=SYSCALL msg=audit(1611884593.462:38222): ...\n",
       "1418914  2418914  Jan 22 01:38:19 localhost logstash: [2021-01-2...\n",
       "1418915  2418915  Sep 24 09:48:22 localhost kibana: {\"type\":\"err...\n",
       "\n",
       "[1418916 rows x 2 columns]"
      ]
     },
     "execution_count": 37,
     "metadata": {},
     "output_type": "execute_result"
    }
   ],
   "source": [
    "df"
   ]
  },
  {
   "cell_type": "markdown",
   "id": "f0158dbc-7df5-40b1-a9ca-aaf8990380e9",
   "metadata": {},
   "source": [
    "## 실험"
   ]
  },
  {
   "cell_type": "markdown",
   "id": "17aea789-4b6a-4a22-9384-10dea39286b6",
   "metadata": {},
   "source": [
    "### dist의 변화 폭이 가장 큰 것은?"
   ]
  },
  {
   "cell_type": "code",
   "execution_count": 22,
   "id": "be267369-bad8-4db9-9c7c-d54a727a90ef",
   "metadata": {},
   "outputs": [],
   "source": [
    "ddists = dists[:, 7] - dists[:, 0]"
   ]
  },
  {
   "cell_type": "code",
   "execution_count": 28,
   "id": "c074ded5-83fe-402f-8491-d48f5f1d9f4a",
   "metadata": {},
   "outputs": [
    {
     "data": {
      "text/plain": [
       "tensor(601290)"
      ]
     },
     "execution_count": 28,
     "metadata": {},
     "output_type": "execute_result"
    }
   ],
   "source": [
    "ddists.argmax()"
   ]
  },
  {
   "cell_type": "code",
   "execution_count": 30,
   "id": "b15e73a1-b1dd-4225-92a2-35698acfe997",
   "metadata": {},
   "outputs": [
    {
     "data": {
      "text/plain": [
       "tensor([0.0393, 5.0289, 5.3250, 9.8381, 9.8963, 9.8963, 9.8963, 9.8968])"
      ]
     },
     "execution_count": 30,
     "metadata": {},
     "output_type": "execute_result"
    }
   ],
   "source": [
    "dists[601290]"
   ]
  },
  {
   "cell_type": "code",
   "execution_count": 31,
   "id": "9036d8b9-c6b6-4542-8d5b-da84db18db1c",
   "metadata": {},
   "outputs": [
    {
     "data": {
      "text/plain": [
       "tensor(3)"
      ]
     },
     "execution_count": 31,
     "metadata": {},
     "output_type": "execute_result"
    }
   ],
   "source": [
    "tlevels[601290]"
   ]
  },
  {
   "cell_type": "code",
   "execution_count": 32,
   "id": "a087ab60-ae8c-45b3-88b5-2edf93c39bd8",
   "metadata": {},
   "outputs": [
    {
     "data": {
      "text/plain": [
       "tensor([ 0.2962, -0.0976, -8.0913, -1.0417, -8.2778, -2.7040, -8.2528])"
      ]
     },
     "execution_count": 32,
     "metadata": {},
     "output_type": "execute_result"
    }
   ],
   "source": [
    "fclevels[601290]"
   ]
  },
  {
   "cell_type": "code",
   "execution_count": 39,
   "id": "363e759b-580d-4966-8ee6-910c72f9ac53",
   "metadata": {},
   "outputs": [],
   "source": [
    "# 여기에서 이게 어떤 텍스트였는지 알 수 있다면 좋았을텐데...\n",
    "# 추가로 deck의 어떤 데이터를 가르키는지 볼 수 있으면? --> index를 저장하고, train/valid 데이터셋을 순서 랜덤하지 않게 만들었어야함"
   ]
  },
  {
   "cell_type": "code",
   "execution_count": 38,
   "id": "e8258478-7882-45bb-a772-869d3357d18f",
   "metadata": {},
   "outputs": [
    {
     "data": {
      "text/plain": [
       "'Oct 21 10:20:00 localhost suricata[1444]: [1:2010494:4] ET SCAN Multiple MySQL Login Failures Possible Brute Force Attempt [Classification: Attempted Information Leak] [Priority: 2] {TCP} 192.168.0.42:3306 -> 192.168.0.160:35798'"
      ]
     },
     "execution_count": 38,
     "metadata": {},
     "output_type": "execute_result"
    }
   ],
   "source": [
    "df.full_log[601290]"
   ]
  },
  {
   "cell_type": "code",
   "execution_count": null,
   "id": "dd944568-ea32-4d1e-b5a2-632ea698f850",
   "metadata": {},
   "outputs": [],
   "source": []
  }
 ],
 "metadata": {
  "kernelspec": {
   "display_name": "torch",
   "language": "python",
   "name": "torch"
  },
  "language_info": {
   "codemirror_mode": {
    "name": "ipython",
    "version": 3
   },
   "file_extension": ".py",
   "mimetype": "text/x-python",
   "name": "python",
   "nbconvert_exporter": "python",
   "pygments_lexer": "ipython3",
   "version": "3.7.9"
  }
 },
 "nbformat": 4,
 "nbformat_minor": 5
}
