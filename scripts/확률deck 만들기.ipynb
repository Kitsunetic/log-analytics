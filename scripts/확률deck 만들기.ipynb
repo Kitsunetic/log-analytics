{
 "cells": [
  {
   "cell_type": "code",
   "execution_count": 1,
   "metadata": {},
   "outputs": [
    {
     "name": "stdout",
     "output_type": "stream",
     "text": [
      "/home/shim/cev/dl/log-analytics\n"
     ]
    }
   ],
   "source": [
    "%load_ext lab_black\n",
    "%cd .."
   ]
  },
  {
   "cell_type": "code",
   "execution_count": 97,
   "metadata": {},
   "outputs": [],
   "source": [
    "import argparse\n",
    "import math\n",
    "import multiprocessing\n",
    "import sys\n",
    "from datetime import datetime\n",
    "from pathlib import Path\n",
    "from pprint import pformat\n",
    "\n",
    "import numpy as np\n",
    "import pandas as pd\n",
    "import torch\n",
    "import torch.nn as nn\n",
    "import torch.nn.functional as F\n",
    "import torch_optimizer\n",
    "import yaml\n",
    "from easydict import EasyDict\n",
    "from pytorch_transformers import (\n",
    "    BertForSequenceClassification,\n",
    "    BertTokenizer,\n",
    "    DistilBertForSequenceClassification,\n",
    "    DistilBertTokenizer,\n",
    "    RobertaForSequenceClassification,\n",
    "    RobertaTokenizer,\n",
    ")\n",
    "from sklearn.model_selection import StratifiedKFold\n",
    "from torch.optim import Adam, AdamW\n",
    "from torch.optim.lr_scheduler import ReduceLROnPlateau\n",
    "from torch.utils.data import DataLoader, Dataset\n",
    "from tqdm import tqdm\n",
    "from transformers import (\n",
    "    AlbertForSequenceClassification,\n",
    "    AlbertTokenizer,\n",
    "    DebertaForSequenceClassification,\n",
    "    DebertaTokenizer,\n",
    "    SqueezeBertTokenizer,\n",
    "    SqueezeBertForSequenceClassification,\n",
    "    XLNetTokenizer,\n",
    "    XLNetForSequenceClassification,\n",
    ")\n",
    "\n",
    "from datasets import load_test_data, load_train_data, MyDataset\n",
    "from utils import SAM, AverageMeter, CustomLogger, FocalLoss, seed_everything\n",
    "\n",
    "from main import MyTrainer\n",
    "from collections import defaultdict\n",
    "import matplotlib.pyplot as plt\n",
    "import random"
   ]
  },
  {
   "cell_type": "code",
   "execution_count": 21,
   "metadata": {},
   "outputs": [],
   "source": [
    "def get_dist(deck, feat, topk):\n",
    "    dist = torch.norm(deck - feat[None], dim=1, p=None)\n",
    "    knn = dist.topk(topk, largest=False)\n",
    "    values, indices = knn\n",
    "    return values, indices"
   ]
  },
  {
   "cell_type": "code",
   "execution_count": 3,
   "metadata": {},
   "outputs": [],
   "source": [
    "with open(\"config/distilbert-base-uncased.yaml\", \"r\") as f:\n",
    "    C = EasyDict(yaml.load(f, yaml.FullLoader))\n",
    "    C.result_dir = Path(C.result_dir)\n",
    "    C.dataset.dir = Path(C.dataset.dir)\n",
    "    seed_everything(C.seed, deterministic=False)"
   ]
  },
  {
   "cell_type": "code",
   "execution_count": 4,
   "metadata": {},
   "outputs": [
    {
     "data": {
      "text/plain": [
       "{'model': {'name': 'distilbert-base-uncased'},\n",
       " 'comment': None,\n",
       " 'result_dir': PosixPath('results/distilbert-base-uncased'),\n",
       " 'debug': False,\n",
       " 'seed': 20210425,\n",
       " 'train': {'SAM': False,\n",
       "  'folds': [1],\n",
       "  'checkpoints': [None],\n",
       "  'loss': {'name': 'focal', 'gamma': 2},\n",
       "  'optimizer': {'name': 'AdamW'},\n",
       "  'finetune': {'do': True, 'step1_epochs': 2, 'step2_epochs': 4},\n",
       "  'max_epochs': 10,\n",
       "  'lr': 1e-05,\n",
       "  'scheduler': {'name': 'ReduceLROnPlateau',\n",
       "   'params': {'factor': 0.5, 'patience': 3, 'verbose': True}}},\n",
       " 'dataset': {'dir': PosixPath('data/ori'), 'batch_size': 30, 'num_workers': 8}}"
      ]
     },
     "execution_count": 4,
     "metadata": {},
     "output_type": "execute_result"
    }
   ],
   "source": [
    "C"
   ]
  },
  {
   "cell_type": "code",
   "execution_count": 5,
   "metadata": {},
   "outputs": [
    {
     "name": "stdout",
     "output_type": "stream",
     "text": [
      "Load pretrained results/distilbert-base-uncased/distilbert-base-uncased-focal-AdamW-lr1e-05_1.pth\n"
     ]
    }
   ],
   "source": [
    "trainer = MyTrainer(C, 1, \"results/distilbert-base-uncased/distilbert-base-uncased-focal-AdamW-lr1e-05_1.pth\")"
   ]
  },
  {
   "cell_type": "code",
   "execution_count": 9,
   "metadata": {},
   "outputs": [
    {
     "data": {
      "text/plain": [
       "<torch.autograd.grad_mode.set_grad_enabled at 0x7ff752df0690>"
      ]
     },
     "execution_count": 9,
     "metadata": {},
     "output_type": "execute_result"
    }
   ],
   "source": [
    "model = trainer.model\n",
    "model.eval()\n",
    "torch.set_grad_enabled(False)"
   ]
  },
  {
   "cell_type": "code",
   "execution_count": 10,
   "metadata": {},
   "outputs": [],
   "source": [
    "activation = []\n",
    "\n",
    "\n",
    "def hook(model, input, output):\n",
    "    activation.append(output.detach().cpu())"
   ]
  },
  {
   "cell_type": "code",
   "execution_count": 13,
   "metadata": {},
   "outputs": [
    {
     "data": {
      "text/plain": [
       "<torch.utils.hooks.RemovableHandle at 0x7ff64bc2d790>"
      ]
     },
     "execution_count": 13,
     "metadata": {},
     "output_type": "execute_result"
    }
   ],
   "source": [
    "model.pre_classifier.register_forward_hook(hook)"
   ]
  },
  {
   "cell_type": "code",
   "execution_count": 14,
   "metadata": {},
   "outputs": [],
   "source": [
    "tds = trainer.tdl.dataset\n",
    "vds = trainer.vdl.dataset"
   ]
  },
  {
   "cell_type": "code",
   "execution_count": 15,
   "metadata": {},
   "outputs": [],
   "source": [
    "activation = []\n",
    "tlevels = []\n",
    "\n",
    "for i in range(100):\n",
    "    id, text, tlevel, otext = tds[i]\n",
    "    tlevels.append(tlevel)\n",
    "    model(text[None].cuda())"
   ]
  },
  {
   "cell_type": "code",
   "execution_count": 19,
   "metadata": {},
   "outputs": [],
   "source": [
    "deck = {\"feat\": torch.cat(activation), \"level\": torch.stack(tlevels)}"
   ]
  },
  {
   "cell_type": "code",
   "execution_count": 20,
   "metadata": {},
   "outputs": [
    {
     "data": {
      "text/plain": [
       "torch.Size([100, 768])"
      ]
     },
     "execution_count": 20,
     "metadata": {},
     "output_type": "execute_result"
    }
   ],
   "source": [
    "deck[\"feat\"].shape"
   ]
  },
  {
   "cell_type": "markdown",
   "metadata": {},
   "source": [
    "## 아무 train 데이터에선 어떻게 나오는지?"
   ]
  },
  {
   "cell_type": "code",
   "execution_count": 45,
   "metadata": {},
   "outputs": [],
   "source": [
    "activation = []\n",
    "id, text, tlevel, otext = tds[1000]\n",
    "model(text[None].cuda())\n",
    "pass"
   ]
  },
  {
   "cell_type": "code",
   "execution_count": 46,
   "metadata": {},
   "outputs": [],
   "source": [
    "values, indices = get_dist(deck[\"feat\"], activation[0][0], 10)"
   ]
  },
  {
   "cell_type": "code",
   "execution_count": 47,
   "metadata": {},
   "outputs": [
    {
     "data": {
      "text/plain": [
       "tensor([0.0751, 0.2143, 0.2428, 0.2469, 0.3457, 0.4287, 0.4842, 1.2297, 1.2361,\n",
       "        1.2682])"
      ]
     },
     "execution_count": 47,
     "metadata": {},
     "output_type": "execute_result"
    }
   ],
   "source": [
    "values"
   ]
  },
  {
   "cell_type": "code",
   "execution_count": 48,
   "metadata": {},
   "outputs": [
    {
     "data": {
      "text/plain": [
       "tensor([12, 68, 53, 65, 67, 74, 44, 52, 81, 95])"
      ]
     },
     "execution_count": 48,
     "metadata": {},
     "output_type": "execute_result"
    }
   ],
   "source": [
    "indices"
   ]
  },
  {
   "cell_type": "code",
   "execution_count": 49,
   "metadata": {},
   "outputs": [
    {
     "data": {
      "text/plain": [
       "tensor([0, 0, 0, 0, 0, 0, 0, 0, 0, 0])"
      ]
     },
     "execution_count": 49,
     "metadata": {},
     "output_type": "execute_result"
    }
   ],
   "source": [
    "deck[\"level\"][indices]"
   ]
  },
  {
   "cell_type": "markdown",
   "metadata": {},
   "source": [
    "TODO: train 데이터중에서도 0~1이랑 햇갈려하는게 몇개 있었는데, 그거 확인해봐야함"
   ]
  },
  {
   "cell_type": "markdown",
   "metadata": {},
   "source": [
    "## Level7이랑 어떻게 나오는지"
   ]
  },
  {
   "cell_type": "code",
   "execution_count": 56,
   "metadata": {},
   "outputs": [
    {
     "name": "stdout",
     "output_type": "stream",
     "text": [
      "tensor([1.3288, 1.3536, 1.3854, 1.3881, 1.4077])\n",
      "tensor([19, 34, 72, 13, 99])\n",
      "tensor([1, 1, 1, 1, 1])\n"
     ]
    }
   ],
   "source": [
    "id, text, otext = trainer.dl_test2.dataset[0]\n",
    "activation = []\n",
    "model(text[None].cuda())\n",
    "values, indices = get_dist(deck[\"feat\"], activation[0][0], 5)\n",
    "print(values)\n",
    "print(indices)\n",
    "print(deck[\"level\"][indices])"
   ]
  },
  {
   "cell_type": "code",
   "execution_count": 57,
   "metadata": {},
   "outputs": [
    {
     "name": "stdout",
     "output_type": "stream",
     "text": [
      "tensor([17.3320, 19.1922, 19.2110, 19.3582, 19.5117])\n",
      "tensor([77, 26, 33, 63, 85])\n",
      "tensor([1, 0, 1, 1, 0])\n"
     ]
    }
   ],
   "source": [
    "id, text, otext = trainer.dl_test2.dataset[1]\n",
    "activation = []\n",
    "model(text[None].cuda())\n",
    "values, indices = get_dist(deck[\"feat\"], activation[0][0], 5)\n",
    "print(values)\n",
    "print(indices)\n",
    "print(deck[\"level\"][indices])"
   ]
  },
  {
   "cell_type": "code",
   "execution_count": 58,
   "metadata": {},
   "outputs": [
    {
     "name": "stdout",
     "output_type": "stream",
     "text": [
      "tensor([7.1833, 7.3726, 7.4656, 7.4739, 7.4911])\n",
      "tensor([14, 31, 46, 93, 90])\n",
      "tensor([0, 0, 0, 0, 0])\n"
     ]
    }
   ],
   "source": [
    "id, text, otext = trainer.dl_test2.dataset[2]\n",
    "activation = []\n",
    "model(text[None].cuda())\n",
    "values, indices = get_dist(deck[\"feat\"], activation[0][0], 5)\n",
    "print(values)\n",
    "print(indices)\n",
    "print(deck[\"level\"][indices])"
   ]
  },
  {
   "cell_type": "markdown",
   "metadata": {},
   "source": [
    "## Train 데이터 deck 만들기"
   ]
  },
  {
   "cell_type": "code",
   "execution_count": 60,
   "metadata": {},
   "outputs": [
    {
     "name": "stdout",
     "output_type": "stream",
     "text": [
      "100%|██████████████████████████████████████████████████████| 378377/378377 [40:35<00:00, 155.38it/s]\n"
     ]
    }
   ],
   "source": [
    "activation = []\n",
    "tlevels = []\n",
    "with tqdm(total=len(trainer.tdl.dataset), ncols=100, file=sys.stdout) as t:\n",
    "    for id, text, tlevel, otext in trainer.tdl:\n",
    "        tlevels.append(tlevel)\n",
    "        model(text.cuda())\n",
    "        t.update(len(id))"
   ]
  },
  {
   "cell_type": "code",
   "execution_count": 65,
   "metadata": {},
   "outputs": [],
   "source": [
    "deck = {\"feat\": torch.cat(activation), \"level\": torch.cat(tlevels)}"
   ]
  },
  {
   "cell_type": "code",
   "execution_count": 66,
   "metadata": {},
   "outputs": [
    {
     "data": {
      "text/plain": [
       "(torch.Size([378377, 768]), torch.Size([378377]))"
      ]
     },
     "execution_count": 66,
     "metadata": {},
     "output_type": "execute_result"
    }
   ],
   "source": [
    "deck[\"feat\"].shape, deck[\"level\"].shape"
   ]
  },
  {
   "cell_type": "code",
   "execution_count": 67,
   "metadata": {},
   "outputs": [],
   "source": [
    "torch.save(deck, \"results/distilbert-base-uncased/distilbert-base-uncased-focal-AdamW-lr1e-05_1-deck.pth\")"
   ]
  },
  {
   "cell_type": "markdown",
   "metadata": {},
   "source": [
    "## 전체 deck에서 Level7이랑 어떻게 나오는지"
   ]
  },
  {
   "cell_type": "code",
   "execution_count": 68,
   "metadata": {},
   "outputs": [
    {
     "name": "stdout",
     "output_type": "stream",
     "text": [
      "tensor([0.8870, 0.8887, 0.9043, 0.9228, 0.9307])\n",
      "tensor([187668,  38585,  94760, 118164, 193103])\n",
      "tensor([1, 1, 1, 1, 1])\n"
     ]
    }
   ],
   "source": [
    "id, text, otext = trainer.dl_test2.dataset[0]\n",
    "activation = []\n",
    "model(text[None].cuda())\n",
    "values, indices = get_dist(deck[\"feat\"], activation[0][0], 5)\n",
    "print(values)\n",
    "print(indices)\n",
    "print(deck[\"level\"][indices])"
   ]
  },
  {
   "cell_type": "code",
   "execution_count": 80,
   "metadata": {},
   "outputs": [
    {
     "name": "stdout",
     "output_type": "stream",
     "text": [
      "tensor([2.9586, 3.1170, 3.1264, 3.1331, 3.1357])\n",
      "tensor([187749, 221362, 301898, 258427,  44913])\n",
      "tensor([3, 3, 3, 3, 3])\n"
     ]
    }
   ],
   "source": [
    "id, text, otext = trainer.dl_test2.dataset[1]\n",
    "activation = []\n",
    "model(text[None].cuda())\n",
    "values, indices = get_dist(deck[\"feat\"], activation[0][0], 5)\n",
    "print(values)\n",
    "print(indices)\n",
    "print(deck[\"level\"][indices])"
   ]
  },
  {
   "cell_type": "code",
   "execution_count": 81,
   "metadata": {},
   "outputs": [
    {
     "name": "stdout",
     "output_type": "stream",
     "text": [
      "tensor([3.5220, 3.5593, 3.5816, 3.6035, 3.6583])\n",
      "tensor([323923, 217243, 225248, 156748, 256758])\n",
      "tensor([0, 0, 0, 0, 0])\n"
     ]
    }
   ],
   "source": [
    "id, text, otext = trainer.dl_test2.dataset[2]\n",
    "activation = []\n",
    "model(text[None].cuda())\n",
    "values, indices = get_dist(deck[\"feat\"], activation[0][0], 5)\n",
    "print(values)\n",
    "print(indices)\n",
    "print(deck[\"level\"][indices])"
   ]
  },
  {
   "cell_type": "code",
   "execution_count": 79,
   "metadata": {},
   "outputs": [
    {
     "name": "stdout",
     "output_type": "stream",
     "text": [
      "tensor(0)\n",
      "tensor([0.0043, 0.0043, 0.0043, 0.0043, 0.0043])\n",
      "tensor([10, 19, 27, 57, 26])\n",
      "tensor([0, 0, 0, 0, 0])\n"
     ]
    }
   ],
   "source": [
    "activation = []\n",
    "id, text, tlevel, otext = vds[1005]\n",
    "model(text[None].cuda())\n",
    "values, indices = get_dist(deck[\"feat\"], activation[0][0], 5)\n",
    "print(tlevel)\n",
    "print(values)\n",
    "print(indices)\n",
    "print(deck[\"level\"][indices])"
   ]
  },
  {
   "cell_type": "code",
   "execution_count": 85,
   "metadata": {},
   "outputs": [],
   "source": [
    "data = np.load(\"results/distilbert-base-uncased/distilbert-base-uncased-focal-AdamW-lr1e-05_1-valid.npz\", allow_pickle=True)"
   ]
  },
  {
   "cell_type": "code",
   "execution_count": 131,
   "metadata": {},
   "outputs": [
    {
     "name": "stdout",
     "output_type": "stream",
     "text": [
      "tensor(1)\n",
      "tensor([0.0309, 0.0342, 0.0413, 0.0419, 0.0424])\n",
      "tensor([270788,  30202,  15762, 282319, 245663])\n",
      "tensor([1, 1, 1, 1, 1])\n"
     ]
    }
   ],
   "source": [
    "# level 1\n",
    "activation = []\n",
    "id, text, tlevel, otext = vds[random.choice(data[\"leveldic\"].item()[1])]\n",
    "model(text[None].cuda())\n",
    "values, indices = get_dist(deck[\"feat\"], activation[0][0], 5)\n",
    "print(tlevel)\n",
    "print(values)\n",
    "print(indices)\n",
    "print(deck[\"level\"][indices])"
   ]
  },
  {
   "cell_type": "code",
   "execution_count": 152,
   "metadata": {},
   "outputs": [
    {
     "name": "stdout",
     "output_type": "stream",
     "text": [
      "tensor(2)\n",
      "tensor([0.0765, 0.1138, 0.1471, 0.1519, 0.1554])\n",
      "tensor([359829, 226381, 250211, 235407,  14151])\n",
      "tensor([2, 2, 2, 2, 2])\n"
     ]
    }
   ],
   "source": [
    "# level 2\n",
    "activation = []\n",
    "id, text, tlevel, otext = vds[random.choice(data[\"leveldic\"].item()[2])]\n",
    "model(text[None].cuda())\n",
    "values, indices = get_dist(deck[\"feat\"], activation[0][0], 5)\n",
    "print(tlevel)\n",
    "print(values)\n",
    "print(indices)\n",
    "print(deck[\"level\"][indices])"
   ]
  },
  {
   "cell_type": "code",
   "execution_count": 154,
   "metadata": {},
   "outputs": [
    {
     "name": "stdout",
     "output_type": "stream",
     "text": [
      "tensor(3)\n",
      "tensor([0.0863, 0.1290, 0.1640, 0.1813, 0.3446])\n",
      "tensor([165023, 142063, 317437, 314570,  59031])\n",
      "tensor([3, 3, 3, 3, 3])\n"
     ]
    }
   ],
   "source": [
    "# level 3\n",
    "activation = []\n",
    "id, text, tlevel, otext = vds[random.choice(data[\"leveldic\"].item()[3])]\n",
    "model(text[None].cuda())\n",
    "values, indices = get_dist(deck[\"feat\"], activation[0][0], 5)\n",
    "print(tlevel)\n",
    "print(values)\n",
    "print(indices)\n",
    "print(deck[\"level\"][indices])"
   ]
  },
  {
   "cell_type": "code",
   "execution_count": 156,
   "metadata": {},
   "outputs": [
    {
     "name": "stdout",
     "output_type": "stream",
     "text": [
      "tensor(4)\n",
      "tensor([0.0044, 0.7365, 0.7365, 2.2895, 2.3222])\n",
      "tensor([ 61153, 180196, 276271, 302171, 204333])\n",
      "tensor([4, 4, 4, 4, 4])\n"
     ]
    }
   ],
   "source": [
    "# level 4\n",
    "activation = []\n",
    "id, text, tlevel, otext = vds[random.choice(data[\"leveldic\"].item()[4])]\n",
    "model(text[None].cuda())\n",
    "values, indices = get_dist(deck[\"feat\"], activation[0][0], 5)\n",
    "print(tlevel)\n",
    "print(values)\n",
    "print(indices)\n",
    "print(deck[\"level\"][indices])"
   ]
  },
  {
   "cell_type": "code",
   "execution_count": 158,
   "metadata": {},
   "outputs": [
    {
     "name": "stdout",
     "output_type": "stream",
     "text": [
      "tensor(5)\n",
      "tensor([0.0106, 0.0107, 0.1543, 0.1569, 0.1584])\n",
      "tensor([201502, 216081,  15429, 310271,  84694])\n",
      "tensor([5, 5, 5, 5, 5])\n"
     ]
    }
   ],
   "source": [
    "# level 5\n",
    "activation = []\n",
    "id, text, tlevel, otext = vds[random.choice(data[\"leveldic\"].item()[5])]\n",
    "model(text[None].cuda())\n",
    "values, indices = get_dist(deck[\"feat\"], activation[0][0], 5)\n",
    "print(tlevel)\n",
    "print(values)\n",
    "print(indices)\n",
    "print(deck[\"level\"][indices])"
   ]
  },
  {
   "cell_type": "code",
   "execution_count": 160,
   "metadata": {},
   "outputs": [
    {
     "name": "stdout",
     "output_type": "stream",
     "text": [
      "tensor(6)\n",
      "tensor([0.0034, 0.0034, 1.6767, 3.0890, 3.1557])\n",
      "tensor([134746, 305939,  76630, 199656, 114107])\n",
      "tensor([6, 6, 6, 6, 6])\n"
     ]
    }
   ],
   "source": [
    "# level 6\n",
    "activation = []\n",
    "id, text, tlevel, otext = vds[random.choice(data[\"leveldic\"].item()[6])]\n",
    "model(text[None].cuda())\n",
    "values, indices = get_dist(deck[\"feat\"], activation[0][0], 5)\n",
    "print(tlevel)\n",
    "print(values)\n",
    "print(indices)\n",
    "print(deck[\"level\"][indices])"
   ]
  },
  {
   "cell_type": "code",
   "execution_count": 184,
   "metadata": {},
   "outputs": [
    {
     "name": "stdout",
     "output_type": "stream",
     "text": [
      "tensor([0.0032, 0.0032, 0.0032, 0.0032, 0.0032])\n",
      "tensor([ 78, 139, 478, 716, 305])\n",
      "tensor([3, 3, 3, 3, 3])\n"
     ]
    }
   ],
   "source": [
    "# test\n",
    "activation = []\n",
    "id, text, otext = trainer.dl_test.dataset[18]\n",
    "model(text[None].cuda())\n",
    "values, indices = get_dist(deck[\"feat\"], activation[0][0], 5)\n",
    "print(values)\n",
    "print(indices)\n",
    "print(deck[\"level\"][indices])"
   ]
  },
  {
   "cell_type": "markdown",
   "metadata": {},
   "source": [
    "## 모든 valid를 돌렸을 때 top1이 몇이나 되는지 확인"
   ]
  },
  {
   "cell_type": "code",
   "execution_count": 303,
   "metadata": {},
   "outputs": [
    {
     "name": "stdout",
     "output_type": "stream",
     "text": [
      "100%|████████████████████████████████████████████████████████| 94595/94595 [04:38<00:00, 340.07it/s]\n"
     ]
    }
   ],
   "source": [
    "activation = []\n",
    "vlevels = []\n",
    "fc_level = []\n",
    "with tqdm(total=len(trainer.vdl.dataset), ncols=100, file=sys.stdout) as t:\n",
    "    for id, text, vlevel, otext in trainer.vdl:\n",
    "        vlevels.append(vlevel)\n",
    "        p = model(text.cuda())[0].cpu().argmax(dim=1)\n",
    "        fc_level.append(p)\n",
    "        t.update(len(id))"
   ]
  },
  {
   "cell_type": "code",
   "execution_count": 305,
   "metadata": {},
   "outputs": [],
   "source": [
    "fc_level = torch.cat(fc_level)"
   ]
  },
  {
   "cell_type": "code",
   "execution_count": 307,
   "metadata": {},
   "outputs": [],
   "source": [
    "vfeats = torch.cat(activation)\n",
    "vlevels = torch.cat(vlevels)"
   ]
  },
  {
   "cell_type": "code",
   "execution_count": 312,
   "metadata": {},
   "outputs": [
    {
     "data": {
      "text/plain": [
       "tensor(94425)"
      ]
     },
     "execution_count": 312,
     "metadata": {},
     "output_type": "execute_result"
    }
   ],
   "source": [
    "(vlevels == fc_level).sum()"
   ]
  },
  {
   "cell_type": "markdown",
   "metadata": {},
   "source": [
    "## FC로 정답을 틀린게 뭐가 있지?"
   ]
  },
  {
   "cell_type": "code",
   "execution_count": 316,
   "metadata": {},
   "outputs": [],
   "source": [
    "correct = fc_level == vlevels"
   ]
  },
  {
   "cell_type": "code",
   "execution_count": 317,
   "metadata": {},
   "outputs": [],
   "source": [
    "incorrect_indices = []\n",
    "for i, v in enumerate(correct):\n",
    "    if not v:\n",
    "        incorrect_indices.append(i)"
   ]
  },
  {
   "cell_type": "code",
   "execution_count": 321,
   "metadata": {},
   "outputs": [
    {
     "name": "stdout",
     "output_type": "stream",
     "text": [
      "tensor(5) tensor(0) level : 10, log : fru-name#fru-slot - command\n",
      "tensor(1) tensor(0) level : 5, log : Ignoring RADIUS server radius-server: unable to bind to source address source-address (error-message)\n",
      "tensor(1) tensor(0) level : 5, log : function-name operation failed for object-name: index1 index1 index2 index2 index3 index3 index4 index4 (error-message)\n",
      "tensor(1) tensor(0) level : 3, log : Client aborted login\n",
      "tensor(1) tensor(0) level : 5, log : Versions of BFD mirror software on Routing Engines are incompatible: error-message\n",
      "tensor(0) tensor(1) level : 5, log : License grace period for feature feature-name(feature-id) will expire in time (limit = maximum-value)\n",
      "tensor(1) tensor(0) level : 3, log : function-name: runtime was excessive (time) during action of module\n",
      "tensor(0) tensor(1) level : 5, log : Socket listen (server) failed unexpectedly. error-message\n",
      "tensor(1) tensor(0) level : 3, log : Unable to fork: error-message\n",
      "tensor(1) tensor(0) level : 5, log : Error transferring filename\n",
      "tensor(1) tensor(0) level : 5, log : Authentication failed due to license error. Total license failures count\n",
      "tensor(1) tensor(0) level : 3, log : JLOG test OK, jlog_handle=current-value\n",
      "tensor(5) tensor(0) oscap: ERROR: Timeout expired.\n",
      "tensor(1) tensor(0) level : 5, log : function-name: attempt to bring PIC pic-slot in FPC fpc-slot online timed out\n",
      "tensor(1) tensor(0) level : 3, log : Not enough memory for show command\n",
      "tensor(1) tensor(0) level : 5, log : Global limit on learned MAC addresses reached; current count is count\n",
      "tensor(1) tensor(0) level : 5, log : Graceful close of BEEP session failed\n",
      "tensor(1) tensor(0) level : 10, log : executable-name: invalid switch: option\n",
      "tensor(1) tensor(0) level : 5, log : Requested bandwidth unavailable for MPLS path pathname on LSP lsp-name\n",
      "tensor(1) tensor(0) level : 3, log : ***SCTP (type message-type source-address/source-port -> destination-address/destination-port) message\n",
      "tensor(1) tensor(0) level : 5, log : Assuming mastership\n",
      "tensor(1) tensor(0) level : 5, log : user-type User username EAP Logoff received from MacAddress mac-addresse interface interface-name vlan vlan-name while authenticated\n",
      "tensor(1) tensor(0) level : 3, log : Unable to allocate MLPPP bundle\n",
      "tensor(1) tensor(0) level : 3, log : Idle timeout for user 'username' exceeded and session terminated Description The indicated user's session was ended after a period of prolonged inactivity.\n",
      "tensor(1) tensor(0) level : 3, log : rad_auth_open failed: error-message\n",
      "tensor(1) tensor(0) level : 5, log : LSP checksum error, interface interface-name, LSP id lspl, sequence sequence-number, checksum checksum, lifetime duration\n",
      "tensor(1) tensor(0) level : 5, log : Child exec failed for command 'command': error-message\n",
      "tensor(1) tensor(0) level : 5, log : function-name: unable to connect to SNMP agent (pathname): error-message\n",
      "tensor(1) tensor(0) level : 3, log : Unable to assign L2TP pool address: pool pool-name is invalid or has no free addresses\n",
      "tensor(1) tensor(0) level : 3, log : Client aborted login\n",
      "tensor(0) tensor(1) level : %{rule.level}, log : %{log}\n",
      "tensor(5) tensor(0) level : 5, log : Chassis scheduler map incorrectly applied to interface interface-name: error-message\n",
      "tensor(1) tensor(0) level : 3, log : Aborting...A failure was encountered;error-message\n",
      "tensor(1) tensor(0) level : 5, log : Resumed adding MAC addresses learned from routing instance 'routing-instance'; current count is count\n",
      "tensor(1) tensor(0) level : 3, log : function-name: duplicate snmpid(snmp-interface-index) old ifname(interface-name.interface-unit) new ifname(new-interface-name.kernel-interface-unit)\n",
      "tensor(1) tensor(0) level : 5, log : Unable to obtain a lock on filename, program-name[pid] is still running\n",
      "tensor(1) tensor(0) level : 3, log : ERROR:error-message\n",
      "tensor(1) tensor(0) level : 5, log : IKE Phase-1 Failure: source-address [spi=destination-address, src_ip=error-message, dst_ip=data]\n",
      "tensor(1) tensor(0) level : 5, log : function-name: library-function-name failed on error-message socket (socket-option)\n",
      "tensor(0) tensor(1) level : 5, log : Dynamic config registration failed: error-message\n",
      "tensor(0) tensor(1) level : 3, log : getwd: error-message\n",
      "tensor(1) tensor(0) level : 5, log : syslog-prefix error-code: proto protocol-id (protocol-name), source-interface-nameseparatorsource-address:source-port -> destination-addressdestination-port, event-type\n",
      "tensor(1) tensor(0) level : 5, log : attack-name message: ip-address, zone name: source-zone-name, interface name: interface-name, action: action\n",
      "tensor(1) tensor(0) level : 5, log : syslog-prefix error-code: proto protocol-id (protocol-name), source-interface-nameseparatorsource-address:source-port -> destination-addressdestination-port, event-type\n",
      "tensor(1) tensor(0) level : 5, log : Previous loopback monitor failure no longer exist for redundancy-group rg-id\n",
      "tensor(1) tensor(0) level : 3, log : Unable to add route address/prefix-length asynchronously (gateway gateway-id [gateway-name], L2TP tunnel tunnel-id, session session-id): error-code\n",
      "tensor(1) tensor(0) level : 3, log : ifname: interface-name\n",
      "tensor(1) tensor(0) level : 5, log : Fchip (CB control-board-slot, ID fchip-id): link link-id failed because of error-message\n",
      "tensor(1) tensor(0) level : 3, log : Fabric fc-fabric-name fabric-wwn wwn is set\n",
      "tensor(0) tensor(1) level : 5, log : Maximum number of allowed FCoE filters (slot) reached for this slot maximum-value\n",
      "tensor(1) tensor(0) level : 3, log : Insufficient memory for operation operation\n",
      "tensor(1) tensor(0) level : 5, log : attack-name source: source-address, destination: destination-address, zone name: source-zone-name, interface name: interface-name, action: action\n",
      "tensor(5) tensor(3) oscap: msg: \"xccdf-overview\", scan-id: \"0001603156652\", content: \"ssg-centos-7-ds.xml\", benchmark-id: \"xccdf_org.ssgproject.content_benchmark_RHEL-7\", profile-id: \"xccdf_org.ssgproject.content_profile_common\", profile-title: \"Common Profile for General-Purpose Systems\", score: \"45.000000\".\n",
      "tensor(1) tensor(0) level : 3, log : function-name: attempt to bring fru-name fru-slot online timed out\n",
      "tensor(5) tensor(0) level : 3, log : Open file 'filename' closed due to process shutdown\n",
      "tensor(1) tensor(0) level : 5, log : function-name: unable to open connection to interface-name (error-message)\n",
      "tensor(5) tensor(3) oscap: msg: \"xccdf-overview\", scan-id: \"0001602724600\", content: \"ssg-centos-7-ds.xml\", benchmark-id: \"xccdf_org.ssgproject.content_benchmark_RHEL-7\", profile-id: \"xccdf_org.ssgproject.content_profile_common\", profile-title: \"Common Profile for General-Purpose Systems\", score: \"45.000000\".\n",
      "tensor(1) tensor(0) level : 2, log : AppTrack app update: source-address/source-port->destination-address/destination-port service-name application nested-application nat-source-address/nat-source-port->nat-destination-address/nat-destination-port src-nat-rule-name dst-nat-rule-name protocol-id policy-name source-zone-name destination-zone-name session-id-32 packets-from-client(bytes-from-client) packets-from-server(bytes-from-server) elapsed-time username roles\n",
      "tensor(3) tensor(0) juniper\n",
      "tensor(1) tensor(0) level : 5, log : syslog-prefix error-code: proto protocol-id (protocol-name), source-interface-nameseparatorsource-address:source-port -> destination-addressdestination-port, event-type\n",
      "tensor(1) tensor(0) level : 3, log : Module module failed to process dynamic configuration\n",
      "tensor(1) tensor(0) level : 3, log : Invalid XML encoding 'data', skipping to ';'\n",
      "tensor(1) tensor(0) level : 5, log : Unable to delete sample class: error-message (error-code)\n",
      "tensor(1) tensor(0) level : 5, log : syslog-prefix error-code: proto protocol-id (protocol-name), source-interface-nameseparatorsource-address:source-port -> destination-addressdestination-port, event-type\n",
      "tensor(1) tensor(0) level : 3, log : VRRP ad packet from ip-address received by interface interface-name.interface-unit for group vrrp-group-id was invalid: error-message\n",
      "tensor(1) tensor(0) level : 5, log : Unable to initialize voltage sensor for fru-name (group group-id, address address)\n",
      "tensor(1) tensor(0) level : 5, log : The combination of source-count count and source-increment ip-address causes some of the sources out of range.\n",
      "tensor(1) tensor(0) level : 5, log : Subcomponent could not read configuration database\n",
      "tensor(1) tensor(0) level : 5, log : Could not open configuration schema: error-message\n",
      "tensor(1) tensor(0) level : 5, log : Unable to execute policy 'policy-name' because current number of policies (count) exceeds system limit (limit)\n",
      "tensor(1) tensor(0) level : 3, log : Profile profile-name not found\n",
      "tensor(0) tensor(1) level : 5, log : Limit on learned MAC addresses reached for routing instance 'routing-instance', domain 'bridge-domain:vlan-id'; current count is count\n",
      "tensor(1) tensor(0) level : 4, log : Assertion failed executable-name[pid]: file source-filename\n",
      "tensor(1) tensor(0) level : 5, log : Unable to allocate memory for interface device root node: error-message\n",
      "tensor(5) tensor(0) level : 5, log : Error with rtsock: error-message\n",
      "tensor(1) tensor(0) level : 3, log : Following task failed : error-message\n",
      "tensor(1) tensor(0) level : 5, log : Encryption failure: error-message\n",
      "tensor(1) tensor(0) level : 5, log : The routing-instance name instance is reserved and cannot be used\n",
      "tensor(1) tensor(0) level : 5, log : Read error on pipe from ppmd: reason (error-message)\n",
      "tensor(1) tensor(0) level : 5, log : [lsys: logical-system-name] attack-name source: source-address, destination: destination-address, zone name: source-zone-name, interface name: interface-name, action: action\n",
      "tensor(1) tensor(0) level : 10, log : task-name stopped by SIGsignal-name\n",
      "tensor(1) tensor(0) level : 3, log : Command 'command' failed during rotation of file 'filename': error-message\n",
      "tensor(1) tensor(0) level : 5, log : Unable to add database entry for service-set: error-message\n",
      "tensor(1) tensor(0) level : 5, log : function-name: write error on pipe to ppmd (error-message)\n",
      "tensor(1) tensor(0) level : 5, log : Server failed to get an Access Manager license for username\n",
      "tensor(1) tensor(0) level : 3, log : Unable to open file 'filename': error-message\n",
      "tensor(1) tensor(0) level : 5, log : Unable to retrieve policy for Phase 2 from negotiation-role (Phase 1 local peer local-peer, remote peer remote-peer; Phase 2 local peer local-prefix, remote peer remote-prefix)\n",
      "tensor(1) tensor(0) level : 5, log : A PKI object was read into memory fro source-filename\n",
      "tensor(1) tensor(0) level : 5, log : abort executable-name[pid] version version built by builder on date: error-message\n",
      "tensor(1) tensor(0) level : 3, log : function-name: excessive runtime time during action of module\n",
      "tensor(1) tensor(0) level : 3, log : Task pthread worker creation failed\n",
      "tensor(0) tensor(1) level : 3, log : getwd: error-message\n",
      "tensor(1) tensor(0) level : 5, log : function-name operation failed for object-name: index1 index1 (error-message)\n",
      "tensor(0) tensor(1) level : 5, log : Received IPC message with incorrect subtype: message type message-type, subtype message-subtype, opcode operation-code, length length\n",
      "tensor(1) tensor(0) level : 5, log : OSPF neighbor neighbor-address (realm realm-name interface-name area area-idi) state changed from old-state to new-state due to event-name (event reason: reason)\n",
      "tensor(1) tensor(0) level : 5, log : PIC pic-slot in FPC fpc-slot (PIC type pic-type, version version) had hardware error\n",
      "tensor(5) tensor(0) level : 5, log : Unable to connect to fwauthd on socket file-descriptor: error-message\n",
      "tensor(1) tensor(0) level : 3, log : Too many arguments for child process 'command'\n",
      "tensor(1) tensor(0) level : 5, log : Unable to modify VPLS-related state: error-code (errno error-message)\n",
      "tensor(1) tensor(0) level : 5, log : Unable to allocate memory for interface interface-name\n",
      "tensor(3) tensor(0) level : 5, log : user-type User username non responsive host mac-addresse on interface interface-name moved to guest vlan vlan-name\n",
      "tensor(1) tensor(0) level : 3, log : User 'username' logout\n",
      "tensor(1) tensor(0) level : 5, log : Unable to add CoS profile profile-name (L2TP tunnel tunnel-id, session session-id): error-message\n",
      "tensor(0) tensor(1) level : 3, log : BFD session for Layer 2 VC vc-name went down\n",
      "tensor(5) tensor(0) level : 5, log : action error-code(error-message)\n",
      "tensor(0) tensor(1) level : 5, log : socket(arguments) failed: error-message\n",
      "tensor(1) tensor(0) level : 5, log : Exited with active tasks: task-name\n",
      "tensor(0) tensor(1) level : 5, log : Get session id client-session-id snapshot failed: error-code\n",
      "tensor(1) tensor(0) level : 3, log : Insufficient memory during operation\n",
      "tensor(1) tensor(0) level : 3, log : FRU fru-name is not supported in current slot\n",
      "tensor(1) tensor(0) level : 5, log : Instance mismatch for type (installed-firewall-name != deleted-firewall-name) hardware label index family protocol-family\n",
      "tensor(5) tensor(0) level : 5, log : function-name: failed in operation object-name: index (error-message)\n",
      "tensor(1) tensor(0) level : 3, log : Host destination-address, SYN-COOKIE protection activated\n",
      "tensor(5) tensor(0) level : 5, log : IS-IS Lisis-level LSP checksum error, interface interface-name, LSP id lspl, sequence sequence-number, checksum checksum, lifetime duration\n",
      "tensor(1) tensor(0) level : 5, log : Change in HA redundancy mode detected..please reboot all nodes in the cluster simultaneously!!\n",
      "tensor(1) tensor(0) level : 3, log : switch over\n",
      "tensor(1) tensor(0) level : 5, log : The combination of group-count count and group-increment ip-address causes some of the groups out of range.\n",
      "tensor(1) tensor(0) level : 3, log : Unable to fork task-name: error-message\n",
      "tensor(5) tensor(0) level : 5, log : FM: error-message errors occurred on link from F13SIBfrom-sfc-sib_SF1_from-fchip_s-port to F2-f2-sib_SFto-fchip_d-port on plane sib-plane\n",
      "tensor(1) tensor(0) level : 3, log : function-name: unable to find FPC for PIC attachment operation\n",
      "tensor(1) tensor(0) level : 5, log : Failed to add dynamic configuration session id client-session-id to interface interface-name.\n",
      "tensor(0) tensor(1) level : %{rule.level}, log : %{log}\n",
      "tensor(5) tensor(0) level : 5, log : Number of flows (currently current-flows) exceeded configured limit (maximum-value) count times in previous 60 seconds\n",
      "tensor(1) tensor(0) level : 5, log : function-name: maximum queue size exceeded (size), discarding trap to trap-destination from queue-name queue\n",
      "tensor(0) tensor(1) level : 3, log : socket: error-message\n",
      "tensor(5) tensor(0) level : 3, log : Unable to open file filename\n",
      "tensor(1) tensor(0) level : 5, log : NULL input argument : error-message\n",
      "tensor(1) tensor(0) level : 5, log : Listener source-address sent a leave to destination-address for group group-address source sender-address on interface interface-name at time\n",
      "tensor(3) tensor(0) level : 3, log : statfs() failed for pathname pathname: reason\n",
      "tensor(1) tensor(0) level : 5, log : Connection to management peer process-name timed out waiting for input\n",
      "tensor(1) tensor(0) level : 3, log : GENCFG mem alloc failed !!!\n",
      "tensor(1) tensor(0) level : 3, log : Internet Processor I does not support CoS-based forwarding\n",
      "tensor(1) tensor(0) level : 3, log : Unable to allocate socket address for rpd connection\n",
      "tensor(1) tensor(0) level : 5, log : Connection to management peer process-name timed out waiting for input\n",
      "tensor(1) tensor(0) level : 5, log : Unable to fetch boot time: error-message\n",
      "tensor(0) tensor(1) level : 3, log : Unable to create socket: error-message\n",
      "tensor(1) tensor(0) level : 5, log : sendmsg() from source-address to port destination-port at destination-address via routing instance routing-instance failed: error-message\n",
      "tensor(1) tensor(0) level : 5, log : Unable to establish mirror connection between Routing Engines: error-message\n",
      "tensor(1) tensor(0) level : 3, log : Unable to read voltage from fru-name (group group-id, address address, channel voltage-channel)\n",
      "tensor(1) tensor(0) level : 5, log : MAC limit (limit) exceeded at interface-name\n",
      "tensor(1) tensor(0) level : 5, log : function-name: reattempting connection to SNMP agent (pathname): error-message\n",
      "tensor(1) tensor(0) level : 3, log : function-name: FIFO read failed for HSR identifier\n",
      "tensor(0) tensor(1) level : 5, log : storm control is enabled for interface interface-name Description Log message to alert the user to the storm control setting.\n",
      "tensor(1) tensor(0) level : 3, log : No function callback for label removed event\n",
      "tensor(1) tensor(0) level : 5, log : Inconsistent payload lengths in Quick Mode responder life time notification from remote-address:remote-port\n",
      "tensor(1) tensor(0) level : 3, log : function-name: error-message\n",
      "tensor(1) tensor(0) level : 3, log : Upper limit reached in fsad for handling connections\n",
      "tensor(1) tensor(0) level : 5, log : user-type User username EAP Logoff received from MacAddress mac-addresse interface interface-name vlan vlan-name while authenticating\n",
      "tensor(1) tensor(0) level : 3, log : interface-name time\n",
      "tensor(1) tensor(0) level : 3, log : Unable to raise privilege level: error-message\n",
      "tensor(1) tensor(0) level : 5, log : Unable to obtain hostname for outgoing RADIUS message: error-message\n",
      "tensor(0) tensor(1) level : 5, log : COSMAN: classifier classifier-id-new for ifl index replaces classifer classifier-id-old still used\n",
      "tensor(1) tensor(0) level : 5, log : Unable to set retry timer for rtsock write operation: error-message\n",
      "tensor(1) tensor(0) level : 5, log : index Could not create analyzer error-message table\n",
      "tensor(1) tensor(0) level : 5, log : Set dynamic config context for profile profile-name session client-session-id failed\n",
      "tensor(1) tensor(0) level : 5, log : Tunnel created between gateway destination-address port destination-port relay source-address port source-port on interface interface-name at time\n",
      "tensor(1) tensor(0) level : 3, log : dfwd encountered errors while parsing filter index file\n",
      "tensor(1) tensor(0) level : 3, log : Policy policy-name violation occurred threshold times within time-period seconds\n",
      "tensor(0) tensor(1) level : 5, log : socket() failed operation: error-message\n",
      "tensor(5) tensor(0) level : 5, log : Fatal SNMP error occurred: error-message\n",
      "tensor(1) tensor(0) level : 5, log : DHCP failure-type-authentication failure for DHCPapplication client SDB session client-session-id on incoming interface interface-name\n",
      "tensor(1) tensor(0) level : 5, log : action error-code(error-message)\n",
      "tensor(0) tensor(1) level : 5, log : Unable to run in the background as daemon: error-message\n",
      "tensor(1) tensor(0) level : 3, log : error-code, error-message\n",
      "tensor(1) tensor(0) level : 2, log : AppTrack volume update: source-address/source-port->destination-address/destination-port service-name application nested-application nat-source-address/nat-source-port->nat-destination-address/nat-destination-port src-nat-rule-name dst-nat-rule-name protocol-id policy-name source-zone-name destination-zone-name session-id-32 packets-from-client(bytes-from-client) packets-from-server(bytes-from-server) elapsed-time username roles\n",
      "tensor(1) tensor(0) level : 3, log : JPTSPD disconnected to pic pic-name reason\n",
      "tensor(1) tensor(0) level : 3, log : Message: error-message\n",
      "tensor(1) tensor(0) level : 5, log : function-name: write error on pipe to ppmd (error-message)\n",
      "tensor(1) tensor(0) level : 5, log : Lsys logical-system-name: Authentication for user username at client-address was denied (long password).\n",
      "tensor(0) tensor(1) level : 5, log : Maximum number of allowed FCoE filters (slot) reached for this slot maximum-value\n"
     ]
    }
   ],
   "source": [
    "for i in incorrect_indices:\n",
    "    _, _, level, otext = trainer.vdl.dataset[i]\n",
    "    print(level, fc_level[i], otext)"
   ]
  },
  {
   "cell_type": "markdown",
   "metadata": {},
   "source": [
    "## 거리 재기"
   ]
  },
  {
   "cell_type": "code",
   "execution_count": 248,
   "metadata": {},
   "outputs": [
    {
     "data": {
      "text/plain": [
       "(tensor([0.0306, 0.0308, 0.0324, 0.0330, 0.0334, 0.0339, 0.0342, 0.0342, 0.0351,\n",
       "         0.0354]),\n",
       " tensor([183202, 154476, 359887,  51075, 252679, 120976, 136164, 339124, 168650,\n",
       "         136352]))"
      ]
     },
     "execution_count": 248,
     "metadata": {},
     "output_type": "execute_result"
    }
   ],
   "source": [
    "dist, index = get_dist(deck[\"feat\"], vfeats[5000], 10)\n",
    "dist, index"
   ]
  },
  {
   "cell_type": "code",
   "execution_count": 245,
   "metadata": {},
   "outputs": [
    {
     "data": {
      "text/plain": [
       "tensor([0, 0, 0, 0, 0, 0, 0, 0, 0, 0])"
      ]
     },
     "execution_count": 245,
     "metadata": {},
     "output_type": "execute_result"
    }
   ],
   "source": [
    "deck[\"level\"][index]"
   ]
  },
  {
   "cell_type": "code",
   "execution_count": 208,
   "metadata": {},
   "outputs": [],
   "source": [
    "tfeats_ = deck[\"feat\"].cuda()"
   ]
  },
  {
   "cell_type": "code",
   "execution_count": 211,
   "metadata": {},
   "outputs": [],
   "source": [
    "vfeats_ = vfeats.cuda()"
   ]
  },
  {
   "cell_type": "code",
   "execution_count": 279,
   "metadata": {},
   "outputs": [
    {
     "name": "stdout",
     "output_type": "stream",
     "text": [
      "100%|████████████████████████████████████████████████████████| 94595/94595 [09:29<00:00, 166.04it/s]\n"
     ]
    }
   ],
   "source": [
    "target_level, pred_level, pred_dist = [], [], []\n",
    "with tqdm(total=len(vfeats), ncols=100, file=sys.stdout) as t:\n",
    "    for vfeat_, vlevel in zip(vfeats_, vlevels):\n",
    "        dist_, index_ = get_dist(tfeats_, vfeat_, 1)\n",
    "        target_level.append(vlevel)\n",
    "        pred_level.append(deck[\"level\"][index_.cpu()])\n",
    "        pred_dist.append(dist_.cpu())\n",
    "\n",
    "        t.update()"
   ]
  },
  {
   "cell_type": "code",
   "execution_count": null,
   "metadata": {},
   "outputs": [],
   "source": [
    "pred_level = torch.cat(pred_level)"
   ]
  },
  {
   "cell_type": "code",
   "execution_count": 281,
   "metadata": {},
   "outputs": [],
   "source": [
    "target_level = torch.stack(target_level)"
   ]
  },
  {
   "cell_type": "code",
   "execution_count": 313,
   "metadata": {},
   "outputs": [
    {
     "data": {
      "text/plain": [
       "tensor(94361)"
      ]
     },
     "execution_count": 313,
     "metadata": {},
     "output_type": "execute_result"
    }
   ],
   "source": [
    "(pred_level == target_level).sum()"
   ]
  },
  {
   "cell_type": "code",
   "execution_count": 322,
   "metadata": {},
   "outputs": [],
   "source": [
    "dist_correct = pred_level == target_level"
   ]
  },
  {
   "cell_type": "code",
   "execution_count": 323,
   "metadata": {},
   "outputs": [],
   "source": [
    "dist_incorrect = []\n",
    "for i, v in enumerate(dist_correct):\n",
    "    if not v:\n",
    "        dist_incorrect.append(i)"
   ]
  },
  {
   "cell_type": "code",
   "execution_count": 325,
   "metadata": {},
   "outputs": [
    {
     "name": "stdout",
     "output_type": "stream",
     "text": [
      "tensor(5) tensor(0) level : 10, log : fru-name#fru-slot - command\n",
      "tensor(0) tensor(1) level : 3, log : reason: error-message\n",
      "tensor(0) tensor(1) level : 3, log : This is test alarm argument1 of argument2\n",
      "tensor(0) tensor(1) level : 5, log : Failed to open profile database: error-code\n",
      "tensor(0) tensor(1) level : 5, log : Unable to create session child: error-message\n",
      "tensor(0) tensor(1) level : 10, log : Key-Pair has been generated\n",
      "tensor(0) tensor(1) level : 5, log : Error reading midplane ID EEPROM, errno error-code\n",
      "tensor(1) tensor(0) level : 5, log : Ignoring RADIUS server radius-server: unable to bind to source address source-address (error-message)\n",
      "tensor(1) tensor(5) level : 5, log : function-name operation failed for object-name: index1 index1 index2 index2 index3 index3 index4 index4 (error-message)\n",
      "tensor(1) tensor(0) level : 3, log : Client aborted login\n",
      "tensor(1) tensor(0) level : 5, log : Versions of BFD mirror software on Routing Engines are incompatible: error-message\n",
      "tensor(0) tensor(1) level : 5, log : local discriminator: session-id, new state: state, peer addr: pip-interface\n",
      "tensor(0) tensor(1) level : 5, log : License grace period for feature feature-name(feature-id) will expire in time (limit = maximum-value)\n",
      "tensor(0) tensor(1) level : 5, log : Socket listen (server) failed unexpectedly. error-message\n",
      "tensor(0) tensor(1) level : 3, log : reason: error-message\n",
      "tensor(1) tensor(0) level : 3, log : Unable to fork: error-message\n",
      "tensor(1) tensor(0) level : 5, log : Error transferring filename\n",
      "tensor(1) tensor(0) level : 5, log : Authentication failed due to license error. Total license failures count\n",
      "tensor(5) tensor(0) oscap: ERROR: Timeout expired.\n",
      "tensor(1) tensor(5) level : 5, log : function-name: attempt to bring PIC pic-slot in FPC fpc-slot online timed out\n",
      "tensor(1) tensor(0) level : 3, log : Not enough memory for show command\n",
      "tensor(0) tensor(1) level : 3, log : Failed to attach shared memory\n",
      "tensor(0) tensor(1) level : 5, log : function-name: no ack received from fru-type for fru-name fru-slot state change (0xsent-mask, acks 0xack-mask)\n",
      "tensor(0) tensor(1) level : 5, log : Dynamic configuration entry for interface interface-name with session id client-session-id found an existing entry with a different session id of client-session-id-1.\n",
      "tensor(0) tensor(1) level : 3, log : Authentication succeded for user 'username' over IRI 'routing-instance' Description The jade authentication process authenticated the indicated user over IRI.\n",
      "tensor(0) tensor(1) level : 3, log : reason: error-message\n",
      "tensor(1) tensor(0) level : 5, log : Graceful close of BEEP session failed\n",
      "tensor(0) tensor(1) level : 5, log : Lsys logical-system-name: User username of group group-name at client-address is accepted.\n",
      "tensor(0) tensor(1) level : 3, log : Unable to select file descriptor for events event-id: error-message\n",
      "tensor(0) tensor(1) level : 5, log : Error executing command: no reply from the PIC\"\n",
      "tensor(1) tensor(0) level : 5, log : Assuming mastership\n",
      "tensor(1) tensor(0) level : 5, log : Usage: spd [-N] [-v] [-d debug-level]\n",
      "tensor(0) tensor(1) level : 3, log : Failed to action argument, error=error-code\n",
      "tensor(0) tensor(5) level : 5, log : attack-name source: source-address, zone name: source-zone-name, interface name: interface-name, action: action\n",
      "tensor(0) tensor(1) level : 5, log : Unable to fetch boot time: error-message\n",
      "tensor(1) tensor(0) level : 3, log : Idle timeout for user 'username' exceeded and session terminated Description The indicated user's session was ended after a period of prolonged inactivity.\n",
      "tensor(1) tensor(0) level : 3, log : rad_auth_open failed: error-message\n",
      "tensor(0) tensor(1) level : 5, log : Lsys logical-system-name: Number of sessions current-flows exceeded the high watermark limit. Early aging triggered.\n",
      "tensor(0) tensor(1) level : 3, log : Out of memory\n",
      "tensor(1) tensor(0) level : 5, log : LSP checksum error, interface interface-name, LSP id lspl, sequence sequence-number, checksum checksum, lifetime duration\n",
      "tensor(1) tensor(0) level : 5, log : Child exec failed for command 'command': error-message\n",
      "tensor(0) tensor(1) level : 5, log : Unable to initialize voltage sensor for fru-name (group group-id, address address)\n",
      "tensor(1) tensor(0) level : 5, log : function-name: unable to connect to SNMP agent (pathname): error-message\n",
      "tensor(0) tensor(1) level : 3, log : Unknown interface alarm type: alarm-type\n",
      "tensor(1) tensor(0) level : 3, log : Unable to assign L2TP pool address: pool pool-name is invalid or has no free addresses\n",
      "tensor(1) tensor(0) level : 3, log : Client aborted login\n",
      "tensor(0) tensor(1) level : %{rule.level}, log : %{log}\n",
      "tensor(5) tensor(1) level : 5, log : Chassis scheduler map incorrectly applied to interface interface-name: error-message\n",
      "tensor(0) tensor(1) level : 5, log : function-name: unable to delete session identifier from interface interface-name\n",
      "tensor(0) tensor(1) level : 3, log : evCreate failed with: error-message\n",
      "tensor(1) tensor(0) level : 5, log : Resumed adding MAC addresses learned from routing instance 'routing-instance'; current count is count\n",
      "tensor(1) tensor(0) level : 3, log : function-name: duplicate snmpid(snmp-interface-index) old ifname(interface-name.interface-unit) new ifname(new-interface-name.kernel-interface-unit)\n",
      "tensor(0) tensor(1) level : 3, log : This is test alarm argument1 of argument2\n",
      "tensor(0) tensor(1) level : 3, log : Database header size mismatch for file 'filename': expecting expected-valuex, got received-value\n",
      "tensor(1) tensor(0) level : 3, log : ERROR:error-message\n",
      "tensor(1) tensor(0) level : 5, log : Unable to add link: maximum number of sessions exceeded for MLPPP bundle bundle (L2TP tunnel tunnel-id, session session-id)\n",
      "tensor(1) tensor(0) level : 5, log : function-name: library-function-name failed on error-message socket (socket-option)\n",
      "tensor(0) tensor(5) level : 5, log : Dynamic config registration failed: error-message\n",
      "tensor(0) tensor(1) level : 5, log : Invalid username: username\n",
      "tensor(0) tensor(5) level : 3, log : getwd: error-message\n",
      "tensor(0) tensor(1) level : 3, log : function-name: reason: error-message\n",
      "tensor(0) tensor(1) level : 3, log : Unable to retrieve password during PPP authentication of user username\n",
      "tensor(0) tensor(1) level : 3, log : Login failed for user 'username' from host 'source-address'\n",
      "tensor(1) tensor(0) level : 5, log : syslog-prefix error-code: proto protocol-id (protocol-name), source-interface-nameseparatorsource-address:source-port -> destination-addressdestination-port, event-type\n",
      "tensor(1) tensor(0) level : 5, log : attack-name message: ip-address, zone name: source-zone-name, interface name: interface-name, action: action\n",
      "tensor(0) tensor(1) level : 5, log : IKE Phase-1 Failure: source-address [spi=destination-address, src_ip=error-message, dst_ip=data]\n",
      "tensor(1) tensor(0) level : 5, log : syslog-prefix error-code: proto protocol-id (protocol-name), source-interface-nameseparatorsource-address:source-port -> destination-addressdestination-port, event-type\n",
      "tensor(0) tensor(1) level : 5, log : APPID signature update license(ID=feature-id) has expired\n",
      "tensor(1) tensor(0) level : 5, log : Previous loopback monitor failure no longer exist for redundancy-group rg-id\n",
      "tensor(0) tensor(1) level : 5, log : The combination of group-count count and group-increment ip-address causes some of the groups out of range.\n",
      "tensor(0) tensor(1) level : 5, log : ssamlib call returned error : error-message\n",
      "tensor(0) tensor(1) level : 5, log : bind() to port port failed: error-message\n",
      "tensor(1) tensor(0) level : 3, log : Unable to add route address/prefix-length asynchronously (gateway gateway-id [gateway-name], L2TP tunnel tunnel-id, session session-id): error-code\n",
      "tensor(0) tensor(1) level : 3, log : Could not create entry for entry.\n",
      "tensor(0) tensor(1) level : 3, log : NETCONF error: error-message\n",
      "tensor(1) tensor(0) level : 3, log : ifname: interface-name\n",
      "tensor(0) tensor(1) level : 5, log : Using size KB of memory, percentage-value percent of available\n",
      "tensor(1) tensor(0) level : 5, log : Fchip (CB control-board-slot, ID fchip-id): link link-id failed because of error-message\n",
      "tensor(1) tensor(0) level : 3, log : Fabric fc-fabric-name fabric-wwn wwn is set\n",
      "tensor(0) tensor(5) level : 5, log : Dynamic config register failed: error-message\n",
      "tensor(0) tensor(1) level : 5, log : Fchip (CB control-board-slot, ID fchip-id): unable to lock PLL\n",
      "tensor(0) tensor(1) level : 5, log : Routing socket version mismatch (kernel kernel-version != rpd rpd-version) -- kernel upgrade required\n",
      "tensor(0) tensor(1) level : 5, log : Process could not connect to license-check in maximum-value tries; giving up\n",
      "tensor(5) tensor(3) oscap: msg: \"xccdf-overview\", scan-id: \"0001603156652\", content: \"ssg-centos-7-ds.xml\", benchmark-id: \"xccdf_org.ssgproject.content_benchmark_RHEL-7\", profile-id: \"xccdf_org.ssgproject.content_profile_common\", profile-title: \"Common Profile for General-Purpose Systems\", score: \"45.000000\".\n",
      "tensor(5) tensor(1) level : 3, log : Open file 'filename' closed due to process shutdown\n",
      "tensor(0) tensor(1) level : 3, log : pingCtlOwnerIndex = test-owner, pingCtlTestName = test-name\n",
      "tensor(5) tensor(3) oscap: msg: \"xccdf-overview\", scan-id: \"0001602724600\", content: \"ssg-centos-7-ds.xml\", benchmark-id: \"xccdf_org.ssgproject.content_benchmark_RHEL-7\", profile-id: \"xccdf_org.ssgproject.content_profile_common\", profile-title: \"Common Profile for General-Purpose Systems\", score: \"45.000000\".\n",
      "tensor(1) tensor(0) level : 2, log : AppTrack app update: source-address/source-port->destination-address/destination-port service-name application nested-application nat-source-address/nat-source-port->nat-destination-address/nat-destination-port src-nat-rule-name dst-nat-rule-name protocol-id policy-name source-zone-name destination-zone-name session-id-32 packets-from-client(bytes-from-client) packets-from-server(bytes-from-server) elapsed-time username roles\n",
      "tensor(3) tensor(0) juniper\n",
      "tensor(1) tensor(0) level : 5, log : syslog-prefix error-code: proto protocol-id (protocol-name), source-interface-nameseparatorsource-address:source-port -> destination-addressdestination-port, event-type\n",
      "tensor(1) tensor(0) level : 3, log : Module module failed to process dynamic configuration\n",
      "tensor(0) tensor(1) level : 5, log : bind() to port port failed: error-message\n",
      "tensor(0) tensor(1) level : 3, log : task-name terminated by SIGsignal-namecore-dump-status\n",
      "tensor(0) tensor(1) level : 3, log : traceRouteCtlOwnerIndex = test-owner, traceRouteCtlTestName = test-name\n",
      "tensor(0) tensor(1) level : 10, log : alarmd_send_msg: ipc_msg_write failed: error-message.\n",
      "tensor(1) tensor(0) level : 5, log : Unable to delete sample class: error-message (error-code)\n",
      "tensor(1) tensor(0) level : 5, log : syslog-prefix error-code: proto protocol-id (protocol-name), source-interface-nameseparatorsource-address:source-port -> destination-addressdestination-port, event-type\n",
      "tensor(1) tensor(0) level : 3, log : VRRP ad packet from ip-address received by interface interface-name.interface-unit for group vrrp-group-id was invalid: error-message\n",
      "tensor(0) tensor(1) level : 3, log : pingCtlOwnerIndex = test-owner, pingCtlTestName = test-name\n",
      "tensor(1) tensor(0) level : 5, log : The combination of source-count count and source-increment ip-address causes some of the sources out of range.\n",
      "tensor(0) tensor(1) level : 5, log : Number of queries (num-queries) in statistics request exceeded limit (max-queries)\n",
      "tensor(1) tensor(0) level : 5, log : Subcomponent could not read configuration database\n",
      "tensor(1) tensor(0) level : 5, log : Could not open configuration schema: error-message\n",
      "tensor(1) tensor(0) level : 5, log : Unable to execute policy 'policy-name' because current number of policies (count) exceeds system limit (limit)\n",
      "tensor(1) tensor(0) level : 3, log : Profile profile-name not found\n",
      "tensor(1) tensor(0) level : 4, log : Assertion failed executable-name[pid]: file source-filename\n",
      "tensor(0) tensor(1) level : 3, log : Lock not found on PID file filename\n",
      "tensor(1) tensor(0) level : 5, log : Unable to allocate memory for interface device root node: error-message\n",
      "tensor(0) tensor(1) level : 5, log : SHOW: Invalid query type received-value expecting expected-value\n",
      "tensor(5) tensor(0) level : 5, log : Error with rtsock: error-message\n",
      "tensor(1) tensor(0) level : 5, log : Encryption failure: error-message\n",
      "tensor(0) tensor(1) level : 5, log : function-name: SNMP trap error: trap-message (error-message)\n",
      "tensor(0) tensor(1) level : 5, log : UP route for interface interface-name index logical-interface-index address/prefix-length\n",
      "tensor(0) tensor(1) level : 5, log : Unable to create pipes for command 'command': error-message\n",
      "tensor(0) tensor(1) level : 3, log : reason: error-message\n",
      "tensor(0) tensor(1) level : 3, log : Username/password and token are username\n",
      "tensor(1) tensor(0) level : 5, log : Read error on pipe from ppmd: reason (error-message)\n",
      "tensor(1) tensor(0) level : 5, log : [lsys: logical-system-name] attack-name source: source-address, destination: destination-address, zone name: source-zone-name, interface name: interface-name, action: action\n",
      "tensor(0) tensor(1) level : 5, log : Unable to create pipe to Layer 2 address-learning manager: error-message\n",
      "tensor(1) tensor(0) level : 10, log : task-name stopped by SIGsignal-name\n",
      "tensor(0) tensor(1) level : 5, log : Fchip: configuration already completed\n",
      "tensor(1) tensor(0) level : 3, log : Command 'command' failed during rotation of file 'filename': error-message\n",
      "tensor(0) tensor(1) level : 5, log : Unable to open synchronous routing socket: error-message\n",
      "tensor(0) tensor(1) level : 3, log : Unable to find OID for PIC: i2c-id\n",
      "tensor(0) tensor(1) level : 3, log : chassisd MAC address allocation error for VLAN\n",
      "tensor(0) tensor(1) level : 3, log : Power supply pem-slot improper for platform\n",
      "tensor(0) tensor(1) level : 3, log : Unable to assign pool address for MLPPP bundle bundle (L2TP tunnel tunnel-id, session session-id)\n",
      "tensor(1) tensor(0) level : 5, log : Unable to add database entry for service-set: error-message\n",
      "tensor(1) tensor(0) level : 5, log : function-name: write error on pipe to ppmd (error-message)\n",
      "tensor(1) tensor(0) level : 5, log : Server failed to get an Access Manager license for username\n",
      "tensor(1) tensor(0) level : 5, log : Unable to retrieve policy for Phase 2 from negotiation-role (Phase 1 local peer local-peer, remote peer remote-peer; Phase 2 local peer local-prefix, remote peer remote-prefix)\n",
      "tensor(1) tensor(0) level : 5, log : A PKI object was read into memory fro source-filename\n",
      "tensor(1) tensor(0) level : 5, log : abort executable-name[pid] version version built by builder on date: error-message\n",
      "tensor(1) tensor(0) level : 3, log : function-name: excessive runtime time during action of module\n",
      "tensor(0) tensor(5) level : 3, log : getwd: error-message\n",
      "tensor(1) tensor(0) level : 5, log : function-name operation failed for object-name: index1 index1 (error-message)\n",
      "tensor(0) tensor(3) level : 5, log : Received IPC message with incorrect subtype: message type message-type, subtype message-subtype, opcode operation-code, length length\n",
      "tensor(0) tensor(1) level : 5, log : Dynamic config action busy signal failed: error-message\n",
      "tensor(1) tensor(0) level : 5, log : OSPF neighbor neighbor-address (realm realm-name interface-name area area-idi) state changed from old-state to new-state due to event-name (event reason: reason)\n",
      "tensor(0) tensor(1) level : 3, log : Unable to fork task-name: error-message\n",
      "tensor(0) tensor(1) level : 3, log : reason: error-message\n",
      "tensor(1) tensor(0) level : 5, log : PIC pic-slot in FPC fpc-slot (PIC type pic-type, version version) had hardware error\n",
      "tensor(0) tensor(1) level : 5, log : Unable to return logical interface to pool pool-name: pool not found\n",
      "tensor(5) tensor(1) level : 5, log : Unable to connect to fwauthd on socket file-descriptor: error-message\n",
      "tensor(1) tensor(0) level : 3, log : Too many arguments for child process 'command'\n",
      "tensor(0) tensor(1) level : 3, log : Could not create entry for entry.\n",
      "tensor(0) tensor(1) level : 5, log : Unexpected error from gettimeofday: error-code -- error-message\n",
      "tensor(0) tensor(1) level : 3, log : Unable to write to trace file filename\n",
      "tensor(1) tensor(0) level : 5, log : Unable to allocate memory for interface interface-name\n",
      "tensor(0) tensor(1) level : 5, log : Failed to create key for shared memory from the file filename\n",
      "tensor(0) tensor(1) level : 3, log : Blade slot load BBD falure: error-message\n",
      "tensor(0) tensor(1) level : 5, log : function-name: unable to allocate memory for interface-type interface\n",
      "tensor(0) tensor(1) level : 3, log : reason: error-message\n",
      "tensor(1) tensor(0) level : 3, log : File filename size (file-size) is smaller than record size (record-size)\n",
      "tensor(3) tensor(1) level : 5, log : user-type User username non responsive host mac-addresse on interface interface-name moved to guest vlan vlan-name\n",
      "tensor(1) tensor(0) level : 5, log : Unable to add CoS profile profile-name (L2TP tunnel tunnel-id, session session-id): error-message\n",
      "tensor(0) tensor(1) level : 3, log : Unable to add route in table table-name for label mpls-label pointing to interface-name\n",
      "tensor(0) tensor(1) level : 3, log : BFD session for Layer 2 VC vc-name went down\n",
      "tensor(5) tensor(0) level : 5, log : action error-code(error-message)\n",
      "tensor(0) tensor(1) level : 5, log : socket(arguments) failed: error-message\n",
      "tensor(1) tensor(0) level : 5, log : Exited with active tasks: task-name\n",
      "tensor(0) tensor(5) level : 3, log : function-name: runtime was excessive (total-time [user-time user, system-time system]) doing action\n",
      "tensor(1) tensor(0) level : 5, log : Instance mismatch for type (installed-firewall-name != deleted-firewall-name) hardware label index family protocol-family\n",
      "tensor(0) tensor(1) level : 3, log : dcd_config: errors while parsing configuration file\n",
      "tensor(5) tensor(0) level : 5, log : function-name: failed in operation object-name: index (error-message)\n",
      "tensor(0) tensor(1) level : 5, log : function-name: open error on pipe to protocol-name (error-message)\"\n",
      "tensor(0) tensor(1) level : 3, log : Unable to fork: too many child processes\n",
      "tensor(0) tensor(1) level : 3, log : Unable to open configuration file 'filename'\n",
      "tensor(1) tensor(0) level : 3, log : Host destination-address, SYN-COOKIE protection activated\n",
      "tensor(5) tensor(0) level : 5, log : IS-IS Lisis-level LSP checksum error, interface interface-name, LSP id lspl, sequence sequence-number, checksum checksum, lifetime duration\n",
      "tensor(1) tensor(0) level : 5, log : Change in HA redundancy mode detected..please reboot all nodes in the cluster simultaneously!!\n",
      "tensor(0) tensor(1) level : 5, log : Global limit on learned MAC addresses reached; current count is count\n",
      "tensor(0) tensor(1) level : 3, log : Policy warning: error-message\n",
      "tensor(0) tensor(1) level : 3, log : Unable to find OID for PIC: i2c-id\n",
      "tensor(0) tensor(1) level : 5, log : Unable to append to log 'filename': error-message\n",
      "tensor(0) tensor(1) level : 3, log : OSPF instance instance topology topology is going into overload state: number of export prefixes (count) exceeded maximum allowed (maximum-value)\n",
      "tensor(5) tensor(0) level : 5, log : FM: error-message errors occurred on link from F13SIBfrom-sfc-sib_SF1_from-fchip_s-port to F2-f2-sib_SFto-fchip_d-port on plane sib-plane\n",
      "tensor(0) tensor(1) level : 5, log : Unable to create event context: error-message\n",
      "tensor(0) tensor(1) level : 3, log : IP Monitor failure recovered for redundancy-group rg-id\n",
      "tensor(1) tensor(0) level : 3, log : function-name: unable to find FPC for PIC attachment operation\n",
      "tensor(1) tensor(0) level : 5, log : Failed to add dynamic configuration session id client-session-id to interface interface-name.\n",
      "tensor(0) tensor(1) level : %{rule.level}, log : %{log}\n",
      "tensor(5) tensor(1) level : 5, log : Number of flows (currently current-flows) exceeded configured limit (maximum-value) count times in previous 60 seconds\n",
      "tensor(0) tensor(1) level : 3, log : interface-name: bpdu-block enabled port\n",
      "tensor(1) tensor(0) level : 5, log : function-name: maximum queue size exceeded (size), discarding trap to trap-destination from queue-name queue\n",
      "tensor(0) tensor(1) level : 3, log : socket: error-message\n",
      "tensor(5) tensor(1) level : 3, log : Unable to open file filename\n",
      "tensor(0) tensor(5) level : 5, log : Connection attempt failed with fatal error: error-message\n",
      "tensor(0) tensor(1) level : 5, log : Switch slot communication error (error-message)\n",
      "tensor(0) tensor(1) level : 3, log : Unable to write to trace file filename\n",
      "tensor(1) tensor(0) level : 5, log : Listener source-address sent a leave to destination-address for group group-address source sender-address on interface interface-name at time\n",
      "tensor(3) tensor(0) level : 3, log : statfs() failed for pathname pathname: reason\n",
      "tensor(1) tensor(0) level : 5, log : Connection to management peer process-name timed out waiting for input\n",
      "tensor(1) tensor(0) level : 3, log : GENCFG mem alloc failed !!!\n",
      "tensor(0) tensor(1) level : 5, log : Dynamic configuration entry for interface interface-name with session id client-session-id found an existing entry with a different session id of client-session-id-1.\n",
      "tensor(1) tensor(0) level : 3, log : Internet Processor I does not support CoS-based forwarding\n",
      "tensor(1) tensor(0) level : 3, log : Unable to allocate socket address for rpd connection\n",
      "tensor(0) tensor(1) level : 5, log : Unable to set multilink Frame Relay UNI NNI bundles for PIC pic-slot in FPC fpc-slot\n",
      "tensor(1) tensor(0) level : 5, log : Connection to management peer process-name timed out waiting for input\n",
      "tensor(0) tensor(1) level : 5, log : Unable to establish mirror connection between Routing Engines: error-message\n",
      "tensor(0) tensor(1) level : 3, log : Re-configuration failed, using previous values\n",
      "tensor(0) tensor(1) level : 3, log : Resumed adding MAC addresses for router; current count is count\n",
      "tensor(1) tensor(0) level : 5, log : sendmsg() from source-address to port destination-port at destination-address via routing instance routing-instance failed: error-message\n",
      "tensor(1) tensor(0) level : 5, log : function-name: reattempting connection to SNMP agent (pathname): error-message\n",
      "tensor(0) tensor(1) level : 5, log : Fchips were not configured yet\n",
      "tensor(1) tensor(0) level : 3, log : function-name: FIFO read failed for HSR identifier\n",
      "tensor(0) tensor(1) level : 5, log : storm control is enabled for interface interface-name Description Log message to alert the user to the storm control setting.\n",
      "tensor(1) tensor(0) level : 5, log : Inconsistent payload lengths in Quick Mode responder life time notification from remote-address:remote-port\n",
      "tensor(1) tensor(0) level : 3, log : function-name: error-message\n",
      "tensor(0) tensor(1) level : 5, log : Received flowc IPC message with incorrect type: message type message-type, subtype message-subtype, opcode operation-code, length length\n",
      "tensor(1) tensor(0) level : 3, log : Upper limit reached in fsad for handling connections\n",
      "tensor(1) tensor(0) level : 3, log : Unable to raise privilege level: error-message\n",
      "tensor(0) tensor(1) level : 5, log : function-name: no ack received from fru-type for fru-name fru-slot state change (0xsent-mask, acks 0xack-mask)\n",
      "tensor(1) tensor(0) level : 5, log : Unable to obtain hostname for outgoing RADIUS message: error-message\n",
      "tensor(1) tensor(0) level : 5, log : Unable to set retry timer for rtsock write operation: error-message\n",
      "tensor(0) tensor(1) level : 5, log : Unable to obtain a lock on filename, is another copy of the process running?\n",
      "tensor(0) tensor(1) level : 5, log : Requested bandwidth unavailable for MPLS path pathname on LSP lsp-name\n",
      "tensor(0) tensor(1) level : 3, log : Failed to update application packge error-message\n",
      "tensor(0) tensor(1) level : 3, log : reason: index error-message\n",
      "tensor(1) tensor(0) level : 5, log : Tunnel created between gateway destination-address port destination-port relay source-address port source-port on interface interface-name at time\n",
      "tensor(0) tensor(1) level : 5, log : ieee-802.1 classifier is not valid on interface interface-name\n",
      "tensor(1) tensor(0) level : 3, log : dfwd encountered errors while parsing filter index file\n",
      "tensor(0) tensor(1) level : 5, log : socket() failed operation: error-message\n",
      "tensor(5) tensor(0) level : 5, log : Fatal SNMP error occurred: error-message\n",
      "tensor(1) tensor(0) level : 5, log : DHCP failure-type-authentication failure for DHCPapplication client SDB session client-session-id on incoming interface interface-name\n",
      "tensor(0) tensor(1) level : 5, log : Unable to obtain a lock on filename, is another copy of rpd running?\n",
      "tensor(1) tensor(0) level : 5, log : action error-code(error-message)\n",
      "tensor(0) tensor(5) level : 5, log : Unable to run in the background as daemon: error-message\n",
      "tensor(0) tensor(1) level : 5, log : Unable to locate interface for router solicitation from source-address to destination-address\n",
      "tensor(1) tensor(0) level : 3, log : error-code, error-message\n",
      "tensor(1) tensor(0) level : 3, log : JPTSPD disconnected to pic pic-name reason\n",
      "tensor(0) tensor(1) level : 3, log : Bandwidth in PATH Tspec greater than RESV flowspec for lsp-name\n",
      "tensor(1) tensor(0) level : 3, log : Message: error-message\n",
      "tensor(1) tensor(0) level : 5, log : function-name: write error on pipe to ppmd (error-message)\n"
     ]
    }
   ],
   "source": [
    "for i in dist_incorrect:\n",
    "    _, _, level, otext = trainer.vdl.dataset[i]\n",
    "    print(level, pred_level[i], otext)"
   ]
  },
  {
   "cell_type": "markdown",
   "metadata": {},
   "source": [
    "## KNN으로 하면 Validation 정확도가 더 나아지는지 확인\n",
    "\n",
    "어떻게 plevel을 결정할까?\n",
    "\n",
    "top1이 0.1미만이면 그 level로 결정하고, 0.1보다 크면 level 7로 하기?\n",
    "\n"
   ]
  },
  {
   "cell_type": "code",
   "execution_count": null,
   "metadata": {},
   "outputs": [],
   "source": []
  },
  {
   "cell_type": "markdown",
   "metadata": {},
   "source": [
    "## KNN으로 submission 제작"
   ]
  },
  {
   "cell_type": "code",
   "execution_count": null,
   "metadata": {},
   "outputs": [],
   "source": []
  }
 ],
 "metadata": {
  "kernelspec": {
   "display_name": "torch",
   "language": "python",
   "name": "torch"
  },
  "language_info": {
   "codemirror_mode": {
    "name": "ipython",
    "version": 3
   },
   "file_extension": ".py",
   "mimetype": "text/x-python",
   "name": "python",
   "nbconvert_exporter": "python",
   "pygments_lexer": "ipython3",
   "version": "3.7.9"
  }
 },
 "nbformat": 4,
 "nbformat_minor": 4
}
