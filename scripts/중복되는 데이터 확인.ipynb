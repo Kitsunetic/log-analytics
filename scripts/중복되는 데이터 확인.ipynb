{
 "cells": [
  {
   "cell_type": "code",
   "execution_count": 1,
   "id": "a65e75d4-dae5-47b6-9895-35de57c8b638",
   "metadata": {},
   "outputs": [
    {
     "name": "stdout",
     "output_type": "stream",
     "text": [
      "/home/shim/cev/dl/log-analytics\n"
     ]
    }
   ],
   "source": [
    "%load_ext lab_black\n",
    "%cd .."
   ]
  },
  {
   "cell_type": "code",
   "execution_count": 50,
   "id": "bc936bd9-6d80-4717-b4af-d1a43504efce",
   "metadata": {},
   "outputs": [],
   "source": [
    "import pandas as pd\n",
    "from datasets.dataset_ver5 import MyDatasetVer5\n",
    "from tqdm import tqdm\n",
    "import sys\n",
    "from collections import defaultdict"
   ]
  },
  {
   "cell_type": "code",
   "execution_count": 3,
   "id": "02e429f0-c3cc-4af7-a077-b13a992d79c2",
   "metadata": {},
   "outputs": [],
   "source": [
    "df = pd.read_csv(\"data/ori/train.csv\")"
   ]
  },
  {
   "cell_type": "code",
   "execution_count": 4,
   "id": "0241b43d-d5d4-48e6-bd6d-d0cb06855655",
   "metadata": {},
   "outputs": [],
   "source": [
    "# {텍스트: 레벨: 개수}\n",
    "db = {}"
   ]
  },
  {
   "cell_type": "code",
   "execution_count": 6,
   "id": "92067c0e-e421-4f78-82ca-1e5f6b4d3ca7",
   "metadata": {},
   "outputs": [
    {
     "name": "stdout",
     "output_type": "stream",
     "text": [
      "100%|████████████████████████████████████████████████████| 472972/472972 [00:42<00:00, 11111.45it/s]\n"
     ]
    }
   ],
   "source": [
    "with tqdm(total=len(df), ncols=100, file=sys.stdout) as t:\n",
    "    for i, (level, full_log) in enumerate(zip(df.level, df.full_log)):\n",
    "        text = MyDatasetVer5.refine_data(full_log)\n",
    "        if text not in db:\n",
    "            db[text] = {}\n",
    "        if level not in db[text]:\n",
    "            db[text][level] = {\"cnt\": 0, \"list\": []}\n",
    "        db[text][level][\"cnt\"] += 1\n",
    "        db[text][level][\"list\"].append(i)\n",
    "\n",
    "        t.update()"
   ]
  },
  {
   "cell_type": "code",
   "execution_count": 7,
   "id": "c3d19410-dd2d-47fb-8d03-96c9166ebeda",
   "metadata": {},
   "outputs": [],
   "source": [
    "keys = list(db.keys())"
   ]
  },
  {
   "cell_type": "code",
   "execution_count": 34,
   "id": "1556c4f6-4628-4b56-aca7-d9facfe72d7d",
   "metadata": {},
   "outputs": [
    {
     "data": {
      "text/plain": [
       "(152791, 472972)"
      ]
     },
     "execution_count": 34,
     "metadata": {},
     "output_type": "execute_result"
    }
   ],
   "source": [
    "len(keys), len(df)"
   ]
  },
  {
   "cell_type": "code",
   "execution_count": 31,
   "id": "113a7389-6ba9-43c4-8d52-f9db331ae352",
   "metadata": {},
   "outputs": [],
   "source": [
    "duples = {}\n",
    "for i, key in enumerate(keys):\n",
    "    if len(db[key]) != 1:\n",
    "        K = tuple(sorted(list(db[key].keys())))\n",
    "        if K not in duples:\n",
    "            duples[K] = []\n",
    "        duples[K].append(i)"
   ]
  },
  {
   "cell_type": "code",
   "execution_count": 32,
   "id": "eaef6bdf-dce3-4471-be12-20d1573e1a0d",
   "metadata": {},
   "outputs": [
    {
     "data": {
      "text/plain": [
       "dict_keys([(0, 1), (0, 5), (0, 3), (3, 5), (0, 1, 5), (1, 5), (1, 2)])"
      ]
     },
     "execution_count": 32,
     "metadata": {},
     "output_type": "execute_result"
    }
   ],
   "source": [
    "duples.keys()"
   ]
  },
  {
   "cell_type": "code",
   "execution_count": 36,
   "id": "959d6496-d246-455d-bac6-a475a5ac7161",
   "metadata": {},
   "outputs": [
    {
     "data": {
      "text/plain": [
       "[392, 903, 1002, 1158, 1216]"
      ]
     },
     "execution_count": 36,
     "metadata": {},
     "output_type": "execute_result"
    }
   ],
   "source": [
    "duples[(0, 1)][:5]"
   ]
  },
  {
   "cell_type": "code",
   "execution_count": 39,
   "id": "13212261-f7fa-4cee-bf5f-076264671a1a",
   "metadata": {},
   "outputs": [
    {
     "data": {
      "text/plain": [
       "{0: {'cnt': 1, 'list': [562]}, 1: {'cnt': 2, 'list': [383177, 389360]}}"
      ]
     },
     "execution_count": 39,
     "metadata": {},
     "output_type": "execute_result"
    }
   ],
   "source": [
    "db[keys[392]]"
   ]
  },
  {
   "cell_type": "markdown",
   "id": "0d5cf697-e838-4f9f-a8e1-0984425196dc",
   "metadata": {},
   "source": [
    "지금 상황에서는 중복되는 level을 갖는 데이터가 정확하게 어떤 level인지 알 방법이 없음.\n",
    "\n",
    "그러므로 수가 많은 쪽으로 가도록 하자"
   ]
  },
  {
   "cell_type": "code",
   "execution_count": 47,
   "id": "6dcf06c9-6630-409b-96bf-3b4533fccad2",
   "metadata": {},
   "outputs": [
    {
     "name": "stdout",
     "output_type": "stream",
     "text": [
      "100%|███████████████████████████████████████████████████| 152791/152791 [00:00<00:00, 931465.37it/s]\n"
     ]
    }
   ],
   "source": [
    "outdb = {\"level\": [], \"text\": []}\n",
    "with tqdm(total=len(keys), ncols=100, file=sys.stdout) as t:\n",
    "    for key in keys:\n",
    "        d = db[key]\n",
    "        if len(list(d.keys())) > 1:\n",
    "            # 가장 개수가 많은 level을 선택\n",
    "            cnts = sorted([(d[k][\"cnt\"], k) for k in d.keys()], reverse=True)\n",
    "\n",
    "            # 만약 개수가 같은게 있다면 가장 level이 작은 것을 선택\n",
    "            max_cnt = cnts[0][0]\n",
    "            same_ks = list(filter(lambda x: x[0] == max_cnt, cnts))\n",
    "            level = same_ks[-1][1]\n",
    "        else:\n",
    "            level = list(d.keys())[0]\n",
    "\n",
    "        outdb[\"level\"].append(level)\n",
    "        outdb[\"text\"].append(key)\n",
    "        t.update()"
   ]
  },
  {
   "cell_type": "code",
   "execution_count": 52,
   "id": "1edd8e2c-3f50-45f1-a24a-232043045617",
   "metadata": {},
   "outputs": [],
   "source": [
    "temp = defaultdict(int)\n",
    "for level in outdb[\"level\"]:\n",
    "    temp[level] += 1"
   ]
  },
  {
   "cell_type": "code",
   "execution_count": 53,
   "id": "c971b451-384b-489f-a2c2-5498835295cd",
   "metadata": {},
   "outputs": [
    {
     "data": {
      "text/plain": [
       "defaultdict(int, {0: 73084, 1: 77270, 3: 710, 5: 1704, 2: 11, 4: 4, 6: 8})"
      ]
     },
     "execution_count": 53,
     "metadata": {},
     "output_type": "execute_result"
    }
   ],
   "source": [
    "temp # 각 레벨별 데이터의 개수"
   ]
  },
  {
   "cell_type": "code",
   "execution_count": null,
   "id": "a063f8cd-aacc-4c21-8819-dcce0373dc2f",
   "metadata": {},
   "outputs": [],
   "source": []
  }
 ],
 "metadata": {
  "kernelspec": {
   "display_name": "torch",
   "language": "python",
   "name": "torch"
  },
  "language_info": {
   "codemirror_mode": {
    "name": "ipython",
    "version": 3
   },
   "file_extension": ".py",
   "mimetype": "text/x-python",
   "name": "python",
   "nbconvert_exporter": "python",
   "pygments_lexer": "ipython3",
   "version": "3.7.10"
  }
 },
 "nbformat": 4,
 "nbformat_minor": 5
}
