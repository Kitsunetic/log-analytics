{
 "cells": [
  {
   "cell_type": "code",
   "execution_count": 1,
   "id": "e7ce1f6b-6324-4a7d-a9f4-8e06fd1e2e62",
   "metadata": {},
   "outputs": [
    {
     "name": "stdout",
     "output_type": "stream",
     "text": [
      "/mnt/h/hev/log-analytics\n"
     ]
    }
   ],
   "source": [
    "%load_ext lab_black\n",
    "%cd .."
   ]
  },
  {
   "cell_type": "code",
   "execution_count": 2,
   "id": "c1f388f3-8f38-4409-9322-7bc129d52b10",
   "metadata": {},
   "outputs": [],
   "source": [
    "import pandas as pd\n",
    "import matplotlib.pyplot as plt\n",
    "import numpy as np\n",
    "\n",
    "import torch\n",
    "from torch.utils.data import Dataset, DataLoader\n",
    "from pytorch_transformers import (\n",
    "    BertTokenizer,\n",
    "    BertForSequenceClassification,\n",
    "    BertConfig,\n",
    ")\n",
    "from torch.optim import AdamW\n",
    "import torch.nn.functional as F\n",
    "from tqdm import tqdm\n",
    "import sys\n",
    "import re\n",
    "from collections import defaultdict"
   ]
  },
  {
   "cell_type": "code",
   "execution_count": 3,
   "id": "27dd9720-e11e-4635-b577-64ddf0f9151c",
   "metadata": {},
   "outputs": [],
   "source": [
    "def first_word(text, deli=\" \"):\n",
    "    for i, t in enumerate(text):\n",
    "        if t == deli:\n",
    "            break\n",
    "    return text[:i]"
   ]
  },
  {
   "cell_type": "code",
   "execution_count": 7,
   "id": "5df057c5-7be9-4d93-aeb3-dabb1e55fd00",
   "metadata": {},
   "outputs": [],
   "source": [
    "train = pd.read_csv(\"data/ori/test.csv\")"
   ]
  },
  {
   "cell_type": "code",
   "execution_count": 8,
   "id": "efc3369a-402d-47c7-b9fc-d14c48d2de89",
   "metadata": {},
   "outputs": [
    {
     "data": {
      "text/html": [
       "<div>\n",
       "<style scoped>\n",
       "    .dataframe tbody tr th:only-of-type {\n",
       "        vertical-align: middle;\n",
       "    }\n",
       "\n",
       "    .dataframe tbody tr th {\n",
       "        vertical-align: top;\n",
       "    }\n",
       "\n",
       "    .dataframe thead th {\n",
       "        text-align: right;\n",
       "    }\n",
       "</style>\n",
       "<table border=\"1\" class=\"dataframe\">\n",
       "  <thead>\n",
       "    <tr style=\"text-align: right;\">\n",
       "      <th></th>\n",
       "      <th>id</th>\n",
       "      <th>full_log</th>\n",
       "    </tr>\n",
       "  </thead>\n",
       "  <tbody>\n",
       "    <tr>\n",
       "      <th>0</th>\n",
       "      <td>1000000</td>\n",
       "      <td>Feb  8 15:47:26 localhost kibana: {\"type\":\"err...</td>\n",
       "    </tr>\n",
       "    <tr>\n",
       "      <th>1</th>\n",
       "      <td>1000001</td>\n",
       "      <td>Sep 24 03:46:39 localhost kibana: {\"type\":\"err...</td>\n",
       "    </tr>\n",
       "    <tr>\n",
       "      <th>2</th>\n",
       "      <td>1000002</td>\n",
       "      <td>type=SYSCALL msg=audit(1611888200.428:210563):...</td>\n",
       "    </tr>\n",
       "    <tr>\n",
       "      <th>3</th>\n",
       "      <td>1000003</td>\n",
       "      <td>Jan 18 11:24:06 localhost kibana: {\"type\":\"err...</td>\n",
       "    </tr>\n",
       "    <tr>\n",
       "      <th>4</th>\n",
       "      <td>1000004</td>\n",
       "      <td>type=SYSCALL msg=audit(1603081202.050:46851): ...</td>\n",
       "    </tr>\n",
       "    <tr>\n",
       "      <th>...</th>\n",
       "      <td>...</td>\n",
       "      <td>...</td>\n",
       "    </tr>\n",
       "    <tr>\n",
       "      <th>1418911</th>\n",
       "      <td>2418911</td>\n",
       "      <td>Jan 13 05:07:11 localhost kibana: {\"type\":\"err...</td>\n",
       "    </tr>\n",
       "    <tr>\n",
       "      <th>1418912</th>\n",
       "      <td>2418912</td>\n",
       "      <td>Jan  5 02:24:50 localhost kibana: {\"type\":\"log...</td>\n",
       "    </tr>\n",
       "    <tr>\n",
       "      <th>1418913</th>\n",
       "      <td>2418913</td>\n",
       "      <td>type=SYSCALL msg=audit(1611884593.462:38222): ...</td>\n",
       "    </tr>\n",
       "    <tr>\n",
       "      <th>1418914</th>\n",
       "      <td>2418914</td>\n",
       "      <td>Jan 22 01:38:19 localhost logstash: [2021-01-2...</td>\n",
       "    </tr>\n",
       "    <tr>\n",
       "      <th>1418915</th>\n",
       "      <td>2418915</td>\n",
       "      <td>Sep 24 09:48:22 localhost kibana: {\"type\":\"err...</td>\n",
       "    </tr>\n",
       "  </tbody>\n",
       "</table>\n",
       "<p>1418916 rows × 2 columns</p>\n",
       "</div>"
      ],
      "text/plain": [
       "              id                                           full_log\n",
       "0        1000000  Feb  8 15:47:26 localhost kibana: {\"type\":\"err...\n",
       "1        1000001  Sep 24 03:46:39 localhost kibana: {\"type\":\"err...\n",
       "2        1000002  type=SYSCALL msg=audit(1611888200.428:210563):...\n",
       "3        1000003  Jan 18 11:24:06 localhost kibana: {\"type\":\"err...\n",
       "4        1000004  type=SYSCALL msg=audit(1603081202.050:46851): ...\n",
       "...          ...                                                ...\n",
       "1418911  2418911  Jan 13 05:07:11 localhost kibana: {\"type\":\"err...\n",
       "1418912  2418912  Jan  5 02:24:50 localhost kibana: {\"type\":\"log...\n",
       "1418913  2418913  type=SYSCALL msg=audit(1611884593.462:38222): ...\n",
       "1418914  2418914  Jan 22 01:38:19 localhost logstash: [2021-01-2...\n",
       "1418915  2418915  Sep 24 09:48:22 localhost kibana: {\"type\":\"err...\n",
       "\n",
       "[1418916 rows x 2 columns]"
      ]
     },
     "execution_count": 8,
     "metadata": {},
     "output_type": "execute_result"
    }
   ],
   "source": [
    "train"
   ]
  },
  {
   "cell_type": "code",
   "execution_count": 10,
   "id": "2ff6e799-23de-4f9f-abf0-901489ab0235",
   "metadata": {},
   "outputs": [],
   "source": [
    "seasons = [\"Jan\", \"Feb\", \"Mar\", \"Apr\", \"May\", \"Jun\", \"Jul\", \"Aug\", \"Sep\", \"Oct\", \"Nov\", \"Dec\"]"
   ]
  },
  {
   "cell_type": "markdown",
   "id": "92d4fd40-42a4-4eb7-a36f-ca1c1a231e25",
   "metadata": {},
   "source": [
    "### 날짜 제거?\n",
    "\n",
    "만약에 날짜 정보를 제거하면 첫 단어가 어떻게 될지?"
   ]
  },
  {
   "cell_type": "code",
   "execution_count": 13,
   "id": "322105a8-bfac-4931-91c0-8a94633f45e7",
   "metadata": {},
   "outputs": [],
   "source": [
    "def remove_pattern(pattern, full_log):\n",
    "    for s in re.finditer(pattern, full_log):\n",
    "        a, b = s.span()\n",
    "        full_log = (full_log[:a] + full_log[b:]).strip()\n",
    "    return full_log"
   ]
  },
  {
   "cell_type": "code",
   "execution_count": 14,
   "id": "88427532-2b68-4b14-9a90-ac9902f96af7",
   "metadata": {},
   "outputs": [],
   "source": [
    "def remove_date(full_log):\n",
    "    t = first_word(full_log)\n",
    "    if len(t) == 4 and t.isdigit() and t[:2] in (\"19\", \"20\", \"21\"):\n",
    "        full_log = full_log[5:].strip()\n",
    "\n",
    "    t = first_word(full_log)\n",
    "    if len(t) == 3 and t in seasons:\n",
    "        full_log = full_log[4:].strip()\n",
    "\n",
    "        t = first_word(full_log)\n",
    "        if t.isdigit():\n",
    "            full_log = full_log[len(t) + 1 :].strip()\n",
    "\n",
    "    # 00:00:00 형식의 시간 이면?\n",
    "    if re.match(r\"\\d{2}:\\d{2}:\\d{2}\", full_log):\n",
    "        full_log = full_log[9:].strip()\n",
    "\n",
    "    if full_log.startswith(\"localhost\"):\n",
    "        full_log = full_log[10:].strip()\n",
    "\n",
    "    # sshd[pid] 에서 pid 제거\n",
    "    # t = first_word(full_log)\n",
    "    # if re.match(r\"[\\w\\d]+\\[\\d+\\]\", t):\n",
    "    #    u = first_word(t, deli=\"[\")\n",
    "    #    full_log = (u + \" \" + full_log[len(t) + 1 :]).strip()\n",
    "\n",
    "    # @timestamp: \"~~~~Z\"\n",
    "    full_log = remove_pattern(r'\"@timestamp\"\\s?:\\s?\"\\d{4}-\\d{2}-\\d{2}T\\d{2}:\\d{2}:\\d{2}Z?\",?', full_log)\n",
    "    # \"pid\": \"4567\"\n",
    "    full_log = remove_pattern(r'\"pid\"\\s?:\\s?\\d+,?', full_log)\n",
    "    # [pid]\n",
    "    full_log = remove_pattern(r\"\\[\\d+\\]\", full_log)\n",
    "\n",
    "    full_log = full_log.replace(\"\\n\", \" \")\n",
    "    full_log = full_log.replace(\"\\r\", \" \")\n",
    "    full_log = re.sub(r\"\\s+\", \" \", full_log)\n",
    "\n",
    "    return full_log"
   ]
  },
  {
   "cell_type": "code",
   "execution_count": 16,
   "id": "41590f71-3b5f-4f0b-9944-a9b136fdbb03",
   "metadata": {},
   "outputs": [
    {
     "name": "stdout",
     "output_type": "stream",
     "text": [
      "100%|██████████████████████████████████████████████████| 1418916/1418916 [02:07<00:00, 11091.51it/s]\n"
     ]
    }
   ],
   "source": [
    "first_words = set()\n",
    "for row, (id, full_log) in tqdm(train.iterrows(), total=len(train), ncols=100, file=sys.stdout):\n",
    "    full_log = remove_date(full_log)\n",
    "    t = first_word(full_log)\n",
    "    first_words.add(t)\n",
    "    # break"
   ]
  },
  {
   "cell_type": "code",
   "execution_count": 17,
   "id": "06df86f7-6d44-4bb1-8432-4a5ecee61c4d",
   "metadata": {},
   "outputs": [
    {
     "data": {
      "text/plain": [
       "{'--MARK--:',\n",
       " 'E:',\n",
       " 'File',\n",
       " 'NTFS',\n",
       " 'OpenSCAP',\n",
       " 'System',\n",
       " 'The',\n",
       " 'Trojaned',\n",
       " 'WinEvtLog:',\n",
       " 'Windows',\n",
       " 'auditd:',\n",
       " 'augenrules:',\n",
       " 'com.redhat.imsettings:',\n",
       " 'dbus-daemon:',\n",
       " 'dbus:',\n",
       " 'elasticsearch:',\n",
       " 'env:',\n",
       " 'error:',\n",
       " 'esild-ml-start.sh:',\n",
       " 'firefox.desktop:',\n",
       " 'gdm-password]:',\n",
       " 'gnome-session-binary:',\n",
       " 'groupadd:',\n",
       " 'imsettings-start.desktop:',\n",
       " 'journal:',\n",
       " 'junipe',\n",
       " 'kdumpctl:',\n",
       " 'kernel:',\n",
       " 'kibana:',\n",
       " 'level',\n",
       " 'libcanberra-login-sound.desktop:',\n",
       " 'libvirtd:',\n",
       " 'logstash:',\n",
       " 'm2datateksolaris',\n",
       " 'mcelog:',\n",
       " 'node:',\n",
       " 'oscap:',\n",
       " 'ossec:',\n",
       " 'polkitd:',\n",
       " 'postfix/master:',\n",
       " 'pulseaudio:',\n",
       " 'rc.local:',\n",
       " 'reload_microcode:',\n",
       " 'sshd:',\n",
       " 'su:',\n",
       " 'sudo:',\n",
       " 'suricata:',\n",
       " 'sv260',\n",
       " 'systemd:',\n",
       " 'type=ANOM_ABEND',\n",
       " 'type=ANOM_PROMISCUOUS',\n",
       " 'type=AVC',\n",
       " 'type=SYSCALL',\n",
       " 'type=USER_AVC',\n",
       " 'unix_chkpwd:',\n",
       " 'useradd:',\n",
       " 'userdel:',\n",
       " 'yum:'}"
      ]
     },
     "execution_count": 17,
     "metadata": {},
     "output_type": "execute_result"
    }
   ],
   "source": [
    "first_words"
   ]
  },
  {
   "cell_type": "markdown",
   "id": "35d4ddee-277d-48a3-8b91-8cde8087f1f9",
   "metadata": {},
   "source": [
    "\"E:\"는 아마도 ERROR 라는 뜻인듯?\n",
    "\n",
    "logstach, kibana 관련 오류는 수는 많은데 전부 0임.\n",
    "\n",
    "sshd가 가장 다양하게 갖고있고, --> 레벨별로 메세지 정리해서 확인해보기\n",
    "\n",
    "System, Windows 같은거는 1정도를 갖는듯?\n",
    "\n",
    "되도록 학습으로 처리해달라고 한 이유는, kibana, logstash라도 1 이상의 상활이 혹시 발생할지 모르기 때문이 아닐지?\n",
    "그러면 최종 결과에 weight를 주는 방법으로?"
   ]
  },
  {
   "cell_type": "code",
   "execution_count": 204,
   "id": "8741ef6b-1287-4e3d-b3dc-638fee0b4af8",
   "metadata": {},
   "outputs": [],
   "source": [
    "i = 0"
   ]
  },
  {
   "cell_type": "code",
   "execution_count": 218,
   "id": "15e65cce-7c26-4976-bfd1-f241fa4d181c",
   "metadata": {},
   "outputs": [
    {
     "name": "stdout",
     "output_type": "stream",
     "text": [
      "1 type=SYSCALL msg=audit(1611889244.855:247124): arch=c000003e syscall=2 success=yes exit=3 a0=7f1c14d535a4 a1=80000 a2=1 a3=7f1c14f594f8 items=1 ppid=100038 pid=100039 auid=4294967295 uid=0 gid=980 euid=0 suid=0 fsuid=0 egid=980 sgid=980 fsgid=980 tty=(none) ses=4294967295 comm=\"ps\" exe=\"/usr/bin/ps\" subj=system_u:system_r:unconfined_service_t:s0 key=\"audit-wazuh-r\" type=CWD msg=audit(1611889244.855:247124): cwd=\"/\" type=PATH msg=audit(1611889244.855:247124): item=0 name=\"/etc/ld.so.cache\" inode=35395307 dev=fd:00 mode=0100644 ouid=0 ogid=0 rdev=00:00 obj=unconfined_u:object_r:ld_so_cache_t:s0 objtype=NORMAL cap_fp=0000000000000000 cap_fi=0000000000000000 cap_fe=0 cap_fver=0 type=PROCTITLE msg=audit(1611889244.855:247124): proctitle=2F62696E2F7073002D700032353336\n"
     ]
    }
   ],
   "source": [
    "print(train.level[i], remove_date(train.full_log[i]))\n",
    "i += 1"
   ]
  },
  {
   "cell_type": "code",
   "execution_count": null,
   "id": "d0fc5fff-ba63-43b4-a319-df03d6c161b6",
   "metadata": {},
   "outputs": [],
   "source": []
  }
 ],
 "metadata": {
  "kernelspec": {
   "display_name": "torch",
   "language": "python",
   "name": "torch"
  },
  "language_info": {
   "codemirror_mode": {
    "name": "ipython",
    "version": 3
   },
   "file_extension": ".py",
   "mimetype": "text/x-python",
   "name": "python",
   "nbconvert_exporter": "python",
   "pygments_lexer": "ipython3",
   "version": "3.7.9"
  }
 },
 "nbformat": 4,
 "nbformat_minor": 5
}
