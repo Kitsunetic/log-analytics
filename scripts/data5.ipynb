{
 "cells": [
  {
   "cell_type": "code",
   "execution_count": 1,
   "id": "1e48eea2-9ea0-4ae1-8228-16cc580cb73e",
   "metadata": {},
   "outputs": [
    {
     "name": "stdout",
     "output_type": "stream",
     "text": [
      "/home/shim/cev/dl/log-analytics\n"
     ]
    }
   ],
   "source": [
    "%load_ext lab_black\n",
    "%cd .."
   ]
  },
  {
   "cell_type": "code",
   "execution_count": 2,
   "id": "90525b6b-8a7a-45c0-8812-b28d8d8f5cf6",
   "metadata": {
    "tags": []
   },
   "outputs": [],
   "source": [
    "import argparse\n",
    "import math\n",
    "import multiprocessing\n",
    "import sys\n",
    "from datetime import datetime\n",
    "from pathlib import Path\n",
    "from pprint import pformat\n",
    "\n",
    "import numpy as np\n",
    "import pandas as pd\n",
    "import torch\n",
    "import torch.nn as nn\n",
    "import torch.nn.functional as F\n",
    "import torch_optimizer\n",
    "import yaml\n",
    "from easydict import EasyDict\n",
    "from pytorch_transformers import (\n",
    "    BertForSequenceClassification,\n",
    "    BertTokenizer,\n",
    "    DistilBertForSequenceClassification,\n",
    "    DistilBertTokenizer,\n",
    "    RobertaForSequenceClassification,\n",
    "    RobertaTokenizer,\n",
    ")\n",
    "from sklearn.model_selection import StratifiedKFold\n",
    "from torch.optim import Adam, AdamW\n",
    "from torch.optim.lr_scheduler import ReduceLROnPlateau\n",
    "from torch.utils.data import DataLoader, Dataset\n",
    "from tqdm import tqdm\n",
    "from transformers import (\n",
    "    AlbertForSequenceClassification,\n",
    "    AlbertTokenizer,\n",
    "    DebertaForSequenceClassification,\n",
    "    DebertaTokenizer,\n",
    "    SqueezeBertTokenizer,\n",
    "    SqueezeBertForSequenceClassification,\n",
    "    XLNetTokenizer,\n",
    "    XLNetForSequenceClassification,\n",
    ")\n",
    "\n",
    "from datasets import load_test_data, load_train_data, load_train_total_data\n",
    "from utils import SAM, AverageMeter, CustomLogger, FocalLoss, seed_everything\n",
    "\n",
    "from main import MyTrainer\n",
    "from collections import defaultdict\n",
    "import matplotlib.pyplot as plt\n",
    "import random\n",
    "from sklearn.metrics import f1_score, classification_report"
   ]
  },
  {
   "cell_type": "code",
   "execution_count": 3,
   "id": "2a19b20b-a1d6-4df9-a7ce-af4182451101",
   "metadata": {},
   "outputs": [],
   "source": [
    "df = pd.read_csv(\"data/ori/train.csv\")"
   ]
  },
  {
   "cell_type": "code",
   "execution_count": 7,
   "id": "b7e61205-27fa-4ebe-8d48-e118f6f552cc",
   "metadata": {},
   "outputs": [
    {
     "name": "stdout",
     "output_type": "stream",
     "text": [
      "Jan 30 08:23:17 localhost sshd[18415]: Bad protocol version identification '\\003' from 78.128.113.18 port 1073\n",
      "Feb  8 16:16:47 localhost kernel: device virbr0-nic entered promiscuous mode\n",
      "Mar  8 15:29:30 localhost kernel: device enp2s0 entered promiscuous mode\n",
      "Jan 29 11:28:59 localhost useradd[88679]: new group: name=test, GID=1001\n",
      "Jan 22 15:18:49 localhost sshd[19015]: error: maximum authentication attempts exceeded for root from 192.168.0.197 port 61153 ssh2 [preauth]\n",
      "Feb  2 17:22:58 localhost kernel: device virbr0-nic entered promiscuous mode\n",
      "Feb  4 09:59:33 localhost kernel: device virbr0-nic entered promiscuous mode\n",
      "Feb  4 09:59:43 localhost kernel: device enp2s0 entered promiscuous mode\n"
     ]
    }
   ],
   "source": [
    "for text in df.full_log[df.level == 6]:\n",
    "    print(text)"
   ]
  },
  {
   "cell_type": "code",
   "execution_count": 8,
   "id": "ea85c69a-7008-4855-aedb-028f82d7c259",
   "metadata": {},
   "outputs": [
    {
     "name": "stdout",
     "output_type": "stream",
     "text": [
      "Nov 29 05:44:21 localhost sshd[6008]: Did not receive identification string from 211.253.243.66 port 57487\n",
      "Nov 29 22:16:32 sv260 sshd[39585]: Did not receive identification string from 211.253.243.66\n",
      "Nov 3 10:38:05 localhost sshd[76373]: Did not receive identification string from 192.168.0.195 port 3819\n",
      "Nov 21 01:02:56 sv260 sshd[9196]: Did not receive identification string from 211.253.243.66\n",
      "Nov 27 08:32:12 sv260 sshd[3110]: Did not receive identification string from 192.168.0.195\n",
      "Nov 19 01:03:09 sv260 sshd[13841]: Did not receive identification string from 192.168.0.195\n",
      "Nov 12 04:27:24 localhost sshd[98418]: Did not receive identification string from 61.41.101.142 port 8975\n",
      "Jan 27 20:20:54 localhost sshd[5025]: Did not receive identification string from 35.184.222.44 port 46232\n",
      "Nov 3 06:03:17 localhost sshd[4346]: Did not receive identification string from 192.168.0.181 port 82066\n",
      "Nov 8 20:25:42 sv260 sshd[37597]: Did not receive identification string from 192.168.0.181\n"
     ]
    }
   ],
   "source": [
    "for text in df.full_log[df.level == 4]:\n",
    "    print(text)"
   ]
  },
  {
   "cell_type": "code",
   "execution_count": 9,
   "id": "4850b304-0ce8-4c9e-bd64-b06a552082e6",
   "metadata": {},
   "outputs": [
    {
     "name": "stdout",
     "output_type": "stream",
     "text": [
      "The average number of logs between 10:00 and 11:00 is 5399. We reached 37090.\n",
      "The average number of logs between 5:00 and 6:00 is 222. We reached 77946.\n",
      "The average number of logs between 6:00 and 7:00 is 6420. We reached 28494.\n",
      "The average number of logs between 21:00 and 22:00 is 5325. We reached 95.\n",
      "The average number of logs between 5:00 and 6:00 is 8362. We reached 93476.\n",
      "The average number of logs between 4:00 and 5:00 is 2806. We reached 11476.\n",
      "The average number of logs between 14:00 and 15:00 is 9734. We reached 26958.\n",
      "The average number of logs between 15:00 and 16:00 is 4411. We reached 9487.\n",
      "Sep 18 11:02:59 localhost sudo:  apache : TTY=unknown ; PWD=/var/www/html/management ; USER=root ; COMMAND=/bin/curl -XGET localhost:9200/_cat/snapshots/esild_backup\n",
      "The average number of logs between 2:00 and 3:00 is 9428. We reached 75572.\n",
      "The average number of logs between 10:00 and 11:00 is 12612. We reached 31532.\n",
      "The average number of logs between 13:00 and 14:00 is 2697. We reached 93028.\n"
     ]
    }
   ],
   "source": [
    "for text in df.full_log[df.level == 2]:\n",
    "    print(text)"
   ]
  },
  {
   "cell_type": "code",
   "execution_count": 18,
   "id": "2ef52287-ab61-4a8a-aa61-09e52d11a006",
   "metadata": {},
   "outputs": [],
   "source": [
    "tokendic = defaultdict(list)\n",
    "for text in df.full_log[df.level == 2]:\n",
    "    for i, token in enumerate(text.split()):\n",
    "        tokendic[i].append(token)"
   ]
  },
  {
   "cell_type": "code",
   "execution_count": 23,
   "id": "0d4268dc-7a90-4692-9a0f-285d4aa5d5a8",
   "metadata": {},
   "outputs": [
    {
     "data": {
      "text/html": [
       "<div>\n",
       "<style scoped>\n",
       "    .dataframe tbody tr th:only-of-type {\n",
       "        vertical-align: middle;\n",
       "    }\n",
       "\n",
       "    .dataframe tbody tr th {\n",
       "        vertical-align: top;\n",
       "    }\n",
       "\n",
       "    .dataframe thead th {\n",
       "        text-align: right;\n",
       "    }\n",
       "</style>\n",
       "<table border=\"1\" class=\"dataframe\">\n",
       "  <thead>\n",
       "    <tr style=\"text-align: right;\">\n",
       "      <th></th>\n",
       "      <th>id</th>\n",
       "      <th>level</th>\n",
       "      <th>full_log</th>\n",
       "    </tr>\n",
       "  </thead>\n",
       "  <tbody>\n",
       "    <tr>\n",
       "      <th>87783</th>\n",
       "      <td>87783</td>\n",
       "      <td>6</td>\n",
       "      <td>Jan 30 08:23:17 localhost sshd[18415]: Bad pro...</td>\n",
       "    </tr>\n",
       "    <tr>\n",
       "      <th>170386</th>\n",
       "      <td>170386</td>\n",
       "      <td>6</td>\n",
       "      <td>Feb  8 16:16:47 localhost kernel: device virbr...</td>\n",
       "    </tr>\n",
       "    <tr>\n",
       "      <th>213304</th>\n",
       "      <td>213304</td>\n",
       "      <td>6</td>\n",
       "      <td>Mar  8 15:29:30 localhost kernel: device enp2s...</td>\n",
       "    </tr>\n",
       "    <tr>\n",
       "      <th>221847</th>\n",
       "      <td>221847</td>\n",
       "      <td>6</td>\n",
       "      <td>Jan 29 11:28:59 localhost useradd[88679]: new ...</td>\n",
       "    </tr>\n",
       "    <tr>\n",
       "      <th>223644</th>\n",
       "      <td>223644</td>\n",
       "      <td>6</td>\n",
       "      <td>Jan 22 15:18:49 localhost sshd[19015]: error: ...</td>\n",
       "    </tr>\n",
       "    <tr>\n",
       "      <th>361823</th>\n",
       "      <td>361823</td>\n",
       "      <td>6</td>\n",
       "      <td>Feb  2 17:22:58 localhost kernel: device virbr...</td>\n",
       "    </tr>\n",
       "    <tr>\n",
       "      <th>406796</th>\n",
       "      <td>406796</td>\n",
       "      <td>6</td>\n",
       "      <td>Feb  4 09:59:33 localhost kernel: device virbr...</td>\n",
       "    </tr>\n",
       "    <tr>\n",
       "      <th>429489</th>\n",
       "      <td>429489</td>\n",
       "      <td>6</td>\n",
       "      <td>Feb  4 09:59:43 localhost kernel: device enp2s...</td>\n",
       "    </tr>\n",
       "  </tbody>\n",
       "</table>\n",
       "</div>"
      ],
      "text/plain": [
       "            id  level                                           full_log\n",
       "87783    87783      6  Jan 30 08:23:17 localhost sshd[18415]: Bad pro...\n",
       "170386  170386      6  Feb  8 16:16:47 localhost kernel: device virbr...\n",
       "213304  213304      6  Mar  8 15:29:30 localhost kernel: device enp2s...\n",
       "221847  221847      6  Jan 29 11:28:59 localhost useradd[88679]: new ...\n",
       "223644  223644      6  Jan 22 15:18:49 localhost sshd[19015]: error: ...\n",
       "361823  361823      6  Feb  2 17:22:58 localhost kernel: device virbr...\n",
       "406796  406796      6  Feb  4 09:59:33 localhost kernel: device virbr...\n",
       "429489  429489      6  Feb  4 09:59:43 localhost kernel: device enp2s..."
      ]
     },
     "execution_count": 23,
     "metadata": {},
     "output_type": "execute_result"
    }
   ],
   "source": [
    "df[df.level == 6]"
   ]
  },
  {
   "cell_type": "code",
   "execution_count": 63,
   "id": "531a7318-a724-46a8-b3ce-36255b331236",
   "metadata": {},
   "outputs": [],
   "source": [
    "dic = df[df.level == 6].to_dict()\n",
    "dic[\"id\"] = list(range(1000000, 1000000 + len(dic[\"id\"])))\n",
    "dic[\"level\"] = dic[\"level\"].values()\n",
    "dic[\"full_log\"] = dic[\"full_log\"].values()\n",
    "# dic = pd.DataFrame(dic)"
   ]
  },
  {
   "cell_type": "code",
   "execution_count": 64,
   "id": "ad379987-a6d6-4a97-9896-0107ae648bac",
   "metadata": {},
   "outputs": [
    {
     "data": {
      "text/plain": [
       "{'id': [1000000,\n",
       "  1000001,\n",
       "  1000002,\n",
       "  1000003,\n",
       "  1000004,\n",
       "  1000005,\n",
       "  1000006,\n",
       "  1000007],\n",
       " 'level': dict_values([6, 6, 6, 6, 6, 6, 6, 6]),\n",
       " 'full_log': dict_values([\"Jan 30 08:23:17 localhost sshd[18415]: Bad protocol version identification '\\\\003' from 78.128.113.18 port 1073\", 'Feb  8 16:16:47 localhost kernel: device virbr0-nic entered promiscuous mode', 'Mar  8 15:29:30 localhost kernel: device enp2s0 entered promiscuous mode', 'Jan 29 11:28:59 localhost useradd[88679]: new group: name=test, GID=1001', 'Jan 22 15:18:49 localhost sshd[19015]: error: maximum authentication attempts exceeded for root from 192.168.0.197 port 61153 ssh2 [preauth]', 'Feb  2 17:22:58 localhost kernel: device virbr0-nic entered promiscuous mode', 'Feb  4 09:59:33 localhost kernel: device virbr0-nic entered promiscuous mode', 'Feb  4 09:59:43 localhost kernel: device enp2s0 entered promiscuous mode'])}"
      ]
     },
     "execution_count": 64,
     "metadata": {},
     "output_type": "execute_result"
    }
   ],
   "source": [
    "dic"
   ]
  },
  {
   "cell_type": "code",
   "execution_count": 65,
   "id": "645d26ef-3940-4e54-9515-6217c3d08cc1",
   "metadata": {},
   "outputs": [
    {
     "data": {
      "text/html": [
       "<div>\n",
       "<style scoped>\n",
       "    .dataframe tbody tr th:only-of-type {\n",
       "        vertical-align: middle;\n",
       "    }\n",
       "\n",
       "    .dataframe tbody tr th {\n",
       "        vertical-align: top;\n",
       "    }\n",
       "\n",
       "    .dataframe thead th {\n",
       "        text-align: right;\n",
       "    }\n",
       "</style>\n",
       "<table border=\"1\" class=\"dataframe\">\n",
       "  <thead>\n",
       "    <tr style=\"text-align: right;\">\n",
       "      <th></th>\n",
       "      <th>id</th>\n",
       "      <th>level</th>\n",
       "      <th>full_log</th>\n",
       "    </tr>\n",
       "  </thead>\n",
       "  <tbody>\n",
       "    <tr>\n",
       "      <th>0</th>\n",
       "      <td>1000000</td>\n",
       "      <td>6</td>\n",
       "      <td>Jan 30 08:23:17 localhost sshd[18415]: Bad pro...</td>\n",
       "    </tr>\n",
       "    <tr>\n",
       "      <th>1</th>\n",
       "      <td>1000001</td>\n",
       "      <td>6</td>\n",
       "      <td>Feb  8 16:16:47 localhost kernel: device virbr...</td>\n",
       "    </tr>\n",
       "    <tr>\n",
       "      <th>2</th>\n",
       "      <td>1000002</td>\n",
       "      <td>6</td>\n",
       "      <td>Mar  8 15:29:30 localhost kernel: device enp2s...</td>\n",
       "    </tr>\n",
       "    <tr>\n",
       "      <th>3</th>\n",
       "      <td>1000003</td>\n",
       "      <td>6</td>\n",
       "      <td>Jan 29 11:28:59 localhost useradd[88679]: new ...</td>\n",
       "    </tr>\n",
       "    <tr>\n",
       "      <th>4</th>\n",
       "      <td>1000004</td>\n",
       "      <td>6</td>\n",
       "      <td>Jan 22 15:18:49 localhost sshd[19015]: error: ...</td>\n",
       "    </tr>\n",
       "    <tr>\n",
       "      <th>5</th>\n",
       "      <td>1000005</td>\n",
       "      <td>6</td>\n",
       "      <td>Feb  2 17:22:58 localhost kernel: device virbr...</td>\n",
       "    </tr>\n",
       "    <tr>\n",
       "      <th>6</th>\n",
       "      <td>1000006</td>\n",
       "      <td>6</td>\n",
       "      <td>Feb  4 09:59:33 localhost kernel: device virbr...</td>\n",
       "    </tr>\n",
       "    <tr>\n",
       "      <th>7</th>\n",
       "      <td>1000007</td>\n",
       "      <td>6</td>\n",
       "      <td>Feb  4 09:59:43 localhost kernel: device enp2s...</td>\n",
       "    </tr>\n",
       "  </tbody>\n",
       "</table>\n",
       "</div>"
      ],
      "text/plain": [
       "        id  level                                           full_log\n",
       "0  1000000      6  Jan 30 08:23:17 localhost sshd[18415]: Bad pro...\n",
       "1  1000001      6  Feb  8 16:16:47 localhost kernel: device virbr...\n",
       "2  1000002      6  Mar  8 15:29:30 localhost kernel: device enp2s...\n",
       "3  1000003      6  Jan 29 11:28:59 localhost useradd[88679]: new ...\n",
       "4  1000004      6  Jan 22 15:18:49 localhost sshd[19015]: error: ...\n",
       "5  1000005      6  Feb  2 17:22:58 localhost kernel: device virbr...\n",
       "6  1000006      6  Feb  4 09:59:33 localhost kernel: device virbr...\n",
       "7  1000007      6  Feb  4 09:59:43 localhost kernel: device enp2s..."
      ]
     },
     "execution_count": 65,
     "metadata": {},
     "output_type": "execute_result"
    }
   ],
   "source": [
    "pd.DataFrame(dic)"
   ]
  },
  {
   "cell_type": "code",
   "execution_count": 67,
   "id": "f39986e6-3778-4466-a321-d39e10e73c99",
   "metadata": {},
   "outputs": [
    {
     "ename": "AttributeError",
     "evalue": "'dict_values' object has no attribute 'values'",
     "output_type": "error",
     "traceback": [
      "\u001b[0;31m---------------------------------------------------------------------------\u001b[0m",
      "\u001b[0;31mAttributeError\u001b[0m                            Traceback (most recent call last)",
      "\u001b[0;32m<ipython-input-67-acabf179d7e8>\u001b[0m in \u001b[0;36m<module>\u001b[0;34m\u001b[0m\n\u001b[0;32m----> 1\u001b[0;31m \u001b[0mdic\u001b[0m\u001b[0;34m[\u001b[0m\u001b[0;34m\"full_log\"\u001b[0m\u001b[0;34m]\u001b[0m\u001b[0;34m.\u001b[0m\u001b[0mvalues\u001b[0m\u001b[0;34m(\u001b[0m\u001b[0;34m)\u001b[0m\u001b[0;34m\u001b[0m\u001b[0;34m\u001b[0m\u001b[0m\n\u001b[0m",
      "\u001b[0;31mAttributeError\u001b[0m: 'dict_values' object has no attribute 'values'"
     ]
    }
   ],
   "source": [
    "dic[\"full_log\"].values()"
   ]
  },
  {
   "cell_type": "code",
   "execution_count": 78,
   "id": "92feb976-d671-4c12-97a2-bc5a25f7f2e2",
   "metadata": {},
   "outputs": [
    {
     "data": {
      "text/plain": [
       "[\"Jan 30 08:23:17 localhost sshd[18415]: Bad protocol version identification '\\\\003' from 78.128.113.18 port 1073\",\n",
       " 'Feb  8 16:16:47 localhost kernel: device virbr0-nic entered promiscuous mode',\n",
       " 'Mar  8 15:29:30 localhost kernel: device enp2s0 entered promiscuous mode',\n",
       " 'Jan 29 11:28:59 localhost useradd[88679]: new group: name=test, GID=1001',\n",
       " 'Jan 22 15:18:49 localhost sshd[19015]: error: maximum authentication attempts exceeded for root from 192.168.0.197 port 61153 ssh2 [preauth]',\n",
       " 'Feb  2 17:22:58 localhost kernel: device virbr0-nic entered promiscuous mode',\n",
       " 'Feb  4 09:59:33 localhost kernel: device virbr0-nic entered promiscuous mode',\n",
       " 'Feb  4 09:59:43 localhost kernel: device enp2s0 entered promiscuous mode',\n",
       " \"Jan 30 08:23:17 localhost sshd[18415]: Bad protocol version identification '\\\\003' from 78.128.113.18 port 1073\",\n",
       " 'Feb  8 16:16:47 localhost kernel: device virbr0-nic entered promiscuous mode',\n",
       " 'Mar  8 15:29:30 localhost kernel: device enp2s0 entered promiscuous mode',\n",
       " 'Jan 29 11:28:59 localhost useradd[88679]: new group: name=test, GID=1001',\n",
       " 'Jan 22 15:18:49 localhost sshd[19015]: error: maximum authentication attempts exceeded for root from 192.168.0.197 port 61153 ssh2 [preauth]',\n",
       " 'Feb  2 17:22:58 localhost kernel: device virbr0-nic entered promiscuous mode',\n",
       " 'Feb  4 09:59:33 localhost kernel: device virbr0-nic entered promiscuous mode',\n",
       " 'Feb  4 09:59:43 localhost kernel: device enp2s0 entered promiscuous mode',\n",
       " \"Jan 30 08:23:17 localhost sshd[18415]: Bad protocol version identification '\\\\003' from 78.128.113.18 port 1073\",\n",
       " 'Feb  8 16:16:47 localhost kernel: device virbr0-nic entered promiscuous mode',\n",
       " 'Mar  8 15:29:30 localhost kernel: device enp2s0 entered promiscuous mode',\n",
       " 'Jan 29 11:28:59 localhost useradd[88679]: new group: name=test, GID=1001',\n",
       " 'Jan 22 15:18:49 localhost sshd[19015]: error: maximum authentication attempts exceeded for root from 192.168.0.197 port 61153 ssh2 [preauth]',\n",
       " 'Feb  2 17:22:58 localhost kernel: device virbr0-nic entered promiscuous mode',\n",
       " 'Feb  4 09:59:33 localhost kernel: device virbr0-nic entered promiscuous mode',\n",
       " 'Feb  4 09:59:43 localhost kernel: device enp2s0 entered promiscuous mode',\n",
       " \"Jan 30 08:23:17 localhost sshd[18415]: Bad protocol version identification '\\\\003' from 78.128.113.18 port 1073\",\n",
       " 'Feb  8 16:16:47 localhost kernel: device virbr0-nic entered promiscuous mode',\n",
       " 'Mar  8 15:29:30 localhost kernel: device enp2s0 entered promiscuous mode',\n",
       " 'Jan 29 11:28:59 localhost useradd[88679]: new group: name=test, GID=1001',\n",
       " 'Jan 22 15:18:49 localhost sshd[19015]: error: maximum authentication attempts exceeded for root from 192.168.0.197 port 61153 ssh2 [preauth]',\n",
       " 'Feb  2 17:22:58 localhost kernel: device virbr0-nic entered promiscuous mode',\n",
       " 'Feb  4 09:59:33 localhost kernel: device virbr0-nic entered promiscuous mode',\n",
       " 'Feb  4 09:59:43 localhost kernel: device enp2s0 entered promiscuous mode']"
      ]
     },
     "execution_count": 78,
     "metadata": {},
     "output_type": "execute_result"
    }
   ],
   "source": [
    "list(dic[\"full_log\"]) * 4"
   ]
  },
  {
   "cell_type": "code",
   "execution_count": 4,
   "id": "3fda14b1-6749-49d3-9798-96bb11a63dcb",
   "metadata": {},
   "outputs": [
    {
     "data": {
      "text/plain": [
       "472972"
      ]
     },
     "execution_count": 4,
     "metadata": {},
     "output_type": "execute_result"
    }
   ],
   "source": [
    "len(df)"
   ]
  },
  {
   "cell_type": "code",
   "execution_count": 4,
   "id": "ca9676b7-53b4-4b5a-a0a7-baa8e9183333",
   "metadata": {},
   "outputs": [],
   "source": [
    "from datasets.loader import oversample"
   ]
  },
  {
   "cell_type": "code",
   "execution_count": 7,
   "id": "328bd21e-167b-4077-844f-a5d5639e3e8c",
   "metadata": {},
   "outputs": [],
   "source": [
    "df = oversample(df, 4)"
   ]
  },
  {
   "cell_type": "code",
   "execution_count": 6,
   "id": "3f3b86bc-b8ab-44d4-a36c-285e42ee8da4",
   "metadata": {},
   "outputs": [
    {
     "data": {
      "text/plain": [
       "472972"
      ]
     },
     "execution_count": 6,
     "metadata": {},
     "output_type": "execute_result"
    }
   ],
   "source": [
    "len(df)"
   ]
  },
  {
   "cell_type": "code",
   "execution_count": 7,
   "id": "5cbfe002-da50-4289-9d5f-1beed961267c",
   "metadata": {},
   "outputs": [],
   "source": [
    "df = oversample(df, 4)"
   ]
  },
  {
   "cell_type": "code",
   "execution_count": 8,
   "id": "401d940c-1c33-40f2-b6e0-9ac382f737da",
   "metadata": {},
   "outputs": [
    {
     "data": {
      "text/plain": [
       "473092"
      ]
     },
     "execution_count": 8,
     "metadata": {},
     "output_type": "execute_result"
    }
   ],
   "source": [
    "len(df)"
   ]
  },
  {
   "cell_type": "code",
   "execution_count": 10,
   "id": "8293137a-2362-4e83-b37b-2b00514afadc",
   "metadata": {},
   "outputs": [],
   "source": [
    "scale = 50"
   ]
  },
  {
   "cell_type": "code",
   "execution_count": 11,
   "id": "defff3b5-daf4-457a-a6d3-a21ee43e37b7",
   "metadata": {},
   "outputs": [
    {
     "data": {
      "text/html": [
       "<div>\n",
       "<style scoped>\n",
       "    .dataframe tbody tr th:only-of-type {\n",
       "        vertical-align: middle;\n",
       "    }\n",
       "\n",
       "    .dataframe tbody tr th {\n",
       "        vertical-align: top;\n",
       "    }\n",
       "\n",
       "    .dataframe thead th {\n",
       "        text-align: right;\n",
       "    }\n",
       "</style>\n",
       "<table border=\"1\" class=\"dataframe\">\n",
       "  <thead>\n",
       "    <tr style=\"text-align: right;\">\n",
       "      <th></th>\n",
       "      <th>id</th>\n",
       "      <th>level</th>\n",
       "      <th>full_log</th>\n",
       "    </tr>\n",
       "  </thead>\n",
       "  <tbody>\n",
       "    <tr>\n",
       "      <th>0</th>\n",
       "      <td>0</td>\n",
       "      <td>0</td>\n",
       "      <td>Sep 24 10:02:22 localhost kibana: {\"type\":\"err...</td>\n",
       "    </tr>\n",
       "    <tr>\n",
       "      <th>1</th>\n",
       "      <td>1</td>\n",
       "      <td>0</td>\n",
       "      <td>Feb  8 16:21:00 localhost logstash: [2021-02-0...</td>\n",
       "    </tr>\n",
       "    <tr>\n",
       "      <th>2</th>\n",
       "      <td>2</td>\n",
       "      <td>0</td>\n",
       "      <td>Jan 13 01:50:40 localhost kibana: {\"type\":\"err...</td>\n",
       "    </tr>\n",
       "    <tr>\n",
       "      <th>3</th>\n",
       "      <td>3</td>\n",
       "      <td>0</td>\n",
       "      <td>Jan  4 10:18:31 localhost kibana: {\"type\":\"err...</td>\n",
       "    </tr>\n",
       "    <tr>\n",
       "      <th>4</th>\n",
       "      <td>4</td>\n",
       "      <td>1</td>\n",
       "      <td>type=SYSCALL msg=audit(1603094402.016:52981): ...</td>\n",
       "    </tr>\n",
       "    <tr>\n",
       "      <th>...</th>\n",
       "      <td>...</td>\n",
       "      <td>...</td>\n",
       "      <td>...</td>\n",
       "    </tr>\n",
       "    <tr>\n",
       "      <th>595</th>\n",
       "      <td>1000595</td>\n",
       "      <td>345903</td>\n",
       "      <td>345903</td>\n",
       "    </tr>\n",
       "    <tr>\n",
       "      <th>596</th>\n",
       "      <td>1000596</td>\n",
       "      <td>365348</td>\n",
       "      <td>365348</td>\n",
       "    </tr>\n",
       "    <tr>\n",
       "      <th>597</th>\n",
       "      <td>1000597</td>\n",
       "      <td>376681</td>\n",
       "      <td>376681</td>\n",
       "    </tr>\n",
       "    <tr>\n",
       "      <th>598</th>\n",
       "      <td>1000598</td>\n",
       "      <td>380583</td>\n",
       "      <td>380583</td>\n",
       "    </tr>\n",
       "    <tr>\n",
       "      <th>599</th>\n",
       "      <td>1000599</td>\n",
       "      <td>400735</td>\n",
       "      <td>400735</td>\n",
       "    </tr>\n",
       "  </tbody>\n",
       "</table>\n",
       "<p>473572 rows × 3 columns</p>\n",
       "</div>"
      ],
      "text/plain": [
       "          id   level                                           full_log\n",
       "0          0       0  Sep 24 10:02:22 localhost kibana: {\"type\":\"err...\n",
       "1          1       0  Feb  8 16:21:00 localhost logstash: [2021-02-0...\n",
       "2          2       0  Jan 13 01:50:40 localhost kibana: {\"type\":\"err...\n",
       "3          3       0  Jan  4 10:18:31 localhost kibana: {\"type\":\"err...\n",
       "4          4       1  type=SYSCALL msg=audit(1603094402.016:52981): ...\n",
       "..       ...     ...                                                ...\n",
       "595  1000595  345903                                             345903\n",
       "596  1000596  365348                                             365348\n",
       "597  1000597  376681                                             376681\n",
       "598  1000598  380583                                             380583\n",
       "599  1000599  400735                                             400735\n",
       "\n",
       "[473572 rows x 3 columns]"
      ]
     },
     "execution_count": 11,
     "metadata": {},
     "output_type": "execute_result"
    }
   ],
   "source": [
    "dic = df[df.level == 2].to_dict()\n",
    "dic[\"id\"] = list(range(1000000, 1000000 + len(dic[\"id\"]) * scale))\n",
    "dic[\"level\"] = list(dic[\"level\"]) * scale\n",
    "dic[\"full_log\"] = list(dic[\"full_log\"]) * scale\n",
    "df.append(pd.DataFrame(dic))"
   ]
  },
  {
   "cell_type": "code",
   "execution_count": 12,
   "id": "83372590-b44d-4db5-bfeb-214fe7dbc6b3",
   "metadata": {},
   "outputs": [
    {
     "data": {
      "text/html": [
       "<div>\n",
       "<style scoped>\n",
       "    .dataframe tbody tr th:only-of-type {\n",
       "        vertical-align: middle;\n",
       "    }\n",
       "\n",
       "    .dataframe tbody tr th {\n",
       "        vertical-align: top;\n",
       "    }\n",
       "\n",
       "    .dataframe thead th {\n",
       "        text-align: right;\n",
       "    }\n",
       "</style>\n",
       "<table border=\"1\" class=\"dataframe\">\n",
       "  <thead>\n",
       "    <tr style=\"text-align: right;\">\n",
       "      <th></th>\n",
       "      <th>id</th>\n",
       "      <th>level</th>\n",
       "      <th>full_log</th>\n",
       "    </tr>\n",
       "  </thead>\n",
       "  <tbody>\n",
       "    <tr>\n",
       "      <th>0</th>\n",
       "      <td>0</td>\n",
       "      <td>0</td>\n",
       "      <td>Sep 24 10:02:22 localhost kibana: {\"type\":\"err...</td>\n",
       "    </tr>\n",
       "    <tr>\n",
       "      <th>1</th>\n",
       "      <td>1</td>\n",
       "      <td>0</td>\n",
       "      <td>Feb  8 16:21:00 localhost logstash: [2021-02-0...</td>\n",
       "    </tr>\n",
       "    <tr>\n",
       "      <th>2</th>\n",
       "      <td>2</td>\n",
       "      <td>0</td>\n",
       "      <td>Jan 13 01:50:40 localhost kibana: {\"type\":\"err...</td>\n",
       "    </tr>\n",
       "    <tr>\n",
       "      <th>3</th>\n",
       "      <td>3</td>\n",
       "      <td>0</td>\n",
       "      <td>Jan  4 10:18:31 localhost kibana: {\"type\":\"err...</td>\n",
       "    </tr>\n",
       "    <tr>\n",
       "      <th>4</th>\n",
       "      <td>4</td>\n",
       "      <td>1</td>\n",
       "      <td>type=SYSCALL msg=audit(1603094402.016:52981): ...</td>\n",
       "    </tr>\n",
       "    <tr>\n",
       "      <th>...</th>\n",
       "      <td>...</td>\n",
       "      <td>...</td>\n",
       "      <td>...</td>\n",
       "    </tr>\n",
       "    <tr>\n",
       "      <th>472967</th>\n",
       "      <td>472967</td>\n",
       "      <td>0</td>\n",
       "      <td>Feb 28 10:10:06 localhost logstash: 7738   error:</td>\n",
       "    </tr>\n",
       "    <tr>\n",
       "      <th>472968</th>\n",
       "      <td>472968</td>\n",
       "      <td>1</td>\n",
       "      <td>type=SYSCALL msg=audit(1611890993.458:321827):...</td>\n",
       "    </tr>\n",
       "    <tr>\n",
       "      <th>472969</th>\n",
       "      <td>472969</td>\n",
       "      <td>0</td>\n",
       "      <td>Oct 12 02:20:29 localhost kibana: {\"type\":\"log...</td>\n",
       "    </tr>\n",
       "    <tr>\n",
       "      <th>472970</th>\n",
       "      <td>472970</td>\n",
       "      <td>0</td>\n",
       "      <td>Jan 15 09:02:43 localhost kibana: {\"type\":\"err...</td>\n",
       "    </tr>\n",
       "    <tr>\n",
       "      <th>472971</th>\n",
       "      <td>472971</td>\n",
       "      <td>0</td>\n",
       "      <td>Oct 12 04:27:47 localhost kibana: {\"type\":\"err...</td>\n",
       "    </tr>\n",
       "  </tbody>\n",
       "</table>\n",
       "<p>472972 rows × 3 columns</p>\n",
       "</div>"
      ],
      "text/plain": [
       "            id  level                                           full_log\n",
       "0            0      0  Sep 24 10:02:22 localhost kibana: {\"type\":\"err...\n",
       "1            1      0  Feb  8 16:21:00 localhost logstash: [2021-02-0...\n",
       "2            2      0  Jan 13 01:50:40 localhost kibana: {\"type\":\"err...\n",
       "3            3      0  Jan  4 10:18:31 localhost kibana: {\"type\":\"err...\n",
       "4            4      1  type=SYSCALL msg=audit(1603094402.016:52981): ...\n",
       "...        ...    ...                                                ...\n",
       "472967  472967      0  Feb 28 10:10:06 localhost logstash: 7738   error:\n",
       "472968  472968      1  type=SYSCALL msg=audit(1611890993.458:321827):...\n",
       "472969  472969      0  Oct 12 02:20:29 localhost kibana: {\"type\":\"log...\n",
       "472970  472970      0  Jan 15 09:02:43 localhost kibana: {\"type\":\"err...\n",
       "472971  472971      0  Oct 12 04:27:47 localhost kibana: {\"type\":\"err...\n",
       "\n",
       "[472972 rows x 3 columns]"
      ]
     },
     "execution_count": 12,
     "metadata": {},
     "output_type": "execute_result"
    }
   ],
   "source": [
    "df"
   ]
  }
 ],
 "metadata": {
  "kernelspec": {
   "display_name": "torch",
   "language": "python",
   "name": "torch"
  },
  "language_info": {
   "codemirror_mode": {
    "name": "ipython",
    "version": 3
   },
   "file_extension": ".py",
   "mimetype": "text/x-python",
   "name": "python",
   "nbconvert_exporter": "python",
   "pygments_lexer": "ipython3",
   "version": "3.7.10"
  }
 },
 "nbformat": 4,
 "nbformat_minor": 5
}
