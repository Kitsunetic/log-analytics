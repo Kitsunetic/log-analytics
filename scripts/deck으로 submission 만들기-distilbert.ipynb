{
 "cells": [
  {
   "cell_type": "code",
   "execution_count": 1,
   "id": "9499b2ec-6ebb-4575-b647-f2946b3eb8b5",
   "metadata": {},
   "outputs": [
    {
     "name": "stdout",
     "output_type": "stream",
     "text": [
      "/mnt/h/hev/log-analytics\n"
     ]
    }
   ],
   "source": [
    "%load_ext lab_black\n",
    "%cd .."
   ]
  },
  {
   "cell_type": "code",
   "execution_count": 2,
   "id": "b23a629d-38d6-4439-89a6-272d68eefbdd",
   "metadata": {},
   "outputs": [],
   "source": [
    "import argparse\n",
    "import math\n",
    "import multiprocessing\n",
    "import sys\n",
    "from datetime import datetime\n",
    "from pathlib import Path\n",
    "from pprint import pformat\n",
    "\n",
    "import numpy as np\n",
    "import pandas as pd\n",
    "import torch\n",
    "import torch.nn as nn\n",
    "import torch.nn.functional as F\n",
    "import torch_optimizer\n",
    "import yaml\n",
    "from easydict import EasyDict\n",
    "from pytorch_transformers import (\n",
    "    BertForSequenceClassification,\n",
    "    BertTokenizer,\n",
    "    DistilBertForSequenceClassification,\n",
    "    DistilBertTokenizer,\n",
    "    RobertaForSequenceClassification,\n",
    "    RobertaTokenizer,\n",
    ")\n",
    "from sklearn.model_selection import StratifiedKFold\n",
    "from torch.optim import Adam, AdamW\n",
    "from torch.optim.lr_scheduler import ReduceLROnPlateau\n",
    "from torch.utils.data import DataLoader, Dataset\n",
    "from tqdm import tqdm\n",
    "from transformers import (\n",
    "    AlbertForSequenceClassification,\n",
    "    AlbertTokenizer,\n",
    "    DebertaForSequenceClassification,\n",
    "    DebertaTokenizer,\n",
    "    SqueezeBertTokenizer,\n",
    "    SqueezeBertForSequenceClassification,\n",
    "    XLNetTokenizer,\n",
    "    XLNetForSequenceClassification,\n",
    ")\n",
    "\n",
    "from datasets import load_test_data, load_train_data, MyDataset\n",
    "from utils import SAM, AverageMeter, CustomLogger, FocalLoss, seed_everything\n",
    "\n",
    "from main import MyTrainer\n",
    "from collections import defaultdict\n",
    "import matplotlib.pyplot as plt\n",
    "import random"
   ]
  },
  {
   "cell_type": "code",
   "execution_count": 3,
   "id": "f99198a2-3fbf-439c-bde3-d9fc207cec46",
   "metadata": {},
   "outputs": [],
   "source": [
    "def get_dist(deck, feat, topk):\n",
    "    dist = torch.norm(deck - feat[None], dim=1, p=None)\n",
    "    knn = dist.topk(topk, largest=False)\n",
    "    values, indices = knn\n",
    "    return values, indices"
   ]
  },
  {
   "cell_type": "code",
   "execution_count": 4,
   "id": "d45261ba-46c7-4bc8-b81c-c7376ddab540",
   "metadata": {},
   "outputs": [],
   "source": [
    "with open(\"config/distilbert-base-uncased.yaml\", \"r\") as f:\n",
    "    C = EasyDict(yaml.load(f, yaml.FullLoader))\n",
    "    C.result_dir = Path(C.result_dir)\n",
    "    C.dataset.dir = Path(C.dataset.dir)\n",
    "    seed_everything(C.seed, deterministic=False)"
   ]
  },
  {
   "cell_type": "code",
   "execution_count": 5,
   "id": "2cf54770-ac64-4a8c-8272-e7c57414e7a0",
   "metadata": {},
   "outputs": [
    {
     "data": {
      "text/plain": [
       "{'model': {'name': 'distilbert-base-uncased'},\n",
       " 'comment': None,\n",
       " 'result_dir': PosixPath('results/distilbert-base-uncased'),\n",
       " 'debug': False,\n",
       " 'seed': 20210425,\n",
       " 'train': {'SAM': False,\n",
       "  'folds': [1],\n",
       "  'checkpoints': [None],\n",
       "  'loss': {'name': 'focal', 'gamma': 2},\n",
       "  'optimizer': {'name': 'AdamW'},\n",
       "  'finetune': {'do': True, 'step1_epochs': 2, 'step2_epochs': 4},\n",
       "  'max_epochs': 10,\n",
       "  'lr': 1e-05,\n",
       "  'scheduler': {'name': 'ReduceLROnPlateau',\n",
       "   'params': {'factor': 0.5, 'patience': 3, 'verbose': True}}},\n",
       " 'dataset': {'dir': PosixPath('data/ori'), 'batch_size': 30, 'num_workers': 8}}"
      ]
     },
     "execution_count": 5,
     "metadata": {},
     "output_type": "execute_result"
    }
   ],
   "source": [
    "C"
   ]
  },
  {
   "cell_type": "code",
   "execution_count": 6,
   "id": "8e2a935b-d7c7-4925-ac6d-da53e92c52bb",
   "metadata": {},
   "outputs": [
    {
     "name": "stdout",
     "output_type": "stream",
     "text": [
      "Load pretrained results/distilbert-base-uncased/distilbert-base-uncased-focal-AdamW-lr1e-05_1.pth\n"
     ]
    }
   ],
   "source": [
    "trainer = MyTrainer(C, 1, \"results/distilbert-base-uncased/distilbert-base-uncased-focal-AdamW-lr1e-05_1.pth\")"
   ]
  },
  {
   "cell_type": "code",
   "execution_count": 7,
   "id": "2b02e824-3a56-4b36-ac93-ed1de94aeb70",
   "metadata": {},
   "outputs": [
    {
     "data": {
      "text/plain": [
       "<torch.autograd.grad_mode.set_grad_enabled at 0x7fa1ad715e50>"
      ]
     },
     "execution_count": 7,
     "metadata": {},
     "output_type": "execute_result"
    }
   ],
   "source": [
    "model = trainer.model\n",
    "model.eval()\n",
    "torch.set_grad_enabled(False)"
   ]
  },
  {
   "cell_type": "code",
   "execution_count": 8,
   "id": "bfe7dae8-22c9-4426-b112-e1f47a41d313",
   "metadata": {},
   "outputs": [],
   "source": [
    "activation = []\n",
    "\n",
    "\n",
    "def hook(model, input, output):\n",
    "    activation.append(output.detach().cpu())"
   ]
  },
  {
   "cell_type": "code",
   "execution_count": 9,
   "id": "6490b23a-2146-4360-9e19-90f543a715ca",
   "metadata": {},
   "outputs": [
    {
     "data": {
      "text/plain": [
       "<torch.utils.hooks.RemovableHandle at 0x7fa1b6414e50>"
      ]
     },
     "execution_count": 9,
     "metadata": {},
     "output_type": "execute_result"
    }
   ],
   "source": [
    "model.pre_classifier.register_forward_hook(hook)"
   ]
  },
  {
   "cell_type": "code",
   "execution_count": 10,
   "id": "300c3cbb-2ebd-4cfc-b976-d39f0b2c7397",
   "metadata": {},
   "outputs": [],
   "source": [
    "deck = torch.load(\"results/distilbert-base-uncased/distilbert-base-uncased-focal-AdamW-lr1e-05_1-deck.pth\")"
   ]
  },
  {
   "cell_type": "markdown",
   "id": "a65cd791-15fe-4d54-88d4-2875e0729682",
   "metadata": {},
   "source": [
    "## Validation Level 7"
   ]
  },
  {
   "cell_type": "code",
   "execution_count": 11,
   "id": "a2060d4b-35e6-403f-8cc9-ec588764566c",
   "metadata": {},
   "outputs": [
    {
     "name": "stdout",
     "output_type": "stream",
     "text": [
      "tensor([1])\n",
      "tensor([0.8876, 0.8895, 0.8922, 0.9052])\n",
      "tensor([179655, 328171, 446081, 218800])\n",
      "tensor([1, 1, 1, 1])\n",
      "tensor([1, 1, 1, 1])\n"
     ]
    }
   ],
   "source": [
    "activation = []\n",
    "id, text, otext = trainer.dl_test2.dataset[0]\n",
    "print(model(text[None].cuda())[0].argmax(1).cpu())\n",
    "dist, index = get_dist(deck[\"feat\"], activation[0][0], 4)\n",
    "print(dist)\n",
    "print(index)\n",
    "print(deck[\"tlevel\"][index])\n",
    "print(deck[\"fclevel\"][index].argmax(1))"
   ]
  },
  {
   "cell_type": "code",
   "execution_count": 12,
   "id": "1d6a0cef-8d79-4df5-96c4-347ca64b1683",
   "metadata": {},
   "outputs": [
    {
     "name": "stdout",
     "output_type": "stream",
     "text": [
      "tensor([1])\n",
      "tensor([0.8876, 0.8895, 0.8922, 0.9052])\n",
      "tensor([179655, 328171, 446081, 218800])\n",
      "tensor([1, 1, 1, 1])\n",
      "tensor([1, 1, 1, 1])\n"
     ]
    }
   ],
   "source": [
    "activation = []\n",
    "id, text, otext = trainer.dl_test2.dataset[0]\n",
    "print(model(text[None].cuda())[0].argmax(1).cpu())\n",
    "dist, index = get_dist(deck[\"feat\"], activation[0][0], 4)\n",
    "print(dist)\n",
    "print(index)\n",
    "print(deck[\"tlevel\"][index])\n",
    "print(deck[\"fclevel\"][index].argmax(1))"
   ]
  },
  {
   "cell_type": "code",
   "execution_count": 13,
   "id": "ea694168-cd82-45d2-8fe8-551272bad68d",
   "metadata": {},
   "outputs": [
    {
     "name": "stdout",
     "output_type": "stream",
     "text": [
      "tensor([0])\n",
      "tensor([3.5220, 3.5275, 3.5482, 3.5592])\n",
      "tensor([ 67497, 382661, 400492, 133045])\n",
      "tensor([0, 5, 0, 0])\n",
      "tensor([0, 0, 0, 0])\n"
     ]
    }
   ],
   "source": [
    "activation = []\n",
    "id, text, otext = trainer.dl_test2.dataset[2]\n",
    "print(model(text[None].cuda())[0].argmax(1).cpu())\n",
    "dist, index = get_dist(deck[\"feat\"], activation[0][0], 4)\n",
    "print(dist)\n",
    "print(index)\n",
    "print(deck[\"tlevel\"][index])\n",
    "print(deck[\"fclevel\"][index].argmax(1))"
   ]
  },
  {
   "cell_type": "markdown",
   "id": "0b2e9787-b694-473e-b846-beae09a2538e",
   "metadata": {},
   "source": [
    "## Validation Level 0~6"
   ]
  },
  {
   "cell_type": "code",
   "execution_count": 14,
   "id": "15c58b0a-8755-450f-8c3c-d845f15abf0a",
   "metadata": {},
   "outputs": [
    {
     "data": {
      "text/plain": [
       "378377"
      ]
     },
     "execution_count": 14,
     "metadata": {},
     "output_type": "execute_result"
    }
   ],
   "source": [
    "len(trainer.tdl.dataset)"
   ]
  },
  {
   "cell_type": "code",
   "execution_count": 15,
   "id": "b5c57731-45ef-484c-9ab2-9900dd9faad2",
   "metadata": {},
   "outputs": [
    {
     "name": "stderr",
     "output_type": "stream",
     "text": [
      "/home/s0/anaconda3/envs/torch/lib/python3.7/site-packages/ipykernel_launcher.py:1: UserWarning: This overload of nonzero is deprecated:\n",
      "\tnonzero()\n",
      "Consider using one of the following signatures instead:\n",
      "\tnonzero(*, bool as_tuple) (Triggered internally at  /opt/conda/conda-bld/pytorch_1607370156314/work/torch/csrc/utils/python_arg_parser.cpp:882.)\n",
      "  \"\"\"Entry point for launching an IPython kernel.\n"
     ]
    },
    {
     "data": {
      "text/plain": [
       "tensor([[    23],\n",
       "        [    26],\n",
       "        [   222],\n",
       "        ...,\n",
       "        [472587],\n",
       "        [472679],\n",
       "        [472753]])"
      ]
     },
     "execution_count": 15,
     "metadata": {},
     "output_type": "execute_result"
    }
   ],
   "source": [
    "(deck[\"tlevel\"] == 5).nonzero()"
   ]
  },
  {
   "cell_type": "code",
   "execution_count": 16,
   "id": "a003827c-adf0-45d7-8191-e9f7d173a36e",
   "metadata": {},
   "outputs": [
    {
     "name": "stdout",
     "output_type": "stream",
     "text": [
      "tensor([5])\n",
      "tensor([0.0026, 0.2005, 0.2016, 0.2607])\n",
      "tensor([472753, 127000, 278987,   8415])\n",
      "tensor([5, 5, 5, 5])\n",
      "tensor([5, 5, 5, 5])\n"
     ]
    }
   ],
   "source": [
    "activation = []\n",
    "_, text, _, otext = trainer.vdl.dataset[472753 - len(trainer.tdl.dataset)]\n",
    "\n",
    "print(model(text[None].cuda())[0].argmax(1).cpu())\n",
    "dist, index = get_dist(deck[\"feat\"], activation[0][0], 4)\n",
    "print(dist)\n",
    "print(index)\n",
    "print(deck[\"tlevel\"][index])\n",
    "print(deck[\"fclevel\"][index].argmax(1))"
   ]
  },
  {
   "cell_type": "code",
   "execution_count": 17,
   "id": "3259f43a-31f0-4108-a534-8f70b819e679",
   "metadata": {},
   "outputs": [
    {
     "data": {
      "text/plain": [
       "tensor([[ 87711],\n",
       "        [266757],\n",
       "        [311617],\n",
       "        [322848],\n",
       "        [361231],\n",
       "        [372050],\n",
       "        [412580],\n",
       "        [464178]])"
      ]
     },
     "execution_count": 17,
     "metadata": {},
     "output_type": "execute_result"
    }
   ],
   "source": [
    "(deck[\"tlevel\"] == 6).nonzero()"
   ]
  },
  {
   "cell_type": "code",
   "execution_count": 18,
   "id": "4b76594c-64a6-4ded-a64e-c752c9abf567",
   "metadata": {},
   "outputs": [
    {
     "name": "stdout",
     "output_type": "stream",
     "text": [
      "tensor([6])\n",
      "tensor([0.0028, 0.0028, 0.0028, 1.6767])\n",
      "tensor([412580, 322848, 266757, 311617])\n",
      "tensor([6, 6, 6, 6])\n",
      "tensor([6, 6, 6, 6])\n"
     ]
    }
   ],
   "source": [
    "activation = []\n",
    "_, text, _, otext = trainer.vdl.dataset[412580 - len(trainer.tdl.dataset)]\n",
    "\n",
    "print(model(text[None].cuda())[0].argmax(1).cpu())\n",
    "dist, index = get_dist(deck[\"feat\"], activation[0][0], 4)\n",
    "print(dist)\n",
    "print(index)\n",
    "print(deck[\"tlevel\"][index])\n",
    "print(deck[\"fclevel\"][index].argmax(1))"
   ]
  },
  {
   "cell_type": "code",
   "execution_count": 19,
   "id": "9d243b92-f65a-47b4-be02-e5650a8a836c",
   "metadata": {},
   "outputs": [
    {
     "name": "stdout",
     "output_type": "stream",
     "text": [
      "tensor([6])\n",
      "tensor([0.0027, 0.0027, 1.6771, 1.6771])\n",
      "tensor([464178, 311617, 322848, 412580])\n",
      "tensor([6, 6, 6, 6])\n",
      "tensor([6, 6, 6, 6])\n"
     ]
    }
   ],
   "source": [
    "activation = []\n",
    "_, text, _, otext = trainer.vdl.dataset[464178 - len(trainer.tdl.dataset)]\n",
    "\n",
    "print(model(text[None].cuda())[0].argmax(1).cpu())\n",
    "dist, index = get_dist(deck[\"feat\"], activation[0][0], 4)\n",
    "print(dist)\n",
    "print(index)\n",
    "print(deck[\"tlevel\"][index])\n",
    "print(deck[\"fclevel\"][index].argmax(1))"
   ]
  },
  {
   "cell_type": "code",
   "execution_count": 20,
   "id": "e4a26e9a-731d-439f-9687-23ff19817449",
   "metadata": {},
   "outputs": [
    {
     "data": {
      "text/plain": [
       "tensor([[  3647],\n",
       "        [ 49407],\n",
       "        [ 77815],\n",
       "        [151227],\n",
       "        [160046],\n",
       "        [175505],\n",
       "        [180930],\n",
       "        [298174],\n",
       "        [424379],\n",
       "        [452152]])"
      ]
     },
     "execution_count": 20,
     "metadata": {},
     "output_type": "execute_result"
    }
   ],
   "source": [
    "(deck[\"tlevel\"] == 4).nonzero()"
   ]
  },
  {
   "cell_type": "code",
   "execution_count": 21,
   "id": "1e641b4a-afb3-4b05-b5d4-81b0cc5a2b4e",
   "metadata": {},
   "outputs": [
    {
     "name": "stdout",
     "output_type": "stream",
     "text": [
      "tensor([4])\n",
      "tensor([0.0029, 0.0029, 0.0436, 0.7367])\n",
      "tensor([424379, 175505, 452152, 151227])\n",
      "tensor([4, 4, 4, 4])\n",
      "tensor([4, 4, 4, 4])\n"
     ]
    }
   ],
   "source": [
    "activation = []\n",
    "_, text, _, otext = trainer.vdl.dataset[424379 - len(trainer.tdl.dataset)]\n",
    "\n",
    "print(model(text[None].cuda())[0].argmax(1).cpu())\n",
    "dist, index = get_dist(deck[\"feat\"], activation[0][0], 4)\n",
    "print(dist)\n",
    "print(index)\n",
    "print(deck[\"tlevel\"][index])\n",
    "print(deck[\"fclevel\"][index].argmax(1))"
   ]
  },
  {
   "cell_type": "code",
   "execution_count": 22,
   "id": "817394d2-6451-4bd5-9a62-7128205bdb4a",
   "metadata": {},
   "outputs": [
    {
     "name": "stdout",
     "output_type": "stream",
     "text": [
      "tensor([4])\n",
      "tensor([0.0028, 0.0444, 0.0444, 0.7010])\n",
      "tensor([452152, 175505, 424379, 151227])\n",
      "tensor([4, 4, 4, 4])\n",
      "tensor([4, 4, 4, 4])\n"
     ]
    }
   ],
   "source": [
    "activation = []\n",
    "_, text, _, otext = trainer.vdl.dataset[452152 - len(trainer.tdl.dataset)]\n",
    "\n",
    "print(model(text[None].cuda())[0].argmax(1).cpu())\n",
    "dist, index = get_dist(deck[\"feat\"], activation[0][0], 4)\n",
    "print(dist)\n",
    "print(index)\n",
    "print(deck[\"tlevel\"][index])\n",
    "print(deck[\"fclevel\"][index].argmax(1))"
   ]
  },
  {
   "cell_type": "code",
   "execution_count": 23,
   "id": "a8c78147-2013-458d-b6b8-af398dc4b94b",
   "metadata": {},
   "outputs": [
    {
     "data": {
      "text/plain": [
       "tensor([[    97],\n",
       "        [   274],\n",
       "        [   292],\n",
       "        ...,\n",
       "        [472321],\n",
       "        [472334],\n",
       "        [472400]])"
      ]
     },
     "execution_count": 23,
     "metadata": {},
     "output_type": "execute_result"
    }
   ],
   "source": [
    "(deck[\"tlevel\"] == 3).nonzero()"
   ]
  },
  {
   "cell_type": "code",
   "execution_count": 24,
   "id": "196312dd-b793-4125-9fc4-5d1382f6f3ba",
   "metadata": {},
   "outputs": [
    {
     "name": "stdout",
     "output_type": "stream",
     "text": [
      "tensor([3])\n",
      "tensor([0.0027, 0.0027, 0.0027, 0.0027])\n",
      "tensor([14583,  8222, 14974,  8037])\n",
      "tensor([3, 3, 3, 3])\n",
      "tensor([3, 3, 3, 3])\n"
     ]
    }
   ],
   "source": [
    "activation = []\n",
    "_, text, _, otext = trainer.vdl.dataset[472334 - len(trainer.tdl.dataset)]\n",
    "\n",
    "print(model(text[None].cuda())[0].argmax(1).cpu())\n",
    "dist, index = get_dist(deck[\"feat\"], activation[0][0], 4)\n",
    "print(dist)\n",
    "print(index)\n",
    "print(deck[\"tlevel\"][index])\n",
    "print(deck[\"fclevel\"][index].argmax(1))"
   ]
  },
  {
   "cell_type": "markdown",
   "id": "7cebe6a0-1f2f-4238-b35b-e5fb53212bc9",
   "metadata": {},
   "source": [
    "**아마도 distilbert는 1.7.1에서 학습된 듯?**"
   ]
  },
  {
   "cell_type": "markdown",
   "id": "6dc09c50-9cdc-43c0-afd9-28ad6d715f05",
   "metadata": {},
   "source": [
    "## Test - Submit Deck 만들기 (deprecated)"
   ]
  },
  {
   "cell_type": "code",
   "execution_count": 25,
   "id": "a3acac5a-07bc-459e-9bae-1491b59d76cd",
   "metadata": {},
   "outputs": [],
   "source": [
    "deck[\"feat_\"] = deck[\"feat\"].cuda()"
   ]
  },
  {
   "cell_type": "code",
   "execution_count": 26,
   "id": "6fa53f36-7998-403c-b01c-6ebc45025cee",
   "metadata": {},
   "outputs": [
    {
     "name": "stdout",
     "output_type": "stream",
     "text": [
      "100%|██████████████████████████████████████████████████| 1418916/1418916 [1:13:01<00:00, 323.82it/s]\n"
     ]
    }
   ],
   "source": [
    "activation = []\n",
    "with tqdm(total=len(trainer.dl_test.dataset), ncols=100, file=sys.stdout) as t:\n",
    "    for _, text, otext in trainer.dl_test:\n",
    "        model(text.cuda(non_blocking=True))\n",
    "        t.update(len(text))"
   ]
  },
  {
   "cell_type": "code",
   "execution_count": 27,
   "id": "8872c495-59ca-4e32-9d40-c91035cc0301",
   "metadata": {},
   "outputs": [],
   "source": [
    "sfeats = torch.cat(activation)"
   ]
  },
  {
   "cell_type": "code",
   "execution_count": 28,
   "id": "3f1ffa8a-99df-4200-897f-877c61ce4274",
   "metadata": {},
   "outputs": [],
   "source": [
    "sfeats_ = sfeats.cuda()"
   ]
  },
  {
   "cell_type": "markdown",
   "id": "5db48b8b-9d1c-4047-a1c1-eb1c72284de0",
   "metadata": {},
   "source": [
    "## Test (deprecated)"
   ]
  },
  {
   "cell_type": "code",
   "execution_count": 29,
   "id": "e20e80c1-0131-4d06-9658-3957e08df1b3",
   "metadata": {},
   "outputs": [],
   "source": [
    "threshold = 0.5"
   ]
  },
  {
   "cell_type": "code",
   "execution_count": 32,
   "id": "31bf936a-8f53-4bf3-be43-aace7ac9d296",
   "metadata": {},
   "outputs": [
    {
     "data": {
      "text/plain": [
       "torch.Size([1418916, 768])"
      ]
     },
     "execution_count": 32,
     "metadata": {},
     "output_type": "execute_result"
    }
   ],
   "source": [
    "sfeats_.shape"
   ]
  },
  {
   "cell_type": "code",
   "execution_count": 40,
   "id": "7f0f69c4-217b-4fd2-9d46-16e2a01d68b6",
   "metadata": {},
   "outputs": [
    {
     "data": {
      "text/plain": [
       "tensor([0., 0., 0., 0.], device='cuda:0')"
      ]
     },
     "execution_count": 40,
     "metadata": {},
     "output_type": "execute_result"
    }
   ],
   "source": [
    "dist_, index_ = get_dist(deck[\"feat_\"], sfeats_[0], 4)\n",
    "dist_"
   ]
  },
  {
   "cell_type": "code",
   "execution_count": 41,
   "id": "6cff4562-31b0-4d88-8398-900a2677f151",
   "metadata": {},
   "outputs": [
    {
     "data": {
      "text/plain": [
       "tensor([498, 460, 627, 728], device='cuda:0')"
      ]
     },
     "execution_count": 41,
     "metadata": {},
     "output_type": "execute_result"
    }
   ],
   "source": [
    "index_"
   ]
  },
  {
   "cell_type": "code",
   "execution_count": 42,
   "id": "e29c89bd-9c71-4cf0-987a-37377cd77c08",
   "metadata": {},
   "outputs": [
    {
     "data": {
      "text/plain": [
       "tensor([0, 0, 0, 0])"
      ]
     },
     "execution_count": 42,
     "metadata": {},
     "output_type": "execute_result"
    }
   ],
   "source": [
    "deck[\"tlevel\"][index_]"
   ]
  },
  {
   "cell_type": "code",
   "execution_count": 44,
   "id": "a6dd000a-7fba-4dbe-a4dc-ebd051a50474",
   "metadata": {},
   "outputs": [
    {
     "name": "stdout",
     "output_type": "stream",
     "text": [
      "100%|██████████████████████████████████████████████████| 1418916/1418916 [3:19:33<00:00, 118.51it/s]\n"
     ]
    }
   ],
   "source": [
    "dists, levels = [], []\n",
    "f = open(\"results/distilbert-base-uncased/distilbert-base-uncased-focal-AdamW-lr1e-05_1-evaluation.txt\", \"w\")\n",
    "with tqdm(total=len(trainer.dl_test.dataset), ncols=100, file=sys.stdout) as t:\n",
    "    for sfeat_ in sfeats_:\n",
    "        dist_, index_ = get_dist(deck[\"feat_\"], sfeat_, 4)\n",
    "        dists.append(dist_.cpu())\n",
    "        if dist_[0].item() > threshold:\n",
    "            levels.append(7)\n",
    "        else:\n",
    "            levels.append(deck[\"tlevel\"][index_[0]].item())\n",
    "\n",
    "        f.write(f\"{dist_.tolist()}, {deck['tlevel'][index_].tolist()}\\r\\n\")\n",
    "        t.update()\n",
    "f.close()"
   ]
  },
  {
   "cell_type": "code",
   "execution_count": 51,
   "id": "333ce989-6e39-4228-89ee-79c4bdc5eab8",
   "metadata": {},
   "outputs": [],
   "source": [
    "dists = torch.stack(dists)"
   ]
  },
  {
   "cell_type": "code",
   "execution_count": 52,
   "id": "d79f31fe-1220-4b71-a124-f91e148f5e12",
   "metadata": {},
   "outputs": [
    {
     "data": {
      "text/plain": [
       "torch.Size([1418916, 4])"
      ]
     },
     "execution_count": 52,
     "metadata": {},
     "output_type": "execute_result"
    }
   ],
   "source": [
    "dists.shape"
   ]
  },
  {
   "cell_type": "code",
   "execution_count": 66,
   "id": "27bfa7d7-4356-4fd4-82fb-efb9db56f4fb",
   "metadata": {},
   "outputs": [],
   "source": [
    "levels = torch.stack(levels)"
   ]
  },
  {
   "cell_type": "code",
   "execution_count": 68,
   "id": "c246999a-9991-4d1f-bf8f-1c3245de8d07",
   "metadata": {},
   "outputs": [
    {
     "data": {
      "text/plain": [
       "torch.Size([1418916])"
      ]
     },
     "execution_count": 68,
     "metadata": {},
     "output_type": "execute_result"
    }
   ],
   "source": [
    "levels.shape"
   ]
  },
  {
   "cell_type": "code",
   "execution_count": 72,
   "id": "bb1c8742-8ce5-41d3-9d6e-3a00b0ebeacc",
   "metadata": {},
   "outputs": [],
   "source": [
    "np.savez_compressed(\n",
    "    \"results/distilbert-base-uncased/distilbert-base-uncased-focal-AdamW-lr1e-05_1-test.npz\",\n",
    "    dists=dists.numpy(),\n",
    "    levels=levels.numpy(),\n",
    ")"
   ]
  },
  {
   "cell_type": "markdown",
   "id": "ed282291-a410-46ef-adfa-3f553ae45c20",
   "metadata": {},
   "source": [
    "## Submission 파일 만들기"
   ]
  },
  {
   "cell_type": "code",
   "execution_count": 77,
   "id": "dc03da66-5535-4be3-9aca-dd0aba709d6b",
   "metadata": {},
   "outputs": [
    {
     "data": {
      "text/plain": [
       "[<matplotlib.lines.Line2D at 0x7fbcbe413610>]"
      ]
     },
     "execution_count": 77,
     "metadata": {},
     "output_type": "execute_result"
    },
    {
     "data": {
      "image/png": "[encoded data removed]",
      "text/plain": [
       "<Figure size 432x288 with 1 Axes>"
      ]
     },
     "metadata": {
      "needs_background": "light"
     },
     "output_type": "display_data"
    }
   ],
   "source": [
    "plt.plot(dists[:, 0])"
   ]
  },
  {
   "cell_type": "code",
   "execution_count": 106,
   "id": "ba767494-b8a2-4c74-a7a9-158b252bfb58",
   "metadata": {},
   "outputs": [
    {
     "data": {
      "text/plain": [
       "tensor(1002)"
      ]
     },
     "execution_count": 106,
     "metadata": {},
     "output_type": "execute_result"
    }
   ],
   "source": [
    "(dists[:, 0] > threshold).sum()  # level의 개수"
   ]
  },
  {
   "cell_type": "code",
   "execution_count": 107,
   "id": "fc92fe25-8e82-4bea-8b7e-f14422405ee4",
   "metadata": {},
   "outputs": [],
   "source": [
    "df = {\"id\": list(range(1000000, 2418915 + 1)), \"level\": levels.tolist()}"
   ]
  },
  {
   "cell_type": "code",
   "execution_count": 108,
   "id": "40af1785-490c-41ef-890f-de3567dd400d",
   "metadata": {},
   "outputs": [],
   "source": [
    "df = pd.DataFrame(df)"
   ]
  },
  {
   "cell_type": "code",
   "execution_count": 109,
   "id": "26f1f94b-39ac-45ea-8dd1-d8331045d99b",
   "metadata": {},
   "outputs": [
    {
     "data": {
      "text/html": [
       "<div>\n",
       "<style scoped>\n",
       "    .dataframe tbody tr th:only-of-type {\n",
       "        vertical-align: middle;\n",
       "    }\n",
       "\n",
       "    .dataframe tbody tr th {\n",
       "        vertical-align: top;\n",
       "    }\n",
       "\n",
       "    .dataframe thead th {\n",
       "        text-align: right;\n",
       "    }\n",
       "</style>\n",
       "<table border=\"1\" class=\"dataframe\">\n",
       "  <thead>\n",
       "    <tr style=\"text-align: right;\">\n",
       "      <th></th>\n",
       "      <th>id</th>\n",
       "      <th>level</th>\n",
       "    </tr>\n",
       "  </thead>\n",
       "  <tbody>\n",
       "    <tr>\n",
       "      <th>0</th>\n",
       "      <td>1000000</td>\n",
       "      <td>0</td>\n",
       "    </tr>\n",
       "    <tr>\n",
       "      <th>1</th>\n",
       "      <td>1000001</td>\n",
       "      <td>0</td>\n",
       "    </tr>\n",
       "    <tr>\n",
       "      <th>2</th>\n",
       "      <td>1000002</td>\n",
       "      <td>1</td>\n",
       "    </tr>\n",
       "    <tr>\n",
       "      <th>3</th>\n",
       "      <td>1000003</td>\n",
       "      <td>0</td>\n",
       "    </tr>\n",
       "    <tr>\n",
       "      <th>4</th>\n",
       "      <td>1000004</td>\n",
       "      <td>1</td>\n",
       "    </tr>\n",
       "    <tr>\n",
       "      <th>...</th>\n",
       "      <td>...</td>\n",
       "      <td>...</td>\n",
       "    </tr>\n",
       "    <tr>\n",
       "      <th>1418911</th>\n",
       "      <td>2418911</td>\n",
       "      <td>0</td>\n",
       "    </tr>\n",
       "    <tr>\n",
       "      <th>1418912</th>\n",
       "      <td>2418912</td>\n",
       "      <td>0</td>\n",
       "    </tr>\n",
       "    <tr>\n",
       "      <th>1418913</th>\n",
       "      <td>2418913</td>\n",
       "      <td>1</td>\n",
       "    </tr>\n",
       "    <tr>\n",
       "      <th>1418914</th>\n",
       "      <td>2418914</td>\n",
       "      <td>0</td>\n",
       "    </tr>\n",
       "    <tr>\n",
       "      <th>1418915</th>\n",
       "      <td>2418915</td>\n",
       "      <td>0</td>\n",
       "    </tr>\n",
       "  </tbody>\n",
       "</table>\n",
       "<p>1418916 rows × 2 columns</p>\n",
       "</div>"
      ],
      "text/plain": [
       "              id  level\n",
       "0        1000000      0\n",
       "1        1000001      0\n",
       "2        1000002      1\n",
       "3        1000003      0\n",
       "4        1000004      1\n",
       "...          ...    ...\n",
       "1418911  2418911      0\n",
       "1418912  2418912      0\n",
       "1418913  2418913      1\n",
       "1418914  2418914      0\n",
       "1418915  2418915      0\n",
       "\n",
       "[1418916 rows x 2 columns]"
      ]
     },
     "execution_count": 109,
     "metadata": {},
     "output_type": "execute_result"
    }
   ],
   "source": [
    "df"
   ]
  },
  {
   "cell_type": "code",
   "execution_count": 110,
   "id": "90290457-1fd9-489b-8923-bdfdee9eecc5",
   "metadata": {},
   "outputs": [],
   "source": [
    "df.to_csv(\"results/distilbert-base-uncased/distilbert-base-uncased-focal-AdamW-lr1e-05_1-threshold0.5.csv\", index=False)"
   ]
  },
  {
   "cell_type": "markdown",
   "id": "4cd0352b-2f18-4a06-8747-1c6e59288c19",
   "metadata": {},
   "source": [
    "## Threshold 변경해서 다시 시도"
   ]
  },
  {
   "cell_type": "code",
   "execution_count": 11,
   "id": "08eba62f-3a09-4766-8eed-fed917b7246f",
   "metadata": {},
   "outputs": [
    {
     "name": "stdout",
     "output_type": "stream",
     "text": [
      "100%|██████████████████████████████████████████████████| 1418916/1418916 [1:11:04<00:00, 332.74it/s]\n"
     ]
    }
   ],
   "source": [
    "# sfeats 저장\n",
    "activation = []\n",
    "sfcfeats = []\n",
    "with tqdm(total=len(trainer.dl_test.dataset), ncols=100, file=sys.stdout) as t:\n",
    "    for _, text, otext in trainer.dl_test:\n",
    "        sfcfeat = model(text.cuda(non_blocking=True))[0].cpu()\n",
    "        sfcfeats.append(sfcfeat)\n",
    "        t.update(len(text))"
   ]
  },
  {
   "cell_type": "code",
   "execution_count": 12,
   "id": "36c9bf51-1aee-4918-86d0-1beaca8237aa",
   "metadata": {},
   "outputs": [],
   "source": [
    "sfeats = torch.cat(activation)\n",
    "sfcfeats = torch.cat(sfcfeats)"
   ]
  },
  {
   "cell_type": "code",
   "execution_count": 13,
   "id": "5aae3694-1d6f-42b8-acd4-329b7a924393",
   "metadata": {},
   "outputs": [],
   "source": [
    "np.savez_compressed(\n",
    "    \"results/distilbert-base-uncased/distilbert-base-uncased-focal-AdamW-lr1e-05_1-sfeats.npz\", sfeats=sfeats, sfcfeats=sfcfeats\n",
    ")"
   ]
  },
  {
   "cell_type": "markdown",
   "id": "d2309f9d-6bd6-4a9f-a7f6-d17e555afd92",
   "metadata": {},
   "source": [
    "## dist값, KNN level, FC level 을 저장\n",
    "\n",
    "여기서 reload"
   ]
  },
  {
   "cell_type": "code",
   "execution_count": 4,
   "id": "7e2ae09b-a4df-4ca4-8925-6871d6c30830",
   "metadata": {},
   "outputs": [],
   "source": [
    "data = np.load(\"results/distilbert-base-uncased/distilbert-base-uncased-focal-AdamW-lr1e-05_1-sfeats.npz\")\n",
    "sfeats=data[\"sfeats\"]\n",
    "sfcfeats=data['sfcfeats']"
   ]
  },
  {
   "cell_type": "code",
   "execution_count": 5,
   "id": "c1aa53bc-5f01-440d-b0a3-b8733f8fb053",
   "metadata": {},
   "outputs": [],
   "source": [
    "sfeats = torch.from_numpy(sfeats)\n",
    "sfcfeats=torch.from_numpy(sfcfeats)"
   ]
  },
  {
   "cell_type": "code",
   "execution_count": 7,
   "id": "63954ca9-50e9-4bbd-8fe1-f1e9847b477b",
   "metadata": {},
   "outputs": [
    {
     "data": {
      "text/plain": [
       "torch.Size([1418916, 768])"
      ]
     },
     "execution_count": 7,
     "metadata": {},
     "output_type": "execute_result"
    }
   ],
   "source": [
    "sfeats.shape"
   ]
  },
  {
   "cell_type": "code",
   "execution_count": 14,
   "id": "fe6c1fd0-cb62-4a98-9eaf-1ae6f1773efc",
   "metadata": {},
   "outputs": [],
   "source": [
    "sfeats_ = sfeats.cuda()"
   ]
  },
  {
   "cell_type": "code",
   "execution_count": 9,
   "id": "80d2e16c-36f7-496e-b7b8-1fedfa4dea70",
   "metadata": {},
   "outputs": [],
   "source": [
    "deck = torch.load(\"results/distilbert-base-uncased/distilbert-base-uncased-focal-AdamW-lr1e-05_1-deck.pth\")"
   ]
  },
  {
   "cell_type": "code",
   "execution_count": 15,
   "id": "514c7e80-2a81-4513-8b34-cca5eb68e5bb",
   "metadata": {},
   "outputs": [],
   "source": [
    "deck[\"feat_\"] = deck[\"feat\"].cuda()"
   ]
  },
  {
   "cell_type": "code",
   "execution_count": 11,
   "id": "8a69f3ab-334a-44ff-8a80-880f13bdd403",
   "metadata": {},
   "outputs": [
    {
     "data": {
      "text/plain": [
       "dict_keys(['feat', 'tlevel', 'fclevel', 'feat_'])"
      ]
     },
     "execution_count": 11,
     "metadata": {},
     "output_type": "execute_result"
    }
   ],
   "source": [
    "deck.keys()"
   ]
  },
  {
   "cell_type": "code",
   "execution_count": null,
   "id": "e728c4d9-f51f-4062-bb96-9b34fec64182",
   "metadata": {},
   "outputs": [
    {
     "name": "stdout",
     "output_type": "stream",
     "text": [
      " 28%|██████████████▍                                    | 402024/1418916 [54:11<2:15:06, 125.45it/s]"
     ]
    }
   ],
   "source": [
    "# dist를 구함\n",
    "dists, fclevels, tlevels = [], [], []\n",
    "with tqdm(total=len(trainer.dl_test.dataset), ncols=100, file=sys.stdout) as t:\n",
    "    for sfeat_, sfcfeat in zip(sfeats_, sfcfeats):\n",
    "        dist_, index_ = get_dist(deck[\"feat_\"], sfeat_, 8)\n",
    "        dists.append(dist_.cpu())\n",
    "        tlevels.append(deck[\"tlevel\"][index_[0]].item())\n",
    "        fclevels.append(sfcfeat)\n",
    "\n",
    "        t.update()"
   ]
  },
  {
   "cell_type": "code",
   "execution_count": null,
   "id": "d0d45774-5808-4038-a9ec-4a6d5b364a04",
   "metadata": {},
   "outputs": [],
   "source": []
  }
 ],
 "metadata": {
  "kernelspec": {
   "display_name": "torch",
   "language": "python",
   "name": "torch"
  },
  "language_info": {
   "codemirror_mode": {
    "name": "ipython",
    "version": 3
   },
   "file_extension": ".py",
   "mimetype": "text/x-python",
   "name": "python",
   "nbconvert_exporter": "python",
   "pygments_lexer": "ipython3",
   "version": "3.7.9"
  }
 },
 "nbformat": 4,
 "nbformat_minor": 5
}
