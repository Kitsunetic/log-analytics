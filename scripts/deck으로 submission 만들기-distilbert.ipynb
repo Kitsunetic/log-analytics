{
 "cells": [
  {
   "cell_type": "code",
   "execution_count": 1,
   "id": "9499b2ec-6ebb-4575-b647-f2946b3eb8b5",
   "metadata": {},
   "outputs": [
    {
     "name": "stdout",
     "output_type": "stream",
     "text": [
      "/mnt/h/hev/log-analytics\n"
     ]
    }
   ],
   "source": [
    "%load_ext lab_black\n",
    "%cd .."
   ]
  },
  {
   "cell_type": "code",
   "execution_count": 2,
   "id": "b23a629d-38d6-4439-89a6-272d68eefbdd",
   "metadata": {},
   "outputs": [],
   "source": [
    "import argparse\n",
    "import math\n",
    "import multiprocessing\n",
    "import sys\n",
    "from datetime import datetime\n",
    "from pathlib import Path\n",
    "from pprint import pformat\n",
    "\n",
    "import numpy as np\n",
    "import pandas as pd\n",
    "import torch\n",
    "import torch.nn as nn\n",
    "import torch.nn.functional as F\n",
    "import torch_optimizer\n",
    "import yaml\n",
    "from easydict import EasyDict\n",
    "from pytorch_transformers import (\n",
    "    BertForSequenceClassification,\n",
    "    BertTokenizer,\n",
    "    DistilBertForSequenceClassification,\n",
    "    DistilBertTokenizer,\n",
    "    RobertaForSequenceClassification,\n",
    "    RobertaTokenizer,\n",
    ")\n",
    "from sklearn.model_selection import StratifiedKFold\n",
    "from torch.optim import Adam, AdamW\n",
    "from torch.optim.lr_scheduler import ReduceLROnPlateau\n",
    "from torch.utils.data import DataLoader, Dataset\n",
    "from tqdm import tqdm\n",
    "from transformers import (\n",
    "    AlbertForSequenceClassification,\n",
    "    AlbertTokenizer,\n",
    "    DebertaForSequenceClassification,\n",
    "    DebertaTokenizer,\n",
    "    SqueezeBertTokenizer,\n",
    "    SqueezeBertForSequenceClassification,\n",
    "    XLNetTokenizer,\n",
    "    XLNetForSequenceClassification,\n",
    ")\n",
    "\n",
    "from datasets import load_test_data, load_train_data, MyDataset, load_train_total_data\n",
    "from utils import SAM, AverageMeter, CustomLogger, FocalLoss, seed_everything\n",
    "\n",
    "from main import MyTrainer\n",
    "from collections import defaultdict\n",
    "import matplotlib.pyplot as plt\n",
    "import random"
   ]
  },
  {
   "cell_type": "code",
   "execution_count": 3,
   "id": "065c2591-6245-419f-8651-16a6447c1e6e",
   "metadata": {},
   "outputs": [],
   "source": [
    "postfix = \"distilbert-base-uncased-focal-AdamW-lr1e-05-dsver2_2\""
   ]
  },
  {
   "cell_type": "code",
   "execution_count": 4,
   "id": "d45261ba-46c7-4bc8-b81c-c7376ddab540",
   "metadata": {},
   "outputs": [],
   "source": [
    "with open(\"config/distilbert-base-uncased-ver2.yaml\", \"r\") as f:\n",
    "    C = EasyDict(yaml.load(f, yaml.FullLoader))\n",
    "    C.result_dir = Path(C.result_dir)\n",
    "    C.dataset.dir = Path(C.dataset.dir)\n",
    "    seed_everything(C.seed, deterministic=False)"
   ]
  },
  {
   "cell_type": "code",
   "execution_count": 5,
   "id": "2cf54770-ac64-4a8c-8272-e7c57414e7a0",
   "metadata": {},
   "outputs": [
    {
     "data": {
      "text/plain": [
       "{'model': {'name': 'distilbert-base-uncased'},\n",
       " 'comment': None,\n",
       " 'result_dir': PosixPath('results/distilbert-base-uncased'),\n",
       " 'debug': False,\n",
       " 'seed': 20210425,\n",
       " 'train': {'SAM': False,\n",
       "  'folds': [3],\n",
       "  'checkpoints': ['results/distilbert-base-uncased/distilbert-base-uncased-focal-AdamW-lr1e-05-dsver2_3.pth'],\n",
       "  'loss': {'name': 'focal', 'gamma': 2},\n",
       "  'optimizer': {'name': 'AdamW'},\n",
       "  'finetune': {'do': True, 'step1_epochs': 2, 'step2_epochs': 4},\n",
       "  'max_epochs': 10,\n",
       "  'lr': 1e-05,\n",
       "  'scheduler': {'name': 'ReduceLROnPlateau',\n",
       "   'params': {'factor': 0.5, 'patience': 3, 'verbose': True}}},\n",
       " 'dataset': {'dir': PosixPath('data/ori'),\n",
       "  'ver': 2,\n",
       "  'batch_size': 35,\n",
       "  'num_workers': 8}}"
      ]
     },
     "execution_count": 5,
     "metadata": {},
     "output_type": "execute_result"
    }
   ],
   "source": [
    "C"
   ]
  },
  {
   "cell_type": "code",
   "execution_count": 5,
   "id": "8e2a935b-d7c7-4925-ac6d-da53e92c52bb",
   "metadata": {},
   "outputs": [
    {
     "name": "stdout",
     "output_type": "stream",
     "text": [
      "Load pretrained results/distilbert-base-uncased/distilbert-base-uncased-focal-AdamW-lr1e-05-dsver2_2.pth\n"
     ]
    }
   ],
   "source": [
    "trainer = MyTrainer(C, 2, f\"results/distilbert-base-uncased/{postfix}.pth\")"
   ]
  },
  {
   "cell_type": "code",
   "execution_count": 6,
   "id": "2b02e824-3a56-4b36-ac93-ed1de94aeb70",
   "metadata": {},
   "outputs": [
    {
     "data": {
      "text/plain": [
       "<torch.autograd.grad_mode.set_grad_enabled at 0x7f6449cb2150>"
      ]
     },
     "execution_count": 6,
     "metadata": {},
     "output_type": "execute_result"
    }
   ],
   "source": [
    "model = trainer.model\n",
    "model.eval()\n",
    "torch.set_grad_enabled(False)"
   ]
  },
  {
   "cell_type": "code",
   "execution_count": 7,
   "id": "bfe7dae8-22c9-4426-b112-e1f47a41d313",
   "metadata": {},
   "outputs": [],
   "source": [
    "activation = []\n",
    "\n",
    "\n",
    "def hook(model, input, output):\n",
    "    activation.append(output.detach().cpu())"
   ]
  },
  {
   "cell_type": "code",
   "execution_count": 8,
   "id": "6490b23a-2146-4360-9e19-90f543a715ca",
   "metadata": {},
   "outputs": [
    {
     "data": {
      "text/plain": [
       "<torch.utils.hooks.RemovableHandle at 0x7f6449cd14d0>"
      ]
     },
     "execution_count": 8,
     "metadata": {},
     "output_type": "execute_result"
    }
   ],
   "source": [
    "model.pre_classifier.register_forward_hook(hook)"
   ]
  },
  {
   "cell_type": "code",
   "execution_count": 9,
   "id": "50367e9c-bfa6-4dc0-9d72-6562fb73b020",
   "metadata": {},
   "outputs": [],
   "source": [
    "dl = load_train_total_data(C.dataset.dir, trainer.tokenizer, 100, 6, ver=2)"
   ]
  },
  {
   "cell_type": "markdown",
   "id": "e41d48cc-9fc9-418d-a27c-4bfd94d7956d",
   "metadata": {},
   "source": [
    "## tdeck 만들기 (모든 train 데이터에 대한 집합)"
   ]
  },
  {
   "cell_type": "code",
   "execution_count": 10,
   "id": "300c3cbb-2ebd-4cfc-b976-d39f0b2c7397",
   "metadata": {},
   "outputs": [
    {
     "name": "stdout",
     "output_type": "stream",
     "text": [
      "100%|██████████████████████████████████████████████████████| 472972/472972 [25:39<00:00, 307.15it/s]\n"
     ]
    }
   ],
   "source": [
    "activation = []\n",
    "deck = {\n",
    "    \"fcfeat\": [],\n",
    "    \"tlevel\": [],\n",
    "    \"fclevel\": [],\n",
    "    \"otext\": [],\n",
    "}\n",
    "with tqdm(total=len(dl.dataset), ncols=100, file=sys.stdout) as t:\n",
    "    for id, text, tlevel, otext in dl:\n",
    "        pred = model(text.cuda(non_blocking=True))[0].cpu()\n",
    "        deck[\"fcfeat\"].append(pred)\n",
    "        deck[\"tlevel\"].append(tlevel)\n",
    "        deck[\"fclevel\"].append(pred.argmax(dim=1))\n",
    "        deck[\"otext\"].extend(otext)\n",
    "\n",
    "        t.update(len(id))"
   ]
  },
  {
   "cell_type": "code",
   "execution_count": 11,
   "id": "b2c86c1d-94e2-4e23-8d89-41db94deeda0",
   "metadata": {},
   "outputs": [],
   "source": [
    "deck[\"fcfeat\"] = torch.cat(deck[\"fcfeat\"])"
   ]
  },
  {
   "cell_type": "code",
   "execution_count": 12,
   "id": "a3d3c467-702b-4968-9ed1-13664cd8c866",
   "metadata": {},
   "outputs": [],
   "source": [
    "deck[\"tlevel\"] = torch.cat(deck[\"tlevel\"])"
   ]
  },
  {
   "cell_type": "code",
   "execution_count": 13,
   "id": "e95b0650-5b9c-4cd6-8dcf-0c1c64c49928",
   "metadata": {},
   "outputs": [],
   "source": [
    "deck[\"fclevel\"] = torch.cat(deck[\"fclevel\"])"
   ]
  },
  {
   "cell_type": "code",
   "execution_count": 14,
   "id": "9593f1db-f032-4c6f-b375-4b257138c6a7",
   "metadata": {},
   "outputs": [],
   "source": [
    "deck[\"feat\"] = torch.cat(activation)"
   ]
  },
  {
   "cell_type": "code",
   "execution_count": 15,
   "id": "5acab1db-357d-40ee-b0f7-36e253e957b3",
   "metadata": {},
   "outputs": [
    {
     "data": {
      "text/plain": [
       "dict_keys(['fcfeat', 'tlevel', 'fclevel', 'otext', 'feat'])"
      ]
     },
     "execution_count": 15,
     "metadata": {},
     "output_type": "execute_result"
    }
   ],
   "source": [
    "deck.keys()"
   ]
  },
  {
   "cell_type": "code",
   "execution_count": 16,
   "id": "68713498-bda5-44d7-9581-04fc3189ee49",
   "metadata": {},
   "outputs": [],
   "source": [
    "np.savez_compressed(\n",
    "    f\"results/distilbert-base-uncased/{postfix}-deck1.npz\",\n",
    "    fcfeat=deck[\"fcfeat\"].numpy(),\n",
    "    tlevel=deck[\"tlevel\"].numpy(),\n",
    "    fclevel=deck[\"fclevel\"].numpy(),\n",
    "    feat=deck[\"feat\"].numpy(),\n",
    "    otext=deck[\"otext\"],\n",
    ")"
   ]
  },
  {
   "cell_type": "markdown",
   "id": "4cd0352b-2f18-4a06-8747-1c6e59288c19",
   "metadata": {},
   "source": [
    "## sdeck 만들기 (모든 test 데이터에 대한 집합)\n",
    "\n",
    "reload"
   ]
  },
  {
   "cell_type": "code",
   "execution_count": 10,
   "id": "08eba62f-3a09-4766-8eed-fed917b7246f",
   "metadata": {},
   "outputs": [
    {
     "name": "stdout",
     "output_type": "stream",
     "text": [
      "100%|██████████████████████████████████████████████████| 1418916/1418916 [1:17:44<00:00, 304.22it/s]\n"
     ]
    }
   ],
   "source": [
    "# sfeats 저장\n",
    "activation = []\n",
    "deck = {\"fcfeat\": [], \"fclevel\": [], \"otext\": []}\n",
    "with tqdm(total=len(trainer.dl_test.dataset), ncols=100, file=sys.stdout) as t:\n",
    "    for _, text, otext in trainer.dl_test:\n",
    "        pred = model(text.cuda(non_blocking=True))[0].cpu()\n",
    "        deck[\"fcfeat\"].append(pred)\n",
    "        deck[\"fclevel\"].append(pred.argmax(dim=1))\n",
    "        deck[\"otext\"].extend(otext)\n",
    "        t.update(len(text))"
   ]
  },
  {
   "cell_type": "code",
   "execution_count": 17,
   "id": "62dab8c9-21b9-493f-8247-7b34df33bbef",
   "metadata": {},
   "outputs": [
    {
     "data": {
      "text/plain": [
       "torch.Size([1418916, 7])"
      ]
     },
     "execution_count": 17,
     "metadata": {},
     "output_type": "execute_result"
    }
   ],
   "source": [
    "deck[\"fcfeat\"] = torch.cat(deck[\"fcfeat\"])\n",
    "deck[\"fclevel\"] = torch.cat(deck[\"fclevel\"])\n",
    "deck[\"feat\"] = torch.cat(activation)"
   ]
  },
  {
   "cell_type": "code",
   "execution_count": 22,
   "id": "4042eed7-1d88-4fe4-a585-992bb93da746",
   "metadata": {},
   "outputs": [
    {
     "data": {
      "text/plain": [
       "dict_keys(['fcfeat', 'fclevel', 'otext', 'feat'])"
      ]
     },
     "execution_count": 22,
     "metadata": {},
     "output_type": "execute_result"
    }
   ],
   "source": [
    "deck.keys()"
   ]
  },
  {
   "cell_type": "code",
   "execution_count": 23,
   "id": "5aae3694-1d6f-42b8-acd4-329b7a924393",
   "metadata": {},
   "outputs": [],
   "source": [
    "np.savez_compressed(\n",
    "    f\"results/distilbert-base-uncased/{postfix}-deck2.npz\",\n",
    "    fcfeat=deck[\"fcfeat\"].numpy(),\n",
    "    fclevel=deck[\"fclevel\"].numpy(),\n",
    "    feat=deck[\"feat\"].numpy(),\n",
    "    otext=deck[\"otext\"],\n",
    ")"
   ]
  },
  {
   "cell_type": "markdown",
   "id": "d2309f9d-6bd6-4a9f-a7f6-d17e555afd92",
   "metadata": {},
   "source": [
    "## dist값, KNN level, FC level 을 저장\n",
    "\n",
    "여기서 reload"
   ]
  },
  {
   "cell_type": "code",
   "execution_count": 5,
   "id": "7e2ae09b-a4df-4ca4-8925-6871d6c30830",
   "metadata": {},
   "outputs": [],
   "source": [
    "deck1 = np.load(f\"results/distilbert-base-uncased/{postfix}-deck1.npz\")\n",
    "deck2 = np.load(f\"results/distilbert-base-uncased/{postfix}-deck2.npz\")"
   ]
  },
  {
   "cell_type": "code",
   "execution_count": 6,
   "id": "c76c2eef-cdb5-492b-85e4-bcb58c0070c9",
   "metadata": {},
   "outputs": [],
   "source": [
    "tdeck = {\"feat\": torch.from_numpy(deck1[\"feat\"]).cuda(), \"tlevel\": torch.from_numpy(deck1[\"tlevel\"])}"
   ]
  },
  {
   "cell_type": "code",
   "execution_count": 7,
   "id": "2ee5cf93-a51b-4f64-a950-ee17840973cc",
   "metadata": {},
   "outputs": [],
   "source": [
    "sdeck = {\n",
    "    \"feat\": torch.from_numpy(deck2[\"feat\"]).cuda(),\n",
    "    \"fcfeat\": torch.from_numpy(deck2[\"fcfeat\"]),\n",
    "    \"fclevel\": torch.from_numpy(deck2[\"fclevel\"]),\n",
    "}"
   ]
  },
  {
   "cell_type": "code",
   "execution_count": 8,
   "id": "71325b38-a917-41fe-b961-ca7a87a097f4",
   "metadata": {},
   "outputs": [
    {
     "data": {
      "text/plain": [
       "(torch.Size([472972, 768]), torch.Size([1418916, 768]))"
      ]
     },
     "execution_count": 8,
     "metadata": {},
     "output_type": "execute_result"
    }
   ],
   "source": [
    "tdeck[\"feat\"].shape, sdeck[\"feat\"].shape"
   ]
  },
  {
   "cell_type": "code",
   "execution_count": 9,
   "id": "4432f49e-2741-49cc-9967-6ecc1a5a203f",
   "metadata": {},
   "outputs": [],
   "source": [
    "def get_dist(deck, feat, topk):\n",
    "    dist = torch.norm(deck - feat[None], dim=1, p=None)\n",
    "    values, indices = dist.topk(topk, largest=False)  # knn\n",
    "    return values, indices"
   ]
  },
  {
   "cell_type": "code",
   "execution_count": 11,
   "id": "5349cfed-f805-4a1d-ac35-66c5ef6f8ff6",
   "metadata": {},
   "outputs": [
    {
     "name": "stdout",
     "output_type": "stream",
     "text": [
      "tensor([0.0368, 0.0373, 0.0453, 0.0457, 0.0458, 0.0467, 0.0468, 0.0484],\n",
      "       device='cuda:0')\n",
      "tensor([329544, 324718, 432974, 465707, 192642, 438212, 271713, 300748],\n",
      "       device='cuda:0')\n",
      "tensor([1, 1, 1, 1, 1, 1, 1, 1])\n"
     ]
    }
   ],
   "source": [
    "# 실험\n",
    "values, indices = get_dist(tdeck[\"feat\"], sdeck[\"feat\"][2], 8)\n",
    "print(values)\n",
    "print(indices)\n",
    "print(tdeck[\"tlevel\"][indices])"
   ]
  },
  {
   "cell_type": "code",
   "execution_count": 12,
   "id": "e728c4d9-f51f-4062-bb96-9b34fec64182",
   "metadata": {},
   "outputs": [
    {
     "name": "stdout",
     "output_type": "stream",
     "text": [
      "100%|██████████████████████████████████████████████████| 1418916/1418916 [3:14:42<00:00, 121.46it/s]\n"
     ]
    }
   ],
   "source": [
    "# dist를 구함\n",
    "dists, indices, fcfeats, tlevels = [], [], [], []\n",
    "with tqdm(total=len(sdeck[\"feat\"]), ncols=100, file=sys.stdout) as t:\n",
    "    for i in range(len(sdeck[\"feat\"])):\n",
    "        dist_, index_ = get_dist(tdeck[\"feat\"], sdeck[\"feat\"][i], 8)\n",
    "        dist = dist_.cpu()\n",
    "        index = index_.cpu()\n",
    "        fcfeat = sdeck[\"fcfeat\"][i]\n",
    "        tlevel = tdeck[\"tlevel\"][index]\n",
    "        dists.append(dist)\n",
    "        indices.append(index)\n",
    "        fcfeats.append(fcfeat)\n",
    "        tlevels.append(tlevel)\n",
    "\n",
    "        t.update()"
   ]
  },
  {
   "cell_type": "code",
   "execution_count": 13,
   "id": "f67fdf4d-54ed-48fc-9023-feae40f94a23",
   "metadata": {},
   "outputs": [
    {
     "data": {
      "text/plain": [
       "(tensor([0., 0., 0., 0., 0., 0., 0., 0.]),\n",
       " tensor([3201, 2550, 1541, 2047,  406,  215,  521,  748]),\n",
       " tensor([  5.6391,  -6.5677, -10.9962,  -2.0778, -11.2075,  -5.0317, -10.6327]),\n",
       " tensor([0, 0, 0, 0, 0, 0, 0, 0]))"
      ]
     },
     "execution_count": 13,
     "metadata": {},
     "output_type": "execute_result"
    }
   ],
   "source": [
    "dists[0], indices[0], fcfeats[0], tlevels[0]"
   ]
  },
  {
   "cell_type": "code",
   "execution_count": 14,
   "id": "536ff7cd-0ab1-470b-9e1e-23a7a9ea92d2",
   "metadata": {},
   "outputs": [
    {
     "data": {
      "text/plain": [
       "(torch.Size([8]), torch.Size([8]), torch.Size([7]), torch.Size([8]))"
      ]
     },
     "execution_count": 14,
     "metadata": {},
     "output_type": "execute_result"
    }
   ],
   "source": [
    "dists[0].shape, indices[0].shape, fcfeats[0].shape, tlevels[0].shape"
   ]
  },
  {
   "cell_type": "code",
   "execution_count": 15,
   "id": "933c656b-6d67-46d1-a7aa-18ee166ce5ac",
   "metadata": {},
   "outputs": [],
   "source": [
    "dists_ = torch.stack(dists)\n",
    "indices_ = torch.stack(indices)\n",
    "fcfeats_ = torch.stack(fcfeats)\n",
    "tlevels_ = torch.stack(tlevels)"
   ]
  },
  {
   "cell_type": "code",
   "execution_count": 16,
   "id": "cd00bbbb-86f5-4f41-a074-d15bb1816dfe",
   "metadata": {},
   "outputs": [],
   "source": [
    "np.savez_compressed(\n",
    "    f\"results/distilbert-base-uncased/{postfix}-deck3.npz\",\n",
    "    dists=dists_.numpy(),\n",
    "    indices=indices_.numpy(),\n",
    "    fcfeats=fcfeats_.numpy(),\n",
    "    tlevels=tlevels_.numpy(),\n",
    ")"
   ]
  },
  {
   "cell_type": "markdown",
   "id": "22716d56-bf73-441f-be8a-f7a913fe0e5f",
   "metadata": {},
   "source": [
    "## deck결과 연구"
   ]
  },
  {
   "cell_type": "code",
   "execution_count": 18,
   "id": "0f0e1734-1710-412a-a408-75f04d517e13",
   "metadata": {},
   "outputs": [],
   "source": [
    "dl = load_train_total_data(C.dataset.dir, DistilBertTokenizer.from_pretrained(C.model.name), 100, 6, ver=2)\n",
    "ds = dl.dataset\n",
    "df = pd.read_csv(\"data/ori/test.csv\")\n",
    "tdf = pd.read_csv(\"data/ori/train.csv\")"
   ]
  },
  {
   "cell_type": "code",
   "execution_count": 19,
   "id": "e9eb84c3-465b-4374-b652-bcaf8832f1c4",
   "metadata": {},
   "outputs": [],
   "source": [
    "deck3 = np.load(f\"results/distilbert-base-uncased/{postfix}-deck3.npz\")"
   ]
  },
  {
   "cell_type": "code",
   "execution_count": 20,
   "id": "f08e5af9-aa81-4006-a7a3-92b0275a9099",
   "metadata": {},
   "outputs": [],
   "source": [
    "deck3 = {k: torch.from_numpy(v) for k, v in deck3.items()}"
   ]
  },
  {
   "cell_type": "code",
   "execution_count": 21,
   "id": "a189a736-88c6-4674-ac65-3b5b28236298",
   "metadata": {},
   "outputs": [],
   "source": [
    "deck3[\"fclevels\"] = deck3[\"fcfeats\"].argmax(1)"
   ]
  },
  {
   "cell_type": "code",
   "execution_count": 22,
   "id": "b244eb74-b258-4fff-b480-8b3150cf62d4",
   "metadata": {},
   "outputs": [
    {
     "data": {
      "text/plain": [
       "{'dists': tensor([[0.0000, 0.0000, 0.0000,  ..., 0.0000, 0.0000, 0.0000],\n",
       "         [0.0000, 0.0000, 0.0000,  ..., 0.0000, 0.0000, 0.0000],\n",
       "         [0.0368, 0.0373, 0.0453,  ..., 0.0467, 0.0468, 0.0484],\n",
       "         ...,\n",
       "         [0.0062, 0.0072, 0.0085,  ..., 0.0104, 0.0109, 0.0109],\n",
       "         [0.0027, 0.0027, 0.0027,  ..., 0.0027, 0.0027, 0.0027],\n",
       "         [0.0025, 0.0025, 0.0025,  ..., 0.0025, 0.0025, 0.0025]]),\n",
       " 'indices': tensor([[  3201,   2550,   1541,  ...,    215,    521,    748],\n",
       "         [    17,     13,      8,  ...,      0,      3,      6],\n",
       "         [329544, 324718, 432974,  ..., 438212, 271713, 300748],\n",
       "         ...,\n",
       "         [224941, 102391, 309258,  ..., 237236, 446597,  95542],\n",
       "         [   102,     71,     66,  ...,     12,     60,     61],\n",
       "         [    17,     13,      8,  ...,      0,      3,      6]]),\n",
       " 'fcfeats': tensor([[  5.6391,  -6.5677, -10.9962,  ..., -11.2075,  -5.0317, -10.6327],\n",
       "         [  6.0033,  -6.9053, -11.4707,  ..., -11.7123,  -5.1550, -11.0984],\n",
       "         [ -4.7661,   5.6446,  -6.9753,  ...,  -8.2128,  -3.7141,  -7.7323],\n",
       "         ...,\n",
       "         [ -4.8700,   5.7893,  -7.1408,  ...,  -8.3661,  -3.7525,  -7.9248],\n",
       "         [  6.8490,  -7.6489, -13.0096,  ..., -13.2484,  -5.3320, -12.7480],\n",
       "         [  6.0038,  -6.9056, -11.4711,  ..., -11.7132,  -5.1551, -11.0988]]),\n",
       " 'tlevels': tensor([[0, 0, 0,  ..., 0, 0, 0],\n",
       "         [0, 0, 0,  ..., 0, 0, 0],\n",
       "         [1, 1, 1,  ..., 1, 1, 1],\n",
       "         ...,\n",
       "         [1, 1, 1,  ..., 1, 1, 1],\n",
       "         [0, 0, 0,  ..., 0, 0, 0],\n",
       "         [0, 0, 0,  ..., 0, 0, 0]]),\n",
       " 'fclevels': tensor([0, 0, 1,  ..., 1, 0, 0])}"
      ]
     },
     "execution_count": 22,
     "metadata": {},
     "output_type": "execute_result"
    }
   ],
   "source": [
    "deck3"
   ]
  },
  {
   "cell_type": "code",
   "execution_count": 23,
   "id": "ae8b4bb4-0221-455c-b6bd-3f39bc0fd447",
   "metadata": {},
   "outputs": [
    {
     "name": "stdout",
     "output_type": "stream",
     "text": [
      "776033 1321286 812987 833900 100875 878261 1380816 930198 843165 1401434 1209119 351430 867344 1248775 868865 1336665 912728 613148 54247 1203974 649234 673688 488060 1361861 823869 868277 563330 305976 179014 1028956 1293703 1216814 560070 968749 102363 877420 7890 68203 1101250 1030009 363378 66649 229188 411340 1257904 1001613 1375881 633250 265925 1111068 64630 1380802 146134 22246 784227 148482 885168 79909 133353 435978 640872 507906 948013 66248 464309 1032137 93830 1169358 26611 625020 124131 417984 699735 41200 278138 830753 1201878 1147646 190307 65387 459701 1288254 442860 1111058 74637 198598 1086224 323664 1318463 70089 340297 200861 411194 541624 316400 818149 897437 471875 153382 765739 1267226 758508 1386509 296054 76838 1179074 287035 72520 487726 12250 1240629 1398587 447285 986930 1197207 1294230 400172 792421 254063 283776 1129966 689722 536615 711251 384420 1090762 1392979 1285687 1239920 631395 933984 937013 1186929 723219 634373 683371 1315846 1289695 362550 1170801 53736 706410 778415 775995 138723 567960 373288 722257 1189204 329118 1095797 786217 253570 1257010 698144 1144850 1314694 1036955 257917 994160 262584 113459 349066 892213 586315 663964 249810 202879 793150 1353447 1243165 557779 337847 97456 1282788 895050 148979 280846 485187 803631 119759 706883 358839 584620 1400122 253403 1268785 203669 500413 629639 545893 473166 351474 860037 301846 1343974 439730 919772 464615 706658 523049 1378228 1388489 1267055 492659 1025057 918705 1136985 1113524 58126 1015675 1236527 842610 1053830 342753 385750 1003823 725055 714618 855754 1038346 69985 262035 1206145 1136864 903635 1348825 265564 15160 146998 765566 1067324 725175 210211 522021 208260 891851 89806 602790 1168675 10977 1347412 1266353 925383 725843 1107806 715879 397674 715344 68433 220621 177589 156913 790018 391189 417302 134165 612374 656900 618541 775976 1138724 79586 1093714 916495 1360862 704320 244738 562910 1272603 330068 921733 476523 834516 555778 325665 1224682 1183349 639179 1249219 1344909 403988 324320 1285137 685580 984313 391260 1246008 229259 743213 941046 443376 1178391 806053 1205019 1229763 119211 538927 905187 245082 1001476 282414 692950 16932 1014018 519388 724797 1060154 764979 1320714 498019 1394210 1227570 1349468 849800 638739 950863 147281 50899 133911 448861 852470 201568 159643 175138 51953 169905 61121 193314 1174922 885269 592496 324628 1274395 182070 1393580 1290929 753043 465919 1116409 240023 1074264 1017062 555595 599882 63975 1288846 640859 1053197 475295 306502 774349 1310723 540106 56488 486253 994333 498279 385118 749737 893673 526783 508677 783997 1071846 648651 277136 392144 871076 143352 991686 647001 1009694 1016614 158447 374788 782557 422945 957952 516736 587580 509918 1367641 554720 583008 513531 117614 989175 878423 1310064 589640 1038198 1099425 507487 606467 209567 861479 1350456 98325 58797 1041632 498548 1352554 237028 38592 647174 222456 103617 84329 460121 672860 470928 615806 117120 1106059 713456 410249 1276180 258235 454072 1132683 270179 661341 846523 1046001 964905 971404 229252 914875 27854 440770 484050 648933 547899 752894 1258732 710035 215791 373900 530379 455381 1224816 1078715 982297 1350761 671198 182445 1213127 476759 276564 1216219 1085297 11515 451943 1019475 82287 1292011 1313835 258420 741654 1241943 1131555 1213279 680650 1169229 210933 539834 521295 843241 705441 1007511 375285 424928 1333438 1374647 641537 216141 122720 667667 780579 1405043 737453 82047 291672 971301 607089 963100 1373814 926229 641117 6003 829306 236293 30852 1213976 1413155 152604 184448 398587 85474 1391989 623885 748448 1380764 290496 1271251 203311 649135 672208 81139 736442 268382 1411263 368924 1001509 1118924 451841 170457 1208677 1376627 859862 880670 397914 763582 31539 1090185 1229356 503551 1094642 632377 227078 600542 872936 538051 634266 618158 1166153 1132003 51887 1284064 690800 581422 153891 594674 755403 1223462 1356744 361830 229622 65980 1414641 1168645 585641 1059158 361035 521634 594972 1354562 1356198 885100 1292027 712003 746289 1055660 1281961 675 840146 789810 1156752 1247566 1231764 848132 810634 778531 1367390 1303694 108846 3780 19574 1390564 1101795 1025407 1147494 730114 475616 1020319 137872 592449 1410455 284669 338146 1040891 957827 388615 119436 1192503 626187 981672 625811 449492 316368 160810 38180 571300 1031237 800421 1326151 684851 338291 790551 1401901 711210 456731 1022341 542779 561525 1371396 966531 1404810 639625 1086984 209226 723088 1113327 255107 138985 719817 1200618 495518 597616 1142114 347802 1374104 861977 1139967 1340930 770113 1244749 599639 144966 100362 1407129 290443 1128777 769057 694212 1131001 1007111 684383 794292 924133 503646 773723 201629 1346149 411933 100828 108312 60878 67924 1353251 806925 447118 524855 265998 939642 91568 1138221 194715 142103 1321852 369027 1014546 487467 972324 1060116 642375 1268398 219803 732710 1112548 995628 804165 709086 1094216 434920 53516 987986 1336019 828366 348086 1317024 1362958 214469 591700 1120639 977633 1303902 978666 545406 1090151 564437 719005 862749 761478 1001321 393569 394085 1361033 201946 11015 45158 530882 278478 977556 1264863 337624 594968 257353 311290 968753 45028 207252 452607 896051 263266 709312 1059759 555292 1030554 897325 1005714 1383521 903516 930701 913542 307082 1032818 165543 741201 166939 768578 694146 1133925 382344 1182976 1037506 706949 154755 236137 761433 1400261 1308192 177433 1016877 904075 50747 324304 280215 1094292 633127 988839 565883 199860 1063862 892846 247539 77440 934699 1249087 329693 171740 500467 956511 427956 595399 317339 376317 1007273 569985 1205539 1195421 507397 1262995 619525 309489 399430 718585 215582 637017 745192 399886 340793 180708 583215 37539 371417 1173085 50486 1173686 877866 374245 142588 257809 124322 407691 1394926 1095569 402920 245528 1271992 469389 950402 664220 1107166 320296 1150907 1072834 714753 115577 1217211 917515 1101340 144118 696809 444239 282381 468278 902098 988217 1314297 824575 808040 756086 1302478 1353298 1139252 553492 931062 1160826 1174669 422690 394491 728851 1171413 167531 828584 1061396 1157751 606540 1102191 515763 1221007 541943 1021979 564146 165164 1392146 695615 664176 1294177 379741 1242473 1310078 890697 804058 734999 607161 424706 362181 1369165 1167471 720218 1231081 1171106 577084 931812 502697 212800 1185870 1146502 957786 1054274 742319 1269883 1160188 1356682 21125 1314883 1376413 674383 576912 1134898 634799 1363903 619716 1137957 1325705 796568 191083 989822 706986 1237815 306824 120524 996696 1404801 1403829 732802 1190434 1080683 1373478 111510 1174527 1405140 504781 208061 453488 1181554 1024919 775883 232954 122559 1194448 875404 81118 908487 945592 180816 314882 69197 1161931 452269 644422 1351446 658857 1280950 1407993 1224378 579699 1131183 81614 226217 701947 572087 281074 338623 719543 587984 68300 1049116 826160 1386481 215476 1102531 519726 1084384 1393754 1031106 670562 904006 1321900 339276 1045563 665360 324129 435889 1209465 491155 620681 1015101 132410 838299 296498 3856 1240879 1288722 1051265 1005642 1087914 1143402 817005 615934 398467 497216 1029133 1046353 1054189 1271129 993101 662381 843324 913183 1235230 660701 675116 1060193 1298609 173163 858869 470231 1192523 875248 1175366 1165787 328960 1033695 965247 70060 1355596 1114773 228443 57021 1168176 1213150 1327702 432622 316756 341133 1359687 164196 275555 222526 248398 734796 938387 416831 1302583 1088788 127950 1189548 1209435 339562 1053820 630345 1175724 219809 1312336 1001647 136259 354003 888930 1366517 765946 46348 148957 1068629 1416519 751654 1260256 1310265 1045695 326776 180693 864016 718706 802071 6621 1366863 1133060 1050763 109302 93934 578423 20034 1059699 233202 1046534 401434 305787 904973 1219499 1143186 1064012 1352129 137732 779428 1033400 1074168 949998 887903 630329 112234 358289 900270 1062506 1113505 1407100 818619 1251480 974281 442224 826464 1349960 548552 620759 1093095 549466 970668 1281652 636466 1268801 290148 520272 1188886 140706 621848 730193 1242646 684698 1360601 1262739 976149 361787 1067177 1049228 635139 793482 468371 1364453 402859 725246 273916 526527 330085 1264221 193188 997468 986718 875704 1211678 1412196 419444 5934 281655 315399 1058281 1123285 539369 1388974 28909 740964 368780 886510 1073479 259982 380935 36582 1327037 585731 296888 9348 1100226 522773 1128548 544602 1002974 190392 762947 283555 1417409 426552 1361844 310901 257368 567692 683159 725920 506504 537005 299069 330366 863919 107927 725476 980020 1236675 778732 726799 283170 1161348 1386553 845042 321493 83279 1358446 1167326 1306240 546369 126889 1251718 1271296 110436 875119 919745 429662 1138674 344554 491357 824975 753226 632375 109667 323964 1335932 1090981 807869 828430 196470 694877 1123905 1411753 1194232 128470 513772 1035156 291088 903969 887236 883032 70526 840537 204035 94414 878891 355706 627532 425682 962502 920487 178986 233879 1340523 981993 1012172 1386978 1324411 631142 1005238 1044023 579559 826569 1066519 1136784 1340896 27112 953981 802539 1307669 264380 678301 1218233 912745 940739 408558 815044 112430 997891 357562 856557 1227168 1279626 583839 1021142 443650 406790 1383514 64838 1007266 918816 967833 437369 389727 104784 682964 64268 402330 312563 848974 812189 898474 908248 80488 661477 230175 36586 521922 855387 882429 219706 299378 1071726 508715 747347 1304336 715654 1059961 649520 1336115 503592 454762 186224 731143 426683 527948 1027368 1098998 828468 1076785 1197430 629208 362784 222697 130596 923962 421523 1087682 1176982 862738 509796 29461 944909 367416 1221544 183246 36459 492434 299317 901177 1159479 1074731 960239 483861 1017682 978122 947734 274088 655440 1020336 533077 1116095 974352 1221631 1212005 882307 961992 940313 1207978 1050077 129163 713508 139650 386639 1377426 915627 872836 941264 53996 572197 62439 404914 1355360 836547 1233879 1263788 1119216 240647 342908 791772 546127 466124 213564 938750 1269392 722866 725187 755505 401331 916998 111625 886867 820155 223965 960071 8733 399151 379345 339541 718440 337493 948637 1282369 971295 1132353 185225 851010 878363 548916 114644 715471 821909 35170 729009 986145 523936 296414 603472 862513 1370156 59315 461923 295163 1315924 1325263 793041 269453 853594 1081129 1261182 944108 678471 1256276 182465 142979 15864 1363885 986594 358072 612885 878828 896915 115896 1008291 569980 996184 1272757 940084 596343 169065 1095854 820659 1147048 138947 581101 95220 49818 699094 857889 400792 868370 747491 158112 526619 651797 184191 1402940 1197243 664800 307860 150149 1202722 276364 924556 962235 170855 231211 617526 543879 204536 220076 149047 442791 948327 1094481 175221 859980 289739 316556 1169270 1194100 670958 566289 203192 891350 51517 515509 145541 22144 995439 335311 267516 529028 1098125 314954 1326117 1188561 734921 921902 863827 4774 1073593 438815 910696 92686 188217 202833 402090 302603 1392344 996381 1242379 1318356 1373944 459803 1317185 1275559 1063191 263979 745692 435450 326919 127593 45581 604673 164212 100227 1381690 1102897 422492 939837 207895 21436 46047 693944 1011646 979397 178693 141569 1146091 359735 668332 664787 756956 1375466 1126526 967968 1188209 293909 1200576 501243 714509 183938 535612 126959 196437 1098775 535041 550484 283021 56562 59907 1094220 539311 683604 1242729 162389 382824 581753 484853 1312262 1266387 798696 321081 33492 1094212 621360 13695 349305 110187 968808 916900 267887 899097 856964 1112163 959989 634618 472422 385952 1040151 275826 491258 756901 497458 221869 40548 1130972 172566 871601 131874 278695 267330 596880 1091680 1277988 829295 822972 1177811 1103074 743487 348404 701734 224675 1384097 56907 1262759 272321 735211 539679 754196 1411380 1303586 1181450 539406 1330883 863813 901555 958509 1226355 177310 563740 174608 1013329 731424 785543 625865 1091347 1259123 323697 622976 902048 97021 1331233 1252868 819026 899518 1184094 932131 918706 956825 1161923 1413260 222150 491598 326296 177091 1248894 2878 1256545 213553 1355066 872711 743511 871424 26742 292521 1251962 993159 1092279 1215515 136495 339062 820308 924753 891403 226853 673563 1248538 1356524 1066152 1243415 63022 1251788 1315828 1183419 121798 930632 868738 290930 591743 1194304 5406 1331497 1261862 878678 508296 315782 133337 123270 755320 533786 412184 431983 798917 624144 1179417 838496 1034217 442323 186941 1387403 1018007 65362 543365 216494 715968 1217120 141944 966450 124586 10636 710237 801420 724227 250793 608128 1043023 807333 121018 6440 1028998 291025 313686 1379105 491282 319164 141324 1154975 393393 1001026 1410142 1117055 477313 767951 117503 342529 241072 66819 285151 124715 981747 134761 1055131 273273 1262162 1117022 1107150 1202175 313974 636255 720751 1124503 826317 386292 6625 622686 1346508 837851 77760 282512 954768 429994 1085445 571865 663913 1318190 638950 547628 890333 338917 171410 1312490 241504 1126921 812646 845012 1360439 176358 727301 1347182 1399034 1371425 148634 413708 740475 261131 306381 205022 723505 784492 1237916 330754 781828 1349335 666218 60334 936199 764306 77573 38740 1335464 1135155 1042753 505732 671666 1059938 385568 1310033 510613 721196 438541 368065 88037 468956 405379 1205415 628764 1286398 1192231 1017053 131536 916118 1139668 1388647 847301 2607 876361 1199310 40344 1320782 1053782 131484 928471 1150724 582422 1196249 1208401 496390 205259 1391876 828983 752182 1323141 1315884 664853 141392 939468 1363316 365449 1403035 1065598 788493 1096795 132171 1302855 793172 1230937 575022 422935 463946 369766 451162 910744 1417695 1400672 722402 37180 1276044 489648 986255 712687 1101099 855297 886087 7250 1392500 353598 758341 1145991 40745 1410542 1034117 638627 160085 1374808 1267721 146136 1025797 1159805 623254 1365521 1092094 560300 1169138 795339 1125426 503233 293552 1372301 1392683 194653 847654 707512 1136099 706005 1359224 116590 294100 1172960 743558 254596 1279766 1220947 572312 987527 361378 877905 1172244 1171044 916908 260784 819534 830000 726341 340040 807690 914880 840147 574853 290032 1006662 176574 369484 517041 702618 550914 174169 384453 204852 827390 148531 624224 1342647 890435 773540 132631 748044 1155946 153925 540038 217502 8358 964073 658010 61010 1008390 556732 762611 18340 400078 584126 361415 972719 933161 1219099 536413 1315991 1181884 1139287 1239156 1185663 226405 504468 608265 223533 124262 761058 56496 1223703 1224582 1097046 1259252 457424 967613 399772 376888 361686 91679 1046034 1346018\n"
     ]
    }
   ],
   "source": [
    "knn = deck3[\"dists\"][:, 0].topk(2000)\n",
    "print(\" \".join(map(str, knn.indices.tolist())))"
   ]
  },
  {
   "cell_type": "code",
   "execution_count": 23,
   "id": "9bf49389-a8bc-4bd0-850a-ab66a0bdf672",
   "metadata": {},
   "outputs": [
    {
     "name": "stdout",
     "output_type": "stream",
     "text": [
      "tensor([ 1.9472,  3.7096,  3.7096,  3.8276,  3.8276,  3.8276,  6.8809, 12.9704])\n",
      "tensor([221847, 429489, 213304, 406796, 361823, 170386,  87783,  64919])\n",
      "tensor(6)\n",
      "tensor([6, 6, 6, 6, 6, 6, 6, 4])\n",
      "Sep 18 10:31:30 localhost groupadd[5200]: new group: name=kibana, GID=977\n",
      "\n",
      "6 Jan 29 11:28:59 localhost useradd[88679]: new group: name=test, GID=1001\n",
      "\n",
      "6 Feb  4 09:59:43 localhost kernel: device enp2s0 entered promiscuous mode\n",
      "\n",
      "6 Mar  8 15:29:30 localhost kernel: device enp2s0 entered promiscuous mode\n",
      "\n",
      "6 Feb  4 09:59:33 localhost kernel: device virbr0-nic entered promiscuous mode\n",
      "\n",
      "6 Feb  2 17:22:58 localhost kernel: device virbr0-nic entered promiscuous mode\n",
      "\n",
      "6 Feb  8 16:16:47 localhost kernel: device virbr0-nic entered promiscuous mode\n",
      "\n",
      "6 Jan 30 08:23:17 localhost sshd[18415]: Bad protocol version identification '\\003' from 78.128.113.18 port 1073\n",
      "\n",
      "4 Nov 29 05:44:21 localhost sshd[6008]: Did not receive identification string from 211.253.243.66 port 57487\n",
      "\n"
     ]
    }
   ],
   "source": [
    "j = 848132\n",
    "print(deck3[\"dists\"][j])\n",
    "print(deck3[\"indices\"][j])\n",
    "print(deck3[\"fclevels\"][j])\n",
    "print(deck3[\"tlevels\"][j])\n",
    "print(df.full_log[j])\n",
    "\n",
    "print()\n",
    "for k in range(8):\n",
    "    kk = deck3[\"indices\"][j][k].item()\n",
    "    print(tdf.level[kk], tdf.full_log[kk])\n",
    "    print()"
   ]
  },
  {
   "cell_type": "code",
   "execution_count": 20,
   "id": "0ef2d5af-f929-4a3e-8c24-4bc597d37cde",
   "metadata": {},
   "outputs": [
    {
     "name": "stdout",
     "output_type": "stream",
     "text": [
      "tensor(563330)\n",
      "tensor(179014)\n",
      "tensor(1293703)\n",
      "tensor(848132)\n",
      "tensor(64268)\n",
      "tensor(147553)\n"
     ]
    }
   ],
   "source": [
    "for i in knn.indices:\n",
    "    if deck3[\"tlevels\"][i][0] in [6]:\n",
    "        print(i)"
   ]
  },
  {
   "cell_type": "markdown",
   "id": "190a352c-a63e-4a9e-87f4-1ff779b4f8d4",
   "metadata": {},
   "source": [
    "## level7 validation 확인"
   ]
  },
  {
   "cell_type": "code",
   "execution_count": 24,
   "id": "ede7066d-fc43-47af-ac63-6ed27e86d7cf",
   "metadata": {},
   "outputs": [],
   "source": [
    "deck1 = np.load(f\"results/distilbert-base-uncased/{postfix}-deck1.npz\")\n",
    "deck2 = np.load(f\"results/distilbert-base-uncased/{postfix}-deck2.npz\")"
   ]
  },
  {
   "cell_type": "code",
   "execution_count": 25,
   "id": "7c3e66b3-4c76-4ffa-a6ad-0a386e8d9606",
   "metadata": {},
   "outputs": [],
   "source": [
    "tdeck = {\"feat\": torch.from_numpy(deck1[\"feat\"]).cuda(), \"tlevel\": torch.from_numpy(deck1[\"tlevel\"])}"
   ]
  },
  {
   "cell_type": "code",
   "execution_count": 26,
   "id": "b70fd632-d298-426f-897b-c085bcc2512f",
   "metadata": {},
   "outputs": [],
   "source": [
    "sdeck = {\n",
    "    \"feat\": torch.from_numpy(deck2[\"feat\"]).cuda(),\n",
    "    \"fcfeat\": torch.from_numpy(deck2[\"fcfeat\"]),\n",
    "    \"fclevel\": torch.from_numpy(deck2[\"fclevel\"]),\n",
    "}"
   ]
  },
  {
   "cell_type": "code",
   "execution_count": 27,
   "id": "ea1a4214-480f-4712-bfd9-fc207f671136",
   "metadata": {},
   "outputs": [
    {
     "data": {
      "text/plain": [
       "(torch.Size([472972, 768]), torch.Size([1418916, 768]))"
      ]
     },
     "execution_count": 27,
     "metadata": {},
     "output_type": "execute_result"
    }
   ],
   "source": [
    "tdeck[\"feat\"].shape, sdeck[\"feat\"].shape"
   ]
  },
  {
   "cell_type": "code",
   "execution_count": 28,
   "id": "dd831026-b3f3-4037-a534-250207bf5905",
   "metadata": {},
   "outputs": [],
   "source": [
    "def get_dist(deck, feat, topk):\n",
    "    dist = torch.norm(deck - feat[None], dim=1, p=None)\n",
    "    values, indices = dist.topk(topk, largest=False)  # knn\n",
    "    return values, indices"
   ]
  },
  {
   "cell_type": "markdown",
   "id": "023971dd-75a5-496f-b312-ffd1327ab587",
   "metadata": {},
   "source": [
    "### 1"
   ]
  },
  {
   "cell_type": "code",
   "execution_count": 29,
   "id": "5f060913-99ce-4e7a-8991-07a18b62ec17",
   "metadata": {},
   "outputs": [
    {
     "ename": "NameError",
     "evalue": "name 'trainer' is not defined",
     "output_type": "error",
     "traceback": [
      "\u001b[0;31m---------------------------------------------------------------------------\u001b[0m",
      "\u001b[0;31mNameError\u001b[0m                                 Traceback (most recent call last)",
      "\u001b[0;32m<ipython-input-29-fc6eb3759a48>\u001b[0m in \u001b[0;36m<module>\u001b[0;34m\u001b[0m\n\u001b[0;32m----> 1\u001b[0;31m \u001b[0mid\u001b[0m\u001b[0;34m,\u001b[0m \u001b[0mtext\u001b[0m\u001b[0;34m,\u001b[0m \u001b[0motext\u001b[0m \u001b[0;34m=\u001b[0m \u001b[0mtrainer\u001b[0m\u001b[0;34m.\u001b[0m\u001b[0mdl_test2\u001b[0m\u001b[0;34m.\u001b[0m\u001b[0mdataset\u001b[0m\u001b[0;34m[\u001b[0m\u001b[0;36m0\u001b[0m\u001b[0;34m]\u001b[0m\u001b[0;34m\u001b[0m\u001b[0;34m\u001b[0m\u001b[0m\n\u001b[0m",
      "\u001b[0;31mNameError\u001b[0m: name 'trainer' is not defined"
     ]
    }
   ],
   "source": [
    "id, text, otext = trainer.dl_test2.dataset[0]"
   ]
  },
  {
   "cell_type": "code",
   "execution_count": null,
   "id": "ddaded54-a614-4303-b033-776ae3cf7758",
   "metadata": {},
   "outputs": [],
   "source": [
    "activation = []\n",
    "fclevel = model(text[None].cuda())[0].cpu()\n",
    "fclevel"
   ]
  },
  {
   "cell_type": "code",
   "execution_count": null,
   "id": "dc52b71b-7896-4f98-b60f-0ba630f8ff21",
   "metadata": {},
   "outputs": [],
   "source": [
    "get_dist(tdeck[\"feat\"], activation[0][0].cuda(), 8), otext"
   ]
  },
  {
   "cell_type": "markdown",
   "id": "2b79c809-a4ac-4570-9dbc-d073639caac0",
   "metadata": {},
   "source": [
    "### 2"
   ]
  },
  {
   "cell_type": "code",
   "execution_count": 35,
   "id": "e1fd362e-6975-4272-b7f6-8f7dce39739f",
   "metadata": {},
   "outputs": [],
   "source": [
    "id, text, otext = trainer.dl_test2.dataset[1]"
   ]
  },
  {
   "cell_type": "code",
   "execution_count": 36,
   "id": "5362cc0f-5af0-4a3d-84e5-7e23fd58940a",
   "metadata": {},
   "outputs": [
    {
     "data": {
      "text/plain": [
       "tensor([[ -4.0427,  -3.1190, -10.1804,   1.6434,  -9.0297,  -4.3041,  -8.9703]])"
      ]
     },
     "execution_count": 36,
     "metadata": {},
     "output_type": "execute_result"
    }
   ],
   "source": [
    "activation = []\n",
    "fclevel = model(text[None].cuda())[0].cpu()\n",
    "fclevel"
   ]
  },
  {
   "cell_type": "code",
   "execution_count": 37,
   "id": "bc611d14-6445-49ec-a273-ce9144c74a73",
   "metadata": {},
   "outputs": [
    {
     "data": {
      "text/plain": [
       "((tensor([1.6136, 1.6294, 1.7145, 1.7167, 1.7201, 1.7224, 1.7280, 1.7363],\n",
       "         device='cuda:0'),\n",
       "  tensor([163298, 299508, 310029, 328946,  11113, 240492, 316291, 260730],\n",
       "         device='cuda:0')),\n",
       " 'oscap: msg: \"xccdf-result\", scan-id: \"0001600739632\", content: \"ssg-centos-7-ds.xml\", title: \"Prevent Log In to Accounts With Empty Password\", id: \"xccdf_org.ssgproject.content_rule_no_empty_passwords\", result: \"fail\", severity: \"high\", description: \"If an account is configured for password authentication but does not have an assigned password, it may be possible to log into the account without authentication. Remove any instances of the nullok option in /etc/pam.d/system-auth to prevent logins with empty p')"
      ]
     },
     "execution_count": 37,
     "metadata": {},
     "output_type": "execute_result"
    }
   ],
   "source": [
    "get_dist(tdeck[\"feat\"], activation[0][0].cuda(), 8), otext"
   ]
  },
  {
   "cell_type": "markdown",
   "id": "e14fa70c-8233-4ca9-999f-162eb10ec3ed",
   "metadata": {},
   "source": [
    "### 3"
   ]
  },
  {
   "cell_type": "code",
   "execution_count": 38,
   "id": "c57f181a-2b4b-43d4-87f1-60c8b0f5a361",
   "metadata": {},
   "outputs": [],
   "source": [
    "id, text, otext = trainer.dl_test2.dataset[2]"
   ]
  },
  {
   "cell_type": "code",
   "execution_count": 39,
   "id": "5827bf08-bf3f-4ae6-8a9e-51a661525517",
   "metadata": {},
   "outputs": [
    {
     "data": {
      "text/plain": [
       "tensor([[ 0.3696, -0.4240, -5.7242, -2.2731, -6.0591, -1.3458, -5.9721]])"
      ]
     },
     "execution_count": 39,
     "metadata": {},
     "output_type": "execute_result"
    }
   ],
   "source": [
    "activation = []\n",
    "fclevel = model(text[None].cuda())[0].cpu()\n",
    "fclevel"
   ]
  },
  {
   "cell_type": "code",
   "execution_count": 40,
   "id": "256a24a8-9f40-4cd6-a334-1ea5d5f0d722",
   "metadata": {},
   "outputs": [
    {
     "data": {
      "text/plain": [
       "((tensor([3.5613, 3.5856, 3.6131, 3.6169, 3.6803, 3.6803, 3.6803, 3.6897],\n",
       "         device='cuda:0'),\n",
       "  tensor([ 14398, 340609, 433752, 412324, 379846, 236552,  38289, 115741],\n",
       "         device='cuda:0')),\n",
       " 'kernel: Out of memory: Kill process 1736 (probe_rpmverify) score 243 or sacrifice child')"
      ]
     },
     "execution_count": 40,
     "metadata": {},
     "output_type": "execute_result"
    }
   ],
   "source": [
    "get_dist(tdeck[\"feat\"], activation[0][0].cuda(), 8), otext"
   ]
  },
  {
   "cell_type": "markdown",
   "id": "e67698b6-f065-42e7-888e-50c3c5b1c0f2",
   "metadata": {},
   "source": [
    "## submission 파일 만들기"
   ]
  },
  {
   "cell_type": "code",
   "execution_count": 6,
   "id": "12cea270-21dd-4599-8f57-dab69b44d02b",
   "metadata": {},
   "outputs": [],
   "source": [
    "dl = load_train_total_data(C.dataset.dir, DistilBertTokenizer.from_pretrained(C.model.name), 100, 6, ver=2)\n",
    "ds = dl.dataset\n",
    "df = pd.read_csv(\"data/ori/test.csv\")\n",
    "tdf = pd.read_csv(\"data/ori/train.csv\")"
   ]
  },
  {
   "cell_type": "code",
   "execution_count": 7,
   "id": "ac085a5c-ce5a-4273-82f7-8b6f1f83a486",
   "metadata": {},
   "outputs": [],
   "source": [
    "deck3 = np.load(f\"results/distilbert-base-uncased/{postfix}-deck3.npz\")"
   ]
  },
  {
   "cell_type": "code",
   "execution_count": 8,
   "id": "4c40e3fc-96fd-429a-973f-4f9b5c23c40a",
   "metadata": {},
   "outputs": [],
   "source": [
    "deck3 = {k: torch.from_numpy(v) for k, v in deck3.items()}"
   ]
  },
  {
   "cell_type": "code",
   "execution_count": 9,
   "id": "7a872e18-4f33-4f33-9ef3-c184def2abaa",
   "metadata": {},
   "outputs": [],
   "source": [
    "deck3[\"fclevels\"] = deck3[\"fcfeats\"].argmax(1)"
   ]
  },
  {
   "cell_type": "code",
   "execution_count": 10,
   "id": "2511d3c1-469a-49a1-a477-5b9f2ece6806",
   "metadata": {},
   "outputs": [],
   "source": [
    "# ver1\n",
    "def politic_draw(dists, indices, fclevel, tlevels):\n",
    "    dd = dists[-1] - dists[0]\n",
    "    dist = dists[0]\n",
    "    same = (tlevels == tlevels[0]).sum() == 8\n",
    "\n",
    "    # policy1: dist와 관계 없이 모든 tlevels가 3 또는 5이면 그 값을 출력\n",
    "    if same and tlevels[0] in [3, 5]:\n",
    "        return tlevels[0].item()\n",
    "\n",
    "    # policy2: dist와 관계 없이 모든 tlevels 중 앞의 4개가 2 또는 4 또는 6이면 그 값을 출력\n",
    "    if tlevels[0] in [2, 4, 6] and (tlevels[1:4] == tlevels[0]).sum() == 3:\n",
    "        return tlevels[0].item()\n",
    "\n",
    "    # policy3: dist가 3보다 크면 level 7\n",
    "    if dist > 3:\n",
    "        return 7\n",
    "\n",
    "    # policy4: dist가 1보다 크고, tlevels가 왔다갔다하면 level 7 ?\n",
    "    if dist > 1 and not same:\n",
    "        return 7\n",
    "\n",
    "    # policy5: dd가 0.5보다 크고, tlevels가 왔다갔다하면 level 7 ?\n",
    "    if dd > 0.5 and not same:\n",
    "        return 7\n",
    "\n",
    "    # policy: dist가 0.5보다 크면 fclevel\n",
    "    if dist > 0.5:\n",
    "        return fclevel.item()\n",
    "\n",
    "    # 나머지\n",
    "    return tlevels[0].item()"
   ]
  },
  {
   "cell_type": "code",
   "execution_count": 26,
   "id": "9138ad3b-bf58-4886-97a6-e6a479fb97de",
   "metadata": {},
   "outputs": [],
   "source": [
    "# ver2\n",
    "def politic_draw(dists, indices, fclevel, tlevels):\n",
    "    dd = dists[-1] - dists[0]\n",
    "    dist = dists[0]\n",
    "    same = (tlevels == tlevels[0]).sum() == 8\n",
    "\n",
    "    # policy1: dist와 관계 없이 모든 tlevels가 3 또는 5이면 그 값을 출력\n",
    "    if same and tlevels[0] in [3, 5]:\n",
    "        return tlevels[0].item()\n",
    "\n",
    "    # policy2: dist와 관계 없이 모든 tlevels 중 앞의 4개가 2 또는 4 또는 6이면 그 값을 출력\n",
    "    if tlevels[0] in [2, 4, 6] and (tlevels[1:4] == tlevels[0]).sum() == 3:\n",
    "        return tlevels[0].item()\n",
    "\n",
    "    # policy: dist가 0.5보다 크면 level 7\n",
    "    if dist > 0.5:\n",
    "        return fclevel.item()\n",
    "\n",
    "    # 나머지\n",
    "    return tlevels[0].item()"
   ]
  },
  {
   "cell_type": "code",
   "execution_count": 244,
   "id": "a316212c-61cf-4483-87a5-aab41de02aea",
   "metadata": {},
   "outputs": [],
   "source": [
    "# ver3\n",
    "def politic_draw(dists, indices, fclevel, tlevels):\n",
    "    dd = dists[-1] - dists[0]\n",
    "    dist = dists[0]\n",
    "    same = (tlevels == tlevels[0]).sum() == 8\n",
    "\n",
    "    # policy1: dist와 관계 없이 모든 tlevels가 3 또는 5이면 그 값을 출력\n",
    "    if same and tlevels[0] in [3, 5]:\n",
    "        return tlevels[0].item()\n",
    "\n",
    "    # policy2: dist와 관계 없이 모든 tlevels 중 앞의 4개가 2 또는 4 또는 6이면 그 값을 출력\n",
    "    if tlevels[0] in [2, 4, 6] and (tlevels[1:4] == tlevels[0]).sum() == 3:\n",
    "        return tlevels[0].item()\n",
    "\n",
    "    # policy: dist가 0.5보다 크면 level 7\n",
    "    if dist > 0.5:\n",
    "        return 7\n",
    "\n",
    "    # 나머지\n",
    "    return tlevels[0].item()"
   ]
  },
  {
   "cell_type": "code",
   "execution_count": 10,
   "id": "10e7cf08-1f4d-4fe4-8f66-6fe602e06072",
   "metadata": {},
   "outputs": [],
   "source": [
    "# ver4\n",
    "def politic_draw(dists, indices, fclevel, tlevels):\n",
    "    dd = dists[-1] - dists[0]\n",
    "    dist = dists[0]\n",
    "    same = (tlevels == tlevels[0]).sum() == 8\n",
    "\n",
    "    # policy1: dist와 관계 없이 앞의 5개가 모두 tlevels가 3 또는 5이면 그 값을 출력\n",
    "    if tlevels[0] in [3, 5] and (tlevels[:5] == tlevels[0]).sum() == 5:\n",
    "        return tlevels[0].item()\n",
    "\n",
    "    # policy2: dist와 관계 없이 모든 tlevels 중 앞의 3개가 2 또는 4 또는 6이면 그 값을 출력\n",
    "    if tlevels[0] in [2, 4, 6] and (tlevels[:3] == tlevels[0]).sum() == 3:\n",
    "        return tlevels[0].item()\n",
    "\n",
    "    # policy: dist가 0.5보다 크면 level 7\n",
    "    if dist > 0.4:\n",
    "        return 7\n",
    "\n",
    "    # 나머지\n",
    "    return tlevels[0].item()"
   ]
  },
  {
   "cell_type": "code",
   "execution_count": 11,
   "id": "1dcebfbf-5f42-4802-800b-0cb78184b8ec",
   "metadata": {},
   "outputs": [
    {
     "data": {
      "text/plain": [
       "0"
      ]
     },
     "execution_count": 11,
     "metadata": {},
     "output_type": "execute_result"
    }
   ],
   "source": [
    "i = 100\n",
    "politic_draw(deck3[\"dists\"][i], deck3[\"indices\"][i], deck3[\"fclevels\"][i], deck3[\"tlevels\"][i])"
   ]
  },
  {
   "cell_type": "code",
   "execution_count": 12,
   "id": "dbfadcb4-7777-42db-b1f8-4b0dc2b1ac1b",
   "metadata": {},
   "outputs": [
    {
     "name": "stdout",
     "output_type": "stream",
     "text": [
      "100%|███████████████████████████████████████████████████| 1418916/1418916 [02:43<00:00, 8652.41it/s]\n"
     ]
    }
   ],
   "source": [
    "N = len(deck3[\"dists\"])\n",
    "outdic = {\"id\": list(range(1000000, 2418915 + 1)), \"level\": []}\n",
    "with tqdm(total=N, ncols=100, file=sys.stdout) as t:\n",
    "    for i in range(N):\n",
    "        v = politic_draw(deck3[\"dists\"][i], deck3[\"indices\"][i], deck3[\"fclevels\"][i], deck3[\"tlevels\"][i])\n",
    "        outdic[\"level\"].append(v)\n",
    "        t.update()"
   ]
  },
  {
   "cell_type": "code",
   "execution_count": 13,
   "id": "bca07203-e9ef-45a4-b37a-6c4b3ed749df",
   "metadata": {},
   "outputs": [],
   "source": [
    "outdf = pd.DataFrame(outdic)"
   ]
  },
  {
   "cell_type": "code",
   "execution_count": 14,
   "id": "ddbbd109-b43f-4195-a40f-7f98e0d55b95",
   "metadata": {},
   "outputs": [],
   "source": [
    "outdf.to_csv(f\"results/distilbert-base-uncased/{postfix}-ver4.csv\", index=False)"
   ]
  },
  {
   "cell_type": "code",
   "execution_count": null,
   "id": "055da0a9-4a73-4a09-821e-59f87cd0aa8d",
   "metadata": {},
   "outputs": [],
   "source": []
  }
 ],
 "metadata": {
  "kernelspec": {
   "display_name": "torch",
   "language": "python",
   "name": "torch"
  },
  "language_info": {
   "codemirror_mode": {
    "name": "ipython",
    "version": 3
   },
   "file_extension": ".py",
   "mimetype": "text/x-python",
   "name": "python",
   "nbconvert_exporter": "python",
   "pygments_lexer": "ipython3",
   "version": "3.7.9"
  }
 },
 "nbformat": 4,
 "nbformat_minor": 5
}
