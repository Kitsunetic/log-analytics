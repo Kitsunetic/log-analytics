{
 "cells": [
  {
   "cell_type": "code",
   "execution_count": 1,
   "id": "9499b2ec-6ebb-4575-b647-f2946b3eb8b5",
   "metadata": {},
   "outputs": [
    {
     "name": "stdout",
     "output_type": "stream",
     "text": [
      "/mnt/h/hev/log-analytics\n"
     ]
    }
   ],
   "source": [
    "%load_ext lab_black\n",
    "%cd .."
   ]
  },
  {
   "cell_type": "code",
   "execution_count": 2,
   "id": "b23a629d-38d6-4439-89a6-272d68eefbdd",
   "metadata": {},
   "outputs": [],
   "source": [
    "import argparse\n",
    "import math\n",
    "import multiprocessing\n",
    "import sys\n",
    "from datetime import datetime\n",
    "from pathlib import Path\n",
    "from pprint import pformat\n",
    "\n",
    "import numpy as np\n",
    "import pandas as pd\n",
    "import torch\n",
    "import torch.nn as nn\n",
    "import torch.nn.functional as F\n",
    "import torch_optimizer\n",
    "import yaml\n",
    "from easydict import EasyDict\n",
    "from pytorch_transformers import (\n",
    "    BertForSequenceClassification,\n",
    "    BertTokenizer,\n",
    "    DistilBertForSequenceClassification,\n",
    "    DistilBertTokenizer,\n",
    "    RobertaForSequenceClassification,\n",
    "    RobertaTokenizer,\n",
    ")\n",
    "from sklearn.model_selection import StratifiedKFold\n",
    "from torch.optim import Adam, AdamW\n",
    "from torch.optim.lr_scheduler import ReduceLROnPlateau\n",
    "from torch.utils.data import DataLoader, Dataset\n",
    "from tqdm import tqdm\n",
    "from transformers import (\n",
    "    AlbertForSequenceClassification,\n",
    "    AlbertTokenizer,\n",
    "    DebertaForSequenceClassification,\n",
    "    DebertaTokenizer,\n",
    "    SqueezeBertTokenizer,\n",
    "    SqueezeBertForSequenceClassification,\n",
    "    XLNetTokenizer,\n",
    "    XLNetForSequenceClassification,\n",
    ")\n",
    "\n",
    "from datasets import load_test_data, load_train_data, MyDataset, load_train_total_data\n",
    "from utils import SAM, AverageMeter, CustomLogger, FocalLoss, seed_everything\n",
    "\n",
    "from main import MyTrainer\n",
    "from collections import defaultdict\n",
    "import matplotlib.pyplot as plt\n",
    "import random"
   ]
  },
  {
   "cell_type": "code",
   "execution_count": 4,
   "id": "d45261ba-46c7-4bc8-b81c-c7376ddab540",
   "metadata": {},
   "outputs": [],
   "source": [
    "with open(\"config/distilbert-base-uncased.yaml\", \"r\") as f:\n",
    "    C = EasyDict(yaml.load(f, yaml.FullLoader))\n",
    "    C.result_dir = Path(C.result_dir)\n",
    "    C.dataset.dir = Path(C.dataset.dir)\n",
    "    seed_everything(C.seed, deterministic=False)"
   ]
  },
  {
   "cell_type": "code",
   "execution_count": 5,
   "id": "2cf54770-ac64-4a8c-8272-e7c57414e7a0",
   "metadata": {},
   "outputs": [
    {
     "data": {
      "text/plain": [
       "{'model': {'name': 'distilbert-base-uncased'},\n",
       " 'comment': None,\n",
       " 'result_dir': PosixPath('results/distilbert-base-uncased'),\n",
       " 'debug': False,\n",
       " 'seed': 20210425,\n",
       " 'train': {'SAM': False,\n",
       "  'folds': [1],\n",
       "  'checkpoints': [None],\n",
       "  'loss': {'name': 'focal', 'gamma': 2},\n",
       "  'optimizer': {'name': 'AdamW'},\n",
       "  'finetune': {'do': True, 'step1_epochs': 2, 'step2_epochs': 4},\n",
       "  'max_epochs': 10,\n",
       "  'lr': 1e-05,\n",
       "  'scheduler': {'name': 'ReduceLROnPlateau',\n",
       "   'params': {'factor': 0.5, 'patience': 3, 'verbose': True}}},\n",
       " 'dataset': {'dir': PosixPath('data/ori'), 'batch_size': 30, 'num_workers': 8}}"
      ]
     },
     "execution_count": 5,
     "metadata": {},
     "output_type": "execute_result"
    }
   ],
   "source": [
    "C"
   ]
  },
  {
   "cell_type": "code",
   "execution_count": 6,
   "id": "8e2a935b-d7c7-4925-ac6d-da53e92c52bb",
   "metadata": {},
   "outputs": [
    {
     "name": "stdout",
     "output_type": "stream",
     "text": [
      "Load pretrained results/distilbert-base-uncased/distilbert-base-uncased-focal-AdamW-lr1e-05_1.pth\n"
     ]
    }
   ],
   "source": [
    "trainer = MyTrainer(C, 1, \"results/distilbert-base-uncased/distilbert-base-uncased-focal-AdamW-lr1e-05_1.pth\")"
   ]
  },
  {
   "cell_type": "code",
   "execution_count": 7,
   "id": "2b02e824-3a56-4b36-ac93-ed1de94aeb70",
   "metadata": {},
   "outputs": [
    {
     "data": {
      "text/plain": [
       "<torch.autograd.grad_mode.set_grad_enabled at 0x7fa02d56de10>"
      ]
     },
     "execution_count": 7,
     "metadata": {},
     "output_type": "execute_result"
    }
   ],
   "source": [
    "model = trainer.model\n",
    "model.eval()\n",
    "torch.set_grad_enabled(False)"
   ]
  },
  {
   "cell_type": "code",
   "execution_count": 8,
   "id": "bfe7dae8-22c9-4426-b112-e1f47a41d313",
   "metadata": {},
   "outputs": [],
   "source": [
    "activation = []\n",
    "\n",
    "\n",
    "def hook(model, input, output):\n",
    "    activation.append(output.detach().cpu())"
   ]
  },
  {
   "cell_type": "code",
   "execution_count": 9,
   "id": "6490b23a-2146-4360-9e19-90f543a715ca",
   "metadata": {},
   "outputs": [
    {
     "data": {
      "text/plain": [
       "<torch.utils.hooks.RemovableHandle at 0x7fa02d869150>"
      ]
     },
     "execution_count": 9,
     "metadata": {},
     "output_type": "execute_result"
    }
   ],
   "source": [
    "model.pre_classifier.register_forward_hook(hook)"
   ]
  },
  {
   "cell_type": "code",
   "execution_count": 10,
   "id": "50367e9c-bfa6-4dc0-9d72-6562fb73b020",
   "metadata": {},
   "outputs": [],
   "source": [
    "dl = load_train_total_data(C.dataset.dir, trainer.tokenizer, 100, 6)"
   ]
  },
  {
   "cell_type": "markdown",
   "id": "e41d48cc-9fc9-418d-a27c-4bfd94d7956d",
   "metadata": {},
   "source": [
    "## tdeck 만들기 (모든 train 데이터에 대한 집합)"
   ]
  },
  {
   "cell_type": "code",
   "execution_count": 12,
   "id": "300c3cbb-2ebd-4cfc-b976-d39f0b2c7397",
   "metadata": {},
   "outputs": [
    {
     "name": "stdout",
     "output_type": "stream",
     "text": [
      "100%|██████████████████████████████████████████████████████| 472972/472972 [23:49<00:00, 330.85it/s]\n"
     ]
    }
   ],
   "source": [
    "activation = []\n",
    "deck = {\n",
    "    \"fcfeat\": [],\n",
    "    \"tlevel\": [],\n",
    "    \"fclevel\": [],\n",
    "    \"otext\": [],\n",
    "}\n",
    "with tqdm(total=len(dl.dataset), ncols=100, file=sys.stdout) as t:\n",
    "    for id, text, tlevel, otext in dl:\n",
    "        pred = model(text.cuda(non_blocking=True))[0].cpu()\n",
    "        deck[\"fcfeat\"].append(pred)\n",
    "        deck[\"tlevel\"].append(tlevel)\n",
    "        deck[\"fclevel\"].append(pred.argmax(dim=1))\n",
    "        deck[\"otext\"].extend(otext)\n",
    "\n",
    "        t.update(len(id))"
   ]
  },
  {
   "cell_type": "code",
   "execution_count": 13,
   "id": "b2c86c1d-94e2-4e23-8d89-41db94deeda0",
   "metadata": {},
   "outputs": [],
   "source": [
    "deck[\"fcfeat\"] = torch.cat(deck[\"fcfeat\"])"
   ]
  },
  {
   "cell_type": "code",
   "execution_count": 14,
   "id": "a3d3c467-702b-4968-9ed1-13664cd8c866",
   "metadata": {},
   "outputs": [],
   "source": [
    "deck[\"tlevel\"] = torch.cat(deck[\"tlevel\"])"
   ]
  },
  {
   "cell_type": "code",
   "execution_count": 15,
   "id": "e95b0650-5b9c-4cd6-8dcf-0c1c64c49928",
   "metadata": {},
   "outputs": [],
   "source": [
    "deck[\"fclevel\"] = torch.cat(deck[\"fclevel\"])"
   ]
  },
  {
   "cell_type": "code",
   "execution_count": 16,
   "id": "9593f1db-f032-4c6f-b375-4b257138c6a7",
   "metadata": {},
   "outputs": [],
   "source": [
    "deck[\"feat\"] = torch.cat(activation)"
   ]
  },
  {
   "cell_type": "code",
   "execution_count": 17,
   "id": "5acab1db-357d-40ee-b0f7-36e253e957b3",
   "metadata": {},
   "outputs": [
    {
     "data": {
      "text/plain": [
       "dict_keys(['fcfeat', 'tlevel', 'fclevel', 'otext', 'feat'])"
      ]
     },
     "execution_count": 17,
     "metadata": {},
     "output_type": "execute_result"
    }
   ],
   "source": [
    "deck.keys()"
   ]
  },
  {
   "cell_type": "code",
   "execution_count": 18,
   "id": "68713498-bda5-44d7-9581-04fc3189ee49",
   "metadata": {},
   "outputs": [],
   "source": [
    "np.savez_compressed(\n",
    "    \"results/distilbert-base-uncased/distilbert-base-uncased-focal-AdamW-lr1e-05_1-deck1.npz\",\n",
    "    fcfeat=deck[\"fcfeat\"].numpy(),\n",
    "    tlevel=deck[\"tlevel\"].numpy(),\n",
    "    fclevel=deck[\"fclevel\"].numpy(),\n",
    "    feat=deck[\"feat\"].numpy(),\n",
    ")"
   ]
  },
  {
   "cell_type": "markdown",
   "id": "4cd0352b-2f18-4a06-8747-1c6e59288c19",
   "metadata": {},
   "source": [
    "## sdeck 만들기 (모든 test 데이터에 대한 집합)\n",
    "\n",
    "reload"
   ]
  },
  {
   "cell_type": "code",
   "execution_count": 11,
   "id": "08eba62f-3a09-4766-8eed-fed917b7246f",
   "metadata": {},
   "outputs": [
    {
     "name": "stdout",
     "output_type": "stream",
     "text": [
      "100%|██████████████████████████████████████████████████| 1418916/1418916 [1:11:35<00:00, 330.29it/s]\n"
     ]
    }
   ],
   "source": [
    "# sfeats 저장\n",
    "activation = []\n",
    "deck = {\"fcfeat\": [], \"fclevel\": [], \"otext\": []}\n",
    "with tqdm(total=len(trainer.dl_test.dataset), ncols=100, file=sys.stdout) as t:\n",
    "    for _, text, otext in trainer.dl_test:\n",
    "        pred = model(text.cuda(non_blocking=True))[0].cpu()\n",
    "        deck[\"fcfeat\"].append(pred)\n",
    "        deck[\"fclevel\"].append(pred.argmax(dim=1))\n",
    "        deck[\"otext\"].extend(otext)\n",
    "        t.update(len(text))"
   ]
  },
  {
   "cell_type": "code",
   "execution_count": 12,
   "id": "36c9bf51-1aee-4918-86d0-1beaca8237aa",
   "metadata": {},
   "outputs": [],
   "source": [
    "deck[\"fcfeat\"] = torch.cat(deck[\"fcfeat\"])\n",
    "deck[\"fclevel\"] = torch.cat(deck[\"fclevel\"])\n",
    "deck[\"feat\"] = torch.cat(activation)"
   ]
  },
  {
   "cell_type": "code",
   "execution_count": 13,
   "id": "4042eed7-1d88-4fe4-a585-992bb93da746",
   "metadata": {},
   "outputs": [
    {
     "data": {
      "text/plain": [
       "dict_keys(['fcfeat', 'fclevel', 'otext', 'feat'])"
      ]
     },
     "execution_count": 13,
     "metadata": {},
     "output_type": "execute_result"
    }
   ],
   "source": [
    "deck.keys()"
   ]
  },
  {
   "cell_type": "code",
   "execution_count": 14,
   "id": "5aae3694-1d6f-42b8-acd4-329b7a924393",
   "metadata": {},
   "outputs": [],
   "source": [
    "np.savez_compressed(\n",
    "    \"results/distilbert-base-uncased/distilbert-base-uncased-focal-AdamW-lr1e-05_1-deck2.npz\",\n",
    "    fcfeat=deck[\"fcfeat\"].numpy(),\n",
    "    fclevel=deck[\"fclevel\"].numpy(),\n",
    "    feat=deck[\"feat\"].numpy(),\n",
    ")"
   ]
  },
  {
   "cell_type": "markdown",
   "id": "d2309f9d-6bd6-4a9f-a7f6-d17e555afd92",
   "metadata": {},
   "source": [
    "## dist값, KNN level, FC level 을 저장\n",
    "\n",
    "여기서 reload"
   ]
  },
  {
   "cell_type": "code",
   "execution_count": 4,
   "id": "7e2ae09b-a4df-4ca4-8925-6871d6c30830",
   "metadata": {},
   "outputs": [],
   "source": [
    "deck1 = np.load(\"results/distilbert-base-uncased/distilbert-base-uncased-focal-AdamW-lr1e-05_1-deck1.npz\")\n",
    "deck2 = np.load(\"results/distilbert-base-uncased/distilbert-base-uncased-focal-AdamW-lr1e-05_1-deck2.npz\")"
   ]
  },
  {
   "cell_type": "code",
   "execution_count": 6,
   "id": "c76c2eef-cdb5-492b-85e4-bcb58c0070c9",
   "metadata": {},
   "outputs": [],
   "source": [
    "tdeck = {\"feat\": torch.from_numpy(deck1[\"feat\"]).cuda(), \"tlevel\": torch.from_numpy(deck1[\"tlevel\"])}"
   ]
  },
  {
   "cell_type": "code",
   "execution_count": 7,
   "id": "2ee5cf93-a51b-4f64-a950-ee17840973cc",
   "metadata": {},
   "outputs": [],
   "source": [
    "sdeck = {\n",
    "    \"feat\": torch.from_numpy(deck2[\"feat\"]).cuda(),\n",
    "    \"fcfeat\": torch.from_numpy(deck2[\"fcfeat\"]),\n",
    "    \"fclevel\": torch.from_numpy(deck2[\"fclevel\"]),\n",
    "}"
   ]
  },
  {
   "cell_type": "code",
   "execution_count": 9,
   "id": "71325b38-a917-41fe-b961-ca7a87a097f4",
   "metadata": {},
   "outputs": [
    {
     "data": {
      "text/plain": [
       "(torch.Size([472972, 768]), torch.Size([1418916, 768]))"
      ]
     },
     "execution_count": 9,
     "metadata": {},
     "output_type": "execute_result"
    }
   ],
   "source": [
    "tdeck[\"feat\"].shape, sdeck[\"feat\"].shape"
   ]
  },
  {
   "cell_type": "code",
   "execution_count": 31,
   "id": "4432f49e-2741-49cc-9967-6ecc1a5a203f",
   "metadata": {},
   "outputs": [],
   "source": [
    "def get_dist(deck, feat, topk):\n",
    "    dist = torch.norm(deck - feat[None], dim=1, p=None)\n",
    "    values, indices = dist.topk(topk, largest=False)  # knn\n",
    "    return values, indices"
   ]
  },
  {
   "cell_type": "code",
   "execution_count": 43,
   "id": "5349cfed-f805-4a1d-ac35-66c5ef6f8ff6",
   "metadata": {},
   "outputs": [
    {
     "name": "stdout",
     "output_type": "stream",
     "text": [
      "tensor([0.0308, 0.0312, 0.0324, 0.0325, 0.0374, 0.0374, 0.0380, 0.0389],\n",
      "       device='cuda:0')\n",
      "tensor([465707, 165781, 324718, 398767,  98264, 468848,  79222, 446725],\n",
      "       device='cuda:0')\n",
      "tensor([1, 1, 1, 1, 1, 1, 1, 1])\n"
     ]
    }
   ],
   "source": [
    "# 실험\n",
    "values, indices = get_dist(tdeck[\"feat\"], sdeck[\"feat\"][2], 8)\n",
    "print(values)\n",
    "print(indices)\n",
    "print(tdeck[\"tlevel\"][indices])"
   ]
  },
  {
   "cell_type": "code",
   "execution_count": 46,
   "id": "e728c4d9-f51f-4062-bb96-9b34fec64182",
   "metadata": {},
   "outputs": [
    {
     "name": "stdout",
     "output_type": "stream",
     "text": [
      "100%|██████████████████████████████████████████████████| 1418916/1418916 [3:18:55<00:00, 118.88it/s]\n"
     ]
    }
   ],
   "source": [
    "# dist를 구함\n",
    "dists, indices, fcfeats, tlevels = [], [], [], []\n",
    "with tqdm(total=len(sdeck[\"feat\"]), ncols=100, file=sys.stdout) as t:\n",
    "    for i in range(len(sdeck[\"feat\"])):\n",
    "        dist_, index_ = get_dist(tdeck[\"feat\"], sdeck[\"feat\"][i], 8)\n",
    "        dist = dist_.cpu()\n",
    "        index = index_.cpu()\n",
    "        fcfeat = sdeck[\"fcfeat\"][i]\n",
    "        tlevel = tdeck[\"tlevel\"][index]\n",
    "        dists.append(dist)\n",
    "        indices.append(index)\n",
    "        fcfeats.append(fcfeat)\n",
    "        tlevels.append(tlevel)\n",
    "\n",
    "        t.update()"
   ]
  },
  {
   "cell_type": "code",
   "execution_count": 47,
   "id": "f67fdf4d-54ed-48fc-9023-feae40f94a23",
   "metadata": {},
   "outputs": [
    {
     "data": {
      "text/plain": [
       "(tensor([0., 0., 0., 0., 0., 0., 0., 0.]),\n",
       " tensor([3201, 2550, 1541, 2047,  406,  215,  521,  748]),\n",
       " tensor([ 4.6420, -3.8289, -8.8472, -3.1232, -9.0210, -4.3306, -8.9362]),\n",
       " tensor([0, 0, 0, 0, 0, 0, 0, 0]))"
      ]
     },
     "execution_count": 47,
     "metadata": {},
     "output_type": "execute_result"
    }
   ],
   "source": [
    "dists[0], indices[0], fcfeats[0], tlevels[0]"
   ]
  },
  {
   "cell_type": "code",
   "execution_count": 48,
   "id": "536ff7cd-0ab1-470b-9e1e-23a7a9ea92d2",
   "metadata": {},
   "outputs": [
    {
     "data": {
      "text/plain": [
       "(torch.Size([8]), torch.Size([8]), torch.Size([7]), torch.Size([8]))"
      ]
     },
     "execution_count": 48,
     "metadata": {},
     "output_type": "execute_result"
    }
   ],
   "source": [
    "dists[0].shape, indices[0].shape, fcfeats[0].shape, tlevels[0].shape"
   ]
  },
  {
   "cell_type": "code",
   "execution_count": 49,
   "id": "933c656b-6d67-46d1-a7aa-18ee166ce5ac",
   "metadata": {},
   "outputs": [],
   "source": [
    "dists_ = torch.stack(dists)\n",
    "indices_ = torch.stack(indices)\n",
    "fcfeats_ = torch.stack(fcfeats)\n",
    "tlevels_ = torch.stack(tlevels)"
   ]
  },
  {
   "cell_type": "code",
   "execution_count": 50,
   "id": "cd00bbbb-86f5-4f41-a074-d15bb1816dfe",
   "metadata": {},
   "outputs": [],
   "source": [
    "np.savez_compressed(\n",
    "    \"results/distilbert-base-uncased/distilbert-base-uncased-focal-AdamW-lr1e-05_1-deck3.npz\",\n",
    "    dists=dists_.numpy(),\n",
    "    indices=indices_.numpy(),\n",
    "    fcfeats=fcfeats_.numpy(),\n",
    "    tlevels=tlevels_.numpy(),\n",
    ")"
   ]
  },
  {
   "cell_type": "markdown",
   "id": "22716d56-bf73-441f-be8a-f7a913fe0e5f",
   "metadata": {},
   "source": [
    "## deck결과 연구"
   ]
  },
  {
   "cell_type": "code",
   "execution_count": 38,
   "id": "0f0e1734-1710-412a-a408-75f04d517e13",
   "metadata": {},
   "outputs": [],
   "source": [
    "dl = load_train_total_data(C.dataset.dir, DistilBertTokenizer.from_pretrained(C.model.name), 100, 6)\n",
    "ds = dl.dataset\n",
    "df = pd.read_csv(\"data/ori/test.csv\")\n",
    "tdf = pd.read_csv(\"data/ori/train.csv\")"
   ]
  },
  {
   "cell_type": "code",
   "execution_count": 9,
   "id": "e9eb84c3-465b-4374-b652-bcaf8832f1c4",
   "metadata": {},
   "outputs": [],
   "source": [
    "deck3 = np.load(\"results/distilbert-base-uncased/distilbert-base-uncased-focal-AdamW-lr1e-05_1-deck3.npz\")"
   ]
  },
  {
   "cell_type": "code",
   "execution_count": 12,
   "id": "f08e5af9-aa81-4006-a7a3-92b0275a9099",
   "metadata": {},
   "outputs": [],
   "source": [
    "deck3 = {k: torch.from_numpy(v) for k, v in deck3.items()}"
   ]
  },
  {
   "cell_type": "code",
   "execution_count": null,
   "id": "a189a736-88c6-4674-ac65-3b5b28236298",
   "metadata": {},
   "outputs": [],
   "source": [
    "deck3[\"fclevels\"] = deck3[\"fcfeats\"].argmax(1)"
   ]
  },
  {
   "cell_type": "code",
   "execution_count": 227,
   "id": "b244eb74-b258-4fff-b480-8b3150cf62d4",
   "metadata": {},
   "outputs": [
    {
     "data": {
      "text/plain": [
       "{'dists': tensor([[0.0000, 0.0000, 0.0000,  ..., 0.0000, 0.0000, 0.0000],\n",
       "         [0.0000, 0.0000, 0.0000,  ..., 0.0000, 0.0000, 0.0000],\n",
       "         [0.0308, 0.0312, 0.0324,  ..., 0.0374, 0.0380, 0.0389],\n",
       "         ...,\n",
       "         [0.0142, 0.0167, 0.0245,  ..., 0.0288, 0.0303, 0.0305],\n",
       "         [0.0403, 0.0409, 0.0412,  ..., 0.0486, 0.0487, 0.0488],\n",
       "         [0.0027, 0.0027, 0.0027,  ..., 0.0027, 0.0027, 0.0027]]),\n",
       " 'indices': tensor([[  3201,   2550,   1541,  ...,    215,    521,    748],\n",
       "         [    17,     13,      8,  ...,      0,      3,      6],\n",
       "         [465707, 165781, 324718,  ..., 468848,  79222, 446725],\n",
       "         ...,\n",
       "         [224941, 102391, 402115,  ..., 396347, 270139, 114644],\n",
       "         [121620, 393346, 291825,  ..., 183438, 211321, 181783],\n",
       "         [    17,     13,      8,  ...,      0,      3,      6]]),\n",
       " 'fcfeats': tensor([[ 4.6420, -3.8289, -8.8472,  ..., -9.0210, -4.3306, -8.9362],\n",
       "         [ 4.5163, -3.7682, -8.6209,  ..., -8.8145, -4.2965, -8.7409],\n",
       "         [-2.8406,  4.8419, -5.8681,  ..., -7.0440, -3.7289, -6.9653],\n",
       "         ...,\n",
       "         [-2.8393,  4.8370, -5.8676,  ..., -7.0415, -3.7251, -6.9628],\n",
       "         [ 4.7729, -3.9848, -8.6707,  ..., -8.9454, -4.3192, -8.7292],\n",
       "         [ 4.5166, -3.7683, -8.6212,  ..., -8.8145, -4.2965, -8.7409]]),\n",
       " 'tlevels': tensor([[0, 0, 0,  ..., 0, 0, 0],\n",
       "         [0, 0, 0,  ..., 0, 0, 0],\n",
       "         [1, 1, 1,  ..., 1, 1, 1],\n",
       "         ...,\n",
       "         [1, 1, 1,  ..., 1, 1, 1],\n",
       "         [0, 0, 0,  ..., 0, 0, 0],\n",
       "         [0, 0, 0,  ..., 0, 0, 0]]),\n",
       " 'fclevels': tensor([0, 0, 1,  ..., 1, 0, 0])}"
      ]
     },
     "execution_count": 227,
     "metadata": {},
     "output_type": "execute_result"
    }
   ],
   "source": [
    "deck3"
   ]
  },
  {
   "cell_type": "code",
   "execution_count": 149,
   "id": "ae8b4bb4-0221-455c-b6bd-3f39bc0fd447",
   "metadata": {},
   "outputs": [
    {
     "name": "stdout",
     "output_type": "stream",
     "text": [
      "885168 102363 877420 1085297 1321286 776033 631395 933984 1274395 711251 93934 536615 1090762 968749 329118 384420 833900 1285687 100875 409965 1335932 349066 586315 892213 868277 138723 340297 7890 689722 660701 649234 868865 1293703 912728 1361861 54247 930198 867344 1209119 613148 563330 1401434 1248775 1380816 1336665 673688 843165 1203974 1136864 639179 342753 555778 834516 240023 159643 175138 1025057 492659 1116409 774349 1310723 918705 615806 470928 351430 488060 169905 61121 1352554 1348825 903635 823869 89806 1060154 724797 905187 245082 994160 143352 27854 203669 1367641 58797 385750 1003823 1350456 692950 16932 1344909 1249219 589640 964905 38592 1053197 1393580 1290929 117120 97456 1282788 1093714 79586 1001476 282414 984313 391260 713456 612374 656900 871076 1314694 1036955 672860 698144 1224682 498019 1320714 280846 148979 50899 147281 133911 860037 557779 222456 103617 555595 1378228 523049 113459 725843 201568 538927 262584 324320 1268785 618541 1267055 1038198 507487 53736 647174 385118 749737 792421 778415 1183349 989175 1016614 56488 584620 358839 69985 262035 498279 1106059 486253 994333 685580 914875 971404 1394210 1136985 1113524 465919 98325 526783 519388 957952 1343974 301846 471875 134165 509918 919772 439730 893673 265564 15160 391189 417302 1107806 715879 146998 765566 861479 392144 1243165 403988 475295 229259 1246008 1015675 1236527 513531 606467 925383 764979 554720 119211 562910 846523 587580 58126 325665 540106 117614 1205019 782557 522021 210211 1067324 158447 498548 484050 991686 842610 1053830 422945 647001 855754 714618 51953 891851 208260 277136 440770 464615 878423 1071846 921733 476523 725055 1388489 1285137 374788 706658 337847 1099425 1138724 237028 179014 351474 583008 1258732 84329 1041632 1014018 1400122 1229763 229252 599882 72520 1179074 1240629 1239920 12250 1267226 758508 1197207 487726 986930 76838 765739 1398587 887903 287035 1294230 400172 516736 1138221 194715 198598 1201878 74637 1147646 190307 1111058 699735 70089 442860 65387 278138 1288254 830753 1318463 1086224 1095797 182070 790018 214469 380935 259982 160810 706410 1040891 338146 305976 296054 1386509 1170801 447285 567960 373288 722257 852470 448861 1189204 323664 41200 1333438 459701 1028956 460121 153382 1032818 307082 1315846 875404 209567 878261 1380802 265925 411340 775976 1030009 1101250 1257904 1111068 68203 784227 1375881 148482 363378 22246 633250 66649 64630 1112548 146134 229188 1001613 632375 1161348 629639 473166 545893 812987 124131 640872 625020 417984 435978 1169358 26611 133353 411194 93830 541624 1046534 1407100 1032137 948013 464309 507906 66248 79909 1093095 618158 1165787 920394 585641 1340930 1123299 604673 127593 45581 870114 222150 1413260 491598 361415 1281961 393569 694212 599639 770113 1244749 100362 144966 1156752 1312336 769057 131484 1150724 928471 800421 571300 1326151 1031237 684851 746289 885100 1101795 1367390 368924 1001509 719543 1084211 403556 371120 362314 848132 302050 454810 1272547 1395256 1359583 725175 1174669 553492 931062 1160826 1139252 1237815 120524 989822 306824 706986 674383 1376413 576912 592496 324628 885269 1055660 1146502 712003 1390564 475616 1025407 184448 1022341 1410455 81139 1223462 1169229 1413155 737453 19574 291672 880670 634266 603472 1370156 862513 1363903 1380764 369484 592449 1166153 1392146 564146 165164 503233 1372301 293552 51887 741201 872936 977556 1147494 1020319 1271251 607089 82287 671198 748448 1303694 122720 641117 780579 1362958 30852 741654 1392979 1015120 985636 70560 1111299 850516 132829 410864 1094642 369027 1321852 1014546 1414641 1268398 538051 1313835 316400 818149 897437 1208677 153891 1373814 649135 1007511 1391989 978666 210933 424928 476759 316368 236293 1284064 539834 730114 290496 215791 547899 1131555 373900 361035 85474 662381 1175366 1360862 244738 916495 704320 963100 276564 1213279 6003 521634 268382 503551 1118924 1405043 667667 672208 581422 375285 690800 594972 398587 593629 1282369 886867 971301 60574 1132003 227078 1251718 110436 1138674 429662 1271296 919745 875119 229622 361830 65980 230175 859862 1019475 710035 600542 1292011 11515 1350761 926229 530379 736442 449492 1059158 203311 829306 1224816 763582 451841 820155 755403 38180 1241943 802539 152604 1307669 705441 386639 394085 258420 397674 715344 68433 216141 623885 451943 1356744 1213127 397914 971295 1168645 82047 1411263 632377 182445 1376627 1374647 843241 521295 594674 680650 898474 1019974 1101099 553868 506313 315109 956825 648933 459803 170457 1275559 1181450 1213976 283776 1129966 254063 379345 185225 100227 1059961 1015861 140465 944108 81614 701947 572087 226217 1071726 200861 1346149 668332 61129 1386978 334983 112430 856557 357562 997891 815044 1308192 761433 1400261 3780 1021142 753043 729009 1261913 428493 235115 1194448 930294 789810 840146 1038346 851010 772676 793041 863813 901555 958509 2027 177433 50747 904075 1016877 88224 1363885 639625 728961 803631 485187 706883 119759 1197430 793150 1353447 249810 202879 663964 1023822 939642 412126 1081959 258794 1092256 45615 641537 903460 1120185 1094801 318203 99107 858670 1027101 411625 503360 78292 419162 211867 110962 1384783 972461 809741 970288 648651 1086984 723088 255107 1113327 209226 476201 64268 1402582 1372955 179688 435450 1235230 774240 824153 881830 785384 218451 839082 443762 949998 972324 445995 21125 537560 156913 177589 394491 728851 422690 782956 70526 204035 840537 1167471 1231081 720218 68300 1233160 70060 965247 1355596 228443 1033695 1114773 167631 108513 1221007 541943 1021979 1095569 1109724 1163858 165543 430463 980020 303460 253167 142588 814078 709312 1193140 196216 477551 207506 821909 35170 715471 320296 195366 1061072 374245 537680 381135 1162139 950402 188931 371657 996381 282512 261653 717626 1058547 1374824 713314 112975 482630 483257 1093175 534396 589229 1078715 982297 378888 640859 1288846 63975 966531 667610 1053820 1209435 339562 1199931 579668 1289894 480449 864016 1197311 1370267 379199 828983 597981 614774 59524 1179417 798917 624144 782416 703394 1303811 1226469 517041 69279 1062605 863077 228743 399430 436019 182233 14366 516168 993101 1074264 581731 686570 540454 1008085 323964 1251962 878891 94414 355706 916226 583215 405379 587593 7687 750027 742227 117166 475640 156521 340583 1116638 957827 100663 520272 909404 411790 457283 911102 240518 379186 818133 144018 873698 941080 613641 1086088 258652 441586 1314883 745746 135540 886140 593621 1177030 966680 171439 779428 1176113 51856 818068 381572 772902 450502 705554 1168176 1327702 1213150 299378 1151624 568210 477568 1334104 57021 337624 594968 968753 257353 1264863 311290 45028 1067580 1337119 627903 821126 18788 739964 1372099 1369540 308643 952815 25561 956155 712687 208382 425011 1365521 771641 748100 111399 675116 630629 775158 174392 1192503 625811 981672 626187 388615 119436 212963 578423 967593 381185 21107 543809 97290 155785 321493 822972 701734 348404 743487 1177811 829295 224675 1103074 426902 535041 196437 283021 1098775 550484 1299969 1133508 249698 746890 197280 487651 1204119 545042 108312 411933 100828 588801 957452 99553 523320 1386293 752894 314013 101715 12038 867637 627561 522084 12639 104057 739131 1383521 673715 1052756 1418581 211359 675 826160 1242994 1261132 539801 617700 528700 850563 1112349 1766 541299 1391900 173163 370933 777426 779386 1271657 172173 461702 449717 777275 523936 364374 1086996 795388 1394339 979397 693944 1011646 178693 46047 141569 976744 1278552 1216219 755505 916998 401331 579248 95779 1375398 1231503 695996 91691 190392 1394974 76007 783167 34382 451162 1417695 910744 1143527 122127 814438 848375 383261 761486 521324 804165 709086 1094216 995628 434920 220621 528825 85466 987026 793482 1364453 402859 725246 468371 566833 28909 499589 163838 1357062 498147 269950 1317185 379092 4859 1195476 1090769 1044905 516310 316797 983167 913432 1047214 998085 1387650 15256 1407917 138947 964669 615249 293038 1149705 1184465 1219339 766712 372010 918355 1144850 442664 806053 471284 1231202 644669 95220 489227 82598 1204557 253570 1257010 786217 664176 1294177 695615 564565 762947 298714 137078 574853 434902 1317024 233161 739950 702466 1265806 1328707 581101 275421 219803 444239 1231764 1182467 1328108 854473 678825 1289653 289074 213804 555508 1281941 308088 508420 823614 1112960 1044127 171580 1088685 329442 1327037 599729 968500 355929 1111468 281767 348086 473553 257809 507785 30962 1174922 193314 263849 940031 225506 918508 1411026 1051596 500413 439941 1071487 77760 801688 1353106 446273 461780 164212 405375 402090 202833 188217 253395 1244739 1090035 1122868 233989 1193033 1007266 521135 317701 800712 114030 548825 696809 322477 285993 1222198 479453 1063191 291025 313686 1028998 729501 834786 457910 797416 1018826 1402946 250568 223965 564437 1090151 545406 1009694 639627 826989 51310 950738 589860 704269 410461 148037 820659 1173686 79561 1323610 876361 1319678 581950 1214642 115727 1216180 1397305 910100 337852 183896 1251251 443633 643464 1333320 109667 58307 1147048 1030743 231211 483982 984742 1109838 617526 166889 81118 1289691 846244 738676 710953 560166 664428 433878 433156 227098 476771 1383238 456531 518463 987629 1154535 152696 18992 933791 967833 389727 918816 437369 104784 885840 390453 809020 1005714 1014524 754538 247265 612974 263379 1010603 381257 506504 982047 1172374 633820 132314 910877 1411043 1347453 144118 1354160 777163 491155 269453 707512 229152 455992 341272 571365 1070765 131536 1099497 762863 111797 124322 494974 1101340 194653 115577 826548 917515 567692 757427 1209465 407593 747881 783997 664220 847654 276356 326120 369963 469389 353821 459279 452587 1209299 714753 1060151 1311739 1150907 730604 942160 938524 225508 217729 1280524 1245340 275747 704427 12859 398467 830118 34301 1079286 412388 599427 16558 1318256 1107166 706743 985227 1306240 1364177 671344 160262 110410 524847 1072834 236358 717908 640914 1136784 1188886 1186929 937013 634373 683371 723219 1354060 6621 681553 337813 940525 461474 715786 172566 131874 871601 844441 384215 167531 953481 1146907 526993 1394926 500309 1303006 130819 1360601 688145 631084 1074614 1123150 927297 901102 516100 3179 1178173 898691 1226956 298346 168202 1348353 1118178 1176691 1182838 306502 561911 1288776 347972 611465 407691 759650 426552 310901 1361844 1190813 555292 1059759 1030554 1375051 19129 877866 396480 931575 734796 808641 543648 1171044 1038695 869652 1225150 821607 1366055 1252868 245528 520695 1271992 778732 93436 3217 524521 1281003 1387263 625424 1388687 853037 820436 30181 589710 63413 384678 87533 91568 1249172 1217211 328960 1208206 652736 300634 318614 1319339 1018564 612225 1137366 53452 1385317 1385966 888930 976963 1253341 753226 1237873 899938 1282857 2607 1346508 358223 1206412 1001028 443741 66257 15317 1039590 88037 828468 261131 225760 1292027 1172244 153589 1203048 1196402 621521 402920 895822 927067 1097046 300418 3856 296498 1240879 773206 27112 432423 629067 1366025 514594 1308217 975659 921027 891173 436036 1319673 829832 1371205 164604 906452 962493 999606 492493 986718 875704 1211678 778875 337534 25968 219706 330684 146303 716001 1120806 305697 649146 1360537 1164802 759411 902552 916900 1054274 767130 806905 920795 1417100 525088 556089 1391929 358071 907496 292601 1353532 201885 1205290 774807 748643 1330271 903471 270872 64203 377725 1126921 504294 6625 927382 646414 402355 837346 115846 735564 906559 760519 438550 1037279 1042709 463037 138353 180708 340793 279132 1307470 137872 995439 767770 939815 168164 1035207 1348912 1375685 508789 512636 328955 542779 561525 1371396 145541 778531 905416 284471 601961 1092094 883032 405938 805175 432622 316756 341133 1359687 164196 991202 655701 709552 1376035 912266 478520 1096898 1099046 1131440 1005172 1014887 1327845 1354139 1293078 954491 576969 575022 387041 456267 236428 657932 666218 1237916 781828 1349335 330754 1291524 1404677 309667 1005826 205309 1418082 736080 551647 247397 882314 807601 253134 772644 56894 1338150 918706 375884 620389 374588 1146149 420951 1141013 476196 782244 943239 887961 1369614 866422 663597 1412564 984169 858389 652389 144907 1138205 776007 1267508 177310 563740 1226355 556418 31539 1229356 1090185 287952 178273 1276167 1005238 682964 1114726 1283278 830595 1100226 752278 844758 862319 332312 1259123 738898 176692 1079376 706075 581856 837851 974281 267189 897325 1315444 1251538 560405 75748 1123631 523462 950921 1219198 1254084 379741 1340523 37539 1148519 1271129 967968 146151 913183 1385391 872711 614173 855008 892811 1327770 1403035 22136 952883 354975 1142040 928785 1012172 182842 1274229 442791 362181 1036247 283917 648763 254627 341079 283555 194128 755320 420965 1132288 555509 1390649 518546 1100890 210839 1206145 1261862 1331497 878678 811683 864817 1190851 481753 873340 622686 988839 220041 892587 407619 194037 1408592 867609 1298424 946613 1063785 906548 1269865 126889 667108 1249087 79374 726585 1407844 559339 278695 1392683 49058 934699 743511 205655 655057 579975 1404810 1027632 882429 855387 521922 1092088 287442 618859 110490 1399229 921036 1352686 928398 1102331 506651 532477 1283490 1387869 1252636 951022 442224 1299368 1262995 107910 1244168 727626 913616 427561 524592 2964 721795 1290246 241800 322774 1303243 1314166 814321 1050782 997764 1283218 1046837 1180774 296888 394286 957786 1247257 149517 660771 1080847 810304 979087 47766 51539 810153 134611 786254 1344122 1195421 903556 1174206 1158414 924625 682454 21456 703414 672385 890318 1247566 1279133 402578 113247 884461 879526 619525 382824 353248 1273292 1279410 1259260 627350 569985 283170 880883 141944 53516 212991 647271 900241 330042 77440 495518 347802 597616 1200618 1142114 1144349 304282 506697 1092110 1223414 1073715 440354 1030221 428021 39420 442482 1039882 1075965 171428 458281 1007273 912745 517493 1377426 768880 595399 958988 1329654 167911 154720 625291 715654 903969 401583 981993 755763 631142 1119216 851917 1107150 1368917 13989 1369230 734051 102736 953883 532464 1380388 206263 971306 615982 30366 552143 1187646 111467 884701 585731 1165816 193593 1388647 847301 1139668 1307961 1293463 785543 746143 500467 544602 565883 171740 620759 1181884 376317 510809 1411380 1007111 1015101 132410 620681 1195876 26878 916908 829115 330366 863919 299069 997371 1308762 666211 1345280 996696 11015 201946 1361033 286702 724820 864192 940739 1319899 1318356 1373944 1242379 199860 50471 1356835 1288517 1101895 669929\n"
     ]
    }
   ],
   "source": [
    "knn = deck3[\"dists\"][:, 0].topk(2000)\n",
    "print(\" \".join(map(str, knn.indices.tolist())))"
   ]
  },
  {
   "cell_type": "code",
   "execution_count": 226,
   "id": "c5191da9-c572-477d-b427-475761a40f2f",
   "metadata": {},
   "outputs": [
    {
     "data": {
      "text/plain": [
       "False"
      ]
     },
     "execution_count": 226,
     "metadata": {},
     "output_type": "execute_result"
    }
   ],
   "source": [
    "1075055 in knn.indices"
   ]
  },
  {
   "cell_type": "code",
   "execution_count": 103,
   "id": "81f05611-c63d-49cb-a294-3f9fa65505eb",
   "metadata": {},
   "outputs": [],
   "source": [
    "# 정책\n",
    "# level 3 같은 경우는 유저명/IP 주소 등이 들어간 경우가 많아서 미묘하게 dist가 있는 0.5~0.6(더 작을수도?) 결과가 나온다.\n",
    "# tlevels의 모든 level이 다 같은 값인지 확인해보고, 다 같이 3 또는 5이면 dist가 커도 3으로 한다.\n",
    "# dist[0] > 0.3 이고, tlevels가 1과 0 왔다갔다하면 level 7 ? 이건 잘 모르겠네;;\n",
    "# dist가 3보다 크면 다 상관없이 level 7\n",
    "# dist가 1보다 큰데, tlevels가 8개 중에서 왔다갔다 하면 level 7\n",
    "# dist[7] - dist[0] > 1 이면 level 7 ??\n",
    "# dist[7] - dist[0] <= 0.4 이고, tlevel이 모두 같으면 tlevel[0]으로\n",
    "# dist[7] - dist[0] <= 0.4 이고, tlevel이 0~1 왔다갔다하면 fclevel으로\n",
    "\n",
    "# 전처리 추가할 부분\n",
    "# 날짜 확실히 없애나?\n",
    "# 1. IP주소: \"\\d{1,3}.\\d{1,3}.\\d{1,3}.\\d{1,3}\"\n",
    "# 2. port: \"port \\d{1,5}\"\n",
    "# 3. level: \"level\\s*:\\s*\\d,?\"\n",
    "# 4. log: \"log\\s*:\"\n",
    "# 5. uid, gid: \"[ug]id=\\d+,?\"\n",
    "# 6. user: \"user=root\"\n",
    "# 7. logname=: \"logname=\"\n"
   ]
  },
  {
   "cell_type": "code",
   "execution_count": 231,
   "id": "9bf49389-a8bc-4bd0-850a-ab66a0bdf672",
   "metadata": {},
   "outputs": [
    {
     "name": "stdout",
     "output_type": "stream",
     "text": [
      "tensor([0.1488, 0.2238, 1.5763, 1.7137, 1.9992, 1.9994, 2.0052, 2.0060])\n",
      "tensor([398128, 342699, 207799,  66367, 370437,    900, 216371, 440727])\n",
      "tensor(0)\n",
      "tensor([0, 0, 0, 0, 0, 0, 0, 0])\n",
      "Jan 20 11:06:15 localhost kernel: traps: python3.8[21760] trap invalid opcode ip:7efc19ee3e51 sp:7fffa52d9630 error:0 in _pywrap_tensorflow_internal.so[7efc0d698000+23a66000]\n",
      "\n",
      "0 Jan 20 11:03:55 localhost kernel: traps: python3.8[21047] trap invalid opcode ip:7fab61e2ce51 sp:7ffdf46f5180 error:0 in _pywrap_tensorflow_internal.so[7fab555e1000+23a66000]\n",
      "\n",
      "0 Jan 20 11:13:31 localhost kernel: traps: python3.8[3367] trap invalid opcode ip:7f654f0dae51 sp:7ffd06665c70 error:0 in _pywrap_tensorflow_internal.so[7f654288f000+23a66000]\n",
      "\n",
      "0 Jan 20 13:04:43 localhost kernel: traps: python[30618] trap invalid opcode ip:7f5d8db18050 sp:7ffe69ca7b98 error:0 in _pywrap_tensorflow_internal.so[7f5d82a83000+47368000]\n",
      "\n",
      "0 Jan 20 13:06:06 localhost kernel: traps: python[30800] trap invalid opcode ip:7fee924d8050 sp:7ffe7fc1f438 error:0 in _pywrap_tensorflow_internal.so[7fee87443000+47368000]\n",
      "\n",
      "0 Oct 16 14:39:02 localhost kernel: ACPI Error: No object attached to node ffff9428a745e8a0 (20130517/exresnte-127)\n",
      "\n",
      "0 Feb  2 17:45:36 localhost kernel: ACPI Error: No object attached to node ffff8b3eba2cb8a0 (20130517/exresnte-127)\n",
      "\n",
      "0 Oct 16 14:39:02 localhost kernel: ACPI Error: No object attached to node ffff9428a74599c0 (20130517/exresnte-127)\n",
      "\n",
      "0 Mar  8 15:29:08 localhost kernel: ACPI Error: No object attached to node ffff8c353a2c69c0 (20130517/exresnte-127)\n",
      "\n"
     ]
    }
   ],
   "source": [
    "j = 208421\n",
    "print(deck3[\"dists\"][j])\n",
    "print(deck3[\"indices\"][j])\n",
    "print(deck3[\"fclevels\"][j])\n",
    "print(deck3[\"tlevels\"][j])\n",
    "print(df.full_log[j])\n",
    "\n",
    "print()\n",
    "for k in range(8):\n",
    "    kk = deck3[\"indices\"][j][k].item()\n",
    "    print(tdf.level[kk], tdf.full_log[kk])\n",
    "    print()"
   ]
  },
  {
   "cell_type": "code",
   "execution_count": 205,
   "id": "0ef2d5af-f929-4a3e-8c24-4bc597d37cde",
   "metadata": {},
   "outputs": [],
   "source": [
    "for i in knn.indices:\n",
    "    if deck3[\"tlevels\"][i][0] in [2]:\n",
    "        print(i)"
   ]
  },
  {
   "cell_type": "markdown",
   "id": "e67698b6-f065-42e7-888e-50c3c5b1c0f2",
   "metadata": {},
   "source": [
    "## submission 파일 만들기"
   ]
  },
  {
   "cell_type": "code",
   "execution_count": 235,
   "id": "2511d3c1-469a-49a1-a477-5b9f2ece6806",
   "metadata": {},
   "outputs": [],
   "source": [
    "# ver1\n",
    "def politic_draw(dists, indices, fclevel, tlevels):\n",
    "    dd = dists[-1] - dists[0]\n",
    "    dist = dists[0]\n",
    "    same = (tlevels == tlevels[0]).sum() == 8\n",
    "\n",
    "    # policy1: dist와 관계 없이 모든 tlevels가 3 또는 5이면 그 값을 출력\n",
    "    if same and tlevels[0] in [3, 5]:\n",
    "        return tlevels[0].item()\n",
    "\n",
    "    # policy2: dist와 관계 없이 모든 tlevels 중 앞의 4개가 2 또는 4 또는 6이면 그 값을 출력\n",
    "    if tlevels[0] in [2, 4, 6] and (tlevels[1:4] == tlevels[0]).sum() == 3:\n",
    "        return tlevels[0].item()\n",
    "\n",
    "    # policy3: dist가 3보다 크면 level 7\n",
    "    if dist > 3:\n",
    "        return 7\n",
    "\n",
    "    # policy4: dist가 1보다 크고, tlevels가 왔다갔다하면 level 7 ?\n",
    "    if dist > 1 and not same:\n",
    "        return 7\n",
    "\n",
    "    # policy5: dd가 0.5보다 크고, tlevels가 왔다갔다하면 level 7 ?\n",
    "    if dd > 0.5 and not same:\n",
    "        return 7\n",
    "\n",
    "    # policy: dist가 0.5보다 크면 fclevel\n",
    "    if dist > 0.5:\n",
    "        return fclevel.item()\n",
    "\n",
    "    # 나머지\n",
    "    return tlevels[0].item()"
   ]
  },
  {
   "cell_type": "code",
   "execution_count": 236,
   "id": "9138ad3b-bf58-4886-97a6-e6a479fb97de",
   "metadata": {},
   "outputs": [],
   "source": [
    "# ver2\n",
    "def politic_draw(dists, indices, fclevel, tlevels):\n",
    "    dd = dists[-1] - dists[0]\n",
    "    dist = dists[0]\n",
    "    same = (tlevels == tlevels[0]).sum() == 8\n",
    "\n",
    "    # policy1: dist와 관계 없이 모든 tlevels가 3 또는 5이면 그 값을 출력\n",
    "    if same and tlevels[0] in [3, 5]:\n",
    "        return tlevels[0].item()\n",
    "\n",
    "    # policy2: dist와 관계 없이 모든 tlevels 중 앞의 4개가 2 또는 4 또는 6이면 그 값을 출력\n",
    "    if tlevels[0] in [2, 4, 6] and (tlevels[1:4] == tlevels[0]).sum() == 3:\n",
    "        return tlevels[0].item()\n",
    "\n",
    "    # policy: dist가 0.5보다 크면 level 7\n",
    "    if dist > 0.5:\n",
    "        return fclevel.item()\n",
    "\n",
    "    # 나머지\n",
    "    return tlevels[0].item()"
   ]
  },
  {
   "cell_type": "code",
   "execution_count": 244,
   "id": "a316212c-61cf-4483-87a5-aab41de02aea",
   "metadata": {},
   "outputs": [],
   "source": [
    "# ver3\n",
    "def politic_draw(dists, indices, fclevel, tlevels):\n",
    "    dd = dists[-1] - dists[0]\n",
    "    dist = dists[0]\n",
    "    same = (tlevels == tlevels[0]).sum() == 8\n",
    "\n",
    "    # policy1: dist와 관계 없이 모든 tlevels가 3 또는 5이면 그 값을 출력\n",
    "    if same and tlevels[0] in [3, 5]:\n",
    "        return tlevels[0].item()\n",
    "\n",
    "    # policy2: dist와 관계 없이 모든 tlevels 중 앞의 4개가 2 또는 4 또는 6이면 그 값을 출력\n",
    "    if tlevels[0] in [2, 4, 6] and (tlevels[1:4] == tlevels[0]).sum() == 3:\n",
    "        return tlevels[0].item()\n",
    "\n",
    "    # policy: dist가 0.5보다 크면 level 7\n",
    "    if dist > 0.5:\n",
    "        return 7\n",
    "\n",
    "    # 나머지\n",
    "    return tlevels[0].item()"
   ]
  },
  {
   "cell_type": "code",
   "execution_count": 245,
   "id": "1dcebfbf-5f42-4802-800b-0cb78184b8ec",
   "metadata": {},
   "outputs": [
    {
     "data": {
      "text/plain": [
       "0"
      ]
     },
     "execution_count": 245,
     "metadata": {},
     "output_type": "execute_result"
    }
   ],
   "source": [
    "i = 100\n",
    "politic_draw(deck3[\"dists\"][i], deck3[\"indices\"][i], deck3[\"fclevels\"][i], deck3[\"tlevels\"][i])"
   ]
  },
  {
   "cell_type": "code",
   "execution_count": null,
   "id": "dbfadcb4-7777-42db-b1f8-4b0dc2b1ac1b",
   "metadata": {},
   "outputs": [
    {
     "name": "stdout",
     "output_type": "stream",
     "text": [
      " 72%|████████████████████████████████████▋              | 1021915/1418916 [02:05<00:48, 8248.16it/s]"
     ]
    }
   ],
   "source": [
    "N = len(deck3[\"dists\"])\n",
    "outdic = {\"id\": list(range(1000000, 2418915 + 1)), \"level\": []}\n",
    "with tqdm(total=N, ncols=100, file=sys.stdout) as t:\n",
    "    for i in range(N):\n",
    "        v = politic_draw(deck3[\"dists\"][i], deck3[\"indices\"][i], deck3[\"fclevels\"][i], deck3[\"tlevels\"][i])\n",
    "        outdic[\"level\"].append(v)\n",
    "        t.update()"
   ]
  },
  {
   "cell_type": "code",
   "execution_count": null,
   "id": "bca07203-e9ef-45a4-b37a-6c4b3ed749df",
   "metadata": {},
   "outputs": [],
   "source": [
    "outdf = pd.DataFrame(outdic)"
   ]
  },
  {
   "cell_type": "code",
   "execution_count": null,
   "id": "ddbbd109-b43f-4195-a40f-7f98e0d55b95",
   "metadata": {},
   "outputs": [],
   "source": [
    "outdf.to_csv(\"results/distilbert-base-uncased/distilbert-base-uncased-focal-AdamW-lr1e-05_1-ver3.csv\", index=False)"
   ]
  },
  {
   "cell_type": "code",
   "execution_count": null,
   "id": "055da0a9-4a73-4a09-821e-59f87cd0aa8d",
   "metadata": {},
   "outputs": [],
   "source": []
  }
 ],
 "metadata": {
  "kernelspec": {
   "display_name": "torch",
   "language": "python",
   "name": "torch"
  },
  "language_info": {
   "codemirror_mode": {
    "name": "ipython",
    "version": 3
   },
   "file_extension": ".py",
   "mimetype": "text/x-python",
   "name": "python",
   "nbconvert_exporter": "python",
   "pygments_lexer": "ipython3",
   "version": "3.7.9"
  }
 },
 "nbformat": 4,
 "nbformat_minor": 5
}
