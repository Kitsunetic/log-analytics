{
 "cells": [
  {
   "cell_type": "code",
   "execution_count": 1,
   "id": "9499b2ec-6ebb-4575-b647-f2946b3eb8b5",
   "metadata": {},
   "outputs": [
    {
     "name": "stdout",
     "output_type": "stream",
     "text": [
      "/mnt/h/hev/log-analytics\n"
     ]
    }
   ],
   "source": [
    "%load_ext lab_black\n",
    "%cd .."
   ]
  },
  {
   "cell_type": "code",
   "execution_count": 2,
   "id": "b23a629d-38d6-4439-89a6-272d68eefbdd",
   "metadata": {},
   "outputs": [],
   "source": [
    "import argparse\n",
    "import math\n",
    "import multiprocessing\n",
    "import sys\n",
    "from datetime import datetime\n",
    "from pathlib import Path\n",
    "from pprint import pformat\n",
    "\n",
    "import numpy as np\n",
    "import pandas as pd\n",
    "import torch\n",
    "import torch.nn as nn\n",
    "import torch.nn.functional as F\n",
    "import torch_optimizer\n",
    "import yaml\n",
    "from easydict import EasyDict\n",
    "from pytorch_transformers import (\n",
    "    BertForSequenceClassification,\n",
    "    BertTokenizer,\n",
    "    DistilBertForSequenceClassification,\n",
    "    DistilBertTokenizer,\n",
    "    RobertaForSequenceClassification,\n",
    "    RobertaTokenizer,\n",
    ")\n",
    "from sklearn.model_selection import StratifiedKFold\n",
    "from torch.optim import Adam, AdamW\n",
    "from torch.optim.lr_scheduler import ReduceLROnPlateau\n",
    "from torch.utils.data import DataLoader, Dataset\n",
    "from tqdm import tqdm\n",
    "from transformers import (\n",
    "    AlbertForSequenceClassification,\n",
    "    AlbertTokenizer,\n",
    "    DebertaForSequenceClassification,\n",
    "    DebertaTokenizer,\n",
    "    SqueezeBertTokenizer,\n",
    "    SqueezeBertForSequenceClassification,\n",
    "    XLNetTokenizer,\n",
    "    XLNetForSequenceClassification,\n",
    ")\n",
    "\n",
    "from datasets import load_test_data, load_train_data, MyDataset, load_train_total_data\n",
    "from utils import SAM, AverageMeter, CustomLogger, FocalLoss, seed_everything\n",
    "\n",
    "from main import MyTrainer\n",
    "from collections import defaultdict\n",
    "import matplotlib.pyplot as plt\n",
    "import random"
   ]
  },
  {
   "cell_type": "code",
   "execution_count": 3,
   "id": "f99198a2-3fbf-439c-bde3-d9fc207cec46",
   "metadata": {},
   "outputs": [],
   "source": [
    "def get_dist(deck, feat, topk):\n",
    "    dist = torch.norm(deck - feat[None], dim=1, p=None)\n",
    "    knn = dist.topk(topk, largest=False)\n",
    "    values, indices = knn\n",
    "    return values, indices"
   ]
  },
  {
   "cell_type": "code",
   "execution_count": 4,
   "id": "d45261ba-46c7-4bc8-b81c-c7376ddab540",
   "metadata": {},
   "outputs": [],
   "source": [
    "with open(\"config/distilbert-base-uncased.yaml\", \"r\") as f:\n",
    "    C = EasyDict(yaml.load(f, yaml.FullLoader))\n",
    "    C.result_dir = Path(C.result_dir)\n",
    "    C.dataset.dir = Path(C.dataset.dir)\n",
    "    seed_everything(C.seed, deterministic=False)"
   ]
  },
  {
   "cell_type": "code",
   "execution_count": 5,
   "id": "2cf54770-ac64-4a8c-8272-e7c57414e7a0",
   "metadata": {},
   "outputs": [
    {
     "data": {
      "text/plain": [
       "{'model': {'name': 'distilbert-base-uncased'},\n",
       " 'comment': None,\n",
       " 'result_dir': PosixPath('results/distilbert-base-uncased'),\n",
       " 'debug': False,\n",
       " 'seed': 20210425,\n",
       " 'train': {'SAM': False,\n",
       "  'folds': [1],\n",
       "  'checkpoints': [None],\n",
       "  'loss': {'name': 'focal', 'gamma': 2},\n",
       "  'optimizer': {'name': 'AdamW'},\n",
       "  'finetune': {'do': True, 'step1_epochs': 2, 'step2_epochs': 4},\n",
       "  'max_epochs': 10,\n",
       "  'lr': 1e-05,\n",
       "  'scheduler': {'name': 'ReduceLROnPlateau',\n",
       "   'params': {'factor': 0.5, 'patience': 3, 'verbose': True}}},\n",
       " 'dataset': {'dir': PosixPath('data/ori'), 'batch_size': 30, 'num_workers': 8}}"
      ]
     },
     "execution_count": 5,
     "metadata": {},
     "output_type": "execute_result"
    }
   ],
   "source": [
    "C"
   ]
  },
  {
   "cell_type": "code",
   "execution_count": 6,
   "id": "8e2a935b-d7c7-4925-ac6d-da53e92c52bb",
   "metadata": {},
   "outputs": [
    {
     "name": "stdout",
     "output_type": "stream",
     "text": [
      "Load pretrained results/distilbert-base-uncased/distilbert-base-uncased-focal-AdamW-lr1e-05_1.pth\n"
     ]
    }
   ],
   "source": [
    "trainer = MyTrainer(C, 1, \"results/distilbert-base-uncased/distilbert-base-uncased-focal-AdamW-lr1e-05_1.pth\")"
   ]
  },
  {
   "cell_type": "code",
   "execution_count": 7,
   "id": "2b02e824-3a56-4b36-ac93-ed1de94aeb70",
   "metadata": {},
   "outputs": [
    {
     "data": {
      "text/plain": [
       "<torch.autograd.grad_mode.set_grad_enabled at 0x7f4404ad0810>"
      ]
     },
     "execution_count": 7,
     "metadata": {},
     "output_type": "execute_result"
    }
   ],
   "source": [
    "model = trainer.model\n",
    "model.eval()\n",
    "torch.set_grad_enabled(False)"
   ]
  },
  {
   "cell_type": "code",
   "execution_count": 8,
   "id": "bfe7dae8-22c9-4426-b112-e1f47a41d313",
   "metadata": {},
   "outputs": [],
   "source": [
    "activation = []\n",
    "\n",
    "\n",
    "def hook(model, input, output):\n",
    "    activation.append(output.detach().cpu())"
   ]
  },
  {
   "cell_type": "code",
   "execution_count": 9,
   "id": "6490b23a-2146-4360-9e19-90f543a715ca",
   "metadata": {},
   "outputs": [
    {
     "data": {
      "text/plain": [
       "<torch.utils.hooks.RemovableHandle at 0x7f4405532e50>"
      ]
     },
     "execution_count": 9,
     "metadata": {},
     "output_type": "execute_result"
    }
   ],
   "source": [
    "model.pre_classifier.register_forward_hook(hook)"
   ]
  },
  {
   "cell_type": "code",
   "execution_count": 10,
   "id": "50367e9c-bfa6-4dc0-9d72-6562fb73b020",
   "metadata": {},
   "outputs": [],
   "source": [
    "dl = load_train_total_data(C.dataset.dir, trainer.tokenizer, 100, 6)"
   ]
  },
  {
   "cell_type": "markdown",
   "id": "e41d48cc-9fc9-418d-a27c-4bfd94d7956d",
   "metadata": {},
   "source": [
    "## tdeck 만들기 (모든 train 데이터에 대한 집합)"
   ]
  },
  {
   "cell_type": "code",
   "execution_count": null,
   "id": "300c3cbb-2ebd-4cfc-b976-d39f0b2c7397",
   "metadata": {},
   "outputs": [
    {
     "name": "stdout",
     "output_type": "stream",
     "text": [
      " 88%|███████████████████████████████████████████████▎      | 414700/472972 [22:08<03:04, 315.61it/s]"
     ]
    }
   ],
   "source": [
    "activation = []\n",
    "deck = {\n",
    "    'feat': [],\n",
    "    'tlevel': [],\n",
    "    'fclevel': [],\n",
    "    'otext': [],\n",
    "}\n",
    "with tqdm(total=len(dl.dataset), ncols=100, file=sys.stdout) as t:\n",
    "    for id, text, tlevel, otext in dl:\n",
    "        pred = model(text.cuda(non_blocking=True))[0].cpu()\n",
    "        deck['feat'].append(pred)\n",
    "        deck['tlevel'].append(tlevel)\n",
    "        deck['fclevel'].append(pred.argmax(dim=1))\n",
    "        deck['otext'].extend(otext)\n",
    "        \n",
    "        t.update(len(id))"
   ]
  },
  {
   "cell_type": "code",
   "execution_count": null,
   "id": "b2c86c1d-94e2-4e23-8d89-41db94deeda0",
   "metadata": {},
   "outputs": [],
   "source": []
  },
  {
   "cell_type": "markdown",
   "id": "4cd0352b-2f18-4a06-8747-1c6e59288c19",
   "metadata": {},
   "source": [
    "## sdeck 만들기 (모든 test 데이터에 대한 집합)"
   ]
  },
  {
   "cell_type": "code",
   "execution_count": 11,
   "id": "08eba62f-3a09-4766-8eed-fed917b7246f",
   "metadata": {},
   "outputs": [
    {
     "name": "stdout",
     "output_type": "stream",
     "text": [
      "100%|██████████████████████████████████████████████████| 1418916/1418916 [1:11:04<00:00, 332.74it/s]\n"
     ]
    }
   ],
   "source": [
    "# sfeats 저장\n",
    "activation = []\n",
    "sfcfeats = []\n",
    "with tqdm(total=len(trainer.dl_test.dataset), ncols=100, file=sys.stdout) as t:\n",
    "    for _, text, otext in trainer.dl_test:\n",
    "        sfcfeat = model(text.cuda(non_blocking=True))[0].cpu()\n",
    "        sfcfeats.append(sfcfeat)\n",
    "        t.update(len(text))"
   ]
  },
  {
   "cell_type": "code",
   "execution_count": 12,
   "id": "36c9bf51-1aee-4918-86d0-1beaca8237aa",
   "metadata": {},
   "outputs": [],
   "source": [
    "sfeats = torch.cat(activation)\n",
    "sfcfeats = torch.cat(sfcfeats)"
   ]
  },
  {
   "cell_type": "code",
   "execution_count": 13,
   "id": "5aae3694-1d6f-42b8-acd4-329b7a924393",
   "metadata": {},
   "outputs": [],
   "source": [
    "np.savez_compressed(\n",
    "    \"results/distilbert-base-uncased/distilbert-base-uncased-focal-AdamW-lr1e-05_1-sfeats.npz\", sfeats=sfeats, sfcfeats=sfcfeats\n",
    ")"
   ]
  },
  {
   "cell_type": "markdown",
   "id": "d2309f9d-6bd6-4a9f-a7f6-d17e555afd92",
   "metadata": {},
   "source": [
    "## dist값, KNN level, FC level 을 저장\n",
    "\n",
    "여기서 reload"
   ]
  },
  {
   "cell_type": "code",
   "execution_count": 14,
   "id": "7e2ae09b-a4df-4ca4-8925-6871d6c30830",
   "metadata": {},
   "outputs": [],
   "source": [
    "data = np.load(\"results/distilbert-base-uncased/distilbert-base-uncased-focal-AdamW-lr1e-05_1-sfeats.npz\")\n",
    "sfeats = data[\"sfeats\"]\n",
    "sfcfeats = data[\"sfcfeats\"]"
   ]
  },
  {
   "cell_type": "code",
   "execution_count": 15,
   "id": "c1aa53bc-5f01-440d-b0a3-b8733f8fb053",
   "metadata": {},
   "outputs": [],
   "source": [
    "sfeats = torch.from_numpy(sfeats)\n",
    "sfcfeats = torch.from_numpy(sfcfeats)"
   ]
  },
  {
   "cell_type": "code",
   "execution_count": 16,
   "id": "63954ca9-50e9-4bbd-8fe1-f1e9847b477b",
   "metadata": {},
   "outputs": [
    {
     "data": {
      "text/plain": [
       "torch.Size([1418916, 768])"
      ]
     },
     "execution_count": 16,
     "metadata": {},
     "output_type": "execute_result"
    }
   ],
   "source": [
    "sfeats.shape"
   ]
  },
  {
   "cell_type": "code",
   "execution_count": 19,
   "id": "fe6c1fd0-cb62-4a98-9eaf-1ae6f1773efc",
   "metadata": {},
   "outputs": [],
   "source": [
    "sfeats_ = sfeats.cuda()"
   ]
  },
  {
   "cell_type": "code",
   "execution_count": 20,
   "id": "80d2e16c-36f7-496e-b7b8-1fedfa4dea70",
   "metadata": {},
   "outputs": [],
   "source": [
    "deck = torch.load(\"results/distilbert-base-uncased/distilbert-base-uncased-focal-AdamW-lr1e-05_1-deck.pth\")"
   ]
  },
  {
   "cell_type": "code",
   "execution_count": 21,
   "id": "514c7e80-2a81-4513-8b34-cca5eb68e5bb",
   "metadata": {},
   "outputs": [],
   "source": [
    "deck[\"feat_\"] = deck[\"feat\"].cuda()"
   ]
  },
  {
   "cell_type": "code",
   "execution_count": 22,
   "id": "8a69f3ab-334a-44ff-8a80-880f13bdd403",
   "metadata": {},
   "outputs": [
    {
     "data": {
      "text/plain": [
       "dict_keys(['feat', 'tlevel', 'fclevel', 'feat_'])"
      ]
     },
     "execution_count": 22,
     "metadata": {},
     "output_type": "execute_result"
    }
   ],
   "source": [
    "deck.keys()"
   ]
  },
  {
   "cell_type": "code",
   "execution_count": 21,
   "id": "e728c4d9-f51f-4062-bb96-9b34fec64182",
   "metadata": {},
   "outputs": [
    {
     "name": "stdout",
     "output_type": "stream",
     "text": [
      "100%|██████████████████████████████████████████████████| 1418916/1418916 [3:14:52<00:00, 121.36it/s]\n"
     ]
    }
   ],
   "source": [
    "# dist를 구함\n",
    "dists, fclevels, tlevels, otexts = [], [], []\n",
    "with tqdm(total=len(trainer.dl_test.dataset), ncols=100, file=sys.stdout) as t:\n",
    "    for sfeat_, sfcfeat in zip(sfeats_, sfcfeats):\n",
    "        dist_, index_ = get_dist(deck[\"feat_\"], sfeat_, 8)\n",
    "        dists.append(dist_.cpu())\n",
    "        tlevels.append(deck[\"tlevel\"][index_[0]].item())\n",
    "        fclevels.append(sfcfeat)\n",
    "\n",
    "        t.update()"
   ]
  },
  {
   "cell_type": "code",
   "execution_count": 23,
   "id": "f67fdf4d-54ed-48fc-9023-feae40f94a23",
   "metadata": {},
   "outputs": [
    {
     "data": {
      "text/plain": [
       "(tensor([0., 0., 0., 0., 0., 0., 0., 0.]),\n",
       " tensor([ 4.6420, -3.8289, -8.8472, -3.1232, -9.0210, -4.3306, -8.9362]),\n",
       " 0)"
      ]
     },
     "execution_count": 23,
     "metadata": {},
     "output_type": "execute_result"
    }
   ],
   "source": [
    "dists[0], fclevels[0], tlevels[0]"
   ]
  },
  {
   "cell_type": "code",
   "execution_count": 24,
   "id": "d0d45774-5808-4038-a9ec-4a6d5b364a04",
   "metadata": {},
   "outputs": [],
   "source": [
    "dists = torch.stack(dists)"
   ]
  },
  {
   "cell_type": "code",
   "execution_count": 25,
   "id": "f4900ba2-dd6d-4327-a16f-aad4acdfc3ad",
   "metadata": {},
   "outputs": [],
   "source": [
    "fclevels = torch.stack(fclevels)"
   ]
  },
  {
   "cell_type": "code",
   "execution_count": 30,
   "id": "014232ad-a84a-45e7-8695-9f6a33a6f147",
   "metadata": {},
   "outputs": [],
   "source": [
    "tlevels = torch.tensor(tlevels, dtype=torch.long)"
   ]
  },
  {
   "cell_type": "code",
   "execution_count": 41,
   "id": "5b940279-3e7f-46a7-98f3-a7e2c463ca92",
   "metadata": {},
   "outputs": [
    {
     "data": {
      "text/plain": [
       "(torch.Size([1418916, 768]), torch.Size([1418916, 8]))"
      ]
     },
     "execution_count": 41,
     "metadata": {},
     "output_type": "execute_result"
    }
   ],
   "source": [
    "sfeats.shape, dists.shape"
   ]
  },
  {
   "cell_type": "code",
   "execution_count": 45,
   "id": "cd00bbbb-86f5-4f41-a074-d15bb1816dfe",
   "metadata": {},
   "outputs": [],
   "source": [
    "np.savez_compressed(\n",
    "    \"results/distilbert-base-uncased/distilbert-base-uncased-focal-AdamW-lr1e-05_1-dist.npz\",\n",
    "    sfeats=sfeats.numpy(),\n",
    "    dists=dists.numpy(),\n",
    "    tlevels=tlevels.numpy(),\n",
    "    fclevels=fclevels.numpy(),\n",
    ")"
   ]
  },
  {
   "cell_type": "code",
   "execution_count": null,
   "id": "bcde1983-18fb-48ba-b7db-8c6ea668e745",
   "metadata": {},
   "outputs": [],
   "source": []
  }
 ],
 "metadata": {
  "kernelspec": {
   "display_name": "torch",
   "language": "python",
   "name": "torch"
  },
  "language_info": {
   "codemirror_mode": {
    "name": "ipython",
    "version": 3
   },
   "file_extension": ".py",
   "mimetype": "text/x-python",
   "name": "python",
   "nbconvert_exporter": "python",
   "pygments_lexer": "ipython3",
   "version": "3.7.9"
  }
 },
 "nbformat": 4,
 "nbformat_minor": 5
}
