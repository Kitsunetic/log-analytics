{
 "cells": [
  {
   "cell_type": "markdown",
   "id": "223c1000-0cf2-4a9b-81f5-9708f5003093",
   "metadata": {},
   "source": [
    "CPU/GPU 문제가 아니라, 버전에 따라서 연산 방법 자체가 달라진 듯 하다.\n",
    "\n",
    "1.7.1 cuda 11.0 버전에서 테스트 해야함(설치된 cuda toolkit은 11.2)"
   ]
  },
  {
   "cell_type": "code",
   "execution_count": 1,
   "id": "5e4d6f8f-ec44-4719-8fbd-7520699ebd5c",
   "metadata": {},
   "outputs": [
    {
     "name": "stdout",
     "output_type": "stream",
     "text": [
      "/home/shim/shim/dev/log-analytics\n"
     ]
    }
   ],
   "source": [
    "%load_ext lab_black\n",
    "%cd .."
   ]
  },
  {
   "cell_type": "code",
   "execution_count": 2,
   "id": "e93edade-002c-4a33-82f2-330e032742bf",
   "metadata": {},
   "outputs": [],
   "source": [
    "import argparse\n",
    "import math\n",
    "import multiprocessing\n",
    "import sys\n",
    "from datetime import datetime\n",
    "from pathlib import Path\n",
    "from pprint import pformat\n",
    "\n",
    "import numpy as np\n",
    "import pandas as pd\n",
    "import torch\n",
    "import torch.nn as nn\n",
    "import torch.nn.functional as F\n",
    "import torch_optimizer\n",
    "import yaml\n",
    "from easydict import EasyDict\n",
    "from pytorch_transformers import (\n",
    "    BertForSequenceClassification,\n",
    "    BertTokenizer,\n",
    "    DistilBertForSequenceClassification,\n",
    "    DistilBertTokenizer,\n",
    "    RobertaForSequenceClassification,\n",
    "    RobertaTokenizer,\n",
    ")\n",
    "from sklearn.model_selection import StratifiedKFold\n",
    "from torch.optim import Adam, AdamW\n",
    "from torch.optim.lr_scheduler import ReduceLROnPlateau\n",
    "from torch.utils.data import DataLoader, Dataset\n",
    "from tqdm import tqdm\n",
    "from collections import defaultdict\n",
    "\n",
    "from datasets import load_train_data\n",
    "from utils import SAM, AverageMeter, CustomLogger, FocalLoss, seed_everything\n",
    "from main import MyTrainer\n",
    "import matplotlib.pyplot as plt"
   ]
  },
  {
   "cell_type": "code",
   "execution_count": 3,
   "id": "6e2cc6d4-bfea-42cc-83e3-390ad7c36680",
   "metadata": {},
   "outputs": [],
   "source": [
    "with open(\"config/distilbert-base-uncased.yaml\", \"r\") as f:\n",
    "    C = EasyDict(yaml.load(f, yaml.FullLoader))\n",
    "    C.result_dir = Path(C.result_dir)\n",
    "    C.dataset.dir = Path(C.dataset.dir)\n",
    "    seed_everything(C.seed, deterministic=False)"
   ]
  },
  {
   "cell_type": "code",
   "execution_count": 4,
   "id": "1bff2e3a-d289-416f-ab82-d0148145961b",
   "metadata": {},
   "outputs": [
    {
     "data": {
      "text/plain": [
       "{'model': {'name': 'distilbert-base-uncased'},\n",
       " 'comment': None,\n",
       " 'result_dir': PosixPath('results/distilbert-base-uncased'),\n",
       " 'debug': False,\n",
       " 'seed': 20210425,\n",
       " 'train': {'SAM': False,\n",
       "  'folds': [4],\n",
       "  'checkpoints': [None],\n",
       "  'loss': {'name': 'focal', 'gamma': 2},\n",
       "  'optimizer': {'name': 'AdamW'},\n",
       "  'finetune': {'do': True, 'step1_epochs': 2, 'step2_epochs': 4},\n",
       "  'max_epochs': 10,\n",
       "  'lr': 1e-05,\n",
       "  'scheduler': {'name': 'ReduceLROnPlateau',\n",
       "   'params': {'factor': 0.5, 'patience': 3, 'verbose': True}}},\n",
       " 'dataset': {'dir': PosixPath('data/ori'), 'batch_size': 30, 'num_workers': 8}}"
      ]
     },
     "execution_count": 4,
     "metadata": {},
     "output_type": "execute_result"
    }
   ],
   "source": [
    "C"
   ]
  },
  {
   "cell_type": "code",
   "execution_count": 5,
   "id": "21e41c95-1792-4a0a-be85-6f5b2f7b090c",
   "metadata": {},
   "outputs": [
    {
     "name": "stdout",
     "output_type": "stream",
     "text": [
      "Load pretrained results/distilbert-base-uncased/distilbert-base-uncased-focal-AdamW-lr1e-05_1.pth\n"
     ]
    }
   ],
   "source": [
    "trainer = MyTrainer(C, 1, \"results/distilbert-base-uncased/distilbert-base-uncased-focal-AdamW-lr1e-05_1.pth\")"
   ]
  },
  {
   "cell_type": "code",
   "execution_count": 6,
   "id": "b09343fc-efcc-43b3-8b26-7e1b68a05022",
   "metadata": {},
   "outputs": [
    {
     "data": {
      "text/plain": [
       "<torch.autograd.grad_mode.set_grad_enabled at 0x7f1ea8caeb10>"
      ]
     },
     "execution_count": 6,
     "metadata": {},
     "output_type": "execute_result"
    }
   ],
   "source": [
    "model = trainer.model\n",
    "model.eval()\n",
    "torch.set_grad_enabled(False)"
   ]
  },
  {
   "cell_type": "code",
   "execution_count": 7,
   "id": "f9fb9b33-ab26-453c-ad1d-b3ab6bbdb08e",
   "metadata": {},
   "outputs": [],
   "source": [
    "ds = trainer.dl_test.dataset\n",
    "ds2 = trainer.dl_test2.dataset\n",
    "tds = trainer.tdl.dataset\n",
    "vds = trainer.vdl.dataset"
   ]
  },
  {
   "cell_type": "code",
   "execution_count": 8,
   "id": "bb2b8f8e-c78d-4552-af9b-e8cbd82e5b4e",
   "metadata": {},
   "outputs": [
    {
     "name": "stdout",
     "output_type": "stream",
     "text": [
      "10471 tensor(0)\n",
      "kibana: {\"type\":\"error\",\"tags\":[\"warning\",\"stats-collection\"],\"level\":\"error\",\"error\":{\"message\":\"No Living connections\",\"name\":\"Error\",\"stack\":\"Error: No Living connections\\n at sendReqWithConnection (/usr/share/kibana/node_modules/elasticsearch/src/lib/transport.js:226:15)\\n at next (/usr/share/kibana/node_modules/elasticsearch/src/lib/connection_pool.js:214:7)\\n at process._tickCallback (internal/process/next_tick.js:61:11)\"},\"message\":\"No Living connections\"}\n",
      "tensor([9.9907e-01, 2.5207e-04, 1.9676e-06, 5.1996e-04, 1.6217e-06, 1.4864e-04,\n",
      "        1.7456e-06]) tensor(0)\n"
     ]
    }
   ],
   "source": [
    "# id, text, otext = ds2[2]\n",
    "# print(id)\n",
    "id, text, level, otext = vds[2110]\n",
    "print(id, level)\n",
    "print(otext)\n",
    "\n",
    "r = model(text[None].cuda())[0].softmax(1)[0].cpu()\n",
    "print(r, r.argmax())"
   ]
  },
  {
   "cell_type": "markdown",
   "id": "602a39e1-516c-43e9-a458-22cd0d453224",
   "metadata": {},
   "source": [
    "### 각각의 level마다 confidence를 측정"
   ]
  },
  {
   "cell_type": "code",
   "execution_count": 45,
   "id": "c44a906a-b3b8-4442-ba90-f3ae4af7f585",
   "metadata": {},
   "outputs": [
    {
     "name": "stdout",
     "output_type": "stream",
     "text": [
      "100%|█████████████████████████████████████████████████████████| 94595/94595 [23:32<00:00, 66.97it/s]\n"
     ]
    }
   ],
   "source": [
    "leveldic = defaultdict(list)\n",
    "confidencedic = defaultdict(list)\n",
    "allconfdic = defaultdict(list)\n",
    "wrongdic = defaultdict(list)\n",
    "with tqdm(total=len(vds), ncols=100, file=sys.stdout) as t:\n",
    "    for i, (id, text, tlevel, otext) in enumerate(vds):\n",
    "        pred = model(text[None].cuda())[0].softmax(1)[0].cpu()\n",
    "        confidence, plevel = pred.max(0)\n",
    "        if plevel == tlevel:\n",
    "            confidencedic[tlevel.item()].append(confidence.item())\n",
    "        else:\n",
    "            # wrong.append((i, tlevel.item()))\n",
    "            wrongdic[tlevel.item()].append(\n",
    "                {\n",
    "                    \"id\": i,\n",
    "                    \"otext\": otext,\n",
    "                    \"pconf\": confidence.item(),\n",
    "                    \"plevel\": plevel.item(),\n",
    "                    \"tconf\": pred[tlevel.item()].item(),\n",
    "                    \"tlevel\": tlevel.item(),\n",
    "                }\n",
    "            )\n",
    "\n",
    "        allconfdic[tlevel.item()].append(i)\n",
    "        leveldic[tlevel.item()].append(i)\n",
    "\n",
    "        t.update()"
   ]
  },
  {
   "cell_type": "code",
   "execution_count": 46,
   "id": "e4315514-bfcc-452a-a519-effa955f3cbc",
   "metadata": {},
   "outputs": [
    {
     "data": {
      "text/plain": [
       "[0, 1, 2, 3, 4, 5, 6]"
      ]
     },
     "execution_count": 46,
     "metadata": {},
     "output_type": "execute_result"
    }
   ],
   "source": [
    "sorted(confidencedic.keys())"
   ]
  },
  {
   "cell_type": "code",
   "execution_count": 47,
   "id": "5934ec4c-5e9e-4719-8b2a-78e2270a35a3",
   "metadata": {},
   "outputs": [
    {
     "data": {
      "image/png": "[encoded data removed]",
      "text/plain": [
       "<Figure size 2304x576 with 7 Axes>"
      ]
     },
     "metadata": {
      "needs_background": "light"
     },
     "output_type": "display_data"
    }
   ],
   "source": [
    "plt.figure(figsize=(32, 8))\n",
    "for level in range(7):\n",
    "    plt.subplot(2, 4, level + 1)\n",
    "    plt.plot(confidencedic[level], \".\")\n",
    "    plt.title(\n",
    "        f\"level{level}, len{len(confidencedic[level])}, min{min(confidencedic[level]):.2f}, mean{sum(confidencedic[level]) / len(confidencedic[level]):.2f}\"\n",
    "    )\n",
    "plt.tight_layout()\n",
    "plt.show()"
   ]
  },
  {
   "cell_type": "code",
   "execution_count": 48,
   "id": "0226b857-1542-4f5a-b53a-27379d0df3d8",
   "metadata": {},
   "outputs": [
    {
     "data": {
      "text/plain": [
       "[{'id': 3127,\n",
       "  'otext': 'level : 5, log : License grace period for feature feature-name(feature-id) will expire in time (limit = maximum-value)',\n",
       "  'pconf': 0.47695356607437134,\n",
       "  'plevel': 1,\n",
       "  'tconf': 0.4260605573654175,\n",
       "  'tlevel': 0},\n",
       " {'id': 3633,\n",
       "  'otext': 'level : 5, log : Socket listen (server) failed unexpectedly. error-message',\n",
       "  'pconf': 0.5371093153953552,\n",
       "  'plevel': 1,\n",
       "  'tconf': 0.4053366780281067,\n",
       "  'tlevel': 0},\n",
       " {'id': 14692,\n",
       "  'otext': 'level : %{rule.level}, log : %{log}',\n",
       "  'pconf': 0.48208779096603394,\n",
       "  'plevel': 1,\n",
       "  'tconf': 0.4797675907611847,\n",
       "  'tlevel': 0},\n",
       " {'id': 20530,\n",
       "  'otext': 'level : 5, log : Dynamic config registration failed: error-message',\n",
       "  'pconf': 0.4292134642601013,\n",
       "  'plevel': 1,\n",
       "  'tconf': 0.4140833616256714,\n",
       "  'tlevel': 0},\n",
       " {'id': 21019,\n",
       "  'otext': 'level : 3, log : getwd: error-message',\n",
       "  'pconf': 0.43459299206733704,\n",
       "  'plevel': 1,\n",
       "  'tconf': 0.43347278237342834,\n",
       "  'tlevel': 0},\n",
       " {'id': 29500,\n",
       "  'otext': 'level : 5, log : Maximum number of allowed FCoE filters (slot) reached for this slot maximum-value',\n",
       "  'pconf': 0.40553203225135803,\n",
       "  'plevel': 1,\n",
       "  'tconf': 0.34162020683288574,\n",
       "  'tlevel': 0},\n",
       " {'id': 40831,\n",
       "  'otext': \"level : 5, log : Limit on learned MAC addresses reached for routing instance 'routing-instance', domain 'bridge-domain:vlan-id'; current count is count\",\n",
       "  'pconf': 0.43576207756996155,\n",
       "  'plevel': 1,\n",
       "  'tconf': 0.4312804341316223,\n",
       "  'tlevel': 0},\n",
       " {'id': 50727,\n",
       "  'otext': 'level : 3, log : getwd: error-message',\n",
       "  'pconf': 0.43459299206733704,\n",
       "  'plevel': 1,\n",
       "  'tconf': 0.43347278237342834,\n",
       "  'tlevel': 0},\n",
       " {'id': 51116,\n",
       "  'otext': 'level : 5, log : Received IPC message with incorrect subtype: message type message-type, subtype message-subtype, opcode operation-code, length length',\n",
       "  'pconf': 0.4246066212654114,\n",
       "  'plevel': 1,\n",
       "  'tconf': 0.36567580699920654,\n",
       "  'tlevel': 0},\n",
       " {'id': 58257,\n",
       "  'otext': 'level : 3, log : BFD session for Layer 2 VC vc-name went down',\n",
       "  'pconf': 0.4808276295661926,\n",
       "  'plevel': 1,\n",
       "  'tconf': 0.478691965341568,\n",
       "  'tlevel': 0},\n",
       " {'id': 60330,\n",
       "  'otext': 'level : 5, log : socket(arguments) failed: error-message',\n",
       "  'pconf': 0.5456981062889099,\n",
       "  'plevel': 1,\n",
       "  'tconf': 0.38555118441581726,\n",
       "  'tlevel': 0},\n",
       " {'id': 61141,\n",
       "  'otext': 'level : 5, log : Get session id client-session-id snapshot failed: error-code',\n",
       "  'pconf': 0.4854336380958557,\n",
       "  'plevel': 1,\n",
       "  'tconf': 0.4722983241081238,\n",
       "  'tlevel': 0},\n",
       " {'id': 71797,\n",
       "  'otext': 'level : %{rule.level}, log : %{log}',\n",
       "  'pconf': 0.48208779096603394,\n",
       "  'plevel': 1,\n",
       "  'tconf': 0.4797675907611847,\n",
       "  'tlevel': 0},\n",
       " {'id': 74621,\n",
       "  'otext': 'level : 3, log : socket: error-message',\n",
       "  'pconf': 0.5340232849121094,\n",
       "  'plevel': 1,\n",
       "  'tconf': 0.3811984956264496,\n",
       "  'tlevel': 0},\n",
       " {'id': 82273,\n",
       "  'otext': 'level : 3, log : Unable to create socket: error-message',\n",
       "  'pconf': 0.4749393165111542,\n",
       "  'plevel': 1,\n",
       "  'tconf': 0.47005826234817505,\n",
       "  'tlevel': 0},\n",
       " {'id': 83107,\n",
       "  'otext': 'level : 5, log : storm control is enabled for interface interface-name Description Log message to alert the user to the storm control setting.',\n",
       "  'pconf': 0.43823644518852234,\n",
       "  'plevel': 1,\n",
       "  'tconf': 0.39460596442222595,\n",
       "  'tlevel': 0},\n",
       " {'id': 86717,\n",
       "  'otext': 'level : 5, log : COSMAN: classifier classifier-id-new for ifl index replaces classifer classifier-id-old still used',\n",
       "  'pconf': 0.4202579855918884,\n",
       "  'plevel': 1,\n",
       "  'tconf': 0.41401973366737366,\n",
       "  'tlevel': 0},\n",
       " {'id': 89609,\n",
       "  'otext': 'level : 5, log : socket() failed operation: error-message',\n",
       "  'pconf': 0.5432142615318298,\n",
       "  'plevel': 1,\n",
       "  'tconf': 0.39006882905960083,\n",
       "  'tlevel': 0},\n",
       " {'id': 90607,\n",
       "  'otext': 'level : 5, log : Unable to run in the background as daemon: error-message',\n",
       "  'pconf': 0.492523193359375,\n",
       "  'plevel': 1,\n",
       "  'tconf': 0.4206892251968384,\n",
       "  'tlevel': 0},\n",
       " {'id': 94062,\n",
       "  'otext': 'level : 5, log : Maximum number of allowed FCoE filters (slot) reached for this slot maximum-value',\n",
       "  'pconf': 0.40553203225135803,\n",
       "  'plevel': 1,\n",
       "  'tconf': 0.34162020683288574,\n",
       "  'tlevel': 0}]"
      ]
     },
     "execution_count": 48,
     "metadata": {},
     "output_type": "execute_result"
    }
   ],
   "source": [
    "wrongdic[0]"
   ]
  },
  {
   "cell_type": "code",
   "execution_count": 57,
   "id": "c825a5f0-faa0-4516-a402-093210e8abd0",
   "metadata": {},
   "outputs": [
    {
     "data": {
      "text/plain": [
       "0"
      ]
     },
     "execution_count": 57,
     "metadata": {},
     "output_type": "execute_result"
    }
   ],
   "source": [
    "len(wrongdic[6])"
   ]
  },
  {
   "cell_type": "markdown",
   "id": "758fa196-4938-4f6d-a246-80f8ed4f0dd6",
   "metadata": {},
   "source": [
    "## Submission\n",
    "\n",
    "그냥 fold1 distil bert로 submission(level 7은 무시)을 만들면 어느정도 정확도가 나올까?"
   ]
  },
  {
   "cell_type": "code",
   "execution_count": 9,
   "id": "84cc3b2b-db8e-4b9e-8697-49dc32446035",
   "metadata": {},
   "outputs": [
    {
     "name": "stdout",
     "output_type": "stream",
     "text": [
      "100%|██████████████████████████████████████████████████| 1418916/1418916 [1:12:59<00:00, 324.00it/s]\n"
     ]
    }
   ],
   "source": [
    "preds = []\n",
    "with tqdm(total=len(trainer.dl_test.dataset), ncols=100, file=sys.stdout) as t:\n",
    "    for id, text, otext in trainer.dl_test:\n",
    "        pred = model(text.cuda())[0].softmax(1).cpu()\n",
    "        preds.append(pred)\n",
    "        # break\n",
    "        t.update(len(id))"
   ]
  },
  {
   "cell_type": "code",
   "execution_count": 10,
   "id": "431fe7fa-0fd1-4799-93af-e94c55290d31",
   "metadata": {},
   "outputs": [
    {
     "data": {
      "text/plain": [
       "torch.Size([30, 7])"
      ]
     },
     "execution_count": 10,
     "metadata": {},
     "output_type": "execute_result"
    }
   ],
   "source": [
    "preds[0].shape"
   ]
  },
  {
   "cell_type": "code",
   "execution_count": 11,
   "id": "f389f0ac-6a5f-486d-9182-293e6e8720d1",
   "metadata": {},
   "outputs": [],
   "source": [
    "ps = torch.cat(preds, dim=0)"
   ]
  },
  {
   "cell_type": "code",
   "execution_count": 12,
   "id": "195b0d70-5ca5-4572-a768-d0c234a2d322",
   "metadata": {},
   "outputs": [
    {
     "data": {
      "text/plain": [
       "torch.Size([1418916, 7])"
      ]
     },
     "execution_count": 12,
     "metadata": {},
     "output_type": "execute_result"
    }
   ],
   "source": [
    "ps.shape"
   ]
  },
  {
   "cell_type": "code",
   "execution_count": 15,
   "id": "8a55d43b-e757-4ac3-be84-3f3cabe7c98e",
   "metadata": {},
   "outputs": [],
   "source": [
    "plevel = ps.argmax(dim=1)"
   ]
  },
  {
   "cell_type": "code",
   "execution_count": 16,
   "id": "b9d5add8-ac3c-41c9-a499-5571d057b55b",
   "metadata": {},
   "outputs": [
    {
     "data": {
      "text/plain": [
       "torch.Size([1418916])"
      ]
     },
     "execution_count": 16,
     "metadata": {},
     "output_type": "execute_result"
    }
   ],
   "source": [
    "plevel.shape"
   ]
  },
  {
   "cell_type": "code",
   "execution_count": 17,
   "id": "bd811fb0-dc26-48c5-88cb-86ae468a1e1e",
   "metadata": {},
   "outputs": [
    {
     "data": {
      "text/plain": [
       "tensor([0, 0, 0, 1, 0, 3, 0, 0, 0, 1, 0, 0, 0, 0, 1, 1, 0, 0, 1, 0, 1, 0, 1, 0,\n",
       "        0, 0, 0, 0, 1, 0, 0, 0, 1, 1, 0, 0, 0, 1, 0, 0, 0, 1, 0, 0, 0, 1, 0, 0,\n",
       "        0, 0, 0, 0, 0, 0, 1, 0, 0, 0, 1, 0, 0, 1, 0, 0, 0, 1, 0, 0, 0, 0, 0, 0,\n",
       "        0, 1, 0, 0, 1, 0, 1, 1, 0, 0, 0, 0, 0, 1, 1, 0, 0, 0, 1, 0, 0, 1, 0, 0,\n",
       "        0, 1, 0, 0])"
      ]
     },
     "execution_count": 17,
     "metadata": {},
     "output_type": "execute_result"
    }
   ],
   "source": [
    "j = 1000\n",
    "plevel[j : j + 100]"
   ]
  },
  {
   "cell_type": "code",
   "execution_count": 18,
   "id": "e0716ced-045a-4a0c-bf9f-1cdf8b838f91",
   "metadata": {},
   "outputs": [],
   "source": [
    "data = {\"id\": list(range(1000000, 2418915 + 1)), \"level\": plevel.tolist()}"
   ]
  },
  {
   "cell_type": "code",
   "execution_count": 19,
   "id": "4af8e961-eb30-4eea-b7d2-d08b2a9a7b7b",
   "metadata": {},
   "outputs": [],
   "source": [
    "df = pd.DataFrame(data)"
   ]
  },
  {
   "cell_type": "code",
   "execution_count": 20,
   "id": "74ab6091-3940-47dd-81a3-b9a6e1f9ca64",
   "metadata": {},
   "outputs": [
    {
     "data": {
      "text/html": [
       "<div>\n",
       "<style scoped>\n",
       "    .dataframe tbody tr th:only-of-type {\n",
       "        vertical-align: middle;\n",
       "    }\n",
       "\n",
       "    .dataframe tbody tr th {\n",
       "        vertical-align: top;\n",
       "    }\n",
       "\n",
       "    .dataframe thead th {\n",
       "        text-align: right;\n",
       "    }\n",
       "</style>\n",
       "<table border=\"1\" class=\"dataframe\">\n",
       "  <thead>\n",
       "    <tr style=\"text-align: right;\">\n",
       "      <th></th>\n",
       "      <th>id</th>\n",
       "      <th>level</th>\n",
       "    </tr>\n",
       "  </thead>\n",
       "  <tbody>\n",
       "    <tr>\n",
       "      <th>0</th>\n",
       "      <td>1000000</td>\n",
       "      <td>0</td>\n",
       "    </tr>\n",
       "    <tr>\n",
       "      <th>1</th>\n",
       "      <td>1000001</td>\n",
       "      <td>0</td>\n",
       "    </tr>\n",
       "    <tr>\n",
       "      <th>2</th>\n",
       "      <td>1000002</td>\n",
       "      <td>1</td>\n",
       "    </tr>\n",
       "    <tr>\n",
       "      <th>3</th>\n",
       "      <td>1000003</td>\n",
       "      <td>0</td>\n",
       "    </tr>\n",
       "    <tr>\n",
       "      <th>4</th>\n",
       "      <td>1000004</td>\n",
       "      <td>1</td>\n",
       "    </tr>\n",
       "    <tr>\n",
       "      <th>...</th>\n",
       "      <td>...</td>\n",
       "      <td>...</td>\n",
       "    </tr>\n",
       "    <tr>\n",
       "      <th>1418911</th>\n",
       "      <td>2418911</td>\n",
       "      <td>0</td>\n",
       "    </tr>\n",
       "    <tr>\n",
       "      <th>1418912</th>\n",
       "      <td>2418912</td>\n",
       "      <td>0</td>\n",
       "    </tr>\n",
       "    <tr>\n",
       "      <th>1418913</th>\n",
       "      <td>2418913</td>\n",
       "      <td>1</td>\n",
       "    </tr>\n",
       "    <tr>\n",
       "      <th>1418914</th>\n",
       "      <td>2418914</td>\n",
       "      <td>0</td>\n",
       "    </tr>\n",
       "    <tr>\n",
       "      <th>1418915</th>\n",
       "      <td>2418915</td>\n",
       "      <td>0</td>\n",
       "    </tr>\n",
       "  </tbody>\n",
       "</table>\n",
       "<p>1418916 rows × 2 columns</p>\n",
       "</div>"
      ],
      "text/plain": [
       "              id  level\n",
       "0        1000000      0\n",
       "1        1000001      0\n",
       "2        1000002      1\n",
       "3        1000003      0\n",
       "4        1000004      1\n",
       "...          ...    ...\n",
       "1418911  2418911      0\n",
       "1418912  2418912      0\n",
       "1418913  2418913      1\n",
       "1418914  2418914      0\n",
       "1418915  2418915      0\n",
       "\n",
       "[1418916 rows x 2 columns]"
      ]
     },
     "execution_count": 20,
     "metadata": {},
     "output_type": "execute_result"
    }
   ],
   "source": [
    "df"
   ]
  },
  {
   "cell_type": "code",
   "execution_count": 21,
   "id": "106e830c-c77e-4ead-901e-7ed45d4960b7",
   "metadata": {},
   "outputs": [
    {
     "name": "stdout",
     "output_type": "stream",
     "text": [
      "1003860\n",
      "395602\n",
      "34\n",
      "13063\n",
      "34\n",
      "6293\n",
      "30\n"
     ]
    }
   ],
   "source": [
    "for i in range(7):\n",
    "    print((plevel == i).sum().item())"
   ]
  },
  {
   "cell_type": "code",
   "execution_count": 23,
   "id": "bf3ae336-e745-438a-80f0-c9dfc5ff3f94",
   "metadata": {},
   "outputs": [],
   "source": [
    "df.to_csv(\"results/distilbert-base-uncased/distilbert-base-uncased-focal-AdamW-lr1e-05_1.csv\", index=False)"
   ]
  },
  {
   "cell_type": "code",
   "execution_count": 25,
   "id": "eb59a456-aa9e-4c49-ac5d-12348afd3cfa",
   "metadata": {},
   "outputs": [],
   "source": [
    "ps_np = ps.numpy()"
   ]
  },
  {
   "cell_type": "code",
   "execution_count": 26,
   "id": "32a7a719-808a-4989-a009-dabdaa5c0d47",
   "metadata": {},
   "outputs": [],
   "source": [
    "np.savez_compressed(\"results/distilbert-base-uncased/distilbert-base-uncased-focal-AdamW-lr1e-05_1.npz\", ps=ps_np)"
   ]
  },
  {
   "cell_type": "code",
   "execution_count": null,
   "id": "56bcd46c-f0c2-40ff-8e33-d3236b47d7b4",
   "metadata": {},
   "outputs": [],
   "source": []
  },
  {
   "cell_type": "code",
   "execution_count": null,
   "id": "c1961ff0-0b91-4076-864d-454fa1fda204",
   "metadata": {},
   "outputs": [],
   "source": []
  },
  {
   "cell_type": "code",
   "execution_count": null,
   "id": "b78cbf73-fc92-43d6-9cae-845fca57480f",
   "metadata": {},
   "outputs": [],
   "source": []
  },
  {
   "cell_type": "markdown",
   "id": "7339fbd2-d92a-4403-8249-42d18a330722",
   "metadata": {},
   "source": [
    "## 정확도"
   ]
  },
  {
   "cell_type": "markdown",
   "id": "afdb0bbe-6b57-47ad-9980-13593d92bd5b",
   "metadata": {},
   "source": [
    "### 그냥 정확도"
   ]
  },
  {
   "cell_type": "code",
   "execution_count": 58,
   "id": "f1cbf992-2ee1-4a45-9796-3d60c88529a5",
   "metadata": {},
   "outputs": [],
   "source": [
    "cnt = 0\n",
    "for i in range(7):\n",
    "    cnt += len(wrongdic[i])"
   ]
  },
  {
   "cell_type": "code",
   "execution_count": 63,
   "id": "f2102389-e1a8-4766-aef5-d19e3c08c1f5",
   "metadata": {},
   "outputs": [],
   "source": [
    "vacc = 1 - cnt / len(vds)"
   ]
  },
  {
   "cell_type": "code",
   "execution_count": 64,
   "id": "24a70fdc-e4c0-42a4-bad5-9b2d30195a61",
   "metadata": {},
   "outputs": [
    {
     "data": {
      "text/plain": [
       "0.998202864844865"
      ]
     },
     "execution_count": 64,
     "metadata": {},
     "output_type": "execute_result"
    }
   ],
   "source": [
    "vacc"
   ]
  },
  {
   "cell_type": "markdown",
   "id": "e4179f8a-3b94-496d-bbbe-415e11364cfa",
   "metadata": {},
   "source": [
    "### 1인데 1의 confidence랑 0의 confidence의 차가 0.5 이하면 0이라고 했을 때 정확도는?"
   ]
  },
  {
   "cell_type": "code",
   "execution_count": 71,
   "id": "334a6199-bb60-4a3c-9b05-305eeeed265d",
   "metadata": {},
   "outputs": [
    {
     "data": {
      "text/plain": [
       "0.10417789220809937"
      ]
     },
     "execution_count": 71,
     "metadata": {},
     "output_type": "execute_result"
    }
   ],
   "source": [
    "d = wrongdic[1][4]\n",
    "abs(d[\"pconf\"] - d[\"tconf\"])"
   ]
  },
  {
   "cell_type": "code",
   "execution_count": null,
   "id": "c0ca6e92-e077-48e5-a8e4-f8c5c92bbb48",
   "metadata": {},
   "outputs": [],
   "source": []
  },
  {
   "cell_type": "code",
   "execution_count": null,
   "id": "692ba654-9e1c-4ff8-8f34-fcd399824abf",
   "metadata": {},
   "outputs": [],
   "source": []
  },
  {
   "cell_type": "code",
   "execution_count": null,
   "id": "93d60537-2010-436b-8325-adb2c504e2a5",
   "metadata": {},
   "outputs": [],
   "source": []
  },
  {
   "cell_type": "code",
   "execution_count": null,
   "id": "09761ad1-2901-4092-aaef-504f4856c8d2",
   "metadata": {},
   "outputs": [],
   "source": []
  },
  {
   "cell_type": "code",
   "execution_count": null,
   "id": "de70f91c-ea71-4866-9562-9388cde2936c",
   "metadata": {},
   "outputs": [],
   "source": []
  },
  {
   "cell_type": "code",
   "execution_count": null,
   "id": "bc96374b-4ede-4fc4-84dc-3b576a486f01",
   "metadata": {},
   "outputs": [],
   "source": []
  },
  {
   "cell_type": "code",
   "execution_count": null,
   "id": "754dbd81-d342-466c-abdf-089765eb3e12",
   "metadata": {},
   "outputs": [],
   "source": []
  },
  {
   "cell_type": "markdown",
   "id": "197c139d-8b66-4d71-b9f5-4b6142a3eb88",
   "metadata": {},
   "source": [
    "### MEMO\n",
    "\n",
    "level 0, 1은 99% 정도의 높은 confidence를 보이는 반면, level 2는 validation에도 2개의 데이터밖에 없기 때문에 65%의 confidence가 나온다.\n",
    "\n",
    "valid idx 68298, 75845\n",
    "\n",
    "- level별로 confidence threshold가 천차만별일 듯 하다.  \n",
    "- level별로 validation을 진행하고 confidence의 목록을 만들어서 확인해보자!!\n",
    "\n",
    "### 결과 만들기\n",
    "\n",
    "- 0이랑 1 사이에서 고문하는 경우도 --> |conf[0] - conf[1]| < 0.1 일 경우  \n",
    "1을 0으로 착각한건 20개, 0을 1로 착간한건 132개. 그러므로 위의 경우에는 0으로 결정하는게 좋겠다.\n",
    "\n",
    "- fold1에서 2~6까지는 틀린게 하나도 없었음. (물론 데이터 수도 적었지만)\n",
    "\n",
    "### 정책\n",
    "\n",
    "- "
   ]
  },
  {
   "cell_type": "code",
   "execution_count": null,
   "id": "ebba5679-41f5-48ff-8773-dd5a9cb15c8c",
   "metadata": {},
   "outputs": [],
   "source": []
  }
 ],
 "metadata": {
  "kernelspec": {
   "display_name": "Python 3",
   "language": "python",
   "name": "python3"
  },
  "language_info": {
   "codemirror_mode": {
    "name": "ipython",
    "version": 3
   },
   "file_extension": ".py",
   "mimetype": "text/x-python",
   "name": "python",
   "nbconvert_exporter": "python",
   "pygments_lexer": "ipython3",
   "version": "3.7.10"
  }
 },
 "nbformat": 4,
 "nbformat_minor": 5
}
