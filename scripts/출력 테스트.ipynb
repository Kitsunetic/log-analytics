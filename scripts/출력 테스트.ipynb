{
 "cells": [
  {
   "cell_type": "code",
   "execution_count": 1,
   "id": "5e4d6f8f-ec44-4719-8fbd-7520699ebd5c",
   "metadata": {},
   "outputs": [
    {
     "name": "stdout",
     "output_type": "stream",
     "text": [
      "/home/shim/shim/dev/log-analytics\n"
     ]
    }
   ],
   "source": [
    "%load_ext lab_black\n",
    "%cd .."
   ]
  },
  {
   "cell_type": "code",
   "execution_count": 2,
   "id": "e93edade-002c-4a33-82f2-330e032742bf",
   "metadata": {},
   "outputs": [],
   "source": [
    "import argparse\n",
    "import math\n",
    "import multiprocessing\n",
    "import sys\n",
    "from datetime import datetime\n",
    "from pathlib import Path\n",
    "from pprint import pformat\n",
    "\n",
    "import numpy as np\n",
    "import pandas as pd\n",
    "import torch\n",
    "import torch.nn as nn\n",
    "import torch.nn.functional as F\n",
    "import torch_optimizer\n",
    "import yaml\n",
    "from easydict import EasyDict\n",
    "from pytorch_transformers import (\n",
    "    BertForSequenceClassification,\n",
    "    BertTokenizer,\n",
    "    DistilBertForSequenceClassification,\n",
    "    DistilBertTokenizer,\n",
    "    RobertaForSequenceClassification,\n",
    "    RobertaTokenizer,\n",
    ")\n",
    "from sklearn.model_selection import StratifiedKFold\n",
    "from torch.optim import Adam, AdamW\n",
    "from torch.optim.lr_scheduler import ReduceLROnPlateau\n",
    "from torch.utils.data import DataLoader, Dataset\n",
    "from tqdm import tqdm\n",
    "\n",
    "from datasets import load_train_data\n",
    "from utils import SAM, AverageMeter, CustomLogger, FocalLoss, seed_everything\n",
    "from main import MyTrainer"
   ]
  },
  {
   "cell_type": "code",
   "execution_count": 3,
   "id": "6e2cc6d4-bfea-42cc-83e3-390ad7c36680",
   "metadata": {},
   "outputs": [],
   "source": [
    "with open(\"config/distilbert-base-uncased.yaml\", \"r\") as f:\n",
    "    C = EasyDict(yaml.load(f, yaml.FullLoader))\n",
    "    C.result_dir = Path(C.result_dir)\n",
    "    C.dataset.dir = Path(C.dataset.dir)\n",
    "    seed_everything(C.seed, deterministic=False)"
   ]
  },
  {
   "cell_type": "code",
   "execution_count": 4,
   "id": "1bff2e3a-d289-416f-ab82-d0148145961b",
   "metadata": {},
   "outputs": [
    {
     "data": {
      "text/plain": [
       "{'model': {'name': 'distilbert-base-uncased'},\n",
       " 'comment': None,\n",
       " 'result_dir': PosixPath('results/distilbert-base-uncased'),\n",
       " 'debug': False,\n",
       " 'seed': 20210425,\n",
       " 'train': {'max_epochs': 100,\n",
       "  'SAM': False,\n",
       "  'folds': [1, 2],\n",
       "  'checkpoints': ['results/distilbert-base-uncased/distilbert-base-uncased-focal_1.pth',\n",
       "   None],\n",
       "  'loss': {'name': 'focal', 'gamma': 2},\n",
       "  'optimizer': {'name': 'AdamW'},\n",
       "  'finetune': {'do': True, 'step1_epochs': 2, 'step2_epochs': 4},\n",
       "  'lr': 0.0001,\n",
       "  'scheduler': {'name': 'ReduceLROnPlateau',\n",
       "   'params': {'factor': 0.5, 'patience': 3, 'verbose': True}}},\n",
       " 'dataset': {'dir': PosixPath('data/ori'), 'batch_size': 40, 'num_workers': 8}}"
      ]
     },
     "execution_count": 4,
     "metadata": {},
     "output_type": "execute_result"
    }
   ],
   "source": [
    "C"
   ]
  },
  {
   "cell_type": "code",
   "execution_count": 5,
   "id": "21e41c95-1792-4a0a-be85-6f5b2f7b090c",
   "metadata": {},
   "outputs": [
    {
     "name": "stdout",
     "output_type": "stream",
     "text": [
      "Load pretrained results/distilbert-base-uncased/distilbert-base-uncased-focal-AdamW-lr1e-05_1.pth\n"
     ]
    }
   ],
   "source": [
    "trainer = MyTrainer(C, 1, \"results/distilbert-base-uncased/distilbert-base-uncased-focal-AdamW-lr1e-05_1.pth\")"
   ]
  },
  {
   "cell_type": "code",
   "execution_count": 6,
   "id": "b09343fc-efcc-43b3-8b26-7e1b68a05022",
   "metadata": {},
   "outputs": [
    {
     "data": {
      "text/plain": [
       "<torch.autograd.grad_mode.set_grad_enabled at 0x7f14ee96ea10>"
      ]
     },
     "execution_count": 6,
     "metadata": {},
     "output_type": "execute_result"
    }
   ],
   "source": [
    "model = trainer.model\n",
    "model.eval()\n",
    "torch.set_grad_enabled(False)"
   ]
  },
  {
   "cell_type": "code",
   "execution_count": 42,
   "id": "1b4ec9ec-8220-4721-af4e-347decbb8379",
   "metadata": {},
   "outputs": [
    {
     "data": {
      "text/plain": [
       "<All keys matched successfully>"
      ]
     },
     "execution_count": 42,
     "metadata": {},
     "output_type": "execute_result"
    }
   ],
   "source": [
    "# model.load_state_dict(torch.load(\"results/distilbert-base-uncased/distilbert-base-uncased-focal-AdamW-lr1e-05_1.pth\")[\"model\"])"
   ]
  },
  {
   "cell_type": "code",
   "execution_count": 7,
   "id": "f9fb9b33-ab26-453c-ad1d-b3ab6bbdb08e",
   "metadata": {},
   "outputs": [],
   "source": [
    "ds = trainer.dl_test.dataset\n",
    "ds2 = trainer.dl_test2.dataset\n",
    "tds = trainer.tdl.dataset\n",
    "vds = trainer.vdl.dataset"
   ]
  },
  {
   "cell_type": "code",
   "execution_count": 8,
   "id": "bb2b8f8e-c78d-4552-af9b-e8cbd82e5b4e",
   "metadata": {},
   "outputs": [
    {
     "name": "stdout",
     "output_type": "stream",
     "text": [
      "19 tensor(0)\n",
      "kibana: {\"type\":\"error\",\"tags\":[\"warning\",\"stats-collection\"],\"level\":\"error\",\"error\":{\"message\":\"No Living connections\",\"name\":\"Error\",\"stack\":\"Error: No Living connections\\n at sendReqWithConnection (/usr/share/kibana/node_modules/elasticsearch/src/lib/transport.js:226:15)\\n at next (/usr/share/kibana/node_modules/elasticsearch/src/lib/connection_pool.js:214:7)\\n at process._tickCallback (internal/process/next_tick.js:61:11)\"},\"message\":\"No Living connections\"}\n",
      "tensor([0.1148, 0.1784, 0.1768, 0.1083, 0.1441, 0.0716, 0.2060]) tensor(6)\n"
     ]
    }
   ],
   "source": [
    "id, text, level, otext = tds[16]\n",
    "print(id, level)\n",
    "print(otext)\n",
    "\n",
    "r = model(text[None].cuda())[0].softmax(1)[0].cpu()\n",
    "print(r, r.argmax())"
   ]
  },
  {
   "cell_type": "code",
   "execution_count": 9,
   "id": "ddc256f3-37ad-47bd-a50b-cb234cf70cda",
   "metadata": {},
   "outputs": [],
   "source": [
    "for ids, texts, tlevels, otexts in trainer.tdl:\n",
    "    break"
   ]
  },
  {
   "cell_type": "code",
   "execution_count": 17,
   "id": "0eb13a76-26f4-4935-8480-642025ea68c3",
   "metadata": {},
   "outputs": [
    {
     "data": {
      "text/plain": [
       "tensor(20.)"
      ]
     },
     "execution_count": 17,
     "metadata": {},
     "output_type": "execute_result"
    }
   ],
   "source": [
    "(model(texts.cuda())[0].cpu().argmax(1) == tlevels).sum() / len(ids) * 100"
   ]
  },
  {
   "cell_type": "code",
   "execution_count": 18,
   "id": "19a00adc-4eb2-40e5-b6be-9456121d22b4",
   "metadata": {},
   "outputs": [
    {
     "data": {
      "text/plain": [
       "tensor([False,  True, False, False,  True, False, False, False, False,  True,\n",
       "         True, False, False, False,  True, False, False,  True, False, False,\n",
       "        False, False, False, False, False, False, False, False, False, False,\n",
       "         True, False, False, False, False, False, False, False,  True, False])"
      ]
     },
     "execution_count": 18,
     "metadata": {},
     "output_type": "execute_result"
    }
   ],
   "source": [
    "model(texts.cuda())[0].cpu().argmax(1) == tlevels"
   ]
  },
  {
   "cell_type": "code",
   "execution_count": null,
   "id": "a2e4edca-58da-405f-a9b2-5ba3ed5de186",
   "metadata": {},
   "outputs": [],
   "source": []
  }
 ],
 "metadata": {
  "kernelspec": {
   "display_name": "Python 3",
   "language": "python",
   "name": "python3"
  },
  "language_info": {
   "codemirror_mode": {
    "name": "ipython",
    "version": 3
   },
   "file_extension": ".py",
   "mimetype": "text/x-python",
   "name": "python",
   "nbconvert_exporter": "python",
   "pygments_lexer": "ipython3",
   "version": "3.7.10"
  }
 },
 "nbformat": 4,
 "nbformat_minor": 5
}
