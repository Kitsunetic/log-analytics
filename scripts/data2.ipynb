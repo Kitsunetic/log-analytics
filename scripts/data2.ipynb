{
 "cells": [
  {
   "cell_type": "code",
   "execution_count": 1,
   "id": "6c123b66-b665-4d91-a9ee-cb4e22bf3ec0",
   "metadata": {},
   "outputs": [
    {
     "name": "stdout",
     "output_type": "stream",
     "text": [
      "/home/shim/cev/dl/log-analytics\n"
     ]
    }
   ],
   "source": [
    "%load_ext lab_black\n",
    "%cd .."
   ]
  },
  {
   "cell_type": "code",
   "execution_count": 81,
   "id": "d4af8d2b-1eb9-4cac-8168-c63e04034da9",
   "metadata": {},
   "outputs": [],
   "source": [
    "import pandas as pd\n",
    "import matplotlib.pyplot as plt\n",
    "import numpy as np\n",
    "\n",
    "import torch\n",
    "from torch.utils.data import Dataset, DataLoader\n",
    "from pytorch_transformers import BertTokenizer, BertForSequenceClassification, BertConfig, DistilBertTokenizer\n",
    "from torch.optim import AdamW\n",
    "import torch.nn.functional as F\n",
    "from tqdm import tqdm\n",
    "import sys\n",
    "import re\n",
    "from collections import defaultdict"
   ]
  },
  {
   "cell_type": "code",
   "execution_count": 387,
   "id": "d864773c-75e4-4008-8204-ebfb55b53d35",
   "metadata": {},
   "outputs": [],
   "source": [
    "import logging\n",
    "\n",
    "logging.getLogger(\"pytorch_transformers.tokenization_utils\").setLevel(logging.ERROR)"
   ]
  },
  {
   "cell_type": "code",
   "execution_count": 8,
   "id": "46a70376-10ca-4645-a550-09d9779f1c00",
   "metadata": {},
   "outputs": [],
   "source": [
    "seasons = [\"jan\", \"feb\", \"mar\", \"apr\", \"may\", \"jun\", \"jul\", \"aug\", \"sep\", \"oct\", \"nov\", \"dec\"]"
   ]
  },
  {
   "cell_type": "code",
   "execution_count": 3,
   "id": "11a5e5b1-4051-44ad-b46c-188d983c4f5d",
   "metadata": {},
   "outputs": [],
   "source": [
    "train = pd.read_csv(\"data/ori/train.csv\")"
   ]
  },
  {
   "cell_type": "code",
   "execution_count": 4,
   "id": "4a320bf1-f7ce-43d8-b7e2-fb8fddcb5f31",
   "metadata": {},
   "outputs": [
    {
     "data": {
      "text/html": [
       "<div>\n",
       "<style scoped>\n",
       "    .dataframe tbody tr th:only-of-type {\n",
       "        vertical-align: middle;\n",
       "    }\n",
       "\n",
       "    .dataframe tbody tr th {\n",
       "        vertical-align: top;\n",
       "    }\n",
       "\n",
       "    .dataframe thead th {\n",
       "        text-align: right;\n",
       "    }\n",
       "</style>\n",
       "<table border=\"1\" class=\"dataframe\">\n",
       "  <thead>\n",
       "    <tr style=\"text-align: right;\">\n",
       "      <th></th>\n",
       "      <th>id</th>\n",
       "      <th>level</th>\n",
       "      <th>full_log</th>\n",
       "    </tr>\n",
       "  </thead>\n",
       "  <tbody>\n",
       "    <tr>\n",
       "      <th>0</th>\n",
       "      <td>0</td>\n",
       "      <td>0</td>\n",
       "      <td>Sep 24 10:02:22 localhost kibana: {\"type\":\"err...</td>\n",
       "    </tr>\n",
       "    <tr>\n",
       "      <th>1</th>\n",
       "      <td>1</td>\n",
       "      <td>0</td>\n",
       "      <td>Feb  8 16:21:00 localhost logstash: [2021-02-0...</td>\n",
       "    </tr>\n",
       "    <tr>\n",
       "      <th>2</th>\n",
       "      <td>2</td>\n",
       "      <td>0</td>\n",
       "      <td>Jan 13 01:50:40 localhost kibana: {\"type\":\"err...</td>\n",
       "    </tr>\n",
       "    <tr>\n",
       "      <th>3</th>\n",
       "      <td>3</td>\n",
       "      <td>0</td>\n",
       "      <td>Jan  4 10:18:31 localhost kibana: {\"type\":\"err...</td>\n",
       "    </tr>\n",
       "    <tr>\n",
       "      <th>4</th>\n",
       "      <td>4</td>\n",
       "      <td>1</td>\n",
       "      <td>type=SYSCALL msg=audit(1603094402.016:52981): ...</td>\n",
       "    </tr>\n",
       "    <tr>\n",
       "      <th>...</th>\n",
       "      <td>...</td>\n",
       "      <td>...</td>\n",
       "      <td>...</td>\n",
       "    </tr>\n",
       "    <tr>\n",
       "      <th>472967</th>\n",
       "      <td>472967</td>\n",
       "      <td>0</td>\n",
       "      <td>Feb 28 10:10:06 localhost logstash: 7738   error:</td>\n",
       "    </tr>\n",
       "    <tr>\n",
       "      <th>472968</th>\n",
       "      <td>472968</td>\n",
       "      <td>1</td>\n",
       "      <td>type=SYSCALL msg=audit(1611890993.458:321827):...</td>\n",
       "    </tr>\n",
       "    <tr>\n",
       "      <th>472969</th>\n",
       "      <td>472969</td>\n",
       "      <td>0</td>\n",
       "      <td>Oct 12 02:20:29 localhost kibana: {\"type\":\"log...</td>\n",
       "    </tr>\n",
       "    <tr>\n",
       "      <th>472970</th>\n",
       "      <td>472970</td>\n",
       "      <td>0</td>\n",
       "      <td>Jan 15 09:02:43 localhost kibana: {\"type\":\"err...</td>\n",
       "    </tr>\n",
       "    <tr>\n",
       "      <th>472971</th>\n",
       "      <td>472971</td>\n",
       "      <td>0</td>\n",
       "      <td>Oct 12 04:27:47 localhost kibana: {\"type\":\"err...</td>\n",
       "    </tr>\n",
       "  </tbody>\n",
       "</table>\n",
       "<p>472972 rows × 3 columns</p>\n",
       "</div>"
      ],
      "text/plain": [
       "            id  level                                           full_log\n",
       "0            0      0  Sep 24 10:02:22 localhost kibana: {\"type\":\"err...\n",
       "1            1      0  Feb  8 16:21:00 localhost logstash: [2021-02-0...\n",
       "2            2      0  Jan 13 01:50:40 localhost kibana: {\"type\":\"err...\n",
       "3            3      0  Jan  4 10:18:31 localhost kibana: {\"type\":\"err...\n",
       "4            4      1  type=SYSCALL msg=audit(1603094402.016:52981): ...\n",
       "...        ...    ...                                                ...\n",
       "472967  472967      0  Feb 28 10:10:06 localhost logstash: 7738   error:\n",
       "472968  472968      1  type=SYSCALL msg=audit(1611890993.458:321827):...\n",
       "472969  472969      0  Oct 12 02:20:29 localhost kibana: {\"type\":\"log...\n",
       "472970  472970      0  Jan 15 09:02:43 localhost kibana: {\"type\":\"err...\n",
       "472971  472971      0  Oct 12 04:27:47 localhost kibana: {\"type\":\"err...\n",
       "\n",
       "[472972 rows x 3 columns]"
      ]
     },
     "execution_count": 4,
     "metadata": {},
     "output_type": "execute_result"
    }
   ],
   "source": [
    "train"
   ]
  },
  {
   "cell_type": "code",
   "execution_count": 134,
   "id": "cc5badeb-a2dd-4724-80a0-12663ab94444",
   "metadata": {},
   "outputs": [],
   "source": [
    "tokenizer = DistilBertTokenizer.from_pretrained(\"distilbert-base-uncased\")"
   ]
  },
  {
   "cell_type": "code",
   "execution_count": 355,
   "id": "5a2de0eb-de12-43d3-bebf-a11ad0b9dbfb",
   "metadata": {},
   "outputs": [],
   "source": [
    "def text_tokenizing(text):\n",
    "    text = text.replace(\"\\n\", \" { \")\n",
    "    text = text.replace(\"\\\\n\", \" { \")\n",
    "    text = re.sub(r\"[\\[\\]\\(\\)\\\"'\\s\\|\\+\\*\\&\\^\\%\\$\\#\\@\\!\\~\\`;\\?\\<\\>]+\", \" \", text)\n",
    "    # text = text.replace(\"=\", \" = \")\n",
    "    text = text.replace(\"{\", \"[SEP]\")\n",
    "    text = text.replace(\"}\", \"[SEP]\")\n",
    "    # text = text.replace(\".\", \". \")\n",
    "\n",
    "    text = text.split()\n",
    "    while True:\n",
    "        if text[0].isdigit() or text[0].lower() in seasons:\n",
    "            text = text[1:]\n",
    "        else:\n",
    "            break\n",
    "\n",
    "    return text"
   ]
  },
  {
   "cell_type": "code",
   "execution_count": 356,
   "id": "7874d0a8-d158-4ba3-ab9a-d13359ad85bd",
   "metadata": {},
   "outputs": [],
   "source": [
    "def myfilter(x):\n",
    "    if x.lower() in seasons:\n",
    "        return \"\"\n",
    "\n",
    "    # if x.isdigit():\n",
    "    #     return \"\"\n",
    "\n",
    "    if re.fullmatch(r\"\\d{1,3}\\.\\d{1,3}\\.\\d{1,3}\\.\\d{1,3}\", x):\n",
    "        return \"IP\"\n",
    "\n",
    "    return x"
   ]
  },
  {
   "cell_type": "code",
   "execution_count": 392,
   "id": "37b671fd-4694-4156-acb8-ffdd0a40a050",
   "metadata": {},
   "outputs": [
    {
     "name": "stdout",
     "output_type": "stream",
     "text": [
      "type=SYSCALL msg=audit(1603094402.016:52981): arch=c000003e syscall=2 success=yes exit=3 a0=7ff220e805a4 a1=80000 a2=1 a3=7ff2210864f8 items=1 ppid=5877 pid=5878 auid=0 uid=0 gid=0 euid=0 suid=0 fsuid=0 egid=0 sgid=0 fsgid=0 tty=(none) ses=45 comm=\"date\" exe=\"/usr/bin/date\" subj=system_u:system_r:sysstat_t:s0-s0:c0.c1023 key=\"audit-wazuh-r\" type=CWD msg=audit(1603094402.016:52981):  cwd=\"/root\" type=PATH msg=audit(1603094402.016:52981): item=0 name=\"/etc/ld.so.cache\" inode=69008420 dev=fd:00 mode=0100644 ouid=0 ogid=0 rdev=00:00 obj=unconfined_u:object_r:ld_so_cache_t:s0 objtype=NORMAL type=PROCTITLE msg=audit(1603094402.016:52981): proctitle=64617465002B2564\n"
     ]
    }
   ],
   "source": [
    "j = 4\n",
    "print(train.full_log[j])"
   ]
  },
  {
   "cell_type": "code",
   "execution_count": 394,
   "id": "fb69c444-f5ac-4760-a536-15908118b950",
   "metadata": {},
   "outputs": [
    {
     "data": {
      "text/plain": [
       "'type=SYSCALL msg=audit 1603094402.016:52981 : arch=c000003e syscall=2 success=yes exit=3 a0=7ff220e805a4 a1=80000 a2=1 a3=7ff2210864f8 items=1 ppid=5877 pid=5878 auid=0 uid=0 gid=0 euid=0 suid=0 fsuid=0 egid=0 sgid=0 fsgid=0 tty= none ses=45 comm= date exe= /usr/bin/date subj=system_u:system_r:sysstat_t:s0-s0:c0.c1023 key= audit-wazuh-r type=CWD msg=audit 1603094402.016:52981 : cwd= /root type=PATH msg=audit 1603094402.016:52981 : item=0 name= /etc/ld.so.cache inode=69008420 dev=fd:00 mode=0100644 ouid=0 ogid=0 rdev=00:00 obj=unconfined_u:object_r:ld_so_cache_t:s0 objtype=NORMAL type=PROCTITLE msg=audit 1603094402.016:52981 : proctitle=64617465002B2564'"
      ]
     },
     "execution_count": 394,
     "metadata": {},
     "output_type": "execute_result"
    }
   ],
   "source": [
    "out = \" \".join(list(filter(None, map(myfilter, text_tokenizing(train.full_log[j])))))\n",
    "out"
   ]
  },
  {
   "cell_type": "code",
   "execution_count": 395,
   "id": "9c9f6083-84a6-4bc9-8971-4b1f9296e315",
   "metadata": {},
   "outputs": [
    {
     "data": {
      "text/plain": [
       "60"
      ]
     },
     "execution_count": 395,
     "metadata": {},
     "output_type": "execute_result"
    }
   ],
   "source": [
    "len(out.split())"
   ]
  },
  {
   "cell_type": "code",
   "execution_count": 396,
   "id": "14302fce-125a-44e2-a933-2bffb741e610",
   "metadata": {},
   "outputs": [],
   "source": [
    "tokens = tokenizer.encode(out)"
   ]
  },
  {
   "cell_type": "code",
   "execution_count": 397,
   "id": "15505634-a37f-4804-97bc-b8572660dd81",
   "metadata": {},
   "outputs": [
    {
     "name": "stdout",
     "output_type": "stream",
     "text": [
      "352\n"
     ]
    }
   ],
   "source": [
    "print(len(tokens))\n",
    "tokens = tokens[:512]"
   ]
  },
  {
   "cell_type": "code",
   "execution_count": 398,
   "id": "9a1ce972-a7fb-4f92-9ac8-78823d0d4d21",
   "metadata": {},
   "outputs": [
    {
     "data": {
      "text/plain": [
       "'type = syscall msg = audit 1603094402. 016 : 52981 : arch = c000003e syscall = 2 success = yes exit = 3 a0 = 7ff220e805a4 a1 = 80000 a2 = 1 a3 = 7ff2210864f8 items = 1 ppid = 5877 pid = 5878 auid = 0 uid = 0 gid = 0 euid = 0 suid = 0 fsuid = 0 egid = 0 sgid = 0 fsgid = 0 tty = none ses = 45 comm = date exe = / usr / bin / date subj = system _ u : system _ r : sysstat _ t : s0 - s0 : c0. c1023 key = audit - wazuh - r type = cwd msg = audit 1603094402. 016 : 52981 : cwd = / root type = path msg = audit 1603094402. 016 : 52981 : item = 0 name = / etc / ld. so. cache inode = 69008420 dev = fd : 00 mode = 0100644 ouid = 0 ogid = 0 rdev = 00 : 00 obj = unconfined _ u : object _ r : ld _ so _ cache _ t : s0 objtype = normal type = proctitle msg = audit 1603094402. 016 : 52981 : proctitle = 64617465002b2564'"
      ]
     },
     "execution_count": 398,
     "metadata": {},
     "output_type": "execute_result"
    }
   ],
   "source": [
    "tokenizer.decode(tokens)"
   ]
  },
  {
   "cell_type": "markdown",
   "id": "9d97524f-7a23-4d07-984e-ab5cac43c845",
   "metadata": {},
   "source": [
    "---"
   ]
  },
  {
   "cell_type": "code",
   "execution_count": 294,
   "id": "a3aa0aa1-7f98-4122-927d-47adeee98a83",
   "metadata": {},
   "outputs": [
    {
     "data": {
      "text/plain": [
       "39057     2\n",
       "87600     2\n",
       "109510    2\n",
       "262892    2\n",
       "294072    2\n",
       "294127    2\n",
       "343011    2\n",
       "345903    2\n",
       "365348    2\n",
       "376681    2\n",
       "380583    2\n",
       "400735    2\n",
       "Name: level, dtype: int64"
      ]
     },
     "execution_count": 294,
     "metadata": {},
     "output_type": "execute_result"
    }
   ],
   "source": [
    "train.level[train.level == 2]"
   ]
  },
  {
   "cell_type": "code",
   "execution_count": 295,
   "id": "a075e378-c8d3-4586-aaca-681f3af8671f",
   "metadata": {},
   "outputs": [
    {
     "data": {
      "text/plain": [
       "'The average number of logs between 10:00 and 11:00 is 5399. We reached 37090.'"
      ]
     },
     "execution_count": 295,
     "metadata": {},
     "output_type": "execute_result"
    }
   ],
   "source": [
    "train.full_log[39057]"
   ]
  },
  {
   "cell_type": "code",
   "execution_count": 296,
   "id": "e177e60f-cc01-4c23-9c9d-79d24945f015",
   "metadata": {},
   "outputs": [
    {
     "name": "stdout",
     "output_type": "stream",
     "text": [
      "0 334065\n",
      "1 132517\n",
      "2 12\n",
      "3 4141\n",
      "4 10\n",
      "5 2219\n",
      "6 8\n"
     ]
    }
   ],
   "source": [
    "for i in range(7):\n",
    "    print(i, len(train.level[train.level == i]))"
   ]
  },
  {
   "cell_type": "code",
   "execution_count": 301,
   "id": "275f5d14-1bfd-4031-8133-c813adf0050d",
   "metadata": {},
   "outputs": [
    {
     "name": "stdout",
     "output_type": "stream",
     "text": [
      "39057 The average number of logs between 10:00 and 11:00 is 5399. We reached 37090.\n",
      "\n",
      "87600 The average number of logs between 5:00 and 6:00 is 222. We reached 77946.\n",
      "\n",
      "109510 The average number of logs between 6:00 and 7:00 is 6420. We reached 28494.\n",
      "\n",
      "262892 The average number of logs between 21:00 and 22:00 is 5325. We reached 95.\n",
      "\n",
      "294072 The average number of logs between 5:00 and 6:00 is 8362. We reached 93476.\n",
      "\n",
      "294127 The average number of logs between 4:00 and 5:00 is 2806. We reached 11476.\n",
      "\n",
      "343011 The average number of logs between 14:00 and 15:00 is 9734. We reached 26958.\n",
      "\n",
      "345903 The average number of logs between 15:00 and 16:00 is 4411. We reached 9487.\n",
      "\n",
      "365348 Sep 18 11:02:59 localhost sudo:  apache : TTY=unknown ; PWD=/var/www/html/management ; USER=root ; COMMAND=/bin/curl -XGET localhost:9200/_cat/snapshots/esild_backup\n",
      "\n",
      "376681 The average number of logs between 2:00 and 3:00 is 9428. We reached 75572.\n",
      "\n",
      "380583 The average number of logs between 10:00 and 11:00 is 12612. We reached 31532.\n",
      "\n",
      "400735 The average number of logs between 13:00 and 14:00 is 2697. We reached 93028.\n",
      "\n"
     ]
    }
   ],
   "source": [
    "for i, full_log in train.full_log[train.level == 2].iteritems():\n",
    "    print(i, full_log)\n",
    "    print()"
   ]
  },
  {
   "cell_type": "code",
   "execution_count": 308,
   "id": "55ea74dd-dc0f-4ae4-950b-e29e68e28698",
   "metadata": {},
   "outputs": [
    {
     "name": "stdout",
     "output_type": "stream",
     "text": [
      "64919 Nov 29 05:44:21 localhost sshd[6008]: Did not receive identification string from 211.253.243.66 port 57487\n",
      "\n",
      "85354 Nov 29 22:16:32 sv260 sshd[39585]: Did not receive identification string from 211.253.243.66\n",
      "\n",
      "123069 Nov 3 10:38:05 localhost sshd[76373]: Did not receive identification string from 192.168.0.195 port 3819\n",
      "\n",
      "167164 Nov 21 01:02:56 sv260 sshd[9196]: Did not receive identification string from 211.253.243.66\n",
      "\n",
      "184483 Nov 27 08:32:12 sv260 sshd[3110]: Did not receive identification string from 192.168.0.195\n",
      "\n",
      "230131 Nov 19 01:03:09 sv260 sshd[13841]: Did not receive identification string from 192.168.0.195\n",
      "\n",
      "321526 Nov 12 04:27:24 localhost sshd[98418]: Did not receive identification string from 61.41.101.142 port 8975\n",
      "\n",
      "348055 Jan 27 20:20:54 localhost sshd[5025]: Did not receive identification string from 35.184.222.44 port 46232\n",
      "\n",
      "348684 Nov 3 06:03:17 localhost sshd[4346]: Did not receive identification string from 192.168.0.181 port 82066\n",
      "\n",
      "369842 Nov 8 20:25:42 sv260 sshd[37597]: Did not receive identification string from 192.168.0.181\n",
      "\n"
     ]
    }
   ],
   "source": [
    "for i, full_log in train.full_log[train.level == 4].iteritems():\n",
    "    print(i, full_log)\n",
    "    print()"
   ]
  },
  {
   "cell_type": "code",
   "execution_count": 309,
   "id": "9086e4dc-85d5-4d59-8ddb-10aab4cfce90",
   "metadata": {},
   "outputs": [
    {
     "name": "stdout",
     "output_type": "stream",
     "text": [
      "87783 Jan 30 08:23:17 localhost sshd[18415]: Bad protocol version identification '\\003' from 78.128.113.18 port 1073\n",
      "\n",
      "170386 Feb  8 16:16:47 localhost kernel: device virbr0-nic entered promiscuous mode\n",
      "\n",
      "213304 Mar  8 15:29:30 localhost kernel: device enp2s0 entered promiscuous mode\n",
      "\n",
      "221847 Jan 29 11:28:59 localhost useradd[88679]: new group: name=test, GID=1001\n",
      "\n",
      "223644 Jan 22 15:18:49 localhost sshd[19015]: error: maximum authentication attempts exceeded for root from 192.168.0.197 port 61153 ssh2 [preauth]\n",
      "\n",
      "361823 Feb  2 17:22:58 localhost kernel: device virbr0-nic entered promiscuous mode\n",
      "\n",
      "406796 Feb  4 09:59:33 localhost kernel: device virbr0-nic entered promiscuous mode\n",
      "\n",
      "429489 Feb  4 09:59:43 localhost kernel: device enp2s0 entered promiscuous mode\n",
      "\n"
     ]
    }
   ],
   "source": [
    "for i, full_log in train.full_log[train.level == 6].iteritems():\n",
    "    print(i, full_log)\n",
    "    print()"
   ]
  },
  {
   "cell_type": "code",
   "execution_count": 345,
   "id": "92f2bfd8-ead5-444c-b7c2-89cc9035f883",
   "metadata": {},
   "outputs": [
    {
     "name": "stdout",
     "output_type": "stream",
     "text": [
      "22650 oscap: msg: \"xccdf-result\", scan-id: \"0001603069960\", content: \"ssg-centos-7-ds.xml\", title: \"Enable GNOME3 Screensaver Idle Activation\", id: \"xccdf_org.ssgproject.content_rule_dconf_gnome_screensaver_idle_activation_enabled\", result: \"fail\", severity: \"medium\", description: \"To activate the screensaver in the GNOME3 desktop after a period of inactivity, add or set idle-activation-enabled to true in /etc/dconf/db/local.d/00-security-settings. For example: [org/gnome/desktop/screensaver] idle_activation_enabled=true Once the setting has been added, add a lock to /etc/dconf/db/local.d/locks/00-security-settings-lock to prevent user modification. For example: /org/gnome/desktop/screensaver/idle-activation-enabled After the settings have been set, run dconf update.\", rationale: \"A session time-out lock is a temporary action taken when a user stops work and moves away from the immediate physical vicinity of the information system but does not logout because of the temporary nature of the absence. Rather than relying on the user to manually lock their operating system session prior to vacating the vicinity, GNOME desktops can be configured to identify when a user's session has idled and take action to initiate the session lock. Enabling idle activation of the screensaver ensures the screensaver will be activated after the idle delay. Applications requiring continuous, real-time screen display (such as network management products) require the login session does not have administrator rights and the display station is located in a controlled-access area.\" references: \"AC-11(a) (http://nvlpubs.nist.gov/nistpubs/SpecialPublications/NIST.SP.800-53r4.pdf), 57 (http://iase.disa.mil/stigs/cci/Pages/index.aspx), SRG-OS-000029-GPOS-00010 (http://iase.disa.mil/stigs/srgs/Pages/index.aspx), Req-8.1.8 (https://www.pcisecuritystandards.org/documents/PCI_DSS_v3-1.pdf), 5.5.5 (https://www.fbi.gov/file-repository/cjis-security-policy-v5_5_20160601-2-1.pdf), 3.1.10 (http://nvlpubs.nist.gov/nistpubs/SpecialPublications/NIST.SP.800-171.pdf)\", identifiers: \"\", oval-id: \"oval:ssg-dconf_gnome_screensaver_idle_activation_enabled:def:1\", benchmark-id: \"xccdf_org.ssgproject.content_benchmark_RHEL-7\", profile-id: \"xccdf_org.ssgproject.content_profile_pci-dss\", profile-title: \"PCI-DSS v3 Control Baseline for Red Hat Enterprise Linux 7\".\n",
      "\n",
      "22982 oscap: msg: \"xccdf-result\", scan-id: \"0001602140405\", content: \"ssg-centos-7-ds.xml\", title: \"Enable Smart Card Login\", id: \"xccdf_org.ssgproject.content_rule_smartcard_auth\", result: \"fail\", severity: \"medium\", description: \"To enable smart card authentication, consult the documentation at: https://access.redhat.com/documentation/en-US/Red_Hat_Enterprise_Linux/7/html/System-Level_Authentication_Guide/smartcards.html#authconfig-smartcards For guidance on enabling SSH to authenticate against a Common Access Card (CAC), consult documentation at: https://access.redhat.com/solutions/82273\", rationale: \"Smart card login provides two-factor authentication stronger than that provided by a username and password combination. Smart cards leverage PKI (public key infrastructure) in order to provide and verify credentials.\" references: \"IA-2(2) (http://nvlpubs.nist.gov/nistpubs/SpecialPublications/NIST.SP.800-53r4.pdf), 765 (http://iase.disa.mil/stigs/cci/Pages/index.aspx), 766 (http://iase.disa.mil/stigs/cci/Pages/index.aspx), 767 (http://iase.disa.mil/stigs/cci/Pages/index.aspx), 768 (http://iase.disa.mil/stigs/cci/Pages/index.aspx), 771 (http://iase.disa.mil/stigs/cci/Pages/index.aspx), 772 (http://iase.disa.mil/stigs/cci/Pages/index.aspx), 884 (http://iase.disa.mil/stigs/cci/Pages/index.aspx), Req-8.3 (https://www.pcisecuritystandards.org/documents/PCI_DSS_v3-1.pdf), SRG-OS-000104-GPOS-00051 (http://iase.disa.mil/stigs/srgs/Pages/index.aspx), SRG-OS-000106-GPOS-00053 (http://iase.disa.mil/stigs/srgs/Pages/index.aspx), SRG-OS-000107-GPOS-00054 (http://iase.disa.mil/stigs/srgs/Pages/index.aspx), SRG-OS-000109-GPOS-00056 (http://iase.disa.mil/stigs/srgs/Pages/index.aspx), SRG-OS-000108-GPOS-00055 (http://iase.disa.mil/stigs/srgs/Pages/index.aspx), SRG-OS-000108-GPOS-00057 (http://iase.disa.mil/stigs/srgs/Pages/index.aspx), SRG-OS-000108-GPOS-00058 (http://iase.disa.mil/stigs/srgs/Pages/index.aspx)\", identifiers: \"\", oval-id: \"oval:ssg-smartcard_auth:def:1\", benchmark-id: \"xccdf_org.ssgproject.content_benchmark_RHEL-7\", profile-id: \"xccdf_org.ssgproject.content_profile_pci-dss\", profile-title: \"PCI-DSS v3 Control Baseline for Red Hat Enterprise Linux 7\".\n",
      "\n",
      "23111 oscap: msg: \"xccdf-result\", scan-id: \"0001603245133\", content: \"ssg-centos-7-ds.xml\", title: \"Set Password Minimum Length\", id: \"xccdf_org.ssgproject.content_rule_accounts_password_pam_minlen\", result: \"fail\", severity: \"medium\", description: \"The pam_pwquality module's minlen parameter controls requirements for minimum characters required in a password. Add minlen= after pam_pwquality to set minimum password length requirements.\", rationale: \"The shorter the password, the lower the number of possible combinations that need to be tested before the password is compromised. Password complexity, or strength, is a measure of the effectiveness of a password in resisting attempts at guessing and brute-force attacks. Password length is one factor of several that helps to determine strength and how long it takes to crack a password. Use of more characters in a password helps to exponentially increase the time and/or resources required to compromose the password.\" references: \"IA-5(1)(a) (http://nvlpubs.nist.gov/nistpubs/SpecialPublications/NIST.SP.800-53r4.pdf), 205 (http://iase.disa.mil/stigs/cci/Pages/index.aspx), SRG-OS-000078-GPOS-00046 (), Req-8.2.3 (https://www.pcisecuritystandards.org/documents/PCI_DSS_v3-1.pdf), 6.3.2 (https://benchmarks.cisecurity.org/tools2/linux/CIS_Red_Hat_Enterprise_Linux_7_Benchmark_v1.1.0.pdf)\", identifiers: \"\", oval-id: \"oval:ssg-accounts_password_pam_minlen:def:1\", benchmark-id: \"xccdf_org.ssgproject.content_benchmark_RHEL-7\", profile-id: \"xccdf_org.ssgproject.content_profile_pci-dss\", profile-title: \"PCI-DSS v3 Control Baseline for Red Hat Enterprise Linux 7\".\n",
      "\n",
      "23569 ossec: output: 'netstat listening ports':\n",
      "tcp *.* *.* CLOSED\n",
      "tcp *.111 *.* LISTEN\n",
      "tcp *.14248 *.* LISTEN\n",
      "tcp *.16191 *.* LISTEN\n",
      "tcp *.199 *.* LISTEN\n",
      "tcp *.21 *.* LISTEN\n",
      "tcp *.23 *.* LISTEN\n",
      "tcp *.32770 *.* LISTEN\n",
      "tcp *.32771 *.* LISTEN\n",
      "tcp *.32773 *.* LISTEN\n",
      "tcp *.32782 *.* LISTEN\n",
      "tcp *.32785 *.* LISTEN\n",
      "tcp *.32792 *.* LISTEN\n",
      "tcp *.427 *.* LISTEN\n",
      "tcp *.512 *.* LISTEN\n",
      "tcp *.513 *.* LISTEN\n",
      "tcp *.514 *.* LISTEN\n",
      "tcp *.5335 *.* LISTEN\n",
      "tcp *.5336 *.* LISTEN\n",
      "tcp *.5988 *.* LISTEN\n",
      "tcp *.5989 *.* LISTEN\n",
      "tcp *.6181 *.* LISTEN\n",
      "tcp *.657 *.* LISTEN\n",
      "tcp *.6987 *.* LISTEN\n",
      "tcp *.6988 *.* LISTEN\n",
      "tcp *.9510 *.* LISTEN\n",
      "tcp4 *.* *.* CLOSED\n",
      "tcp4 *.13 *.* LISTEN\n",
      "tcp4 *.1334 *.* LISTEN\n",
      "tcp4 *.22 *.* LISTEN\n",
      "tcp4 *.25 *.* LISTEN\n",
      "tcp4 *.32768 *.* LISTEN\n",
      "tcp4 *.32769 *.* LISTEN\n",
      "tcp4 *.37 *.* LISTEN\n",
      "tcp4 *.4000 *.* LISTEN\n",
      "tcp4 *.6000 *.* LISTEN\n",
      "tcp4 *.6112 *.* LISTEN\n",
      "tcp4 127.0.0.1.41834 127.0.0.1.9515 TIME_WAIT\n",
      "tcp4 127.0.0.1.9514 *.* LISTEN\n",
      "tcp4 127.0.0.1.9515 *.* LISTEN\n",
      "tcp4 211.253.243.72.33255 61.41.101.142.1514 ESTABLISHED\n",
      "tcp6 *.22 *.* LISTEN\n",
      "tcp6 *.6000 *.* LISTEN\n",
      "tcp6 ::1.32783 ::1.32784 CLOSE_WAIT\n",
      "udp *.111 *.* \n",
      "udp *.14252 *.* \n",
      "udp *.14253 *.* \n",
      "udp *.161 *.* \n",
      "udp *.2279 *.* \n",
      "udp *.32776 *.* \n",
      "udp *.32799 *.* \n",
      "udp *.32813 *.* \n",
      "udp *.33313 *.* \n",
      "udp *.33395 *.* \n",
      "udp *.427 *.* \n",
      "udp *.514 *.* \n",
      "udp *.59339 *.* \n",
      "udp *.657 *.* \n",
      "udp4 *.* *.* \n",
      "udp4 *.* *.* \n",
      "udp4 *.* *.* \n",
      "udp4 *.* *.* \n",
      "udp4 *.* *.* \n",
      "udp4 *.13 *.* \n",
      "udp4 *.177 *.* \n",
      "udp4 *.32777 *.* \n",
      "udp4 *.37 *.* \n",
      "udp4 *.518 *.* \n",
      "udp4 *.57312 *.* \n",
      "\n",
      "23737 File 'HKEY_LOCAL_MACHINE\\System\\CurrentControlSet\\Services\\lmhosts' checksum changed.\n",
      "Old md5sum was: '55446b9d704c9423bb48f56992b75cd6'\n",
      "New md5sum is : '2ee9468a872cb325efbd12a0829b07ec'\n",
      "Old sha1sum was: 'ab5fc301e09ede97b1cd438c6fe90d496d47e703'\n",
      "New sha1sum is : 'fefab49fff2fec30a225fd2df1c1457163ac6497'\n",
      "\n",
      "\n",
      "23852 ossec: output: 'netstat listening ports':\n",
      "tcp 211.253.243.71.49203 211.253.243.71.49182\n",
      "tcp 211.253.243.71.49182 211.253.243.71.49203\n",
      "tcp 211.253.243.71.49216 211.253.243.71.6000\n",
      "tcp 211.253.243.71.6000 211.253.243.71.49188\n",
      "tcp 211.253.243.71.6000 211.253.243.71.49187\n",
      "tcp 127.0.0.1.49206 127.0.0.1.49205\n",
      "tcp 127.0.0.1.49205 127.0.0.1.49206\n",
      "tcp 211.253.243.71.49241 211.253.243.71.6000\n",
      "tcp 211.253.243.71.49182 211.253.243.71.49236\n",
      "tcp 211.253.243.71.6000 211.253.243.71.49181\n",
      "tcp 211.253.243.71.49229 211.253.243.71.6000\n",
      "tcp 211.253.243.71.49230 211.253.243.71.49182\n",
      "tcp 211.253.243.71.57753 61.41.101.142.1514\n",
      "tcp 211.253.243.71.6000 211.253.243.71.49202\n",
      "tcp 211.253.243.71.6000 211.253.243.71.49201\n",
      "tcp 211.253.243.71.49202 211.253.243.71.6000\n",
      "tcp 211.253.243.71.6000 211.253.243.71.49200\n",
      "tcp 211.253.243.71.49200 211.253.243.71.6000\n",
      "tcp 211.253.243.71.49201 211.253.243.71.6000\n",
      "tcp 211.253.243.71.6000 211.253.243.71.49170\n",
      "tcp 211.253.243.71.6000 211.253.243.71.49229\n",
      "tcp 211.253.243.71.49182 211.253.243.71.49230\n",
      "tcp 211.253.243.71.49182 211.253.243.71.49195\n",
      "tcp 127.0.0.1.49198 127.0.0.1.49197\n",
      "tcp 127.0.0.1.49197 127.0.0.1.49198\n",
      "tcp 127.0.0.1.49226 127.0.0.1.49227\n",
      "tcp 211.253.243.71.49235 211.253.243.71.6000\n",
      "tcp 211.253.243.71.49194 211.253.243.71.6000\n",
      "tcp 211.253.243.71.6000 211.253.243.71.49194\n",
      "tcp 211.253.243.71.49195 211.253.243.71.49182\n",
      "tcp 127.0.0.1.49227 127.0.0.1.49226\n",
      "tcp 127.0.0.1.49233 127.0.0.1.49232\n",
      "tcp 211.253.243.71.6000 211.253.243.71.49241\n",
      "tcp 211.253.243.71.49170 211.253.243.71.6000\n",
      "tcp 127.0.0.1.49232 127.0.0.1.49233\n",
      "tcp 211.253.243.71.6000 211.253.243.71.49215\n",
      "tcp 211.253.243.71.49215 211.253.243.71.6000\n",
      "tcp 127.0.0.1.49238 127.0.0.1.49239\n",
      "tcp 211.253.243.71.6000 211.253.243.71.49216\n",
      "tcp 127.0.0.1.49239 127.0.0.1.49238\n",
      "tcp 211.253.243.71.6000 211.253.243.71.49223\n",
      "tcp 211.253.243.71.49224 211.253.243.71.49182\n",
      "tcp 211.253.243.71.49182 211.253.243.71.49224\n",
      "tcp 211.253.243.71.49181 211.253.243.71.6000\n",
      "tcp 211.253.243.71.49236 211.253.243.71.49182\n",
      "tcp 211.253.243.71.6000 211.253.243.71.49235\n",
      "tcp 211.253.243.71.49223 211.253.243.71.6000\n",
      "tcp 211.253.243.71.49188 211.253.243.71.6000\n",
      "tcp 211.253.243.71.49187 211.253.243.71.6000\n",
      "tcp 211.253.243.71.59772 211.253.243.71.1712\n",
      "udp 127.0.0.1.49192 127.0.0.1.49192\n",
      "\n",
      "23880 ossec: output: 'netstat listening ports':\n",
      "tcp 211.253.243.71.49391 61.41.101.142.1514\n",
      "tcp 211.253.243.71.49177 211.253.243.71.6000\n",
      "tcp 211.253.243.71.6000 211.253.243.71.49172\n",
      "tcp 211.253.243.71.49172 211.253.243.71.6000\n",
      "tcp 211.253.243.71.6000 211.253.243.71.49177\n",
      "tcp 211.253.243.71.6000 211.253.243.71.49170\n",
      "tcp 211.253.243.71.49170 211.253.243.71.6000\n",
      "tcp 211.253.243.71.62175 211.253.243.71.1712\n",
      "udp 127.0.0.1.49164 127.0.0.1.49164\n",
      "\n",
      "24478 ossec: output: 'netstat listening ports':\n",
      "tcp *.* *.* CLOSED\n",
      "tcp *.111 *.* LISTEN\n",
      "tcp *.14248 *.* LISTEN\n",
      "tcp *.16191 *.* LISTEN\n",
      "tcp *.21 *.* LISTEN\n",
      "tcp *.23 *.* LISTEN\n",
      "tcp *.32771 *.* LISTEN\n",
      "tcp *.32772 *.* LISTEN\n",
      "tcp *.32777 *.* LISTEN\n",
      "tcp *.32784 *.* LISTEN\n",
      "tcp *.32787 *.* LISTEN\n",
      "tcp *.427 *.* LISTEN\n",
      "tcp *.512 *.* LISTEN\n",
      "tcp *.513 *.* LISTEN\n",
      "tcp *.514 *.* LISTEN\n",
      "tcp *.5335 *.* LISTEN\n",
      "tcp *.5336 *.* LISTEN\n",
      "tcp *.5988 *.* LISTEN\n",
      "tcp *.5989 *.* LISTEN\n",
      "tcp *.6181 *.* LISTEN\n",
      "tcp *.657 *.* LISTEN\n",
      "tcp *.6987 *.* LISTEN\n",
      "tcp *.6988 *.* LISTEN\n",
      "tcp *.9510 *.* LISTEN\n",
      "tcp4 *.* *.* CLOSED\n",
      "tcp4 *.13 *.* LISTEN\n",
      "tcp4 *.1334 *.* LISTEN\n",
      "tcp4 *.22 *.* LISTEN\n",
      "tcp4 *.25 *.* LISTEN\n",
      "tcp4 *.32768 *.* LISTEN\n",
      "tcp4 *.32769 *.* LISTEN\n",
      "tcp4 *.32805 *.* LISTEN\n",
      "tcp4 *.32806 *.* LISTEN\n",
      "tcp4 *.32808 *.* LISTEN\n",
      "tcp4 *.32810 *.* LISTEN\n",
      "tcp4 *.32828 *.* LISTEN\n",
      "tcp4 *.37 *.* LISTEN\n",
      "tcp4 *.4000 *.* LISTEN\n",
      "tcp4 *.45674 *.* LISTEN\n",
      "tcp4 *.6000 *.* LISTEN\n",
      "tcp4 *.6112 *.* LISTEN\n",
      "tcp4 127.0.0.1.9514 *.* LISTEN\n",
      "tcp4 127.0.0.1.9515 *.* LISTEN\n",
      "tcp4 211.253.243.72.32769 211.253.243.72.784 ESTABLISHED\n",
      "tcp4 211.253.243.72.32805 211.253.243.72.659 ESTABLISHED\n",
      "tcp4 211.253.243.72.32805 211.253.243.72.703 ESTABLISHED\n",
      "tcp4 211.253.243.72.32805 211.253.243.72.755 ESTABLISHED\n",
      "tcp4 211.253.243.72.32805 211.253.243.72.778 ESTABLISHED\n",
      "tcp4 211.253.243.72.32805 211.253.243.72.904 ESTABLISHED\n",
      "tcp4 211.253.243.72.32806 211.253.243.72.32807 ESTABLISHED\n",
      "tcp4 211.253.243.72.32807 211.253.243.72.32806 ESTABLISHED\n",
      "tcp4 211.253.243.72.32808 211.253.243.72.32809 ESTABLISHED\n",
      "tcp4 211.253.243.72.32809 211.253.243.72.32808 ESTABLISHED\n",
      "tcp4 211.253.243.72.32810 211.253.243.72.32811 ESTABLISHED\n",
      "tcp4 211.253.243.72.32811 211.253.243.72.32810 ESTABLISHED\n",
      "tcp4 211.253.243.72.32828 211.253.243.72.32829 ESTABLISHED\n",
      "tcp4 211.253.243.72.32829 211.253.243.72.32828 ESTABLISHED\n",
      "tcp4 211.253.243.72.43622 61.41.101.142.1514 ESTABLISHED\n",
      "tcp4 211.253.243.72.45674 211.253.243.72.45675 ESTABLISHED\n",
      "tcp4 211.253.243.72.45675 211.253.243.72.45674 ESTABLISHED\n",
      "tcp4 211.253.243.72.659 211.253.243.72.32805 ESTABLISHED\n",
      "tcp4 211.253.243.72.703 211.253.243.72.32805 ESTABLISHED\n",
      "tcp4 211.253.243.72.755 211.253.243.72.32805 ESTABLISHED\n",
      "tcp4 211.253.243.72.778 211.253.243.72.32805 ESTABLISHED\n",
      "tcp4 211.253.243.72.784 211.253.243.72.32769 ESTABLISHED\n",
      "tcp4 211.253.243.72.904 211.253.243.72.32805 ESTABLISHED\n",
      "tcp6 *.22 *.* LISTEN\n",
      "tcp6 *.6000 *.* LISTEN\n",
      "tcp6 ::1.32782 ::1.32783 CLOSE_WAIT\n",
      "udp *.111 *.* \n",
      "udp *.14252 *.* \n",
      "udp *.14253 *.* \n",
      "udp *.2279 *.* \n",
      "udp *.32784 *.* \n",
      "udp *.33091 *.* \n",
      "udp *.33141 *.* \n",
      "udp *.33189 *.* \n",
      "udp *.33190 *.* \n",
      "udp *.427 *.* \n",
      "udp *.514 *.* \n",
      "udp *.657 *.* \n",
      "udp4 *.13 *.* \n",
      "udp4 *.177 *.* \n",
      "udp4 *.32785 *.* \n",
      "udp4 *.37 *.* \n",
      "udp4 *.518 *.* \n",
      "udp4 *.57312 *.* \n",
      "udp4 211.253.243.72.42939 8.8.8.8.53 \n",
      "\n",
      "24483 File 'HKEY_LOCAL_MACHINE\\System\\CurrentControlSet\\Services\\WSearch' checksum changed.\n",
      "Old md5sum was: 'a6a910004e97cbc603280c255badab05'\n",
      "New md5sum is : 'f773e3ab3bf68393c242375c7f9c6cfe'\n",
      "Old sha1sum was: '302a514fd22484c035011bb9e88d2e80702de0b3'\n",
      "New sha1sum is : 'b16711eb18e5478e01d502dca750066055b1631d'\n",
      "\n",
      "\n",
      "24799 oscap: msg: \"xccdf-result\", scan-id: \"0001602504006\", content: \"ssg-centos-7-ds.xml\", title: \"Ensure auditd Collects Unauthorized Access Attempts to Files (unsuccessful)\", id: \"xccdf_org.ssgproject.content_rule_audit_rules_unsuccessful_file_modification\", result: \"fail\", severity: \"medium\", description: \"At a minimum the audit system should collect unauthorized file accesses for all users and root. If the auditd daemon is configured to use the augenrules program to read audit rules during daemon startup (the default), add the following lines to a file with suffix .rules in the directory /etc/audit/rules.d: -a always,exit -F arch=b32 -S creat,open,openat,open_by_handle_at,truncate,ftruncate -F exit=-EACCES -F auid>=1000 -F auid!=4294967295 -F key=access -a always,exit -F arch=b32 -S creat,open,openat,open_by_handle_at,truncate,ftruncate -F exit=-EPERM -F auid>=1000 -F auid!=4294967295 -F key=access If the system is 64 bit then also add the following lines: -a always,exit -F arch=b64 -S creat,open,openat,open_by_handle_at,truncate,ftruncate -F exit=-EACCES -F auid>=1000 -F auid!=4294967295 -F key=access -a always,exit -F arch=b64 -S creat,open,openat,open_by_handle_at,truncate,ftruncate -F exit=-EPERM -F auid>=1000 -F auid!=4294967295 -F key=access If the auditd daemon is configured to use the auditctl utility to read audit rules during daemon startup, add the following lines to /etc/audit/audit.rules file: -a always,exit -F arch=b32 -S creat,open,openat,open_by_handle_at,truncate,ftruncate -F exit=-EACCES -F auid>=1000 -F auid!=4294967295 -F key=access -a always,exit -F arch=b32 -S creat,open,openat,open_by_handle_at,truncate,ftruncate -F exit=-EPERM -F auid>=1000 -F auid!=4294967295 -F key=access If the system is 64 bit then also add the following lines: -a always,exit -F arch=b64 -S creat,open,openat,open_by_handle_at,truncate,ftruncate -F exit=-EACCES -F auid>=1000 -F auid!=4294967295 -F key=access -a always,exit -F arch=b64 -S creat,open,openat,open_by_handle_at,truncate,ftruncate -F exit=-EPERM -F auid>=1000 -F auid!=4294967295 -F key=access\", rationale: \"Unsuccessful attempts to access files could be an indicator of malicious activity on a system. Auditing these events could serve as evidence of potential system compromise.\" references: \"AC-17(7) (http://nvlpubs.nist.gov/nistpubs/SpecialPublications/NIST.SP.800-53r4.pdf), AU-1(b) (http://nvlpubs.nist.gov/nistpubs/SpecialPublications/NIST.SP.800-53r4.pdf), AU-2(a) (http://nvlpubs.nist.gov/nistpubs/SpecialPublications/NIST.SP.800-53r4.pdf), AU-2(c) (http://nvlpubs.nist.gov/nistpubs/SpecialPublications/NIST.SP.800-53r4.pdf), AU-2(d) (http://nvlpubs.nist.gov/nistpubs/SpecialPublications/NIST.SP.800-53r4.pdf), AU-12(a) (http://nvlpubs.nist.gov/nistpubs/SpecialPublications/NIST.SP.800-53r4.pdf), AU-12(c) (http://nvlpubs.nist.gov/nistpubs/SpecialPublications/NIST.SP.800-53r4.pdf), IR-5 (http://nvlpubs.nist.gov/nistpubs/SpecialPublications/NIST.SP.800-53r4.pdf), 172 (http://iase.disa.mil/stigs/cci/Pages/index.aspx), 2884 (http://iase.disa.mil/stigs/cci/Pages/index.aspx), Req-10.2.4 (https://www.pcisecuritystandards.org/documents/PCI_DSS_v3-1.pdf), Req-10.2.1 (https://www.pcisecuritystandards.org/documents/PCI_DSS_v3-1.pdf), 5.2.10 (https://benchmarks.cisecurity.org/tools2/linux/CIS_Red_Hat_Enterprise_Linux_7_Benchmark_v1.1.0.pdf), 5.4.1.1 (https://www.fbi.gov/file-repository/cjis-security-policy-v5_5_20160601-2-1.pdf), 3.1.7 (http://nvlpubs.nist.gov/nistpubs/SpecialPublications/NIST.SP.800-171.pdf)\", identifiers: \"\", oval-id: \"oval:ssg-audit_rules_unsuccessful_file_modification:def:1\", benchmark-id: \"xccdf_org.ssgproject.content_benchmark_RHEL-7\", profile-id: \"xccdf_org.ssgproject.content_profile_pci-dss\", profile-title: \"PCI-DSS v3 Control Baseline for Red Hat Enterprise Linux 7\".\n",
      "\n"
     ]
    }
   ],
   "source": [
    "for i, full_log in list(train.full_log[train.level == 5].iteritems())[100:110]:\n",
    "    print(i, full_log)\n",
    "    print()"
   ]
  },
  {
   "cell_type": "code",
   "execution_count": null,
   "id": "fd103d20-389c-4901-802b-6d8763c23335",
   "metadata": {},
   "outputs": [],
   "source": []
  }
 ],
 "metadata": {
  "kernelspec": {
   "display_name": "torch",
   "language": "python",
   "name": "torch"
  },
  "language_info": {
   "codemirror_mode": {
    "name": "ipython",
    "version": 3
   },
   "file_extension": ".py",
   "mimetype": "text/x-python",
   "name": "python",
   "nbconvert_exporter": "python",
   "pygments_lexer": "ipython3",
   "version": "3.7.10"
  }
 },
 "nbformat": 4,
 "nbformat_minor": 5
}
