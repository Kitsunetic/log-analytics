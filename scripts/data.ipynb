{
 "cells": [
  {
   "cell_type": "code",
   "execution_count": 1,
   "id": "e7ce1f6b-6324-4a7d-a9f4-8e06fd1e2e62",
   "metadata": {},
   "outputs": [
    {
     "name": "stdout",
     "output_type": "stream",
     "text": [
      "/mnt/h/hev/log-analytics\n"
     ]
    }
   ],
   "source": [
    "%load_ext lab_black\n",
    "%cd .."
   ]
  },
  {
   "cell_type": "code",
   "execution_count": 26,
   "id": "c1f388f3-8f38-4409-9322-7bc129d52b10",
   "metadata": {},
   "outputs": [],
   "source": [
    "import pandas as pd\n",
    "import matplotlib.pyplot as plt\n",
    "import numpy as np\n",
    "\n",
    "import torch\n",
    "from torch.utils.data import Dataset, DataLoader\n",
    "from pytorch_transformers import (\n",
    "    BertTokenizer,\n",
    "    BertForSequenceClassification,\n",
    "    BertConfig,\n",
    ")\n",
    "from torch.optim import AdamW\n",
    "import torch.nn.functional as F\n",
    "from tqdm import tqdm\n",
    "import sys\n",
    "import re\n",
    "from collections import defaultdict"
   ]
  },
  {
   "cell_type": "code",
   "execution_count": 85,
   "id": "27dd9720-e11e-4635-b577-64ddf0f9151c",
   "metadata": {},
   "outputs": [],
   "source": [
    "def first_word(text, deli=\" \"):\n",
    "    for i, t in enumerate(text):\n",
    "        if t == deli:\n",
    "            break\n",
    "    return text[:i]"
   ]
  },
  {
   "cell_type": "code",
   "execution_count": 3,
   "id": "5df057c5-7be9-4d93-aeb3-dabb1e55fd00",
   "metadata": {},
   "outputs": [],
   "source": [
    "train = pd.read_csv(\"data/ori/train.csv\")"
   ]
  },
  {
   "cell_type": "code",
   "execution_count": 4,
   "id": "efc3369a-402d-47c7-b9fc-d14c48d2de89",
   "metadata": {},
   "outputs": [
    {
     "data": {
      "text/html": [
       "<div>\n",
       "<style scoped>\n",
       "    .dataframe tbody tr th:only-of-type {\n",
       "        vertical-align: middle;\n",
       "    }\n",
       "\n",
       "    .dataframe tbody tr th {\n",
       "        vertical-align: top;\n",
       "    }\n",
       "\n",
       "    .dataframe thead th {\n",
       "        text-align: right;\n",
       "    }\n",
       "</style>\n",
       "<table border=\"1\" class=\"dataframe\">\n",
       "  <thead>\n",
       "    <tr style=\"text-align: right;\">\n",
       "      <th></th>\n",
       "      <th>id</th>\n",
       "      <th>level</th>\n",
       "      <th>full_log</th>\n",
       "    </tr>\n",
       "  </thead>\n",
       "  <tbody>\n",
       "    <tr>\n",
       "      <th>0</th>\n",
       "      <td>0</td>\n",
       "      <td>0</td>\n",
       "      <td>Sep 24 10:02:22 localhost kibana: {\"type\":\"err...</td>\n",
       "    </tr>\n",
       "    <tr>\n",
       "      <th>1</th>\n",
       "      <td>1</td>\n",
       "      <td>0</td>\n",
       "      <td>Feb  8 16:21:00 localhost logstash: [2021-02-0...</td>\n",
       "    </tr>\n",
       "    <tr>\n",
       "      <th>2</th>\n",
       "      <td>2</td>\n",
       "      <td>0</td>\n",
       "      <td>Jan 13 01:50:40 localhost kibana: {\"type\":\"err...</td>\n",
       "    </tr>\n",
       "    <tr>\n",
       "      <th>3</th>\n",
       "      <td>3</td>\n",
       "      <td>0</td>\n",
       "      <td>Jan  4 10:18:31 localhost kibana: {\"type\":\"err...</td>\n",
       "    </tr>\n",
       "    <tr>\n",
       "      <th>4</th>\n",
       "      <td>4</td>\n",
       "      <td>1</td>\n",
       "      <td>type=SYSCALL msg=audit(1603094402.016:52981): ...</td>\n",
       "    </tr>\n",
       "    <tr>\n",
       "      <th>...</th>\n",
       "      <td>...</td>\n",
       "      <td>...</td>\n",
       "      <td>...</td>\n",
       "    </tr>\n",
       "    <tr>\n",
       "      <th>472967</th>\n",
       "      <td>472967</td>\n",
       "      <td>0</td>\n",
       "      <td>Feb 28 10:10:06 localhost logstash: 7738   error:</td>\n",
       "    </tr>\n",
       "    <tr>\n",
       "      <th>472968</th>\n",
       "      <td>472968</td>\n",
       "      <td>1</td>\n",
       "      <td>type=SYSCALL msg=audit(1611890993.458:321827):...</td>\n",
       "    </tr>\n",
       "    <tr>\n",
       "      <th>472969</th>\n",
       "      <td>472969</td>\n",
       "      <td>0</td>\n",
       "      <td>Oct 12 02:20:29 localhost kibana: {\"type\":\"log...</td>\n",
       "    </tr>\n",
       "    <tr>\n",
       "      <th>472970</th>\n",
       "      <td>472970</td>\n",
       "      <td>0</td>\n",
       "      <td>Jan 15 09:02:43 localhost kibana: {\"type\":\"err...</td>\n",
       "    </tr>\n",
       "    <tr>\n",
       "      <th>472971</th>\n",
       "      <td>472971</td>\n",
       "      <td>0</td>\n",
       "      <td>Oct 12 04:27:47 localhost kibana: {\"type\":\"err...</td>\n",
       "    </tr>\n",
       "  </tbody>\n",
       "</table>\n",
       "<p>472972 rows × 3 columns</p>\n",
       "</div>"
      ],
      "text/plain": [
       "            id  level                                           full_log\n",
       "0            0      0  Sep 24 10:02:22 localhost kibana: {\"type\":\"err...\n",
       "1            1      0  Feb  8 16:21:00 localhost logstash: [2021-02-0...\n",
       "2            2      0  Jan 13 01:50:40 localhost kibana: {\"type\":\"err...\n",
       "3            3      0  Jan  4 10:18:31 localhost kibana: {\"type\":\"err...\n",
       "4            4      1  type=SYSCALL msg=audit(1603094402.016:52981): ...\n",
       "...        ...    ...                                                ...\n",
       "472967  472967      0  Feb 28 10:10:06 localhost logstash: 7738   error:\n",
       "472968  472968      1  type=SYSCALL msg=audit(1611890993.458:321827):...\n",
       "472969  472969      0  Oct 12 02:20:29 localhost kibana: {\"type\":\"log...\n",
       "472970  472970      0  Jan 15 09:02:43 localhost kibana: {\"type\":\"err...\n",
       "472971  472971      0  Oct 12 04:27:47 localhost kibana: {\"type\":\"err...\n",
       "\n",
       "[472972 rows x 3 columns]"
      ]
     },
     "execution_count": 4,
     "metadata": {},
     "output_type": "execute_result"
    }
   ],
   "source": [
    "train"
   ]
  },
  {
   "cell_type": "code",
   "execution_count": 9,
   "id": "89fc788d-eeb9-4296-8187-2fd421b76d74",
   "metadata": {},
   "outputs": [
    {
     "data": {
      "text/plain": [
       "'Sep'"
      ]
     },
     "execution_count": 9,
     "metadata": {},
     "output_type": "execute_result"
    }
   ],
   "source": [
    "first_word(train.iloc[0][\"full_log\"])"
   ]
  },
  {
   "cell_type": "code",
   "execution_count": 58,
   "id": "2ff6e799-23de-4f9f-abf0-901489ab0235",
   "metadata": {},
   "outputs": [],
   "source": [
    "seasons = [\"Jan\", \"Feb\", \"Mar\", \"Apr\", \"May\", \"Jun\", \"Jul\", \"Aug\", \"Sep\", \"Oct\", \"Nov\", \"Dec\"]"
   ]
  },
  {
   "cell_type": "code",
   "execution_count": 22,
   "id": "5d09772a-f5dc-4713-a8ab-29c310e7279f",
   "metadata": {},
   "outputs": [
    {
     "name": "stdout",
     "output_type": "stream",
     "text": [
      "100%|████████████████████████████████████████████████████| 472972/472972 [00:28<00:00, 16788.87it/s]\n"
     ]
    }
   ],
   "source": [
    "first_words = set()\n",
    "for row, (id, level, full_log) in tqdm(train.iterrows(), total=len(train), ncols=100, file=sys.stdout):\n",
    "    t = first_word(full_log)\n",
    "    first_words.add(t)\n",
    "    # break"
   ]
  },
  {
   "cell_type": "code",
   "execution_count": 23,
   "id": "94c2077a-53b9-46dc-a761-8a36aab7cbf0",
   "metadata": {},
   "outputs": [
    {
     "data": {
      "text/plain": [
       "{'--MARK--:',\n",
       " '2020',\n",
       " '2021',\n",
       " 'Dec',\n",
       " 'E:',\n",
       " 'Feb',\n",
       " 'File',\n",
       " 'Jan',\n",
       " 'Mar',\n",
       " 'NTFS',\n",
       " 'Nov',\n",
       " 'Oct',\n",
       " 'OpenSCAP',\n",
       " 'Sep',\n",
       " 'System',\n",
       " 'The',\n",
       " 'Trojaned',\n",
       " 'Windows',\n",
       " 'error:',\n",
       " 'junipe',\n",
       " 'level',\n",
       " 'oscap:',\n",
       " 'ossec:',\n",
       " 'type=AVC',\n",
       " 'type=SYSCALL',\n",
       " 'type=USER_AVC'}"
      ]
     },
     "execution_count": 23,
     "metadata": {},
     "output_type": "execute_result"
    }
   ],
   "source": [
    "first_words"
   ]
  },
  {
   "cell_type": "code",
   "execution_count": 31,
   "id": "4a17e441-a950-4b69-af77-c19fa7d54a4d",
   "metadata": {},
   "outputs": [
    {
     "name": "stdout",
     "output_type": "stream",
     "text": [
      "100%|████████████████████████████████████████████████████| 472972/472972 [00:28<00:00, 16653.52it/s]\n"
     ]
    }
   ],
   "source": [
    "first_word_cnt = defaultdict(int)\n",
    "for row, (id, level, full_log) in tqdm(train.iterrows(), total=len(train), ncols=100, file=sys.stdout):\n",
    "    t = first_word(full_log)\n",
    "    first_word_cnt[(level, t)] += 1\n",
    "    # break"
   ]
  },
  {
   "cell_type": "code",
   "execution_count": 43,
   "id": "e388a6d8-1440-4f86-b4c3-9b7d05088073",
   "metadata": {},
   "outputs": [
    {
     "name": "stdout",
     "output_type": "stream",
     "text": [
      "(0, '--MARK--:')     : 12\n",
      "(0, 'Dec')           : 24370\n",
      "(0, 'E:')            : 297\n",
      "(0, 'Feb')           : 33114\n",
      "(0, 'Jan')           : 200574\n",
      "(0, 'Mar')           : 11368\n",
      "(0, 'Nov')           : 18980\n",
      "(0, 'Oct')           : 20973\n",
      "(0, 'OpenSCAP')      : 3\n",
      "(0, 'Sep')           : 22392\n",
      "(0, 'error:')        : 459\n",
      "(0, 'junipe')        : 4\n",
      "(0, 'level')         : 1519\n",
      "(1, 'Dec')           : 1498\n",
      "(1, 'Feb')           : 2381\n",
      "(1, 'Jan')           : 3019\n",
      "(1, 'Mar')           : 804\n",
      "(1, 'Nov')           : 2646\n",
      "(1, 'Oct')           : 2904\n",
      "(1, 'Sep')           : 799\n",
      "(1, 'System')        : 820\n",
      "(1, 'Windows')       : 13\n",
      "(1, 'level')         : 736\n",
      "(1, 'ossec:')        : 29\n",
      "(1, 'type=AVC')      : 369\n",
      "(1, 'type=SYSCALL')  : 116496\n",
      "(1, 'type=USER_AVC') : 3\n",
      "(2, 'Sep')           : 1\n",
      "(2, 'The')           : 11\n",
      "(3, '2020')          : 9\n",
      "(3, '2021')          : 22\n",
      "(3, 'Dec')           : 14\n",
      "(3, 'Feb')           : 44\n",
      "(3, 'File')          : 181\n",
      "(3, 'Jan')           : 3414\n",
      "(3, 'Mar')           : 1\n",
      "(3, 'Nov')           : 239\n",
      "(3, 'Oct')           : 6\n",
      "(3, 'Sep')           : 1\n",
      "(3, 'junipe')        : 1\n",
      "(3, 'level')         : 11\n",
      "(3, 'oscap:')        : 198\n",
      "(4, 'Jan')           : 1\n",
      "(4, 'Nov')           : 9\n",
      "(5, 'Feb')           : 1\n",
      "(5, 'File')          : 641\n",
      "(5, 'Jan')           : 14\n",
      "(5, 'NTFS')          : 25\n",
      "(5, 'Nov')           : 1\n",
      "(5, 'Trojaned')      : 15\n",
      "(5, 'level')         : 65\n",
      "(5, 'oscap:')        : 168\n",
      "(5, 'ossec:')        : 1289\n",
      "(6, 'Feb')           : 4\n",
      "(6, 'Jan')           : 3\n",
      "(6, 'Mar')           : 1\n"
     ]
    }
   ],
   "source": [
    "for key in sorted(first_word_cnt.keys()):\n",
    "    print(f\"{str(key):20} :\", first_word_cnt[key])"
   ]
  },
  {
   "cell_type": "markdown",
   "id": "92d4fd40-42a4-4eb7-a36f-ca1c1a231e25",
   "metadata": {},
   "source": [
    "### 날짜 제거?\n",
    "\n",
    "만약에 날짜 정보를 제거하면 첫 단어가 어떻게 될지?"
   ]
  },
  {
   "cell_type": "code",
   "execution_count": 191,
   "id": "322105a8-bfac-4931-91c0-8a94633f45e7",
   "metadata": {},
   "outputs": [],
   "source": [
    "def remove_pattern(pattern, full_log):\n",
    "    for s in re.finditer(pattern, full_log):\n",
    "        a, b = s.span()\n",
    "        full_log = (full_log[:a] + full_log[b:]).strip()\n",
    "    return full_log"
   ]
  },
  {
   "cell_type": "code",
   "execution_count": 216,
   "id": "88427532-2b68-4b14-9a90-ac9902f96af7",
   "metadata": {},
   "outputs": [],
   "source": [
    "def remove_date(full_log):\n",
    "    t = first_word(full_log)\n",
    "    if len(t) == 4 and t.isdigit() and t[:2] in (\"19\", \"20\", \"21\"):\n",
    "        full_log = full_log[5:].strip()\n",
    "\n",
    "    t = first_word(full_log)\n",
    "    if len(t) == 3 and t in seasons:\n",
    "        full_log = full_log[4:].strip()\n",
    "\n",
    "        t = first_word(full_log)\n",
    "        if t.isdigit():\n",
    "            full_log = full_log[len(t) + 1 :].strip()\n",
    "\n",
    "    # 00:00:00 형식의 시간 이면?\n",
    "    if re.match(r\"\\d{2}:\\d{2}:\\d{2}\", full_log):\n",
    "        full_log = full_log[9:].strip()\n",
    "\n",
    "    if full_log.startswith(\"localhost\"):\n",
    "        full_log = full_log[10:].strip()\n",
    "\n",
    "    # sshd[pid] 에서 pid 제거\n",
    "    # t = first_word(full_log)\n",
    "    # if re.match(r\"[\\w\\d]+\\[\\d+\\]\", t):\n",
    "    #    u = first_word(t, deli=\"[\")\n",
    "    #    full_log = (u + \" \" + full_log[len(t) + 1 :]).strip()\n",
    "\n",
    "    # @timestamp: \"~~~~Z\"\n",
    "    full_log = remove_pattern(r'\"@timestamp\"\\s?:\\s?\"\\d{4}-\\d{2}-\\d{2}T\\d{2}:\\d{2}:\\d{2}Z?\",?', full_log)\n",
    "    # \"pid\": \"4567\"\n",
    "    full_log = remove_pattern(r'\"pid\"\\s?:\\s?\\d+,?', full_log)\n",
    "    # [pid]\n",
    "    full_log = remove_pattern(r\"\\[\\d+\\]\", full_log)\n",
    "\n",
    "    full_log = full_log.replace(\"\\n\", \" \")\n",
    "    full_log = full_log.replace(\"\\r\", \" \")\n",
    "    full_log = re.sub(r\"\\s+\", \" \", full_log)\n",
    "\n",
    "    return full_log"
   ]
  },
  {
   "cell_type": "code",
   "execution_count": 193,
   "id": "41590f71-3b5f-4f0b-9944-a9b136fdbb03",
   "metadata": {},
   "outputs": [
    {
     "name": "stdout",
     "output_type": "stream",
     "text": [
      "100%|████████████████████████████████████████████████████| 472972/472972 [00:35<00:00, 13372.59it/s]\n"
     ]
    }
   ],
   "source": [
    "first_words = set()\n",
    "for row, (id, level, full_log) in tqdm(train.iterrows(), total=len(train), ncols=100, file=sys.stdout):\n",
    "    full_log = remove_date(full_log)\n",
    "    t = first_word(full_log)\n",
    "    first_words.add(t)\n",
    "    # break"
   ]
  },
  {
   "cell_type": "code",
   "execution_count": 194,
   "id": "06df86f7-6d44-4bb1-8432-4a5ecee61c4d",
   "metadata": {},
   "outputs": [
    {
     "data": {
      "text/plain": [
       "{'--MARK--:',\n",
       " 'E:',\n",
       " 'File',\n",
       " 'NTFS',\n",
       " 'OpenSCAP',\n",
       " 'System',\n",
       " 'The',\n",
       " 'Trojaned',\n",
       " 'WinEvtLog:',\n",
       " 'Windows',\n",
       " 'auditd:',\n",
       " 'augenrules:',\n",
       " 'bluetoothd:',\n",
       " 'dbus-daemon:',\n",
       " 'dbus:',\n",
       " 'elasticsearch:',\n",
       " 'error:',\n",
       " 'esild-ml-start.sh:',\n",
       " 'gnome-session:',\n",
       " 'journal:',\n",
       " 'junipe',\n",
       " 'kdumpctl:',\n",
       " 'kernel:',\n",
       " 'kibana:',\n",
       " 'level',\n",
       " 'logstash:',\n",
       " 'm2datateksolaris',\n",
       " 'mcelog:',\n",
       " 'oscap:',\n",
       " 'ossec:',\n",
       " 'polkitd:',\n",
       " 'postfix/master:',\n",
       " 'pulseaudio:',\n",
       " 'rc.local:',\n",
       " 'sshd:',\n",
       " 'su:',\n",
       " 'sudo:',\n",
       " 'suricata:',\n",
       " 'sv260',\n",
       " 'systemd:',\n",
       " 'type=AVC',\n",
       " 'type=SYSCALL',\n",
       " 'type=USER_AVC',\n",
       " 'unix_chkpwd:',\n",
       " 'useradd:',\n",
       " 'yum:'}"
      ]
     },
     "execution_count": 194,
     "metadata": {},
     "output_type": "execute_result"
    }
   ],
   "source": [
    "first_words"
   ]
  },
  {
   "cell_type": "code",
   "execution_count": 195,
   "id": "8ccb603d-1dce-40da-918a-a156b7e0d2e7",
   "metadata": {},
   "outputs": [
    {
     "name": "stdout",
     "output_type": "stream",
     "text": [
      "100%|████████████████████████████████████████████████████| 472972/472972 [00:35<00:00, 13260.90it/s]\n"
     ]
    }
   ],
   "source": [
    "first_word_cnt = defaultdict(int)\n",
    "for row, (id, level, full_log) in tqdm(train.iterrows(), total=len(train), ncols=100, file=sys.stdout):\n",
    "    full_log = remove_date(full_log)\n",
    "    t = first_word(full_log)\n",
    "    first_word_cnt[(level, t)] += 1\n",
    "    # break"
   ]
  },
  {
   "cell_type": "code",
   "execution_count": 196,
   "id": "d42b4853-31da-4c1d-87f7-3be4e8b5a009",
   "metadata": {},
   "outputs": [
    {
     "name": "stdout",
     "output_type": "stream",
     "text": [
      "(0, '--MARK--:')     : 12\n",
      "(0, 'E:')            : 297\n",
      "(0, 'OpenSCAP')      : 3\n",
      "(0, 'auditd:')       : 510\n",
      "(0, 'augenrules:')   : 8\n",
      "(0, 'bluetoothd:')   : 2\n",
      "(0, 'dbus-daemon:')  : 1\n",
      "(0, 'dbus:')         : 1\n",
      "(0, 'elasticsearch:') : 7\n",
      "(0, 'error:')        : 459\n",
      "(0, 'esild-ml-start.sh:') : 4383\n",
      "(0, 'gnome-session:') : 1\n",
      "(0, 'journal:')      : 92\n",
      "(0, 'junipe')        : 4\n",
      "(0, 'kdumpctl:')     : 1\n",
      "(0, 'kernel:')       : 146\n",
      "(0, 'kibana:')       : 170219\n",
      "(0, 'level')         : 1519\n",
      "(0, 'logstash:')     : 138436\n",
      "(0, 'm2datateksolaris') : 4\n",
      "(0, 'mcelog:')       : 2\n",
      "(0, 'polkitd:')      : 2\n",
      "(0, 'pulseaudio:')   : 1\n",
      "(0, 'rc.local:')     : 2\n",
      "(0, 'sshd:')         : 3\n",
      "(0, 'suricata:')     : 17948\n",
      "(0, 'sv260')         : 2\n",
      "(1, 'System')        : 820\n",
      "(1, 'Windows')       : 13\n",
      "(1, 'kernel:')       : 22\n",
      "(1, 'level')         : 736\n",
      "(1, 'ossec:')        : 29\n",
      "(1, 'postfix/master:') : 3\n",
      "(1, 'sshd:')         : 210\n",
      "(1, 'su:')           : 2\n",
      "(1, 'sudo:')         : 13812\n",
      "(1, 'sv260')         : 2\n",
      "(1, 'type=AVC')      : 369\n",
      "(1, 'type=SYSCALL')  : 116496\n",
      "(1, 'type=USER_AVC') : 3\n",
      "(2, 'The')           : 11\n",
      "(2, 'sudo:')         : 1\n",
      "(3, 'File')          : 181\n",
      "(3, 'WinEvtLog:')    : 31\n",
      "(3, 'junipe')        : 1\n",
      "(3, 'level')         : 11\n",
      "(3, 'oscap:')        : 198\n",
      "(3, 'sshd:')         : 1156\n",
      "(3, 'su:')           : 1\n",
      "(3, 'suricata:')     : 1\n",
      "(3, 'sv260')         : 229\n",
      "(3, 'systemd:')      : 2210\n",
      "(3, 'unix_chkpwd:')  : 122\n",
      "(4, 'sshd:')         : 5\n",
      "(4, 'sv260')         : 5\n",
      "(5, 'File')          : 641\n",
      "(5, 'NTFS')          : 25\n",
      "(5, 'Trojaned')      : 15\n",
      "(5, 'level')         : 65\n",
      "(5, 'oscap:')        : 168\n",
      "(5, 'ossec:')        : 1289\n",
      "(5, 'yum:')          : 16\n",
      "(6, 'kernel:')       : 5\n",
      "(6, 'sshd:')         : 2\n",
      "(6, 'useradd:')      : 1\n"
     ]
    }
   ],
   "source": [
    "for key in sorted(first_word_cnt.keys()):\n",
    "    print(f\"{str(key):20} :\", first_word_cnt[key])"
   ]
  },
  {
   "cell_type": "markdown",
   "id": "35d4ddee-277d-48a3-8b91-8cde8087f1f9",
   "metadata": {},
   "source": [
    "\"E:\"는 아마도 ERROR 라는 뜻인듯?\n",
    "\n",
    "logstach, kibana 관련 오류는 수는 많은데 전부 0임.\n",
    "\n",
    "sshd가 가장 다양하게 갖고있고, --> 레벨별로 메세지 정리해서 확인해보기\n",
    "\n",
    "System, Windows 같은거는 1정도를 갖는듯?\n",
    "\n",
    "되도록 학습으로 처리해달라고 한 이유는, kibana, logstash라도 1 이상의 상활이 혹시 발생할지 모르기 때문이 아닐지?\n",
    "그러면 최종 결과에 weight를 주는 방법으로?"
   ]
  },
  {
   "cell_type": "code",
   "execution_count": 204,
   "id": "8741ef6b-1287-4e3d-b3dc-638fee0b4af8",
   "metadata": {},
   "outputs": [],
   "source": [
    "i = 0"
   ]
  },
  {
   "cell_type": "code",
   "execution_count": 218,
   "id": "15e65cce-7c26-4976-bfd1-f241fa4d181c",
   "metadata": {},
   "outputs": [
    {
     "name": "stdout",
     "output_type": "stream",
     "text": [
      "1 type=SYSCALL msg=audit(1611889244.855:247124): arch=c000003e syscall=2 success=yes exit=3 a0=7f1c14d535a4 a1=80000 a2=1 a3=7f1c14f594f8 items=1 ppid=100038 pid=100039 auid=4294967295 uid=0 gid=980 euid=0 suid=0 fsuid=0 egid=980 sgid=980 fsgid=980 tty=(none) ses=4294967295 comm=\"ps\" exe=\"/usr/bin/ps\" subj=system_u:system_r:unconfined_service_t:s0 key=\"audit-wazuh-r\" type=CWD msg=audit(1611889244.855:247124): cwd=\"/\" type=PATH msg=audit(1611889244.855:247124): item=0 name=\"/etc/ld.so.cache\" inode=35395307 dev=fd:00 mode=0100644 ouid=0 ogid=0 rdev=00:00 obj=unconfined_u:object_r:ld_so_cache_t:s0 objtype=NORMAL cap_fp=0000000000000000 cap_fi=0000000000000000 cap_fe=0 cap_fver=0 type=PROCTITLE msg=audit(1611889244.855:247124): proctitle=2F62696E2F7073002D700032353336\n"
     ]
    }
   ],
   "source": [
    "print(train.level[i], remove_date(train.full_log[i]))\n",
    "i += 1"
   ]
  },
  {
   "cell_type": "code",
   "execution_count": null,
   "id": "d0fc5fff-ba63-43b4-a319-df03d6c161b6",
   "metadata": {},
   "outputs": [],
   "source": []
  }
 ],
 "metadata": {
  "kernelspec": {
   "display_name": "torch",
   "language": "python",
   "name": "torch"
  },
  "language_info": {
   "codemirror_mode": {
    "name": "ipython",
    "version": 3
   },
   "file_extension": ".py",
   "mimetype": "text/x-python",
   "name": "python",
   "nbconvert_exporter": "python",
   "pygments_lexer": "ipython3",
   "version": "3.7.9"
  }
 },
 "nbformat": 4,
 "nbformat_minor": 5
}
