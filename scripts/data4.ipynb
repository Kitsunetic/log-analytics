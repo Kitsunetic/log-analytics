{
 "cells": [
  {
   "cell_type": "code",
   "execution_count": 1,
   "id": "c0000503-b3bd-49bc-aca1-0fb2afa36254",
   "metadata": {},
   "outputs": [
    {
     "name": "stdout",
     "output_type": "stream",
     "text": [
      "/home/shim/cev/dl/log-analytics\n"
     ]
    }
   ],
   "source": [
    "%load_ext lab_black\n",
    "%cd .."
   ]
  },
  {
   "cell_type": "code",
   "execution_count": 2,
   "id": "6ac62b27-0426-4129-9006-95e5a11d5ccd",
   "metadata": {
    "tags": []
   },
   "outputs": [],
   "source": [
    "import argparse\n",
    "import math\n",
    "import multiprocessing\n",
    "import sys\n",
    "from datetime import datetime\n",
    "from pathlib import Path\n",
    "from pprint import pformat\n",
    "\n",
    "import numpy as np\n",
    "import pandas as pd\n",
    "import torch\n",
    "import torch.nn as nn\n",
    "import torch.nn.functional as F\n",
    "import torch_optimizer\n",
    "import yaml\n",
    "from easydict import EasyDict\n",
    "from pytorch_transformers import (\n",
    "    BertForSequenceClassification,\n",
    "    BertTokenizer,\n",
    "    DistilBertForSequenceClassification,\n",
    "    DistilBertTokenizer,\n",
    "    RobertaForSequenceClassification,\n",
    "    RobertaTokenizer,\n",
    ")\n",
    "from sklearn.model_selection import StratifiedKFold\n",
    "from torch.optim import Adam, AdamW\n",
    "from torch.optim.lr_scheduler import ReduceLROnPlateau\n",
    "from torch.utils.data import DataLoader, Dataset\n",
    "from tqdm import tqdm\n",
    "from transformers import (\n",
    "    AlbertForSequenceClassification,\n",
    "    AlbertTokenizer,\n",
    "    DebertaForSequenceClassification,\n",
    "    DebertaTokenizer,\n",
    "    SqueezeBertTokenizer,\n",
    "    SqueezeBertForSequenceClassification,\n",
    "    XLNetTokenizer,\n",
    "    XLNetForSequenceClassification,\n",
    ")\n",
    "\n",
    "from datasets import load_test_data, load_train_data, load_train_total_data\n",
    "from utils import SAM, AverageMeter, CustomLogger, FocalLoss, seed_everything\n",
    "\n",
    "from main import MyTrainer\n",
    "from collections import defaultdict\n",
    "import matplotlib.pyplot as plt\n",
    "import random\n",
    "from sklearn.metrics import f1_score, classification_report"
   ]
  },
  {
   "cell_type": "code",
   "execution_count": 3,
   "id": "2180bbb2-4445-41a2-a3fb-56150cd6a7c6",
   "metadata": {},
   "outputs": [],
   "source": [
    "with open(\"config/distilbert-base-uncased-ver5-arcface_focal.yaml\", \"r\") as f:\n",
    "    C = EasyDict(yaml.load(f, yaml.FullLoader))\n",
    "    C.result_dir = Path(C.result_dir)\n",
    "    C.dataset.dir = Path(C.dataset.dir)\n",
    "    seed_everything(C.seed, deterministic=False)"
   ]
  },
  {
   "cell_type": "code",
   "execution_count": 4,
   "id": "52065188-3c7a-4783-b91f-e6f0a5fdc708",
   "metadata": {},
   "outputs": [
    {
     "data": {
      "text/plain": [
       "{'model': {'name': 'distilbert-base-uncased'},\n",
       " 'comment': None,\n",
       " 'result_dir': PosixPath('results/distilbert-base-uncased'),\n",
       " 'debug': False,\n",
       " 'seed': 20210425,\n",
       " 'train': {'SAM': False,\n",
       "  'folds': [4],\n",
       "  'checkpoints': [None],\n",
       "  'loss': {'name': 'arcface',\n",
       "   'params': {'gamma': 2.0, 's': 45.0, 'm': 0.1, 'crit': 'focal'}},\n",
       "  'optimizer': {'name': 'AdamW'},\n",
       "  'finetune': {'do': True, 'step1_epochs': 3, 'step2_epochs': 5},\n",
       "  'max_epochs': 12,\n",
       "  'lr': 0.0001,\n",
       "  'scheduler': {'name': 'ReduceLROnPlateau',\n",
       "   'params': {'factor': 0.5, 'patience': 3, 'verbose': True}}},\n",
       " 'dataset': {'dir': PosixPath('data/ori'),\n",
       "  'ver': 5,\n",
       "  'batch_size': 35,\n",
       "  'num_workers': 8}}"
      ]
     },
     "execution_count": 4,
     "metadata": {},
     "output_type": "execute_result"
    }
   ],
   "source": [
    "C"
   ]
  },
  {
   "cell_type": "code",
   "execution_count": 5,
   "id": "fabde0b1-b949-4a4d-bbe5-15706b9e0306",
   "metadata": {},
   "outputs": [],
   "source": [
    "trainer = MyTrainer(C, 1)"
   ]
  },
  {
   "cell_type": "code",
   "execution_count": 6,
   "id": "57442ce7-47f5-40e9-8407-7423574297f2",
   "metadata": {},
   "outputs": [],
   "source": [
    "tds = trainer.tdl.dataset"
   ]
  },
  {
   "cell_type": "code",
   "execution_count": 7,
   "id": "4161d50b-18be-4a16-9072-3518823f4365",
   "metadata": {},
   "outputs": [
    {
     "data": {
      "text/plain": [
       "datasets.dataset_ver5.MyDatasetVer5"
      ]
     },
     "execution_count": 7,
     "metadata": {},
     "output_type": "execute_result"
    }
   ],
   "source": [
    "type(tds)"
   ]
  },
  {
   "cell_type": "code",
   "execution_count": 8,
   "id": "1561f4a1-4706-4503-ae5b-a1da944a4d77",
   "metadata": {},
   "outputs": [
    {
     "data": {
      "text/plain": [
       "(0,\n",
       " tensor([  101,  3204,  2154,  2051,  2334, 15006,  2102, 11382, 19445,  1024,\n",
       "          1063,  1000,  2828,  1000,  1024,  1000,  7561,  1000,  1010,  1000,\n",
       "          1030,  2335, 15464,  2361,  1000,  1024,  1000,  3058,  1056,  2051,\n",
       "          1062,  1000,  1010,  1000, 22073,  1000,  1024,  1031,  1000,  5432,\n",
       "          1000,  1010,  1000, 26319,  1011,  3074,  1000,  1033,  1010,  1000,\n",
       "         14255,  2094,  1000,  1024,  4185, 27814,  1010,  1000,  2504,  1000,\n",
       "          1024,  1000,  7561,  1000,  1010,  1000,  7561,  1000,  1024,  1063,\n",
       "          1000,  4471,  1000,  1024,  1000,  2053,  2542,  7264,  1000,  1010,\n",
       "          1000,  2171,  1000,  1024,  1000,  7561,  1000,  1010,  1000,  9991,\n",
       "          1000,  1024,  1000,  7561,  1024,  2053,  2542,  7264,  2012,  4604,\n",
       "          2890,  4160, 24415,  8663,  2638,  7542,  1006,  1013,  2149,  2099,\n",
       "          1013,  3745,  1013, 11382, 19445,  1013, 13045,  1035, 14184,  1013,\n",
       "         21274, 17310, 11140,  1013,  5034,  2278,  1013,  5622,  2497,  1013,\n",
       "          3665,  1012,  1046,  2015,  1024, 21035,  1024,  2321,  1007,  2012,\n",
       "          2279,  1006,  1013,  2149,  2099,  1013,  3745,  1013, 11382, 19445,\n",
       "          1013, 13045,  1035, 14184,  1013, 21274, 17310, 11140,  1013,  5034,\n",
       "          2278,  1013,  5622,  2497,  1013,  4434,  1035,  4770,  1012,  1046,\n",
       "          2015,  1024, 19936,  1024,  1021,  1007,  2012,  2832,  1012,  1035,\n",
       "         16356,  9289, 20850,  8684,  1006,  4722,  1013,  2832,  1013,  2279,\n",
       "          1035, 16356,  1012,  1046,  2015,  1024,  6079,  1024,  2340,  1007,\n",
       "          1000,  1065,  1010,  1000,  4471,  1000,  1024,  1000,  2053,  2542,\n",
       "          7264,  1000,  1065,   102,     0,     0,     0,     0,     0,     0,\n",
       "             0,     0,     0,     0,     0,     0,     0,     0,     0,     0,\n",
       "             0,     0,     0,     0,     0,     0,     0,     0,     0,     0,\n",
       "             0,     0,     0,     0,     0,     0,     0,     0,     0,     0,\n",
       "             0,     0,     0,     0,     0,     0,     0,     0,     0,     0,\n",
       "             0,     0,     0,     0,     0,     0,     0,     0,     0,     0,\n",
       "             0,     0,     0,     0,     0,     0,     0,     0,     0,     0,\n",
       "             0,     0,     0,     0,     0,     0,     0,     0,     0,     0,\n",
       "             0,     0,     0,     0,     0,     0,     0,     0,     0,     0,\n",
       "             0,     0,     0,     0,     0,     0,     0,     0,     0,     0,\n",
       "             0,     0,     0,     0,     0,     0,     0,     0,     0,     0,\n",
       "             0,     0,     0,     0,     0,     0,     0,     0,     0,     0,\n",
       "             0,     0,     0,     0,     0,     0,     0,     0,     0,     0,\n",
       "             0,     0,     0,     0,     0,     0,     0,     0,     0,     0,\n",
       "             0,     0,     0,     0,     0,     0,     0,     0,     0,     0,\n",
       "             0,     0,     0,     0,     0,     0,     0,     0,     0,     0,\n",
       "             0,     0,     0,     0,     0,     0,     0,     0,     0,     0,\n",
       "             0,     0,     0,     0,     0,     0,     0,     0,     0,     0,\n",
       "             0,     0,     0,     0,     0,     0,     0,     0,     0,     0,\n",
       "             0,     0,     0,     0,     0,     0,     0,     0,     0,     0,\n",
       "             0,     0,     0,     0,     0,     0,     0,     0,     0,     0,\n",
       "             0,     0,     0,     0,     0,     0,     0,     0,     0,     0,\n",
       "             0,     0,     0,     0,     0,     0,     0,     0,     0,     0,\n",
       "             0,     0,     0,     0,     0,     0,     0,     0,     0,     0,\n",
       "             0,     0,     0,     0,     0,     0,     0,     0,     0,     0,\n",
       "             0,     0,     0,     0,     0,     0,     0,     0,     0,     0,\n",
       "             0,     0,     0,     0,     0,     0,     0,     0,     0,     0,\n",
       "             0,     0,     0,     0,     0,     0,     0,     0,     0,     0,\n",
       "             0,     0,     0,     0,     0,     0,     0,     0,     0,     0,\n",
       "             0,     0,     0,     0,     0,     0,     0,     0,     0,     0,\n",
       "             0,     0]),\n",
       " tensor(0),\n",
       " ' month day time localhost kibana: {\"type\":\"error\",\"@timestamp\":\" date T time Z\",\"tags\":[\"warning\",\"stats-collection\"],\"pid\":6458,\"level\":\"error\",\"error\":{\"message\":\"No Living connections\",\"name\":\"Error\",\"stack\":\"Error: No Living connections at sendReqWithConnection (/usr/share/kibana/node_modules/elasticsearch/src/lib/transport.js:226:15) at next (/usr/share/kibana/node_modules/elasticsearch/src/lib/connection_pool.js:214:7) at process._tickCallback (internal/process/next_tick.js:61:11)\"},\"message\":\"No Living connections\"}')"
      ]
     },
     "execution_count": 8,
     "metadata": {},
     "output_type": "execute_result"
    }
   ],
   "source": [
    "tds[0]"
   ]
  },
  {
   "cell_type": "code",
   "execution_count": 10,
   "id": "c128304f-84fc-40e9-8c37-a0e2fb8e713b",
   "metadata": {},
   "outputs": [
    {
     "data": {
      "text/plain": [
       "[' month day time localhost kibana : { \" type \" : \" error \", \" @ timestamp \" : \" date t time z \", \" tags \" : [ \" warning \", \" stats - collection \" ], \" pid \" : 6458, \" level \" : \" error \", \" error \" : { \" message \" : \" no living connections \", \" name \" : \" error \", \" stack \" : \" error : no living connections at sendreqwithconnection ( / usr / share / kibana / node _ modules / elasticsearch / src / lib / transport. js : 226 : 15 ) at next ( / usr / share / kibana / node _ modules / elasticsearch / src / lib / connection _ pool. js : 214 : 7 ) at process. _ tickcallback ( internal / process / next _ tick. js : 61 : 11 ) \" }, \" message \" : \" no living connections \" } ',\n",
       " ' [PAD] [PAD] [PAD] [PAD] [PAD] [PAD] [PAD] [PAD] [PAD] [PAD] [PAD] [PAD] [PAD] [PAD] [PAD] [PAD] [PAD] [PAD] [PAD] [PAD] [PAD] [PAD] [PAD] [PAD] [PAD] [PAD] [PAD] [PAD] [PAD] [PAD] [PAD] [PAD] [PAD] [PAD] [PAD] [PAD] [PAD] [PAD] [PAD] [PAD] [PAD] [PAD] [PAD] [PAD] [PAD] [PAD] [PAD] [PAD] [PAD] [PAD] [PAD] [PAD] [PAD] [PAD] [PAD] [PAD] [PAD] [PAD] [PAD] [PAD] [PAD] [PAD] [PAD] [PAD] [PAD] [PAD] [PAD] [PAD] [PAD] [PAD] [PAD] [PAD] [PAD] [PAD] [PAD] [PAD] [PAD] [PAD] [PAD] [PAD] [PAD] [PAD] [PAD] [PAD] [PAD] [PAD] [PAD] [PAD] [PAD] [PAD] [PAD] [PAD] [PAD] [PAD] [PAD] [PAD] [PAD] [PAD] [PAD] [PAD] [PAD] [PAD] [PAD] [PAD] [PAD] [PAD] [PAD] [PAD] [PAD] [PAD] [PAD] [PAD] [PAD] [PAD] [PAD] [PAD] [PAD] [PAD] [PAD] [PAD] [PAD] [PAD] [PAD] [PAD] [PAD] [PAD] [PAD] [PAD] [PAD] [PAD] [PAD] [PAD] [PAD] [PAD] [PAD] [PAD] [PAD] [PAD] [PAD] [PAD] [PAD] [PAD] [PAD] [PAD] [PAD] [PAD] [PAD] [PAD] [PAD] [PAD] [PAD] [PAD] [PAD] [PAD] [PAD] [PAD] [PAD] [PAD] [PAD] [PAD] [PAD] [PAD] [PAD] [PAD] [PAD] [PAD] [PAD] [PAD] [PAD] [PAD] [PAD] [PAD] [PAD] [PAD] [PAD] [PAD] [PAD] [PAD] [PAD] [PAD] [PAD] [PAD] [PAD] [PAD] [PAD] [PAD] [PAD] [PAD] [PAD] [PAD] [PAD] [PAD] [PAD] [PAD] [PAD] [PAD] [PAD] [PAD] [PAD] [PAD] [PAD] [PAD] [PAD] [PAD] [PAD] [PAD] [PAD] [PAD] [PAD] [PAD] [PAD] [PAD] [PAD] [PAD] [PAD] [PAD] [PAD] [PAD] [PAD] [PAD] [PAD] [PAD] [PAD] [PAD] [PAD] [PAD] [PAD] [PAD] [PAD] [PAD] [PAD] [PAD] [PAD] [PAD] [PAD] [PAD] [PAD] [PAD] [PAD] [PAD] [PAD] [PAD] [PAD] [PAD] [PAD] [PAD] [PAD] [PAD] [PAD] [PAD] [PAD] [PAD] [PAD] [PAD] [PAD] [PAD] [PAD] [PAD] [PAD] [PAD] [PAD] [PAD] [PAD] [PAD] [PAD] [PAD] [PAD] [PAD] [PAD] [PAD] [PAD] [PAD] [PAD] [PAD] [PAD] [PAD] [PAD] [PAD] [PAD] [PAD] [PAD] [PAD] [PAD] [PAD] [PAD] [PAD] [PAD] [PAD] [PAD] [PAD] [PAD] [PAD] [PAD] [PAD] [PAD] [PAD] [PAD] [PAD]']"
      ]
     },
     "execution_count": 10,
     "metadata": {},
     "output_type": "execute_result"
    }
   ],
   "source": [
    "trainer.tokenizer.decode(tds[0][1].tolist())"
   ]
  },
  {
   "cell_type": "code",
   "execution_count": null,
   "id": "77271254-544d-4973-8b16-c4d78f91bc07",
   "metadata": {},
   "outputs": [],
   "source": []
  }
 ],
 "metadata": {
  "kernelspec": {
   "display_name": "torch",
   "language": "python",
   "name": "torch"
  },
  "language_info": {
   "codemirror_mode": {
    "name": "ipython",
    "version": 3
   },
   "file_extension": ".py",
   "mimetype": "text/x-python",
   "name": "python",
   "nbconvert_exporter": "python",
   "pygments_lexer": "ipython3",
   "version": "3.7.10"
  }
 },
 "nbformat": 4,
 "nbformat_minor": 5
}
