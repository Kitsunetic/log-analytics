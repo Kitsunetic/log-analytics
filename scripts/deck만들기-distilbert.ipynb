{
 "cells": [
  {
   "cell_type": "code",
   "execution_count": 1,
   "metadata": {},
   "outputs": [
    {
     "name": "stdout",
     "output_type": "stream",
     "text": [
      "/data3/SIG/log-analytics\n"
     ]
    }
   ],
   "source": [
    "%load_ext lab_black\n",
    "%cd .."
   ]
  },
  {
   "cell_type": "code",
   "execution_count": 28,
   "metadata": {
    "tags": []
   },
   "outputs": [],
   "source": [
    "import argparse\n",
    "import math\n",
    "import multiprocessing\n",
    "import sys\n",
    "from datetime import datetime\n",
    "from pathlib import Path\n",
    "from pprint import pformat\n",
    "\n",
    "import numpy as np\n",
    "import pandas as pd\n",
    "import torch\n",
    "import torch.nn as nn\n",
    "import torch.nn.functional as F\n",
    "import torch_optimizer\n",
    "import yaml\n",
    "from easydict import EasyDict\n",
    "from pytorch_transformers import (\n",
    "    BertForSequenceClassification,\n",
    "    BertTokenizer,\n",
    "    DistilBertForSequenceClassification,\n",
    "    DistilBertTokenizer,\n",
    "    RobertaForSequenceClassification,\n",
    "    RobertaTokenizer,\n",
    ")\n",
    "from sklearn.model_selection import StratifiedKFold\n",
    "from torch.optim import Adam, AdamW\n",
    "from torch.optim.lr_scheduler import ReduceLROnPlateau\n",
    "from torch.utils.data import DataLoader, Dataset\n",
    "from tqdm import tqdm\n",
    "from transformers import (\n",
    "    AlbertForSequenceClassification,\n",
    "    AlbertTokenizer,\n",
    "    DebertaForSequenceClassification,\n",
    "    DebertaTokenizer,\n",
    "    SqueezeBertTokenizer,\n",
    "    SqueezeBertForSequenceClassification,\n",
    "    XLNetTokenizer,\n",
    "    XLNetForSequenceClassification,\n",
    ")\n",
    "\n",
    "from datasets import load_test_data, load_train_data, MyDataset, load_train_total_data\n",
    "from utils import SAM, AverageMeter, CustomLogger, FocalLoss, seed_everything\n",
    "\n",
    "from main import MyTrainer\n",
    "from collections import defaultdict\n",
    "import matplotlib.pyplot as plt\n",
    "import random\n",
    "from sklearn.metrics import f1_score, classification_report"
   ]
  },
  {
   "cell_type": "code",
   "execution_count": 3,
   "metadata": {},
   "outputs": [],
   "source": [
    "import os\n",
    "\n",
    "os.environ[\"CUDA_VISIBLE_DEVICES\"] = \"3\""
   ]
  },
  {
   "cell_type": "code",
   "execution_count": 4,
   "metadata": {},
   "outputs": [],
   "source": [
    "postfix = \"distilbert-base-uncased-focal-AdamW-lr1e-05_4\"\n",
    "fold = 4"
   ]
  },
  {
   "cell_type": "code",
   "execution_count": 5,
   "metadata": {},
   "outputs": [],
   "source": [
    "with open(\"config/distilbert-base-uncased.yaml\", \"r\") as f:\n",
    "    C = EasyDict(yaml.load(f, yaml.FullLoader))\n",
    "    C.result_dir = Path(C.result_dir)\n",
    "    C.dataset.dir = Path(C.dataset.dir)\n",
    "    seed_everything(C.seed, deterministic=False)"
   ]
  },
  {
   "cell_type": "code",
   "execution_count": 6,
   "metadata": {},
   "outputs": [
    {
     "data": {
      "text/plain": [
       "{'model': {'name': 'distilbert-base-uncased'},\n",
       " 'comment': None,\n",
       " 'result_dir': PosixPath('results/distilbert-base-uncased'),\n",
       " 'debug': False,\n",
       " 'seed': 20210425,\n",
       " 'train': {'SAM': False,\n",
       "  'folds': [2, 3],\n",
       "  'checkpoints': ['results/distilbert-base-uncased/distilbert-base-uncased-focal-AdamW-lr1e-05_2.pth',\n",
       "   'results/distilbert-base-uncased/distilbert-base-uncased-focal-AdamW-lr1e-05_3.pth'],\n",
       "  'loss': {'name': 'focal', 'gamma': 2},\n",
       "  'optimizer': {'name': 'AdamW'},\n",
       "  'finetune': {'do': True, 'step1_epochs': 2, 'step2_epochs': 4},\n",
       "  'max_epochs': 12,\n",
       "  'lr': 1e-05,\n",
       "  'scheduler': {'name': 'ReduceLROnPlateau',\n",
       "   'params': {'factor': 0.5, 'patience': 3, 'verbose': True}}},\n",
       " 'dataset': {'dir': PosixPath('data/ori'),\n",
       "  'ver': 1,\n",
       "  'batch_size': 35,\n",
       "  'num_workers': 8}}"
      ]
     },
     "execution_count": 6,
     "metadata": {},
     "output_type": "execute_result"
    }
   ],
   "source": [
    "C"
   ]
  },
  {
   "cell_type": "code",
   "execution_count": 7,
   "metadata": {},
   "outputs": [
    {
     "name": "stdout",
     "output_type": "stream",
     "text": [
      "Load pretrained results/distilbert-base-uncased/distilbert-base-uncased-focal-AdamW-lr1e-05_4.pth\n"
     ]
    }
   ],
   "source": [
    "trainer = MyTrainer(C, fold, f\"results/distilbert-base-uncased/{postfix}.pth\")"
   ]
  },
  {
   "cell_type": "code",
   "execution_count": 8,
   "metadata": {},
   "outputs": [
    {
     "data": {
      "text/plain": [
       "<torch.autograd.grad_mode.set_grad_enabled at 0x7f05a06d79b0>"
      ]
     },
     "execution_count": 8,
     "metadata": {},
     "output_type": "execute_result"
    }
   ],
   "source": [
    "model = trainer.model\n",
    "model.eval()\n",
    "torch.set_grad_enabled(False)"
   ]
  },
  {
   "cell_type": "code",
   "execution_count": 9,
   "metadata": {},
   "outputs": [],
   "source": [
    "activation = []\n",
    "\n",
    "\n",
    "def hook(model, input, output):\n",
    "    activation.append(output.detach().cpu())"
   ]
  },
  {
   "cell_type": "code",
   "execution_count": 10,
   "metadata": {},
   "outputs": [
    {
     "data": {
      "text/plain": [
       "<torch.utils.hooks.RemovableHandle at 0x7f05a06ce208>"
      ]
     },
     "execution_count": 10,
     "metadata": {},
     "output_type": "execute_result"
    }
   ],
   "source": [
    "model.pre_classifier.register_forward_hook(hook)"
   ]
  },
  {
   "cell_type": "code",
   "execution_count": 11,
   "metadata": {},
   "outputs": [],
   "source": [
    "tdl, vdl = load_train_data(\n",
    "    C.dataset.dir, C.seed, fold, trainer.tokenizer, 50, C.dataset.num_workers, C.dataset.ver, train_shuffle=False\n",
    ")"
   ]
  },
  {
   "cell_type": "markdown",
   "metadata": {},
   "source": [
    "## 계획\n",
    "\n",
    "train / valid deck을 만들고, valid에 대해 euclidian/cos distance를 통해 구한 결과의 F1-score 차이를 구해본다. 어떤 metric이 좋을지 확인."
   ]
  },
  {
   "cell_type": "markdown",
   "metadata": {},
   "source": [
    "## make train deck"
   ]
  },
  {
   "cell_type": "code",
   "execution_count": 12,
   "metadata": {},
   "outputs": [
    {
     "name": "stdout",
     "output_type": "stream",
     "text": [
      "100%|██████████████████████████████████████████████████████| 378378/378378 [39:31<00:00, 159.58it/s]\n"
     ]
    }
   ],
   "source": [
    "activation = []\n",
    "deck = {\"feat\": [], \"otext\": [], \"tlevel\": [], \"fclevel\": []}\n",
    "with tqdm(total=len(tdl.dataset), ncols=100, file=sys.stdout) as t:\n",
    "    for id, text, tlevel, otext in tdl:\n",
    "        fclevel = model(text.cuda(non_blocking=True))[0].argmax(dim=1).cpu()\n",
    "        deck[\"fclevel\"].append(fclevel)\n",
    "        deck[\"tlevel\"].append(tlevel)\n",
    "        deck[\"otext\"].extend(otext)\n",
    "        t.update(len(id))"
   ]
  },
  {
   "cell_type": "code",
   "execution_count": 13,
   "metadata": {},
   "outputs": [],
   "source": [
    "deck[\"feat\"] = torch.cat(activation)"
   ]
  },
  {
   "cell_type": "code",
   "execution_count": 14,
   "metadata": {},
   "outputs": [],
   "source": [
    "deck[\"tlevel\"] = torch.cat(deck[\"tlevel\"])"
   ]
  },
  {
   "cell_type": "code",
   "execution_count": 15,
   "metadata": {},
   "outputs": [],
   "source": [
    "deck[\"fclevel\"] = torch.cat(deck[\"fclevel\"])"
   ]
  },
  {
   "cell_type": "code",
   "execution_count": 16,
   "metadata": {},
   "outputs": [
    {
     "data": {
      "text/plain": [
       "(torch.Size([378378]), torch.Size([378378]))"
      ]
     },
     "execution_count": 16,
     "metadata": {},
     "output_type": "execute_result"
    }
   ],
   "source": [
    "deck[\"tlevel\"].shape, deck[\"fclevel\"].shape"
   ]
  },
  {
   "cell_type": "code",
   "execution_count": 17,
   "metadata": {},
   "outputs": [
    {
     "data": {
      "text/plain": [
       "torch.Size([378378, 768])"
      ]
     },
     "execution_count": 17,
     "metadata": {},
     "output_type": "execute_result"
    }
   ],
   "source": [
    "deck[\"feat\"].shape"
   ]
  },
  {
   "cell_type": "code",
   "execution_count": 18,
   "metadata": {},
   "outputs": [],
   "source": [
    "np.savez_compressed(\n",
    "    f\"results/distilbert-base-uncased/{postfix}-tdeck.npz\",\n",
    "    feat=deck[\"feat\"].numpy(),\n",
    "    tlevel=deck[\"tlevel\"].numpy(),\n",
    "    fclevel=deck[\"fclevel\"].numpy(),\n",
    "    otext=deck[\"otext\"],\n",
    ")"
   ]
  },
  {
   "cell_type": "markdown",
   "metadata": {},
   "source": [
    "## make valid deck"
   ]
  },
  {
   "cell_type": "code",
   "execution_count": 12,
   "metadata": {},
   "outputs": [
    {
     "name": "stdout",
     "output_type": "stream",
     "text": [
      "100%|████████████████████████████████████████████████████████| 94594/94594 [10:30<00:00, 150.08it/s]\n"
     ]
    }
   ],
   "source": [
    "activation = []\n",
    "deck = {\"feat\": [], \"otext\": [], \"tlevel\": [], \"fclevel\": []}\n",
    "with tqdm(total=len(vdl.dataset), ncols=100, file=sys.stdout) as t:\n",
    "    for id, text, tlevel, otext in vdl:\n",
    "        fclevel = model(text.cuda(non_blocking=True))[0].argmax(dim=1).cpu()\n",
    "        deck[\"fclevel\"].append(fclevel)\n",
    "        deck[\"tlevel\"].append(tlevel)\n",
    "        deck[\"otext\"].extend(otext)\n",
    "        t.update(len(id))"
   ]
  },
  {
   "cell_type": "code",
   "execution_count": 13,
   "metadata": {},
   "outputs": [],
   "source": [
    "deck[\"feat\"] = torch.cat(activation)"
   ]
  },
  {
   "cell_type": "code",
   "execution_count": 14,
   "metadata": {},
   "outputs": [],
   "source": [
    "deck[\"tlevel\"] = torch.cat(deck[\"tlevel\"])"
   ]
  },
  {
   "cell_type": "code",
   "execution_count": 15,
   "metadata": {},
   "outputs": [],
   "source": [
    "deck[\"fclevel\"] = torch.cat(deck[\"fclevel\"])"
   ]
  },
  {
   "cell_type": "code",
   "execution_count": 16,
   "metadata": {},
   "outputs": [
    {
     "data": {
      "text/plain": [
       "(torch.Size([94594]), torch.Size([94594]))"
      ]
     },
     "execution_count": 16,
     "metadata": {},
     "output_type": "execute_result"
    }
   ],
   "source": [
    "deck[\"tlevel\"].shape, deck[\"fclevel\"].shape"
   ]
  },
  {
   "cell_type": "code",
   "execution_count": 17,
   "metadata": {},
   "outputs": [
    {
     "data": {
      "text/plain": [
       "torch.Size([94594, 768])"
      ]
     },
     "execution_count": 17,
     "metadata": {},
     "output_type": "execute_result"
    }
   ],
   "source": [
    "deck[\"feat\"].shape"
   ]
  },
  {
   "cell_type": "code",
   "execution_count": 18,
   "metadata": {},
   "outputs": [],
   "source": [
    "np.savez_compressed(\n",
    "    f\"results/distilbert-base-uncased/{postfix}-vdeck.npz\",\n",
    "    feat=deck[\"feat\"].numpy(),\n",
    "    tlevel=deck[\"tlevel\"].numpy(),\n",
    "    fclevel=deck[\"fclevel\"].numpy(),\n",
    "    otext=deck[\"otext\"],\n",
    ")"
   ]
  },
  {
   "cell_type": "markdown",
   "metadata": {},
   "source": [
    "## valid 데이터에 대해 euclidean distance를 구한다"
   ]
  },
  {
   "cell_type": "code",
   "execution_count": 7,
   "metadata": {},
   "outputs": [],
   "source": [
    "tdeck = np.load(f\"results/distilbert-base-uncased/{postfix}-tdeck.npz\")\n",
    "vdeck = np.load(f\"results/distilbert-base-uncased/{postfix}-vdeck.npz\")"
   ]
  },
  {
   "cell_type": "code",
   "execution_count": 8,
   "metadata": {},
   "outputs": [],
   "source": [
    "tfeat = torch.from_numpy(tdeck[\"feat\"])\n",
    "tlevel = torch.from_numpy(tdeck[\"tlevel\"])\n",
    "vfeat = torch.from_numpy(vdeck[\"feat\"])\n",
    "vlevel = torch.from_numpy(vdeck[\"tlevel\"])"
   ]
  },
  {
   "cell_type": "code",
   "execution_count": 9,
   "metadata": {},
   "outputs": [],
   "source": [
    "tfeat_ = tfeat.cuda()\n",
    "vfeat_ = vfeat.cuda()"
   ]
  },
  {
   "cell_type": "code",
   "execution_count": 30,
   "metadata": {},
   "outputs": [],
   "source": [
    "vfclevel = torch.from_numpy(vdeck[\"fclevel\"])"
   ]
  },
  {
   "cell_type": "code",
   "execution_count": 11,
   "metadata": {},
   "outputs": [
    {
     "name": "stdout",
     "output_type": "stream",
     "text": [
      "100%|████████████████████████████████████████████████████████| 94594/94594 [13:22<00:00, 117.92it/s]\n"
     ]
    }
   ],
   "source": [
    "dists, distis = [], []\n",
    "with tqdm(total=vfeat.size(0), ncols=100, file=sys.stdout) as t:\n",
    "    for v_, l in zip(vfeat_, vlevel):\n",
    "        dist_, disti_ = (tfeat_ - v_[None]).norm(p=None, dim=1).topk(4, largest=False)\n",
    "        dists.append(dist_.cpu())\n",
    "        distis.append(disti_.cpu())\n",
    "        t.update()"
   ]
  },
  {
   "cell_type": "code",
   "execution_count": 15,
   "metadata": {},
   "outputs": [],
   "source": [
    "euc_dists = torch.stack(dists)"
   ]
  },
  {
   "cell_type": "code",
   "execution_count": 18,
   "metadata": {},
   "outputs": [],
   "source": [
    "euc_distis = torch.stack(distis)"
   ]
  },
  {
   "cell_type": "code",
   "execution_count": 26,
   "metadata": {},
   "outputs": [
    {
     "data": {
      "text/plain": [
       "tensor(0.9975)"
      ]
     },
     "execution_count": 26,
     "metadata": {},
     "output_type": "execute_result"
    }
   ],
   "source": [
    "# accuracy\n",
    "(tlevel[euc_distis[:, 0]] == vlevel).sum() / vlevel.size(0)"
   ]
  },
  {
   "cell_type": "code",
   "execution_count": 29,
   "metadata": {},
   "outputs": [
    {
     "data": {
      "text/plain": [
       "0.85166449681792"
      ]
     },
     "execution_count": 29,
     "metadata": {},
     "output_type": "execute_result"
    }
   ],
   "source": [
    "# f1-score with metric learning(nearest only)\n",
    "f1_score(vlevel, tlevel[euc_distis[:, 0]], average=\"macro\", zero_division=1)"
   ]
  },
  {
   "cell_type": "code",
   "execution_count": 46,
   "metadata": {},
   "outputs": [
    {
     "name": "stdout",
     "output_type": "stream",
     "text": [
      "              precision    recall  f1-score   support\n",
      "\n",
      "           0       1.00      1.00      1.00     66813\n",
      "           1       1.00      1.00      1.00     26503\n",
      "           2       1.00      1.00      1.00         3\n",
      "           3       1.00      1.00      1.00       828\n",
      "           4       1.00      1.00      1.00         2\n",
      "           5       0.98      0.96      0.97       444\n",
      "           6       1.00      0.00      0.00         1\n",
      "\n",
      "    accuracy                           1.00     94594\n",
      "   macro avg       1.00      0.85      0.85     94594\n",
      "weighted avg       1.00      1.00      1.00     94594\n",
      "\n"
     ]
    }
   ],
   "source": [
    "print(classification_report(vlevel, tlevel[euc_distis[:, 0]], zero_division=1))"
   ]
  },
  {
   "cell_type": "code",
   "execution_count": 32,
   "metadata": {},
   "outputs": [
    {
     "data": {
      "text/plain": [
       "0.8534070957211375"
      ]
     },
     "execution_count": 32,
     "metadata": {},
     "output_type": "execute_result"
    }
   ],
   "source": [
    "# f1-score with fully connected result\n",
    "f1_score(vlevel, vfclevel, average=\"macro\", zero_division=1)"
   ]
  },
  {
   "cell_type": "code",
   "execution_count": 47,
   "metadata": {},
   "outputs": [
    {
     "name": "stdout",
     "output_type": "stream",
     "text": [
      "              precision    recall  f1-score   support\n",
      "\n",
      "           0       1.00      1.00      1.00     66813\n",
      "           1       1.00      0.99      1.00     26503\n",
      "           2       1.00      1.00      1.00         3\n",
      "           3       1.00      1.00      1.00       828\n",
      "           4       1.00      1.00      1.00         2\n",
      "           5       1.00      0.96      0.98       444\n",
      "           6       1.00      0.00      0.00         1\n",
      "\n",
      "    accuracy                           1.00     94594\n",
      "   macro avg       1.00      0.85      0.85     94594\n",
      "weighted avg       1.00      1.00      1.00     94594\n",
      "\n"
     ]
    }
   ],
   "source": [
    "print(classification_report(vlevel, vfclevel, zero_division=1))"
   ]
  },
  {
   "cell_type": "markdown",
   "metadata": {},
   "source": [
    "## valid 데이터에 대해 cosine distance를 구한다."
   ]
  },
  {
   "cell_type": "code",
   "execution_count": 33,
   "metadata": {},
   "outputs": [],
   "source": [
    "tfeat_star_ = tfeat_.pow(2).sum(dim=1).sqrt_()"
   ]
  },
  {
   "cell_type": "code",
   "execution_count": 48,
   "metadata": {},
   "outputs": [
    {
     "name": "stdout",
     "output_type": "stream",
     "text": [
      "100%|████████████████████████████████████████████████████████| 94594/94594 [14:16<00:00, 110.46it/s]\n"
     ]
    }
   ],
   "source": [
    "dists, distis = [], []\n",
    "with tqdm(total=vfeat.size(0), ncols=100, file=sys.stdout) as t:\n",
    "    for v_, l in zip(vfeat_, vlevel):\n",
    "        vstar_ = v_[None].pow(2).sum(dim=1).sqrt_()\n",
    "        dist_ = (tfeat_ * v_[None]).sum(dim=1) / (tfeat_star_ * vstar_).clamp_(min=1e-8)\n",
    "        dist_, disti_ = dist_.topk(4, largest=True)\n",
    "        dists.append(dist_.cpu())\n",
    "        distis.append(disti_.cpu())\n",
    "        t.update()"
   ]
  },
  {
   "cell_type": "code",
   "execution_count": 51,
   "metadata": {},
   "outputs": [],
   "source": [
    "ang_dists = torch.stack(dists)"
   ]
  },
  {
   "cell_type": "code",
   "execution_count": 52,
   "metadata": {},
   "outputs": [],
   "source": [
    "ang_distis = torch.stack(distis)"
   ]
  },
  {
   "cell_type": "code",
   "execution_count": 53,
   "metadata": {},
   "outputs": [
    {
     "data": {
      "text/plain": [
       "tensor(0.9975)"
      ]
     },
     "execution_count": 53,
     "metadata": {},
     "output_type": "execute_result"
    }
   ],
   "source": [
    "# accuracy\n",
    "(tlevel[ang_distis[:, 0]] == vlevel).sum() / vlevel.size(0)"
   ]
  },
  {
   "cell_type": "code",
   "execution_count": 54,
   "metadata": {},
   "outputs": [
    {
     "data": {
      "text/plain": [
       "0.8516586039454035"
      ]
     },
     "execution_count": 54,
     "metadata": {},
     "output_type": "execute_result"
    }
   ],
   "source": [
    "# f1-score with metric learning(nearest only)\n",
    "f1_score(vlevel, tlevel[ang_distis[:, 0]], average=\"macro\", zero_division=1)"
   ]
  },
  {
   "cell_type": "code",
   "execution_count": 55,
   "metadata": {},
   "outputs": [
    {
     "name": "stdout",
     "output_type": "stream",
     "text": [
      "              precision    recall  f1-score   support\n",
      "\n",
      "           0       1.00      1.00      1.00     66813\n",
      "           1       1.00      1.00      1.00     26503\n",
      "           2       1.00      1.00      1.00         3\n",
      "           3       1.00      1.00      1.00       828\n",
      "           4       1.00      1.00      1.00         2\n",
      "           5       0.98      0.96      0.97       444\n",
      "           6       1.00      0.00      0.00         1\n",
      "\n",
      "    accuracy                           1.00     94594\n",
      "   macro avg       1.00      0.85      0.85     94594\n",
      "weighted avg       1.00      1.00      1.00     94594\n",
      "\n"
     ]
    }
   ],
   "source": [
    "print(classification_report(vlevel, tlevel[ang_distis[:, 0]], zero_division=1))"
   ]
  },
  {
   "cell_type": "code",
   "execution_count": 56,
   "metadata": {},
   "outputs": [],
   "source": [
    "np.savez_compressed(\n",
    "    f\"results/distilbert-base-uncased/{postfix}-valid_dists.npz\",\n",
    "    euc_dists=euc_dists.numpy(),\n",
    "    euc_distis=euc_distis.numpy(),\n",
    "    ang_dists=ang_dists.numpy(),\n",
    "    ang_distis=ang_distis.numpy(),\n",
    ")"
   ]
  },
  {
   "cell_type": "markdown",
   "metadata": {},
   "source": [
    "## 사담\n",
    "\n",
    "### 과연 ArcFace Loss를 쓰는게 좋을까?"
   ]
  },
  {
   "cell_type": "code",
   "execution_count": null,
   "metadata": {},
   "outputs": [],
   "source": []
  },
  {
   "cell_type": "code",
   "execution_count": null,
   "metadata": {},
   "outputs": [],
   "source": []
  },
  {
   "cell_type": "code",
   "execution_count": null,
   "metadata": {},
   "outputs": [],
   "source": []
  },
  {
   "cell_type": "code",
   "execution_count": null,
   "metadata": {},
   "outputs": [],
   "source": []
  },
  {
   "cell_type": "code",
   "execution_count": null,
   "metadata": {},
   "outputs": [],
   "source": []
  },
  {
   "cell_type": "code",
   "execution_count": null,
   "metadata": {},
   "outputs": [],
   "source": []
  },
  {
   "cell_type": "code",
   "execution_count": null,
   "metadata": {},
   "outputs": [],
   "source": []
  }
 ],
 "metadata": {
  "kernelspec": {
   "display_name": "Python 3.6.10 64-bit ('shim': conda)",
   "language": "python",
   "name": "python361064bitshimconda5dcd412cc48446db92fbc68fce2a3d60"
  },
  "language_info": {
   "codemirror_mode": {
    "name": "ipython",
    "version": 3
   },
   "file_extension": ".py",
   "mimetype": "text/x-python",
   "name": "python",
   "nbconvert_exporter": "python",
   "pygments_lexer": "ipython3",
   "version": "3.6.10"
  }
 },
 "nbformat": 4,
 "nbformat_minor": 4
}
