{
 "cells": [
  {
   "cell_type": "code",
   "execution_count": 1,
   "id": "responsible-celebration",
   "metadata": {
    "tags": []
   },
   "outputs": [
    {
     "name": "stdout",
     "output_type": "stream",
     "text": [
      "/mnt/h/hev/log-analytics\n"
     ]
    }
   ],
   "source": [
    "%load_ext lab_black\n",
    "%cd .."
   ]
  },
  {
   "cell_type": "code",
   "execution_count": 2,
   "id": "extreme-genius",
   "metadata": {},
   "outputs": [],
   "source": [
    "import torch\n",
    "import numpy as np\n",
    "import pandas as pd\n",
    "import pickle\n",
    "from tqdm import tqdm\n",
    "from collections import defaultdict\n",
    "import sys"
   ]
  },
  {
   "cell_type": "code",
   "execution_count": 3,
   "id": "measured-maximum",
   "metadata": {},
   "outputs": [],
   "source": [
    "distdeck = torch.load(\n",
    "    \"results/distilbert-base-uncased-ver7/distilbert-base-uncased-focal-AdamW-lr1e-05-ver7-os10_1-distdeck.pth\"\n",
    ")"
   ]
  },
  {
   "cell_type": "code",
   "execution_count": 4,
   "id": "sustained-thompson",
   "metadata": {},
   "outputs": [],
   "source": [
    "deck2 = torch.load(\"results/distilbert-base-uncased-ver7/distilbert-base-uncased-focal-AdamW-lr1e-05-ver7-os10_1-deck2.pth\")"
   ]
  },
  {
   "cell_type": "code",
   "execution_count": 5,
   "id": "lesser-stability",
   "metadata": {},
   "outputs": [],
   "source": [
    "df = pd.read_csv(\"data/ori/test.csv\")"
   ]
  },
  {
   "cell_type": "code",
   "execution_count": 6,
   "id": "acting-bearing",
   "metadata": {},
   "outputs": [
    {
     "data": {
      "text/plain": [
       "(torch.Size([1095951, 4]), torch.Size([1095951, 4]))"
      ]
     },
     "execution_count": 6,
     "metadata": {},
     "output_type": "execute_result"
    }
   ],
   "source": [
    "distdeck[\"dist\"].shape, distdeck[\"level\"].shape"
   ]
  },
  {
   "cell_type": "code",
   "execution_count": 7,
   "id": "forced-tracy",
   "metadata": {},
   "outputs": [
    {
     "data": {
      "text/plain": [
       "(dict_keys(['dist', 'level']), dict_keys(['feat', 'otext', 'fclevel', 'ids']))"
      ]
     },
     "execution_count": 7,
     "metadata": {},
     "output_type": "execute_result"
    }
   ],
   "source": [
    "distdeck.keys(), deck2.keys()"
   ]
  },
  {
   "cell_type": "code",
   "execution_count": 8,
   "id": "numeric-metropolitan",
   "metadata": {},
   "outputs": [],
   "source": [
    "total_len = 1418916"
   ]
  },
  {
   "cell_type": "code",
   "execution_count": 9,
   "id": "diagnostic-venue",
   "metadata": {},
   "outputs": [],
   "source": [
    "def policy(dists, tlevels, fclevel):\n",
    "    if fclevel in [6, 4, 2]:\n",
    "        return fclevel.item()\n",
    "    if (tlevels == 5).all():\n",
    "        return 5 if dists[0] < 1.5 else 7\n",
    "    if (tlevels == 3).all():\n",
    "        return 3 if dists[0] < 1.5 else 7\n",
    "    if dists[0] < 0.7:\n",
    "        # return tlevels[0].item()\n",
    "        return fclevel.item()\n",
    "    return 7"
   ]
  },
  {
   "cell_type": "code",
   "execution_count": 10,
   "id": "running-shopping",
   "metadata": {},
   "outputs": [
    {
     "name": "stdout",
     "output_type": "stream",
     "text": [
      "100%|██████████████████████████████████████████████████| 1095951/1095951 [01:40<00:00, 10942.63it/s]\n"
     ]
    }
   ],
   "source": [
    "out_dists = [None for _ in range(total_len)]\n",
    "out_levels = [None for _ in range(total_len)]\n",
    "out_fclevels = [None for _ in range(total_len)]\n",
    "N = distdeck[\"dist\"].size(0)\n",
    "with tqdm(total=N, ncols=100, file=sys.stdout) as t:\n",
    "    for i in range(N):\n",
    "        dists = distdeck[\"dist\"][i]\n",
    "        levels = distdeck[\"level\"][i]\n",
    "        fclevel = deck2[\"fclevel\"][i]\n",
    "        out_level = policy(dists, levels, fclevel)\n",
    "        ids = deck2[\"ids\"][i]\n",
    "        for j in ids:\n",
    "            out_levels[j - 1000000] = out_level\n",
    "            out_dists[j - 1000000] = dists\n",
    "            out_fclevels[j - 1000000] = fclevel\n",
    "        t.update()"
   ]
  },
  {
   "cell_type": "code",
   "execution_count": 11,
   "id": "removed-tobago",
   "metadata": {},
   "outputs": [],
   "source": [
    "out_levels = np.array(out_levels)"
   ]
  },
  {
   "cell_type": "code",
   "execution_count": 12,
   "id": "induced-shield",
   "metadata": {},
   "outputs": [
    {
     "name": "stdout",
     "output_type": "stream",
     "text": [
      "0 : 1002253 70.64%\n",
      "1 : 396259 27.93%\n",
      "2 : 42 0.00%\n",
      "3 : 12972 0.91%\n",
      "4 : 34 0.00%\n",
      "5 : 6342 0.45%\n",
      "6 : 29 0.00%\n",
      "7 : 985 0.07%\n"
     ]
    }
   ],
   "source": [
    "# 각 레벨별 개수 0.5이하일 때 fclevel을 쓰기로\n",
    "for i in range(8):\n",
    "    cnt = (out_levels == i).sum()\n",
    "    print(i, \":\", cnt, f\"{cnt / len(out_levels)*100:.2f}%\")"
   ]
  },
  {
   "cell_type": "markdown",
   "id": "demanding-comment",
   "metadata": {},
   "source": [
    "```\n",
    "0 : 1003955 70.76%\n",
    "1 : 395007 27.84%\n",
    "2 : 42 0.00%\n",
    "3 : 12950 0.91%\n",
    "4 : 34 0.00%\n",
    "5 : 6334 0.45%\n",
    "6 : 31 0.00%\n",
    "7 : 563 0.04%\n",
    "```"
   ]
  },
  {
   "cell_type": "code",
   "execution_count": 13,
   "id": "dental-agriculture",
   "metadata": {},
   "outputs": [
    {
     "data": {
      "text/plain": [
       "(array([  35574,   73308,   86431,   92457,  147553,  175492,  179014,\n",
       "         210545,  240872,  340297,  355854,  374455,  451522,  484782,\n",
       "         499683,  507877,  529914,  624698,  633202,  647782,  652696,\n",
       "         714497,  848132,  881660, 1113383, 1125342, 1169189, 1293703,\n",
       "        1394234]),)"
      ]
     },
     "execution_count": 13,
     "metadata": {},
     "output_type": "execute_result"
    }
   ],
   "source": [
    "(out_levels == 6).nonzero()"
   ]
  },
  {
   "cell_type": "code",
   "execution_count": 39,
   "id": "musical-confusion",
   "metadata": {},
   "outputs": [],
   "source": [
    "out_ids = list(range(1000000, 1000000 + len(out_levels)))"
   ]
  },
  {
   "cell_type": "code",
   "execution_count": 40,
   "id": "historical-socket",
   "metadata": {},
   "outputs": [],
   "source": [
    "out_df = {\"id\": out_ids, \"level\": out_levels}"
   ]
  },
  {
   "cell_type": "code",
   "execution_count": 41,
   "id": "normal-payday",
   "metadata": {},
   "outputs": [],
   "source": [
    "out_df = pd.DataFrame(out_df)"
   ]
  },
  {
   "cell_type": "code",
   "execution_count": 42,
   "id": "iraqi-angola",
   "metadata": {},
   "outputs": [
    {
     "data": {
      "text/html": [
       "<div>\n",
       "<style scoped>\n",
       "    .dataframe tbody tr th:only-of-type {\n",
       "        vertical-align: middle;\n",
       "    }\n",
       "\n",
       "    .dataframe tbody tr th {\n",
       "        vertical-align: top;\n",
       "    }\n",
       "\n",
       "    .dataframe thead th {\n",
       "        text-align: right;\n",
       "    }\n",
       "</style>\n",
       "<table border=\"1\" class=\"dataframe\">\n",
       "  <thead>\n",
       "    <tr style=\"text-align: right;\">\n",
       "      <th></th>\n",
       "      <th>id</th>\n",
       "      <th>level</th>\n",
       "    </tr>\n",
       "  </thead>\n",
       "  <tbody>\n",
       "    <tr>\n",
       "      <th>0</th>\n",
       "      <td>1000000</td>\n",
       "      <td>0</td>\n",
       "    </tr>\n",
       "    <tr>\n",
       "      <th>1</th>\n",
       "      <td>1000001</td>\n",
       "      <td>0</td>\n",
       "    </tr>\n",
       "    <tr>\n",
       "      <th>2</th>\n",
       "      <td>1000002</td>\n",
       "      <td>1</td>\n",
       "    </tr>\n",
       "    <tr>\n",
       "      <th>3</th>\n",
       "      <td>1000003</td>\n",
       "      <td>0</td>\n",
       "    </tr>\n",
       "    <tr>\n",
       "      <th>4</th>\n",
       "      <td>1000004</td>\n",
       "      <td>1</td>\n",
       "    </tr>\n",
       "    <tr>\n",
       "      <th>...</th>\n",
       "      <td>...</td>\n",
       "      <td>...</td>\n",
       "    </tr>\n",
       "    <tr>\n",
       "      <th>1418911</th>\n",
       "      <td>2418911</td>\n",
       "      <td>0</td>\n",
       "    </tr>\n",
       "    <tr>\n",
       "      <th>1418912</th>\n",
       "      <td>2418912</td>\n",
       "      <td>0</td>\n",
       "    </tr>\n",
       "    <tr>\n",
       "      <th>1418913</th>\n",
       "      <td>2418913</td>\n",
       "      <td>1</td>\n",
       "    </tr>\n",
       "    <tr>\n",
       "      <th>1418914</th>\n",
       "      <td>2418914</td>\n",
       "      <td>0</td>\n",
       "    </tr>\n",
       "    <tr>\n",
       "      <th>1418915</th>\n",
       "      <td>2418915</td>\n",
       "      <td>0</td>\n",
       "    </tr>\n",
       "  </tbody>\n",
       "</table>\n",
       "<p>1418916 rows × 2 columns</p>\n",
       "</div>"
      ],
      "text/plain": [
       "              id  level\n",
       "0        1000000      0\n",
       "1        1000001      0\n",
       "2        1000002      1\n",
       "3        1000003      0\n",
       "4        1000004      1\n",
       "...          ...    ...\n",
       "1418911  2418911      0\n",
       "1418912  2418912      0\n",
       "1418913  2418913      1\n",
       "1418914  2418914      0\n",
       "1418915  2418915      0\n",
       "\n",
       "[1418916 rows x 2 columns]"
      ]
     },
     "execution_count": 42,
     "metadata": {},
     "output_type": "execute_result"
    }
   ],
   "source": [
    "out_df"
   ]
  },
  {
   "cell_type": "code",
   "execution_count": 47,
   "id": "hired-suicide",
   "metadata": {},
   "outputs": [],
   "source": [
    "out_df.to_csv(\n",
    "    \"results/distilbert-base-uncased-ver7/distilbert-base-uncased-focal-AdamW-lr1e-05-ver7-os10_1-ver4.csv\", index=False\n",
    ")"
   ]
  },
  {
   "cell_type": "code",
   "execution_count": null,
   "id": "earlier-freeze",
   "metadata": {},
   "outputs": [],
   "source": []
  }
 ],
 "metadata": {
  "kernelspec": {
   "display_name": "Python 3",
   "language": "python",
   "name": "python3"
  },
  "language_info": {
   "codemirror_mode": {
    "name": "ipython",
    "version": 3
   },
   "file_extension": ".py",
   "mimetype": "text/x-python",
   "name": "python",
   "nbconvert_exporter": "python",
   "pygments_lexer": "ipython3",
   "version": "3.7.9"
  }
 },
 "nbformat": 4,
 "nbformat_minor": 5
}
