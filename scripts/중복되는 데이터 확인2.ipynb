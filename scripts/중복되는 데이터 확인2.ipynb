{
 "cells": [
  {
   "cell_type": "code",
   "execution_count": 1,
   "id": "a65e75d4-dae5-47b6-9895-35de57c8b638",
   "metadata": {},
   "outputs": [
    {
     "name": "stdout",
     "output_type": "stream",
     "text": [
      "/home/shim/cev/dl/log-analytics\n"
     ]
    }
   ],
   "source": [
    "%load_ext lab_black\n",
    "%cd .."
   ]
  },
  {
   "cell_type": "code",
   "execution_count": 16,
   "id": "bc936bd9-6d80-4717-b4af-d1a43504efce",
   "metadata": {},
   "outputs": [],
   "source": [
    "import pickle\n",
    "import pandas as pd\n",
    "from datasets.dataset_ver5 import MyDatasetVer5\n",
    "from tqdm import tqdm\n",
    "import sys\n",
    "from collections import defaultdict"
   ]
  },
  {
   "cell_type": "code",
   "execution_count": 3,
   "id": "02e429f0-c3cc-4af7-a077-b13a992d79c2",
   "metadata": {},
   "outputs": [],
   "source": [
    "df = pd.read_csv(\"data/ori/train.csv\")"
   ]
  },
  {
   "cell_type": "code",
   "execution_count": 4,
   "id": "0241b43d-d5d4-48e6-bd6d-d0cb06855655",
   "metadata": {},
   "outputs": [],
   "source": [
    "# {텍스트: 레벨: 개수}\n",
    "db = {}"
   ]
  },
  {
   "cell_type": "code",
   "execution_count": 6,
   "id": "92067c0e-e421-4f78-82ca-1e5f6b4d3ca7",
   "metadata": {},
   "outputs": [
    {
     "name": "stdout",
     "output_type": "stream",
     "text": [
      "100%|███████████████████████████████████████████████████| 472972/472972 [00:01<00:00, 373439.30it/s]\n"
     ]
    }
   ],
   "source": [
    "with tqdm(total=len(df), ncols=100, file=sys.stdout) as t:\n",
    "    for i, (level, full_log) in enumerate(zip(df.level, df.full_log)):\n",
    "        # text = MyDatasetVer5.refine_data(full_log)\n",
    "        text = full_log\n",
    "        if text not in db:\n",
    "            db[text] = {}\n",
    "        if level not in db[text]:\n",
    "            db[text][level] = {\"cnt\": 0, \"list\": []}\n",
    "        db[text][level][\"cnt\"] += 1\n",
    "        db[text][level][\"list\"].append(i)\n",
    "\n",
    "        t.update()"
   ]
  },
  {
   "cell_type": "code",
   "execution_count": 7,
   "id": "c3d19410-dd2d-47fb-8d03-96c9166ebeda",
   "metadata": {},
   "outputs": [],
   "source": [
    "keys = list(db.keys())"
   ]
  },
  {
   "cell_type": "code",
   "execution_count": 8,
   "id": "1556c4f6-4628-4b56-aca7-d9facfe72d7d",
   "metadata": {},
   "outputs": [
    {
     "data": {
      "text/plain": [
       "(421079, 472972)"
      ]
     },
     "execution_count": 8,
     "metadata": {},
     "output_type": "execute_result"
    }
   ],
   "source": [
    "len(keys), len(df)"
   ]
  },
  {
   "cell_type": "code",
   "execution_count": 9,
   "id": "113a7389-6ba9-43c4-8d52-f9db331ae352",
   "metadata": {},
   "outputs": [],
   "source": [
    "duples = {}\n",
    "for i, key in enumerate(keys):\n",
    "    if len(db[key]) != 1:\n",
    "        K = tuple(sorted(list(db[key].keys())))\n",
    "        if K not in duples:\n",
    "            duples[K] = []\n",
    "        duples[K].append(i)"
   ]
  },
  {
   "cell_type": "code",
   "execution_count": 10,
   "id": "eaef6bdf-dce3-4471-be12-20d1573e1a0d",
   "metadata": {},
   "outputs": [
    {
     "data": {
      "text/plain": [
       "dict_keys([(0, 1), (0, 5), (3, 5), (0, 1, 5), (1, 5), (0, 3)])"
      ]
     },
     "execution_count": 10,
     "metadata": {},
     "output_type": "execute_result"
    }
   ],
   "source": [
    "duples.keys()"
   ]
  },
  {
   "cell_type": "code",
   "execution_count": 11,
   "id": "959d6496-d246-455d-bac6-a475a5ac7161",
   "metadata": {},
   "outputs": [
    {
     "data": {
      "text/plain": [
       "[392, 903, 1002, 1158, 1216]"
      ]
     },
     "execution_count": 11,
     "metadata": {},
     "output_type": "execute_result"
    }
   ],
   "source": [
    "duples[(0, 1)][:5]"
   ]
  },
  {
   "cell_type": "code",
   "execution_count": 12,
   "id": "13212261-f7fa-4cee-bf5f-076264671a1a",
   "metadata": {},
   "outputs": [
    {
     "data": {
      "text/plain": [
       "{0: {'cnt': 2, 'list': [562, 562]}, 1: {'cnt': 2, 'list': [383177, 389360]}}"
      ]
     },
     "execution_count": 12,
     "metadata": {},
     "output_type": "execute_result"
    }
   ],
   "source": [
    "db[keys[392]]"
   ]
  },
  {
   "cell_type": "markdown",
   "id": "0d5cf697-e838-4f9f-a8e1-0984425196dc",
   "metadata": {},
   "source": [
    "지금 상황에서는 중복되는 level을 갖는 데이터가 정확하게 어떤 level인지 알 방법이 없음.\n",
    "\n",
    "그러므로 수가 많은 쪽으로 가도록 하자"
   ]
  },
  {
   "cell_type": "code",
   "execution_count": 13,
   "id": "6dcf06c9-6630-409b-96bf-3b4533fccad2",
   "metadata": {},
   "outputs": [
    {
     "name": "stdout",
     "output_type": "stream",
     "text": [
      "100%|███████████████████████████████████████████████████| 421079/421079 [00:00<00:00, 954321.56it/s]\n"
     ]
    }
   ],
   "source": [
    "outdb = {\"level\": [], \"text\": []}\n",
    "with tqdm(total=len(keys), ncols=100, file=sys.stdout) as t:\n",
    "    for key in keys:\n",
    "        d = db[key]\n",
    "        if len(list(d.keys())) > 1:\n",
    "            # 가장 개수가 많은 level을 선택\n",
    "            cnts = sorted([(d[k][\"cnt\"], k) for k in d.keys()], reverse=True)\n",
    "\n",
    "            # 만약 개수가 같은게 있다면 가장 level이 작은 것을 선택\n",
    "            max_cnt = cnts[0][0]\n",
    "            same_ks = list(filter(lambda x: x[0] == max_cnt, cnts))\n",
    "            level = same_ks[-1][1]\n",
    "        else:\n",
    "            level = list(d.keys())[0]\n",
    "\n",
    "        outdb[\"level\"].append(level)\n",
    "        outdb[\"text\"].append(key)\n",
    "        t.update()"
   ]
  },
  {
   "cell_type": "code",
   "execution_count": 14,
   "id": "1edd8e2c-3f50-45f1-a24a-232043045617",
   "metadata": {},
   "outputs": [],
   "source": [
    "temp = defaultdict(int)\n",
    "for level in outdb[\"level\"]:\n",
    "    temp[level] += 1"
   ]
  },
  {
   "cell_type": "code",
   "execution_count": 15,
   "id": "c971b451-384b-489f-a2c2-5498835295cd",
   "metadata": {},
   "outputs": [
    {
     "data": {
      "text/plain": [
       "defaultdict(int, {0: 280793, 1: 134195, 3: 4219, 5: 1842, 2: 12, 4: 10, 6: 8})"
      ]
     },
     "execution_count": 15,
     "metadata": {},
     "output_type": "execute_result"
    }
   ],
   "source": [
    "temp  # 각 레벨별 데이터의 개수"
   ]
  },
  {
   "cell_type": "markdown",
   "id": "1d9fcca9-be24-4582-8273-219430db74c4",
   "metadata": {},
   "source": [
    "생각외로 IP주소(내부망인지 외부망인지 등에 따라서 차이가 있을 수 있기 때문), 시간(어느 시간대에 공격이 발생할 활률이 높은지 등의 의미가 있을 수 있음) 등도 중요한 정보 중 하나가 될 수 있겠다고 생각이 된다.\n",
    "\n",
    "그러니까 원본 데이터를 그대로 입력해보자(그래도 중복은 제거해서)"
   ]
  },
  {
   "cell_type": "code",
   "execution_count": 17,
   "id": "f1fc0515-b4ed-433b-a9a3-914b084706b9",
   "metadata": {},
   "outputs": [],
   "source": [
    "!mkdir data/ver6"
   ]
  },
  {
   "cell_type": "code",
   "execution_count": 19,
   "id": "a063f8cd-aacc-4c21-8819-dcce0373dc2f",
   "metadata": {},
   "outputs": [],
   "source": [
    "with open(\"data/ver6/train.pkl\", \"wb\") as f:\n",
    "    pickle.dump(outdb, f)"
   ]
  },
  {
   "cell_type": "markdown",
   "id": "958e0f63-5ef8-4480-ba9e-d5c49fb99224",
   "metadata": {},
   "source": [
    "---\n",
    "\n",
    "# 테스트 데이터"
   ]
  },
  {
   "cell_type": "code",
   "execution_count": 20,
   "id": "26b6aa0a-b7ad-48b6-8050-f7261bcede3e",
   "metadata": {},
   "outputs": [],
   "source": [
    "df = pd.read_csv(\"data/ori/test.csv\")"
   ]
  },
  {
   "cell_type": "code",
   "execution_count": 25,
   "id": "4ab34f03-fe27-4e7f-9997-6829e38a6092",
   "metadata": {},
   "outputs": [],
   "source": [
    "full_logs = [full_log for full_log in df.full_log]"
   ]
  },
  {
   "cell_type": "code",
   "execution_count": 28,
   "id": "4e02315b-91f2-4591-9436-5b306e6f7e6f",
   "metadata": {},
   "outputs": [
    {
     "name": "stdout",
     "output_type": "stream",
     "text": [
      "100%|█████████████████████████████████████████████████| 1418916/1418916 [00:02<00:00, 609184.17it/s]\n"
     ]
    }
   ],
   "source": [
    "db = {}\n",
    "with tqdm(total=len(df), ncols=100, file=sys.stdout) as t:\n",
    "    for id, full_log in zip(df.id, df.full_log):\n",
    "        # text = MyDatasetVer5.refine_data(full_log)\n",
    "        text = full_log\n",
    "        if text not in db:\n",
    "            db[text] = []\n",
    "        db[text].append(id)\n",
    "\n",
    "        t.update()"
   ]
  },
  {
   "cell_type": "code",
   "execution_count": 31,
   "id": "9c475df9-78e7-4238-9723-6f1fc5005364",
   "metadata": {},
   "outputs": [
    {
     "data": {
      "text/plain": [
       "(1095951, 1418916)"
      ]
     },
     "execution_count": 31,
     "metadata": {},
     "output_type": "execute_result"
    }
   ],
   "source": [
    "len(db.keys()), len(df)  # db: {full_log: \"list of ids\"}"
   ]
  },
  {
   "cell_type": "code",
   "execution_count": 32,
   "id": "1e33f8cb-6b6d-4966-b481-87e0e358db2e",
   "metadata": {},
   "outputs": [],
   "source": [
    "with open(\"data/ver6/test.pkl\", \"wb\") as f:\n",
    "    pickle.dump(db, f)"
   ]
  },
  {
   "cell_type": "markdown",
   "id": "ca9afcd3-2aa6-49b6-84e3-0be97f3a304e",
   "metadata": {},
   "source": [
    "---\n",
    "\n",
    "# Level7 validation 데이터"
   ]
  },
  {
   "cell_type": "code",
   "execution_count": 33,
   "id": "87178fbc-e2e3-4f20-9b3a-92b3acdc182b",
   "metadata": {},
   "outputs": [],
   "source": [
    "df = pd.read_csv(\"data/ori/validation_sample.csv\")"
   ]
  },
  {
   "cell_type": "code",
   "execution_count": 34,
   "id": "88a106a6-2f43-4ff7-b517-1c72f24c6d4a",
   "metadata": {},
   "outputs": [],
   "source": [
    "full_logs = [full_log for full_log in df.full_log]"
   ]
  },
  {
   "cell_type": "code",
   "execution_count": 35,
   "id": "c0f8867f-423d-482a-a7b0-bb60e21e6c7c",
   "metadata": {},
   "outputs": [
    {
     "data": {
      "text/plain": [
       "['type=ANOM_PROMISCUOUS msg=audit(1600402733.466:4503): dev=enp2s0 prom=256 old_prom=0 auid=4294967295 uid=0 gid=0 ses=4294967295 type=SYSCALL msg=audit(1600402733.466:4503): arch=c000003e syscall=54 success=yes exit=0 a0=c a1=107 a2=1 a3=7f856aed1140 items=0 ppid=1 pid=12152 auid=4294967295 uid=0 gid=0 euid=0 suid=0 fsuid=0 egid=0 sgid=0 fsgid=0 tty=(none) ses=4294967295 comm=\"W#01-enp2s0\" exe=\"/usr/sbin/suricata\" subj=system_u:system_r:unconfined_service_t:s0 key=(null) type=PROCTITLE msg=audit(1600402733.466:4503): proctitle=2F7362696E2F7375726963617461002D63002F6574632F73757269636174612F73757269636174612E79616D6C002D2D70696466696C65002F7661722F72756E2F73757269636174612E706964002D6900656E70327330',\n",
       " 'oscap: msg: \"xccdf-result\", scan-id: \"0001600739632\", content: \"ssg-centos-7-ds.xml\", title: \"Prevent Log In to Accounts With Empty Password\", id: \"xccdf_org.ssgproject.content_rule_no_empty_passwords\", result: \"fail\", severity: \"high\", description: \"If an account is configured for password authentication but does not have an assigned password, it may be possible to log into the account without authentication. Remove any instances of the nullok option in /etc/pam.d/system-auth to prevent logins with empty passwords.\", rationale: \"If an account has an empty password, anyone could log in and run commands with the privileges of that account. Accounts with empty passwords should never be used in operational environments.\" references: \"AC-6 (http://nvlpubs.nist.gov/nistpubs/SpecialPublications/NIST.SP.800-53r4.pdf), IA-5(b) (http://nvlpubs.nist.gov/nistpubs/SpecialPublications/NIST.SP.800-53r4.pdf), IA-5(c) (http://nvlpubs.nist.gov/nistpubs/SpecialPublications/NIST.SP.800-53r4.pdf), IA-5(1)(a) (http://nvlpubs.nist.gov/nistpubs/SpecialPublications/NIST.SP.800-53r4.pdf), 366 (http://iase.disa.mil/stigs/cci/Pages/index.aspx), SRG-OS-000480-GPOS-00227 (http://iase.disa.mil/stigs/srgs/Pages/index.aspx), Req-8.2.3 (https://www.pcisecuritystandards.org/documents/PCI_DSS_v3-1.pdf), 5.5.2 (https://www.fbi.gov/file-repository/cjis-security-policy-v5_5_20160601-2-1.pdf), 3.1.1 (http://nvlpubs.nist.gov/nistpubs/SpecialPublications/NIST.SP.800-171.pdf), 3.1.5 (http://nvlpubs.nist.gov/nistpubs/SpecialPublications/NIST.SP.800-171.pdf)\", identifiers: \"\", oval-id: \"oval:ssg-no_empty_passwords:def:1\", benchmark-id: \"xccdf_org.ssgproject.content_benchmark_RHEL-7\", profile-id: \"xccdf_org.ssgproject.content_profile_pci-dss\", profile-title: \"PCI-DSS v3 Control Baseline for Red Hat Enterprise Linux 7\".',\n",
       " 'Sep 22 10:56:19 localhost kernel: Out of memory: Kill process 1736 (probe_rpmverify) score 243 or sacrifice child']"
      ]
     },
     "execution_count": 35,
     "metadata": {},
     "output_type": "execute_result"
    }
   ],
   "source": [
    "full_logs"
   ]
  },
  {
   "cell_type": "code",
   "execution_count": 36,
   "id": "b4c42ec0-8751-43fa-9527-eebe94bef23e",
   "metadata": {},
   "outputs": [],
   "source": [
    "with open(\"data/ver6/valid-level7.pkl\", \"wb\") as f:\n",
    "    pickle.dump(full_logs, f)"
   ]
  },
  {
   "cell_type": "code",
   "execution_count": 37,
   "id": "569cec00-1598-4ad9-b030-49b3a2658fa3",
   "metadata": {},
   "outputs": [],
   "source": [
    "A = {1: 2, 2: 3, 3: 4}"
   ]
  },
  {
   "cell_type": "code",
   "execution_count": 40,
   "id": "6d4e9381-7de8-43d1-acf1-86a137a131bd",
   "metadata": {},
   "outputs": [
    {
     "data": {
      "text/plain": [
       "dict_keys([1, 2, 3])"
      ]
     },
     "execution_count": 40,
     "metadata": {},
     "output_type": "execute_result"
    }
   ],
   "source": [
    "A.keys()"
   ]
  },
  {
   "cell_type": "code",
   "execution_count": null,
   "id": "520e22ee-e8d4-4d5f-b85e-6f717b721b64",
   "metadata": {},
   "outputs": [],
   "source": []
  }
 ],
 "metadata": {
  "kernelspec": {
   "display_name": "torch",
   "language": "python",
   "name": "torch"
  },
  "language_info": {
   "codemirror_mode": {
    "name": "ipython",
    "version": 3
   },
   "file_extension": ".py",
   "mimetype": "text/x-python",
   "name": "python",
   "nbconvert_exporter": "python",
   "pygments_lexer": "ipython3",
   "version": "3.7.10"
  }
 },
 "nbformat": 4,
 "nbformat_minor": 5
}
