{
 "cells": [
  {
   "cell_type": "code",
   "execution_count": 1,
   "id": "9499b2ec-6ebb-4575-b647-f2946b3eb8b5",
   "metadata": {},
   "outputs": [
    {
     "name": "stdout",
     "output_type": "stream",
     "text": [
      "/data3/SIG/log-analytics\n"
     ]
    }
   ],
   "source": [
    "%load_ext lab_black\n",
    "%cd .."
   ]
  },
  {
   "cell_type": "code",
   "execution_count": 2,
   "id": "b23a629d-38d6-4439-89a6-272d68eefbdd",
   "metadata": {
    "tags": []
   },
   "outputs": [],
   "source": [
    "import argparse\n",
    "import math\n",
    "import multiprocessing\n",
    "import sys\n",
    "from datetime import datetime\n",
    "from pathlib import Path\n",
    "from pprint import pformat\n",
    "\n",
    "import numpy as np\n",
    "import pandas as pd\n",
    "import torch\n",
    "import torch.nn as nn\n",
    "import torch.nn.functional as F\n",
    "import torch_optimizer\n",
    "import yaml\n",
    "from easydict import EasyDict\n",
    "from pytorch_transformers import (\n",
    "    BertForSequenceClassification,\n",
    "    BertTokenizer,\n",
    "    DistilBertForSequenceClassification,\n",
    "    DistilBertTokenizer,\n",
    "    RobertaForSequenceClassification,\n",
    "    RobertaTokenizer,\n",
    ")\n",
    "from sklearn.model_selection import StratifiedKFold\n",
    "from torch.optim import Adam, AdamW\n",
    "from torch.optim.lr_scheduler import ReduceLROnPlateau\n",
    "from torch.utils.data import DataLoader, Dataset\n",
    "from tqdm import tqdm\n",
    "from transformers import (\n",
    "    AlbertForSequenceClassification,\n",
    "    AlbertTokenizer,\n",
    "    DebertaForSequenceClassification,\n",
    "    DebertaTokenizer,\n",
    "    SqueezeBertTokenizer,\n",
    "    SqueezeBertForSequenceClassification,\n",
    "    XLNetTokenizer,\n",
    "    XLNetForSequenceClassification,\n",
    ")\n",
    "\n",
    "from datasets import load_test_data, load_train_data, MyDataset, load_train_total_data\n",
    "from utils import SAM, AverageMeter, CustomLogger, FocalLoss, seed_everything\n",
    "\n",
    "from main import MyTrainer\n",
    "from collections import defaultdict\n",
    "import matplotlib.pyplot as plt\n",
    "import random"
   ]
  },
  {
   "cell_type": "code",
   "execution_count": 3,
   "id": "47f7a046-dc70-4dba-ba29-c8259c59ee9f",
   "metadata": {},
   "outputs": [
    {
     "data": {
      "text/plain": [
       "<torch.autograd.grad_mode.set_grad_enabled at 0x7f1478f76c18>"
      ]
     },
     "execution_count": 3,
     "metadata": {},
     "output_type": "execute_result"
    }
   ],
   "source": [
    "import os\n",
    "\n",
    "os.environ[\"CUDA_VISIBLE_DEVICES\"] = \"3\"\n",
    "torch.set_grad_enabled(False)"
   ]
  },
  {
   "cell_type": "code",
   "execution_count": 4,
   "id": "d45261ba-46c7-4bc8-b81c-c7376ddab540",
   "metadata": {},
   "outputs": [],
   "source": [
    "with open(\"config/distilbert-base-uncased-ver2.yaml\", \"r\") as f:\n",
    "    C = EasyDict(yaml.load(f, yaml.FullLoader))\n",
    "    C.result_dir = Path(C.result_dir)\n",
    "    C.dataset.dir = Path(C.dataset.dir)\n",
    "    seed_everything(C.seed, deterministic=False)"
   ]
  },
  {
   "cell_type": "code",
   "execution_count": 5,
   "id": "2cf54770-ac64-4a8c-8272-e7c57414e7a0",
   "metadata": {},
   "outputs": [
    {
     "data": {
      "text/plain": [
       "{'model': {'name': 'distilbert-base-uncased'},\n",
       " 'comment': None,\n",
       " 'result_dir': PosixPath('results/distilbert-base-uncased'),\n",
       " 'debug': False,\n",
       " 'seed': 20210425,\n",
       " 'train': {'SAM': False,\n",
       "  'folds': [1],\n",
       "  'checkpoints': [None],\n",
       "  'loss': {'name': 'focal', 'gamma': 2},\n",
       "  'optimizer': {'name': 'AdamW'},\n",
       "  'finetune': {'do': True, 'step1_epochs': 2, 'step2_epochs': 4},\n",
       "  'max_epochs': 10,\n",
       "  'lr': 1e-05,\n",
       "  'scheduler': {'name': 'ReduceLROnPlateau',\n",
       "   'params': {'factor': 0.5, 'patience': 3, 'verbose': True}}},\n",
       " 'dataset': {'dir': PosixPath('data/ori'),\n",
       "  'ver': 2,\n",
       "  'batch_size': 30,\n",
       "  'num_workers': 8}}"
      ]
     },
     "execution_count": 5,
     "metadata": {},
     "output_type": "execute_result"
    }
   ],
   "source": [
    "C"
   ]
  },
  {
   "cell_type": "markdown",
   "id": "22716d56-bf73-441f-be8a-f7a913fe0e5f",
   "metadata": {},
   "source": [
    "## deck결과 연구"
   ]
  },
  {
   "cell_type": "code",
   "execution_count": 26,
   "id": "4ce2d241-1fac-49d1-b242-aacf58974895",
   "metadata": {},
   "outputs": [],
   "source": [
    "decks = [\n",
    "    np.load(\"results/distilbert-base-uncased/distilbert-base-uncased-focal-AdamW-lr1e-05-dsver2_1-deck3.npz\"),\n",
    "    np.load(\"results/distilbert-base-uncased/distilbert-base-uncased-focal-AdamW-lr1e-05-dsver2_2-deck3.npz\"),\n",
    "    np.load(\"results/distilbert-base-uncased/distilbert-base-uncased-focal-AdamW-lr1e-05-dsver2_3-deck3.npz\"),\n",
    "]"
   ]
  },
  {
   "cell_type": "code",
   "execution_count": 27,
   "id": "86240d73-ce3f-4e8a-a616-a7d681c48a51",
   "metadata": {},
   "outputs": [],
   "source": [
    "for i in range(len(decks)):\n",
    "    decks[i] = {k: torch.from_numpy(v) for k, v in decks[i].items()}"
   ]
  },
  {
   "cell_type": "markdown",
   "id": "e143f96e-2792-41eb-b2a7-660e53366a74",
   "metadata": {},
   "source": [
    "### deck 합치기"
   ]
  },
  {
   "cell_type": "code",
   "execution_count": 28,
   "id": "c33ab3db-c574-4248-8cd2-f64b8b58e424",
   "metadata": {},
   "outputs": [
    {
     "data": {
      "text/plain": [
       "dict_keys(['dists', 'indices', 'fcfeats', 'tlevels'])"
      ]
     },
     "execution_count": 28,
     "metadata": {},
     "output_type": "execute_result"
    }
   ],
   "source": [
    "decks[0].keys()"
   ]
  },
  {
   "cell_type": "code",
   "execution_count": 29,
   "id": "7b46bbe6-5ba0-48cc-98e5-3e5843efbed9",
   "metadata": {},
   "outputs": [],
   "source": [
    "deck = {\n",
    "    \"dists\": torch.cat([decks[i][\"dists\"] for i in range(len(decks))], dim=1),\n",
    "    \"tlevels\": torch.cat([decks[i][\"tlevels\"] for i in range(len(decks))], dim=1),\n",
    "    \"indices\": torch.cat([decks[i][\"indices\"] for i in range(len(decks))], dim=1),\n",
    "}"
   ]
  },
  {
   "cell_type": "code",
   "execution_count": 30,
   "id": "00265af1-5733-4b9f-b9af-56d1baa24f41",
   "metadata": {},
   "outputs": [
    {
     "data": {
      "text/plain": [
       "torch.Size([24])"
      ]
     },
     "execution_count": 30,
     "metadata": {},
     "output_type": "execute_result"
    }
   ],
   "source": [
    "deck[\"dists\"][10].shape"
   ]
  },
  {
   "cell_type": "code",
   "execution_count": 31,
   "id": "97259373-f0d4-4f0e-baa5-f0e8b3a028e9",
   "metadata": {},
   "outputs": [
    {
     "name": "stdout",
     "output_type": "stream",
     "text": [
      "100%|██████████████████████████████████████████████████| 1418916/1418916 [00:39<00:00, 35905.41it/s]\n"
     ]
    }
   ],
   "source": [
    "out_deck = {\"dists\": [], \"tlevels\": [], \"indices\": []}\n",
    "with tqdm(total=1418916, ncols=100, file=sys.stdout) as t:\n",
    "    for i in range(1418916):\n",
    "        dist, j = deck[\"dists\"][i].topk(8, dim=0, largest=False)\n",
    "        tlevel = deck[\"tlevels\"][i, j]\n",
    "        index = deck[\"indices\"][i, j]\n",
    "        out_deck[\"dists\"].append(dist)\n",
    "        out_deck[\"tlevels\"].append(tlevel)\n",
    "        out_deck[\"indices\"].append(index)\n",
    "        t.update()"
   ]
  },
  {
   "cell_type": "code",
   "execution_count": 32,
   "id": "d9d69b17-aa08-417a-b7ff-238dffff068b",
   "metadata": {},
   "outputs": [],
   "source": [
    "deck = out_deck"
   ]
  },
  {
   "cell_type": "code",
   "execution_count": 33,
   "id": "989729be-410d-4bdc-9e1b-e12cef4d2529",
   "metadata": {},
   "outputs": [],
   "source": [
    "deck[\"dists\"] = torch.stack(deck[\"dists\"])\n",
    "deck[\"tlevels\"] = torch.stack(deck[\"tlevels\"])\n",
    "deck[\"indices\"] = torch.stack(deck[\"indices\"])"
   ]
  },
  {
   "cell_type": "code",
   "execution_count": 34,
   "id": "d367236d-942a-4f00-a12a-918a751c53d2",
   "metadata": {},
   "outputs": [],
   "source": [
    "np.savez_compressed(\n",
    "    \"results/distilbert-base-uncased/distilbert-base-uncased-focal-AdamW-lr1e-05-dsver2-total_deck.npz\",\n",
    "    dists=deck[\"dists\"].numpy(),\n",
    "    tlevels=deck[\"tlevels\"].numpy(),\n",
    "    indices=deck[\"indices\"].numpy(),\n",
    ")"
   ]
  },
  {
   "cell_type": "markdown",
   "id": "e67698b6-f065-42e7-888e-50c3c5b1c0f2",
   "metadata": {},
   "source": [
    "## submission 파일 만들기"
   ]
  },
  {
   "cell_type": "code",
   "execution_count": 36,
   "id": "b7069175-beb7-4b67-9e26-9b4ae0a0752b",
   "metadata": {},
   "outputs": [],
   "source": [
    "# ver4\n",
    "def politic_draw(dists, indices, tlevels):\n",
    "    dd = dists[-1] - dists[0]\n",
    "    dist = dists[0]\n",
    "    same = (tlevels == tlevels[0]).sum() == 8\n",
    "\n",
    "    # policy1: dist와 관계 없이 모든 tlevels가 3 또는 5이면 그 값을 출력\n",
    "    if same and tlevels[0] in [3, 5]:\n",
    "        return tlevels[0].item()\n",
    "\n",
    "    # policy2: dist와 관계 없이 모든 tlevels 중 앞의 4개가 2 또는 4 또는 6이면 그 값을 출력\n",
    "    if tlevels[0] in [2, 4, 6] and (tlevels[1:4] == tlevels[0]).sum() == 3:\n",
    "        return tlevels[0].item()\n",
    "\n",
    "    # policy: dist가 0.4보다 크면 level 7\n",
    "    if dist > 0.4:\n",
    "        return 7\n",
    "\n",
    "    # 나머지\n",
    "    return tlevels[0].item()"
   ]
  },
  {
   "cell_type": "code",
   "execution_count": 37,
   "id": "1dcebfbf-5f42-4802-800b-0cb78184b8ec",
   "metadata": {},
   "outputs": [
    {
     "data": {
      "text/plain": [
       "0"
      ]
     },
     "execution_count": 37,
     "metadata": {},
     "output_type": "execute_result"
    }
   ],
   "source": [
    "i = 100\n",
    "politic_draw(deck[\"dists\"][i], deck[\"indices\"][i], deck[\"tlevels\"][i])"
   ]
  },
  {
   "cell_type": "code",
   "execution_count": 38,
   "id": "dbfadcb4-7777-42db-b1f8-4b0dc2b1ac1b",
   "metadata": {},
   "outputs": [
    {
     "name": "stdout",
     "output_type": "stream",
     "text": [
      "100%|███████████████████████████████████████████████████| 1418916/1418916 [02:22<00:00, 9975.51it/s]\n"
     ]
    }
   ],
   "source": [
    "N = len(deck[\"dists\"])\n",
    "outdic = {\"id\": list(range(1000000, 2418915 + 1)), \"level\": []}\n",
    "with tqdm(total=N, ncols=100, file=sys.stdout) as t:\n",
    "    for i in range(N):\n",
    "        v = politic_draw(deck[\"dists\"][i], deck[\"indices\"][i], deck[\"tlevels\"][i])\n",
    "        outdic[\"level\"].append(v)\n",
    "        t.update()"
   ]
  },
  {
   "cell_type": "code",
   "execution_count": 39,
   "id": "bca07203-e9ef-45a4-b37a-6c4b3ed749df",
   "metadata": {},
   "outputs": [],
   "source": [
    "outdf = pd.DataFrame(outdic)"
   ]
  },
  {
   "cell_type": "code",
   "execution_count": 40,
   "id": "ddbbd109-b43f-4195-a40f-7f98e0d55b95",
   "metadata": {},
   "outputs": [],
   "source": [
    "outdf.to_csv(\"results/distilbert-base-uncased/distilbert-base-uncased-focal-AdamW-lr1e-05-dsver2-total-ver4.csv\", index=False)"
   ]
  },
  {
   "cell_type": "code",
   "execution_count": null,
   "id": "055da0a9-4a73-4a09-821e-59f87cd0aa8d",
   "metadata": {},
   "outputs": [],
   "source": []
  }
 ],
 "metadata": {
  "kernelspec": {
   "display_name": "shim",
   "language": "python",
   "name": "shim"
  },
  "language_info": {
   "codemirror_mode": {
    "name": "ipython",
    "version": 3
   },
   "file_extension": ".py",
   "mimetype": "text/x-python",
   "name": "python",
   "nbconvert_exporter": "python",
   "pygments_lexer": "ipython3",
   "version": "3.6.10"
  }
 },
 "nbformat": 4,
 "nbformat_minor": 5
}
