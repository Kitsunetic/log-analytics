{
 "cells": [
  {
   "cell_type": "code",
   "execution_count": 1,
   "id": "e49ed22c-4409-4a7a-8920-c0bf4119da8d",
   "metadata": {},
   "outputs": [
    {
     "name": "stdout",
     "output_type": "stream",
     "text": [
      "/home/shim/cev/dl/log-analytics\n"
     ]
    }
   ],
   "source": [
    "%load_ext lab_black\n",
    "%cd .."
   ]
  },
  {
   "cell_type": "code",
   "execution_count": 2,
   "id": "431cd33d-e278-4e7d-91c3-1cc96b532e18",
   "metadata": {},
   "outputs": [],
   "source": [
    "import argparse\n",
    "import math\n",
    "import multiprocessing\n",
    "import sys\n",
    "from datetime import datetime\n",
    "from pathlib import Path\n",
    "from pprint import pformat\n",
    "\n",
    "import numpy as np\n",
    "import pandas as pd\n",
    "import torch\n",
    "import torch.nn as nn\n",
    "import torch.nn.functional as F\n",
    "import torch_optimizer\n",
    "import yaml\n",
    "from easydict import EasyDict\n",
    "from pytorch_transformers import (\n",
    "    BertForSequenceClassification,\n",
    "    BertTokenizer,\n",
    "    DistilBertForSequenceClassification,\n",
    "    DistilBertTokenizer,\n",
    "    RobertaForSequenceClassification,\n",
    "    RobertaTokenizer,\n",
    ")\n",
    "from sklearn.model_selection import StratifiedKFold\n",
    "from torch.optim import Adam, AdamW\n",
    "from torch.optim.lr_scheduler import ReduceLROnPlateau\n",
    "from torch.utils.data import DataLoader, Dataset\n",
    "from tqdm import tqdm\n",
    "from transformers import (\n",
    "    AlbertForSequenceClassification,\n",
    "    AlbertTokenizer,\n",
    "    DebertaForSequenceClassification,\n",
    "    DebertaTokenizer,\n",
    "    SqueezeBertTokenizer,\n",
    "    SqueezeBertForSequenceClassification,\n",
    "    XLNetTokenizer,\n",
    "    XLNetForSequenceClassification,\n",
    ")\n",
    "\n",
    "from datasets import load_test_data, load_train_data, MyDataset, load_train_total_data\n",
    "from utils import SAM, AverageMeter, CustomLogger, FocalLoss, seed_everything\n",
    "\n",
    "from main import MyTrainer\n",
    "from collections import defaultdict\n",
    "import matplotlib.pyplot as plt\n",
    "import random"
   ]
  },
  {
   "cell_type": "code",
   "execution_count": 7,
   "id": "2e00624b-3420-49c0-a539-4fe74e2b2b28",
   "metadata": {},
   "outputs": [],
   "source": [
    "postfix = \"distilbert-base-uncased-focal-AdamW-lr1e-05_1\""
   ]
  },
  {
   "cell_type": "code",
   "execution_count": 8,
   "id": "7286ed54-7ff6-4062-b48d-d62db86f655b",
   "metadata": {},
   "outputs": [],
   "source": [
    "with open(\"config/distilbert-base-uncased-ver2.yaml\", \"r\") as f:\n",
    "    C = EasyDict(yaml.load(f, yaml.FullLoader))\n",
    "    C.result_dir = Path(C.result_dir)\n",
    "    C.dataset.dir = Path(C.dataset.dir)\n",
    "    seed_everything(C.seed, deterministic=False)"
   ]
  },
  {
   "cell_type": "code",
   "execution_count": 9,
   "id": "1bb77436-9a09-48ce-904a-ebebc559c39b",
   "metadata": {},
   "outputs": [
    {
     "data": {
      "text/plain": [
       "{'model': {'name': 'distilbert-base-uncased'},\n",
       " 'comment': None,\n",
       " 'result_dir': PosixPath('results/distilbert-base-uncased'),\n",
       " 'debug': False,\n",
       " 'seed': 20210425,\n",
       " 'train': {'SAM': False,\n",
       "  'folds': [3],\n",
       "  'checkpoints': ['results/distilbert-base-uncased/distilbert-base-uncased-focal-AdamW-lr1e-05-dsver2_3.pth'],\n",
       "  'loss': {'name': 'focal', 'gamma': 2},\n",
       "  'optimizer': {'name': 'AdamW'},\n",
       "  'finetune': {'do': True, 'step1_epochs': 2, 'step2_epochs': 4},\n",
       "  'max_epochs': 10,\n",
       "  'lr': 1e-05,\n",
       "  'scheduler': {'name': 'ReduceLROnPlateau',\n",
       "   'params': {'factor': 0.5, 'patience': 3, 'verbose': True}}},\n",
       " 'dataset': {'dir': PosixPath('data/ori'),\n",
       "  'ver': 2,\n",
       "  'batch_size': 35,\n",
       "  'num_workers': 8}}"
      ]
     },
     "execution_count": 9,
     "metadata": {},
     "output_type": "execute_result"
    }
   ],
   "source": [
    "C"
   ]
  },
  {
   "cell_type": "code",
   "execution_count": 10,
   "id": "9343465c-d52e-4368-a19e-339c66fa1e57",
   "metadata": {},
   "outputs": [],
   "source": [
    "deck1 = np.load(f\"results/distilbert-base-uncased/{postfix}-deck1.npz\")\n",
    "deck2 = np.load(f\"results/distilbert-base-uncased/{postfix}-deck2.npz\")"
   ]
  },
  {
   "cell_type": "code",
   "execution_count": 11,
   "id": "b0d9496d-bccb-4a44-8522-c06c5d93b313",
   "metadata": {},
   "outputs": [
    {
     "data": {
      "text/plain": [
       "['fcfeat', 'tlevel', 'fclevel', 'feat']"
      ]
     },
     "execution_count": 11,
     "metadata": {},
     "output_type": "execute_result"
    }
   ],
   "source": [
    "list(deck1.keys())"
   ]
  },
  {
   "cell_type": "code",
   "execution_count": 12,
   "id": "597fbd0a-8778-446a-8dfc-e3f9ecc8e83a",
   "metadata": {},
   "outputs": [
    {
     "data": {
      "text/plain": [
       "['fcfeat', 'fclevel', 'feat']"
      ]
     },
     "execution_count": 12,
     "metadata": {},
     "output_type": "execute_result"
    }
   ],
   "source": [
    "list(deck2.keys())"
   ]
  },
  {
   "cell_type": "code",
   "execution_count": 13,
   "id": "4d291fe7-50e6-41f3-8d48-cc6530928097",
   "metadata": {},
   "outputs": [],
   "source": [
    "feat1 = torch.from_numpy(deck1[\"feat\"])"
   ]
  },
  {
   "cell_type": "code",
   "execution_count": 14,
   "id": "9c7603f3-0e1f-406c-adfa-44fdd2583e1c",
   "metadata": {},
   "outputs": [],
   "source": [
    "feat2 = torch.from_numpy(deck2[\"feat\"])"
   ]
  },
  {
   "cell_type": "code",
   "execution_count": 23,
   "id": "cf89439e-9ae9-4847-938d-d6a6e862ff04",
   "metadata": {},
   "outputs": [
    {
     "data": {
      "text/plain": [
       "(torch.Size([472972, 768]), torch.Size([1418916, 768]))"
      ]
     },
     "execution_count": 23,
     "metadata": {},
     "output_type": "execute_result"
    }
   ],
   "source": [
    "feat1.shape, feat2.shape"
   ]
  },
  {
   "cell_type": "code",
   "execution_count": 48,
   "id": "8d441f5a-e1cb-4560-abb6-5a47e8cfc667",
   "metadata": {},
   "outputs": [],
   "source": [
    "class CosineSimilarity:\n",
    "    def __init__(self, A, eps=1e-8):\n",
    "        self.A = A\n",
    "        self.Astar = A.pow(2).sum(dim=1).sqrt_()\n",
    "        self.eps = eps\n",
    "\n",
    "    def __call__(self, B):\n",
    "        if B.dim() == 1:\n",
    "            B = B.unsqueeze(0)\n",
    "\n",
    "        Bstar = B.pow(2).sum(dim=1).sqrt_()\n",
    "        up = (self.A * B).sum(dim=1)\n",
    "        bottom = (self.Astar * Bstar).clamp(min=self.eps)\n",
    "        dist = up / bottom\n",
    "        return dist"
   ]
  },
  {
   "cell_type": "code",
   "execution_count": 55,
   "id": "8a92364d-5ba6-4af0-b5de-fd33423dfa0d",
   "metadata": {},
   "outputs": [],
   "source": [
    "cos = CosineSimilarity(feat1)"
   ]
  },
  {
   "cell_type": "code",
   "execution_count": 105,
   "id": "8d58ac49-43e1-4802-b441-640d94a100fd",
   "metadata": {},
   "outputs": [],
   "source": [
    "out = cos(feat1[472968])"
   ]
  },
  {
   "cell_type": "code",
   "execution_count": 106,
   "id": "8b2c7d99-1cbb-43f8-a34a-70b0f8c004fe",
   "metadata": {},
   "outputs": [
    {
     "data": {
      "text/plain": [
       "torch.return_types.topk(\n",
       "values=tensor([1.0000, 1.0000, 1.0000, 1.0000, 1.0000, 1.0000, 1.0000, 1.0000, 1.0000,\n",
       "        1.0000]),\n",
       "indices=tensor([472968, 374522, 410849,  70646, 129613, 245897, 259787,  59712,  84996,\n",
       "        258134]))"
      ]
     },
     "execution_count": 106,
     "metadata": {},
     "output_type": "execute_result"
    }
   ],
   "source": [
    "out.topk(10)"
   ]
  },
  {
   "cell_type": "code",
   "execution_count": 103,
   "id": "0c63ce17-4bbb-457c-8613-da0d400817cd",
   "metadata": {},
   "outputs": [
    {
     "data": {
      "text/plain": [
       "2"
      ]
     },
     "execution_count": 103,
     "metadata": {},
     "output_type": "execute_result"
    }
   ],
   "source": [
    "tlevels[376681]"
   ]
  },
  {
   "cell_type": "code",
   "execution_count": 63,
   "id": "0c75c2ec-7227-4756-988d-e3d04750f440",
   "metadata": {},
   "outputs": [],
   "source": [
    "tlevels = deck1[\"tlevel\"]"
   ]
  },
  {
   "cell_type": "code",
   "execution_count": 104,
   "id": "d2bd78f2-1df8-4661-adc6-8823d5f94f4f",
   "metadata": {},
   "outputs": [
    {
     "data": {
      "text/plain": [
       "(array([     4,      5,     10, ..., 472953, 472955, 472968]),)"
      ]
     },
     "execution_count": 104,
     "metadata": {},
     "output_type": "execute_result"
    }
   ],
   "source": [
    "(tlevels == 1).nonzero()"
   ]
  },
  {
   "cell_type": "code",
   "execution_count": null,
   "id": "648196cf-2b92-48da-8b23-21b5dda49eb2",
   "metadata": {},
   "outputs": [],
   "source": []
  }
 ],
 "metadata": {
  "kernelspec": {
   "display_name": "torch",
   "language": "python",
   "name": "torch"
  },
  "language_info": {
   "codemirror_mode": {
    "name": "ipython",
    "version": 3
   },
   "file_extension": ".py",
   "mimetype": "text/x-python",
   "name": "python",
   "nbconvert_exporter": "python",
   "pygments_lexer": "ipython3",
   "version": "3.7.10"
  }
 },
 "nbformat": 4,
 "nbformat_minor": 5
}
